{
  "cells": [
    {
      "cell_type": "markdown",
      "metadata": {
        "id": "view-in-github",
        "colab_type": "text"
      },
      "source": [
        "<a href=\"https://colab.research.google.com/github/TechWhizGenius/Teja_INFO5731_Fall2024/blob/main/Mandaloju_Teja_Exercise_01.ipynb\" target=\"_parent\"><img src=\"https://colab.research.google.com/assets/colab-badge.svg\" alt=\"Open In Colab\"/></a>"
      ]
    },
    {
      "cell_type": "markdown",
      "metadata": {
        "id": "DymRJbxDBCnf"
      },
      "source": [
        "# **INFO5731 Exercise 1**\n",
        "\n",
        "This exercise covers a variety of fundamental concepts in Python and is designed to help students improve their coding skills and problem-solving abilities.\n",
        "\n",
        "**Expectations**:\n",
        "*   Students are expected to complete the exercise during lecture period to meet the active participation criteria of the course.\n",
        "*   Use the provided .*ipynb* document to write your code & respond to the questions. Avoid generating a new file.\n",
        "*   Write complete answers and run all the cells before submission.\n",
        "*   Make sure the submission is \"clean\"; *i.e.*, no unnecessary code cells.\n",
        "*   Once finished, allow shared rights from top right corner (*see Canvas for details*).\n",
        "\n",
        "**Total points**: 40\n",
        "\n",
        "**Deadline**: This in-class exercise is due at the end of the day tomorrow, at 11:59 PM.\n",
        "\n",
        "**Late submissions cannot be considered, and no requests will be answered. Manage your time accordingly.**\n"
      ]
    },
    {
      "cell_type": "markdown",
      "source": [
        "## Question 1\n",
        "Write a Python program that  prompts the user to input the length and width of a rectangle, and then calculates and displays the area of the rectangle."
      ],
      "metadata": {
        "id": "FBKvD6O_TY6e"
      }
    },
    {
      "cell_type": "code",
      "source": [
        "length = int(input('Input the length rectangle: '))\n",
        "width = int(input('Input the width rectangle: '))\n",
        "area = length*width\n",
        "print('The area of the rectangle is',area)\n"
      ],
      "metadata": {
        "colab": {
          "base_uri": "https://localhost:8080/"
        },
        "id": "IRqgyXGPZTsp",
        "outputId": "017fc54f-465b-41c9-ce8c-5506b922973a"
      },
      "execution_count": 83,
      "outputs": [
        {
          "output_type": "stream",
          "name": "stdout",
          "text": [
            "Input the length rectangle: 3\n",
            "Input the width rectangle: 7\n",
            "The area of the rectangle is 21\n"
          ]
        }
      ]
    },
    {
      "cell_type": "markdown",
      "source": [
        "## Question 2\n",
        "Create a Python program that interactively takes two numerical inputs from the user and swaps their values without utilizing an extra variable."
      ],
      "metadata": {
        "id": "E9RqrlwdTfvl"
      }
    },
    {
      "cell_type": "code",
      "source": [
        "# write your answer here\n",
        "a = input('Input the first number: ')\n",
        "b = input('Input the second number: ')\n",
        "a,b = b,a\n",
        "print('The first number is',a)\n",
        "print('The second number is',b)"
      ],
      "metadata": {
        "id": "4XvRknixTh1g",
        "colab": {
          "base_uri": "https://localhost:8080/"
        },
        "outputId": "290e8b3d-1fd5-4226-c389-072a9f68809f"
      },
      "execution_count": 84,
      "outputs": [
        {
          "output_type": "stream",
          "name": "stdout",
          "text": [
            "Input the first number: 4\n",
            "Input the second number: 9\n",
            "The first number is 9\n",
            "The second number is 4\n"
          ]
        }
      ]
    },
    {
      "cell_type": "markdown",
      "metadata": {
        "id": "03jb4GZsBkBS"
      },
      "source": [
        "## Question 3\n",
        "Write a Python script to determine and print the length of a user-input string."
      ]
    },
    {
      "cell_type": "code",
      "execution_count": 85,
      "metadata": {
        "id": "YaGLbSHHB8Ej",
        "colab": {
          "base_uri": "https://localhost:8080/"
        },
        "outputId": "04827434-67f4-4d9a-8509-ba60ef9a4865"
      },
      "outputs": [
        {
          "output_type": "stream",
          "name": "stdout",
          "text": [
            "Input a string: Computational\n",
            "The length of the string provided is 13\n"
          ]
        }
      ],
      "source": [
        "# write your answer here\n",
        "mystr = input('Input a string: ')\n",
        "str_len = len(mystr)\n",
        "print('The length of the string provided is', str_len)\n",
        "\n"
      ]
    },
    {
      "cell_type": "markdown",
      "metadata": {
        "id": "jJDe71iLB616"
      },
      "source": [
        "## Question 4\n",
        "Construct a Python program that counts and displays the occurrences of each character in a given string.\n",
        "\n",
        "Sample String: 'openai.ai',\n",
        "\n",
        "Expected Result: {'a': 2, 'i': 2, '.': 1, 'o': 1, 'p': 1, 'e': 1, 'n': 1}"
      ]
    },
    {
      "cell_type": "code",
      "execution_count": 86,
      "metadata": {
        "id": "MtKskTzbCLaU",
        "colab": {
          "base_uri": "https://localhost:8080/"
        },
        "outputId": "8f367834-13c6-4212-fb9c-3b05682a4b7e"
      },
      "outputs": [
        {
          "output_type": "stream",
          "name": "stdout",
          "text": [
            "Input the string: openai.ai\n",
            "{'o': 1, 'p': 1, 'e': 1, 'n': 1, 'a': 2, 'i': 2, '.': 1}\n"
          ]
        }
      ],
      "source": [
        "# write your answer here\n",
        "str01 = input('Input the string: ')\n",
        "dict02 = {}\n",
        "for a in str01:\n",
        "  count = str01.count(a)\n",
        "  dict01 = {a:count}\n",
        "  dict02.update(dict01)\n",
        "print(dict02)\n",
        "\n"
      ]
    },
    {
      "cell_type": "markdown",
      "metadata": {
        "id": "55W9AMdXCSpV"
      },
      "source": [
        "## Question 5\n",
        "Design a Python code to calculate the sum of all elements in a user-provided list."
      ]
    },
    {
      "cell_type": "code",
      "execution_count": 87,
      "metadata": {
        "id": "I57NXsauCec2",
        "colab": {
          "base_uri": "https://localhost:8080/"
        },
        "outputId": "06c3fce2-67a0-4ba2-e729-2568cce61fe6"
      },
      "outputs": [
        {
          "output_type": "stream",
          "name": "stdout",
          "text": [
            "Input the number of elements in the list: 5\n",
            "Input the element: 1\n",
            "Input the element: 2\n",
            "Input the element: 3\n",
            "Input the element: 4\n",
            "Input the element: 5\n",
            "The user-provided list is  [1, 2, 3, 4, 5]\n",
            "The sum of all the elements in the list provided is  15\n"
          ]
        }
      ],
      "source": [
        "# write your answer here\n",
        "n = int(input('Input the number of elements in the list: '))\n",
        "list01 = []\n",
        "for i in range(n):\n",
        "  a = int(input('Input the element: '))\n",
        "  list01.append(a)\n",
        "print('The user-provided list is ', list01)\n",
        "\n",
        "#print(type(list01))\n",
        "\n",
        "sum = 0\n",
        "for i in list01:\n",
        "  sum = sum + int(i)\n",
        "print('The sum of all the elements in the list provided is ', sum)\n"
      ]
    },
    {
      "cell_type": "markdown",
      "metadata": {
        "id": "4ulBZ6yhCi9F"
      },
      "source": [
        "## Question 6\n",
        "Write a Python program that modifies a given string by replacing all occurrences of its first character with '$', excluding the first character itself.\n",
        "\n",
        "\n",
        "Sample String : 'restart‘\n",
        "Expected Result : 'resta\\$t'"
      ]
    },
    {
      "cell_type": "code",
      "execution_count": 89,
      "metadata": {
        "id": "Fj0XhwbBCw2o",
        "colab": {
          "base_uri": "https://localhost:8080/"
        },
        "outputId": "b884a565-ecfd-4d23-fed0-acc49790616b"
      },
      "outputs": [
        {
          "output_type": "stream",
          "name": "stdout",
          "text": [
            "Input the string: engineering\n",
            "engin$$ring\n"
          ]
        }
      ],
      "source": [
        "# write your answer here\n",
        "str02 = input('Input the string: ')\n",
        "str03 = str02[0]\n",
        "str04 = str02.replace(str03,'$')\n",
        "str05 = str03 + str04[1:]\n",
        "print(str05)"
      ]
    },
    {
      "cell_type": "markdown",
      "source": [
        "## Question 7\n",
        "Write a Python program using a while loop to compute the factorial of a user-supplied number."
      ],
      "metadata": {
        "id": "qVXA3q7ET5JI"
      }
    },
    {
      "cell_type": "code",
      "source": [
        "# write your answer here\n",
        "n = int(input('Input the number: '))\n",
        "f = 1\n",
        "while n > 0:\n",
        "  f = f * n\n",
        "  n = n - 1\n",
        "print('The factorial of the number provided is ', f)"
      ],
      "metadata": {
        "id": "Lbt7R6UkT7BA",
        "colab": {
          "base_uri": "https://localhost:8080/"
        },
        "outputId": "2ed561e9-c6b7-4313-b7e5-f320627a389f"
      },
      "execution_count": 92,
      "outputs": [
        {
          "output_type": "stream",
          "name": "stdout",
          "text": [
            "Input the number: 5\n",
            "The factorial of the number provided is  120\n"
          ]
        }
      ]
    },
    {
      "cell_type": "markdown",
      "source": [
        "## Question 8\n",
        "Create a program that accepts a list of numbers as input and outputs a new list containing only the even numbers."
      ],
      "metadata": {
        "id": "6YfbzXMNT--R"
      }
    },
    {
      "cell_type": "code",
      "source": [
        "# write your answer here\n",
        "m = int(input('Input the number of elements in the list: '))\n",
        "list03 = []\n",
        "for i in range(m):\n",
        "  a = int(input('Input the element: '))\n",
        "  list03.append(a)\n",
        "print('The user-provided list is ', list03)\n",
        "\n",
        "list04 = []\n",
        "for i in list03:\n",
        "  if i%2 == 0:\n",
        "    list04.append(i)\n",
        "print('The new list containing only the even numbers is ', list04)"
      ],
      "metadata": {
        "id": "54q7wMQPUAKu",
        "colab": {
          "base_uri": "https://localhost:8080/"
        },
        "outputId": "6a3a8391-fdf3-4468-86d9-3e0c43c63280"
      },
      "execution_count": 93,
      "outputs": [
        {
          "output_type": "stream",
          "name": "stdout",
          "text": [
            "Input the number of elements in the list: 5\n",
            "Input the element: 1\n",
            "Input the element: 4\n",
            "Input the element: 6\n",
            "Input the element: 3\n",
            "Input the element: 9\n",
            "The user-provided list is  [1, 4, 6, 3, 9]\n",
            "The new list containing only the even numbers is  [4, 6]\n"
          ]
        }
      ]
    },
    {
      "cell_type": "markdown",
      "metadata": {
        "id": "_bIP7s1MCzue"
      },
      "source": [
        "## Question 9\n",
        "Design a Python function to check if a number is prime.\n"
      ]
    },
    {
      "cell_type": "code",
      "execution_count": 110,
      "metadata": {
        "id": "w79QilHXD3Mg",
        "colab": {
          "base_uri": "https://localhost:8080/"
        },
        "outputId": "7f7e8c9e-2c07-49fc-86ad-27d135c6a23a"
      },
      "outputs": [
        {
          "output_type": "stream",
          "name": "stdout",
          "text": [
            "Input the number: 17\n",
            "17 is a prime number\n"
          ]
        }
      ],
      "source": [
        "def prime(x):\n",
        "    if x <= 1:\n",
        "        print(x, 'is not a prime number')\n",
        "        return\n",
        "\n",
        "    if x <= 3:\n",
        "        print(x, 'is a prime number')\n",
        "        return\n",
        "\n",
        "    if x % 2 == 0 or x % 3 == 0:\n",
        "        print(x, 'is not a prime number')\n",
        "        return\n",
        "\n",
        "    i = 5\n",
        "    while i * i <= x:\n",
        "        if x % i == 0 or x % (i + 2) == 0:\n",
        "            print(x, 'is not a prime number')\n",
        "            return\n",
        "        i += 6\n",
        "\n",
        "    print(x, 'is a prime number')\n",
        "\n",
        "# Input from user\n",
        "x = int(input('Input the number: '))\n",
        "prime(x)\n"
      ]
    },
    {
      "cell_type": "markdown",
      "metadata": {
        "id": "xCa2bK9aD4Q3"
      },
      "source": [
        "## Question 10\n",
        "Write a Python program to concatenate following dictionaries to create a new one.\n",
        "\n",
        "Sample Dictionary : dic1={1:10, 2:20}, dic2={3:30, 4:40}, dic3={5:50,6:60},\n",
        "\n",
        "Expected Result : {1: 10, 2: 20, 3: 30, 4: 40, 5: 50, 6: 60}\n"
      ]
    },
    {
      "cell_type": "code",
      "execution_count": 111,
      "metadata": {
        "id": "_z4aLqAbEET1",
        "colab": {
          "base_uri": "https://localhost:8080/"
        },
        "outputId": "c2aba594-64e2-4ccd-89ea-ee944afe23d7"
      },
      "outputs": [
        {
          "output_type": "stream",
          "name": "stdout",
          "text": [
            "{1: 10, 2: 20, 3: 30, 4: 40, 5: 50, 6: 60}\n"
          ]
        }
      ],
      "source": [
        "# write your answer here\n",
        "dic1 = {1:10, 2:20}\n",
        "dic2 = {3:30, 4:40}\n",
        "dic3 = {5:50, 6:60}\n",
        "dic4 = {}\n",
        "for a in (dic1, dic2, dic3):\n",
        "  dic4.update(a)\n",
        "print(dic4)"
      ]
    },
    {
      "cell_type": "markdown",
      "source": [
        "## Question 11\n",
        "Design a Python function that takes a tuple of integers as input and returns the largest and smallest elements."
      ],
      "metadata": {
        "id": "bkyZ2xSZUOst"
      }
    },
    {
      "cell_type": "code",
      "source": [
        "# write your answer here\n",
        "y = int(input('Input the number of elements in the tuple: '))\n",
        "tuple01 = ()\n",
        "for i in range(y):\n",
        "  a = int(input('Input the element: '))\n",
        "  tuple01 = tuple01 + (a,)\n",
        "print('The user-provided tuple is ', tuple01)\n",
        "\n",
        "def largest_smallest(tuple01):\n",
        "  return max(tuple01), min(tuple01)\n",
        "\n",
        "largest, smallest = largest_smallest(tuple01)\n",
        "\n",
        "\n",
        "print('The largest element in the tuple is ', largest)\n",
        "print('The smallest element in the tuple is ', smallest)"
      ],
      "metadata": {
        "id": "3FdLRBKOUQEd",
        "colab": {
          "base_uri": "https://localhost:8080/"
        },
        "outputId": "cca30929-0807-4dc6-f77e-f3b5d8e9cda4"
      },
      "execution_count": 112,
      "outputs": [
        {
          "output_type": "stream",
          "name": "stdout",
          "text": [
            "Input the number of elements in the tuple: 6\n",
            "Input the element: 2\n",
            "Input the element: 6\n",
            "Input the element: 9\n",
            "Input the element: 3\n",
            "Input the element: 1\n",
            "Input the element: 8\n",
            "The user-provided tuple is  (2, 6, 9, 3, 1, 8)\n",
            "The largest element in the tuple is  9\n",
            "The smallest element in the tuple is  1\n"
          ]
        }
      ]
    },
    {
      "cell_type": "markdown",
      "source": [
        "## Question 12\n",
        "Write a Python program that counts the frequency of each character in a given string and stores it in a dictionary."
      ],
      "metadata": {
        "id": "O0TVi3gKUTpp"
      }
    },
    {
      "cell_type": "code",
      "source": [
        "# write your answer here\n",
        "str05 = input('Input the string: ')\n",
        "dict03 = {}\n",
        "for a in str05:\n",
        "  count = str05.count(a)\n",
        "  dict04 = {a:count}\n",
        "  dict03.update(dict04)\n",
        "\n",
        "\n",
        "print(dict03)\n"
      ],
      "metadata": {
        "id": "lAtfSfZXUU-h",
        "colab": {
          "base_uri": "https://localhost:8080/"
        },
        "outputId": "5ae0fc71-1e16-4810-9d0f-bc6accf2b50c"
      },
      "execution_count": 113,
      "outputs": [
        {
          "output_type": "stream",
          "name": "stdout",
          "text": [
            "Input the string: engineering\n",
            "{'e': 3, 'n': 3, 'g': 2, 'i': 2, 'r': 1}\n"
          ]
        }
      ]
    },
    {
      "cell_type": "markdown",
      "metadata": {
        "id": "0v48Vqa7FrQh"
      },
      "source": [
        "## Question 13\n",
        "Implement a Python script to identify duplicate elements in a provided array of integers. Return -1 if there are no duplicates."
      ]
    },
    {
      "cell_type": "code",
      "execution_count": 114,
      "metadata": {
        "id": "7WEmgq-DF2P1",
        "colab": {
          "base_uri": "https://localhost:8080/"
        },
        "outputId": "daea2e41-2089-447d-ba12-231fbdbdcdf6"
      },
      "outputs": [
        {
          "output_type": "stream",
          "name": "stdout",
          "text": [
            "Input the number of elements in the list: 5\n",
            "Input the element: 1\n",
            "Input the element: 2\n",
            "Input the element: 1\n",
            "Input the element: 3\n",
            "Input the element: 3\n",
            "The user-provided list is  [1, 2, 1, 3, 3]\n",
            "The duplicate elements in the list are  [1, 1, 3, 3]\n"
          ]
        }
      ],
      "source": [
        "# write your answer here\n",
        "m = int(input('Input the number of elements in the list: '))\n",
        "list05 = []\n",
        "for i in range(m):\n",
        "  a = int(input('Input the element: '))\n",
        "  list05.append(a)\n",
        "print('The user-provided list is ', list05)\n",
        "\n",
        "list06 = []\n",
        "for i in list05:\n",
        "  if list05.count(i) > 1:\n",
        "    list06.append(i)\n",
        "if len(list06) == 0:\n",
        "  print(-1)\n",
        "else:\n",
        "  print('The duplicate elements in the list are ', list06)\n",
        "\n",
        "\n"
      ]
    },
    {
      "cell_type": "markdown",
      "metadata": {
        "id": "vD5PYLMuGga_"
      },
      "source": [
        "## Question 14\n",
        "Write a Python script to find the common elements between two lists."
      ]
    },
    {
      "cell_type": "code",
      "execution_count": 115,
      "metadata": {
        "id": "t0D5kdJUGjjw",
        "colab": {
          "base_uri": "https://localhost:8080/"
        },
        "outputId": "7b8d8fee-8441-41c3-c610-cbad686d8e66"
      },
      "outputs": [
        {
          "output_type": "stream",
          "name": "stdout",
          "text": [
            "Input the number of elements in the first list: 4\n",
            "Input the element: 4\n",
            "Input the element: 5\n",
            "Input the element: 2\n",
            "Input the element: 1\n",
            "The first list is  [4, 5, 2, 1]\n",
            "Input the number of elements in the second list: 7\n",
            "Input the element: 1\n",
            "Input the element: 2\n",
            "Input the element: 3\n",
            "Input the element: 67\n",
            "Input the element: 3\n",
            "Input the element: 2\n",
            "Input the element: 5\n",
            "The second list is  [1, 2, 3, 67, 3, 2, 5]\n",
            "The common elements between the two lists are  [5, 2, 1]\n"
          ]
        }
      ],
      "source": [
        "# write your answer here\n",
        "a = int(input('Input the number of elements in the first list: '))\n",
        "list07 = []\n",
        "for i in range(a):\n",
        "  b = int(input('Input the element: '))\n",
        "  list07.append(b)\n",
        "print('The first list is ', list07)\n",
        "\n",
        "b = int(input('Input the number of elements in the second list: '))\n",
        "list08 = []\n",
        "for i in range(b):\n",
        "  c = int(input('Input the element: '))\n",
        "  list08.append(c)\n",
        "print('The second list is ', list08)\n",
        "\n",
        "list09 = []\n",
        "for i in list07:\n",
        "  if i in list08:\n",
        "    list09.append(i)\n",
        "print('The common elements between the two lists are ', list09)\n"
      ]
    },
    {
      "cell_type": "markdown",
      "metadata": {
        "id": "uHkd-y5VhVWC"
      },
      "source": [
        "## Question 15\n",
        "Write a Python program to randomly divide the students in this class into maximum of eight groups for term projects, each group should have at least 4 students but no more than 6 students (including 6).\n",
        "\n",
        "Here is the students list:\n",
        "\n",
        "student_list_spring_2024=[rb0846,\n",
        "ac1964,\n",
        "hc0612,\n",
        "md0912,\n",
        "ad1198,\n",
        "md0894,\n",
        "md0825,\n",
        "vg0598,\n",
        "vg0433,\n",
        "mh1068,\n",
        "yj0173,\n",
        "pk0553,\n",
        "tk0411,\n",
        "srk0204,\n",
        "sk2922,\n",
        "sk2936,\n",
        "mk1302,\n",
        "mk1317,\n",
        "tk0412,\n",
        "vk0656,\n",
        "sm2985,\n",
        "mm2372,\n",
        "un0045,\n",
        "an0892,\n",
        "sn0913,\n",
        "gp0252,\n",
        "ap1484,\n",
        "mr1765,\n",
        "sr1385,\n",
        "sr1335,\n",
        "hs0665,\n",
        "ms2060,\n",
        "gt0217,\n",
        "nt0385,\n",
        "tv0186,\n",
        "sv1394,\n",
        "sv1752,\n",
        "sv1555,\n",
        "sy0594\n",
        "]\n"
      ]
    },
    {
      "cell_type": "code",
      "execution_count": 116,
      "metadata": {
        "id": "3iGbmcOBhTwy",
        "colab": {
          "base_uri": "https://localhost:8080/"
        },
        "outputId": "fd7db21b-d663-405c-b403-14d83d8ad7d2"
      },
      "outputs": [
        {
          "output_type": "stream",
          "name": "stdout",
          "text": [
            "['mh1068', 'hc0612', 'pk0553', 'mm2372', 'sv1555', 'mk1302', 'md0825', 'yj0173', 'ap1484', 'md0912', 'tk0411', 'nt0385', 'sn0913', 'sv1752', 'gp0252', 'tv0186', 'an0892', 'sk2936', 'md0894', 'gt0217', 'sm2985', 'hs0665', 'sk2922', 'mk1317', 'ms2060', 'tk0412', 'rb0846', 'sy0594', 'sv1394', 'vg0433', 'sr1385', 'sr1335', 'vk0656', 'mr1765', 'srk0204', 'vg0598', 'ad1198', 'un0045', 'ac1964']\n",
            "39\n",
            "Group 1: ['mh1068', 'ap1484', 'an0892', 'ms2060', 'vk0656']\n",
            "Group 2: ['hc0612', 'md0912', 'sk2936', 'tk0412', 'mr1765']\n",
            "Group 3: ['pk0553', 'tk0411', 'md0894', 'rb0846', 'srk0204']\n",
            "Group 4: ['mm2372', 'nt0385', 'gt0217', 'sy0594', 'vg0598']\n",
            "Group 5: ['sv1555', 'sn0913', 'sm2985', 'sv1394', 'ad1198']\n",
            "Group 6: ['mk1302', 'sv1752', 'hs0665', 'vg0433', 'un0045']\n",
            "Group 7: ['md0825', 'gp0252', 'sk2922', 'sr1385', 'ac1964']\n",
            "Group 8: ['yj0173', 'tv0186', 'mk1317', 'sr1335']\n"
          ]
        }
      ],
      "source": [
        "# write your answer here\n",
        "student_list_spring_2024= ['rb0846', 'ac1964', 'hc0612', 'md0912', 'ad1198', 'md0894', 'md0825', 'vg0598', 'vg0433', 'mh1068', 'yj0173', 'pk0553', 'tk0411', 'srk0204', 'sk2922', 'sk2936', 'mk1302', 'mk1317', 'tk0412', 'vk0656', 'sm2985', 'mm2372', 'un0045', 'an0892', 'sn0913', 'gp0252', 'ap1484', 'mr1765', 'sr1385', 'sr1335', 'hs0665', 'ms2060', 'gt0217', 'nt0385', 'tv0186', 'sv1394', 'sv1752', 'sv1555', 'sy0594']\n",
        "import random\n",
        "random.shuffle(student_list_spring_2024)\n",
        "print(student_list_spring_2024)\n",
        "print(len(student_list_spring_2024))\n",
        "\n",
        "\n",
        "num_groups = 8\n",
        "group_size_min = 4\n",
        "group_size_max = 6\n",
        "\n",
        "groups = [[] for _ in range(num_groups)]\n",
        "\n",
        "for i in range(len(student_list_spring_2024)):\n",
        "    group_index = i % num_groups\n",
        "    groups[group_index].append(student_list_spring_2024[i])\n",
        "\n",
        "for group in groups:\n",
        "    if len(group) < group_size_min:\n",
        "        # If a group has fewer than 4 students, move students from larger groups\n",
        "        while len(group) < group_size_min:\n",
        "            for other_group in groups:\n",
        "                if len(other_group) > group_size_max:\n",
        "                    group.append(other_group.pop())\n",
        "                    break\n",
        "\n",
        "for i, group in enumerate(groups, 1):\n",
        "    print(f\"Group {i}: {group}\")\n",
        "\n"
      ]
    },
    {
      "cell_type": "markdown",
      "metadata": {
        "id": "fmZ9vX20Qs3d"
      },
      "source": [
        "## Question 16\n",
        "Create a program that takes a positive integer 'n' as input and prints the count of even numbers from 1 to 'n'. Optimize the loop using the continue statement."
      ]
    },
    {
      "cell_type": "code",
      "execution_count": 117,
      "metadata": {
        "id": "W8Jw6sWMQs3d",
        "colab": {
          "base_uri": "https://localhost:8080/"
        },
        "outputId": "e366ffaa-97a8-4d4f-96aa-6ed45a7118a9"
      },
      "outputs": [
        {
          "output_type": "stream",
          "name": "stdout",
          "text": [
            "Input the number: 8\n",
            "The count of even numbers from 1 to 8 is 4\n"
          ]
        }
      ],
      "source": [
        "# write your answer here\n",
        "n = int(input('Input the number: '))\n",
        "count = 0\n",
        "for i in range(1,n+1):\n",
        "  if i%2 == 0:\n",
        "    count = count + 1\n",
        "    continue\n",
        "print(f\"The count of even numbers from 1 to {n} is {count}\")\n"
      ]
    },
    {
      "cell_type": "markdown",
      "metadata": {
        "id": "hvq4APMhQs3d"
      },
      "source": [
        "## Question 17\n",
        "Develop a Python function called 'count_vowels' that takes a string as input and returns the count of vowels (both lowercase and uppercase) present in the string, ignoring spaces and non-alphabetic characters."
      ]
    },
    {
      "cell_type": "code",
      "execution_count": 118,
      "metadata": {
        "id": "ZnoxhSglQs3d",
        "colab": {
          "base_uri": "https://localhost:8080/"
        },
        "outputId": "3d2ac475-63fb-4bfc-c439-1cecdfeba891"
      },
      "outputs": [
        {
          "output_type": "stream",
          "name": "stdout",
          "text": [
            "Input the string: Machine\n",
            "The number of vowels in the string provided is  3\n"
          ]
        }
      ],
      "source": [
        "# write your answer here\n",
        "\n",
        "def count_vowels(user_string):\n",
        "  vowels = 'aeiouAEIOU'\n",
        "  count = 0\n",
        "  for i in user_string:\n",
        "    if i in vowels:\n",
        "      count = count + 1\n",
        "  return count\n",
        "\n",
        "user_string = input('Input the string: ')\n",
        "print('The number of vowels in the string provided is ', count_vowels(user_string))\n"
      ]
    },
    {
      "cell_type": "markdown",
      "source": [
        "## Question 18\n",
        "Create a custom exception named ValueTooSmallError in Python. Write a program that takes user input for an age, and if the entered age is less than 18, raise the ValueTooSmallError with an appropriate error message."
      ],
      "metadata": {
        "id": "55FWoSJPVVM6"
      }
    },
    {
      "cell_type": "code",
      "source": [
        "# Define the custom exception\n",
        "class ValueTooSmallError(Exception):\n",
        "    \"\"\"Raised when the input value is too small.\"\"\"\n",
        "    def __init__(self, message=\"Age must be 18 or older.\"):\n",
        "        self.message = message\n",
        "        super().__init__(self.message)\n",
        "\n",
        "def check_age(age):\n",
        "    if age < 18:\n",
        "        raise ValueTooSmallError(f\"Entered age {age} is too small. Age must be 18 or older.\")\n",
        "\n",
        "try:\n",
        "    age = int(input(\"Enter your age: \"))\n",
        "    check_age(age)\n",
        "    print(\"Age is valid.\")\n",
        "except ValueTooSmallError as e:\n",
        "    print(f\"Error: {e}\")\n",
        "except ValueError:\n",
        "    print(\"Please enter a valid integer for age.\")\n"
      ],
      "metadata": {
        "id": "hwtr1wZmVX5A",
        "colab": {
          "base_uri": "https://localhost:8080/"
        },
        "outputId": "24ab14e5-ca58-4c34-97e3-eb6fc45cc7af"
      },
      "execution_count": 119,
      "outputs": [
        {
          "output_type": "stream",
          "name": "stdout",
          "text": [
            "Enter your age: 7\n",
            "Error: Entered age 7 is too small. Age must be 18 or older.\n"
          ]
        }
      ]
    },
    {
      "cell_type": "markdown",
      "source": [
        "## Question 19\n",
        "Develop a script that reverses a given string without using built-in reverse functions."
      ],
      "metadata": {
        "id": "Q9ecagcaVazW"
      }
    },
    {
      "cell_type": "code",
      "source": [
        "# write your answer here\n",
        "str06 = input('Input the string: ')\n",
        "str07 = ''\n",
        "for i in str06:\n",
        "  str07 = i + str07\n",
        "print(str07)"
      ],
      "metadata": {
        "id": "gycgckoAVZjR",
        "colab": {
          "base_uri": "https://localhost:8080/"
        },
        "outputId": "d01e23a5-977b-4e06-c068-9b5545edef86"
      },
      "execution_count": 120,
      "outputs": [
        {
          "output_type": "stream",
          "name": "stdout",
          "text": [
            "Input the string: Haihua\n",
            "auhiaH\n"
          ]
        }
      ]
    },
    {
      "cell_type": "markdown",
      "source": [
        "## Question 20\n",
        "Implement a Python script to generate a random password of a specified length."
      ],
      "metadata": {
        "id": "ZFG6RibifMLu"
      }
    },
    {
      "cell_type": "code",
      "source": [
        "# write your answer here\n",
        "import random\n",
        "import string\n",
        "\n",
        "def generate_password(length):\n",
        "    characters = string.ascii_letters + string.digits + string.punctuation\n",
        "    password = ''.join(random.choice(characters) for i in range(length))\n",
        "    return password\n",
        "\n",
        "\n",
        "password_length =  int(input('Input the length of the desired password: '))\n",
        "password = generate_password(password_length)\n",
        "print(f\"Generated Password: {password}\")\n",
        "\n"
      ],
      "metadata": {
        "id": "BFVrkEi9fNiD",
        "colab": {
          "base_uri": "https://localhost:8080/"
        },
        "outputId": "8cd3f570-5fa3-46dd-db4e-067a500a7365"
      },
      "execution_count": 121,
      "outputs": [
        {
          "output_type": "stream",
          "name": "stdout",
          "text": [
            "Input the length of the desired password: 10\n",
            "Generated Password: 0gYyIijm^)\n"
          ]
        }
      ]
    },
    {
      "cell_type": "markdown",
      "source": [
        "# Try these questions"
      ],
      "metadata": {
        "id": "6SmvS7nSfbj8"
      }
    },
    {
      "cell_type": "markdown",
      "source": [
        "(21) Define a base class called 'Vehicle' with attributes make and model. Create a derived class Car that inherits from Vehicle and has an additional attribute 'num_doors'. Demonstrate an example of creating an instance of the 'Car' class and accessing its attributes."
      ],
      "metadata": {
        "id": "cboAr5pEWUf5"
      }
    },
    {
      "cell_type": "code",
      "source": [
        "# write your answer here\n",
        "class Vehicle:\n",
        "  def __init__(self, make, model):\n",
        "    self.make = make\n",
        "    self.model = model\n",
        "\n",
        "class Car(Vehicle):\n",
        "  def __init__(self, make, model, num_doors):\n",
        "    super().__init__(make, model)\n",
        "    self.num_doors = num_doors\n",
        "\n",
        "car = Car('Toyota', 'Camry', 4)\n",
        "\n",
        "print(car.make)\n",
        "print(car.model)\n",
        "print(car.num_doors)\n"
      ],
      "metadata": {
        "id": "phs9gciMWWAW",
        "colab": {
          "base_uri": "https://localhost:8080/"
        },
        "outputId": "e952c328-0620-424f-92db-ca7d031a4bae"
      },
      "execution_count": 122,
      "outputs": [
        {
          "output_type": "stream",
          "name": "stdout",
          "text": [
            "Toyota\n",
            "Camry\n",
            "4\n"
          ]
        }
      ]
    },
    {
      "cell_type": "markdown",
      "source": [
        "(22) Create a class called 'Shape' with a method calculate_area(). Implement two derived classes 'Circle' and 'Rectangle' that inherit from Shape and override the calculate_area() method. Demonstrate polymorphism by creating instances of both derived classes and calling the calculate_area() method."
      ],
      "metadata": {
        "id": "J8HHefNtePwd"
      }
    },
    {
      "cell_type": "code",
      "source": [
        "# write your answer here\n",
        "\n",
        "class Shape:\n",
        "  def calculate_area(self):\n",
        "    pass\n",
        "\n",
        "class Circle(Shape):\n",
        "  def __init__(self, radius):\n",
        "    self.radius = radius\n",
        "\n",
        "  def calculate_area(self):\n",
        "    return 3.14 * self.radius\n",
        "\n",
        "class Rectangle(Shape):\n",
        "  def __init__(self, length, width):\n",
        "    self.length = length\n",
        "    self.width = width\n",
        "\n",
        "  def calculate_area(self):\n",
        "    return self.length * self.width\n",
        "\n",
        "circle = Circle(5)\n",
        "rectangle = Rectangle(4, 6)\n",
        "\n",
        "print(circle.calculate_area())\n",
        "print(rectangle.calculate_area())\n"
      ],
      "metadata": {
        "id": "btnMmUZDeRhS",
        "colab": {
          "base_uri": "https://localhost:8080/"
        },
        "outputId": "6946f4b4-f225-440c-9a70-2aa7bd7f7ab5"
      },
      "execution_count": 123,
      "outputs": [
        {
          "output_type": "stream",
          "name": "stdout",
          "text": [
            "15.700000000000001\n",
            "24\n"
          ]
        }
      ]
    },
    {
      "cell_type": "markdown",
      "source": [
        "(23) Write a Python program that prompts the user to enter two numbers and perform a division operation. Handle exceptions for both zero division and invalid input (non-numeric input). Display appropriate error messages for each type of exception and ensure the program does not crash due to these errors."
      ],
      "metadata": {
        "id": "z0oqEAlTeMUS"
      }
    },
    {
      "cell_type": "code",
      "source": [
        "def divide_numbers():\n",
        "    try:\n",
        "        # Prompt the user to enter two numbers\n",
        "        num1 = float(input(\"Enter the first number: \"))\n",
        "        num2 = float(input(\"Enter the second number: \"))\n",
        "\n",
        "        # Perform the division operation\n",
        "        result = num1 / num2\n",
        "\n",
        "    except ValueError:\n",
        "        # Handle invalid input\n",
        "        print(\"Invalid input! Please enter numeric values.\")\n",
        "    except ZeroDivisionError:\n",
        "        # Handle zero division error\n",
        "        print(\"Error! Division by zero is not allowed.\")\n",
        "    else:\n",
        "        # Print the result if no exceptions occur\n",
        "        print(f\"The result of {num1} divided by {num2} is: {result}\")\n",
        "\n",
        "# Call the function to test it\n",
        "divide_numbers()\n"
      ],
      "metadata": {
        "id": "yjdc1zM1eMAs",
        "colab": {
          "base_uri": "https://localhost:8080/"
        },
        "outputId": "f43ed30f-5d39-4cde-8269-39a73546fde7"
      },
      "execution_count": 124,
      "outputs": [
        {
          "output_type": "stream",
          "name": "stdout",
          "text": [
            "Enter the first number: 4\n",
            "Enter the second number: 0\n",
            "Error! Division by zero is not allowed.\n"
          ]
        }
      ]
    },
    {
      "cell_type": "markdown",
      "source": [
        "# Mandatory Question"
      ],
      "metadata": {
        "id": "sZOhks1dXWEe"
      }
    },
    {
      "cell_type": "markdown",
      "source": [
        "**Important:**\n",
        "Reflecting on the first three lectures and the exercises you've completed, please provide feedback on your learning experience. Share your thoughts on whether the material covered was clear, the exercises were helpful, and if you feel more confident in applying Python programming concepts. Additionally, mention any specific areas where you would like more clarification or topics you would like to explore further in future lectures. Your feedback is valuable in shaping the course for an effective learning journey."
      ],
      "metadata": {
        "id": "eqmHVEwaWhbV"
      }
    },
    {
      "cell_type": "code",
      "source": [
        "'''\n",
        "So far, this course structure met my expectations. A huge thanks to Dr.Chen for designing this course.\n",
        "Especially, TEDx talks displayed in the classroom are inspiring! The exercises are helpful.\n",
        "\n",
        "\n",
        "'''\n",
        "\n"
      ],
      "metadata": {
        "id": "akAVJn9YBTQT",
        "colab": {
          "base_uri": "https://localhost:8080/",
          "height": 52
        },
        "outputId": "f7d08dae-3579-4df3-f703-00ed996b1139"
      },
      "execution_count": 125,
      "outputs": [
        {
          "output_type": "execute_result",
          "data": {
            "text/plain": [
              "'\\nSo far, this course structure met my expectations. A huge thanks to Dr.Chen for designing this course.\\nEspecially, TEDx talks displayed in the classroom are inspiring! The exercises are helpful. \\n\\n\\n'"
            ],
            "application/vnd.google.colaboratory.intrinsic+json": {
              "type": "string"
            }
          },
          "metadata": {},
          "execution_count": 125
        }
      ]
    }
  ],
  "metadata": {
    "colab": {
      "provenance": [],
      "collapsed_sections": [
        "FBKvD6O_TY6e",
        "E9RqrlwdTfvl",
        "03jb4GZsBkBS",
        "jJDe71iLB616",
        "55W9AMdXCSpV",
        "4ulBZ6yhCi9F",
        "6SmvS7nSfbj8",
        "sZOhks1dXWEe"
      ],
      "toc_visible": true,
      "include_colab_link": true
    },
    "kernelspec": {
      "display_name": "Python 3 (ipykernel)",
      "language": "python",
      "name": "python3"
    },
    "language_info": {
      "codemirror_mode": {
        "name": "ipython",
        "version": 3
      },
      "file_extension": ".py",
      "mimetype": "text/x-python",
      "name": "python",
      "nbconvert_exporter": "python",
      "pygments_lexer": "ipython3",
      "version": "3.9.12"
    }
  },
  "nbformat": 4,
  "nbformat_minor": 0
}