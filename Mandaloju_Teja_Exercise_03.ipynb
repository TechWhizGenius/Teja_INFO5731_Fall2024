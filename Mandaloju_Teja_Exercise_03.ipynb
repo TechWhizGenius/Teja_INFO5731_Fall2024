{
  "cells": [
    {
      "cell_type": "markdown",
      "metadata": {
        "id": "view-in-github",
        "colab_type": "text"
      },
      "source": [
        "<a href=\"https://colab.research.google.com/github/TechWhizGenius/Teja_INFO5731_Fall2024/blob/main/Mandaloju_Teja_Exercise_03.ipynb\" target=\"_parent\"><img src=\"https://colab.research.google.com/assets/colab-badge.svg\" alt=\"Open In Colab\"/></a>"
      ]
    },
    {
      "cell_type": "markdown",
      "metadata": {
        "id": "VdRwkJBn70nX"
      },
      "source": [
        "# **INFO5731 In-class Exercise 3**\n",
        "\n",
        "The purpose of this exercise is to explore various aspects of text analysis, including feature extraction, feature selection, and text similarity ranking.\n",
        "\n",
        "**Expectations**:\n",
        "*   Use the provided .*ipynb* document to write your code & respond to the questions. Avoid generating a new file.\n",
        "*   Write complete answers and run all the cells before submission.\n",
        "*   Make sure the submission is \"clean\"; *i.e.*, no unnecessary code cells.\n",
        "*   Once finished, allow shared rights from top right corner (*see Canvas for details*).\n",
        "\n",
        "**Total points**: 40\n",
        "\n",
        "**Deadline**: This in-class exercise is due at the end of Friday, at 11:59 PM.\n",
        "\n",
        "**Late submissions will have a penalty of 10% of the marks for each day of late submission. , and no requests will be answered. Manage your time accordingly.**\n",
        "\n",
        "**Please check that the link you submitted can be opened and points to the correct assignment.**"
      ]
    },
    {
      "cell_type": "markdown",
      "metadata": {
        "id": "ARqm7u6B70ne"
      },
      "source": [
        "## Question 1 (10 Points)\n",
        "Describe an interesting **text classification or text mining task** and explain what kind of features might be useful for you to build the machine learning model. List your features and explain why these features might be helpful. You need to list at least five different types of features. **Your dataset must be text.**"
      ]
    },
    {
      "cell_type": "code",
      "execution_count": 41,
      "metadata": {
        "id": "VAZj4PHB70nf",
        "colab": {
          "base_uri": "https://localhost:8080/",
          "height": 139
        },
        "outputId": "6cbc2b01-e229-40a7-f8b5-e74a6c362a71"
      },
      "outputs": [
        {
          "output_type": "execute_result",
          "data": {
            "text/plain": [
              "' \\n\\nTask: Genre Classification of Books\\n\\nDescription:  \\n\\nI want to build a machine learning model that can classify books into their respective genres (e.g., Fiction, Non-Fiction, Science Fiction, Mystery,\\n Romance) based on the titles and descriptions. This classification could help readers find books they might enjoy and assist publishers in \\n organizing their catalogs.\\n\\nUseful Features for the Machine Learning Model:\\n\\n1.Bag of Words (BoW):This feature represents the text data as a collection of individual words, ignoring the order but keeping track of the frequency\\nof each word. BoW helps in capturing the most common words in titles and descriptions that can indicate the genre. For example, the presence of \\nwords like \"mystery,\" \"detective,\" or \"romance\" could be strong indicators of their respective genres.\\n\\n2.TF-IDF (Term Frequency-Inverse Document Frequency): TF-IDF weighs the frequency of a word in a document relative to its frequency across all \\ndocuments. This helps to reduce the importance of common words (like \"the,\" \"is\") and emphasize words that are more unique to specific genres.By \\nfocusing on words that are more characteristic of particular genres, TF-IDF can improve the model\\'s ability to distinguish between different genres\\n effectively.\\n\\n3.N-grams: N-grams capture sequences of \\'n\\' words in the text. For example, bigrams (2-grams) will look at pairs of consecutive words.Some genres \\nmight have specific phrases that are common within them (e.g., \"science fiction\" or \"love story\"). By capturing these sequences, we can provide \\nadditional context that might help the model make better predictions.\\n\\n4.Part-of-Speech (POS) Tags: POS tagging involves identifying the grammatical parts of speech (like nouns, verbs, adjectives) in the text.The style\\n and structure of the title and description can give insights into the genre. For example, a book with many adjectives may suggest a descriptive or\\n  romantic genre, while a book heavy in nouns may indicate a more factual or technical genre.\\n\\n5.Word Length and Title Length:This feature measures the average length of words and the overall length of the book titles and descriptions.Certain\\n genres might be characterized by longer, more complex titles or descriptions. For instance, fantasy novels often have longer, more descriptive \\n titles, while thrillers might have shorter, punchier titles.\\n\\n6.Sentiment Analysis Scores:This involves calculating sentiment scores (positive, negative, neutral) for the text data using a sentiment analysis\\n tool or lexicon.Different genres can evoke different sentiments. For example, romance novels might have a more positive sentiment compared to \\n horror novels, which might lean towards negative. This feature can provide an additional layer of understanding about the content of the book.\\n\\n\\nBy utilizing a combination of these features, we can construct a robust machine learning model capable of classifying books into their respective \\ngenres based on their titles and descriptions. Each feature provides different insights into the text, enabling the model to learn patterns that \\ndifferentiate genres effectively.\\n\\n\\n'"
            ],
            "application/vnd.google.colaboratory.intrinsic+json": {
              "type": "string"
            }
          },
          "metadata": {},
          "execution_count": 41
        }
      ],
      "source": [
        "# Your answer here (no code for this question, write down your answer as detail as possible for the above questions):\n",
        "\n",
        "'''\n",
        "\n",
        "Task: Genre Classification of Books\n",
        "\n",
        "Description:\n",
        "\n",
        "I want to build a machine learning model that can classify books into their respective genres (e.g., Fiction, Non-Fiction, Science Fiction, Mystery,\n",
        " Romance) based on the titles and descriptions. This classification could help readers find books they might enjoy and assist publishers in\n",
        " organizing their catalogs.\n",
        "\n",
        "Useful Features for the Machine Learning Model:\n",
        "\n",
        "1.Bag of Words (BoW):This feature represents the text data as a collection of individual words, ignoring the order but keeping track of the frequency\n",
        "of each word. BoW helps in capturing the most common words in titles and descriptions that can indicate the genre. For example, the presence of\n",
        "words like \"mystery,\" \"detective,\" or \"romance\" could be strong indicators of their respective genres.\n",
        "\n",
        "2.TF-IDF (Term Frequency-Inverse Document Frequency): TF-IDF weighs the frequency of a word in a document relative to its frequency across all\n",
        "documents. This helps to reduce the importance of common words (like \"the,\" \"is\") and emphasize words that are more unique to specific genres.By\n",
        "focusing on words that are more characteristic of particular genres, TF-IDF can improve the model's ability to distinguish between different genres\n",
        " effectively.\n",
        "\n",
        "3.N-grams: N-grams capture sequences of 'n' words in the text. For example, bigrams (2-grams) will look at pairs of consecutive words.Some genres\n",
        "might have specific phrases that are common within them (e.g., \"science fiction\" or \"love story\"). By capturing these sequences, we can provide\n",
        "additional context that might help the model make better predictions.\n",
        "\n",
        "4.Part-of-Speech (POS) Tags: POS tagging involves identifying the grammatical parts of speech (like nouns, verbs, adjectives) in the text.The style\n",
        " and structure of the title and description can give insights into the genre. For example, a book with many adjectives may suggest a descriptive or\n",
        "  romantic genre, while a book heavy in nouns may indicate a more factual or technical genre.\n",
        "\n",
        "5.Word Length and Title Length:This feature measures the average length of words and the overall length of the book titles and descriptions.Certain\n",
        " genres might be characterized by longer, more complex titles or descriptions. For instance, fantasy novels often have longer, more descriptive\n",
        " titles, while thrillers might have shorter, punchier titles.\n",
        "\n",
        "6.Sentiment Analysis Scores:This involves calculating sentiment scores (positive, negative, neutral) for the text data using a sentiment analysis\n",
        " tool or lexicon.Different genres can evoke different sentiments. For example, romance novels might have a more positive sentiment compared to\n",
        " horror novels, which might lean towards negative. This feature can provide an additional layer of understanding about the content of the book.\n",
        "\n",
        "\n",
        "By utilizing a combination of these features, we can construct a robust machine learning model capable of classifying books into their respective\n",
        "genres based on their titles and descriptions. Each feature provides different insights into the text, enabling the model to learn patterns that\n",
        "differentiate genres effectively.\n",
        "\n",
        "\n",
        "'''"
      ]
    },
    {
      "cell_type": "markdown",
      "metadata": {
        "id": "dEUjBE6C70nf"
      },
      "source": [
        "## Question 2 (10 Points)\n",
        "Write python code to extract these features you discussed above. You can collect a few sample text data for the feature extraction."
      ]
    },
    {
      "cell_type": "code",
      "source": [
        "import requests\n",
        "from bs4 import BeautifulSoup\n",
        "import time\n",
        "\n",
        "# Base URL\n",
        "base_url = \"http://books.toscrape.com/\"\n",
        "\n",
        "#Fetch the main page and get individual book URLs\n",
        "response = requests.get(base_url)\n",
        "\n",
        "if response.status_code == 200:\n",
        "    print(\"Successfully fetched the webpage!\")\n",
        "else:\n",
        "    print(f\"Failed to fetch the webpage. Status code: {response.status_code}\")\n",
        "\n",
        "# Parse the main page\n",
        "soup = BeautifulSoup(response.content, 'html.parser')\n",
        "\n",
        "# Initialize lists to store titles and descriptions\n",
        "book_titles = []\n",
        "book_descriptions = []\n",
        "\n",
        "# Find all book titles and links to individual book pages\n",
        "books = soup.find_all('article', class_='product_pod')\n",
        "\n",
        "# Visit individual book pages to extract titles and descriptions\n",
        "for i, book in enumerate(books[:10], 1):  # Limit to 10 books\n",
        "    title = book.h3.a['title']\n",
        "    book_url = base_url + book.h3.a['href']\n",
        "    book_titles.append(title)\n",
        "\n",
        "    # Fetch individual book page to get the description\n",
        "    book_response = requests.get(book_url)\n",
        "    book_soup = BeautifulSoup(book_response.content, 'html.parser')\n",
        "\n",
        "    # Extract the description from the book page\n",
        "    description = book_soup.find('meta', attrs={\"name\": \"description\"})['content'].strip()\n",
        "\n",
        "    book_descriptions.append(description)\n",
        "\n",
        "    # Optional delay to avoid hitting the server too quickly\n",
        "    time.sleep(1)\n",
        "\n",
        "print(book_titles)\n",
        "print(book_descriptions)"
      ],
      "metadata": {
        "colab": {
          "base_uri": "https://localhost:8080/"
        },
        "id": "zBSFET9sjbtA",
        "outputId": "76146ff4-878d-4ae4-a12a-aaf27bcb8c32"
      },
      "execution_count": 42,
      "outputs": [
        {
          "output_type": "stream",
          "name": "stdout",
          "text": [
            "Successfully fetched the webpage!\n",
            "['A Light in the Attic', 'Tipping the Velvet', 'Soumission', 'Sharp Objects', 'Sapiens: A Brief History of Humankind', 'The Requiem Red', 'The Dirty Little Secrets of Getting Your Dream Job', 'The Coming Woman: A Novel Based on the Life of the Infamous Feminist, Victoria Woodhull', 'The Boys in the Boat: Nine Americans and Their Epic Quest for Gold at the 1936 Berlin Olympics', 'The Black Maria']\n",
            "[\"It's hard to imagine a world without A Light in the Attic. This now-classic collection of poetry and drawings from Shel Silverstein celebrates its 20th anniversary with this special edition. Silverstein's humorous and creative verse can amuse the dowdiest of readers. Lemon-faced adults and fidgety kids sit still and read these rhythmic words and laugh and smile and love th It's hard to imagine a world without A Light in the Attic. This now-classic collection of poetry and drawings from Shel Silverstein celebrates its 20th anniversary with this special edition. Silverstein's humorous and creative verse can amuse the dowdiest of readers. Lemon-faced adults and fidgety kids sit still and read these rhythmic words and laugh and smile and love that Silverstein. Need proof of his genius? RockabyeRockabye baby, in the treetopDon't you know a treetopIs no safe place to rock?And who put you up there,And your cradle, too?Baby, I think someone down here'sGot it in for you. Shel, you never sounded so good. ...more\", '\"Erotic and absorbing...Written with starling power.\"--\"The New York Times Book Review \" Nan King, an oyster girl, is captivated by the music hall phenomenon Kitty Butler, a male impersonator extraordinaire treading the boards in Canterbury. Through a friend at the box office, Nan manages to visit all her shows and finally meet her heroine. Soon after, she becomes Kitty\\'s \"Erotic and absorbing...Written with starling power.\"--\"The New York Times Book Review \" Nan King, an oyster girl, is captivated by the music hall phenomenon Kitty Butler, a male impersonator extraordinaire treading the boards in Canterbury. Through a friend at the box office, Nan manages to visit all her shows and finally meet her heroine. Soon after, she becomes Kitty\\'s dresser and the two head for the bright lights of Leicester Square where they begin a glittering career as music-hall stars in an all-singing and dancing double act. At the same time, behind closed doors, they admit their attraction to each other and their affair begins. ...more', 'Dans une France assez proche de la nôtre, un homme s’engage dans la carrière universitaire. Peu motivé par l’enseignement, il s’attend à une vie ennuyeuse mais calme, protégée des grands drames historiques. Cependant les forces en jeu dans le pays ont fissuré le système politique jusqu’à provoquer son effondrement. Cette implosion sans soubresauts, sans vraie révolution, s Dans une France assez proche de la nôtre, un homme s’engage dans la carrière universitaire. Peu motivé par l’enseignement, il s’attend à une vie ennuyeuse mais calme, protégée des grands drames historiques. Cependant les forces en jeu dans le pays ont fissuré le système politique jusqu’à provoquer son effondrement. Cette implosion sans soubresauts, sans vraie révolution, se développe comme un mauvais rêve.Le talent de l’auteur, sa force visionnaire nous entraînent sur un terrain ambigu et glissant ; son regard sur notre civilisation vieillissante fait coexister dans ce roman les intuitions poétiques, les effets comiques, une mélancolie fataliste.Ce livre est une saisissante fable politique et morale. ...more', 'WICKED above her hipbone, GIRL across her heart Words are like a road map to reporter Camille Preaker’s troubled past. Fresh from a brief stay at a psych hospital, Camille’s first assignment from the second-rate daily paper where she works brings her reluctantly back to her hometown to cover the murders of two preteen girls. NASTY on her kneecap, BABYDOLL on her leg Since WICKED above her hipbone, GIRL across her heart Words are like a road map to reporter Camille Preaker’s troubled past. Fresh from a brief stay at a psych hospital, Camille’s first assignment from the second-rate daily paper where she works brings her reluctantly back to her hometown to cover the murders of two preteen girls. NASTY on her kneecap, BABYDOLL on her leg Since she left town eight years ago, Camille has hardly spoken to her neurotic, hypochondriac mother or to the half-sister she barely knows: a beautiful thirteen-year-old with an eerie grip on the town. Now, installed again in her family’s Victorian mansion, Camille is haunted by the childhood tragedy she has spent her whole life trying to cut from her memory. HARMFUL on her wrist, WHORE on her ankle As Camille works to uncover the truth about these violent crimes, she finds herself identifying with the young victims—a bit too strongly. Clues keep leading to dead ends, forcing Camille to unravel the psychological puzzle of her own past to get at the story. Dogged by her own demons, Camille will have to confront what happened to her years before if she wants to survive this homecoming.With its taut, crafted writing, Sharp Objects is addictive, haunting, and unforgettable. ...more', 'From a renowned historian comes a groundbreaking narrative of humanity’s creation and evolution—a #1 international bestseller—that explores the ways in which biology and history have defined us and enhanced our understanding of what it means to be “human.”One hundred thousand years ago, at least six different species of humans inhabited Earth. Yet today there is only one—h From a renowned historian comes a groundbreaking narrative of humanity’s creation and evolution—a #1 international bestseller—that explores the ways in which biology and history have defined us and enhanced our understanding of what it means to be “human.”One hundred thousand years ago, at least six different species of humans inhabited Earth. Yet today there is only one—homo sapiens. What happened to the others? And what may happen to us?Most books about the history of humanity pursue either a historical or a biological approach, but Dr. Yuval Noah Harari breaks the mold with this highly original book that begins about 70,000 years ago with the appearance of modern cognition. From examining the role evolving humans have played in the global ecosystem to charting the rise of empires, Sapiens integrates history and science to reconsider accepted narratives, connect past developments with contemporary concerns, and examine specific events within the context of larger ideas.Dr. Harari also compels us to look ahead, because over the last few decades humans have begun to bend laws of natural selection that have governed life for the past four billion years. We are acquiring the ability to design not only the world around us, but also ourselves. Where is this leading us, and what do we want to become?Featuring 27 photographs, 6 maps, and 25 illustrations/diagrams, this provocative and insightful work is sure to spark debate and is essential reading for aficionados of Jared Diamond, James Gleick, Matt Ridley, Robert Wright, and Sharon Moalem. ...more', \"Patient Twenty-nine.A monster roams the halls of Soothing Hills Asylum. Three girls dead. 29 is endowed with the curse…or gift of perception. She hears messages in music, sees lyrics in paintings. And the corn. A lifetime asylum resident, the orchestral corn music is the only constant in her life.Mason, a new, kind orderly, sees 29 as a woman, not a lunatic. And as his bel Patient Twenty-nine.A monster roams the halls of Soothing Hills Asylum. Three girls dead. 29 is endowed with the curse…or gift of perception. She hears messages in music, sees lyrics in paintings. And the corn. A lifetime asylum resident, the orchestral corn music is the only constant in her life.Mason, a new, kind orderly, sees 29 as a woman, not a lunatic. And as his belief in her grows, so does her self- confidence. That perhaps she might escape, might see the outside world. But the monster has other plans. The missing girls share one common thread...each was twenty-nine's cell mate. Will she be next? ...more\", \"Drawing on his extensive experience evaluating applicants for his marketing agency, and featuring stories based on real-life situations, sample cover letters, resumes, and straightforward advice, Don Raskin’s The Dirty Little Secrets of Getting Your Dream Job offers all the necessary tools for navigating the tough job market and securing your dream job.Don Raskin owns and Drawing on his extensive experience evaluating applicants for his marketing agency, and featuring stories based on real-life situations, sample cover letters, resumes, and straightforward advice, Don Raskin’s The Dirty Little Secrets of Getting Your Dream Job offers all the necessary tools for navigating the tough job market and securing your dream job.Don Raskin owns and operates MME, an advertising and marketing agency in New York City. During his twenty-five years at the agency he has interviewed hundreds of new college graduates for positions within his agency and has placed a strong emphasis on entry-level recruitment for positions in creative, account management, traffic, and production. Raskin has also mentored countless students and their parents on best practices for the job search. Over the years, Raskin has kept exceptionally detailed notes on the interviews he has conducted, observing the good, the bad, the ridiculous, the irreverent. He also has a treasure trove of over-the-top cover letters, resumes, interviews, and post interview follow-ups he has conducted and received. Now, he wants to share all the wisdom and insider secrets he has gathered to help students and first-time job seekers find a job in this economy.Based on his remarkable expertise, Raskin's book provides exclusive insight into the job search process and lets readers in on all of the dirty little secrets to landing their first job—or a new one—and finding career success. ...more\", '\"If you have a heart, if you have a soul, Karen Hicks\\' The Coming Woman will make you fall in love with Victoria Woodhull.\"-Kinky Friedman, author and Governor of the Heart of Texas \"What kind of confidence would it take for a woman to buck the old boy\\'s club of politics in 1872? More than 140 years pre-Hillary, there was Victoria Woodhull. This book takes you back with a \"If you have a heart, if you have a soul, Karen Hicks\\' The Coming Woman will make you fall in love with Victoria Woodhull.\"-Kinky Friedman, author and Governor of the Heart of Texas \"What kind of confidence would it take for a woman to buck the old boy\\'s club of politics in 1872? More than 140 years pre-Hillary, there was Victoria Woodhull. This book takes you back with a breathtaking, present-tense bird\\'s eye view into a time when women\\'s liberation was primarily confined to one woman\\'s very capable, independent mind. I couldn\\'t put it down.\"---Ruth Buzzi, Golden Globe Award winner and Television Hall of Fame inductee\"Sadly, too many Americans have never heard of Victoria Woodhull, let alone learned of her story: her revolutionary campaign for the presidency at a time when women weren\\'t even allowed to vote, her support for worker\\'s rights, or her feminist commitment to equality, a century before the official battle over the Equal Rights Amendment. But in The Coming Woman, Karen Hicks brings Woodhull\\'s efforts to life, and reminds us that some of our nation\\'s greatest figures aren\\'t always featured in the history books. It is a riveting account of an amazing woman and her struggle for justice and human dignity, told in an engaging and eminently readable style.\"-Tim Wise, author, \"White Like Me: Reflections on Race from a Privileged Son\"\"The Coming Woman\" is a novel based on the life of feminist Victoria Woodhull, the first woman to run for U.S. President, 50 years before women could even vote!Running for President wasn\\'t Victoria\\'s only first as a woman. She was also the first to own a successful Wall Street firm, the first to publish a successful national newspaper, and the first to head the two-million-member Spiritualist Association. She was the first woman to enter the Senate Judiciary Committee chambers to petition for woman\\'s suffrage, her argument changing the entire focus of the suffragist movement by pointing out that the 14th and 15th Amendments already gave women the vote.In her campaign for the Presidency, Victoria Woodhull boldly addressed many of the issues we still face today: equal pay for equal work; freedom in love; corporate greed and political corruption fueled by powerful lobbyists; and the increasing disparity between the rich and the poor, to name only a few. Her outspoken and common-sense ideas may shed a new perspective on the parallel conundrums of today\\'s world.This bold, beautiful, and sexually progressive woman dared to take on society and religion. To make an example of the hypocrisy in what Mark Twain dubbed The Gilded Age, she exposed the extramarital affairs of the most popular religious figure of the day (Henry Ward Beecher). This led to her persecution and imprisonment and the longest, most infamous trial of the 19th century. But it did not stop her fight for equality.Victoria\\'s epic story, set in the late 1800s, comes to life in a modern, fictional style, while staying true to the actual words and views of the many well-known characters. ...more', \"For readers of Laura Hillenbrand's Seabiscuit and Unbroken, the dramatic story of the American rowing team that stunned the world at Hitler's 1936 Berlin Olympics Daniel James Brown’s robust book tells the story of the University of Washington’s 1936 eight-oar crew and their epic quest for an Olympic gold medal, a team that transformed the sport and grabbed the attention o For readers of Laura Hillenbrand's Seabiscuit and Unbroken, the dramatic story of the American rowing team that stunned the world at Hitler's 1936 Berlin Olympics Daniel James Brown’s robust book tells the story of the University of Washington’s 1936 eight-oar crew and their epic quest for an Olympic gold medal, a team that transformed the sport and grabbed the attention of millions of Americans. The sons of loggers, shipyard workers, and farmers, the boys defeated elite rivals first from eastern and British universities and finally the German crew rowing for Adolf Hitler in the Olympic games in Berlin, 1936. The emotional heart of the story lies with one rower, Joe Rantz, a teenager without family or prospects, who rows not for glory, but to regain his shattered self-regard and to find a place he can call home. The crew is assembled\\xa0 by an enigmatic coach and mentored by a visionary, eccentric British boat builder, but it is their trust in each other that makes them a victorious team. They remind the country of what can be done when everyone quite literally pulls together—a perfect melding of commitment, determination, and optimism. Drawing on the boys’ own diaries and journals, their photos and memories of a once-in-a-lifetime shared dream, The Boys in the Boat is an irresistible story about beating the odds and finding hope in the most desperate of times—the improbable, intimate story of nine working-class boys from the American west who, in the depths of the Great Depression, showed the world what true grit really meant. It will appeal to readers of Erik Larson, Timothy Egan, James Bradley, and David Halberstam's The Amateurs. ...more\", 'Praise for Aracelis Girmay:\"[Girmay\\'s] every loss—she calls them estrangements—is a yearning for connection across time and place; her every fragment is a bulwark against ruin.\" — O, The Oprah Magazine \"In Aracelis Girmay we have a poet who collects, polishes, and shares stories with such brilliant invention, tenderness, and intellectual liveliness that it is understandabl Praise for Aracelis Girmay:\"[Girmay\\'s] every loss—she calls them estrangements—is a yearning for connection across time and place; her every fragment is a bulwark against ruin.\" — O, The Oprah Magazine \"In Aracelis Girmay we have a poet who collects, polishes, and shares stories with such brilliant invention, tenderness, and intellectual liveliness that it is understandable that we think of her as the blessed curator of our collective histories. There is in her art the vulnerability of one who lives inside of the stories that she gathers in this remarkable collection. Her poems set off alarms even as they transform the world she inhabits, showing us, in the process, exactly what she asks of Romare Bearden’s art: ‘…how not to // assign all blackness near the sea / a captivity.’ This is one of the many sweet contradictions in the black maria, which ‘is a black flag / wounding the pastoral.’ I am deeply thankful that we have a poet of her unique and singular talent writing today.\" —Kwame DawesTaking its name from the moon\\'s dark plains, misidentified as seas by early astronomers, the black maria investigates African diasporic histories, the consequences of racism within American culture, and the question of human identity. Central to this project is a desire to recognize the lives of Eritrean refugees who have been made invisible by years of immigration crisis, refugee status, exile, and resulting statelessness. The recipient of a 2015 Whiting Award for Poetry, Girmay\\'s newest collection elegizes and celebrates life, while wrestling with the humanistic notion of seeing beyond: seeing violence, seeing grace, and seeing each other better.\"to the sea\"great storage house, historyon which we rode, we touchedthe brief pulse of your flutteringpages, spelled with salt & life,your rage, your indifferenceyour gentleness washing our feet,all of you going onwhether or not we live,to you we bring our carnationsyellow & pink, how they floatlike bright sentences atopyour memory\\'s dark hairAracelis Girmay is the author of three poetry collections, the black maria; Kingdom Animalia, which won the Isabella Gardner Award and was a finalist for the NBCC Award; and Teeth. The recipient of a 2015 Whiting Award, she has received grants and fellowships from the Jerome, Cave Canem, and Watson foundations, as well as Civitella Ranieri and the NEA. She currently teaches at Hampshire College\\'s School for Interdisciplinary Arts and in Drew University\\'s low residency MFA program. Originally from Santa Ana, California, she splits her time between New York and Amherst, Massachusetts. ...more']\n"
          ]
        }
      ]
    },
    {
      "cell_type": "code",
      "source": [
        "# 1.Bag of Words (BoW)\n",
        "\n",
        "from sklearn.feature_extraction.text import CountVectorizer\n",
        "\n",
        "def extract_bow(titles, descriptions):\n",
        "    vectorizer_bow = CountVectorizer()\n",
        "    combined_text = [f\"{title} {description}\" for title, description in zip(titles, descriptions)]\n",
        "    X_bow = vectorizer_bow.fit_transform(combined_text)\n",
        "    return vectorizer_bow.get_feature_names_out(), X_bow.toarray()\n",
        "\n",
        "# Extract BoW features\n",
        "bow_features, bow_matrix = extract_bow(book_titles, book_descriptions)\n",
        "\n",
        "# Print entire results of Bag of Words\n",
        "print(\"Bag of Words Features:\")\n",
        "print(bow_features)\n",
        "\n",
        "print(\"\\nBoW Matrix:\")\n",
        "for i in range(bow_matrix.shape[0]):\n",
        "    print(f\"Book {i + 1}: {bow_matrix[i]}\")\n"
      ],
      "metadata": {
        "colab": {
          "base_uri": "https://localhost:8080/"
        },
        "id": "V6_m9mMjmJkx",
        "outputId": "59611891-7a9d-45dd-9ca9-8393858acb1c"
      },
      "execution_count": 43,
      "outputs": [
        {
          "output_type": "stream",
          "name": "stdout",
          "text": [
            "Bag of Words Features:\n",
            "['000' '140' '14th' ... 'young' 'your' 'yuval']\n",
            "\n",
            "BoW Matrix:\n",
            "Book 1: [0 0 0 ... 0 1 0]\n",
            "Book 2: [0 0 0 ... 0 0 0]\n",
            "Book 3: [0 0 0 ... 0 0 0]\n",
            "Book 4: [0 0 0 ... 1 0 0]\n",
            "Book 5: [1 0 0 ... 0 0 1]\n",
            "Book 6: [0 0 0 ... 0 0 0]\n",
            "Book 7: [0 0 0 ... 0 5 0]\n",
            "Book 8: [0 2 1 ... 0 0 0]\n",
            "Book 9: [0 0 0 ... 0 0 0]\n",
            "Book 10: [0 0 0 ... 0 3 0]\n"
          ]
        }
      ]
    },
    {
      "cell_type": "code",
      "source": [
        "# 2.TF-IDF (Term Frequency-Inverse Document Frequency)\n",
        "\n",
        "from sklearn.feature_extraction.text import TfidfVectorizer\n",
        "\n",
        "def extract_tfidf(titles, descriptions):\n",
        "    vectorizer_tfidf = TfidfVectorizer()\n",
        "    combined_text = [f\"{title} {description}\" for title, description in zip(titles, descriptions)]\n",
        "    X_tfidf = vectorizer_tfidf.fit_transform(combined_text)\n",
        "    return vectorizer_tfidf.get_feature_names_out(), X_tfidf.toarray()\n",
        "\n",
        "# Extract TF-IDF features\n",
        "tfidf_features, tfidf_matrix = extract_tfidf(book_titles, book_descriptions)\n",
        "\n",
        "print(\"TF-IDF Features:\")\n",
        "print(tfidf_features)\n",
        "print(\"TF-IDF Matrix:\")\n",
        "print(tfidf_matrix)\n",
        "print()\n"
      ],
      "metadata": {
        "colab": {
          "base_uri": "https://localhost:8080/"
        },
        "id": "Mk8BNhkEmsPj",
        "outputId": "4449c2d7-6f0d-4c7f-8d6a-6fa6ea14d1ef"
      },
      "execution_count": 44,
      "outputs": [
        {
          "output_type": "stream",
          "name": "stdout",
          "text": [
            "TF-IDF Features:\n",
            "['000' '140' '14th' ... 'young' 'your' 'yuval']\n",
            "TF-IDF Matrix:\n",
            "[[0.         0.         0.         ... 0.         0.04432477 0.        ]\n",
            " [0.         0.         0.         ... 0.         0.         0.        ]\n",
            " [0.         0.         0.         ... 0.         0.         0.        ]\n",
            " ...\n",
            " [0.         0.05124306 0.02562153 ... 0.         0.         0.        ]\n",
            " [0.         0.         0.         ... 0.         0.         0.        ]\n",
            " [0.         0.         0.         ... 0.         0.07460843 0.        ]]\n",
            "\n"
          ]
        }
      ]
    },
    {
      "cell_type": "code",
      "source": [
        "# 3.N-grams: (Bigrams)\n",
        "\n",
        "def extract_ngrams(titles, descriptions):\n",
        "    vectorizer_ngrams = CountVectorizer(ngram_range=(2, 2))  # Bigrams\n",
        "    combined_text = [f\"{title} {description}\" for title, description in zip(titles, descriptions)]\n",
        "    X_ngrams = vectorizer_ngrams.fit_transform(combined_text)\n",
        "    return vectorizer_ngrams.get_feature_names_out(), X_ngrams.toarray()\n",
        "\n",
        "# Extract N-grams features\n",
        "ngram_features, ngram_matrix = extract_ngrams(book_titles, book_descriptions)\n",
        "\n",
        "print(\"N-grams (Bigrams) Features:\")\n",
        "print(ngram_features)\n",
        "print(\"N-grams Matrix:\")\n",
        "print(ngram_matrix)\n",
        "print()\n"
      ],
      "metadata": {
        "colab": {
          "base_uri": "https://localhost:8080/"
        },
        "id": "MtCqxoWkm0ET",
        "outputId": "903599fe-1fe7-4171-b816-0eae572d5d23"
      },
      "execution_count": 45,
      "outputs": [
        {
          "output_type": "stream",
          "name": "stdout",
          "text": [
            "N-grams (Bigrams) Features:\n",
            "['000 years' '140 years' '14th and' ... 'your indifferenceyour'\n",
            " 'your rage' 'yuval noah']\n",
            "N-grams Matrix:\n",
            "[[0 0 0 ... 0 0 0]\n",
            " [0 0 0 ... 0 0 0]\n",
            " [0 0 0 ... 0 0 0]\n",
            " ...\n",
            " [0 2 1 ... 0 0 0]\n",
            " [0 0 0 ... 0 0 0]\n",
            " [0 0 0 ... 1 1 0]]\n",
            "\n"
          ]
        }
      ]
    },
    {
      "cell_type": "code",
      "source": [
        "# 4.Part-of-Speech (POS) Tags\n",
        "\n",
        "import nltk\n",
        "\n",
        "nltk.download('punkt')\n",
        "\n",
        "def extract_pos_tags(titles, descriptions):\n",
        "    pos_tags = []\n",
        "    for title, description in zip(titles, descriptions):\n",
        "        text = f\"{title} {description}\"\n",
        "        tokens = nltk.word_tokenize(text)\n",
        "        tags = nltk.pos_tag(tokens)  # (word, POS tag)\n",
        "        pos_tags.append(tags)\n",
        "    return pos_tags\n",
        "\n",
        "# Extract POS tags\n",
        "pos_tags = extract_pos_tags(book_titles, book_descriptions)\n",
        "\n",
        "print(\"POS Tags:\")\n",
        "for i, tags in enumerate(pos_tags):\n",
        "    print(f\"Book {i+1}: {tags}\")\n",
        "print()\n"
      ],
      "metadata": {
        "colab": {
          "base_uri": "https://localhost:8080/"
        },
        "id": "moNW1N5Dm-EV",
        "outputId": "ae70c62a-1c85-4471-a349-3be51f4a00fe"
      },
      "execution_count": 46,
      "outputs": [
        {
          "output_type": "stream",
          "name": "stderr",
          "text": [
            "[nltk_data] Downloading package punkt to /root/nltk_data...\n",
            "[nltk_data]   Package punkt is already up-to-date!\n"
          ]
        },
        {
          "output_type": "stream",
          "name": "stdout",
          "text": [
            "POS Tags:\n",
            "Book 1: [('A', 'DT'), ('Light', 'NNP'), ('in', 'IN'), ('the', 'DT'), ('Attic', 'NNP'), ('It', 'PRP'), (\"'s\", 'VBZ'), ('hard', 'JJ'), ('to', 'TO'), ('imagine', 'VB'), ('a', 'DT'), ('world', 'NN'), ('without', 'IN'), ('A', 'DT'), ('Light', 'NNP'), ('in', 'IN'), ('the', 'DT'), ('Attic', 'NNP'), ('.', '.'), ('This', 'DT'), ('now-classic', 'JJ'), ('collection', 'NN'), ('of', 'IN'), ('poetry', 'NN'), ('and', 'CC'), ('drawings', 'NNS'), ('from', 'IN'), ('Shel', 'NNP'), ('Silverstein', 'NNP'), ('celebrates', 'VBZ'), ('its', 'PRP$'), ('20th', 'JJ'), ('anniversary', 'NN'), ('with', 'IN'), ('this', 'DT'), ('special', 'JJ'), ('edition', 'NN'), ('.', '.'), ('Silverstein', 'NNP'), (\"'s\", 'POS'), ('humorous', 'JJ'), ('and', 'CC'), ('creative', 'JJ'), ('verse', 'NN'), ('can', 'MD'), ('amuse', 'VB'), ('the', 'DT'), ('dowdiest', 'JJS'), ('of', 'IN'), ('readers', 'NNS'), ('.', '.'), ('Lemon-faced', 'JJ'), ('adults', 'NNS'), ('and', 'CC'), ('fidgety', 'NN'), ('kids', 'NNS'), ('sit', 'NN'), ('still', 'RB'), ('and', 'CC'), ('read', 'VB'), ('these', 'DT'), ('rhythmic', 'JJ'), ('words', 'NNS'), ('and', 'CC'), ('laugh', 'NN'), ('and', 'CC'), ('smile', 'NN'), ('and', 'CC'), ('love', 'VB'), ('th', 'NN'), ('It', 'PRP'), (\"'s\", 'VBZ'), ('hard', 'JJ'), ('to', 'TO'), ('imagine', 'VB'), ('a', 'DT'), ('world', 'NN'), ('without', 'IN'), ('A', 'DT'), ('Light', 'NNP'), ('in', 'IN'), ('the', 'DT'), ('Attic', 'NNP'), ('.', '.'), ('This', 'DT'), ('now-classic', 'JJ'), ('collection', 'NN'), ('of', 'IN'), ('poetry', 'NN'), ('and', 'CC'), ('drawings', 'NNS'), ('from', 'IN'), ('Shel', 'NNP'), ('Silverstein', 'NNP'), ('celebrates', 'VBZ'), ('its', 'PRP$'), ('20th', 'JJ'), ('anniversary', 'NN'), ('with', 'IN'), ('this', 'DT'), ('special', 'JJ'), ('edition', 'NN'), ('.', '.'), ('Silverstein', 'NNP'), (\"'s\", 'POS'), ('humorous', 'JJ'), ('and', 'CC'), ('creative', 'JJ'), ('verse', 'NN'), ('can', 'MD'), ('amuse', 'VB'), ('the', 'DT'), ('dowdiest', 'JJS'), ('of', 'IN'), ('readers', 'NNS'), ('.', '.'), ('Lemon-faced', 'JJ'), ('adults', 'NNS'), ('and', 'CC'), ('fidgety', 'NN'), ('kids', 'NNS'), ('sit', 'NN'), ('still', 'RB'), ('and', 'CC'), ('read', 'VB'), ('these', 'DT'), ('rhythmic', 'JJ'), ('words', 'NNS'), ('and', 'CC'), ('laugh', 'NN'), ('and', 'CC'), ('smile', 'NN'), ('and', 'CC'), ('love', 'VB'), ('that', 'DT'), ('Silverstein', 'NNP'), ('.', '.'), ('Need', 'NNP'), ('proof', 'NN'), ('of', 'IN'), ('his', 'PRP$'), ('genius', 'NN'), ('?', '.'), ('RockabyeRockabye', 'NNP'), ('baby', 'NN'), (',', ','), ('in', 'IN'), ('the', 'DT'), ('treetopDo', 'NN'), (\"n't\", 'RB'), ('you', 'PRP'), ('know', 'VB'), ('a', 'DT'), ('treetopIs', 'JJ'), ('no', 'DT'), ('safe', 'JJ'), ('place', 'NN'), ('to', 'TO'), ('rock', 'VB'), ('?', '.'), ('And', 'CC'), ('who', 'WP'), ('put', 'VBP'), ('you', 'PRP'), ('up', 'IN'), ('there', 'RB'), (',', ','), ('And', 'CC'), ('your', 'PRP$'), ('cradle', 'NN'), (',', ','), ('too', 'RB'), ('?', '.'), ('Baby', 'NNP'), (',', ','), ('I', 'PRP'), ('think', 'VBP'), ('someone', 'NN'), ('down', 'RB'), (\"here'sGot\", 'VBD'), ('it', 'PRP'), ('in', 'IN'), ('for', 'IN'), ('you', 'PRP'), ('.', '.'), ('Shel', 'VB'), (',', ','), ('you', 'PRP'), ('never', 'RB'), ('sounded', 'VBD'), ('so', 'RB'), ('good', 'JJ'), ('.', '.'), ('...', ':'), ('more', 'JJR')]\n",
            "Book 2: [('Tipping', 'VBG'), ('the', 'DT'), ('Velvet', 'NNP'), ('``', '``'), ('Erotic', 'NNP'), ('and', 'CC'), ('absorbing', 'VBG'), ('...', ':'), ('Written', 'NNP'), ('with', 'IN'), ('starling', 'VBG'), ('power', 'NN'), ('.', '.'), (\"''\", \"''\"), ('--', ':'), (\"''\", \"''\"), ('The', 'DT'), ('New', 'NNP'), ('York', 'NNP'), ('Times', 'NNP'), ('Book', 'NNP'), ('Review', 'NNP'), ('``', '``'), ('Nan', 'NNP'), ('King', 'NNP'), (',', ','), ('an', 'DT'), ('oyster', 'NN'), ('girl', 'NN'), (',', ','), ('is', 'VBZ'), ('captivated', 'VBN'), ('by', 'IN'), ('the', 'DT'), ('music', 'NN'), ('hall', 'NN'), ('phenomenon', 'NN'), ('Kitty', 'NNP'), ('Butler', 'NNP'), (',', ','), ('a', 'DT'), ('male', 'JJ'), ('impersonator', 'NN'), ('extraordinaire', 'NN'), ('treading', 'VBG'), ('the', 'DT'), ('boards', 'NNS'), ('in', 'IN'), ('Canterbury', 'NNP'), ('.', '.'), ('Through', 'IN'), ('a', 'DT'), ('friend', 'NN'), ('at', 'IN'), ('the', 'DT'), ('box', 'NN'), ('office', 'NN'), (',', ','), ('Nan', 'NNP'), ('manages', 'VBZ'), ('to', 'TO'), ('visit', 'VB'), ('all', 'DT'), ('her', 'PRP$'), ('shows', 'NNS'), ('and', 'CC'), ('finally', 'RB'), ('meet', 'VB'), ('her', 'PRP$'), ('heroine', 'NN'), ('.', '.'), ('Soon', 'NN'), ('after', 'IN'), (',', ','), ('she', 'PRP'), ('becomes', 'VBZ'), ('Kitty', 'NNP'), (\"'s\", 'POS'), ('``', '``'), ('Erotic', 'NNP'), ('and', 'CC'), ('absorbing', 'VBG'), ('...', ':'), ('Written', 'NNP'), ('with', 'IN'), ('starling', 'VBG'), ('power', 'NN'), ('.', '.'), (\"''\", \"''\"), ('--', ':'), (\"''\", \"''\"), ('The', 'DT'), ('New', 'NNP'), ('York', 'NNP'), ('Times', 'NNP'), ('Book', 'NNP'), ('Review', 'NNP'), ('``', '``'), ('Nan', 'NNP'), ('King', 'NNP'), (',', ','), ('an', 'DT'), ('oyster', 'NN'), ('girl', 'NN'), (',', ','), ('is', 'VBZ'), ('captivated', 'VBN'), ('by', 'IN'), ('the', 'DT'), ('music', 'NN'), ('hall', 'NN'), ('phenomenon', 'NN'), ('Kitty', 'NNP'), ('Butler', 'NNP'), (',', ','), ('a', 'DT'), ('male', 'JJ'), ('impersonator', 'NN'), ('extraordinaire', 'NN'), ('treading', 'VBG'), ('the', 'DT'), ('boards', 'NNS'), ('in', 'IN'), ('Canterbury', 'NNP'), ('.', '.'), ('Through', 'IN'), ('a', 'DT'), ('friend', 'NN'), ('at', 'IN'), ('the', 'DT'), ('box', 'NN'), ('office', 'NN'), (',', ','), ('Nan', 'NNP'), ('manages', 'VBZ'), ('to', 'TO'), ('visit', 'VB'), ('all', 'DT'), ('her', 'PRP$'), ('shows', 'NNS'), ('and', 'CC'), ('finally', 'RB'), ('meet', 'VB'), ('her', 'PRP$'), ('heroine', 'NN'), ('.', '.'), ('Soon', 'NN'), ('after', 'IN'), (',', ','), ('she', 'PRP'), ('becomes', 'VBZ'), ('Kitty', 'NNP'), (\"'s\", 'POS'), ('dresser', 'NN'), ('and', 'CC'), ('the', 'DT'), ('two', 'CD'), ('head', 'NN'), ('for', 'IN'), ('the', 'DT'), ('bright', 'JJ'), ('lights', 'NNS'), ('of', 'IN'), ('Leicester', 'NNP'), ('Square', 'NNP'), ('where', 'WRB'), ('they', 'PRP'), ('begin', 'VBP'), ('a', 'DT'), ('glittering', 'VBG'), ('career', 'NN'), ('as', 'IN'), ('music-hall', 'JJ'), ('stars', 'NNS'), ('in', 'IN'), ('an', 'DT'), ('all-singing', 'JJ'), ('and', 'CC'), ('dancing', 'VBG'), ('double', 'JJ'), ('act', 'NN'), ('.', '.'), ('At', 'IN'), ('the', 'DT'), ('same', 'JJ'), ('time', 'NN'), (',', ','), ('behind', 'IN'), ('closed', 'JJ'), ('doors', 'NNS'), (',', ','), ('they', 'PRP'), ('admit', 'VBP'), ('their', 'PRP$'), ('attraction', 'NN'), ('to', 'TO'), ('each', 'DT'), ('other', 'JJ'), ('and', 'CC'), ('their', 'PRP$'), ('affair', 'NN'), ('begins', 'VBZ'), ('.', '.'), ('...', ':'), ('more', 'JJR')]\n",
            "Book 3: [('Soumission', 'NN'), ('Dans', 'NNPS'), ('une', 'JJ'), ('France', 'NNP'), ('assez', 'NN'), ('proche', 'NN'), ('de', 'IN'), ('la', 'FW'), ('nôtre', 'FW'), (',', ','), ('un', 'JJ'), ('homme', 'NN'), ('s', 'NN'), ('’', 'NNP'), ('engage', 'NN'), ('dans', 'NNS'), ('la', 'VBP'), ('carrière', 'JJ'), ('universitaire', 'NN'), ('.', '.'), ('Peu', 'NNP'), ('motivé', 'NN'), ('par', 'NN'), ('l', 'NN'), ('’', 'NNP'), ('enseignement', 'NN'), (',', ','), ('il', 'JJ'), ('s', 'NN'), ('’', 'NNP'), ('attend', 'VBP'), ('à', 'NNP'), ('une', 'JJ'), ('vie', 'NN'), ('ennuyeuse', 'NN'), ('mais', 'NN'), ('calme', 'NN'), (',', ','), ('protégée', 'NN'), ('des', 'NNS'), ('grands', 'VBZ'), ('drames', 'NNS'), ('historiques', 'NNS'), ('.', '.'), ('Cependant', 'JJ'), ('les', 'NNS'), ('forces', 'NNS'), ('en', 'VBP'), ('jeu', 'NN'), ('dans', 'NNS'), ('le', 'VBP'), ('pays', 'NNS'), ('ont', 'VBP'), ('fissuré', 'JJ'), ('le', 'NN'), ('système', 'NN'), ('politique', 'NN'), ('jusqu', 'NN'), ('’', 'NNP'), ('à', 'NNP'), ('provoquer', 'NN'), ('son', 'NN'), ('effondrement', 'NN'), ('.', '.'), ('Cette', 'NNP'), ('implosion', 'NN'), ('sans', 'NNS'), ('soubresauts', 'NNS'), (',', ','), ('sans', 'NNS'), ('vraie', 'VBP'), ('révolution', 'NN'), (',', ','), ('s', 'JJ'), ('Dans', 'NNPS'), ('une', 'JJ'), ('France', 'NNP'), ('assez', 'NN'), ('proche', 'NN'), ('de', 'IN'), ('la', 'FW'), ('nôtre', 'FW'), (',', ','), ('un', 'JJ'), ('homme', 'NN'), ('s', 'NN'), ('’', 'NNP'), ('engage', 'NN'), ('dans', 'NNS'), ('la', 'VBP'), ('carrière', 'JJ'), ('universitaire', 'NN'), ('.', '.'), ('Peu', 'NNP'), ('motivé', 'NN'), ('par', 'NN'), ('l', 'NN'), ('’', 'NNP'), ('enseignement', 'NN'), (',', ','), ('il', 'JJ'), ('s', 'NN'), ('’', 'NNP'), ('attend', 'VBP'), ('à', 'NNP'), ('une', 'JJ'), ('vie', 'NN'), ('ennuyeuse', 'NN'), ('mais', 'NN'), ('calme', 'NN'), (',', ','), ('protégée', 'NN'), ('des', 'NNS'), ('grands', 'VBZ'), ('drames', 'NNS'), ('historiques', 'NNS'), ('.', '.'), ('Cependant', 'JJ'), ('les', 'NNS'), ('forces', 'NNS'), ('en', 'VBP'), ('jeu', 'NN'), ('dans', 'NNS'), ('le', 'VBP'), ('pays', 'NNS'), ('ont', 'VBP'), ('fissuré', 'JJ'), ('le', 'NN'), ('système', 'NN'), ('politique', 'NN'), ('jusqu', 'NN'), ('’', 'NNP'), ('à', 'NNP'), ('provoquer', 'NN'), ('son', 'NN'), ('effondrement', 'NN'), ('.', '.'), ('Cette', 'NNP'), ('implosion', 'NN'), ('sans', 'NNS'), ('soubresauts', 'NNS'), (',', ','), ('sans', 'NNS'), ('vraie', 'VBP'), ('révolution', 'NN'), (',', ','), ('se', 'FW'), ('développe', 'FW'), ('comme', 'NN'), ('un', 'JJ'), ('mauvais', 'NN'), ('rêve.Le', 'NN'), ('talent', 'NN'), ('de', 'IN'), ('l', 'FW'), ('’', 'FW'), ('auteur', 'NN'), (',', ','), ('sa', 'JJ'), ('force', 'NN'), ('visionnaire', 'NN'), ('nous', 'JJ'), ('entraînent', 'NN'), ('sur', 'NN'), ('un', 'JJ'), ('terrain', 'NN'), ('ambigu', 'NN'), ('et', 'NN'), ('glissant', 'NN'), (';', ':'), ('son', 'CC'), ('regard', 'VB'), ('sur', 'NN'), ('notre', 'JJ'), ('civilisation', 'NN'), ('vieillissante', 'NN'), ('fait', 'VBP'), ('coexister', 'NN'), ('dans', 'NNS'), ('ce', 'VBP'), ('roman', 'JJ'), ('les', 'NNS'), ('intuitions', 'NNS'), ('poétiques', 'NNS'), (',', ','), ('les', 'NNS'), ('effets', 'NNS'), ('comiques', 'NNS'), (',', ','), ('une', 'JJ'), ('mélancolie', 'NN'), ('fataliste.Ce', 'NN'), ('livre', 'NN'), ('est', 'JJS'), ('une', 'JJ'), ('saisissante', 'NN'), ('fable', 'JJ'), ('politique', 'NN'), ('et', 'FW'), ('morale', 'NN'), ('.', '.'), ('...', ':'), ('more', 'JJR')]\n",
            "Book 4: [('Sharp', 'JJ'), ('Objects', 'NNP'), ('WICKED', 'NNP'), ('above', 'IN'), ('her', 'PRP$'), ('hipbone', 'NN'), (',', ','), ('GIRL', 'NNP'), ('across', 'IN'), ('her', 'PRP$'), ('heart', 'NN'), ('Words', 'NNPS'), ('are', 'VBP'), ('like', 'IN'), ('a', 'DT'), ('road', 'NN'), ('map', 'NN'), ('to', 'TO'), ('reporter', 'VB'), ('Camille', 'NNP'), ('Preaker', 'NNP'), ('’', 'NNP'), ('s', 'NN'), ('troubled', 'VBD'), ('past', 'NN'), ('.', '.'), ('Fresh', 'NNP'), ('from', 'IN'), ('a', 'DT'), ('brief', 'JJ'), ('stay', 'NN'), ('at', 'IN'), ('a', 'DT'), ('psych', 'JJ'), ('hospital', 'NN'), (',', ','), ('Camille', 'NNP'), ('’', 'NNP'), ('s', 'VBD'), ('first', 'JJ'), ('assignment', 'NN'), ('from', 'IN'), ('the', 'DT'), ('second-rate', 'JJ'), ('daily', 'JJ'), ('paper', 'NN'), ('where', 'WRB'), ('she', 'PRP'), ('works', 'VBZ'), ('brings', 'VBZ'), ('her', 'PRP$'), ('reluctantly', 'RB'), ('back', 'RB'), ('to', 'TO'), ('her', 'PRP$'), ('hometown', 'NN'), ('to', 'TO'), ('cover', 'VB'), ('the', 'DT'), ('murders', 'NNS'), ('of', 'IN'), ('two', 'CD'), ('preteen', 'JJ'), ('girls', 'NNS'), ('.', '.'), ('NASTY', 'NN'), ('on', 'IN'), ('her', 'PRP$'), ('kneecap', 'NN'), (',', ','), ('BABYDOLL', 'NNP'), ('on', 'IN'), ('her', 'PRP$'), ('leg', 'NN'), ('Since', 'IN'), ('WICKED', 'NNP'), ('above', 'IN'), ('her', 'PRP$'), ('hipbone', 'NN'), (',', ','), ('GIRL', 'NNP'), ('across', 'IN'), ('her', 'PRP$'), ('heart', 'NN'), ('Words', 'NNPS'), ('are', 'VBP'), ('like', 'IN'), ('a', 'DT'), ('road', 'NN'), ('map', 'NN'), ('to', 'TO'), ('reporter', 'VB'), ('Camille', 'NNP'), ('Preaker', 'NNP'), ('’', 'NNP'), ('s', 'NN'), ('troubled', 'VBD'), ('past', 'NN'), ('.', '.'), ('Fresh', 'NNP'), ('from', 'IN'), ('a', 'DT'), ('brief', 'JJ'), ('stay', 'NN'), ('at', 'IN'), ('a', 'DT'), ('psych', 'JJ'), ('hospital', 'NN'), (',', ','), ('Camille', 'NNP'), ('’', 'NNP'), ('s', 'VBD'), ('first', 'JJ'), ('assignment', 'NN'), ('from', 'IN'), ('the', 'DT'), ('second-rate', 'JJ'), ('daily', 'JJ'), ('paper', 'NN'), ('where', 'WRB'), ('she', 'PRP'), ('works', 'VBZ'), ('brings', 'VBZ'), ('her', 'PRP$'), ('reluctantly', 'RB'), ('back', 'RB'), ('to', 'TO'), ('her', 'PRP$'), ('hometown', 'NN'), ('to', 'TO'), ('cover', 'VB'), ('the', 'DT'), ('murders', 'NNS'), ('of', 'IN'), ('two', 'CD'), ('preteen', 'JJ'), ('girls', 'NNS'), ('.', '.'), ('NASTY', 'NN'), ('on', 'IN'), ('her', 'PRP$'), ('kneecap', 'NN'), (',', ','), ('BABYDOLL', 'NNP'), ('on', 'IN'), ('her', 'PRP$'), ('leg', 'NN'), ('Since', 'IN'), ('she', 'PRP'), ('left', 'VBD'), ('town', 'NN'), ('eight', 'CD'), ('years', 'NNS'), ('ago', 'RB'), (',', ','), ('Camille', 'NNP'), ('has', 'VBZ'), ('hardly', 'RB'), ('spoken', 'VBN'), ('to', 'TO'), ('her', 'PRP$'), ('neurotic', 'JJ'), (',', ','), ('hypochondriac', 'JJ'), ('mother', 'NN'), ('or', 'CC'), ('to', 'TO'), ('the', 'DT'), ('half-sister', 'NN'), ('she', 'PRP'), ('barely', 'RB'), ('knows', 'VBZ'), (':', ':'), ('a', 'DT'), ('beautiful', 'JJ'), ('thirteen-year-old', 'NN'), ('with', 'IN'), ('an', 'DT'), ('eerie', 'JJ'), ('grip', 'NN'), ('on', 'IN'), ('the', 'DT'), ('town', 'NN'), ('.', '.'), ('Now', 'RB'), (',', ','), ('installed', 'VBD'), ('again', 'RB'), ('in', 'IN'), ('her', 'PRP$'), ('family', 'NN'), ('’', 'NN'), ('s', 'NN'), ('Victorian', 'JJ'), ('mansion', 'NN'), (',', ','), ('Camille', 'NNP'), ('is', 'VBZ'), ('haunted', 'VBN'), ('by', 'IN'), ('the', 'DT'), ('childhood', 'NN'), ('tragedy', 'NN'), ('she', 'PRP'), ('has', 'VBZ'), ('spent', 'VBN'), ('her', 'PRP$'), ('whole', 'JJ'), ('life', 'NN'), ('trying', 'VBG'), ('to', 'TO'), ('cut', 'VB'), ('from', 'IN'), ('her', 'PRP$'), ('memory', 'NN'), ('.', '.'), ('HARMFUL', 'NN'), ('on', 'IN'), ('her', 'PRP$'), ('wrist', 'NN'), (',', ','), ('WHORE', 'NNP'), ('on', 'IN'), ('her', 'PRP$'), ('ankle', 'NN'), ('As', 'IN'), ('Camille', 'NNP'), ('works', 'VBZ'), ('to', 'TO'), ('uncover', 'VB'), ('the', 'DT'), ('truth', 'NN'), ('about', 'IN'), ('these', 'DT'), ('violent', 'JJ'), ('crimes', 'NNS'), (',', ','), ('she', 'PRP'), ('finds', 'VBZ'), ('herself', 'PRP'), ('identifying', 'VBG'), ('with', 'IN'), ('the', 'DT'), ('young', 'JJ'), ('victims—a', 'NN'), ('bit', 'NN'), ('too', 'RB'), ('strongly', 'RB'), ('.', '.'), ('Clues', 'NNS'), ('keep', 'VB'), ('leading', 'VBG'), ('to', 'TO'), ('dead', 'VB'), ('ends', 'NNS'), (',', ','), ('forcing', 'VBG'), ('Camille', 'NNP'), ('to', 'TO'), ('unravel', 'VB'), ('the', 'DT'), ('psychological', 'JJ'), ('puzzle', 'NN'), ('of', 'IN'), ('her', 'PRP$'), ('own', 'JJ'), ('past', 'NN'), ('to', 'TO'), ('get', 'VB'), ('at', 'IN'), ('the', 'DT'), ('story', 'NN'), ('.', '.'), ('Dogged', 'VBN'), ('by', 'IN'), ('her', 'PRP$'), ('own', 'JJ'), ('demons', 'NNS'), (',', ','), ('Camille', 'NNP'), ('will', 'MD'), ('have', 'VB'), ('to', 'TO'), ('confront', 'VB'), ('what', 'WP'), ('happened', 'VBD'), ('to', 'TO'), ('her', 'PRP$'), ('years', 'NNS'), ('before', 'IN'), ('if', 'IN'), ('she', 'PRP'), ('wants', 'VBZ'), ('to', 'TO'), ('survive', 'VB'), ('this', 'DT'), ('homecoming.With', 'NN'), ('its', 'PRP$'), ('taut', 'NN'), (',', ','), ('crafted', 'VBD'), ('writing', 'NN'), (',', ','), ('Sharp', 'NNP'), ('Objects', 'NNP'), ('is', 'VBZ'), ('addictive', 'JJ'), (',', ','), ('haunting', 'NN'), (',', ','), ('and', 'CC'), ('unforgettable', 'JJ'), ('.', '.'), ('...', ':'), ('more', 'JJR')]\n",
            "Book 5: [('Sapiens', 'NNS'), (':', ':'), ('A', 'DT'), ('Brief', 'JJ'), ('History', 'NNP'), ('of', 'IN'), ('Humankind', 'NNP'), ('From', 'IN'), ('a', 'DT'), ('renowned', 'JJ'), ('historian', 'NN'), ('comes', 'VBZ'), ('a', 'DT'), ('groundbreaking', 'JJ'), ('narrative', 'NN'), ('of', 'IN'), ('humanity', 'NN'), ('’', 'NNP'), ('s', 'NN'), ('creation', 'NN'), ('and', 'CC'), ('evolution—a', 'JJ'), ('#', '#'), ('1', 'CD'), ('international', 'JJ'), ('bestseller—that', 'WDT'), ('explores', 'VBZ'), ('the', 'DT'), ('ways', 'NNS'), ('in', 'IN'), ('which', 'WDT'), ('biology', 'NN'), ('and', 'CC'), ('history', 'NN'), ('have', 'VBP'), ('defined', 'VBN'), ('us', 'PRP'), ('and', 'CC'), ('enhanced', 'VBD'), ('our', 'PRP$'), ('understanding', 'NN'), ('of', 'IN'), ('what', 'WP'), ('it', 'PRP'), ('means', 'VBZ'), ('to', 'TO'), ('be', 'VB'), ('“', 'JJ'), ('human.', 'JJ'), ('”', 'FW'), ('One', 'CD'), ('hundred', 'CD'), ('thousand', 'CD'), ('years', 'NNS'), ('ago', 'RB'), (',', ','), ('at', 'IN'), ('least', 'JJS'), ('six', 'CD'), ('different', 'JJ'), ('species', 'NNS'), ('of', 'IN'), ('humans', 'NNS'), ('inhabited', 'JJ'), ('Earth', 'NNP'), ('.', '.'), ('Yet', 'CC'), ('today', 'NN'), ('there', 'EX'), ('is', 'VBZ'), ('only', 'RB'), ('one—h', 'RB'), ('From', 'IN'), ('a', 'DT'), ('renowned', 'JJ'), ('historian', 'NN'), ('comes', 'VBZ'), ('a', 'DT'), ('groundbreaking', 'JJ'), ('narrative', 'NN'), ('of', 'IN'), ('humanity', 'NN'), ('’', 'NNP'), ('s', 'NN'), ('creation', 'NN'), ('and', 'CC'), ('evolution—a', 'JJ'), ('#', '#'), ('1', 'CD'), ('international', 'JJ'), ('bestseller—that', 'WDT'), ('explores', 'VBZ'), ('the', 'DT'), ('ways', 'NNS'), ('in', 'IN'), ('which', 'WDT'), ('biology', 'NN'), ('and', 'CC'), ('history', 'NN'), ('have', 'VBP'), ('defined', 'VBN'), ('us', 'PRP'), ('and', 'CC'), ('enhanced', 'VBD'), ('our', 'PRP$'), ('understanding', 'NN'), ('of', 'IN'), ('what', 'WP'), ('it', 'PRP'), ('means', 'VBZ'), ('to', 'TO'), ('be', 'VB'), ('“', 'JJ'), ('human.', 'JJ'), ('”', 'FW'), ('One', 'CD'), ('hundred', 'CD'), ('thousand', 'CD'), ('years', 'NNS'), ('ago', 'RB'), (',', ','), ('at', 'IN'), ('least', 'JJS'), ('six', 'CD'), ('different', 'JJ'), ('species', 'NNS'), ('of', 'IN'), ('humans', 'NNS'), ('inhabited', 'JJ'), ('Earth', 'NNP'), ('.', '.'), ('Yet', 'CC'), ('today', 'NN'), ('there', 'EX'), ('is', 'VBZ'), ('only', 'RB'), ('one—homo', 'JJ'), ('sapiens', 'NNS'), ('.', '.'), ('What', 'WP'), ('happened', 'VBD'), ('to', 'TO'), ('the', 'DT'), ('others', 'NNS'), ('?', '.'), ('And', 'CC'), ('what', 'WP'), ('may', 'MD'), ('happen', 'VB'), ('to', 'TO'), ('us', 'PRP'), ('?', '.'), ('Most', 'JJS'), ('books', 'NNS'), ('about', 'IN'), ('the', 'DT'), ('history', 'NN'), ('of', 'IN'), ('humanity', 'NN'), ('pursue', 'NN'), ('either', 'CC'), ('a', 'DT'), ('historical', 'JJ'), ('or', 'CC'), ('a', 'DT'), ('biological', 'JJ'), ('approach', 'NN'), (',', ','), ('but', 'CC'), ('Dr.', 'NNP'), ('Yuval', 'NNP'), ('Noah', 'NNP'), ('Harari', 'NNP'), ('breaks', 'VBZ'), ('the', 'DT'), ('mold', 'NN'), ('with', 'IN'), ('this', 'DT'), ('highly', 'RB'), ('original', 'JJ'), ('book', 'NN'), ('that', 'WDT'), ('begins', 'VBZ'), ('about', 'IN'), ('70,000', 'CD'), ('years', 'NNS'), ('ago', 'RB'), ('with', 'IN'), ('the', 'DT'), ('appearance', 'NN'), ('of', 'IN'), ('modern', 'JJ'), ('cognition', 'NN'), ('.', '.'), ('From', 'IN'), ('examining', 'VBG'), ('the', 'DT'), ('role', 'NN'), ('evolving', 'VBG'), ('humans', 'NNS'), ('have', 'VBP'), ('played', 'VBN'), ('in', 'IN'), ('the', 'DT'), ('global', 'JJ'), ('ecosystem', 'NN'), ('to', 'TO'), ('charting', 'VBG'), ('the', 'DT'), ('rise', 'NN'), ('of', 'IN'), ('empires', 'NNS'), (',', ','), ('Sapiens', 'NNPS'), ('integrates', 'VBZ'), ('history', 'NN'), ('and', 'CC'), ('science', 'NN'), ('to', 'TO'), ('reconsider', 'VB'), ('accepted', 'JJ'), ('narratives', 'NNS'), (',', ','), ('connect', 'VBP'), ('past', 'JJ'), ('developments', 'NNS'), ('with', 'IN'), ('contemporary', 'JJ'), ('concerns', 'NNS'), (',', ','), ('and', 'CC'), ('examine', 'VB'), ('specific', 'JJ'), ('events', 'NNS'), ('within', 'IN'), ('the', 'DT'), ('context', 'NN'), ('of', 'IN'), ('larger', 'JJR'), ('ideas.Dr', 'NN'), ('.', '.'), ('Harari', 'NNP'), ('also', 'RB'), ('compels', 'VBZ'), ('us', 'PRP'), ('to', 'TO'), ('look', 'VB'), ('ahead', 'RB'), (',', ','), ('because', 'IN'), ('over', 'IN'), ('the', 'DT'), ('last', 'JJ'), ('few', 'JJ'), ('decades', 'NNS'), ('humans', 'NNS'), ('have', 'VBP'), ('begun', 'VBN'), ('to', 'TO'), ('bend', 'VB'), ('laws', 'NNS'), ('of', 'IN'), ('natural', 'JJ'), ('selection', 'NN'), ('that', 'WDT'), ('have', 'VBP'), ('governed', 'VBN'), ('life', 'NN'), ('for', 'IN'), ('the', 'DT'), ('past', 'JJ'), ('four', 'CD'), ('billion', 'CD'), ('years', 'NNS'), ('.', '.'), ('We', 'PRP'), ('are', 'VBP'), ('acquiring', 'VBG'), ('the', 'DT'), ('ability', 'NN'), ('to', 'TO'), ('design', 'VB'), ('not', 'RB'), ('only', 'RB'), ('the', 'DT'), ('world', 'NN'), ('around', 'IN'), ('us', 'PRP'), (',', ','), ('but', 'CC'), ('also', 'RB'), ('ourselves', 'PRP'), ('.', '.'), ('Where', 'WRB'), ('is', 'VBZ'), ('this', 'DT'), ('leading', 'VBG'), ('us', 'PRP'), (',', ','), ('and', 'CC'), ('what', 'WP'), ('do', 'VBP'), ('we', 'PRP'), ('want', 'VB'), ('to', 'TO'), ('become', 'VB'), ('?', '.'), ('Featuring', 'VBG'), ('27', 'CD'), ('photographs', 'NN'), (',', ','), ('6', 'CD'), ('maps', 'NNS'), (',', ','), ('and', 'CC'), ('25', 'CD'), ('illustrations/diagrams', 'NNS'), (',', ','), ('this', 'DT'), ('provocative', 'JJ'), ('and', 'CC'), ('insightful', 'JJ'), ('work', 'NN'), ('is', 'VBZ'), ('sure', 'JJ'), ('to', 'TO'), ('spark', 'VB'), ('debate', 'NN'), ('and', 'CC'), ('is', 'VBZ'), ('essential', 'JJ'), ('reading', 'VBG'), ('for', 'IN'), ('aficionados', 'NN'), ('of', 'IN'), ('Jared', 'NNP'), ('Diamond', 'NNP'), (',', ','), ('James', 'NNP'), ('Gleick', 'NNP'), (',', ','), ('Matt', 'NNP'), ('Ridley', 'NNP'), (',', ','), ('Robert', 'NNP'), ('Wright', 'NNP'), (',', ','), ('and', 'CC'), ('Sharon', 'NNP'), ('Moalem', 'NNP'), ('.', '.'), ('...', ':'), ('more', 'JJR')]\n",
            "Book 6: [('The', 'DT'), ('Requiem', 'NNP'), ('Red', 'NNP'), ('Patient', 'NNP'), ('Twenty-nine.A', 'NNP'), ('monster', 'NN'), ('roams', 'VBZ'), ('the', 'DT'), ('halls', 'NNS'), ('of', 'IN'), ('Soothing', 'VBG'), ('Hills', 'NNP'), ('Asylum', 'NNP'), ('.', '.'), ('Three', 'NNP'), ('girls', 'NNS'), ('dead', 'VBP'), ('.', '.'), ('29', 'CD'), ('is', 'VBZ'), ('endowed', 'VBN'), ('with', 'IN'), ('the', 'DT'), ('curse…or', 'NN'), ('gift', 'NN'), ('of', 'IN'), ('perception', 'NN'), ('.', '.'), ('She', 'PRP'), ('hears', 'VBZ'), ('messages', 'NNS'), ('in', 'IN'), ('music', 'NN'), (',', ','), ('sees', 'VBZ'), ('lyrics', 'NNS'), ('in', 'IN'), ('paintings', 'NNS'), ('.', '.'), ('And', 'CC'), ('the', 'DT'), ('corn', 'NN'), ('.', '.'), ('A', 'DT'), ('lifetime', 'NN'), ('asylum', 'NN'), ('resident', 'NN'), (',', ','), ('the', 'DT'), ('orchestral', 'JJ'), ('corn', 'NN'), ('music', 'NN'), ('is', 'VBZ'), ('the', 'DT'), ('only', 'JJ'), ('constant', 'NN'), ('in', 'IN'), ('her', 'PRP$'), ('life.Mason', 'NN'), (',', ','), ('a', 'DT'), ('new', 'JJ'), (',', ','), ('kind', 'NN'), ('orderly', 'RB'), (',', ','), ('sees', 'VBZ'), ('29', 'CD'), ('as', 'IN'), ('a', 'DT'), ('woman', 'NN'), (',', ','), ('not', 'RB'), ('a', 'DT'), ('lunatic', 'JJ'), ('.', '.'), ('And', 'CC'), ('as', 'IN'), ('his', 'PRP$'), ('bel', 'NN'), ('Patient', 'NNP'), ('Twenty-nine.A', 'NNP'), ('monster', 'NN'), ('roams', 'VBZ'), ('the', 'DT'), ('halls', 'NNS'), ('of', 'IN'), ('Soothing', 'VBG'), ('Hills', 'NNP'), ('Asylum', 'NNP'), ('.', '.'), ('Three', 'NNP'), ('girls', 'NNS'), ('dead', 'VBP'), ('.', '.'), ('29', 'CD'), ('is', 'VBZ'), ('endowed', 'VBN'), ('with', 'IN'), ('the', 'DT'), ('curse…or', 'NN'), ('gift', 'NN'), ('of', 'IN'), ('perception', 'NN'), ('.', '.'), ('She', 'PRP'), ('hears', 'VBZ'), ('messages', 'NNS'), ('in', 'IN'), ('music', 'NN'), (',', ','), ('sees', 'VBZ'), ('lyrics', 'NNS'), ('in', 'IN'), ('paintings', 'NNS'), ('.', '.'), ('And', 'CC'), ('the', 'DT'), ('corn', 'NN'), ('.', '.'), ('A', 'DT'), ('lifetime', 'NN'), ('asylum', 'NN'), ('resident', 'NN'), (',', ','), ('the', 'DT'), ('orchestral', 'JJ'), ('corn', 'NN'), ('music', 'NN'), ('is', 'VBZ'), ('the', 'DT'), ('only', 'JJ'), ('constant', 'NN'), ('in', 'IN'), ('her', 'PRP$'), ('life.Mason', 'NN'), (',', ','), ('a', 'DT'), ('new', 'JJ'), (',', ','), ('kind', 'NN'), ('orderly', 'RB'), (',', ','), ('sees', 'VBZ'), ('29', 'CD'), ('as', 'IN'), ('a', 'DT'), ('woman', 'NN'), (',', ','), ('not', 'RB'), ('a', 'DT'), ('lunatic', 'JJ'), ('.', '.'), ('And', 'CC'), ('as', 'IN'), ('his', 'PRP$'), ('belief', 'NN'), ('in', 'IN'), ('her', 'PRP$'), ('grows', 'NNS'), (',', ','), ('so', 'RB'), ('does', 'VBZ'), ('her', 'PRP$'), ('self-', 'JJ'), ('confidence', 'NN'), ('.', '.'), ('That', 'IN'), ('perhaps', 'RB'), ('she', 'PRP'), ('might', 'MD'), ('escape', 'VB'), (',', ','), ('might', 'MD'), ('see', 'VB'), ('the', 'DT'), ('outside', 'JJ'), ('world', 'NN'), ('.', '.'), ('But', 'CC'), ('the', 'DT'), ('monster', 'NN'), ('has', 'VBZ'), ('other', 'JJ'), ('plans', 'NNS'), ('.', '.'), ('The', 'DT'), ('missing', 'VBG'), ('girls', 'NNS'), ('share', 'NN'), ('one', 'CD'), ('common', 'JJ'), ('thread', 'NN'), ('...', ':'), ('each', 'DT'), ('was', 'VBD'), ('twenty-nine', 'NN'), (\"'s\", 'POS'), ('cell', 'NN'), ('mate', 'NN'), ('.', '.'), ('Will', 'MD'), ('she', 'PRP'), ('be', 'VB'), ('next', 'JJ'), ('?', '.'), ('...', ':'), ('more', 'JJR')]\n",
            "Book 7: [('The', 'DT'), ('Dirty', 'NNP'), ('Little', 'NNP'), ('Secrets', 'NNP'), ('of', 'IN'), ('Getting', 'VBG'), ('Your', 'PRP$'), ('Dream', 'NNP'), ('Job', 'NNP'), ('Drawing', 'VBG'), ('on', 'IN'), ('his', 'PRP$'), ('extensive', 'JJ'), ('experience', 'NN'), ('evaluating', 'VBG'), ('applicants', 'NNS'), ('for', 'IN'), ('his', 'PRP$'), ('marketing', 'NN'), ('agency', 'NN'), (',', ','), ('and', 'CC'), ('featuring', 'VBG'), ('stories', 'NNS'), ('based', 'VBN'), ('on', 'IN'), ('real-life', 'JJ'), ('situations', 'NNS'), (',', ','), ('sample', 'NN'), ('cover', 'NN'), ('letters', 'NNS'), (',', ','), ('resumes', 'NNS'), (',', ','), ('and', 'CC'), ('straightforward', 'JJ'), ('advice', 'NN'), (',', ','), ('Don', 'NNP'), ('Raskin', 'NNP'), ('’', 'NNP'), ('s', 'VBD'), ('The', 'DT'), ('Dirty', 'NNP'), ('Little', 'NNP'), ('Secrets', 'NNP'), ('of', 'IN'), ('Getting', 'VBG'), ('Your', 'PRP$'), ('Dream', 'NNP'), ('Job', 'NNP'), ('offers', 'VBZ'), ('all', 'PDT'), ('the', 'DT'), ('necessary', 'JJ'), ('tools', 'NNS'), ('for', 'IN'), ('navigating', 'VBG'), ('the', 'DT'), ('tough', 'JJ'), ('job', 'NN'), ('market', 'NN'), ('and', 'CC'), ('securing', 'VBG'), ('your', 'PRP$'), ('dream', 'NN'), ('job.Don', 'NN'), ('Raskin', 'NNP'), ('owns', 'VBZ'), ('and', 'CC'), ('Drawing', 'VBG'), ('on', 'IN'), ('his', 'PRP$'), ('extensive', 'JJ'), ('experience', 'NN'), ('evaluating', 'VBG'), ('applicants', 'NNS'), ('for', 'IN'), ('his', 'PRP$'), ('marketing', 'NN'), ('agency', 'NN'), (',', ','), ('and', 'CC'), ('featuring', 'VBG'), ('stories', 'NNS'), ('based', 'VBN'), ('on', 'IN'), ('real-life', 'JJ'), ('situations', 'NNS'), (',', ','), ('sample', 'NN'), ('cover', 'NN'), ('letters', 'NNS'), (',', ','), ('resumes', 'NNS'), (',', ','), ('and', 'CC'), ('straightforward', 'JJ'), ('advice', 'NN'), (',', ','), ('Don', 'NNP'), ('Raskin', 'NNP'), ('’', 'NNP'), ('s', 'VBD'), ('The', 'DT'), ('Dirty', 'NNP'), ('Little', 'NNP'), ('Secrets', 'NNP'), ('of', 'IN'), ('Getting', 'VBG'), ('Your', 'PRP$'), ('Dream', 'NNP'), ('Job', 'NNP'), ('offers', 'VBZ'), ('all', 'PDT'), ('the', 'DT'), ('necessary', 'JJ'), ('tools', 'NNS'), ('for', 'IN'), ('navigating', 'VBG'), ('the', 'DT'), ('tough', 'JJ'), ('job', 'NN'), ('market', 'NN'), ('and', 'CC'), ('securing', 'VBG'), ('your', 'PRP$'), ('dream', 'NN'), ('job.Don', 'NN'), ('Raskin', 'NNP'), ('owns', 'VBZ'), ('and', 'CC'), ('operates', 'VBZ'), ('MME', 'NNP'), (',', ','), ('an', 'DT'), ('advertising', 'NN'), ('and', 'CC'), ('marketing', 'NN'), ('agency', 'NN'), ('in', 'IN'), ('New', 'NNP'), ('York', 'NNP'), ('City', 'NNP'), ('.', '.'), ('During', 'IN'), ('his', 'PRP$'), ('twenty-five', 'JJ'), ('years', 'NNS'), ('at', 'IN'), ('the', 'DT'), ('agency', 'NN'), ('he', 'PRP'), ('has', 'VBZ'), ('interviewed', 'VBN'), ('hundreds', 'NNS'), ('of', 'IN'), ('new', 'JJ'), ('college', 'NN'), ('graduates', 'NNS'), ('for', 'IN'), ('positions', 'NNS'), ('within', 'IN'), ('his', 'PRP$'), ('agency', 'NN'), ('and', 'CC'), ('has', 'VBZ'), ('placed', 'VBN'), ('a', 'DT'), ('strong', 'JJ'), ('emphasis', 'NN'), ('on', 'IN'), ('entry-level', 'JJ'), ('recruitment', 'NN'), ('for', 'IN'), ('positions', 'NNS'), ('in', 'IN'), ('creative', 'JJ'), (',', ','), ('account', 'JJ'), ('management', 'NN'), (',', ','), ('traffic', 'NN'), (',', ','), ('and', 'CC'), ('production', 'NN'), ('.', '.'), ('Raskin', 'NNP'), ('has', 'VBZ'), ('also', 'RB'), ('mentored', 'VBN'), ('countless', 'JJ'), ('students', 'NNS'), ('and', 'CC'), ('their', 'PRP$'), ('parents', 'NNS'), ('on', 'IN'), ('best', 'JJS'), ('practices', 'NNS'), ('for', 'IN'), ('the', 'DT'), ('job', 'NN'), ('search', 'NN'), ('.', '.'), ('Over', 'IN'), ('the', 'DT'), ('years', 'NNS'), (',', ','), ('Raskin', 'NNP'), ('has', 'VBZ'), ('kept', 'VBN'), ('exceptionally', 'RB'), ('detailed', 'JJ'), ('notes', 'NNS'), ('on', 'IN'), ('the', 'DT'), ('interviews', 'NNS'), ('he', 'PRP'), ('has', 'VBZ'), ('conducted', 'VBN'), (',', ','), ('observing', 'VBG'), ('the', 'DT'), ('good', 'JJ'), (',', ','), ('the', 'DT'), ('bad', 'JJ'), (',', ','), ('the', 'DT'), ('ridiculous', 'JJ'), (',', ','), ('the', 'DT'), ('irreverent', 'NN'), ('.', '.'), ('He', 'PRP'), ('also', 'RB'), ('has', 'VBZ'), ('a', 'DT'), ('treasure', 'NN'), ('trove', 'NN'), ('of', 'IN'), ('over-the-top', 'JJ'), ('cover', 'NN'), ('letters', 'NNS'), (',', ','), ('resumes', 'NNS'), (',', ','), ('interviews', 'NNS'), (',', ','), ('and', 'CC'), ('post', 'NN'), ('interview', 'NN'), ('follow-ups', 'NN'), ('he', 'PRP'), ('has', 'VBZ'), ('conducted', 'VBN'), ('and', 'CC'), ('received', 'VBN'), ('.', '.'), ('Now', 'RB'), (',', ','), ('he', 'PRP'), ('wants', 'VBZ'), ('to', 'TO'), ('share', 'NN'), ('all', 'PDT'), ('the', 'DT'), ('wisdom', 'NN'), ('and', 'CC'), ('insider', 'NN'), ('secrets', 'NNS'), ('he', 'PRP'), ('has', 'VBZ'), ('gathered', 'VBN'), ('to', 'TO'), ('help', 'VB'), ('students', 'NNS'), ('and', 'CC'), ('first-time', 'JJ'), ('job', 'NN'), ('seekers', 'NNS'), ('find', 'VBP'), ('a', 'DT'), ('job', 'NN'), ('in', 'IN'), ('this', 'DT'), ('economy.Based', 'VBN'), ('on', 'IN'), ('his', 'PRP$'), ('remarkable', 'JJ'), ('expertise', 'NN'), (',', ','), ('Raskin', 'NNP'), (\"'s\", 'POS'), ('book', 'NN'), ('provides', 'VBZ'), ('exclusive', 'JJ'), ('insight', 'NN'), ('into', 'IN'), ('the', 'DT'), ('job', 'NN'), ('search', 'NN'), ('process', 'NN'), ('and', 'CC'), ('lets', 'VBZ'), ('readers', 'NNS'), ('in', 'IN'), ('on', 'IN'), ('all', 'DT'), ('of', 'IN'), ('the', 'DT'), ('dirty', 'JJ'), ('little', 'JJ'), ('secrets', 'NNS'), ('to', 'TO'), ('landing', 'VBG'), ('their', 'PRP$'), ('first', 'JJ'), ('job—or', 'VB'), ('a', 'DT'), ('new', 'JJ'), ('one—and', 'NN'), ('finding', 'VBG'), ('career', 'NN'), ('success', 'NN'), ('.', '.'), ('...', ':'), ('more', 'JJR')]\n",
            "Book 8: [('The', 'DT'), ('Coming', 'VBG'), ('Woman', 'NNP'), (':', ':'), ('A', 'DT'), ('Novel', 'NNP'), ('Based', 'VBN'), ('on', 'IN'), ('the', 'DT'), ('Life', 'NNP'), ('of', 'IN'), ('the', 'DT'), ('Infamous', 'NNP'), ('Feminist', 'NNP'), (',', ','), ('Victoria', 'NNP'), ('Woodhull', 'NNP'), ('``', '``'), ('If', 'IN'), ('you', 'PRP'), ('have', 'VBP'), ('a', 'DT'), ('heart', 'NN'), (',', ','), ('if', 'IN'), ('you', 'PRP'), ('have', 'VBP'), ('a', 'DT'), ('soul', 'NN'), (',', ','), ('Karen', 'NNP'), ('Hicks', 'NNP'), (\"'\", 'POS'), ('The', 'DT'), ('Coming', 'NNP'), ('Woman', 'NNP'), ('will', 'MD'), ('make', 'VB'), ('you', 'PRP'), ('fall', 'VB'), ('in', 'IN'), ('love', 'NN'), ('with', 'IN'), ('Victoria', 'NNP'), ('Woodhull', 'NNP'), ('.', '.'), ('``', '``'), ('-Kinky', 'JJ'), ('Friedman', 'NNP'), (',', ','), ('author', 'NN'), ('and', 'CC'), ('Governor', 'NNP'), ('of', 'IN'), ('the', 'DT'), ('Heart', 'NNP'), ('of', 'IN'), ('Texas', 'NNP'), ('``', '``'), ('What', 'WP'), ('kind', 'NN'), ('of', 'IN'), ('confidence', 'NN'), ('would', 'MD'), ('it', 'PRP'), ('take', 'VB'), ('for', 'IN'), ('a', 'DT'), ('woman', 'NN'), ('to', 'TO'), ('buck', 'VB'), ('the', 'DT'), ('old', 'JJ'), ('boy', 'NN'), (\"'s\", 'POS'), ('club', 'NN'), ('of', 'IN'), ('politics', 'NNS'), ('in', 'IN'), ('1872', 'CD'), ('?', '.'), ('More', 'JJR'), ('than', 'IN'), ('140', 'CD'), ('years', 'NNS'), ('pre-Hillary', 'JJ'), (',', ','), ('there', 'EX'), ('was', 'VBD'), ('Victoria', 'NNP'), ('Woodhull', 'NNP'), ('.', '.'), ('This', 'DT'), ('book', 'NN'), ('takes', 'VBZ'), ('you', 'PRP'), ('back', 'RB'), ('with', 'IN'), ('a', 'DT'), ('``', '``'), ('If', 'IN'), ('you', 'PRP'), ('have', 'VBP'), ('a', 'DT'), ('heart', 'NN'), (',', ','), ('if', 'IN'), ('you', 'PRP'), ('have', 'VBP'), ('a', 'DT'), ('soul', 'NN'), (',', ','), ('Karen', 'NNP'), ('Hicks', 'NNP'), (\"'\", 'POS'), ('The', 'DT'), ('Coming', 'NNP'), ('Woman', 'NNP'), ('will', 'MD'), ('make', 'VB'), ('you', 'PRP'), ('fall', 'VB'), ('in', 'IN'), ('love', 'NN'), ('with', 'IN'), ('Victoria', 'NNP'), ('Woodhull', 'NNP'), ('.', '.'), ('``', '``'), ('-Kinky', 'JJ'), ('Friedman', 'NNP'), (',', ','), ('author', 'NN'), ('and', 'CC'), ('Governor', 'NNP'), ('of', 'IN'), ('the', 'DT'), ('Heart', 'NNP'), ('of', 'IN'), ('Texas', 'NNP'), ('``', '``'), ('What', 'WP'), ('kind', 'NN'), ('of', 'IN'), ('confidence', 'NN'), ('would', 'MD'), ('it', 'PRP'), ('take', 'VB'), ('for', 'IN'), ('a', 'DT'), ('woman', 'NN'), ('to', 'TO'), ('buck', 'VB'), ('the', 'DT'), ('old', 'JJ'), ('boy', 'NN'), (\"'s\", 'POS'), ('club', 'NN'), ('of', 'IN'), ('politics', 'NNS'), ('in', 'IN'), ('1872', 'CD'), ('?', '.'), ('More', 'JJR'), ('than', 'IN'), ('140', 'CD'), ('years', 'NNS'), ('pre-Hillary', 'JJ'), (',', ','), ('there', 'EX'), ('was', 'VBD'), ('Victoria', 'NNP'), ('Woodhull', 'NNP'), ('.', '.'), ('This', 'DT'), ('book', 'NN'), ('takes', 'VBZ'), ('you', 'PRP'), ('back', 'RB'), ('with', 'IN'), ('a', 'DT'), ('breathtaking', 'NN'), (',', ','), ('present-tense', 'JJ'), ('bird', 'NN'), (\"'s\", 'POS'), ('eye', 'NN'), ('view', 'NN'), ('into', 'IN'), ('a', 'DT'), ('time', 'NN'), ('when', 'WRB'), ('women', 'NNS'), (\"'s\", 'POS'), ('liberation', 'NN'), ('was', 'VBD'), ('primarily', 'RB'), ('confined', 'VBN'), ('to', 'TO'), ('one', 'CD'), ('woman', 'NN'), (\"'s\", 'POS'), ('very', 'RB'), ('capable', 'JJ'), (',', ','), ('independent', 'JJ'), ('mind', 'NN'), ('.', '.'), ('I', 'PRP'), ('could', 'MD'), (\"n't\", 'RB'), ('put', 'VB'), ('it', 'PRP'), ('down', 'RP'), ('.', '.'), (\"''\", \"''\"), ('--', ':'), ('-Ruth', 'NNP'), ('Buzzi', 'NNP'), (',', ','), ('Golden', 'NNP'), ('Globe', 'NNP'), ('Award', 'NNP'), ('winner', 'NN'), ('and', 'CC'), ('Television', 'NNP'), ('Hall', 'NNP'), ('of', 'IN'), ('Fame', 'NNP'), ('inductee', 'NN'), (\"''\", \"''\"), ('Sadly', 'RB'), (',', ','), ('too', 'RB'), ('many', 'JJ'), ('Americans', 'NNPS'), ('have', 'VBP'), ('never', 'RB'), ('heard', 'VBN'), ('of', 'IN'), ('Victoria', 'NNP'), ('Woodhull', 'NNP'), (',', ','), ('let', 'VB'), ('alone', 'RB'), ('learned', 'VBN'), ('of', 'IN'), ('her', 'PRP$'), ('story', 'NN'), (':', ':'), ('her', 'PRP$'), ('revolutionary', 'JJ'), ('campaign', 'NN'), ('for', 'IN'), ('the', 'DT'), ('presidency', 'NN'), ('at', 'IN'), ('a', 'DT'), ('time', 'NN'), ('when', 'WRB'), ('women', 'NNS'), ('were', 'VBD'), (\"n't\", 'RB'), ('even', 'RB'), ('allowed', 'VBN'), ('to', 'TO'), ('vote', 'VB'), (',', ','), ('her', 'PRP$'), ('support', 'NN'), ('for', 'IN'), ('worker', 'NN'), (\"'s\", 'POS'), ('rights', 'NNS'), (',', ','), ('or', 'CC'), ('her', 'PRP$'), ('feminist', 'JJ'), ('commitment', 'NN'), ('to', 'TO'), ('equality', 'NN'), (',', ','), ('a', 'DT'), ('century', 'NN'), ('before', 'IN'), ('the', 'DT'), ('official', 'JJ'), ('battle', 'NN'), ('over', 'IN'), ('the', 'DT'), ('Equal', 'NNP'), ('Rights', 'NNP'), ('Amendment', 'NNP'), ('.', '.'), ('But', 'CC'), ('in', 'IN'), ('The', 'DT'), ('Coming', 'NNP'), ('Woman', 'NNP'), (',', ','), ('Karen', 'NNP'), ('Hicks', 'NNP'), ('brings', 'VBZ'), ('Woodhull', 'NNP'), (\"'s\", 'POS'), ('efforts', 'NNS'), ('to', 'TO'), ('life', 'NN'), (',', ','), ('and', 'CC'), ('reminds', 'VBZ'), ('us', 'PRP'), ('that', 'IN'), ('some', 'DT'), ('of', 'IN'), ('our', 'PRP$'), ('nation', 'NN'), (\"'s\", 'POS'), ('greatest', 'JJS'), ('figures', 'NNS'), ('are', 'VBP'), (\"n't\", 'RB'), ('always', 'RB'), ('featured', 'VBN'), ('in', 'IN'), ('the', 'DT'), ('history', 'NN'), ('books', 'NNS'), ('.', '.'), ('It', 'PRP'), ('is', 'VBZ'), ('a', 'DT'), ('riveting', 'VBG'), ('account', 'NN'), ('of', 'IN'), ('an', 'DT'), ('amazing', 'JJ'), ('woman', 'NN'), ('and', 'CC'), ('her', 'PRP$'), ('struggle', 'NN'), ('for', 'IN'), ('justice', 'NN'), ('and', 'CC'), ('human', 'JJ'), ('dignity', 'NN'), (',', ','), ('told', 'VBD'), ('in', 'IN'), ('an', 'DT'), ('engaging', 'NN'), ('and', 'CC'), ('eminently', 'RB'), ('readable', 'JJ'), ('style', 'NN'), ('.', '.'), ('``', '``'), ('-Tim', 'JJ'), ('Wise', 'NNP'), (',', ','), ('author', 'NN'), (',', ','), ('``', '``'), ('White', 'NNP'), ('Like', 'IN'), ('Me', 'NNP'), (':', ':'), ('Reflections', 'NNS'), ('on', 'IN'), ('Race', 'NNP'), ('from', 'IN'), ('a', 'DT'), ('Privileged', 'NNP'), ('Son', 'NNP'), (\"''\", \"''\"), (\"''\", \"''\"), ('The', 'DT'), ('Coming', 'NNP'), ('Woman', 'NNP'), (\"''\", \"''\"), ('is', 'VBZ'), ('a', 'DT'), ('novel', 'NN'), ('based', 'VBN'), ('on', 'IN'), ('the', 'DT'), ('life', 'NN'), ('of', 'IN'), ('feminist', 'JJ'), ('Victoria', 'NNP'), ('Woodhull', 'NNP'), (',', ','), ('the', 'DT'), ('first', 'JJ'), ('woman', 'NN'), ('to', 'TO'), ('run', 'VB'), ('for', 'IN'), ('U.S.', 'NNP'), ('President', 'NNP'), (',', ','), ('50', 'CD'), ('years', 'NNS'), ('before', 'IN'), ('women', 'NNS'), ('could', 'MD'), ('even', 'RB'), ('vote', 'VB'), ('!', '.'), ('Running', 'VBG'), ('for', 'IN'), ('President', 'NNP'), ('was', 'VBD'), (\"n't\", 'RB'), ('Victoria', 'NNP'), (\"'s\", 'POS'), ('only', 'RB'), ('first', 'RB'), ('as', 'IN'), ('a', 'DT'), ('woman', 'NN'), ('.', '.'), ('She', 'PRP'), ('was', 'VBD'), ('also', 'RB'), ('the', 'DT'), ('first', 'JJ'), ('to', 'TO'), ('own', 'VB'), ('a', 'DT'), ('successful', 'JJ'), ('Wall', 'NNP'), ('Street', 'NNP'), ('firm', 'NN'), (',', ','), ('the', 'DT'), ('first', 'JJ'), ('to', 'TO'), ('publish', 'VB'), ('a', 'DT'), ('successful', 'JJ'), ('national', 'JJ'), ('newspaper', 'NN'), (',', ','), ('and', 'CC'), ('the', 'DT'), ('first', 'JJ'), ('to', 'TO'), ('head', 'VB'), ('the', 'DT'), ('two-million-member', 'JJ'), ('Spiritualist', 'NNP'), ('Association', 'NNP'), ('.', '.'), ('She', 'PRP'), ('was', 'VBD'), ('the', 'DT'), ('first', 'JJ'), ('woman', 'NN'), ('to', 'TO'), ('enter', 'VB'), ('the', 'DT'), ('Senate', 'NNP'), ('Judiciary', 'NNP'), ('Committee', 'NNP'), ('chambers', 'NNS'), ('to', 'TO'), ('petition', 'NN'), ('for', 'IN'), ('woman', 'NN'), (\"'s\", 'POS'), ('suffrage', 'NN'), (',', ','), ('her', 'PRP$'), ('argument', 'NN'), ('changing', 'VBG'), ('the', 'DT'), ('entire', 'JJ'), ('focus', 'NN'), ('of', 'IN'), ('the', 'DT'), ('suffragist', 'JJ'), ('movement', 'NN'), ('by', 'IN'), ('pointing', 'VBG'), ('out', 'RP'), ('that', 'IN'), ('the', 'DT'), ('14th', 'CD'), ('and', 'CC'), ('15th', 'CD'), ('Amendments', 'NNS'), ('already', 'RB'), ('gave', 'VBD'), ('women', 'NNS'), ('the', 'DT'), ('vote.In', 'NN'), ('her', 'PRP$'), ('campaign', 'NN'), ('for', 'IN'), ('the', 'DT'), ('Presidency', 'NNP'), (',', ','), ('Victoria', 'NNP'), ('Woodhull', 'NNP'), ('boldly', 'RB'), ('addressed', 'VBD'), ('many', 'JJ'), ('of', 'IN'), ('the', 'DT'), ('issues', 'NNS'), ('we', 'PRP'), ('still', 'RB'), ('face', 'VBP'), ('today', 'NN'), (':', ':'), ('equal', 'JJ'), ('pay', 'NN'), ('for', 'IN'), ('equal', 'JJ'), ('work', 'NN'), (';', ':'), ('freedom', 'NN'), ('in', 'IN'), ('love', 'NN'), (';', ':'), ('corporate', 'JJ'), ('greed', 'NN'), ('and', 'CC'), ('political', 'JJ'), ('corruption', 'NN'), ('fueled', 'VBN'), ('by', 'IN'), ('powerful', 'JJ'), ('lobbyists', 'NNS'), (';', ':'), ('and', 'CC'), ('the', 'DT'), ('increasing', 'VBG'), ('disparity', 'NN'), ('between', 'IN'), ('the', 'DT'), ('rich', 'JJ'), ('and', 'CC'), ('the', 'DT'), ('poor', 'JJ'), (',', ','), ('to', 'TO'), ('name', 'VB'), ('only', 'RB'), ('a', 'DT'), ('few', 'JJ'), ('.', '.'), ('Her', 'PRP$'), ('outspoken', 'JJ'), ('and', 'CC'), ('common-sense', 'JJ'), ('ideas', 'NNS'), ('may', 'MD'), ('shed', 'VB'), ('a', 'DT'), ('new', 'JJ'), ('perspective', 'NN'), ('on', 'IN'), ('the', 'DT'), ('parallel', 'JJ'), ('conundrums', 'NNS'), ('of', 'IN'), ('today', 'NN'), (\"'s\", 'POS'), ('world.This', 'NN'), ('bold', 'NN'), (',', ','), ('beautiful', 'JJ'), (',', ','), ('and', 'CC'), ('sexually', 'RB'), ('progressive', 'JJ'), ('woman', 'NN'), ('dared', 'VBD'), ('to', 'TO'), ('take', 'VB'), ('on', 'IN'), ('society', 'NN'), ('and', 'CC'), ('religion', 'NN'), ('.', '.'), ('To', 'TO'), ('make', 'VB'), ('an', 'DT'), ('example', 'NN'), ('of', 'IN'), ('the', 'DT'), ('hypocrisy', 'NN'), ('in', 'IN'), ('what', 'WP'), ('Mark', 'NNP'), ('Twain', 'NNP'), ('dubbed', 'VBD'), ('The', 'DT'), ('Gilded', 'NNP'), ('Age', 'NNP'), (',', ','), ('she', 'PRP'), ('exposed', 'VBD'), ('the', 'DT'), ('extramarital', 'JJ'), ('affairs', 'NNS'), ('of', 'IN'), ('the', 'DT'), ('most', 'RBS'), ('popular', 'JJ'), ('religious', 'JJ'), ('figure', 'NN'), ('of', 'IN'), ('the', 'DT'), ('day', 'NN'), ('(', '('), ('Henry', 'NNP'), ('Ward', 'NNP'), ('Beecher', 'NNP'), (')', ')'), ('.', '.'), ('This', 'DT'), ('led', 'VBD'), ('to', 'TO'), ('her', 'PRP$'), ('persecution', 'NN'), ('and', 'CC'), ('imprisonment', 'NN'), ('and', 'CC'), ('the', 'DT'), ('longest', 'JJS'), (',', ','), ('most', 'RBS'), ('infamous', 'JJ'), ('trial', 'NN'), ('of', 'IN'), ('the', 'DT'), ('19th', 'JJ'), ('century', 'NN'), ('.', '.'), ('But', 'CC'), ('it', 'PRP'), ('did', 'VBD'), ('not', 'RB'), ('stop', 'VB'), ('her', 'PRP$'), ('fight', 'NN'), ('for', 'IN'), ('equality.Victoria', 'NN'), (\"'s\", 'POS'), ('epic', 'JJ'), ('story', 'NN'), (',', ','), ('set', 'VBN'), ('in', 'IN'), ('the', 'DT'), ('late', 'JJ'), ('1800s', 'CD'), (',', ','), ('comes', 'VBZ'), ('to', 'TO'), ('life', 'NN'), ('in', 'IN'), ('a', 'DT'), ('modern', 'JJ'), (',', ','), ('fictional', 'JJ'), ('style', 'NN'), (',', ','), ('while', 'IN'), ('staying', 'VBG'), ('true', 'JJ'), ('to', 'TO'), ('the', 'DT'), ('actual', 'JJ'), ('words', 'NNS'), ('and', 'CC'), ('views', 'NNS'), ('of', 'IN'), ('the', 'DT'), ('many', 'JJ'), ('well-known', 'JJ'), ('characters', 'NNS'), ('.', '.'), ('...', ':'), ('more', 'JJR')]\n",
            "Book 9: [('The', 'DT'), ('Boys', 'NNP'), ('in', 'IN'), ('the', 'DT'), ('Boat', 'NN'), (':', ':'), ('Nine', 'JJ'), ('Americans', 'NNPS'), ('and', 'CC'), ('Their', 'NNP'), ('Epic', 'NNP'), ('Quest', 'NNP'), ('for', 'IN'), ('Gold', 'NNP'), ('at', 'IN'), ('the', 'DT'), ('1936', 'CD'), ('Berlin', 'NNP'), ('Olympics', 'NNPS'), ('For', 'IN'), ('readers', 'NNS'), ('of', 'IN'), ('Laura', 'NNP'), ('Hillenbrand', 'NNP'), (\"'s\", 'POS'), ('Seabiscuit', 'NNP'), ('and', 'CC'), ('Unbroken', 'NNP'), (',', ','), ('the', 'DT'), ('dramatic', 'JJ'), ('story', 'NN'), ('of', 'IN'), ('the', 'DT'), ('American', 'NNP'), ('rowing', 'NN'), ('team', 'NN'), ('that', 'WDT'), ('stunned', 'VBD'), ('the', 'DT'), ('world', 'NN'), ('at', 'IN'), ('Hitler', 'NNP'), (\"'s\", 'POS'), ('1936', 'CD'), ('Berlin', 'NNP'), ('Olympics', 'NNPS'), ('Daniel', 'NNP'), ('James', 'NNP'), ('Brown', 'NNP'), ('’', 'NNP'), ('s', 'VBD'), ('robust', 'JJ'), ('book', 'NN'), ('tells', 'VBZ'), ('the', 'DT'), ('story', 'NN'), ('of', 'IN'), ('the', 'DT'), ('University', 'NNP'), ('of', 'IN'), ('Washington', 'NNP'), ('’', 'NNP'), ('s', 'NN'), ('1936', 'CD'), ('eight-oar', 'NN'), ('crew', 'NN'), ('and', 'CC'), ('their', 'PRP$'), ('epic', 'NN'), ('quest', 'NN'), ('for', 'IN'), ('an', 'DT'), ('Olympic', 'NNP'), ('gold', 'NN'), ('medal', 'NN'), (',', ','), ('a', 'DT'), ('team', 'NN'), ('that', 'WDT'), ('transformed', 'VBD'), ('the', 'DT'), ('sport', 'NN'), ('and', 'CC'), ('grabbed', 'VBD'), ('the', 'DT'), ('attention', 'NN'), ('o', 'NN'), ('For', 'IN'), ('readers', 'NNS'), ('of', 'IN'), ('Laura', 'NNP'), ('Hillenbrand', 'NNP'), (\"'s\", 'POS'), ('Seabiscuit', 'NNP'), ('and', 'CC'), ('Unbroken', 'NNP'), (',', ','), ('the', 'DT'), ('dramatic', 'JJ'), ('story', 'NN'), ('of', 'IN'), ('the', 'DT'), ('American', 'NNP'), ('rowing', 'NN'), ('team', 'NN'), ('that', 'WDT'), ('stunned', 'VBD'), ('the', 'DT'), ('world', 'NN'), ('at', 'IN'), ('Hitler', 'NNP'), (\"'s\", 'POS'), ('1936', 'CD'), ('Berlin', 'NNP'), ('Olympics', 'NNPS'), ('Daniel', 'NNP'), ('James', 'NNP'), ('Brown', 'NNP'), ('’', 'NNP'), ('s', 'VBD'), ('robust', 'JJ'), ('book', 'NN'), ('tells', 'VBZ'), ('the', 'DT'), ('story', 'NN'), ('of', 'IN'), ('the', 'DT'), ('University', 'NNP'), ('of', 'IN'), ('Washington', 'NNP'), ('’', 'NNP'), ('s', 'NN'), ('1936', 'CD'), ('eight-oar', 'NN'), ('crew', 'NN'), ('and', 'CC'), ('their', 'PRP$'), ('epic', 'NN'), ('quest', 'NN'), ('for', 'IN'), ('an', 'DT'), ('Olympic', 'NNP'), ('gold', 'NN'), ('medal', 'NN'), (',', ','), ('a', 'DT'), ('team', 'NN'), ('that', 'WDT'), ('transformed', 'VBD'), ('the', 'DT'), ('sport', 'NN'), ('and', 'CC'), ('grabbed', 'VBD'), ('the', 'DT'), ('attention', 'NN'), ('of', 'IN'), ('millions', 'NNS'), ('of', 'IN'), ('Americans', 'NNPS'), ('.', '.'), ('The', 'DT'), ('sons', 'NNS'), ('of', 'IN'), ('loggers', 'NNS'), (',', ','), ('shipyard', 'NN'), ('workers', 'NNS'), (',', ','), ('and', 'CC'), ('farmers', 'NNS'), (',', ','), ('the', 'DT'), ('boys', 'NNS'), ('defeated', 'VBD'), ('elite', 'JJ'), ('rivals', 'NNS'), ('first', 'RB'), ('from', 'IN'), ('eastern', 'JJ'), ('and', 'CC'), ('British', 'JJ'), ('universities', 'NNS'), ('and', 'CC'), ('finally', 'RB'), ('the', 'DT'), ('German', 'JJ'), ('crew', 'NN'), ('rowing', 'VBG'), ('for', 'IN'), ('Adolf', 'NNP'), ('Hitler', 'NNP'), ('in', 'IN'), ('the', 'DT'), ('Olympic', 'NNP'), ('games', 'NNS'), ('in', 'IN'), ('Berlin', 'NNP'), (',', ','), ('1936', 'CD'), ('.', '.'), ('The', 'DT'), ('emotional', 'JJ'), ('heart', 'NN'), ('of', 'IN'), ('the', 'DT'), ('story', 'NN'), ('lies', 'VBZ'), ('with', 'IN'), ('one', 'CD'), ('rower', 'NN'), (',', ','), ('Joe', 'NNP'), ('Rantz', 'NNP'), (',', ','), ('a', 'DT'), ('teenager', 'NN'), ('without', 'IN'), ('family', 'NN'), ('or', 'CC'), ('prospects', 'NNS'), (',', ','), ('who', 'WP'), ('rows', 'VBZ'), ('not', 'RB'), ('for', 'IN'), ('glory', 'NN'), (',', ','), ('but', 'CC'), ('to', 'TO'), ('regain', 'VB'), ('his', 'PRP$'), ('shattered', 'JJ'), ('self-regard', 'NN'), ('and', 'CC'), ('to', 'TO'), ('find', 'VB'), ('a', 'DT'), ('place', 'NN'), ('he', 'PRP'), ('can', 'MD'), ('call', 'VB'), ('home', 'NN'), ('.', '.'), ('The', 'DT'), ('crew', 'NN'), ('is', 'VBZ'), ('assembled', 'VBN'), ('by', 'IN'), ('an', 'DT'), ('enigmatic', 'JJ'), ('coach', 'NN'), ('and', 'CC'), ('mentored', 'VBN'), ('by', 'IN'), ('a', 'DT'), ('visionary', 'JJ'), (',', ','), ('eccentric', 'JJ'), ('British', 'JJ'), ('boat', 'NN'), ('builder', 'NN'), (',', ','), ('but', 'CC'), ('it', 'PRP'), ('is', 'VBZ'), ('their', 'PRP$'), ('trust', 'NN'), ('in', 'IN'), ('each', 'DT'), ('other', 'JJ'), ('that', 'WDT'), ('makes', 'VBZ'), ('them', 'PRP'), ('a', 'DT'), ('victorious', 'JJ'), ('team', 'NN'), ('.', '.'), ('They', 'PRP'), ('remind', 'VBP'), ('the', 'DT'), ('country', 'NN'), ('of', 'IN'), ('what', 'WP'), ('can', 'MD'), ('be', 'VB'), ('done', 'VBN'), ('when', 'WRB'), ('everyone', 'NN'), ('quite', 'RB'), ('literally', 'RB'), ('pulls', 'VBZ'), ('together—a', 'JJ'), ('perfect', 'JJ'), ('melding', 'NN'), ('of', 'IN'), ('commitment', 'NN'), (',', ','), ('determination', 'NN'), (',', ','), ('and', 'CC'), ('optimism', 'NN'), ('.', '.'), ('Drawing', 'VBG'), ('on', 'IN'), ('the', 'DT'), ('boys', 'NNS'), ('’', 'VBP'), ('own', 'JJ'), ('diaries', 'NNS'), ('and', 'CC'), ('journals', 'NNS'), (',', ','), ('their', 'PRP$'), ('photos', 'NNS'), ('and', 'CC'), ('memories', 'NNS'), ('of', 'IN'), ('a', 'DT'), ('once-in-a-lifetime', 'JJ'), ('shared', 'JJ'), ('dream', 'NN'), (',', ','), ('The', 'DT'), ('Boys', 'NNP'), ('in', 'IN'), ('the', 'DT'), ('Boat', 'NNP'), ('is', 'VBZ'), ('an', 'DT'), ('irresistible', 'JJ'), ('story', 'NN'), ('about', 'IN'), ('beating', 'VBG'), ('the', 'DT'), ('odds', 'NNS'), ('and', 'CC'), ('finding', 'VBG'), ('hope', 'NN'), ('in', 'IN'), ('the', 'DT'), ('most', 'RBS'), ('desperate', 'JJ'), ('of', 'IN'), ('times—the', 'NN'), ('improbable', 'JJ'), (',', ','), ('intimate', 'JJ'), ('story', 'NN'), ('of', 'IN'), ('nine', 'CD'), ('working-class', 'JJ'), ('boys', 'NNS'), ('from', 'IN'), ('the', 'DT'), ('American', 'JJ'), ('west', 'NN'), ('who', 'WP'), (',', ','), ('in', 'IN'), ('the', 'DT'), ('depths', 'NNS'), ('of', 'IN'), ('the', 'DT'), ('Great', 'NNP'), ('Depression', 'NNP'), (',', ','), ('showed', 'VBD'), ('the', 'DT'), ('world', 'NN'), ('what', 'WP'), ('true', 'JJ'), ('grit', 'NN'), ('really', 'RB'), ('meant', 'JJ'), ('.', '.'), ('It', 'PRP'), ('will', 'MD'), ('appeal', 'VB'), ('to', 'TO'), ('readers', 'NNS'), ('of', 'IN'), ('Erik', 'NNP'), ('Larson', 'NNP'), (',', ','), ('Timothy', 'NNP'), ('Egan', 'NNP'), (',', ','), ('James', 'NNP'), ('Bradley', 'NNP'), (',', ','), ('and', 'CC'), ('David', 'NNP'), ('Halberstam', 'NNP'), (\"'s\", 'POS'), ('The', 'DT'), ('Amateurs', 'NNP'), ('.', '.'), ('...', ':'), ('more', 'JJR')]\n",
            "Book 10: [('The', 'DT'), ('Black', 'NNP'), ('Maria', 'NNP'), ('Praise', 'NNP'), ('for', 'IN'), ('Aracelis', 'NNP'), ('Girmay', 'NNP'), (':', ':'), (\"''\", \"''\"), ('[', 'VBZ'), ('Girmay', 'NNP'), (\"'s\", 'POS'), (']', 'NN'), ('every', 'DT'), ('loss—she', 'NN'), ('calls', 'VBZ'), ('them', 'PRP'), ('estrangements—is', 'VB'), ('a', 'DT'), ('yearning', 'NN'), ('for', 'IN'), ('connection', 'NN'), ('across', 'IN'), ('time', 'NN'), ('and', 'CC'), ('place', 'NN'), (';', ':'), ('her', 'PRP$'), ('every', 'DT'), ('fragment', 'NN'), ('is', 'VBZ'), ('a', 'DT'), ('bulwark', 'NN'), ('against', 'IN'), ('ruin', 'NN'), ('.', '.'), (\"''\", \"''\"), ('—', 'JJ'), ('O', 'NNP'), (',', ','), ('The', 'DT'), ('Oprah', 'NNP'), ('Magazine', 'NNP'), ('``', '``'), ('In', 'IN'), ('Aracelis', 'NNP'), ('Girmay', 'NNP'), ('we', 'PRP'), ('have', 'VBP'), ('a', 'DT'), ('poet', 'NN'), ('who', 'WP'), ('collects', 'VBZ'), (',', ','), ('polishes', 'NNS'), (',', ','), ('and', 'CC'), ('shares', 'NNS'), ('stories', 'NNS'), ('with', 'IN'), ('such', 'JJ'), ('brilliant', 'JJ'), ('invention', 'NN'), (',', ','), ('tenderness', 'NN'), (',', ','), ('and', 'CC'), ('intellectual', 'JJ'), ('liveliness', 'NN'), ('that', 'IN'), ('it', 'PRP'), ('is', 'VBZ'), ('understandabl', 'JJ'), ('Praise', 'NNP'), ('for', 'IN'), ('Aracelis', 'NNP'), ('Girmay', 'NNP'), (':', ':'), (\"''\", \"''\"), ('[', 'VBZ'), ('Girmay', 'NNP'), (\"'s\", 'POS'), (']', 'NN'), ('every', 'DT'), ('loss—she', 'NN'), ('calls', 'VBZ'), ('them', 'PRP'), ('estrangements—is', 'VB'), ('a', 'DT'), ('yearning', 'NN'), ('for', 'IN'), ('connection', 'NN'), ('across', 'IN'), ('time', 'NN'), ('and', 'CC'), ('place', 'NN'), (';', ':'), ('her', 'PRP$'), ('every', 'DT'), ('fragment', 'NN'), ('is', 'VBZ'), ('a', 'DT'), ('bulwark', 'NN'), ('against', 'IN'), ('ruin', 'NN'), ('.', '.'), (\"''\", \"''\"), ('—', 'JJ'), ('O', 'NNP'), (',', ','), ('The', 'DT'), ('Oprah', 'NNP'), ('Magazine', 'NNP'), ('``', '``'), ('In', 'IN'), ('Aracelis', 'NNP'), ('Girmay', 'NNP'), ('we', 'PRP'), ('have', 'VBP'), ('a', 'DT'), ('poet', 'NN'), ('who', 'WP'), ('collects', 'VBZ'), (',', ','), ('polishes', 'NNS'), (',', ','), ('and', 'CC'), ('shares', 'NNS'), ('stories', 'NNS'), ('with', 'IN'), ('such', 'JJ'), ('brilliant', 'JJ'), ('invention', 'NN'), (',', ','), ('tenderness', 'NN'), (',', ','), ('and', 'CC'), ('intellectual', 'JJ'), ('liveliness', 'NN'), ('that', 'IN'), ('it', 'PRP'), ('is', 'VBZ'), ('understandable', 'JJ'), ('that', 'IN'), ('we', 'PRP'), ('think', 'VBP'), ('of', 'IN'), ('her', 'PRP'), ('as', 'IN'), ('the', 'DT'), ('blessed', 'JJ'), ('curator', 'NN'), ('of', 'IN'), ('our', 'PRP$'), ('collective', 'JJ'), ('histories', 'NNS'), ('.', '.'), ('There', 'EX'), ('is', 'VBZ'), ('in', 'IN'), ('her', 'PRP$'), ('art', 'NN'), ('the', 'DT'), ('vulnerability', 'NN'), ('of', 'IN'), ('one', 'CD'), ('who', 'WP'), ('lives', 'VBZ'), ('inside', 'IN'), ('of', 'IN'), ('the', 'DT'), ('stories', 'NNS'), ('that', 'IN'), ('she', 'PRP'), ('gathers', 'VBZ'), ('in', 'IN'), ('this', 'DT'), ('remarkable', 'JJ'), ('collection', 'NN'), ('.', '.'), ('Her', 'PRP$'), ('poems', 'NNS'), ('set', 'VBD'), ('off', 'RP'), ('alarms', 'NNS'), ('even', 'RB'), ('as', 'IN'), ('they', 'PRP'), ('transform', 'VBP'), ('the', 'DT'), ('world', 'NN'), ('she', 'PRP'), ('inhabits', 'VBZ'), (',', ','), ('showing', 'VBG'), ('us', 'PRP'), (',', ','), ('in', 'IN'), ('the', 'DT'), ('process', 'NN'), (',', ','), ('exactly', 'RB'), ('what', 'WP'), ('she', 'PRP'), ('asks', 'VBZ'), ('of', 'IN'), ('Romare', 'NNP'), ('Bearden', 'NNP'), ('’', 'NNP'), ('s', 'JJ'), ('art', 'NN'), (':', ':'), ('‘', 'NN'), ('…how', 'VBZ'), ('not', 'RB'), ('to', 'TO'), ('//', 'VB'), ('assign', 'VB'), ('all', 'DT'), ('blackness', 'NN'), ('near', 'IN'), ('the', 'DT'), ('sea', 'NN'), ('/', 'VBZ'), ('a', 'DT'), ('captivity.', 'NN'), ('’', 'NN'), ('This', 'DT'), ('is', 'VBZ'), ('one', 'CD'), ('of', 'IN'), ('the', 'DT'), ('many', 'JJ'), ('sweet', 'JJ'), ('contradictions', 'NNS'), ('in', 'IN'), ('the', 'DT'), ('black', 'JJ'), ('maria', 'NN'), (',', ','), ('which', 'WDT'), ('‘', 'VBP'), ('is', 'VBZ'), ('a', 'DT'), ('black', 'JJ'), ('flag', 'NN'), ('/', 'NN'), ('wounding', 'VBG'), ('the', 'DT'), ('pastoral.', 'NN'), ('’', 'NN'), ('I', 'PRP'), ('am', 'VBP'), ('deeply', 'RB'), ('thankful', 'JJ'), ('that', 'IN'), ('we', 'PRP'), ('have', 'VBP'), ('a', 'DT'), ('poet', 'NN'), ('of', 'IN'), ('her', 'PRP$'), ('unique', 'JJ'), ('and', 'CC'), ('singular', 'JJ'), ('talent', 'NN'), ('writing', 'VBG'), ('today', 'NN'), ('.', '.'), (\"''\", \"''\"), ('—Kwame', 'VBZ'), ('DawesTaking', 'NNP'), ('its', 'PRP$'), ('name', 'NN'), ('from', 'IN'), ('the', 'DT'), ('moon', 'NN'), (\"'s\", 'POS'), ('dark', 'NN'), ('plains', 'NNS'), (',', ','), ('misidentified', 'VBD'), ('as', 'IN'), ('seas', 'NNS'), ('by', 'IN'), ('early', 'JJ'), ('astronomers', 'NNS'), (',', ','), ('the', 'DT'), ('black', 'JJ'), ('maria', 'NN'), ('investigates', 'NNS'), ('African', 'NNP'), ('diasporic', 'NN'), ('histories', 'NNS'), (',', ','), ('the', 'DT'), ('consequences', 'NNS'), ('of', 'IN'), ('racism', 'NN'), ('within', 'IN'), ('American', 'JJ'), ('culture', 'NN'), (',', ','), ('and', 'CC'), ('the', 'DT'), ('question', 'NN'), ('of', 'IN'), ('human', 'JJ'), ('identity', 'NN'), ('.', '.'), ('Central', 'JJ'), ('to', 'TO'), ('this', 'DT'), ('project', 'NN'), ('is', 'VBZ'), ('a', 'DT'), ('desire', 'NN'), ('to', 'TO'), ('recognize', 'VB'), ('the', 'DT'), ('lives', 'NNS'), ('of', 'IN'), ('Eritrean', 'NNP'), ('refugees', 'NNS'), ('who', 'WP'), ('have', 'VBP'), ('been', 'VBN'), ('made', 'VBN'), ('invisible', 'JJ'), ('by', 'IN'), ('years', 'NNS'), ('of', 'IN'), ('immigration', 'NN'), ('crisis', 'NN'), (',', ','), ('refugee', 'NN'), ('status', 'NN'), (',', ','), ('exile', 'NN'), (',', ','), ('and', 'CC'), ('resulting', 'VBG'), ('statelessness', 'NN'), ('.', '.'), ('The', 'DT'), ('recipient', 'NN'), ('of', 'IN'), ('a', 'DT'), ('2015', 'CD'), ('Whiting', 'NNP'), ('Award', 'NNP'), ('for', 'IN'), ('Poetry', 'NNP'), (',', ','), ('Girmay', 'NNP'), (\"'s\", 'POS'), ('newest', 'JJS'), ('collection', 'NN'), ('elegizes', 'NNS'), ('and', 'CC'), ('celebrates', 'VBZ'), ('life', 'NN'), (',', ','), ('while', 'IN'), ('wrestling', 'VBG'), ('with', 'IN'), ('the', 'DT'), ('humanistic', 'JJ'), ('notion', 'NN'), ('of', 'IN'), ('seeing', 'VBG'), ('beyond', 'IN'), (':', ':'), ('seeing', 'VBG'), ('violence', 'NN'), (',', ','), ('seeing', 'VBG'), ('grace', 'NN'), (',', ','), ('and', 'CC'), ('seeing', 'VBG'), ('each', 'DT'), ('other', 'JJ'), ('better', 'JJR'), ('.', '.'), ('``', '``'), ('to', 'TO'), ('the', 'DT'), ('sea', 'NN'), (\"''\", \"''\"), ('great', 'JJ'), ('storage', 'NN'), ('house', 'NN'), (',', ','), ('historyon', 'NN'), ('which', 'WDT'), ('we', 'PRP'), ('rode', 'VBP'), (',', ','), ('we', 'PRP'), ('touchedthe', 'VBP'), ('brief', 'JJ'), ('pulse', 'NN'), ('of', 'IN'), ('your', 'PRP$'), ('flutteringpages', 'NNS'), (',', ','), ('spelled', 'VBN'), ('with', 'IN'), ('salt', 'NN'), ('&', 'CC'), ('life', 'NN'), (',', ','), ('your', 'PRP$'), ('rage', 'NN'), (',', ','), ('your', 'PRP$'), ('indifferenceyour', 'JJ'), ('gentleness', 'NN'), ('washing', 'VBG'), ('our', 'PRP$'), ('feet', 'NNS'), (',', ','), ('all', 'DT'), ('of', 'IN'), ('you', 'PRP'), ('going', 'VBG'), ('onwhether', 'PRP'), ('or', 'CC'), ('not', 'RB'), ('we', 'PRP'), ('live', 'VBP'), (',', ','), ('to', 'TO'), ('you', 'PRP'), ('we', 'PRP'), ('bring', 'VBP'), ('our', 'PRP$'), ('carnationsyellow', 'NN'), ('&', 'CC'), ('pink', 'NN'), (',', ','), ('how', 'WRB'), ('they', 'PRP'), ('floatlike', 'VBP'), ('bright', 'JJ'), ('sentences', 'NNS'), ('atopyour', 'VBP'), ('memory', 'NN'), (\"'s\", 'POS'), ('dark', 'NN'), ('hairAracelis', 'NN'), ('Girmay', 'NNP'), ('is', 'VBZ'), ('the', 'DT'), ('author', 'NN'), ('of', 'IN'), ('three', 'CD'), ('poetry', 'NN'), ('collections', 'NNS'), (',', ','), ('the', 'DT'), ('black', 'JJ'), ('maria', 'NN'), (';', ':'), ('Kingdom', 'NNP'), ('Animalia', 'NNP'), (',', ','), ('which', 'WDT'), ('won', 'VBD'), ('the', 'DT'), ('Isabella', 'NNP'), ('Gardner', 'NNP'), ('Award', 'NNP'), ('and', 'CC'), ('was', 'VBD'), ('a', 'DT'), ('finalist', 'NN'), ('for', 'IN'), ('the', 'DT'), ('NBCC', 'NNP'), ('Award', 'NNP'), (';', ':'), ('and', 'CC'), ('Teeth', 'NNP'), ('.', '.'), ('The', 'DT'), ('recipient', 'NN'), ('of', 'IN'), ('a', 'DT'), ('2015', 'CD'), ('Whiting', 'NNP'), ('Award', 'NNP'), (',', ','), ('she', 'PRP'), ('has', 'VBZ'), ('received', 'VBN'), ('grants', 'NNS'), ('and', 'CC'), ('fellowships', 'NNS'), ('from', 'IN'), ('the', 'DT'), ('Jerome', 'NNP'), (',', ','), ('Cave', 'NNP'), ('Canem', 'NNP'), (',', ','), ('and', 'CC'), ('Watson', 'NNP'), ('foundations', 'NNS'), (',', ','), ('as', 'RB'), ('well', 'RB'), ('as', 'IN'), ('Civitella', 'NNP'), ('Ranieri', 'NNP'), ('and', 'CC'), ('the', 'DT'), ('NEA', 'NNP'), ('.', '.'), ('She', 'PRP'), ('currently', 'RB'), ('teaches', 'VBZ'), ('at', 'IN'), ('Hampshire', 'NNP'), ('College', 'NNP'), (\"'s\", 'POS'), ('School', 'NNP'), ('for', 'IN'), ('Interdisciplinary', 'NNP'), ('Arts', 'NNPS'), ('and', 'CC'), ('in', 'IN'), ('Drew', 'NNP'), ('University', 'NNP'), (\"'s\", 'POS'), ('low', 'JJ'), ('residency', 'NN'), ('MFA', 'NNP'), ('program', 'NN'), ('.', '.'), ('Originally', 'RB'), ('from', 'IN'), ('Santa', 'NNP'), ('Ana', 'NNP'), (',', ','), ('California', 'NNP'), (',', ','), ('she', 'PRP'), ('splits', 'VBZ'), ('her', 'PRP$'), ('time', 'NN'), ('between', 'IN'), ('New', 'NNP'), ('York', 'NNP'), ('and', 'CC'), ('Amherst', 'NNP'), (',', ','), ('Massachusetts', 'NNP'), ('.', '.'), ('...', ':'), ('more', 'JJR')]\n",
            "\n"
          ]
        }
      ]
    },
    {
      "cell_type": "code",
      "source": [
        "# 5. Feature Extraction: Word Length and Title Length\n",
        "\n",
        "def extract_length_features(titles, descriptions):\n",
        "    lengths = []\n",
        "    for title, description in zip(titles, descriptions):\n",
        "        title_length = len(title.split())\n",
        "        description_length = len(description.split())\n",
        "        lengths.append((title_length, description_length))\n",
        "    return lengths\n",
        "\n",
        "# Extract Length features\n",
        "length_features = extract_length_features(book_titles, book_descriptions)\n",
        "\n",
        "print(\"Word Length and Title Length (Title Length, Description Length):\")\n",
        "for i, lengths in enumerate(length_features):\n",
        "    print(f\"Book {i+1}: Title Length = {lengths[0]}, Description Length = {lengths[1]}\")\n",
        "print()\n"
      ],
      "metadata": {
        "colab": {
          "base_uri": "https://localhost:8080/"
        },
        "id": "wFXtWl4UrKOd",
        "outputId": "2825d554-9ade-4ac1-abb8-6f989674dd69"
      },
      "execution_count": 47,
      "outputs": [
        {
          "output_type": "stream",
          "name": "stdout",
          "text": [
            "Word Length and Title Length (Title Length, Description Length):\n",
            "Book 1: Title Length = 5, Description Length = 164\n",
            "Book 2: Title Length = 3, Description Length = 165\n",
            "Book 3: Title Length = 1, Description Length = 163\n",
            "Book 4: Title Length = 2, Description Length = 274\n",
            "Book 5: Title Length = 6, Description Length = 304\n",
            "Book 6: Title Length = 3, Description Length = 170\n",
            "Book 7: Title Length = 9, Description Length = 284\n",
            "Book 8: Title Length = 15, Description Length = 568\n",
            "Book 9: Title Length = 18, Description Length = 335\n",
            "Book 10: Title Length = 3, Description Length = 464\n",
            "\n"
          ]
        }
      ]
    },
    {
      "cell_type": "code",
      "source": [
        "# 6. Feature Extraction: Sentiment Analysis Scores\n",
        "\n",
        "from textblob import TextBlob\n",
        "\n",
        "\n",
        "def extract_sentiment(titles, descriptions):\n",
        "    sentiments = []\n",
        "    for title, description in zip(titles, descriptions):\n",
        "        text = f\"{title} {description}\"\n",
        "        blob = TextBlob(text)\n",
        "        sentiments.append((blob.sentiment.polarity, blob.sentiment.subjectivity))  # polarity, subjectivity\n",
        "    return sentiments\n",
        "\n",
        "# Extract Sentiment scores\n",
        "sentiment_scores = extract_sentiment(book_titles, book_descriptions)\n",
        "\n",
        "print(\"Sentiment Analysis Scores (Polarity, Subjectivity):\")\n",
        "for i, scores in enumerate(sentiment_scores):\n",
        "    print(f\"Book {i+1}: Polarity = {scores[0]:.2f}, Subjectivity = {scores[1]:.2f}\")\n",
        "print()\n"
      ],
      "metadata": {
        "colab": {
          "base_uri": "https://localhost:8080/"
        },
        "id": "_bVshAoBnBf1",
        "outputId": "607afa5a-bcbd-46b7-debb-d496b0b08b46"
      },
      "execution_count": 48,
      "outputs": [
        {
          "output_type": "stream",
          "name": "stdout",
          "text": [
            "Sentiment Analysis Scores (Polarity, Subjectivity):\n",
            "Book 1: Polarity = 0.26, Subjectivity = 0.51\n",
            "Book 2: Polarity = 0.12, Subjectivity = 0.50\n",
            "Book 3: Polarity = 0.00, Subjectivity = 0.00\n",
            "Book 4: Polarity = -0.03, Subjectivity = 0.49\n",
            "Book 5: Polarity = 0.00, Subjectivity = 0.37\n",
            "Book 6: Polarity = 0.03, Subjectivity = 0.45\n",
            "Book 7: Polarity = 0.01, Subjectivity = 0.57\n",
            "Book 8: Polarity = 0.24, Subjectivity = 0.53\n",
            "Book 9: Polarity = 0.11, Subjectivity = 0.46\n",
            "Book 10: Polarity = 0.17, Subjectivity = 0.47\n",
            "\n"
          ]
        }
      ]
    },
    {
      "cell_type": "markdown",
      "metadata": {
        "id": "7oSK4soH70nf"
      },
      "source": [
        "## Question 3 (10 points):\n",
        "Use any of the feature selection methods mentioned in this paper \"Deng, X., Li, Y., Weng, J., & Zhang, J. (2019). Feature selection for text classification: A review. Multimedia Tools & Applications, 78(3).\"\n",
        "\n",
        "Select the most important features you extracted above, rank the features based on their importance in the descending order."
      ]
    },
    {
      "cell_type": "code",
      "source": [
        "# I would like to use Filter Methods - Chi-Squared Test to evaluate the importance of features.\n",
        "\n",
        "import numpy as np\n",
        "import pandas as pd\n",
        "from sklearn.feature_extraction.text import CountVectorizer\n",
        "from sklearn.feature_selection import chi2\n",
        "from sklearn.datasets import make_multilabel_classification\n",
        "\n",
        "# creating some binary labels (0 or 1) for classification purposes.\n",
        "labels = np.random.randint(0, 2, size=(len(book_titles), 1))\n",
        "\n",
        "# Combine titles and descriptions for feature extraction\n",
        "combined_text = [f\"{title} {description}\" for title, description in zip(book_titles, book_descriptions)]\n",
        "\n",
        "# Extract features using Bag of Words\n",
        "vectorizer = CountVectorizer()\n",
        "X = vectorizer.fit_transform(combined_text)\n",
        "\n",
        "# Apply Chi-Squared Test\n",
        "chi2_scores, p_values = chi2(X, labels)\n",
        "\n",
        "# Create a DataFrame for easy interpretation\n",
        "feature_names = vectorizer.get_feature_names_out()\n",
        "chi2_df = pd.DataFrame({\n",
        "    'Feature': feature_names,\n",
        "    'Chi2 Score': chi2_scores\n",
        "})\n",
        "\n",
        "# Rank features based on Chi-Squared scores in descending order\n",
        "chi2_df = chi2_df.sort_values(by='Chi2 Score', ascending=False).reset_index(drop=True)\n",
        "\n",
        "# Display the ranked features\n",
        "print(\"Ranked Features based on Chi-Squared scores:\")\n",
        "print(chi2_df)\n"
      ],
      "metadata": {
        "colab": {
          "base_uri": "https://localhost:8080/"
        },
        "id": "W5C4CORXxuBG",
        "outputId": "8d84b58e-93d2-490b-abd6-7e213facc9eb"
      },
      "execution_count": 49,
      "outputs": [
        {
          "output_type": "stream",
          "name": "stdout",
          "text": [
            "Ranked Features based on Chi-Squared scores:\n",
            "        Feature  Chi2 Score\n",
            "0           the   36.945055\n",
            "1         woman   16.000000\n",
            "2            of   15.043956\n",
            "3           job   12.000000\n",
            "4            in   11.520000\n",
            "...         ...         ...\n",
            "1150        may    0.000000\n",
            "1151     poetry    0.000000\n",
            "1152     begins    0.000000\n",
            "1153       girl    0.000000\n",
            "1154  beautiful    0.000000\n",
            "\n",
            "[1155 rows x 2 columns]\n"
          ]
        }
      ]
    },
    {
      "cell_type": "markdown",
      "metadata": {
        "id": "7nZGAOwl70ng"
      },
      "source": [
        "## Question 4 (10 points):\n",
        "Write python code to rank the text based on text similarity. Based on the text data you used for question 2, design a query to match the most relevant docments. Please use the BERT model to represent both your query and the text data, then calculate the cosine similarity between the query and each text in your data. Rank the similary with descending order."
      ]
    },
    {
      "cell_type": "code",
      "execution_count": 50,
      "metadata": {
        "id": "b4HoWK-i70ng",
        "colab": {
          "base_uri": "https://localhost:8080/"
        },
        "outputId": "6c3d4377-4fc8-4994-e3b9-94c466e6cdf3"
      },
      "outputs": [
        {
          "output_type": "stream",
          "name": "stderr",
          "text": [
            "/usr/local/lib/python3.10/dist-packages/transformers/tokenization_utils_base.py:1601: FutureWarning: `clean_up_tokenization_spaces` was not set. It will be set to `True` by default. This behavior will be depracted in transformers v4.45, and will be then set to `False` by default. For more details check this issue: https://github.com/huggingface/transformers/issues/31884\n",
            "  warnings.warn(\n"
          ]
        },
        {
          "output_type": "stream",
          "name": "stdout",
          "text": [
            "Ranking of books based on query similarity:\n",
            "Rank 1: A Light in the Attic (Score: 0.6085)\n",
            "Rank 2: The Requiem Red (Score: 0.6026)\n",
            "Rank 3: Tipping the Velvet (Score: 0.6014)\n",
            "Rank 4: The Boys in the Boat: Nine Americans and Their Epic Quest for Gold at the 1936 Berlin Olympics (Score: 0.5893)\n",
            "Rank 5: The Black Maria (Score: 0.5784)\n",
            "Rank 6: Sapiens: A Brief History of Humankind (Score: 0.5600)\n",
            "Rank 7: Sharp Objects (Score: 0.5577)\n",
            "Rank 8: The Dirty Little Secrets of Getting Your Dream Job (Score: 0.5420)\n",
            "Rank 9: The Coming Woman: A Novel Based on the Life of the Infamous Feminist, Victoria Woodhull (Score: 0.5128)\n",
            "Rank 10: Soumission (Score: 0.3777)\n"
          ]
        }
      ],
      "source": [
        "# You code here (Please add comments in the code):\n",
        "\n",
        "\n",
        "import torch\n",
        "from transformers import BertTokenizer, BertModel\n",
        "from sklearn.metrics.pairwise import cosine_similarity\n",
        "\n",
        "\n",
        "# Initialize the BERT tokenizer and model\n",
        "tokenizer = BertTokenizer.from_pretrained('bert-base-uncased')\n",
        "model = BertModel.from_pretrained('bert-base-uncased')\n",
        "\n",
        "# Function to encode text using BERT\n",
        "def encode_texts(texts):\n",
        "    inputs = tokenizer(texts, padding=True, truncation=True, return_tensors='pt')\n",
        "    with torch.no_grad():\n",
        "        outputs = model(**inputs)\n",
        "    return outputs.last_hidden_state.mean(dim=1)  # Use mean of all token embeddings\n",
        "\n",
        "# Encode the book descriptions\n",
        "book_embeddings = encode_texts(book_descriptions)\n",
        "\n",
        "# Define a query\n",
        "query = \"a story about love and friendship\"\n",
        "query_embedding = encode_texts([query])\n",
        "\n",
        "# Calculate cosine similarity between the query and book descriptions\n",
        "similarity_scores = cosine_similarity(query_embedding.numpy(), book_embeddings.numpy())\n",
        "\n",
        "# Rank the texts based on similarity scores\n",
        "ranked_indices = similarity_scores[0].argsort()[::-1]  # Sort in descending order\n",
        "\n",
        "# Print the ranked results\n",
        "print(\"Ranking of books based on query similarity:\")\n",
        "for rank, index in enumerate(ranked_indices, start=1):\n",
        "    print(f\"Rank {rank}: {book_titles[index]} (Score: {similarity_scores[0][index]:.4f})\")\n",
        "\n"
      ]
    },
    {
      "cell_type": "markdown",
      "source": [
        "# Mandatory Question"
      ],
      "metadata": {
        "id": "VEs-OoDEhTW4"
      }
    },
    {
      "cell_type": "markdown",
      "source": [
        "**Important: Reflective Feedback on this exercise**\n",
        "\n",
        "Please provide your thoughts and feedback on the exercises you completed in this assignment. Consider the following points in your response:\n",
        "\n",
        "Learning Experience: Describe your overall learning experience in working on extracting features from text data. What were the key concepts or techniques you found most beneficial in understanding the process?\n",
        "\n",
        "Challenges Encountered: Were there specific difficulties in completing this exercise?\n",
        "\n",
        "Relevance to Your Field of Study: How does this exercise relate to the field of NLP?\n",
        "\n",
        "**(Your submission will not be graded if this question is left unanswered)**\n",
        "\n"
      ],
      "metadata": {
        "id": "IUKC7suYhVl0"
      }
    },
    {
      "cell_type": "code",
      "source": [
        "# Your answer here (no code for this question, write down your answer as detail as possible for the above questions):\n",
        "\n",
        "'''\n",
        "\n",
        "Working on extracting features from text data was a highly enriching experience. One of the key concepts I found beneficial was the understanding\n",
        "of various feature extraction methods, such as Bag of Words (BoW) and advanced techniques like BERT embeddings. Learning how to represent text in\n",
        "a numerical format is crucial for building machine learning models. Additionally, exploring feature selection methods highlighted the importance\n",
        "of identifying the most informative features to improve model performance and interpretability. The hands-on experience with libraries like\n",
        "scikit-learn and transformers made the concepts more tangible and applicable.\n",
        "\n",
        "As I am new to NLP and preprocessing tasks, I found understanding and implementing it for a real world scenario is challenging. Particularyly,\n",
        "I found the initial web scraping to be challenging.And Finally, I would say this exercise is highly relevant to the field of NLP, as feature\n",
        "extraction and selection are foundational steps in building effective text classification models.\n",
        "\n",
        "'''"
      ],
      "metadata": {
        "id": "CAq0DZWAhU9m",
        "colab": {
          "base_uri": "https://localhost:8080/",
          "height": 139
        },
        "outputId": "161b6547-8baf-4a87-bc21-14e590f3dd4d"
      },
      "execution_count": 51,
      "outputs": [
        {
          "output_type": "execute_result",
          "data": {
            "text/plain": [
              "'\\n\\nWorking on extracting features from text data was a highly enriching experience. One of the key concepts I found beneficial was the understanding \\nof various feature extraction methods, such as Bag of Words (BoW) and advanced techniques like BERT embeddings. Learning how to represent text in \\na numerical format is crucial for building machine learning models. Additionally, exploring feature selection methods highlighted the importance\\nof identifying the most informative features to improve model performance and interpretability. The hands-on experience with libraries like \\nscikit-learn and transformers made the concepts more tangible and applicable.\\n\\nAs I am new to NLP and preprocessing tasks, I found understanding and implementing it for a real world scenario is challenging. Particularyly,\\nI found the initial web scraping to be challenging.And Finally, I would say this exercise is highly relevant to the field of NLP, as feature\\nextraction and selection are foundational steps in building effective text classification models. \\n\\n'"
            ],
            "application/vnd.google.colaboratory.intrinsic+json": {
              "type": "string"
            }
          },
          "metadata": {},
          "execution_count": 51
        }
      ]
    }
  ],
  "metadata": {
    "kernelspec": {
      "display_name": "Python 3 (ipykernel)",
      "language": "python",
      "name": "python3"
    },
    "language_info": {
      "codemirror_mode": {
        "name": "ipython",
        "version": 3
      },
      "file_extension": ".py",
      "mimetype": "text/x-python",
      "name": "python",
      "nbconvert_exporter": "python",
      "pygments_lexer": "ipython3",
      "version": "3.9.12"
    },
    "colab": {
      "provenance": [],
      "include_colab_link": true
    }
  },
  "nbformat": 4,
  "nbformat_minor": 0
}