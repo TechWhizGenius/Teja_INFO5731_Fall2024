{
  "cells": [
    {
      "cell_type": "markdown",
      "metadata": {
        "id": "view-in-github",
        "colab_type": "text"
      },
      "source": [
        "<a href=\"https://colab.research.google.com/github/TechWhizGenius/Teja_INFO5731_Fall2024/blob/main/Mandaloju_Teja_Exercise_04.ipynb\" target=\"_parent\"><img src=\"https://colab.research.google.com/assets/colab-badge.svg\" alt=\"Open In Colab\"/></a>"
      ]
    },
    {
      "cell_type": "markdown",
      "metadata": {
        "id": "VdRwkJBn70nX"
      },
      "source": [
        "# **INFO5731 In-class Exercise 4**\n",
        "\n",
        "**This exercise will provide a valuable learning experience in working with text data and extracting features using various topic modeling algorithms. Key concepts such as Latent Dirichlet Allocation (LDA), Latent Semantic Analysis (LSA), lda2vec, and BERTopic.**"
      ]
    },
    {
      "cell_type": "markdown",
      "source": [
        "***Please use the text corpus you collected in your last in-class-exercise for this exercise. Perform the following tasks***.\n",
        "\n",
        "**Expectations**:\n",
        "*   Students are expected to complete the exercise during lecture period to meet the active participation criteria of the course.\n",
        "*   Use the provided .*ipynb* document to write your code & respond to the questions. Avoid generating a new file.\n",
        "*   Write complete answers and run all the cells before submission.\n",
        "*   Make sure the submission is \"clean\"; *i.e.*, no unnecessary code cells.\n",
        "*   Once finished, allow shared rights from top right corner (*see Canvas for details*).\n",
        "\n",
        "**Total points**: 40\n",
        "\n",
        "**Deadline**: This in-class exercise is due at the end of the day tomorrow, at 11:59 PM.\n",
        "\n",
        "**Late submissions will have a penalty of 10% of the marks for each day of late submission, and no requests will be answered. Manage your time accordingly.**\n"
      ],
      "metadata": {
        "id": "TU-pLW33lpcS"
      }
    },
    {
      "cell_type": "code",
      "source": [
        "'''\n",
        "\n",
        "import requests\n",
        "from bs4 import BeautifulSoup\n",
        "import pandas as pd\n",
        "import time\n",
        "\n",
        "# Base URL\n",
        "base_url = \"http://books.toscrape.com/catalogue/page-{}.html\"\n",
        "\n",
        "# Initialize lists to store titles and descriptions\n",
        "book_titles = []\n",
        "book_descriptions = []\n",
        "\n",
        "# Total number of books to scrape\n",
        "total_books_to_scrape = 1000\n",
        "books_per_page = 20  # Number of books per page\n",
        "total_pages = total_books_to_scrape // books_per_page + 1  # Calculate total pages needed\n",
        "\n",
        "# Iterate through the pages\n",
        "for page in range(1, total_pages + 1):\n",
        "    # Construct the URL for the current page\n",
        "    response = requests.get(base_url.format(page))\n",
        "\n",
        "    if response.status_code == 200:\n",
        "        print(f\"Successfully fetched page {page}!\")\n",
        "    else:\n",
        "        print(f\"Failed to fetch page {page}. Status code: {response.status_code}\")\n",
        "        break\n",
        "\n",
        "    # Parse the page\n",
        "    soup = BeautifulSoup(response.content, 'html.parser')\n",
        "\n",
        "    # Find all book titles and links to individual book pages\n",
        "    books = soup.find_all('article', class_='product_pod')\n",
        "\n",
        "    # Visit individual book pages to extract titles and descriptions\n",
        "    for book in books:\n",
        "        title = book.h3.a['title']\n",
        "        book_url = base_url.rsplit('/', 1)[0] + '/' + book.h3.a['href']  # Correctly form the book URL\n",
        "        book_titles.append(title)\n",
        "\n",
        "        # Fetch individual book page to get the description\n",
        "        book_response = requests.get(book_url)\n",
        "        book_soup = BeautifulSoup(book_response.content, 'html.parser')\n",
        "\n",
        "        # Extract the description from the book page\n",
        "        description = book_soup.find('meta', attrs={\"name\": \"description\"})['content'].strip()\n",
        "        book_descriptions.append(description)\n",
        "\n",
        "        # Optional delay to avoid hitting the server too quickly\n",
        "        time.sleep(1)\n",
        "\n",
        "    # Break if we have collected enough books\n",
        "    if len(book_titles) >= total_books_to_scrape:\n",
        "        break\n",
        "\n",
        "# Create a DataFrame from the titles and descriptions\n",
        "df = pd.DataFrame({\n",
        "    'Title': book_titles[:total_books_to_scrape],  # Limit to the required number of books\n",
        "    'Description': book_descriptions[:total_books_to_scrape]  # Limit to the required number of descriptions\n",
        "})\n",
        "\n",
        "print(df.head())  # Display the first few entries\n",
        "print(f\"Total books scraped: {df.shape[0]}\")\n",
        "\n",
        "\n",
        "# Save the DataFrame to a CSV file\n",
        "df.to_csv('books_to_scrape.csv', index=False)\n",
        "\n",
        "print(\"DataFrame has been saved as 'books_to_scrape.csv'.\")\n",
        "\n",
        "from google.colab import files\n",
        "files.download('books_to_scrape.csv')\n",
        "\n",
        "'''"
      ],
      "metadata": {
        "id": "yJkn3TAiAicN"
      },
      "execution_count": null,
      "outputs": []
    },
    {
      "cell_type": "markdown",
      "source": [
        "I am using above code to download the csv file - This is my previous assignmnet. This file is uploaded in my drive and then read"
      ],
      "metadata": {
        "id": "fwbq-ydEBT0q"
      }
    },
    {
      "cell_type": "code",
      "source": [
        "from google.colab import drive\n",
        "import pandas as pd\n",
        "\n",
        "# Mount Google Drive\n",
        "drive.mount('/content/drive')\n",
        "\n",
        "# Define the path to the CSV file\n",
        "# Make sure to adjust the path according to your directory structure in Google Drive\n",
        "file_path = '/content/drive/My Drive/INFO 5731 - Computational Methods/Week 7/books_to_scrape.csv'\n",
        "\n",
        "# Read the CSV file into a DataFrame\n",
        "df = pd.read_csv(file_path)\n",
        "\n",
        "# Display the DataFrame\n",
        "print(df.head())\n"
      ],
      "metadata": {
        "colab": {
          "base_uri": "https://localhost:8080/"
        },
        "id": "EoMYMncGBTZv",
        "outputId": "4292278a-a2eb-4ded-87df-d064eb7e5e43"
      },
      "execution_count": null,
      "outputs": [
        {
          "output_type": "stream",
          "name": "stdout",
          "text": [
            "Drive already mounted at /content/drive; to attempt to forcibly remount, call drive.mount(\"/content/drive\", force_remount=True).\n",
            "                                   Title  \\\n",
            "0                   A Light in the Attic   \n",
            "1                     Tipping the Velvet   \n",
            "2                             Soumission   \n",
            "3                          Sharp Objects   \n",
            "4  Sapiens: A Brief History of Humankind   \n",
            "\n",
            "                                         Description  \n",
            "0  It's hard to imagine a world without A Light i...  \n",
            "1  \"Erotic and absorbing...Written with starling ...  \n",
            "2  Dans une France assez proche de la nôtre, un h...  \n",
            "3  WICKED above her hipbone, GIRL across her hear...  \n",
            "4  From a renowned historian comes a groundbreaki...  \n"
          ]
        }
      ]
    },
    {
      "cell_type": "code",
      "source": [
        "'''\n",
        "!pip install lda2vec\n",
        "!pip install tensorflow\n",
        "!pip install keras\n",
        "!pip install git+https://github.com/bmabey/pyLDAvis.git@master        #egg=pyLDAvis\n",
        "'''"
      ],
      "metadata": {
        "id": "3vVx9tGlq8F2",
        "colab": {
          "base_uri": "https://localhost:8080/",
          "height": 36
        },
        "outputId": "25edd8cc-3cef-4310-8729-dd9705c2f7a4"
      },
      "execution_count": null,
      "outputs": [
        {
          "output_type": "execute_result",
          "data": {
            "text/plain": [
              "'\\n\\n!pip install lda2vec\\n!pip install tensorflow\\n!pip install keras\\n\\n!pip install git+https://github.com/bmabey/pyLDAvis.git@master        #egg=pyLDAvis\\n\\n\\n'"
            ],
            "application/vnd.google.colaboratory.intrinsic+json": {
              "type": "string"
            }
          },
          "metadata": {},
          "execution_count": 2
        }
      ]
    },
    {
      "cell_type": "markdown",
      "metadata": {
        "id": "ARqm7u6B70ne"
      },
      "source": [
        "## Question 1 (10 Points)\n",
        "\n",
        "**Generate K topics by using LDA, the number of topics K should be decided by the coherence score, then summarize what are the topics.**\n",
        "\n",
        "You may refer the code here: https://www.machinelearningplus.com/nlp/topic-modeling-gensim-python/"
      ]
    },
    {
      "cell_type": "code",
      "execution_count": null,
      "metadata": {
        "id": "VAZj4PHB70nf",
        "colab": {
          "base_uri": "https://localhost:8080/"
        },
        "outputId": "2b48d056-9308-4d9e-aae9-2cc39ed97d82"
      },
      "outputs": [
        {
          "output_type": "stream",
          "name": "stderr",
          "text": [
            "[nltk_data] Downloading package stopwords to /root/nltk_data...\n",
            "[nltk_data]   Package stopwords is already up-to-date!\n"
          ]
        },
        {
          "output_type": "stream",
          "name": "stdout",
          "text": [
            "Collecting en-core-web-sm==3.7.1\n",
            "  Downloading https://github.com/explosion/spacy-models/releases/download/en_core_web_sm-3.7.1/en_core_web_sm-3.7.1-py3-none-any.whl (12.8 MB)\n",
            "\u001b[2K     \u001b[90m━━━━━━━━━━━━━━━━━━━━━━━━━━━━━━━━━━━━━━━━\u001b[0m \u001b[32m12.8/12.8 MB\u001b[0m \u001b[31m51.6 MB/s\u001b[0m eta \u001b[36m0:00:00\u001b[0m\n",
            "\u001b[?25hRequirement already satisfied: spacy<3.8.0,>=3.7.2 in /usr/local/lib/python3.10/dist-packages (from en-core-web-sm==3.7.1) (3.7.5)\n",
            "Requirement already satisfied: spacy-legacy<3.1.0,>=3.0.11 in /usr/local/lib/python3.10/dist-packages (from spacy<3.8.0,>=3.7.2->en-core-web-sm==3.7.1) (3.0.12)\n",
            "Requirement already satisfied: spacy-loggers<2.0.0,>=1.0.0 in /usr/local/lib/python3.10/dist-packages (from spacy<3.8.0,>=3.7.2->en-core-web-sm==3.7.1) (1.0.5)\n",
            "Requirement already satisfied: murmurhash<1.1.0,>=0.28.0 in /usr/local/lib/python3.10/dist-packages (from spacy<3.8.0,>=3.7.2->en-core-web-sm==3.7.1) (1.0.10)\n",
            "Requirement already satisfied: cymem<2.1.0,>=2.0.2 in /usr/local/lib/python3.10/dist-packages (from spacy<3.8.0,>=3.7.2->en-core-web-sm==3.7.1) (2.0.8)\n",
            "Requirement already satisfied: preshed<3.1.0,>=3.0.2 in /usr/local/lib/python3.10/dist-packages (from spacy<3.8.0,>=3.7.2->en-core-web-sm==3.7.1) (3.0.9)\n",
            "Requirement already satisfied: thinc<8.3.0,>=8.2.2 in /usr/local/lib/python3.10/dist-packages (from spacy<3.8.0,>=3.7.2->en-core-web-sm==3.7.1) (8.2.5)\n",
            "Requirement already satisfied: wasabi<1.2.0,>=0.9.1 in /usr/local/lib/python3.10/dist-packages (from spacy<3.8.0,>=3.7.2->en-core-web-sm==3.7.1) (1.1.3)\n",
            "Requirement already satisfied: srsly<3.0.0,>=2.4.3 in /usr/local/lib/python3.10/dist-packages (from spacy<3.8.0,>=3.7.2->en-core-web-sm==3.7.1) (2.4.8)\n",
            "Requirement already satisfied: catalogue<2.1.0,>=2.0.6 in /usr/local/lib/python3.10/dist-packages (from spacy<3.8.0,>=3.7.2->en-core-web-sm==3.7.1) (2.0.10)\n",
            "Requirement already satisfied: weasel<0.5.0,>=0.1.0 in /usr/local/lib/python3.10/dist-packages (from spacy<3.8.0,>=3.7.2->en-core-web-sm==3.7.1) (0.4.1)\n",
            "Requirement already satisfied: typer<1.0.0,>=0.3.0 in /usr/local/lib/python3.10/dist-packages (from spacy<3.8.0,>=3.7.2->en-core-web-sm==3.7.1) (0.12.5)\n",
            "Requirement already satisfied: tqdm<5.0.0,>=4.38.0 in /usr/local/lib/python3.10/dist-packages (from spacy<3.8.0,>=3.7.2->en-core-web-sm==3.7.1) (4.66.6)\n",
            "Requirement already satisfied: requests<3.0.0,>=2.13.0 in /usr/local/lib/python3.10/dist-packages (from spacy<3.8.0,>=3.7.2->en-core-web-sm==3.7.1) (2.32.3)\n",
            "Requirement already satisfied: pydantic!=1.8,!=1.8.1,<3.0.0,>=1.7.4 in /usr/local/lib/python3.10/dist-packages (from spacy<3.8.0,>=3.7.2->en-core-web-sm==3.7.1) (2.9.2)\n",
            "Requirement already satisfied: jinja2 in /usr/local/lib/python3.10/dist-packages (from spacy<3.8.0,>=3.7.2->en-core-web-sm==3.7.1) (3.1.4)\n",
            "Requirement already satisfied: setuptools in /usr/local/lib/python3.10/dist-packages (from spacy<3.8.0,>=3.7.2->en-core-web-sm==3.7.1) (75.1.0)\n",
            "Requirement already satisfied: packaging>=20.0 in /usr/local/lib/python3.10/dist-packages (from spacy<3.8.0,>=3.7.2->en-core-web-sm==3.7.1) (24.1)\n",
            "Requirement already satisfied: langcodes<4.0.0,>=3.2.0 in /usr/local/lib/python3.10/dist-packages (from spacy<3.8.0,>=3.7.2->en-core-web-sm==3.7.1) (3.4.1)\n",
            "Requirement already satisfied: numpy>=1.19.0 in /usr/local/lib/python3.10/dist-packages (from spacy<3.8.0,>=3.7.2->en-core-web-sm==3.7.1) (1.26.4)\n",
            "Requirement already satisfied: language-data>=1.2 in /usr/local/lib/python3.10/dist-packages (from langcodes<4.0.0,>=3.2.0->spacy<3.8.0,>=3.7.2->en-core-web-sm==3.7.1) (1.2.0)\n",
            "Requirement already satisfied: annotated-types>=0.6.0 in /usr/local/lib/python3.10/dist-packages (from pydantic!=1.8,!=1.8.1,<3.0.0,>=1.7.4->spacy<3.8.0,>=3.7.2->en-core-web-sm==3.7.1) (0.7.0)\n",
            "Requirement already satisfied: pydantic-core==2.23.4 in /usr/local/lib/python3.10/dist-packages (from pydantic!=1.8,!=1.8.1,<3.0.0,>=1.7.4->spacy<3.8.0,>=3.7.2->en-core-web-sm==3.7.1) (2.23.4)\n",
            "Requirement already satisfied: typing-extensions>=4.6.1 in /usr/local/lib/python3.10/dist-packages (from pydantic!=1.8,!=1.8.1,<3.0.0,>=1.7.4->spacy<3.8.0,>=3.7.2->en-core-web-sm==3.7.1) (4.12.2)\n",
            "Requirement already satisfied: charset-normalizer<4,>=2 in /usr/local/lib/python3.10/dist-packages (from requests<3.0.0,>=2.13.0->spacy<3.8.0,>=3.7.2->en-core-web-sm==3.7.1) (3.4.0)\n",
            "Requirement already satisfied: idna<4,>=2.5 in /usr/local/lib/python3.10/dist-packages (from requests<3.0.0,>=2.13.0->spacy<3.8.0,>=3.7.2->en-core-web-sm==3.7.1) (3.10)\n",
            "Requirement already satisfied: urllib3<3,>=1.21.1 in /usr/local/lib/python3.10/dist-packages (from requests<3.0.0,>=2.13.0->spacy<3.8.0,>=3.7.2->en-core-web-sm==3.7.1) (2.2.3)\n",
            "Requirement already satisfied: certifi>=2017.4.17 in /usr/local/lib/python3.10/dist-packages (from requests<3.0.0,>=2.13.0->spacy<3.8.0,>=3.7.2->en-core-web-sm==3.7.1) (2024.8.30)\n",
            "Requirement already satisfied: blis<0.8.0,>=0.7.8 in /usr/local/lib/python3.10/dist-packages (from thinc<8.3.0,>=8.2.2->spacy<3.8.0,>=3.7.2->en-core-web-sm==3.7.1) (0.7.11)\n",
            "Requirement already satisfied: confection<1.0.0,>=0.0.1 in /usr/local/lib/python3.10/dist-packages (from thinc<8.3.0,>=8.2.2->spacy<3.8.0,>=3.7.2->en-core-web-sm==3.7.1) (0.1.5)\n",
            "Requirement already satisfied: click>=8.0.0 in /usr/local/lib/python3.10/dist-packages (from typer<1.0.0,>=0.3.0->spacy<3.8.0,>=3.7.2->en-core-web-sm==3.7.1) (8.1.7)\n",
            "Requirement already satisfied: shellingham>=1.3.0 in /usr/local/lib/python3.10/dist-packages (from typer<1.0.0,>=0.3.0->spacy<3.8.0,>=3.7.2->en-core-web-sm==3.7.1) (1.5.4)\n",
            "Requirement already satisfied: rich>=10.11.0 in /usr/local/lib/python3.10/dist-packages (from typer<1.0.0,>=0.3.0->spacy<3.8.0,>=3.7.2->en-core-web-sm==3.7.1) (13.9.3)\n",
            "Requirement already satisfied: cloudpathlib<1.0.0,>=0.7.0 in /usr/local/lib/python3.10/dist-packages (from weasel<0.5.0,>=0.1.0->spacy<3.8.0,>=3.7.2->en-core-web-sm==3.7.1) (0.20.0)\n",
            "Requirement already satisfied: smart-open<8.0.0,>=5.2.1 in /usr/local/lib/python3.10/dist-packages (from weasel<0.5.0,>=0.1.0->spacy<3.8.0,>=3.7.2->en-core-web-sm==3.7.1) (7.0.5)\n",
            "Requirement already satisfied: MarkupSafe>=2.0 in /usr/local/lib/python3.10/dist-packages (from jinja2->spacy<3.8.0,>=3.7.2->en-core-web-sm==3.7.1) (3.0.2)\n",
            "Requirement already satisfied: marisa-trie>=0.7.7 in /usr/local/lib/python3.10/dist-packages (from language-data>=1.2->langcodes<4.0.0,>=3.2.0->spacy<3.8.0,>=3.7.2->en-core-web-sm==3.7.1) (1.2.1)\n",
            "Requirement already satisfied: markdown-it-py>=2.2.0 in /usr/local/lib/python3.10/dist-packages (from rich>=10.11.0->typer<1.0.0,>=0.3.0->spacy<3.8.0,>=3.7.2->en-core-web-sm==3.7.1) (3.0.0)\n",
            "Requirement already satisfied: pygments<3.0.0,>=2.13.0 in /usr/local/lib/python3.10/dist-packages (from rich>=10.11.0->typer<1.0.0,>=0.3.0->spacy<3.8.0,>=3.7.2->en-core-web-sm==3.7.1) (2.18.0)\n",
            "Requirement already satisfied: wrapt in /usr/local/lib/python3.10/dist-packages (from smart-open<8.0.0,>=5.2.1->weasel<0.5.0,>=0.1.0->spacy<3.8.0,>=3.7.2->en-core-web-sm==3.7.1) (1.16.0)\n",
            "Requirement already satisfied: mdurl~=0.1 in /usr/local/lib/python3.10/dist-packages (from markdown-it-py>=2.2.0->rich>=10.11.0->typer<1.0.0,>=0.3.0->spacy<3.8.0,>=3.7.2->en-core-web-sm==3.7.1) (0.1.2)\n",
            "\u001b[38;5;2m✔ Download and installation successful\u001b[0m\n",
            "You can now load the package via spacy.load('en_core_web_sm')\n",
            "\u001b[38;5;3m⚠ Restart to reload dependencies\u001b[0m\n",
            "If you are in a Jupyter or Colab notebook, you may need to restart Python in\n",
            "order to load all the package's dependencies. You can do this by selecting the\n",
            "'Restart kernel' or 'Restart runtime' option.\n"
          ]
        }
      ],
      "source": [
        "# Importing libraries\n",
        "import nltk; nltk.download('stopwords')\n",
        "\n",
        "# downloading spacy model\n",
        "!python3 -m spacy download en_core_web_sm\n"
      ]
    },
    {
      "cell_type": "code",
      "source": [
        "!pip install pyLDAvis"
      ],
      "metadata": {
        "id": "cEgXYwaySHSM",
        "colab": {
          "base_uri": "https://localhost:8080/"
        },
        "outputId": "38ab89c3-0df2-4919-c4d9-991f9508245c"
      },
      "execution_count": null,
      "outputs": [
        {
          "output_type": "stream",
          "name": "stdout",
          "text": [
            "Requirement already satisfied: pyLDAvis in /usr/local/lib/python3.10/dist-packages (3.4.1)\n",
            "Requirement already satisfied: numpy in /usr/local/lib/python3.10/dist-packages (from pyLDAvis) (1.26.4)\n",
            "Requirement already satisfied: scipy in /usr/local/lib/python3.10/dist-packages (from pyLDAvis) (1.10.1)\n",
            "Requirement already satisfied: pandas>=2.0.0 in /usr/local/lib/python3.10/dist-packages (from pyLDAvis) (2.2.2)\n",
            "Requirement already satisfied: joblib>=1.2.0 in /usr/local/lib/python3.10/dist-packages (from pyLDAvis) (1.4.2)\n",
            "Requirement already satisfied: jinja2 in /usr/local/lib/python3.10/dist-packages (from pyLDAvis) (3.1.4)\n",
            "Requirement already satisfied: numexpr in /usr/local/lib/python3.10/dist-packages (from pyLDAvis) (2.10.1)\n",
            "Requirement already satisfied: funcy in /usr/local/lib/python3.10/dist-packages (from pyLDAvis) (2.0)\n",
            "Requirement already satisfied: scikit-learn>=1.0.0 in /usr/local/lib/python3.10/dist-packages (from pyLDAvis) (1.5.2)\n",
            "Requirement already satisfied: gensim in /usr/local/lib/python3.10/dist-packages (from pyLDAvis) (4.1.2)\n",
            "Requirement already satisfied: setuptools in /usr/local/lib/python3.10/dist-packages (from pyLDAvis) (75.1.0)\n",
            "Requirement already satisfied: python-dateutil>=2.8.2 in /usr/local/lib/python3.10/dist-packages (from pandas>=2.0.0->pyLDAvis) (2.8.2)\n",
            "Requirement already satisfied: pytz>=2020.1 in /usr/local/lib/python3.10/dist-packages (from pandas>=2.0.0->pyLDAvis) (2024.2)\n",
            "Requirement already satisfied: tzdata>=2022.7 in /usr/local/lib/python3.10/dist-packages (from pandas>=2.0.0->pyLDAvis) (2024.2)\n",
            "Requirement already satisfied: threadpoolctl>=3.1.0 in /usr/local/lib/python3.10/dist-packages (from scikit-learn>=1.0.0->pyLDAvis) (3.5.0)\n",
            "Requirement already satisfied: smart-open>=1.8.1 in /usr/local/lib/python3.10/dist-packages (from gensim->pyLDAvis) (7.0.5)\n",
            "Requirement already satisfied: MarkupSafe>=2.0 in /usr/local/lib/python3.10/dist-packages (from jinja2->pyLDAvis) (3.0.2)\n",
            "Requirement already satisfied: six>=1.5 in /usr/local/lib/python3.10/dist-packages (from python-dateutil>=2.8.2->pandas>=2.0.0->pyLDAvis) (1.16.0)\n",
            "Requirement already satisfied: wrapt in /usr/local/lib/python3.10/dist-packages (from smart-open>=1.8.1->gensim->pyLDAvis) (1.16.0)\n"
          ]
        }
      ]
    },
    {
      "cell_type": "code",
      "source": [
        "!pip install gensim==4.1.2\n"
      ],
      "metadata": {
        "id": "_WAw7huEGfx7",
        "colab": {
          "base_uri": "https://localhost:8080/"
        },
        "outputId": "492dc513-c279-45f4-f5b5-91dcb075515d"
      },
      "execution_count": null,
      "outputs": [
        {
          "output_type": "stream",
          "name": "stdout",
          "text": [
            "Requirement already satisfied: gensim==4.1.2 in /usr/local/lib/python3.10/dist-packages (4.1.2)\n",
            "Requirement already satisfied: numpy>=1.17.0 in /usr/local/lib/python3.10/dist-packages (from gensim==4.1.2) (1.26.4)\n",
            "Requirement already satisfied: scipy>=0.18.1 in /usr/local/lib/python3.10/dist-packages (from gensim==4.1.2) (1.10.1)\n",
            "Requirement already satisfied: smart-open>=1.8.1 in /usr/local/lib/python3.10/dist-packages (from gensim==4.1.2) (7.0.5)\n",
            "Requirement already satisfied: wrapt in /usr/local/lib/python3.10/dist-packages (from smart-open>=1.8.1->gensim==4.1.2) (1.16.0)\n"
          ]
        }
      ]
    },
    {
      "cell_type": "code",
      "source": [
        "!pip install scipy==1.10.1  # Downgrade SciPy to avoid gensim import problems"
      ],
      "metadata": {
        "id": "x_GlDeiNC4lc",
        "colab": {
          "base_uri": "https://localhost:8080/"
        },
        "outputId": "e613620c-4dc3-4041-de6b-e97e52d7ebfe"
      },
      "execution_count": null,
      "outputs": [
        {
          "output_type": "stream",
          "name": "stdout",
          "text": [
            "Collecting scipy==1.10.1\n",
            "  Downloading scipy-1.10.1-cp310-cp310-manylinux_2_17_x86_64.manylinux2014_x86_64.whl.metadata (58 kB)\n",
            "\u001b[?25l     \u001b[90m━━━━━━━━━━━━━━━━━━━━━━━━━━━━━━━━━━━━━━━━\u001b[0m \u001b[32m0.0/58.9 kB\u001b[0m \u001b[31m?\u001b[0m eta \u001b[36m-:--:--\u001b[0m\r\u001b[2K     \u001b[90m━━━━━━━━━━━━━━━━━━━━━━━━━━━━━━━━━━━━━━━━\u001b[0m \u001b[32m58.9/58.9 kB\u001b[0m \u001b[31m2.1 MB/s\u001b[0m eta \u001b[36m0:00:00\u001b[0m\n",
            "\u001b[?25hRequirement already satisfied: numpy<1.27.0,>=1.19.5 in /usr/local/lib/python3.10/dist-packages (from scipy==1.10.1) (1.26.4)\n",
            "Downloading scipy-1.10.1-cp310-cp310-manylinux_2_17_x86_64.manylinux2014_x86_64.whl (34.4 MB)\n",
            "\u001b[2K   \u001b[90m━━━━━━━━━━━━━━━━━━━━━━━━━━━━━━━━━━━━━━━━\u001b[0m \u001b[32m34.4/34.4 MB\u001b[0m \u001b[31m32.2 MB/s\u001b[0m eta \u001b[36m0:00:00\u001b[0m\n",
            "\u001b[?25hInstalling collected packages: scipy\n",
            "  Attempting uninstall: scipy\n",
            "    Found existing installation: scipy 1.13.1\n",
            "    Uninstalling scipy-1.13.1:\n",
            "      Successfully uninstalled scipy-1.13.1\n",
            "Successfully installed scipy-1.10.1\n"
          ]
        }
      ]
    },
    {
      "cell_type": "code",
      "source": [
        "#!pip install -U spacy thinc"
      ],
      "metadata": {
        "id": "7IKp-lTuCuf9"
      },
      "execution_count": null,
      "outputs": []
    },
    {
      "cell_type": "code",
      "source": [
        "import re\n",
        "import numpy as np\n",
        "import pandas as pd\n",
        "from pprint import pprint\n",
        "\n",
        "# Gensim\n",
        "import gensim\n",
        "import gensim.corpora as corpora\n",
        "from gensim.utils import simple_preprocess\n",
        "from gensim.models import CoherenceModel\n",
        "\n",
        "# spacy for lemmatization\n",
        "import spacy\n",
        "\n",
        "# Plotting tools\n",
        "import pyLDAvis\n",
        "import pyLDAvis.gensim_models  # don't skip this\n",
        "import matplotlib.pyplot as plt\n",
        "%matplotlib inline\n",
        "\n",
        "# Enable logging for gensim - optional\n",
        "import logging\n",
        "logging.basicConfig(format='%(asctime)s : %(levelname)s : %(message)s', level=logging.ERROR)\n",
        "\n",
        "import warnings\n",
        "warnings.filterwarnings(\"ignore\",category=DeprecationWarning)"
      ],
      "metadata": {
        "id": "eXKaNPNRQ73J"
      },
      "execution_count": null,
      "outputs": []
    },
    {
      "cell_type": "code",
      "source": [
        "# NLTK Stop words\n",
        "from nltk.corpus import stopwords\n",
        "stop_words = stopwords.words('english')\n",
        "stop_words.extend(['from', 'subject', 're', 'edu', 'use'])"
      ],
      "metadata": {
        "id": "Xvx7GKwLRaCQ"
      },
      "execution_count": null,
      "outputs": []
    },
    {
      "cell_type": "code",
      "source": [
        "# dataset\n",
        "\n",
        "df.size"
      ],
      "metadata": {
        "colab": {
          "base_uri": "https://localhost:8080/"
        },
        "id": "n4-khGjDReJJ",
        "outputId": "3fdad7c7-1d94-48b8-de47-e3d93e58faf8"
      },
      "execution_count": null,
      "outputs": [
        {
          "output_type": "execute_result",
          "data": {
            "text/plain": [
              "2000"
            ]
          },
          "metadata": {},
          "execution_count": 8
        }
      ]
    },
    {
      "cell_type": "code",
      "source": [
        "import re\n",
        "import gensim\n",
        "from pprint import pprint\n",
        "\n",
        "# Convert to list\n",
        "data = df.Description.values.tolist()\n",
        "\n",
        "# Remove Emails (uncomment if needed)\n",
        "# data = [re.sub('\\S*@\\S*\\s?', '', str(sent)) for sent in data]\n",
        "\n",
        "# Remove new line characters and ensure all entries are strings\n",
        "data = [re.sub('\\s+', ' ', str(sent)) for sent in data]\n",
        "\n",
        "# Remove distracting single quotes\n",
        "data = [re.sub(\"\\'\", \"\", sent) for sent in data]\n",
        "\n",
        "pprint(data[:1])\n",
        "\n",
        "# Tokenize words and clean up text\n",
        "def sent_to_words(sentences):\n",
        "    for sentence in sentences:\n",
        "        yield(gensim.utils.simple_preprocess(str(sentence), deacc=True))  # deacc=True removes punctuation\n",
        "\n",
        "# Convert sentences to words\n",
        "data_words = list(sent_to_words(data))\n",
        "\n",
        "print(data_words[:1])\n"
      ],
      "metadata": {
        "colab": {
          "base_uri": "https://localhost:8080/"
        },
        "id": "S9fdorakS0u3",
        "outputId": "952560a6-e103-455a-9c5f-44a467d76401"
      },
      "execution_count": null,
      "outputs": [
        {
          "output_type": "stream",
          "name": "stdout",
          "text": [
            "['Its hard to imagine a world without A Light in the Attic. This now-classic '\n",
            " 'collection of poetry and drawings from Shel Silverstein celebrates its 20th '\n",
            " 'anniversary with this special edition. Silversteins humorous and creative '\n",
            " 'verse can amuse the dowdiest of readers. Lemon-faced adults and fidgety kids '\n",
            " 'sit still and read these rhythmic words and laugh and smile and love th Its '\n",
            " 'hard to imagine a world without A Light in the Attic. This now-classic '\n",
            " 'collection of poetry and drawings from Shel Silverstein celebrates its 20th '\n",
            " 'anniversary with this special edition. Silversteins humorous and creative '\n",
            " 'verse can amuse the dowdiest of readers. Lemon-faced adults and fidgety kids '\n",
            " 'sit still and read these rhythmic words and laugh and smile and love that '\n",
            " 'Silverstein. Need proof of his genius? RockabyeRockabye baby, in the '\n",
            " 'treetopDont you know a treetopIs no safe place to rock?And who put you up '\n",
            " 'there,And your cradle, too?Baby, I think someone down heresGot it in for '\n",
            " 'you. Shel, you never sounded so good. ...more']\n",
            "[['its', 'hard', 'to', 'imagine', 'world', 'without', 'light', 'in', 'the', 'attic', 'this', 'now', 'classic', 'collection', 'of', 'poetry', 'and', 'drawings', 'from', 'shel', 'silverstein', 'celebrates', 'its', 'th', 'anniversary', 'with', 'this', 'special', 'edition', 'silversteins', 'humorous', 'and', 'creative', 'verse', 'can', 'amuse', 'the', 'dowdiest', 'of', 'readers', 'lemon', 'faced', 'adults', 'and', 'fidgety', 'kids', 'sit', 'still', 'and', 'read', 'these', 'rhythmic', 'words', 'and', 'laugh', 'and', 'smile', 'and', 'love', 'th', 'its', 'hard', 'to', 'imagine', 'world', 'without', 'light', 'in', 'the', 'attic', 'this', 'now', 'classic', 'collection', 'of', 'poetry', 'and', 'drawings', 'from', 'shel', 'silverstein', 'celebrates', 'its', 'th', 'anniversary', 'with', 'this', 'special', 'edition', 'silversteins', 'humorous', 'and', 'creative', 'verse', 'can', 'amuse', 'the', 'dowdiest', 'of', 'readers', 'lemon', 'faced', 'adults', 'and', 'fidgety', 'kids', 'sit', 'still', 'and', 'read', 'these', 'rhythmic', 'words', 'and', 'laugh', 'and', 'smile', 'and', 'love', 'that', 'silverstein', 'need', 'proof', 'of', 'his', 'genius', 'baby', 'in', 'the', 'treetopdont', 'you', 'know', 'treetopis', 'no', 'safe', 'place', 'to', 'rock', 'and', 'who', 'put', 'you', 'up', 'there', 'and', 'your', 'cradle', 'too', 'baby', 'think', 'someone', 'down', 'heresgot', 'it', 'in', 'for', 'you', 'shel', 'you', 'never', 'sounded', 'so', 'good', 'more']]\n"
          ]
        }
      ]
    },
    {
      "cell_type": "code",
      "source": [
        "# Build the bigram and trigram models\n",
        "bigram = gensim.models.Phrases(data_words, min_count=5, threshold=100) # higher threshold fewer phrases.\n",
        "trigram = gensim.models.Phrases(bigram[data_words], threshold=100)\n",
        "\n",
        "# Faster way to get a sentence clubbed as a trigram/bigram\n",
        "bigram_mod = gensim.models.phrases.Phraser(bigram)\n",
        "trigram_mod = gensim.models.phrases.Phraser(trigram)\n",
        "\n",
        "# See trigram example\n",
        "print(trigram_mod[bigram_mod[data_words[0]]])"
      ],
      "metadata": {
        "colab": {
          "base_uri": "https://localhost:8080/"
        },
        "id": "rJIFeRYoTIqK",
        "outputId": "813ae34b-2729-4e53-dcdd-16a2dc5fb851"
      },
      "execution_count": null,
      "outputs": [
        {
          "output_type": "stream",
          "name": "stdout",
          "text": [
            "['its', 'hard', 'to', 'imagine', 'world', 'without', 'light', 'in', 'the', 'attic', 'this', 'now', 'classic', 'collection', 'of', 'poetry', 'and', 'drawings', 'from', 'shel', 'silverstein', 'celebrates', 'its', 'th_anniversary', 'with', 'this', 'special', 'edition', 'silversteins', 'humorous', 'and', 'creative', 'verse', 'can', 'amuse', 'the', 'dowdiest', 'of', 'readers', 'lemon', 'faced', 'adults', 'and', 'fidgety', 'kids', 'sit', 'still', 'and', 'read', 'these', 'rhythmic', 'words', 'and', 'laugh', 'and', 'smile', 'and', 'love', 'th', 'its', 'hard', 'to', 'imagine', 'world', 'without', 'light', 'in', 'the', 'attic', 'this', 'now', 'classic', 'collection', 'of', 'poetry', 'and', 'drawings', 'from', 'shel', 'silverstein', 'celebrates', 'its', 'th_anniversary', 'with', 'this', 'special', 'edition', 'silversteins', 'humorous', 'and', 'creative', 'verse', 'can', 'amuse', 'the', 'dowdiest', 'of', 'readers', 'lemon', 'faced', 'adults', 'and', 'fidgety', 'kids', 'sit', 'still', 'and', 'read', 'these', 'rhythmic', 'words', 'and', 'laugh', 'and', 'smile', 'and', 'love', 'that', 'silverstein', 'need', 'proof', 'of', 'his', 'genius', 'baby', 'in', 'the', 'treetopdont', 'you', 'know', 'treetopis', 'no', 'safe', 'place', 'to', 'rock', 'and', 'who', 'put', 'you', 'up', 'there', 'and', 'your', 'cradle', 'too', 'baby', 'think', 'someone', 'down', 'heresgot', 'it', 'in', 'for', 'you', 'shel', 'you', 'never', 'sounded', 'so', 'good', 'more']\n"
          ]
        }
      ]
    },
    {
      "cell_type": "code",
      "source": [
        "# Define functions for stopwords, bigrams, trigrams and lemmatization\n",
        "def remove_stopwords(texts):\n",
        "    return [[word for word in simple_preprocess(str(doc)) if word not in stop_words] for doc in texts]\n",
        "\n",
        "def make_bigrams(texts):\n",
        "    return [bigram_mod[doc] for doc in texts]\n",
        "\n",
        "def make_trigrams(texts):\n",
        "    return [trigram_mod[bigram_mod[doc]] for doc in texts]\n",
        "\n",
        "def lemmatization(texts, allowed_postags=['NOUN', 'ADJ', 'VERB', 'ADV']):\n",
        "    \"\"\"https://spacy.io/api/annotation\"\"\"\n",
        "    texts_out = []\n",
        "    for sent in texts:\n",
        "        doc = nlp(\" \".join(sent))\n",
        "        texts_out.append([token.lemma_ for token in doc if token.pos_ in allowed_postags])\n",
        "    return texts_out"
      ],
      "metadata": {
        "id": "Dc1rBVmITXNo"
      },
      "execution_count": null,
      "outputs": []
    },
    {
      "cell_type": "code",
      "source": [
        "# Remove Stop Words\n",
        "data_words_nostops = remove_stopwords(data_words)\n",
        "\n",
        "# Form Bigrams\n",
        "data_words_bigrams = make_bigrams(data_words_nostops)\n",
        "\n",
        "# Initialize spacy 'en' model, keeping only tagger component (for efficiency)\n",
        "\n",
        "nlp = spacy.load('en_core_web_sm', disable=['parser', 'ner'])\n",
        "\n",
        "# Do lemmatization keeping only noun, adj, vb, adv\n",
        "data_lemmatized = lemmatization(data_words_bigrams, allowed_postags=['NOUN', 'ADJ', 'VERB', 'ADV'])\n",
        "\n",
        "print(data_lemmatized[:1])"
      ],
      "metadata": {
        "colab": {
          "base_uri": "https://localhost:8080/"
        },
        "id": "DqXbXz8MTdlE",
        "outputId": "36f3244f-ec76-400c-973e-f07f3256483b"
      },
      "execution_count": null,
      "outputs": [
        {
          "output_type": "stream",
          "name": "stdout",
          "text": [
            "[['hard', 'imagine', 'world', 'light', 'attic', 'classic', 'collection', 'poetry', 'drawing', 'edition', 'silverstein', 'humorous', 'creative', 'verse', 'amuse', 'dowdy', 'reader', 'lemon', 'face', 'adult', 'kid', 'sit', 'still', 'read', 'rhythmic', 'word', 'laugh', 'smile', 'love', 'hard', 'imagine', 'world', 'light', 'attic', 'classic', 'collection', 'poetry', 'drawing', 'edition', 'silverstein', 'humorous', 'creative', 'verse', 'amuse', 'dowdy', 'reader', 'lemon', 'face', 'adult', 'kid', 'sit', 'still', 'read', 'rhythmic', 'word', 'laugh', 'smile', 'need', 'proof', 'genius', 'baby', 'know', 'safe', 'place', 'rock', 'put', 'cradle', 'baby', 'think', 'heresgot', 'never', 'sound', 'good']]\n"
          ]
        }
      ]
    },
    {
      "cell_type": "code",
      "source": [
        "# Create Dictionary\n",
        "id2word = corpora.Dictionary(data_lemmatized)\n",
        "\n",
        "# Create Corpus\n",
        "texts = data_lemmatized\n",
        "\n",
        "# Term Document Frequency\n",
        "corpus = [id2word.doc2bow(text) for text in texts]\n",
        "\n",
        "# View\n",
        "print(corpus[:1])"
      ],
      "metadata": {
        "colab": {
          "base_uri": "https://localhost:8080/"
        },
        "id": "LIrAbz3G-BKB",
        "outputId": "47c6b72f-7593-4928-fbb0-f753e82e3768"
      },
      "execution_count": null,
      "outputs": [
        {
          "output_type": "stream",
          "name": "stdout",
          "text": [
            "[[(0, 2), (1, 2), (2, 2), (3, 2), (4, 2), (5, 2), (6, 1), (7, 2), (8, 2), (9, 2), (10, 2), (11, 2), (12, 1), (13, 1), (14, 2), (15, 1), (16, 2), (17, 2), (18, 2), (19, 1), (20, 2), (21, 2), (22, 2), (23, 1), (24, 1), (25, 1), (26, 1), (27, 2), (28, 1), (29, 1), (30, 2), (31, 2), (32, 2), (33, 1), (34, 1), (35, 2), (36, 2), (37, 2), (38, 1), (39, 2), (40, 1), (41, 2), (42, 2), (43, 2)]]\n"
          ]
        }
      ]
    },
    {
      "cell_type": "code",
      "source": [
        "id2word[0]"
      ],
      "metadata": {
        "colab": {
          "base_uri": "https://localhost:8080/",
          "height": 36
        },
        "id": "VIFJNCmQ-A5t",
        "outputId": "dbb92506-e06f-40a4-c67a-7511c98b3c96"
      },
      "execution_count": null,
      "outputs": [
        {
          "output_type": "execute_result",
          "data": {
            "text/plain": [
              "'adult'"
            ],
            "application/vnd.google.colaboratory.intrinsic+json": {
              "type": "string"
            }
          },
          "metadata": {},
          "execution_count": 14
        }
      ]
    },
    {
      "cell_type": "code",
      "source": [
        "# Human readable format of corpus (term-frequency)\n",
        "[[(id2word[id], freq) for id, freq in cp] for cp in corpus[:1]]"
      ],
      "metadata": {
        "colab": {
          "base_uri": "https://localhost:8080/"
        },
        "id": "PetLolEV-Ant",
        "outputId": "2d1a0992-192d-41f6-f449-eb70fca239a5"
      },
      "execution_count": null,
      "outputs": [
        {
          "output_type": "execute_result",
          "data": {
            "text/plain": [
              "[[('adult', 2),\n",
              "  ('amuse', 2),\n",
              "  ('attic', 2),\n",
              "  ('baby', 2),\n",
              "  ('classic', 2),\n",
              "  ('collection', 2),\n",
              "  ('cradle', 1),\n",
              "  ('creative', 2),\n",
              "  ('dowdy', 2),\n",
              "  ('drawing', 2),\n",
              "  ('edition', 2),\n",
              "  ('face', 2),\n",
              "  ('genius', 1),\n",
              "  ('good', 1),\n",
              "  ('hard', 2),\n",
              "  ('heresgot', 1),\n",
              "  ('humorous', 2),\n",
              "  ('imagine', 2),\n",
              "  ('kid', 2),\n",
              "  ('know', 1),\n",
              "  ('laugh', 2),\n",
              "  ('lemon', 2),\n",
              "  ('light', 2),\n",
              "  ('love', 1),\n",
              "  ('need', 1),\n",
              "  ('never', 1),\n",
              "  ('place', 1),\n",
              "  ('poetry', 2),\n",
              "  ('proof', 1),\n",
              "  ('put', 1),\n",
              "  ('read', 2),\n",
              "  ('reader', 2),\n",
              "  ('rhythmic', 2),\n",
              "  ('rock', 1),\n",
              "  ('safe', 1),\n",
              "  ('silverstein', 2),\n",
              "  ('sit', 2),\n",
              "  ('smile', 2),\n",
              "  ('sound', 1),\n",
              "  ('still', 2),\n",
              "  ('think', 1),\n",
              "  ('verse', 2),\n",
              "  ('word', 2),\n",
              "  ('world', 2)]]"
            ]
          },
          "metadata": {},
          "execution_count": 15
        }
      ]
    },
    {
      "cell_type": "code",
      "source": [
        "# Set a range for number of topics\n",
        "min_topics = 2\n",
        "max_topics = 20\n",
        "step = 1\n",
        "coherence_scores = []\n",
        "\n",
        "# Loop through each K to find the optimal number of topics based on coherence\n",
        "for k in range(min_topics, max_topics + 1, step):\n",
        "    lda_model = gensim.models.LdaModel(corpus=corpus,\n",
        "                                       id2word=id2word,\n",
        "                                       num_topics=k,\n",
        "                                       random_state=100,\n",
        "                                       update_every=1,\n",
        "                                       chunksize=100,\n",
        "                                       passes=10,\n",
        "                                       alpha='auto')\n",
        "\n",
        "    coherence_model_lda = CoherenceModel(model=lda_model, texts=data_lemmatized, dictionary=id2word, coherence='c_v')\n",
        "    coherence_lda = coherence_model_lda.get_coherence()\n",
        "    coherence_scores.append((k, coherence_lda))\n",
        "    print(f'Coherence Score for {k} topics: {coherence_lda}')\n",
        "\n",
        "# Find the optimal number of topics based on the highest coherence score\n",
        "optimal_k = max(coherence_scores, key=lambda x: x[1])[0]\n",
        "print(f'\\nOptimal number of topics: {optimal_k}')\n",
        "\n",
        "# Refit the model with the optimal K\n",
        "lda_model = gensim.models.LdaModel(corpus=corpus,\n",
        "                                   id2word=id2word,\n",
        "                                   num_topics=optimal_k,\n",
        "                                   random_state=100,\n",
        "                                   update_every=1,\n",
        "                                   chunksize=100,\n",
        "                                   passes=10,\n",
        "                                   alpha='auto')\n",
        "\n",
        "# Print the topics for the optimal model\n",
        "pprint(lda_model.print_topics())\n",
        "\n",
        "# Visualize the topics\n",
        "pyLDAvis.enable_notebook()\n",
        "vis = pyLDAvis.gensim_models.prepare(lda_model, corpus, id2word)\n",
        "vis\n"
      ],
      "metadata": {
        "id": "oSXO8fKp-Q38",
        "colab": {
          "base_uri": "https://localhost:8080/",
          "height": 1000
        },
        "outputId": "ea030758-a224-4331-c3bc-fba562e6ef86"
      },
      "execution_count": null,
      "outputs": [
        {
          "output_type": "stream",
          "name": "stdout",
          "text": [
            "Coherence Score for 2 topics: 0.2875635224324077\n",
            "Coherence Score for 3 topics: 0.29699174831821834\n",
            "Coherence Score for 4 topics: 0.28758107854401593\n",
            "Coherence Score for 5 topics: 0.3057576072343422\n",
            "Coherence Score for 6 topics: 0.3266088123660306\n",
            "Coherence Score for 7 topics: 0.2980721378688539\n",
            "Coherence Score for 8 topics: 0.4061040817304373\n",
            "Coherence Score for 9 topics: 0.47273014688659987\n",
            "Coherence Score for 10 topics: 0.4631216657473652\n",
            "Coherence Score for 11 topics: 0.42136119050254534\n",
            "Coherence Score for 12 topics: 0.4667562288991724\n",
            "Coherence Score for 13 topics: 0.44612970108647576\n",
            "Coherence Score for 14 topics: 0.44410128314612046\n",
            "Coherence Score for 15 topics: 0.4514744273113391\n",
            "Coherence Score for 16 topics: 0.48255942045558964\n",
            "Coherence Score for 17 topics: 0.4384072408739521\n",
            "Coherence Score for 18 topics: 0.45549894895339654\n",
            "Coherence Score for 19 topics: 0.4487539466507866\n",
            "Coherence Score for 20 topics: 0.44399616465938313\n",
            "\n",
            "Optimal number of topics: 16\n",
            "[(0,\n",
            "  '0.025*\"wind\" + 0.024*\"evidence\" + 0.024*\"killer\" + 0.020*\"gold\" + '\n",
            "  '0.019*\"demon\" + 0.019*\"police\" + 0.018*\"hunt\" + 0.017*\"clue\" + '\n",
            "  '0.015*\"shadow\" + 0.013*\"high_school\"'),\n",
            " (1,\n",
            "  '0.026*\"football\" + 0.022*\"ambition\" + 0.021*\"television\" + 0.017*\"british\" '\n",
            "  '+ 0.015*\"area\" + 0.012*\"dig\" + 0.012*\"leadership\" + 0.011*\"singular\" + '\n",
            "  '0.010*\"dominate\" + 0.010*\"actress\"'),\n",
            " (2,\n",
            "  '0.042*\"deliver\" + 0.034*\"famous\" + 0.028*\"soldier\" + 0.027*\"baby\" + '\n",
            "  '0.021*\"owner\" + 0.020*\"stuff\" + 0.017*\"pick\" + 0.016*\"phenomenon\" + '\n",
            "  '0.014*\"living\" + 0.014*\"agree\"'),\n",
            " (3,\n",
            "  '0.040*\"record\" + 0.031*\"bestselle\" + 0.031*\"teacher\" + 0.027*\"sex\" + '\n",
            "  '0.022*\"local\" + 0.021*\"warn\" + 0.021*\"courage\" + 0.018*\"cat\" + '\n",
            "  '0.018*\"penny\" + 0.018*\"wood\"'),\n",
            " (4,\n",
            "  '0.035*\"king\" + 0.032*\"artist\" + 0.028*\"remain\" + 0.023*\"magic\" + '\n",
            "  '0.020*\"dark\" + 0.019*\"art\" + 0.017*\"hero\" + 0.016*\"monster\" + 0.016*\"sell\" '\n",
            "  '+ 0.015*\"german\"'),\n",
            " (5,\n",
            "  '0.046*\"island\" + 0.041*\"planet\" + 0.017*\"blink\" + 0.016*\"wicked\" + '\n",
            "  '0.016*\"quiet\" + 0.014*\"unlikely\" + 0.014*\"expectation\" + 0.012*\"rush\" + '\n",
            "  '0.011*\"invade\" + 0.010*\"native\"'),\n",
            " (6,\n",
            "  '0.024*\"consist\" + 0.018*\"client\" + 0.015*\"gray\" + 0.015*\"agent\" + '\n",
            "  '0.011*\"deception\" + 0.011*\"legal\" + 0.010*\"carefully\" + 0.009*\"assign\" + '\n",
            "  '0.009*\"intuitive\" + 0.007*\"website\"'),\n",
            " (7,\n",
            "  '0.018*\"life\" + 0.013*\"world\" + 0.013*\"find\" + 0.011*\"know\" + 0.010*\"time\" + '\n",
            "  '0.010*\"new\" + 0.010*\"make\" + 0.009*\"family\" + 0.008*\"year\" + 0.008*\"love\"'),\n",
            " (8,\n",
            "  '0.042*\"dark\" + 0.034*\"burn\" + 0.033*\"trip\" + 0.030*\"arrive\" + '\n",
            "  '0.029*\"accident\" + 0.021*\"office\" + 0.020*\"male\" + 0.017*\"violence\" + '\n",
            "  '0.015*\"lucky\" + 0.015*\"heroine\"'),\n",
            " (9,\n",
            "  '0.046*\"recipe\" + 0.034*\"food\" + 0.029*\"cook\" + 0.021*\"chapter\" + '\n",
            "  '0.020*\"decision\" + 0.017*\"eat\" + 0.017*\"kitchen\" + 0.015*\"make\" + '\n",
            "  '0.015*\"creature\" + 0.014*\"drop\"'),\n",
            " (10,\n",
            "  '0.048*\"book\" + 0.016*\"write\" + 0.013*\"work\" + 0.011*\"also\" + 0.010*\"offer\" '\n",
            "  '+ 0.010*\"classic\" + 0.010*\"reader\" + 0.009*\"new\" + 0.009*\"nature\" + '\n",
            "  '0.009*\"present\"'),\n",
            " (11,\n",
            "  '0.019*\"story\" + 0.018*\"s\" + 0.016*\"love\" + 0.013*\"child\" + 0.011*\"first\" + '\n",
            "  '0.010*\"war\" + 0.009*\"series\" + 0.009*\"human\" + 0.008*\"much\" + '\n",
            "  '0.008*\"different\"'),\n",
            " (12,\n",
            "  '0.076*\"moment\" + 0.018*\"crazy\" + 0.017*\"otherwise\" + 0.014*\"mountain\" + '\n",
            "  '0.013*\"incredibly\" + 0.011*\"valuable\" + 0.009*\"attraction\" + '\n",
            "  '0.009*\"decline\" + 0.009*\"employ\" + 0.009*\"training\"'),\n",
            " (13,\n",
            "  '0.043*\"capture\" + 0.029*\"nightmare\" + 0.021*\"green\" + 0.020*\"revise\" + '\n",
            "  '0.019*\"grandmother\" + 0.019*\"worry\" + 0.017*\"anxiety\" + 0.015*\"health\" + '\n",
            "  '0.014*\"fear\" + 0.014*\"shine\"'),\n",
            " (14,\n",
            "  '0.026*\"wish\" + 0.024*\"journalist\" + 0.020*\"adopt\" + 0.019*\"crayon\" + '\n",
            "  '0.019*\"farm\" + 0.019*\"forge\" + 0.012*\"sheet\" + 0.011*\"update\" + '\n",
            "  '0.011*\"deed\" + 0.008*\"electric\"'),\n",
            " (15,\n",
            "  '0.038*\"dream\" + 0.031*\"marriage\" + 0.028*\"raise\" + 0.024*\"ready\" + '\n",
            "  '0.017*\"risk\" + 0.017*\"student\" + 0.017*\"job\" + 0.015*\"attack\" + '\n",
            "  '0.015*\"protect\" + 0.014*\"happy\"')]\n"
          ]
        },
        {
          "output_type": "execute_result",
          "data": {
            "text/plain": [
              "PreparedData(topic_coordinates=              x         y  topics  cluster       Freq\n",
              "topic                                                \n",
              "7      0.396739  0.107510       1        1  55.063851\n",
              "11     0.357172  0.151711       2        1  18.214914\n",
              "10     0.261102 -0.341970       3        1  13.527618\n",
              "15    -0.022051  0.032836       4        1   2.432560\n",
              "9     -0.025283 -0.021485       5        1   2.339196\n",
              "4     -0.053670 -0.021662       6        1   2.144356\n",
              "8     -0.089290  0.001716       7        1   0.974483\n",
              "13    -0.086881  0.007533       8        1   0.821063\n",
              "3     -0.091097  0.009934       9        1   0.805580\n",
              "0     -0.090544  0.012223      10        1   0.754181\n",
              "2     -0.091558  0.011396      11        1   0.750739\n",
              "5     -0.092572  0.009471      12        1   0.665458\n",
              "12    -0.093707  0.010581      13        1   0.462121\n",
              "14    -0.093459  0.010504      14        1   0.413999\n",
              "1     -0.092905  0.009182      15        1   0.383056\n",
              "6     -0.091995  0.010520      16        1   0.246824, topic_info=           Term        Freq       Total Category  logprob  loglift\n",
              "214        book  839.000000  839.000000  Default  30.0000  30.0000\n",
              "490        make  715.000000  715.000000  Default  29.0000  29.0000\n",
              "344       dream  261.000000  261.000000  Default  28.0000  28.0000\n",
              "181       story  693.000000  693.000000  Default  27.0000  27.0000\n",
              "853           s  353.000000  353.000000  Default  26.0000  26.0000\n",
              "...         ...         ...         ...      ...      ...      ...\n",
              "10269     wilde    0.018492    0.804851  Topic16  -9.5787   2.2309\n",
              "9172    grayson    0.018492    0.805133  Topic16  -9.5787   2.2306\n",
              "10974    luthor    0.018476    0.804725  Topic16  -9.5795   2.2302\n",
              "3603     leader    0.018495    0.806650  Topic16  -9.5785   2.2288\n",
              "3544   universe    0.018496    0.809112  Topic16  -9.5784   2.2259\n",
              "\n",
              "[640 rows x 6 columns], token_table=      Topic      Freq         Term\n",
              "term                              \n",
              "2093      7  0.971701     accident\n",
              "331       3  0.984497      account\n",
              "1543     14  0.827340         acre\n",
              "1544     14  0.864682       active\n",
              "3271     15  0.843868      actress\n",
              "...     ...       ...          ...\n",
              "199       2  0.057506         year\n",
              "199       3  0.037738         year\n",
              "2633     10  0.943312  years_later\n",
              "201       1  0.973034        young\n",
              "201       2  0.026298        young\n",
              "\n",
              "[768 rows x 3 columns], R=30, lambda_step=0.01, plot_opts={'xlab': 'PC1', 'ylab': 'PC2'}, topic_order=[8, 12, 11, 16, 10, 5, 9, 14, 4, 1, 3, 6, 13, 15, 2, 7])"
            ],
            "text/html": [
              "\n",
              "<link rel=\"stylesheet\" type=\"text/css\" href=\"https://cdn.jsdelivr.net/gh/bmabey/pyLDAvis@3.4.1/pyLDAvis/js/ldavis.v1.0.0.css\">\n",
              "\n",
              "\n",
              "<div id=\"ldavis_el96181327167410709602350986727\" style=\"background-color:white;\"></div>\n",
              "<script type=\"text/javascript\">\n",
              "\n",
              "var ldavis_el96181327167410709602350986727_data = {\"mdsDat\": {\"x\": [0.39673930546242475, 0.35717243471696575, 0.2611016465729601, -0.022051140790281122, -0.025283224053554727, -0.05367013769499214, -0.08928983558514372, -0.08688081055531698, -0.09109718907181034, -0.09054379801822729, -0.09155777267106889, -0.0925724004080866, -0.09370700676582536, -0.09345908693135203, -0.09290548653123075, -0.09199549767546093], \"y\": [0.10751026747893473, 0.15171145809208794, -0.3419699020897194, 0.03283586123601798, -0.021485174812140958, -0.02166244238994232, 0.0017161165956562487, 0.0075329365045010655, 0.00993447937081793, 0.012222998233933871, 0.011396229354381594, 0.009470863411786904, 0.010580516370053085, 0.010504113602899233, 0.009181909206981673, 0.010519769833751495], \"topics\": [1, 2, 3, 4, 5, 6, 7, 8, 9, 10, 11, 12, 13, 14, 15, 16], \"cluster\": [1, 1, 1, 1, 1, 1, 1, 1, 1, 1, 1, 1, 1, 1, 1, 1], \"Freq\": [55.063850639227354, 18.214914027280233, 13.527618475655467, 2.4325599646897786, 2.339196261473016, 2.144355954940627, 0.9744829043230809, 0.8210631776180906, 0.8055796240734383, 0.7541807602809718, 0.7507391826360857, 0.6654584702475207, 0.4621213199070242, 0.41399916573962303, 0.383056046119533, 0.24682402578816148]}, \"tinfo\": {\"Term\": [\"book\", \"make\", \"dream\", \"story\", \"s\", \"love\", \"write\", \"work\", \"recipe\", \"art\", \"child\", \"town\", \"murder\", \"well\", \"dark\", \"fear\", \"include\", \"food\", \"dead\", \"also\", \"king\", \"war\", \"magic\", \"marriage\", \"student\", \"offer\", \"know\", \"artist\", \"cook\", \"keep\", \"family\", \"secret\", \"novel\", \"think\", \"lose\", \"place\", \"learn\", \"mother\", \"end\", \"say\", \"seem\", \"question\", \"big\", \"try\", \"music\", \"spend\", \"know\", \"together\", \"travel\", \"bear\", \"daughter\", \"answer\", \"reveal\", \"force\", \"play\", \"past\", \"future\", \"relationship\", \"finally\", \"far\", \"become\", \"old\", \"begin\", \"hope\", \"turn\", \"survive\", \"find\", \"girl\", \"home\", \"night\", \"tell\", \"young\", \"never\", \"name\", \"take\", \"keep\", \"life\", \"time\", \"world\", \"man\", \"live\", \"year\", \"good\", \"go\", \"day\", \"come\", \"make\", \"new\", \"want\", \"even\", \"love\", \"way\", \"people\", \"get\", \"work\", \"s\", \"child\", \"different\", \"husband\", \"city\", \"earth\", \"science\", \"away\", \"space\", \"spiritual\", \"war\", \"other\", \"choice\", \"hot\", \"reality\", \"game\", \"sense\", \"path\", \"club\", \"alive\", \"deadly\", \"exactly\", \"ultimate\", \"language\", \"rule\", \"threaten\", \"approach\", \"guy\", \"sure\", \"really\", \"times_bestselling\", \"win\", \"series\", \"decade\", \"character\", \"much\", \"story\", \"human\", \"mean\", \"love\", \"society\", \"sister\", \"first\", \"dream\", \"fight\", \"death\", \"set\", \"read\", \"woman\", \"give\", \"leave\", \"age\", \"power\", \"author\", \"nature\", \"wife\", \"side\", \"provide\", \"wonder\", \"american\", \"important\", \"remember\", \"stand\", \"collection\", \"culture\", \"religion\", \"account\", \"faith\", \"god\", \"political\", \"range\", \"insight\", \"thousand\", \"joy\", \"celebrate\", \"grief\", \"religious\", \"curse\", \"wisdom\", \"field\", \"state\", \"advice\", \"philosophy\", \"care\", \"view\", \"original\", \"focus\", \"poem\", \"book\", \"often\", \"classic\", \"present\", \"write\", \"edition\", \"self\", \"volume\", \"offer\", \"art\", \"simple\", \"experience\", \"idea\", \"also\", \"reader\", \"work\", \"create\", \"include\", \"new\", \"many\", \"early\", \"understand\", \"marriage\", \"raise\", \"ready\", \"protect\", \"happy\", \"detective\", \"piece\", \"train\", \"grace\", \"send\", \"phone\", \"cross\", \"ice\", \"bedroom\", \"twin\", \"apart\", \"blue\", \"dog\", \"terror\", \"criminal\", \"shocking\", \"difficult\", \"charm\", \"retire\", \"investigate\", \"supply\", \"shop\", \"hiding\", \"willing\", \"bar\", \"attack\", \"cold\", \"chill\", \"risk\", \"dream\", \"student\", \"job\", \"town\", \"class\", \"dead\", \"recipe\", \"food\", \"cook\", \"chapter\", \"decision\", \"eat\", \"kitchen\", \"creature\", \"drop\", \"dish\", \"meal\", \"bit\", \"garden\", \"dinner\", \"park\", \"chocolate\", \"queen\", \"delicious\", \"cake\", \"meditation\", \"bake\", \"neighborhood\", \"warm\", \"low\", \"flavor\", \"calorie\", \"wilderness\", \"salad\", \"household\", \"distant\", \"healthy\", \"welcome\", \"track\", \"make\", \"simple\", \"include\", \"feature\", \"king\", \"artist\", \"remain\", \"sell\", \"german\", \"museum\", \"hotel\", \"teenager\", \"myth\", \"safety\", \"kingdom\", \"certainly\", \"hang\", \"realm\", \"terrify\", \"odd\", \"grand\", \"boat\", \"being\", \"hitler\", \"respect\", \"quite\", \"exile\", \"th\", \"prospect\", \"clever\", \"sight\", \"prince\", \"monster\", \"playful\", \"magic\", \"hero\", \"dark\", \"art\", \"collect\", \"defeat\", \"burn\", \"trip\", \"arrive\", \"accident\", \"office\", \"male\", \"violence\", \"lucky\", \"heroine\", \"fashion\", \"brutal\", \"tension\", \"fable\", \"disaster\", \"press\", \"terrifying\", \"thrust\", \"consciousness\", \"bright\", \"heat\", \"blind\", \"link\", \"architect\", \"envision\", \"sear\", \"intuition\", \"cure\", \"descend\", \"recall\", \"stream\", \"duty\", \"tree\", \"dark\", \"visit\", \"track\", \"capture\", \"nightmare\", \"revise\", \"grandmother\", \"worry\", \"anxiety\", \"shine\", \"fully\", \"empower\", \"mad\", \"preserve\", \"bore\", \"alike\", \"worthy\", \"trick\", \"capacity\", \"savage\", \"association\", \"fruit\", \"clandestine\", \"jam\", \"difficulty\", \"anonymous\", \"stuck\", \"clergy\", \"conspiracy\", \"eager\", \"equipment\", \"adore\", \"cognitive\", \"green\", \"health\", \"scale\", \"exercise\", \"fear\", \"expert\", \"record\", \"bestselle\", \"teacher\", \"sex\", \"local\", \"warn\", \"courage\", \"cat\", \"penny\", \"wood\", \"physics\", \"reputation\", \"excitement\", \"tall\", \"copy\", \"jack\", \"positive\", \"prominent\", \"glorious\", \"ink\", \"punk\", \"illustrator\", \"climb\", \"charlotte\", \"raw\", \"whimsical\", \"chief\", \"swim\", \"thus\", \"resident\", \"pack\", \"rock\", \"wind\", \"evidence\", \"killer\", \"gold\", \"demon\", \"hunt\", \"clue\", \"high_school\", \"barely\", \"totally\", \"ex\", \"verge\", \"cute\", \"blow\", \"confident\", \"pool\", \"leg\", \"years_later\", \"rogue\", \"inhabitant\", \"police\", \"league\", \"invent\", \"flower\", \"heavy\", \"dangerously\", \"seal\", \"precious\", \"instinct\", \"deepen\", \"shadow\", \"deliver\", \"famous\", \"soldier\", \"baby\", \"owner\", \"stuff\", \"pick\", \"phenomenon\", \"living\", \"agree\", \"doom\", \"tribute\", \"claire\", \"egg\", \"artistic\", \"deceit\", \"nurture\", \"impact\", \"bargain\", \"nick\", \"marcus\", \"destine\", \"roman\", \"property\", \"mature\", \"calm\", \"artwork\", \"motivate\", \"tangle\", \"properly\", \"tiny\", \"exercise\", \"island\", \"planet\", \"blink\", \"wicked\", \"quiet\", \"unlikely\", \"expectation\", \"rush\", \"invade\", \"native\", \"dry\", \"occupy\", \"dumb\", \"shake\", \"presidential\", \"deny\", \"stare\", \"aftermath\", \"cookie\", \"outsider\", \"nasty\", \"savory\", \"astonish\", \"impress\", \"rat\", \"photography\", \"spanish\", \"thirst\", \"condemn\", \"factor\", \"plane\", \"moment\", \"crazy\", \"otherwise\", \"mountain\", \"incredibly\", \"valuable\", \"attraction\", \"decline\", \"employ\", \"training\", \"backpack\", \"teammate\", \"erotic\", \"soil\", \"board\", \"hall\", \"geek\", \"impersonator\", \"load\", \"cultivate\", \"admit\", \"closed\", \"sanction\", \"geeky\", \"granddaughter\", \"confession\", \"glitter\", \"punch\", \"classify\", \"shark\", \"technical\", \"wish\", \"journalist\", \"adopt\", \"crayon\", \"farm\", \"forge\", \"sheet\", \"update\", \"deed\", \"electric\", \"bank\", \"shy\", \"discussion\", \"labyrinth\", \"fantastic\", \"antique\", \"hardcover\", \"acre\", \"active\", \"twice\", \"meticulous\", \"representation\", \"mid\", \"heist\", \"appendix\", \"pencil\", \"plumbing\", \"fanciful\", \"dot\", \"lure\", \"twentieth_century\", \"football\", \"ambition\", \"television\", \"british\", \"area\", \"dig\", \"leadership\", \"singular\", \"dominate\", \"actress\", \"quarterback\", \"director\", \"construct\", \"champion\", \"signal\", \"display\", \"impressive\", \"immigrant\", \"improvement\", \"refugee\", \"intimacy\", \"manga\", \"robotic\", \"howl\", \"mentor\", \"statistic\", \"kindness\", \"plight\", \"attic\", \"relatively\", \"receiver\", \"consist\", \"client\", \"gray\", \"agent\", \"deception\", \"legal\", \"carefully\", \"assign\", \"intuitive\", \"website\", \"participate\", \"conquer\", \"social_media\", \"uncharted\", \"aspiration\", \"butler\", \"charlie\", \"adulthood\", \"recipient\", \"adversary\", \"astronomer\", \"diasporic\", \"fertilization\", \"collective\", \"brand\", \"forensic\", \"dorian\", \"wilde\", \"grayson\", \"luthor\", \"leader\", \"universe\"], \"Freq\": [839.0, 715.0, 261.0, 693.0, 353.0, 817.0, 277.0, 510.0, 118.0, 158.0, 252.0, 120.0, 183.0, 355.0, 92.0, 97.0, 214.0, 87.0, 118.0, 338.0, 81.0, 202.0, 85.0, 82.0, 89.0, 214.0, 641.0, 74.0, 74.0, 276.0, 541.1416595712936, 348.13800420520056, 351.22002608961463, 341.52852313205034, 311.55539315642284, 265.78707802640287, 226.95980225473915, 204.04328433454702, 199.7603614785855, 179.28042143015887, 177.64431463509993, 174.40561365648344, 169.91459053274824, 167.45704992553655, 156.40634263729055, 155.41080706008444, 638.7369923838932, 150.9641249807301, 149.78385356207875, 146.07467105745488, 133.7380595995575, 130.31809343105968, 156.03877287145704, 175.86114939197384, 127.75922368078727, 126.57981298372376, 125.91519709183596, 125.2168464667467, 122.95795207244856, 117.21310748211901, 422.1174689248682, 209.39089202947451, 296.7621712259329, 157.5079413262906, 260.9242787071387, 155.89655945297315, 760.458906608361, 427.4252613050542, 305.38093743290284, 242.4552758226762, 324.56880943450057, 370.08826496477997, 338.3943859437522, 178.34276243843297, 461.4542779939367, 268.418998050793, 1087.6129072145948, 612.7353706406981, 802.0360351445574, 468.0717276830777, 475.8770842243107, 502.9188463586115, 348.5979349504535, 425.0402017851038, 378.3293132207434, 406.9944795653792, 592.2298727141547, 600.3182123013048, 318.85883795108543, 322.1966329731555, 495.5308009614264, 386.340049038924, 323.92707207772224, 323.9753280170672, 323.913217236679, 352.54612330351466, 251.4050783487217, 151.871030935478, 143.83171726816192, 136.70046935612342, 123.69631342768302, 110.76298934680403, 109.73712155874347, 106.1081007111536, 99.9125459140224, 201.5221354579618, 96.79644977583528, 86.70952443016196, 86.39095562405885, 78.00632751525342, 77.60988225226842, 78.11308044111003, 75.22428087288215, 74.03701621743664, 72.76390284840757, 73.92548269294728, 71.56012882496522, 68.91136031277594, 67.79456011979038, 108.82532684468609, 67.30118948241281, 63.84402220065818, 61.773504061224926, 58.77008493365545, 131.21795393315998, 99.79959336457867, 98.74359081357088, 174.21620105347085, 95.37576240386367, 118.45626298705535, 162.43491398912116, 377.98669659385496, 171.9156722866413, 144.37811076030764, 320.5570207951884, 89.73807269867127, 103.40170325348662, 220.40132105176502, 149.2479931573322, 112.06206306556498, 114.14088410829122, 115.48187646712871, 115.52600860244155, 126.43703383845384, 115.63039189439374, 113.38252778185843, 109.65976862563116, 111.96180367137667, 115.22313632479829, 128.32290286431336, 119.90484799064983, 103.18357181958149, 99.67226323326076, 96.45911949905896, 85.72637169787585, 83.60648999328171, 77.58299655586441, 124.12506206633304, 73.36167745853854, 72.48018395928601, 70.76489024056717, 70.38460590970878, 68.47300714251058, 67.09910372127753, 61.99130488506473, 61.47103750389559, 56.58470683245668, 55.18610413117417, 74.52598146597423, 51.31341595154191, 51.049922858741276, 50.69988337950935, 50.19157001333239, 50.391636910181624, 47.24681011586811, 46.703521450477204, 49.31917930038917, 45.73961516427142, 45.221929577495736, 51.118686582071504, 102.29676466687451, 53.33831695327803, 53.864593742269214, 704.3927446808617, 100.50761184725103, 145.4208072452496, 125.31736677650365, 230.85776558957144, 112.65049004463064, 121.39627250991445, 65.81937952115554, 150.32696691616485, 113.17439990454776, 83.38443521208023, 103.4408304075588, 99.82140022829023, 159.53479849274143, 142.05160989906992, 185.18203704693585, 98.04884319667016, 95.94389292649421, 129.89092857522547, 90.51559688718709, 81.30895218570814, 77.66203288779847, 81.64506744091962, 72.46649549941921, 61.99141241874011, 38.80570263521684, 36.93171729404247, 36.492754081443856, 33.42938270974779, 33.417582953115016, 31.205651110074783, 30.766189903589172, 30.65611362918806, 28.248104665951434, 27.794876259003633, 25.81222276407414, 24.072784086575723, 23.718909139841536, 34.02567028671577, 20.933141148669744, 19.950245952877943, 19.826945855580988, 19.08492637785449, 17.93157008239841, 17.522863064899663, 16.511216694942338, 15.795271980885238, 15.452565099030618, 15.267338357958296, 15.22830594053956, 14.828973719292822, 14.245608225082254, 39.58108402361432, 23.023380948565368, 25.399221469239496, 45.65738464728022, 101.37861245779831, 45.520654660651424, 44.69110969082045, 36.2560671543246, 23.4953123377519, 24.351533098357272, 117.27818361025466, 86.77088441704768, 74.18487735542784, 53.447470873632454, 50.93014490520814, 42.473417907980256, 41.83658238263147, 37.24209000146457, 36.597929728169035, 33.80768907698813, 33.730483166907256, 27.76805341364116, 27.0552032818228, 25.031494554497677, 24.82185106809527, 24.606637942432872, 22.71873074974556, 22.43997749978505, 21.704716705971812, 20.938788690481367, 18.343790906108378, 18.292404437662647, 17.47672003450947, 16.327297232437083, 15.428177934676972, 13.424286130097956, 13.215035420034722, 13.119064708812969, 12.83216341395453, 11.584717555825073, 33.39872988083738, 15.17769514506874, 17.49912126043614, 39.04351798803922, 17.81241169954781, 17.65253875491045, 16.680900913951962, 80.81026745464573, 74.20145021242473, 63.86882842076129, 37.278839381089554, 34.994911546665264, 28.706258411455142, 28.177038610440487, 27.45042561705398, 25.55264920185952, 25.160472985754748, 25.116056868376976, 23.88907649318095, 23.284014749883042, 23.26003233877639, 22.077669195857407, 20.626281356013216, 20.591549029161648, 17.76984427913758, 17.39044642797683, 17.31837701194926, 16.89063373403465, 16.368358884622253, 15.200816612264079, 14.862378080992007, 13.053918306331976, 12.415928863961444, 16.756522534107695, 11.850054250660254, 37.30574985212753, 11.187690980013521, 52.448914607863415, 40.41762447633567, 46.78691603605038, 44.36464493871124, 21.386867629695978, 15.464539877193973, 35.941027571858754, 35.25915144128097, 31.68911834583933, 30.115391885846666, 22.347472748940987, 20.655650420360306, 17.635926186670407, 16.0378503771229, 15.883056047848502, 14.625751237785947, 12.416931986019959, 10.951182120596414, 10.159228297279903, 9.929755553642492, 8.790475854886282, 8.737597562457927, 8.556119876073586, 8.302057994315673, 8.064326794893296, 6.233168637603161, 5.949748380392152, 5.152380150917817, 5.133904638481646, 4.771670105519983, 4.584717574466392, 3.7933553606438473, 14.676281764298874, 3.3496317792733845, 3.0936673128305543, 3.083961772361425, 8.4694254994469, 11.434869070695337, 44.55419747175918, 10.254321170144863, 5.413750670228274, 37.86417025780407, 25.950266125856196, 17.797526718387207, 16.941713068379713, 16.6840099602429, 14.687749019205105, 12.13852865632308, 11.538243733092214, 10.99983842441171, 9.835690707763536, 8.709756956901286, 8.50032908945809, 8.324306045782558, 8.118283825915308, 6.448154834285319, 6.417377733003007, 5.745366377576955, 5.666855560890275, 5.331446471817771, 5.1356105579265225, 4.914426043970542, 4.900218871320872, 4.415156701702227, 4.402974452744989, 4.02504817628379, 3.4763721035546506, 3.3476184628890784, 3.015251934482224, 2.6841909871148486, 2.6337264606952906, 18.42416752840202, 13.173695647732936, 6.401147706711704, 9.987184477480923, 12.193864426284891, 4.3963900351607625, 34.93968849436617, 27.47090288741298, 27.448899694979836, 23.850961780509323, 19.097776647552948, 18.562391628657974, 17.976489606666046, 15.691607067665352, 15.52560173848931, 15.332787025533408, 15.165813308919015, 10.467695462652046, 9.938091521786692, 8.176262497547803, 8.171092348506136, 8.004996842311925, 7.544368571478741, 6.1146485066657945, 6.003988713086571, 5.979106355316582, 5.508372165406744, 4.945021709607098, 4.594805854857351, 4.3521963673554165, 4.345082944192493, 3.9994023435321733, 3.8683515763716567, 3.790198973031084, 3.3912237546331063, 3.315413113446818, 4.582683545158224, 3.9779873327310473, 20.268989360583106, 19.751609290458646, 19.335018592703182, 16.01851599404761, 15.313109036569598, 14.883839617150729, 13.92112686416822, 10.733878014501496, 10.601160624333577, 10.39799076467538, 10.283857931426796, 9.805718771050492, 8.292029997534648, 8.105630732518211, 8.078855584501502, 7.6702554476216065, 7.156710177414777, 6.654970493150322, 6.4096916098031995, 6.402925568536394, 15.253758624675047, 5.852674752628499, 5.333586059335662, 5.283007695209851, 5.270254817855853, 5.0197968250206095, 4.975495835174877, 4.913190604224398, 4.803607507807875, 4.609206653633677, 12.070327842359871, 34.24662101927962, 27.59703808356474, 22.9793976664145, 21.544574213032305, 16.743636749434362, 16.449604677511932, 13.525946224909477, 13.021602248414952, 11.603104909056478, 11.561592334486152, 10.140183943911705, 7.6055562559303524, 7.074248904141788, 7.055281266660977, 6.764201129378614, 6.69287091083175, 6.172747068285503, 6.087588031536995, 5.803929749929578, 4.664764998778662, 4.644523918347198, 7.365312385214332, 4.441368127193405, 4.231958686353287, 4.132522627938934, 4.09796894212065, 3.424534530502763, 2.946304462601547, 2.8488001459758943, 2.56635984971144, 6.238045467576805, 4.181431695319254, 32.817500214976974, 29.76841339156916, 12.536518371587128, 11.69986964280551, 11.327460401304936, 10.432506754567465, 10.02963238811841, 8.872719335309604, 8.206164198671388, 7.386515031086129, 7.34514256461444, 7.3340439604114716, 6.8793025106975225, 6.7234006093922005, 6.564383475246743, 6.547487263007165, 6.149509221159928, 5.883920521853035, 5.576746953835352, 4.712574518790803, 4.693530124663833, 4.525150850118477, 4.392512530545886, 4.228651081825562, 3.6184899140884195, 3.475272755033818, 3.420583372822522, 3.1215851099445513, 3.054550560626247, 3.0025019455898625, 7.162170618700632, 37.787232952382574, 8.89620040260229, 8.447123394046764, 6.876743586520163, 6.298307281968981, 5.4773182778565745, 4.695837096762746, 4.639199616740006, 4.592456568860463, 4.58208491480051, 4.299336055530231, 3.1312028267368484, 2.93691455293334, 2.747449063314932, 2.670223232484122, 2.5819220316809566, 2.5481010254975427, 2.4963340984552813, 2.391752826150146, 2.2790713642599263, 2.247996015227454, 1.8783869416448382, 1.856579787499079, 1.807393423990562, 1.6125708387343578, 1.506929914736622, 1.3446064216336788, 1.1524522478910122, 1.1306454432730242, 1.130352888528646, 1.570696596196439, 11.739307349887532, 10.558154660258486, 8.755738017565848, 8.706864634234291, 8.351272151088716, 8.338218373511026, 5.417525195779717, 5.041196804069774, 4.709471950386998, 3.805585738380431, 3.73037851103508, 3.6523564506945014, 3.4268967614205588, 2.8942420142171215, 2.4515352094504035, 2.015953581173831, 1.7283186273852689, 1.6407157180583007, 1.5363177498617053, 1.461015957153937, 1.365216234939538, 1.3043506902567235, 1.0908844148553947, 1.084916150591559, 1.0580842205849879, 0.9768655169890011, 0.9690589688809074, 0.9412781495699899, 2.537365070420433, 0.8806889945998482, 1.528306727642159, 10.723885752970672, 9.271588742012241, 8.53673994721682, 7.113354536160863, 6.029505622390924, 5.140485321293191, 4.784537564304643, 4.635323855404169, 3.9638104009097863, 3.961605776492435, 3.674988763862625, 3.362776552350661, 3.1453695647646382, 3.099045410873709, 2.71365411639329, 2.391404045555469, 2.3688675843878033, 2.1217128466362345, 2.088913119037836, 1.7736935479518259, 1.5822395712974708, 1.4119788844249164, 1.229919381435459, 1.1439407675168878, 1.1410148210488444, 1.1172582256211117, 1.0651822309623262, 0.8374502652317681, 0.6715610179044741, 0.6253781538997628, 0.692314551365773, 6.4894173977758305, 4.794251421562924, 3.9200163096783074, 3.91228798284461, 3.0002774625510176, 2.8222364567098044, 2.617037530899817, 2.3776187049420145, 2.2772754116589167, 1.9175021083383716, 1.5922688104319425, 1.5233040474561974, 1.4901984173119596, 1.421181382092106, 1.2424704203222374, 0.8131912118417015, 0.6842314785214817, 0.6338905693752009, 0.5228983620765755, 1.5821353380806404, 0.2909564894642851, 0.2116380106372849, 0.21131715862463882, 0.2913764409397199, 1.1339313369938449, 0.10733013211123157, 0.018492195059268482, 0.018492195059268482, 0.018491948088472286, 0.018476190573814177, 0.018494715328180852, 0.018496315776726283], \"Total\": [839.0, 715.0, 261.0, 693.0, 353.0, 817.0, 277.0, 510.0, 118.0, 158.0, 252.0, 120.0, 183.0, 355.0, 92.0, 97.0, 214.0, 87.0, 118.0, 338.0, 81.0, 202.0, 85.0, 82.0, 89.0, 214.0, 641.0, 74.0, 74.0, 276.0, 541.8608051931704, 348.85540143823465, 351.95212488716703, 342.24579323651193, 312.2726631034306, 266.5043496540937, 227.67754818124718, 204.76063850187484, 200.47763738601063, 179.99770476379743, 178.36158604864198, 175.1233492709249, 170.63186032826553, 168.174323023092, 157.12394445450528, 156.12807695108427, 641.7008904111184, 151.6813949488733, 150.5011234195606, 146.80879278727778, 134.45533037061261, 131.03536348075946, 156.903541816759, 176.83932495565887, 128.47807267670896, 127.29708505338003, 126.63247199600809, 125.93411630702644, 123.67522199451173, 117.9303772923029, 426.8800676085095, 210.6786781383281, 300.33077160424966, 158.52464920130433, 264.04254948668927, 156.94714366306437, 780.0465237168672, 435.1665246661807, 310.11720072551253, 245.42155758293197, 331.26639628343577, 380.2539964078848, 347.2429511849602, 179.9393416863962, 483.2312835873804, 276.6059067458739, 1215.2429601980334, 665.8440308635254, 891.267113474425, 505.1118154075432, 515.2372573285967, 556.462272451274, 374.7356013310099, 474.16157792703774, 416.25432288798, 459.4705420050626, 715.105455494573, 808.8758717610299, 355.227544304688, 373.7841096644773, 817.217792001294, 536.7497764391682, 387.75712732939894, 411.6114076616895, 510.3891137718688, 353.2670943335672, 252.12601537054948, 152.59189805545324, 144.55258437873405, 137.4214181400539, 124.41824386785323, 111.48416435855218, 110.45799058938653, 106.82896770093409, 100.63341306731458, 202.9781565771307, 97.5173169905752, 87.43039162487148, 87.11182269924127, 78.7271945008377, 78.33094712987648, 78.83977528278142, 75.94514822461386, 74.75788324219536, 73.48477179255141, 74.66137524253844, 72.2809960364893, 69.63222736039904, 68.51542727235268, 109.98648096545419, 68.02205899577083, 64.56488951967988, 62.49437113731246, 59.49095209124998, 132.8352015466698, 102.36149102704893, 102.9533143928733, 190.17938535653732, 101.6997417799183, 134.8419860126539, 210.92555411721574, 693.6080259856267, 249.42050723487182, 214.6351102897679, 817.217792001294, 102.72783468544584, 132.3561118727812, 525.754908118216, 261.2233891025465, 154.8727668812688, 190.690440155819, 202.01900355876506, 205.5054021872143, 413.76298667170886, 268.9813343713418, 254.4668241123679, 202.02576114708268, 258.6981283922565, 358.4067413543986, 129.04032175606008, 120.62217490614094, 103.90089847039474, 100.3935608047115, 97.17644601909359, 86.4436979210278, 84.32381621995201, 78.30032305281892, 125.33072528443401, 74.07910761438383, 73.19791127235608, 71.48221638894931, 71.10227226945479, 69.19033845173848, 67.81643044205667, 62.709493530034436, 62.1883780248925, 57.30203493078262, 55.90343046594483, 75.51311135196144, 52.030743731955965, 51.76724946265375, 51.41722879512597, 50.90889704548287, 51.144137876445306, 47.964136705877465, 47.420847667560025, 50.087920361598506, 46.456943214627216, 45.939256330017756, 51.97567653187522, 105.54138486485039, 54.42713086423941, 55.058103199418085, 839.8775777559497, 108.09656720818458, 162.34929134460472, 140.56003746432967, 277.58767129986364, 134.57284159958647, 157.7651153632049, 71.7132169767899, 214.57058641241167, 158.19184183590997, 101.89920200728425, 143.4278437729834, 138.1009927048866, 338.4010751758759, 287.31446972177184, 510.3891137718688, 179.05801022536465, 214.58483398683435, 808.8758717610299, 196.58547134020858, 119.22572099289299, 117.74810089844357, 82.38439766655526, 73.20582576370491, 62.73074266210915, 39.54503320753167, 37.67104761353741, 37.23208399939222, 34.16871301792583, 34.156912971009646, 31.94498123941095, 31.505519876166357, 31.39544389485445, 28.987434754109323, 28.534206565106263, 26.551553122807572, 24.81211409348852, 24.458239201091352, 35.203876040287106, 21.67247143464663, 20.689577918396562, 20.56627574278109, 19.82425689526144, 18.670900143419946, 18.262193221733625, 17.250546932131783, 16.534602106072743, 16.191895608825618, 16.006668237862097, 15.967635993065077, 15.568303875218788, 14.984938288834854, 44.44613154084793, 25.004042975294198, 28.63133156820565, 57.24699518820149, 261.2233891025465, 89.72769144538839, 94.16482367954225, 120.69355369696207, 80.1613481442479, 118.64770354672304, 118.01248451466307, 87.50518554555505, 74.91917828467939, 54.18177226560748, 51.66444676511952, 43.20771886886082, 42.57088338358312, 37.97639176617398, 37.33223139224298, 34.54198999790586, 34.46478409345496, 28.50235553809395, 27.789504549537025, 25.765795601367724, 25.55615226850368, 25.34093891752937, 23.45303212402662, 23.17427852866091, 22.43901762151851, 21.673090503245913, 19.078091929221056, 19.026705890667134, 18.211021744173056, 17.061598345861356, 16.1624788425122, 14.15858702011414, 13.949337302945436, 13.853365614447364, 13.566465320486277, 12.319019349791112, 36.71468159912137, 17.231388331846336, 23.60105026974286, 715.105455494573, 101.89920200728425, 214.58483398683435, 92.27943762583128, 81.5501583759508, 74.94185935748222, 64.612153519942, 38.018730508265435, 35.73480303728939, 29.446149357237612, 28.916929803767072, 28.190316806258423, 26.29254016699537, 25.90036444823588, 25.855947710178828, 24.628968474700553, 24.023906292602142, 23.999923375676737, 22.817560048255555, 21.36617281020118, 21.331440149797295, 18.509735047090807, 18.13033768748641, 18.058268073022404, 17.630525382987788, 17.10825006347691, 15.940707461946245, 15.602268932622563, 13.79380990639225, 13.155820109614003, 17.791428871859125, 12.589945177345315, 39.717570400931955, 11.927582111858145, 85.21742215409205, 65.58131236136296, 92.0348809647385, 158.19184183590997, 67.22113864787899, 28.170401280001737, 36.699343317250076, 36.01746766475877, 32.44743409332802, 30.873707544414675, 23.105788716821078, 21.41396657694335, 18.39424209422248, 16.796166441571035, 16.64137174536581, 15.384066942723386, 13.175248121249506, 11.709497990550302, 10.917544107691885, 10.688071196029309, 9.548791651712083, 9.495913214775202, 9.314435631106951, 9.06037430460195, 8.82264253779465, 6.991484578370832, 6.708064234537459, 5.9106960957793255, 5.892220117270126, 5.529986146177929, 5.343033038468725, 4.551671110593311, 17.80764876057774, 4.107947518987385, 3.851983119044518, 3.8422885240758693, 10.81338166451109, 17.116646233442665, 92.0348809647385, 65.77831501590417, 23.60105026974286, 38.62617613218639, 26.71227202248679, 18.559532932018662, 17.703719252289638, 17.446045804513577, 15.449754777205115, 12.900534541695654, 12.300250155140999, 11.761844828695784, 10.597696564346787, 9.471763019199896, 9.262334971385293, 9.086311833403691, 8.88028940805603, 7.2101606850395035, 7.179384278236991, 6.507372729266452, 6.428861745912062, 6.093452181478712, 5.897616789342566, 5.676432498637193, 5.662224521243472, 5.177162374680107, 5.16498015567309, 4.787055551668859, 4.238377688572332, 4.1096241426697455, 3.77725767489074, 3.446196834148513, 3.39573336818083, 33.80399461414941, 25.636936874545107, 12.876429613209618, 28.59343084299916, 97.40558909794929, 26.576365812535588, 35.70315359859784, 28.234367882161127, 28.212364740479778, 24.61442714888506, 19.861241717948495, 19.32585685355686, 18.739954795948176, 16.455072134749155, 16.28906673225687, 16.096252000288196, 15.929278139373453, 11.231160658001452, 10.701556954573535, 8.93972824595772, 8.934557650081208, 8.768461977485225, 8.307833819889417, 6.878115002954333, 6.767454086767208, 6.742571412863768, 6.271836974601625, 5.708486520606675, 5.358270897533793, 5.115661445736206, 5.108548177958836, 4.762867562445087, 4.6318178248353, 4.553664099685784, 4.154689228800028, 4.0788783173419105, 40.83753010761406, 39.08724161443291, 21.034682001372655, 20.51730181251496, 20.10071097515746, 16.784208307828802, 16.07880150587189, 15.64953248481786, 14.68681947556115, 11.499570655414528, 11.366852991489209, 11.163683704906587, 11.04955038868333, 10.57141185571431, 9.057722437428609, 8.871323341467132, 8.844548760172232, 8.435948132895389, 7.922402690329311, 7.420663508444963, 7.175384224337065, 7.168617800418978, 17.10363182342988, 6.6183670218168995, 6.09927876441046, 6.048700106552481, 6.035947487154935, 5.785489399560786, 5.741188915850376, 5.678883234832099, 5.569299999807075, 5.374899945284966, 23.479300632273528, 35.01126048247677, 28.36167757575302, 23.746198533824572, 22.30921393281201, 17.508276495798505, 17.214244501297046, 14.290586153254115, 13.786241841796611, 12.367744489634944, 12.326232144617519, 10.90482389077847, 8.370195615645546, 7.8388885556588175, 7.819920437336888, 7.528840670170547, 7.4575104143160065, 6.937386590762155, 6.852228349313604, 6.568570820366766, 5.42940433480771, 5.409163256461284, 8.626252199283979, 5.206007485753679, 4.996598164387307, 4.897161910266326, 4.862608680012415, 4.189173832104595, 3.710943677565156, 3.6134395805932473, 3.3309990499184434, 17.702194614275964, 28.59343084299916, 33.585169062457204, 30.536082012317607, 13.304187488004755, 12.46753886773725, 12.095129008202676, 11.200175448495003, 10.797302006933695, 9.64038832822379, 8.97383299758852, 8.154183755144976, 8.112811589372736, 8.101712665705813, 7.646971267212254, 7.491069554355857, 7.332052177866167, 7.31515667171639, 6.917178329982675, 6.651589267220158, 6.344415875691869, 5.480243041716604, 5.4611986716812915, 5.292820109010593, 5.160181721216394, 4.9963197072521845, 4.386158581071873, 4.24757223055862, 4.1882528269899275, 3.889253625102265, 3.8222194224167456, 3.7701705424223024, 9.70349513199359, 38.561912262046405, 9.670879876527607, 9.221802957290404, 7.651462666542676, 7.072986695264184, 6.251997895120273, 5.470516914251907, 5.41387935971265, 5.367136025486062, 5.356764069375247, 5.0740156762016975, 3.9058826209457327, 3.711593796877795, 3.5221280972717763, 3.4449029388269734, 3.356601656944819, 3.322780141854368, 3.2710135097016906, 3.1664331261309324, 3.053751384187454, 3.022675494387023, 2.653066030927458, 2.631259099257175, 2.5820723566726755, 2.38724986071826, 2.281608956050436, 2.1192855101123973, 1.9271311901494879, 1.9053281409369354, 1.9050323539233112, 3.597352102950004, 12.5159778582091, 11.33482514702279, 9.532408460783227, 9.48353484637982, 9.127942596167479, 9.114889306002702, 6.194196422773733, 5.817867506202937, 5.486142188713197, 4.582256057038147, 4.507049052623067, 4.429026949315897, 4.203567990114487, 3.670912492015974, 3.228205858836442, 2.7926241216906718, 2.504988795223769, 2.4173861492256585, 2.312988512237307, 2.2376882238759372, 2.1418863623918005, 2.081021555633203, 1.8675544824539105, 1.861586249515953, 1.834757200119747, 1.7535356664142954, 1.7457291393548788, 1.7179483519599565, 4.6582189707839365, 1.657359070384453, 4.205524744665238, 11.502360259649175, 10.050063656469987, 9.315214642214583, 7.891829516113767, 6.80798087285795, 5.9189606757307995, 5.563012386916911, 5.413798480288431, 4.742285213624449, 4.740080298246763, 4.453463280063799, 4.141251275715081, 3.9238446326220138, 3.877520356420815, 3.492128914836524, 3.1698785880951372, 3.1473447756286523, 2.9001873586709292, 2.867388125870297, 2.5521681822101026, 2.3607141173619968, 2.1904534871507955, 2.0083938711750635, 1.922415385698957, 1.9194896442170721, 1.8957327178016712, 1.8436573975696837, 1.6159248542954148, 1.4500354626199705, 1.4038527573753437, 4.428971501452695, 7.275412115695939, 5.580245980784157, 4.70601070585596, 4.698282380052522, 3.7862727874777127, 3.6082310705340688, 3.4030333393014955, 3.1636133703510345, 3.0632704303701304, 2.7034990300168706, 2.3782632340312064, 2.3092994654484187, 2.2761928378799836, 2.207175937328968, 2.0284653485427984, 1.5991858670787906, 1.4702257350015697, 1.419884893902407, 1.3088925745670297, 4.5839796847309024, 1.0769511478336726, 0.9976324523020386, 0.9973117471071418, 2.7128467036210946, 30.84688856391771, 4.260943778051699, 0.8048506675993498, 0.8048506675993498, 0.8051330169577605, 0.8047250593227353, 0.8066501559553382, 0.8091117233523187], \"Category\": [\"Default\", \"Default\", \"Default\", \"Default\", \"Default\", \"Default\", \"Default\", \"Default\", \"Default\", \"Default\", \"Default\", \"Default\", \"Default\", \"Default\", \"Default\", \"Default\", \"Default\", \"Default\", \"Default\", \"Default\", \"Default\", \"Default\", \"Default\", \"Default\", \"Default\", \"Default\", \"Default\", \"Default\", \"Default\", \"Default\", \"Topic1\", \"Topic1\", \"Topic1\", \"Topic1\", \"Topic1\", \"Topic1\", \"Topic1\", \"Topic1\", \"Topic1\", \"Topic1\", \"Topic1\", \"Topic1\", \"Topic1\", \"Topic1\", \"Topic1\", \"Topic1\", \"Topic1\", \"Topic1\", \"Topic1\", \"Topic1\", \"Topic1\", \"Topic1\", \"Topic1\", \"Topic1\", \"Topic1\", \"Topic1\", \"Topic1\", \"Topic1\", \"Topic1\", \"Topic1\", \"Topic1\", \"Topic1\", \"Topic1\", \"Topic1\", \"Topic1\", \"Topic1\", \"Topic1\", \"Topic1\", \"Topic1\", \"Topic1\", \"Topic1\", \"Topic1\", \"Topic1\", \"Topic1\", \"Topic1\", \"Topic1\", \"Topic1\", \"Topic1\", \"Topic1\", \"Topic1\", \"Topic1\", \"Topic1\", \"Topic1\", \"Topic1\", \"Topic1\", \"Topic1\", \"Topic1\", \"Topic1\", \"Topic1\", \"Topic1\", \"Topic1\", \"Topic1\", \"Topic1\", \"Topic1\", \"Topic1\", \"Topic2\", \"Topic2\", \"Topic2\", \"Topic2\", \"Topic2\", \"Topic2\", \"Topic2\", \"Topic2\", \"Topic2\", \"Topic2\", \"Topic2\", \"Topic2\", \"Topic2\", \"Topic2\", \"Topic2\", \"Topic2\", \"Topic2\", \"Topic2\", \"Topic2\", \"Topic2\", \"Topic2\", \"Topic2\", \"Topic2\", \"Topic2\", \"Topic2\", \"Topic2\", \"Topic2\", \"Topic2\", \"Topic2\", \"Topic2\", \"Topic2\", \"Topic2\", \"Topic2\", \"Topic2\", \"Topic2\", \"Topic2\", \"Topic2\", \"Topic2\", \"Topic2\", \"Topic2\", \"Topic2\", \"Topic2\", \"Topic2\", \"Topic2\", \"Topic2\", \"Topic2\", \"Topic2\", \"Topic2\", \"Topic2\", \"Topic2\", \"Topic2\", \"Topic2\", \"Topic2\", \"Topic2\", \"Topic3\", \"Topic3\", \"Topic3\", \"Topic3\", \"Topic3\", \"Topic3\", \"Topic3\", \"Topic3\", \"Topic3\", \"Topic3\", \"Topic3\", \"Topic3\", \"Topic3\", \"Topic3\", \"Topic3\", \"Topic3\", \"Topic3\", \"Topic3\", \"Topic3\", \"Topic3\", \"Topic3\", \"Topic3\", \"Topic3\", \"Topic3\", \"Topic3\", \"Topic3\", \"Topic3\", \"Topic3\", \"Topic3\", \"Topic3\", \"Topic3\", \"Topic3\", \"Topic3\", \"Topic3\", \"Topic3\", \"Topic3\", \"Topic3\", \"Topic3\", \"Topic3\", \"Topic3\", \"Topic3\", \"Topic3\", \"Topic3\", \"Topic3\", \"Topic3\", \"Topic3\", \"Topic3\", \"Topic3\", \"Topic3\", \"Topic3\", \"Topic3\", \"Topic3\", \"Topic3\", \"Topic3\", \"Topic3\", \"Topic3\", \"Topic4\", \"Topic4\", \"Topic4\", \"Topic4\", \"Topic4\", \"Topic4\", \"Topic4\", \"Topic4\", \"Topic4\", \"Topic4\", \"Topic4\", \"Topic4\", \"Topic4\", \"Topic4\", \"Topic4\", \"Topic4\", \"Topic4\", \"Topic4\", \"Topic4\", \"Topic4\", \"Topic4\", \"Topic4\", \"Topic4\", \"Topic4\", \"Topic4\", \"Topic4\", \"Topic4\", \"Topic4\", \"Topic4\", \"Topic4\", \"Topic4\", \"Topic4\", \"Topic4\", \"Topic4\", \"Topic4\", \"Topic4\", \"Topic4\", \"Topic4\", \"Topic4\", \"Topic4\", \"Topic5\", \"Topic5\", \"Topic5\", \"Topic5\", \"Topic5\", \"Topic5\", \"Topic5\", \"Topic5\", \"Topic5\", \"Topic5\", \"Topic5\", \"Topic5\", \"Topic5\", \"Topic5\", \"Topic5\", \"Topic5\", \"Topic5\", \"Topic5\", \"Topic5\", \"Topic5\", \"Topic5\", \"Topic5\", \"Topic5\", \"Topic5\", \"Topic5\", \"Topic5\", \"Topic5\", \"Topic5\", \"Topic5\", \"Topic5\", \"Topic5\", \"Topic5\", \"Topic5\", \"Topic5\", \"Topic5\", \"Topic5\", \"Topic5\", \"Topic6\", \"Topic6\", \"Topic6\", \"Topic6\", \"Topic6\", \"Topic6\", \"Topic6\", \"Topic6\", \"Topic6\", \"Topic6\", \"Topic6\", \"Topic6\", \"Topic6\", \"Topic6\", \"Topic6\", \"Topic6\", \"Topic6\", \"Topic6\", \"Topic6\", \"Topic6\", \"Topic6\", \"Topic6\", \"Topic6\", \"Topic6\", \"Topic6\", \"Topic6\", \"Topic6\", \"Topic6\", \"Topic6\", \"Topic6\", \"Topic6\", \"Topic6\", \"Topic6\", \"Topic6\", \"Topic6\", \"Topic6\", \"Topic7\", \"Topic7\", \"Topic7\", \"Topic7\", \"Topic7\", \"Topic7\", \"Topic7\", \"Topic7\", \"Topic7\", \"Topic7\", \"Topic7\", \"Topic7\", \"Topic7\", \"Topic7\", \"Topic7\", \"Topic7\", \"Topic7\", \"Topic7\", \"Topic7\", \"Topic7\", \"Topic7\", \"Topic7\", \"Topic7\", \"Topic7\", \"Topic7\", \"Topic7\", \"Topic7\", \"Topic7\", \"Topic7\", \"Topic7\", \"Topic7\", \"Topic7\", \"Topic7\", \"Topic7\", \"Topic7\", \"Topic8\", \"Topic8\", \"Topic8\", \"Topic8\", \"Topic8\", \"Topic8\", \"Topic8\", \"Topic8\", \"Topic8\", \"Topic8\", \"Topic8\", \"Topic8\", \"Topic8\", \"Topic8\", \"Topic8\", \"Topic8\", \"Topic8\", \"Topic8\", \"Topic8\", \"Topic8\", \"Topic8\", \"Topic8\", \"Topic8\", \"Topic8\", \"Topic8\", \"Topic8\", \"Topic8\", \"Topic8\", \"Topic8\", \"Topic8\", \"Topic8\", \"Topic8\", \"Topic8\", \"Topic8\", \"Topic8\", \"Topic8\", \"Topic9\", \"Topic9\", \"Topic9\", \"Topic9\", \"Topic9\", \"Topic9\", \"Topic9\", \"Topic9\", \"Topic9\", \"Topic9\", \"Topic9\", \"Topic9\", \"Topic9\", \"Topic9\", \"Topic9\", \"Topic9\", \"Topic9\", \"Topic9\", \"Topic9\", \"Topic9\", \"Topic9\", \"Topic9\", \"Topic9\", \"Topic9\", \"Topic9\", \"Topic9\", \"Topic9\", \"Topic9\", \"Topic9\", \"Topic9\", \"Topic9\", \"Topic9\", \"Topic10\", \"Topic10\", \"Topic10\", \"Topic10\", \"Topic10\", \"Topic10\", \"Topic10\", \"Topic10\", \"Topic10\", \"Topic10\", \"Topic10\", \"Topic10\", \"Topic10\", \"Topic10\", \"Topic10\", \"Topic10\", \"Topic10\", \"Topic10\", \"Topic10\", \"Topic10\", \"Topic10\", \"Topic10\", \"Topic10\", \"Topic10\", \"Topic10\", \"Topic10\", \"Topic10\", \"Topic10\", \"Topic10\", \"Topic10\", \"Topic10\", \"Topic11\", \"Topic11\", \"Topic11\", \"Topic11\", \"Topic11\", \"Topic11\", \"Topic11\", \"Topic11\", \"Topic11\", \"Topic11\", \"Topic11\", \"Topic11\", \"Topic11\", \"Topic11\", \"Topic11\", \"Topic11\", \"Topic11\", \"Topic11\", \"Topic11\", \"Topic11\", \"Topic11\", \"Topic11\", \"Topic11\", \"Topic11\", \"Topic11\", \"Topic11\", \"Topic11\", \"Topic11\", \"Topic11\", \"Topic11\", \"Topic11\", \"Topic11\", \"Topic12\", \"Topic12\", \"Topic12\", \"Topic12\", \"Topic12\", \"Topic12\", \"Topic12\", \"Topic12\", \"Topic12\", \"Topic12\", \"Topic12\", \"Topic12\", \"Topic12\", \"Topic12\", \"Topic12\", \"Topic12\", \"Topic12\", \"Topic12\", \"Topic12\", \"Topic12\", \"Topic12\", \"Topic12\", \"Topic12\", \"Topic12\", \"Topic12\", \"Topic12\", \"Topic12\", \"Topic12\", \"Topic12\", \"Topic12\", \"Topic12\", \"Topic13\", \"Topic13\", \"Topic13\", \"Topic13\", \"Topic13\", \"Topic13\", \"Topic13\", \"Topic13\", \"Topic13\", \"Topic13\", \"Topic13\", \"Topic13\", \"Topic13\", \"Topic13\", \"Topic13\", \"Topic13\", \"Topic13\", \"Topic13\", \"Topic13\", \"Topic13\", \"Topic13\", \"Topic13\", \"Topic13\", \"Topic13\", \"Topic13\", \"Topic13\", \"Topic13\", \"Topic13\", \"Topic13\", \"Topic13\", \"Topic13\", \"Topic14\", \"Topic14\", \"Topic14\", \"Topic14\", \"Topic14\", \"Topic14\", \"Topic14\", \"Topic14\", \"Topic14\", \"Topic14\", \"Topic14\", \"Topic14\", \"Topic14\", \"Topic14\", \"Topic14\", \"Topic14\", \"Topic14\", \"Topic14\", \"Topic14\", \"Topic14\", \"Topic14\", \"Topic14\", \"Topic14\", \"Topic14\", \"Topic14\", \"Topic14\", \"Topic14\", \"Topic14\", \"Topic14\", \"Topic14\", \"Topic14\", \"Topic15\", \"Topic15\", \"Topic15\", \"Topic15\", \"Topic15\", \"Topic15\", \"Topic15\", \"Topic15\", \"Topic15\", \"Topic15\", \"Topic15\", \"Topic15\", \"Topic15\", \"Topic15\", \"Topic15\", \"Topic15\", \"Topic15\", \"Topic15\", \"Topic15\", \"Topic15\", \"Topic15\", \"Topic15\", \"Topic15\", \"Topic15\", \"Topic15\", \"Topic15\", \"Topic15\", \"Topic15\", \"Topic15\", \"Topic15\", \"Topic15\", \"Topic16\", \"Topic16\", \"Topic16\", \"Topic16\", \"Topic16\", \"Topic16\", \"Topic16\", \"Topic16\", \"Topic16\", \"Topic16\", \"Topic16\", \"Topic16\", \"Topic16\", \"Topic16\", \"Topic16\", \"Topic16\", \"Topic16\", \"Topic16\", \"Topic16\", \"Topic16\", \"Topic16\", \"Topic16\", \"Topic16\", \"Topic16\", \"Topic16\", \"Topic16\", \"Topic16\", \"Topic16\", \"Topic16\", \"Topic16\", \"Topic16\", \"Topic16\"], \"logprob\": [30.0, 29.0, 28.0, 27.0, 26.0, 25.0, 24.0, 23.0, 22.0, 21.0, 20.0, 19.0, 18.0, 17.0, 16.0, 15.0, 14.0, 13.0, 12.0, 11.0, 10.0, 9.0, 8.0, 7.0, 6.0, 5.0, 4.0, 3.0, 2.0, 1.0, -4.7022, -5.1432, -5.1344, -5.1624, -5.2543, -5.4131, -5.5711, -5.6775, -5.6987, -5.8069, -5.8161, -5.8345, -5.8605, -5.8751, -5.9434, -5.9498, -4.5363, -5.9788, -5.9866, -6.0117, -6.1, -6.1259, -5.9457, -5.8261, -6.1457, -6.155, -6.1602, -6.1658, -6.184, -6.2318, -4.9506, -5.6516, -5.3029, -5.9364, -5.4316, -5.9466, -4.3619, -4.9381, -5.2743, -5.505, -5.2133, -5.0821, -5.1716, -5.8121, -4.8615, -5.4033, -4.0041, -4.5779, -4.3087, -4.8472, -4.8307, -4.7754, -5.1419, -4.9437, -5.0601, -4.987, -4.6119, -4.5984, -5.2311, -5.2207, -4.7902, -5.0391, -5.2153, -5.2152, -5.2154, -4.0244, -4.3625, -4.8666, -4.9209, -4.9718, -5.0718, -5.1822, -5.1915, -5.2251, -5.2853, -4.5837, -5.317, -5.427, -5.4307, -5.5328, -5.5379, -5.5314, -5.5691, -5.585, -5.6024, -5.5865, -5.619, -5.6568, -5.6731, -5.1998, -5.6804, -5.7331, -5.7661, -5.816, -5.0127, -5.2864, -5.2971, -4.7293, -5.3318, -5.115, -4.7993, -3.9547, -4.7426, -4.9171, -4.1195, -5.3927, -5.251, -4.4941, -4.884, -5.1705, -5.1521, -5.1405, -5.1401, -5.0498, -5.1392, -5.1588, -5.1922, -5.1714, -5.1427, -4.7375, -4.8054, -4.9556, -4.9902, -5.023, -5.1409, -5.166, -5.2407, -4.7708, -5.2967, -5.3088, -5.3327, -5.3381, -5.3656, -5.3859, -5.4651, -5.4735, -5.5563, -5.5814, -5.2809, -5.6541, -5.6593, -5.6662, -5.6762, -5.6723, -5.7367, -5.7483, -5.6938, -5.7691, -5.7805, -5.6579, -4.9642, -5.6154, -5.6056, -3.0347, -4.9818, -4.6124, -4.7612, -4.1503, -4.8678, -4.793, -5.4052, -4.5793, -4.8631, -5.1686, -4.9531, -4.9887, -4.5198, -4.6359, -4.3707, -5.0066, -5.0283, -4.7254, -5.0866, -5.1938, -5.2397, -3.4739, -3.5932, -3.7493, -4.2177, -4.2672, -4.2792, -4.3669, -4.3672, -4.4357, -4.4499, -4.4535, -4.5353, -4.5514, -4.6254, -4.6952, -4.71, -4.3492, -4.835, -4.883, -4.8892, -4.9274, -4.9897, -5.0128, -5.0722, -5.1166, -5.1385, -5.1506, -5.1531, -5.1797, -5.2198, -4.1979, -4.7398, -4.6416, -4.0551, -3.2574, -4.0581, -4.0765, -4.2857, -4.7195, -4.6837, -3.0726, -3.3739, -3.5306, -3.8585, -3.9067, -4.0883, -4.1034, -4.2197, -4.2372, -4.3165, -4.3187, -4.5133, -4.5393, -4.617, -4.6254, -4.6341, -4.714, -4.7263, -4.7596, -4.7955, -4.9279, -4.9307, -4.9763, -5.0443, -5.101, -5.2401, -5.2558, -5.2631, -5.2852, -5.3875, -4.3286, -5.1173, -4.975, -4.1725, -4.9573, -4.9663, -5.0229, -3.3581, -3.4434, -3.5934, -4.1318, -4.195, -4.3931, -4.4117, -4.4378, -4.5094, -4.5249, -4.5267, -4.5768, -4.6024, -4.6034, -4.6556, -4.7236, -4.7253, -4.8727, -4.8943, -4.8984, -4.9234, -4.9548, -5.0288, -5.0513, -5.1811, -5.2312, -4.9314, -5.2778, -4.131, -5.3354, -3.7903, -4.0509, -3.9046, -3.9577, -4.6874, -5.0116, -3.3796, -3.3988, -3.5055, -3.5565, -3.8548, -3.9335, -4.0916, -4.1865, -4.1962, -4.2787, -4.4424, -4.568, -4.6431, -4.666, -4.7878, -4.7939, -4.8148, -4.845, -4.874, -5.1316, -5.1781, -5.322, -5.3256, -5.3988, -5.4388, -5.6282, -4.2753, -5.7526, -5.8321, -5.8353, -4.825, -4.5248, -3.1648, -4.6338, -5.2726, -3.1562, -3.534, -3.9111, -3.9604, -3.9757, -4.1032, -4.2938, -4.3445, -4.3923, -4.5042, -4.6257, -4.6501, -4.671, -4.6961, -4.9264, -4.9312, -5.0418, -5.0556, -5.1166, -5.154, -5.198, -5.2009, -5.3051, -5.3079, -5.3977, -5.5442, -5.5819, -5.6865, -5.8028, -5.8218, -3.8765, -4.212, -4.9337, -4.4889, -4.2893, -5.3094, -3.2175, -3.458, -3.4588, -3.5993, -3.8216, -3.85, -3.8821, -4.018, -4.0287, -4.0412, -4.0521, -4.4229, -4.4748, -4.6699, -4.6705, -4.6911, -4.7503, -4.9605, -4.9787, -4.9829, -5.0649, -5.1728, -5.2462, -5.3005, -5.3021, -5.385, -5.4183, -5.4387, -5.55, -5.5726, -5.2489, -5.3904, -3.6961, -3.722, -3.7433, -3.9315, -3.9765, -4.0049, -4.0718, -4.3318, -4.3443, -4.3636, -4.3746, -4.4223, -4.5899, -4.6127, -4.616, -4.6679, -4.7372, -4.8099, -4.8474, -4.8485, -3.9804, -4.9383, -5.0312, -5.0407, -5.0431, -5.0918, -5.1007, -5.1133, -5.1359, -5.1772, -4.2145, -3.1671, -3.3829, -3.566, -3.6305, -3.8826, -3.9003, -4.096, -4.134, -4.2494, -4.253, -4.3841, -4.6718, -4.7442, -4.7469, -4.789, -4.7996, -4.8805, -4.8944, -4.9421, -5.1606, -5.165, -4.7039, -5.2097, -5.258, -5.2818, -5.2902, -5.4697, -5.6201, -5.6537, -5.7582, -4.87, -5.27, -3.0891, -3.1866, -4.0514, -4.1205, -4.1528, -4.2351, -4.2745, -4.3971, -4.4752, -4.5804, -4.586, -4.5875, -4.6515, -4.6745, -4.6984, -4.701, -4.7637, -4.8078, -4.8615, -5.0298, -5.0339, -5.0704, -5.1002, -5.1382, -5.294, -5.3344, -5.3503, -5.4417, -5.4634, -5.4806, -4.6113, -2.5834, -4.0298, -4.0816, -4.2873, -4.3751, -4.5148, -4.6687, -4.6809, -4.691, -4.6933, -4.757, -5.074, -5.1381, -5.2047, -5.2333, -5.2669, -5.2801, -5.3006, -5.3434, -5.3916, -5.4054, -5.585, -5.5967, -5.6235, -5.7376, -5.8053, -5.9193, -6.0735, -6.0926, -6.0929, -5.7639, -3.6425, -3.7486, -3.9357, -3.9413, -3.983, -3.9846, -4.4158, -4.4878, -4.5559, -4.769, -4.7889, -4.8101, -4.8738, -5.0427, -5.2087, -5.4044, -5.5583, -5.6103, -5.6761, -5.7263, -5.7941, -5.8397, -6.0185, -6.0239, -6.049, -6.1289, -6.1369, -6.166, -5.1743, -6.2325, -5.6813, -3.6553, -3.8008, -3.8834, -4.0658, -4.2311, -4.3906, -4.4624, -4.4941, -4.6506, -4.6511, -4.7262, -4.815, -4.8818, -4.8967, -5.0295, -5.1559, -5.1654, -5.2755, -5.2911, -5.4547, -5.5689, -5.6828, -5.8208, -5.8933, -5.8959, -5.9169, -5.9646, -6.2052, -6.4259, -6.4972, -6.3955, -3.7181, -4.0208, -4.2222, -4.2241, -4.4896, -4.5507, -4.6262, -4.7222, -4.7653, -4.9372, -5.1231, -5.1674, -5.1894, -5.2368, -5.3712, -5.7951, -5.9677, -6.0441, -6.2366, -5.1295, -6.8228, -7.1411, -7.1427, -6.8214, -5.4626, -7.8201, -9.5787, -9.5787, -9.5787, -9.5795, -9.5785, -9.5784], \"loglift\": [30.0, 29.0, 28.0, 27.0, 26.0, 25.0, 24.0, 23.0, 22.0, 21.0, 20.0, 19.0, 18.0, 17.0, 16.0, 15.0, 14.0, 13.0, 12.0, 11.0, 10.0, 9.0, 8.0, 7.0, 6.0, 5.0, 4.0, 3.0, 2.0, 1.0, 0.5953, 0.5946, 0.5946, 0.5946, 0.5944, 0.594, 0.5935, 0.5932, 0.5931, 0.5927, 0.5926, 0.5926, 0.5925, 0.5924, 0.5921, 0.5921, 0.592, 0.5919, 0.5919, 0.5917, 0.5913, 0.5912, 0.5912, 0.5911, 0.5911, 0.591, 0.591, 0.591, 0.5909, 0.5906, 0.5855, 0.5905, 0.5847, 0.5902, 0.5848, 0.59, 0.5712, 0.5787, 0.5813, 0.5845, 0.5763, 0.5696, 0.5709, 0.5878, 0.5506, 0.5666, 0.4857, 0.5136, 0.4912, 0.5205, 0.5172, 0.4955, 0.5244, 0.4873, 0.5011, 0.4754, 0.4081, 0.2985, 0.4887, 0.4482, 0.0964, 0.2679, 0.4168, 0.3573, 0.142, 1.7009, 1.7001, 1.6982, 1.6979, 1.6977, 1.6971, 1.6964, 1.6964, 1.6962, 1.6957, 1.6957, 1.6955, 1.6947, 1.6946, 1.6937, 1.6937, 1.6937, 1.6934, 1.6932, 1.6931, 1.693, 1.6929, 1.6925, 1.6924, 1.6923, 1.6923, 1.6917, 1.6913, 1.6907, 1.6907, 1.6776, 1.6612, 1.6153, 1.6387, 1.5734, 1.4417, 1.0959, 1.3308, 1.3064, 0.7671, 1.5677, 1.4561, 0.8335, 1.1432, 1.3794, 1.1897, 1.1437, 1.127, 0.5174, 0.8587, 0.8945, 1.0919, 0.8654, 0.5681, 1.9949, 1.9945, 1.9935, 1.9932, 1.993, 1.9921, 1.9919, 1.9912, 1.9908, 1.9907, 1.9906, 1.9904, 1.9903, 1.99, 1.9898, 1.9889, 1.9888, 1.9878, 1.9875, 1.9873, 1.9866, 1.9865, 1.9864, 1.9862, 1.9856, 1.9854, 1.9852, 1.985, 1.9849, 1.9847, 1.9838, 1.9692, 1.9802, 1.9785, 1.8245, 1.9276, 1.8903, 1.8857, 1.8161, 1.8226, 1.7384, 1.9147, 1.6446, 1.6656, 1.7999, 1.6736, 1.6758, 1.2485, 1.296, 0.9866, 1.3982, 1.1955, 0.1715, 1.2249, 1.6177, 1.5843, 3.7072, 3.7061, 3.7044, 3.6974, 3.6964, 3.6962, 3.6944, 3.6943, 3.6928, 3.6925, 3.6924, 3.6904, 3.69, 3.688, 3.686, 3.6855, 3.6822, 3.6815, 3.6798, 3.6796, 3.6782, 3.6758, 3.6749, 3.6724, 3.6705, 3.6695, 3.6689, 3.6688, 3.6676, 3.6656, 3.6003, 3.6337, 3.5964, 3.49, 2.7697, 3.0376, 2.971, 2.5136, 2.489, 2.1327, 3.7491, 3.7469, 3.7455, 3.7417, 3.741, 3.7382, 3.738, 3.7358, 3.7355, 3.7339, 3.7338, 3.7293, 3.7286, 3.7264, 3.7262, 3.726, 3.7236, 3.7232, 3.7221, 3.7209, 3.7161, 3.716, 3.7142, 3.7114, 3.7089, 3.7021, 3.7013, 3.7009, 3.6997, 3.6939, 3.6607, 3.6285, 3.4562, 0.8476, 2.0113, 1.2575, 2.0448, 3.8332, 3.8324, 3.8308, 3.8227, 3.8214, 3.8169, 3.8164, 3.8157, 3.8138, 3.8133, 3.8133, 3.8118, 3.811, 3.811, 3.8094, 3.8071, 3.807, 3.8015, 3.8007, 3.8005, 3.7995, 3.7981, 3.7948, 3.7937, 3.7872, 3.7844, 3.7824, 3.7818, 3.7797, 3.7783, 3.357, 3.3583, 3.1658, 2.571, 2.6971, 3.2426, 4.6101, 4.6097, 4.6074, 4.6061, 4.5976, 4.595, 4.5889, 4.5848, 4.5844, 4.5805, 4.5717, 4.5641, 4.559, 4.5574, 4.5483, 4.5478, 4.5461, 4.5436, 4.5411, 4.5162, 4.5111, 4.4937, 4.4933, 4.4835, 4.478, 4.4488, 4.4376, 4.4269, 4.4118, 4.4112, 4.3867, 4.2276, 3.9056, 2.7724, 3.1587, 4.7824, 4.7734, 4.7604, 4.7583, 4.7577, 4.7517, 4.7414, 4.7384, 4.7353, 4.7277, 4.7185, 4.7165, 4.7147, 4.7126, 4.6906, 4.6901, 4.6778, 4.6762, 4.6687, 4.664, 4.6582, 4.6578, 4.6431, 4.6427, 4.6289, 4.6041, 4.5972, 4.577, 4.5524, 4.5482, 4.1954, 4.1365, 4.1034, 3.7505, 2.7244, 3.0031, 4.7997, 4.794, 4.7939, 4.7899, 4.7822, 4.7811, 4.7798, 4.7739, 4.7734, 4.7728, 4.7722, 4.751, 4.7473, 4.7321, 4.732, 4.7303, 4.725, 4.7037, 4.7017, 4.7012, 4.6916, 4.6778, 4.6676, 4.6597, 4.6595, 4.6467, 4.6412, 4.6378, 4.6183, 4.6141, 2.634, 2.5363, 4.8502, 4.8493, 4.8485, 4.8406, 4.8385, 4.8371, 4.8338, 4.8184, 4.8176, 4.8162, 4.8155, 4.8121, 4.799, 4.797, 4.7967, 4.7921, 4.7856, 4.7784, 4.7744, 4.7743, 4.7728, 4.7643, 4.7531, 4.7519, 4.7516, 4.7453, 4.7442, 4.7425, 4.7394, 4.7336, 4.2219, 4.8698, 4.8645, 4.859, 4.857, 4.8472, 4.8464, 4.8369, 4.8348, 4.828, 4.8278, 4.8192, 4.7961, 4.7892, 4.789, 4.7848, 4.7837, 4.7751, 4.7735, 4.7681, 4.7401, 4.7395, 4.7338, 4.733, 4.7258, 4.7221, 4.7208, 4.6903, 4.6611, 4.6541, 4.6311, 3.8488, 2.9693, 4.9893, 4.987, 4.953, 4.9489, 4.9469, 4.9414, 4.9387, 4.9295, 4.923, 4.9136, 4.913, 4.9129, 4.9067, 4.9043, 4.9019, 4.9016, 4.8948, 4.8898, 4.8835, 4.8615, 4.861, 4.8557, 4.8514, 4.8456, 4.8201, 4.8118, 4.81, 4.7926, 4.7883, 4.7848, 4.7088, 5.3568, 5.2936, 5.2894, 5.2703, 5.2611, 5.2448, 5.2244, 5.2227, 5.2212, 5.2209, 5.2114, 5.156, 5.143, 5.1287, 5.1224, 5.1147, 5.1116, 5.1068, 5.0965, 5.0845, 5.081, 5.0318, 5.0284, 5.0204, 4.9848, 4.9623, 4.9221, 4.863, 4.8552, 4.8551, 4.5484, 5.423, 5.4161, 5.4021, 5.4016, 5.3981, 5.398, 5.3531, 5.3438, 5.3344, 5.3013, 5.2979, 5.2943, 5.2828, 5.2493, 5.2118, 5.1612, 5.1159, 5.0995, 5.0779, 5.0608, 5.0367, 5.0199, 4.9494, 4.9471, 4.9366, 4.902, 4.8985, 4.8854, 4.8796, 4.8548, 4.4748, 5.4947, 5.4841, 5.4775, 5.4609, 5.4433, 5.4237, 5.414, 5.4095, 5.3854, 5.3853, 5.3726, 5.3565, 5.3436, 5.3406, 5.3125, 5.2829, 5.2806, 5.2522, 5.248, 5.2009, 5.1646, 5.1256, 5.0744, 5.0456, 5.0446, 5.036, 5.0161, 4.9074, 4.795, 4.7561, 3.7089, 5.8899, 5.8524, 5.8215, 5.8212, 5.7716, 5.7586, 5.7416, 5.7186, 5.7077, 5.6607, 5.603, 5.5882, 5.5807, 5.564, 5.5141, 5.328, 5.2394, 5.1978, 5.0867, 4.9405, 4.6955, 4.4537, 4.4525, 3.7731, 2.7009, 2.3229, 2.2309, 2.2309, 2.2306, 2.2302, 2.2288, 2.2259]}, \"token.table\": {\"Topic\": [7, 3, 14, 14, 15, 13, 14, 8, 16, 10, 16, 3, 12, 1, 2, 16, 11, 8, 2, 1, 2, 3, 15, 3, 8, 1, 14, 8, 4, 14, 2, 7, 15, 7, 3, 6, 6, 11, 11, 16, 16, 8, 12, 1, 4, 15, 13, 1, 2, 3, 2, 11, 13, 5, 14, 4, 10, 11, 1, 1, 2, 4, 1, 2, 6, 9, 1, 5, 7, 12, 10, 4, 13, 6, 1, 2, 3, 8, 1, 16, 7, 15, 7, 7, 16, 5, 11, 5, 8, 8, 3, 16, 9, 3, 6, 15, 5, 1, 2, 16, 9, 4, 9, 2, 2, 4, 5, 2, 2, 11, 8, 1, 2, 4, 1, 3, 13, 8, 6, 16, 9, 13, 2, 10, 8, 1, 4, 1, 6, 3, 3, 1, 2, 12, 13, 10, 16, 7, 16, 8, 15, 5, 12, 9, 9, 14, 13, 1, 3, 5, 4, 4, 13, 3, 6, 7, 3, 10, 10, 6, 7, 1, 1, 2, 3, 1, 4, 2, 1, 2, 2, 3, 11, 16, 5, 13, 14, 10, 3, 6, 5, 11, 10, 12, 7, 8, 11, 4, 2, 4, 8, 15, 5, 15, 7, 14, 5, 15, 5, 4, 15, 11, 5, 14, 2, 3, 4, 5, 12, 12, 7, 9, 8, 1, 2, 3, 2, 5, 1, 3, 11, 14, 13, 8, 1, 7, 8, 13, 1, 2, 10, 10, 2, 9, 1, 8, 11, 6, 12, 1, 2, 3, 2, 3, 8, 7, 12, 3, 1, 11, 14, 14, 1, 14, 7, 1, 2, 3, 8, 1, 2, 3, 5, 3, 1, 2, 1, 1, 2, 1, 2, 3, 5, 10, 3, 5, 15, 1, 4, 14, 8, 8, 1, 2, 5, 13, 13, 6, 1, 2, 5, 1, 2, 4, 1, 2, 3, 13, 9, 1, 2, 3, 10, 1, 3, 4, 6, 13, 8, 16, 2, 3, 8, 3, 2, 13, 6, 4, 14, 3, 8, 5, 8, 7, 10, 14, 1, 6, 7, 4, 10, 6, 1, 5, 1, 2, 6, 5, 15, 1, 2, 10, 2, 4, 1, 3, 9, 15, 11, 13, 3, 12, 15, 15, 1, 2, 3, 5, 13, 10, 9, 3, 10, 15, 7, 16, 12, 10, 4, 12, 9, 8, 3, 4, 14, 3, 1, 4, 10, 15, 6, 6, 5, 1, 2, 14, 2, 15, 10, 1, 1, 2, 10, 16, 1, 2, 3, 7, 1, 2, 3, 11, 13, 9, 1, 1, 2, 3, 5, 7, 14, 8, 1, 6, 1, 2, 3, 5, 7, 1, 2, 15, 1, 2, 3, 11, 4, 11, 5, 1, 2, 3, 5, 15, 14, 14, 13, 3, 6, 1, 11, 13, 1, 2, 3, 1, 10, 6, 1, 6, 1, 4, 12, 12, 3, 5, 1, 2, 4, 1, 2, 3, 11, 1, 2, 8, 1, 11, 12, 6, 1, 3, 5, 7, 2, 3, 1, 2, 1, 3, 2, 13, 12, 11, 1, 5, 9, 5, 16, 1, 2, 14, 9, 1, 2, 3, 11, 3, 4, 12, 9, 11, 4, 1, 9, 12, 12, 1, 6, 15, 14, 3, 15, 7, 10, 3, 10, 9, 1, 2, 3, 10, 1, 3, 8, 12, 7, 6, 9, 11, 11, 6, 4, 3, 13, 9, 15, 5, 1, 12, 6, 4, 3, 12, 9, 1, 2, 3, 1, 2, 3, 4, 2, 1, 2, 6, 7, 2, 15, 5, 16, 9, 15, 1, 15, 3, 3, 6, 3, 14, 9, 9, 6, 4, 1, 8, 4, 6, 9, 15, 1, 9, 10, 11, 1, 2, 12, 2, 6, 5, 13, 8, 12, 1, 4, 8, 2, 10, 7, 1, 1, 2, 3, 6, 4, 2, 1, 2, 6, 1, 2, 9, 6, 10, 12, 13, 14, 8, 4, 4, 14, 3, 6, 15, 3, 5, 15, 1, 2, 16, 1, 2, 13, 11, 2, 12, 1, 2, 3, 9, 12, 3, 15, 1, 2, 3, 7, 8, 1, 4, 11, 4, 2, 1, 9, 1, 2, 9, 11, 9, 13, 2, 13, 6, 15, 1, 2, 7, 6, 7, 4, 6, 1, 12, 3, 2, 7, 9, 1, 2, 1, 2, 1, 11, 1, 10, 1, 4, 5, 7, 4, 13, 1, 5, 7, 9, 11, 8, 7, 1, 1, 2, 1, 14, 14, 4, 2, 16, 1, 3, 12, 14, 13, 10, 3, 7, 3, 6, 7, 3, 6, 1, 2, 2, 3, 5, 9, 1, 2, 3, 16, 5, 6, 1, 2, 3, 5, 9, 12, 3, 5, 4, 1, 2, 10, 3, 14, 1, 2, 3, 3, 9, 1, 2, 3, 1, 2, 3, 8, 8, 1, 3, 1, 2, 3, 10, 1, 2], \"Freq\": [0.971700595299163, 0.9844973692925378, 0.8273398938107772, 0.8646822020164037, 0.8438675609523956, 0.6616654694537714, 0.9441475401548748, 0.8705248551890219, 0.7042824416925821, 0.4363021081140345, 0.4363021081140345, 0.9782797857498473, 0.9020400627514285, 0.4553874687942415, 0.5444850170365931, 0.8513749656646402, 0.9735335063635018, 0.8804452396834851, 0.9934030986185828, 0.4787218832440303, 0.04728117365373139, 0.4728117365373139, 0.8955167158773186, 0.9948672033740025, 0.772624018818254, 0.9920985949650799, 0.7161722855810569, 0.9708891963859069, 0.981264423929957, 0.5450312444255481, 0.991250824962572, 0.8485765807263336, 0.8813185747804893, 0.9862104938085066, 0.7143225509518576, 0.2781432941759446, 0.9874321325150284, 0.9297580207447042, 0.7161316575141577, 0.49298352605252854, 0.6321885027872669, 0.933291185459889, 0.7751664991862132, 0.0899965837594623, 0.899965837594623, 0.6896383059440271, 0.9139904104809353, 0.4854819397159326, 0.32086450038696696, 0.19251870023218018, 0.9958537124662258, 0.9861396311970803, 0.7883302408309303, 0.9434905789729532, 0.8874986611632353, 0.9342714484470902, 0.9677260723118452, 0.9134407109376315, 0.9944908423267964, 0.9885680593243699, 0.009370313358524833, 0.9792270862553124, 0.9889096558888788, 0.009988986423119989, 0.9376549015815314, 0.9562813700199387, 0.9962969381740905, 0.9823749466102005, 0.8944458177827389, 0.977135959014482, 0.90178203319517, 0.965802741751806, 0.870851821741466, 0.9724612456205352, 0.04405403951711567, 0.1166836722345226, 0.8382174005418767, 0.97167723126018, 0.9401272332510691, 0.03241818045693342, 0.9067578070549052, 0.8869933119699552, 0.9107987864491125, 0.9809439828063257, 0.6253181825741653, 0.9804350783566611, 0.8226037222451935, 0.9181707172849795, 0.835726263906491, 0.983788813833306, 0.9795543853981802, 0.881566444075972, 0.972344567618871, 0.9801897175011375, 0.9744622485774569, 0.7736903289320655, 0.9781887484260529, 0.11865740392238454, 0.875098353927586, 0.6801676614638583, 0.7819125722899263, 0.9856428404545851, 0.8635918231827767, 0.995533918350732, 0.10478031707513814, 0.8731693089594845, 0.9865459240228258, 0.995077322463359, 0.9969333882173708, 0.8929837374645119, 0.8478000824053834, 0.049899360385033974, 0.6611665251017002, 0.28692132221394534, 0.09855294019139382, 0.8931360204845065, 0.524843977535678, 0.835586710207598, 0.9121438192386536, 0.8960178488937116, 0.9331368450037322, 0.753844788137761, 0.9898621629007335, 0.9532356561811074, 0.8834615898029611, 0.039993532285481685, 0.9198512425660788, 0.6694322783748304, 0.3124017299082542, 0.985433037071652, 0.7372329580327593, 0.8858021631243457, 0.11317374074315964, 0.7848842958636671, 0.8765743992616889, 0.9045119448065787, 0.8660635097023421, 0.8829657286826037, 0.8246955505181114, 0.7078179955714444, 0.7645562658262856, 0.987731068256159, 0.9457135404676936, 0.8953996731922466, 0.9605145901361425, 0.9490132261638284, 0.9306288688213454, 0.44678258123895714, 0.5473086620177224, 0.9742895066970616, 0.9724658100541194, 0.9659357662212817, 0.654932163225908, 0.9836346249294072, 0.11231128976597768, 0.8423346732448326, 0.9821465971916296, 0.8832242382414088, 0.864231122846683, 0.5106759470684511, 0.4889450557038362, 0.9966135193795773, 0.9080986772159607, 0.07687607849447287, 0.012011887264761385, 0.792261436084038, 0.20227951559592458, 0.9911416680929067, 0.3985517047309664, 0.5978275570964496, 0.9341223324399706, 0.058997199943577085, 0.9386510525767776, 0.7923359378441664, 0.987139187454377, 0.9235521643144597, 0.911387242256799, 0.9302498745834626, 0.42597902247558117, 0.5324737780944764, 0.9493283673444843, 0.9711161361076128, 0.9329053533325903, 0.9569173039129942, 0.7302917055618823, 0.11592519867237419, 0.8114763907066194, 0.9669080033389392, 0.9961210387773134, 0.9640670702394396, 0.8830451673615299, 0.8447428989520466, 0.9702785967405922, 0.7244187324716205, 0.9356225100479372, 0.7136794282987898, 0.9843092422313041, 0.6309389916419014, 0.9741035109424906, 0.9689711698698291, 0.8434752065329423, 0.9170253550317651, 0.21467432215444113, 0.6440229664633234, 0.5703930284033953, 0.0382814113022413, 0.38664225415263714, 0.9911006821758848, 0.8628328074535284, 0.9153950963584422, 0.7398240669018047, 0.18495601672545117, 0.7299937648436877, 0.28517336457983533, 0.033549807597627684, 0.6793836038519606, 0.9966384040245941, 0.9720485390000255, 0.1560493168635337, 0.8396939431228243, 0.895149772442427, 0.8729324486038211, 0.9315955429967302, 0.9352274375498404, 0.9976175029183382, 0.904161397123168, 0.7942269916988858, 0.8082781048194471, 0.861459841856411, 0.13644239731266136, 0.9747870447468184, 0.9050141995136514, 0.9961124493034457, 0.9344434685951272, 0.48962295139996365, 0.3497306795714026, 0.13989227182856104, 0.9409870945695537, 0.926157293144001, 0.2579694362453314, 0.013944293851098997, 0.7181311333315983, 0.45152900455410716, 0.33864675341558037, 0.1505096681847024, 0.9159569131444648, 0.7957199724107243, 0.9827961753277336, 0.998411390554695, 0.9872476663347225, 0.5820896762461628, 0.6195391766994902, 0.9921107918615671, 0.8764297009666707, 0.9750347587440102, 0.5749156749484613, 0.17452797275221146, 0.12319621606038457, 0.12319621606038457, 0.1733864055920645, 0.010836650349504031, 0.6285257202712339, 0.18422305594156854, 0.9798987999765392, 0.2711903509297975, 0.7231742691461266, 0.9945403615726545, 0.9743008614135642, 0.024357521535339106, 0.4469763313120802, 0.4184459271857772, 0.13314188592274728, 0.9280754608349723, 0.8266238880951566, 0.9737790539097279, 0.9942267930476868, 0.9563254629215989, 0.9952537425944749, 0.7040693696671443, 0.8776848222096915, 0.820552923217761, 0.9755899147290508, 0.9950054517136171, 0.9957750143206139, 0.9715898299615356, 0.9028584113078779, 0.7745716322904487, 0.9794373279034834, 0.787150195473448, 0.20893492842813743, 0.0024294759119550865, 0.9812335641569735, 0.016085796133720878, 0.0022979708762458396, 0.5427885929007992, 0.43125669024995006, 0.02602411061853147, 0.471857140167473, 0.8865963363877333, 0.8963189338495863, 0.10123131488183564, 0.9879611705196687, 0.9532770153083111, 0.9313233083816949, 0.06938225220035549, 0.970418475680771, 0.984462364122169, 0.8377841100379217, 0.9602502026686497, 0.8499768168870865, 0.38456993465969147, 0.05916460533226022, 0.532481447990342, 0.985178863651868, 0.9920893493555406, 0.8937611032256363, 0.9573796917066131, 0.9821866484728111, 0.7984067648579407, 0.4680746400680492, 0.50708086007372, 0.8988229929464984, 0.08171118117695439, 0.8581868318156443, 0.8283703611803236, 0.5371762926697694, 0.3812061561416492, 0.6099298498266388, 0.9614592020910527, 0.9394001721052927, 0.9565574515445664, 0.9413970338272156, 0.9834991393139724, 0.012898349368052097, 0.9966904250919484, 0.987236833476899, 0.9682909005212711, 0.958245179779373, 0.5201789412626956, 0.3087155938123861, 0.6895984692952002, 0.9584950869651861, 0.9961772777629055, 0.9812783802525797, 0.2751609474756179, 0.7241077565147841, 0.8758889036438716, 0.6896106191279109, 0.8756275614488281, 0.6114312869904337, 0.9961598486113655, 0.8005892805846629, 0.6354562790473182, 0.6974988777959624, 0.46601615846782257, 0.0046601615846782254, 0.4473755121291097, 0.08388290852420807, 0.8482979338865974, 0.8369814331082519, 0.8898682168279214, 0.9947290714693211, 0.8977788950448358, 0.8472012707048661, 0.8787981167379643, 0.6528969757849107, 0.8914808200854404, 0.8197690568227842, 0.9676676763889953, 0.9825765634417685, 0.9123606877171384, 0.8808349260209486, 0.5203641666314242, 0.4778854591513079, 0.9704604929780734, 0.9932050031739539, 0.9688874802164641, 0.028922014334819824, 0.9452401969006055, 0.5424001234275977, 0.9932537423972306, 0.9668955197553303, 0.9865898158974244, 0.9957910446261217, 0.0031167168845888, 0.8172354984012365, 0.992477208522632, 0.8987936125684346, 0.9065680371338574, 0.9970240887313676, 0.5501699503986365, 0.44406574567889945, 0.8835703351137066, 0.8314323393806257, 0.8952942215132864, 0.06089317315439632, 0.04361267807004061, 0.8459240534410778, 0.923846234389116, 0.06987072360926087, 0.005822560300771739, 0.9702658403120197, 0.631625529525647, 0.9566370657897891, 0.9991268428663566, 0.6069373487150101, 0.3927961470514481, 0.0012236640095060689, 0.937778493881913, 0.9525983238889263, 0.6033695521200683, 0.9436012759265459, 0.3755100681423675, 0.6102038607313471, 0.8278499282187237, 0.08530210409010498, 0.03216308842741663, 0.05453741081170646, 0.9806683840914803, 0.9265275246479832, 0.07127134804984486, 0.4565264708271607, 0.35099236749082735, 0.18821329850957408, 0.46290297741543895, 0.9243573844859396, 0.9953340962919814, 0.8167996225761841, 0.9865142316808181, 0.23295349923177783, 0.6709060777875202, 0.09318139969271114, 0.9689434922469822, 0.5209718130091207, 0.46687817689978683, 0.5354596127691172, 0.9854283092024082, 0.050355547426764825, 0.9315776273951494, 0.9962852308556955, 0.8084197068623731, 0.9148577605440974, 0.20386339711168425, 0.7680434960951825, 0.02370504617577724, 0.9823397617272205, 0.016372329362120342, 0.984848634983645, 0.9928467652819732, 0.9888736438116166, 0.9892222475184101, 0.005557428356845001, 0.9155499187252043, 0.8584550226236035, 0.9919380102133756, 0.9460386944242015, 0.973381889672868, 0.023038624607641847, 0.002879828075955231, 0.7417701787713368, 0.09643012324027378, 0.16071687206712296, 0.9209113360641028, 0.9860584472829949, 0.008149243365975164, 0.9733354009764804, 0.9972947318119694, 0.864879003281959, 0.8640148433837559, 0.982862030862806, 0.2889492033210646, 0.699070653196124, 0.009320942042614987, 0.9521423514092786, 0.06475691301573536, 0.9343497449413245, 0.9920320454202494, 0.004746564810623202, 0.02842486863178468, 0.9664455334806791, 0.9946951269114059, 0.867509318627927, 0.9123682949714261, 0.9709693586390141, 0.7101310956754708, 0.1469236749673388, 0.12243639580611566, 0.9782380280622642, 0.8409498037817948, 0.9976662069421665, 0.9875548570684396, 0.5702763959428568, 0.9822539414314978, 0.8355745830682375, 0.11089415762942659, 0.051578677967175156, 0.9429690955070211, 0.9901641566790959, 0.9874044177818024, 0.7062858115553351, 0.941662256679636, 0.9796659038238299, 0.9657958139274168, 0.9981075368760461, 0.2061113003917279, 0.7213895513710477, 0.9824443092567879, 0.9962789551030086, 0.9222321755441144, 0.6188406579314767, 0.5728265499248885, 0.9807820622591069, 0.018162630782576055, 0.05846711448910649, 0.8770067173365974, 0.9886860267864446, 0.948322568367219, 0.9629465602510674, 0.556633327403347, 0.43293703242482545, 0.007731018436157597, 0.8804547995161992, 0.10671596472650766, 0.8892997060542305, 0.9501926918733502, 0.9547122456563308, 0.9425276336808872, 0.9531415610604184, 0.8723320266414332, 0.9006306981905181, 0.8005446642696928, 0.9424517293061733, 0.9862174042269394, 0.9960798202438793, 0.5189060325064999, 0.956657519048653, 0.8981773843081282, 0.9806834305419081, 0.9935853826711193, 0.9094570212967567, 0.9352213078856717, 0.9835282813748035, 0.9808906734242719, 0.9119597310643736, 0.7830013265330962, 0.38928417038458407, 0.5644620470576469, 0.04866052129807301, 0.4281023511245714, 0.07657115223366318, 0.4942319825990987, 0.9883511236899394, 0.990763109171508, 0.0075281249876273494, 0.9861843733791827, 0.9583363929948988, 0.7788196124660454, 0.6773581629540866, 0.22578605431802884, 0.9914205304733054, 0.7640046398237008, 0.98030556049745, 0.7836474155351545, 0.992582500005407, 0.7123254164272964, 0.9932540369715809, 0.9918854281939535, 0.9905257217629643, 0.9961644723660165, 0.4805332252772966, 0.890379926394844, 0.7354963219287736, 0.9642367218621744, 0.9854760006672542, 0.9942414186047234, 0.9698519928239485, 0.8035356239881831, 0.12227716017211482, 0.05240449721662064, 0.49791030253190516, 0.8698490503726296, 0.10233518239677995, 0.8361921553482164, 0.768343113402365, 0.009092026503821788, 0.9910308889165748, 0.9335723514011413, 0.9992439309014302, 0.9652373830478201, 0.9384001232482156, 0.7600923833630127, 0.9220310945176724, 0.9446759755707376, 0.9944571250777521, 0.4659676773944188, 0.4659676773944188, 0.9956571019629745, 0.8708997514775922, 0.9357980689995815, 0.9975479770853252, 0.997972735852756, 0.2281873271991799, 0.7669629608639102, 0.9732045101283969, 0.9839545616719444, 0.9893483298275607, 0.07361470841728512, 0.9149256617576865, 0.005258193458377509, 0.4257025254308987, 0.5692533770296901, 0.9750379261248462, 0.46849777053750585, 0.5110884769500064, 0.9344460025644384, 0.5249254680323692, 0.8072072079627437, 0.9301940133732406, 0.9584218011491539, 0.9371094457070754, 0.9031329106312699, 0.991329252358184, 0.9555162838488518, 0.8590748145792431, 0.8145304218777568, 0.17664515173252557, 0.9235659617189177, 0.21155048757335207, 0.778203579287688, 0.43933008810070195, 0.11681352027660447, 0.8761014020745336, 0.8517577774425029, 0.9685760845989023, 0.9922402348466498, 0.716289136287907, 0.9927746695334133, 0.9937057380048226, 0.9893822900855798, 0.00797888943617403, 0.8674057128168658, 0.9911252605497408, 0.5275005229427172, 0.4454965750445386, 0.5449763927729306, 0.008650418932903662, 0.7807846759039385, 0.7744463443110223, 0.4903725849982448, 0.5126622479527104, 0.9294628061541965, 0.9263893717190248, 0.9917474494189145, 0.9939652061136092, 0.8784134956893311, 0.9539945273775711, 0.04345745135559435, 0.8948817883381815, 0.8302338902003907, 0.9570271846535343, 0.7680722364548704, 0.27798224121012544, 0.5559644824202509, 0.9577756853731362, 0.9661613119695496, 0.9810835135898476, 0.018112311020120262, 0.9394083340615562, 0.9641696988404307, 0.9477761428986542, 0.966670276159505, 0.9613986314924179, 0.9992818224756321, 0.7713562264587764, 0.9838394449425572, 0.9849745948467338, 0.9662421166928411, 0.7220756679474846, 0.9206360222303224, 0.07809636730175655, 0.019538597766922933, 0.9769298883461467, 0.6213918804806853, 0.3389410257167374, 0.9955077222944648, 0.895761673685261, 0.6959775184920612, 0.2982760793537405, 0.7203069272639289, 0.21185497860703792, 0.9661294633975979, 0.9333993312464747, 0.9966703011367989, 0.23369063924361316, 0.6426492579199362, 0.05842265981090329, 0.9557721667874073, 0.8321589853676231, 0.9717507162294392, 0.993017227588716, 0.988477048518869, 0.007574536770259532, 0.4755649107848017, 0.4755649107848017, 0.44688978085958875, 0.967269451912538, 0.9909204777103167, 0.45306764317581233, 0.33121553301005735, 0.6624310660201147, 0.8928431564296367, 0.859421427983546, 0.7997443511461406, 0.9459474416933783, 0.9812282090974445, 0.9785670922344601, 0.6993186126594747, 0.13682320682467985, 0.1520257853607554, 0.9203324405508264, 0.06972215458718382, 0.8980159481281251, 0.10134349257872259, 0.995180976152185, 0.004926638495802897, 0.9335006151118048, 0.9831388146964937, 0.7191432897480616, 0.18258042071323843, 0.0968794069090653, 0.7397820298043604, 0.8705044370845977, 0.05803362913897318, 0.8335901635423886, 0.09011785551809606, 0.030978012834345522, 0.042242744774107534, 0.839830196316973, 0.962499505901111, 0.9948419525130842, 0.9319439137266413, 0.9634960956714496, 0.03885256170321886, 0.9616009021546668, 0.9508106658657766, 0.9776291492250915, 0.9587744670009403, 0.6888001323959095, 0.3045221637960863, 0.0048336851396204175, 0.9878937122390498, 0.9318939588999621, 0.634809777986017, 0.001959289438228448, 0.3624685460722628, 0.899842469081536, 0.06619788737632247, 0.03365994273372329, 0.974432842289215, 0.900871540598953, 0.1657134114948087, 0.8321695229413218, 0.9039247131422457, 0.05750614477246891, 0.03773840750693272, 0.9433118739360391, 0.9730338234318365, 0.02629821144410369], \"Term\": [\"accident\", \"account\", \"acre\", \"active\", \"actress\", \"admit\", \"adopt\", \"adore\", \"adulthood\", \"adversary\", \"adversary\", \"advice\", \"aftermath\", \"age\", \"age\", \"agent\", \"agree\", \"alike\", \"alive\", \"also\", \"also\", \"also\", \"ambition\", \"american\", \"anonymous\", \"answer\", \"antique\", \"anxiety\", \"apart\", \"appendix\", \"approach\", \"architect\", \"area\", \"arrive\", \"art\", \"art\", \"artist\", \"artistic\", \"artwork\", \"aspiration\", \"assign\", \"association\", \"astonish\", \"attack\", \"attack\", \"attic\", \"attraction\", \"author\", \"author\", \"author\", \"away\", \"baby\", \"backpack\", \"bake\", \"bank\", \"bar\", \"barely\", \"bargain\", \"bear\", \"become\", \"become\", \"bedroom\", \"begin\", \"begin\", \"being\", \"bestselle\", \"big\", \"bit\", \"blind\", \"blink\", \"blow\", \"blue\", \"board\", \"boat\", \"book\", \"book\", \"book\", \"bore\", \"brand\", \"brand\", \"bright\", \"british\", \"brutal\", \"burn\", \"butler\", \"cake\", \"calm\", \"calorie\", \"capacity\", \"capture\", \"care\", \"carefully\", \"cat\", \"celebrate\", \"certainly\", \"champion\", \"chapter\", \"character\", \"character\", \"charlie\", \"charlotte\", \"charm\", \"chief\", \"child\", \"chill\", \"chill\", \"chocolate\", \"choice\", \"city\", \"claire\", \"clandestine\", \"class\", \"class\", \"class\", \"classic\", \"classic\", \"classify\", \"clergy\", \"clever\", \"client\", \"climb\", \"closed\", \"club\", \"clue\", \"cognitive\", \"cold\", \"cold\", \"collect\", \"collect\", \"collection\", \"collective\", \"come\", \"come\", \"condemn\", \"confession\", \"confident\", \"conquer\", \"consciousness\", \"consist\", \"conspiracy\", \"construct\", \"cook\", \"cookie\", \"copy\", \"courage\", \"crayon\", \"crazy\", \"create\", \"create\", \"creature\", \"criminal\", \"cross\", \"cultivate\", \"culture\", \"cure\", \"cure\", \"curse\", \"cute\", \"dangerously\", \"dark\", \"dark\", \"daughter\", \"day\", \"day\", \"day\", \"dead\", \"dead\", \"deadly\", \"death\", \"death\", \"decade\", \"decade\", \"deceit\", \"deception\", \"decision\", \"decline\", \"deed\", \"deepen\", \"defeat\", \"defeat\", \"delicious\", \"deliver\", \"demon\", \"deny\", \"descend\", \"destine\", \"destine\", \"detective\", \"different\", \"difficult\", \"difficulty\", \"dig\", \"dinner\", \"director\", \"disaster\", \"discussion\", \"dish\", \"display\", \"distant\", \"dog\", \"dominate\", \"doom\", \"dot\", \"dot\", \"dream\", \"dream\", \"dream\", \"drop\", \"dry\", \"dumb\", \"duty\", \"duty\", \"eager\", \"early\", \"early\", \"early\", \"earth\", \"eat\", \"edition\", \"edition\", \"egg\", \"electric\", \"employ\", \"empower\", \"end\", \"envision\", \"equipment\", \"erotic\", \"even\", \"even\", \"evidence\", \"ex\", \"exactly\", \"excitement\", \"exercise\", \"exercise\", \"exercise\", \"exile\", \"expectation\", \"experience\", \"experience\", \"experience\", \"expert\", \"expert\", \"expert\", \"fable\", \"factor\", \"faith\", \"family\", \"famous\", \"fanciful\", \"fantastic\", \"far\", \"farm\", \"fashion\", \"fear\", \"fear\", \"fear\", \"fear\", \"feature\", \"feature\", \"feature\", \"feature\", \"field\", \"fight\", \"fight\", \"finally\", \"find\", \"find\", \"first\", \"first\", \"first\", \"flavor\", \"flower\", \"focus\", \"food\", \"football\", \"force\", \"forensic\", \"forge\", \"fruit\", \"fully\", \"future\", \"game\", \"garden\", \"geek\", \"geeky\", \"german\", \"get\", \"get\", \"get\", \"girl\", \"girl\", \"girl\", \"give\", \"give\", \"give\", \"glitter\", \"glorious\", \"go\", \"go\", \"god\", \"gold\", \"good\", \"good\", \"grace\", \"grand\", \"granddaughter\", \"grandmother\", \"gray\", \"green\", \"green\", \"green\", \"grief\", \"guy\", \"hall\", \"hang\", \"happy\", \"hardcover\", \"health\", \"health\", \"healthy\", \"healthy\", \"heat\", \"heavy\", \"heist\", \"hero\", \"hero\", \"heroine\", \"hiding\", \"high_school\", \"hitler\", \"home\", \"home\", \"hope\", \"hot\", \"hotel\", \"household\", \"howl\", \"human\", \"human\", \"hunt\", \"husband\", \"ice\", \"idea\", \"idea\", \"illustrator\", \"immigrant\", \"impact\", \"impersonator\", \"important\", \"impress\", \"impressive\", \"improvement\", \"include\", \"include\", \"include\", \"include\", \"incredibly\", \"inhabitant\", \"ink\", \"insight\", \"instinct\", \"intimacy\", \"intuition\", \"intuitive\", \"invade\", \"invent\", \"investigate\", \"island\", \"jack\", \"jam\", \"job\", \"job\", \"journalist\", \"joy\", \"keep\", \"keep\", \"killer\", \"kindness\", \"king\", \"kingdom\", \"kitchen\", \"know\", \"know\", \"labyrinth\", \"language\", \"leadership\", \"league\", \"learn\", \"leave\", \"leave\", \"leg\", \"legal\", \"life\", \"life\", \"life\", \"link\", \"live\", \"live\", \"live\", \"living\", \"load\", \"local\", \"lose\", \"love\", \"love\", \"love\", \"low\", \"lucky\", \"lure\", \"mad\", \"magic\", \"magic\", \"make\", \"make\", \"make\", \"make\", \"male\", \"man\", \"man\", \"manga\", \"many\", \"many\", \"many\", \"marcus\", \"marriage\", \"mature\", \"meal\", \"mean\", \"mean\", \"mean\", \"meditation\", \"mentor\", \"meticulous\", \"mid\", \"moment\", \"monster\", \"monster\", \"mother\", \"motivate\", \"mountain\", \"much\", \"much\", \"much\", \"murder\", \"murder\", \"museum\", \"music\", \"myth\", \"name\", \"name\", \"nasty\", \"native\", \"nature\", \"neighborhood\", \"never\", \"never\", \"never\", \"new\", \"new\", \"new\", \"nick\", \"night\", \"night\", \"nightmare\", \"novel\", \"nurture\", \"occupy\", \"odd\", \"offer\", \"offer\", \"offer\", \"office\", \"often\", \"often\", \"old\", \"old\", \"original\", \"original\", \"other\", \"otherwise\", \"outsider\", \"owner\", \"pack\", \"pack\", \"pack\", \"park\", \"participate\", \"past\", \"path\", \"pencil\", \"penny\", \"people\", \"people\", \"people\", \"phenomenon\", \"philosophy\", \"phone\", \"photography\", \"physics\", \"pick\", \"piece\", \"place\", \"plane\", \"plane\", \"planet\", \"play\", \"playful\", \"plight\", \"plumbing\", \"poem\", \"poem\", \"police\", \"police\", \"political\", \"pool\", \"positive\", \"power\", \"power\", \"power\", \"precious\", \"present\", \"present\", \"preserve\", \"presidential\", \"press\", \"prince\", \"prominent\", \"properly\", \"property\", \"prospect\", \"protect\", \"provide\", \"punch\", \"punk\", \"quarterback\", \"queen\", \"question\", \"quiet\", \"quite\", \"raise\", \"range\", \"rat\", \"raw\", \"read\", \"read\", \"read\", \"reader\", \"reader\", \"reader\", \"ready\", \"reality\", \"really\", \"really\", \"realm\", \"recall\", \"receiver\", \"receiver\", \"recipe\", \"recipient\", \"record\", \"refugee\", \"relationship\", \"relatively\", \"religion\", \"religious\", \"remain\", \"remember\", \"representation\", \"reputation\", \"resident\", \"respect\", \"retire\", \"reveal\", \"revise\", \"risk\", \"risk\", \"risk\", \"robotic\", \"rock\", \"rock\", \"rogue\", \"roman\", \"rule\", \"rule\", \"rush\", \"s\", \"safety\", \"salad\", \"sanction\", \"savage\", \"savory\", \"say\", \"scale\", \"scale\", \"science\", \"seal\", \"sear\", \"secret\", \"seem\", \"self\", \"self\", \"sell\", \"send\", \"sense\", \"series\", \"series\", \"series\", \"set\", \"set\", \"sex\", \"shadow\", \"shadow\", \"shake\", \"shark\", \"sheet\", \"shine\", \"shocking\", \"shop\", \"shy\", \"side\", \"sight\", \"signal\", \"simple\", \"simple\", \"singular\", \"sister\", \"sister\", \"social_media\", \"society\", \"society\", \"soil\", \"soldier\", \"space\", \"spanish\", \"spend\", \"spiritual\", \"stand\", \"stand\", \"stare\", \"state\", \"statistic\", \"story\", \"story\", \"story\", \"stream\", \"stuck\", \"student\", \"student\", \"stuff\", \"supply\", \"sure\", \"survive\", \"swim\", \"take\", \"take\", \"tall\", \"tangle\", \"teacher\", \"teammate\", \"technical\", \"technical\", \"teenager\", \"television\", \"tell\", \"tell\", \"tension\", \"terrify\", \"terrifying\", \"terror\", \"th\", \"think\", \"thirst\", \"thousand\", \"threaten\", \"thrust\", \"thus\", \"time\", \"time\", \"times_bestselling\", \"times_bestselling\", \"tiny\", \"tiny\", \"together\", \"totally\", \"town\", \"town\", \"track\", \"track\", \"train\", \"training\", \"travel\", \"tree\", \"tree\", \"tree\", \"tribute\", \"trick\", \"trip\", \"try\", \"turn\", \"turn\", \"twentieth_century\", \"twentieth_century\", \"twice\", \"twin\", \"ultimate\", \"uncharted\", \"understand\", \"understand\", \"unlikely\", \"update\", \"valuable\", \"verge\", \"view\", \"violence\", \"visit\", \"visit\", \"visit\", \"volume\", \"volume\", \"want\", \"want\", \"war\", \"war\", \"warm\", \"warn\", \"way\", \"way\", \"way\", \"website\", \"welcome\", \"welcome\", \"well\", \"well\", \"well\", \"well\", \"whimsical\", \"wicked\", \"wife\", \"wilderness\", \"willing\", \"win\", \"win\", \"wind\", \"wisdom\", \"wish\", \"woman\", \"woman\", \"woman\", \"wonder\", \"wood\", \"work\", \"work\", \"work\", \"world\", \"world\", \"world\", \"worry\", \"worthy\", \"write\", \"write\", \"year\", \"year\", \"year\", \"years_later\", \"young\", \"young\"]}, \"R\": 30, \"lambda.step\": 0.01, \"plot.opts\": {\"xlab\": \"PC1\", \"ylab\": \"PC2\"}, \"topic.order\": [8, 12, 11, 16, 10, 5, 9, 14, 4, 1, 3, 6, 13, 15, 2, 7]};\n",
              "\n",
              "function LDAvis_load_lib(url, callback){\n",
              "  var s = document.createElement('script');\n",
              "  s.src = url;\n",
              "  s.async = true;\n",
              "  s.onreadystatechange = s.onload = callback;\n",
              "  s.onerror = function(){console.warn(\"failed to load library \" + url);};\n",
              "  document.getElementsByTagName(\"head\")[0].appendChild(s);\n",
              "}\n",
              "\n",
              "if(typeof(LDAvis) !== \"undefined\"){\n",
              "   // already loaded: just create the visualization\n",
              "   !function(LDAvis){\n",
              "       new LDAvis(\"#\" + \"ldavis_el96181327167410709602350986727\", ldavis_el96181327167410709602350986727_data);\n",
              "   }(LDAvis);\n",
              "}else if(typeof define === \"function\" && define.amd){\n",
              "   // require.js is available: use it to load d3/LDAvis\n",
              "   require.config({paths: {d3: \"https://d3js.org/d3.v5\"}});\n",
              "   require([\"d3\"], function(d3){\n",
              "      window.d3 = d3;\n",
              "      LDAvis_load_lib(\"https://cdn.jsdelivr.net/gh/bmabey/pyLDAvis@3.4.1/pyLDAvis/js/ldavis.v3.0.0.js\", function(){\n",
              "        new LDAvis(\"#\" + \"ldavis_el96181327167410709602350986727\", ldavis_el96181327167410709602350986727_data);\n",
              "      });\n",
              "    });\n",
              "}else{\n",
              "    // require.js not available: dynamically load d3 & LDAvis\n",
              "    LDAvis_load_lib(\"https://d3js.org/d3.v5.js\", function(){\n",
              "         LDAvis_load_lib(\"https://cdn.jsdelivr.net/gh/bmabey/pyLDAvis@3.4.1/pyLDAvis/js/ldavis.v3.0.0.js\", function(){\n",
              "                 new LDAvis(\"#\" + \"ldavis_el96181327167410709602350986727\", ldavis_el96181327167410709602350986727_data);\n",
              "            })\n",
              "         });\n",
              "}\n",
              "</script>"
            ]
          },
          "metadata": {},
          "execution_count": 18
        }
      ]
    },
    {
      "cell_type": "markdown",
      "metadata": {
        "id": "dEUjBE6C70nf"
      },
      "source": [
        "## Question 2 (10 Points)\n",
        "\n",
        "**Generate K topics by using LSA, the number of topics K should be decided by the coherence score, then summarize what are the topics.**\n",
        "\n",
        "You may refer the code here: https://www.datacamp.com/community/tutorials/discovering-hidden-topics-python"
      ]
    },
    {
      "cell_type": "code",
      "source": [
        "import pandas as pd\n",
        "from gensim import corpora\n",
        "from gensim.models import LsiModel\n",
        "from nltk.tokenize import RegexpTokenizer\n",
        "from nltk.corpus import stopwords\n",
        "from nltk.stem.porter import PorterStemmer\n",
        "from gensim.models.coherencemodel import CoherenceModel\n",
        "import matplotlib.pyplot as plt\n",
        "\n",
        "\n",
        "# Preprocess the descriptions\n",
        "def preprocess_data(doc_set):\n",
        "    tokenizer = RegexpTokenizer(r'\\w+')\n",
        "    en_stop = set(stopwords.words('english'))\n",
        "    p_stemmer = PorterStemmer()\n",
        "    texts = []\n",
        "\n",
        "    for i in doc_set:\n",
        "        if pd.isna(i):\n",
        "            continue  # Skip NaN values\n",
        "        raw = str(i).lower()\n",
        "        tokens = tokenizer.tokenize(raw)\n",
        "        stopped_tokens = [token for token in tokens if token not in en_stop]\n",
        "        stemmed_tokens = [p_stemmer.stem(token) for token in stopped_tokens]\n",
        "        texts.append(stemmed_tokens)\n",
        "\n",
        "    return texts\n",
        "\n",
        "# Prepare corpus\n",
        "def prepare_corpus(doc_clean):\n",
        "    dictionary = corpora.Dictionary(doc_clean)\n",
        "    doc_term_matrix = [dictionary.doc2bow(doc) for doc in doc_clean]\n",
        "    return dictionary, doc_term_matrix\n",
        "\n",
        "# Compute coherence values\n",
        "def compute_coherence_values(dictionary, doc_term_matrix, doc_clean, start, stop, step):\n",
        "    coherence_values = []\n",
        "    model_list = []\n",
        "\n",
        "    for num_topics in range(start, stop, step):\n",
        "        model = LsiModel(doc_term_matrix, num_topics=num_topics, id2word=dictionary)\n",
        "        model_list.append(model)\n",
        "        coherencemodel = CoherenceModel(model=model, texts=doc_clean, dictionary=dictionary, coherence='c_v')\n",
        "        coherence_values.append(coherencemodel.get_coherence())\n",
        "\n",
        "    return model_list, coherence_values\n",
        "\n",
        "# Plot coherence graph and find optimal number of topics\n",
        "def plot_graph_and_select_k(doc_clean, start, stop, step):\n",
        "    dictionary, doc_term_matrix = prepare_corpus(doc_clean)\n",
        "    model_list, coherence_values = compute_coherence_values(dictionary, doc_term_matrix, doc_clean, start, stop, step)\n",
        "\n",
        "    x = range(start, stop, step)\n",
        "    plt.plot(x, coherence_values)\n",
        "    plt.xlabel(\"Number of Topics\")\n",
        "    plt.ylabel(\"Coherence score\")\n",
        "    plt.legend((\"coherence_values\"), loc='best')\n",
        "    plt.show()\n",
        "\n",
        "    # Find the optimal number of topics\n",
        "    optimal_k = x[coherence_values.index(max(coherence_values))]\n",
        "    print(f\"Optimal number of topics: {optimal_k}\")\n",
        "    return optimal_k, dictionary, doc_term_matrix\n",
        "\n",
        "# Main LSA code\n",
        "def create_lsa_model(df, number_of_topics, words=10):\n",
        "    clean_text = preprocess_data(df['Description'])\n",
        "    dictionary, doc_term_matrix = prepare_corpus(clean_text)\n",
        "    lsa_model = LsiModel(doc_term_matrix, num_topics=number_of_topics, id2word=dictionary)\n",
        "    topics = lsa_model.print_topics(num_topics=number_of_topics, num_words=words)\n",
        "    print(\"\\nTopics found in the optimal model:\")\n",
        "    for topic in topics:\n",
        "        print(topic)\n",
        "    return lsa_model\n",
        "\n",
        "# Load and preprocess data\n",
        "doc_clean = preprocess_data(df['Description'])\n",
        "\n",
        "# Define range for topics and find optimal K\n",
        "start, stop, step = 2, 12, 1\n",
        "optimal_k, dictionary, doc_term_matrix = plot_graph_and_select_k(doc_clean, start, stop, step)\n",
        "\n",
        "# Create the LSA model using the optimal K\n",
        "lsa_model = LsiModel(doc_term_matrix, num_topics=optimal_k, id2word=dictionary)\n",
        "topics = lsa_model.print_topics(num_topics=optimal_k, num_words=10)\n",
        "print(\"\\nSummarized topics based on optimal K:\")\n",
        "for topic in topics:\n",
        "    print(topic)\n"
      ],
      "metadata": {
        "id": "Fk1ejyqwJw7s",
        "colab": {
          "base_uri": "https://localhost:8080/",
          "height": 560
        },
        "outputId": "9986724f-18c6-48f1-e20c-7b82bde6e86b"
      },
      "execution_count": null,
      "outputs": [
        {
          "output_type": "display_data",
          "data": {
            "text/plain": [
              "<Figure size 640x480 with 1 Axes>"
            ],
            "image/png": "[encoded data removed]"
          },
          "metadata": {}
        },
        {
          "output_type": "stream",
          "name": "stdout",
          "text": [
            "Optimal number of topics: 2\n",
            "\n",
            "Summarized topics based on optimal K:\n",
            "(0, '0.278*\"new\" + 0.256*\"one\" + 0.215*\"life\" + 0.206*\"time\" + 0.198*\"book\" + 0.179*\"world\" + 0.171*\"year\" + 0.169*\"love\" + 0.138*\"stori\" + 0.130*\"live\"')\n",
            "(1, '0.409*\"startup\" + 0.308*\"fundrais\" + 0.269*\"book\" + 0.259*\"art\" + 0.240*\"entrepreneur\" + -0.179*\"one\" + 0.156*\"rais\" + 0.155*\"new\" + -0.151*\"love\" + 0.138*\"capit\"')\n"
          ]
        }
      ]
    },
    {
      "cell_type": "markdown",
      "metadata": {
        "id": "7oSK4soH70nf"
      },
      "source": [
        "## Question 3 (10 points):\n",
        "**Generate K topics by using lda2vec, the number of topics K should be decided by the coherence score, then summarize what are the topics.**\n",
        "\n",
        "You may refer the code here: https://nbviewer.org/github/cemoody/lda2vec/blob/master/examples/twenty_newsgroups/lda2vec/lda2vec.ipynb"
      ]
    },
    {
      "cell_type": "code",
      "execution_count": null,
      "metadata": {
        "id": "2CRuXfV570ng",
        "colab": {
          "base_uri": "https://localhost:8080/"
        },
        "outputId": "856faf0f-cae1-4c03-decf-f551928dd4e5"
      },
      "outputs": [
        {
          "output_type": "stream",
          "name": "stdout",
          "text": [
            "Collecting lda2vec\n",
            "  Using cached lda2vec-0.16.10-py3-none-any.whl\n",
            "Installing collected packages: lda2vec\n",
            "Successfully installed lda2vec-0.16.10\n"
          ]
        }
      ],
      "source": [
        "!pip install lda2vec"
      ]
    },
    {
      "cell_type": "code",
      "source": [
        "#!pip install keras tensorflow\n",
        "#!pip install keras==2.13.0\n"
      ],
      "metadata": {
        "colab": {
          "base_uri": "https://localhost:8080/"
        },
        "id": "JlCgs6jM22rF",
        "outputId": "907e0e8f-d3b4-46a1-a6b1-754f7fbc1938"
      },
      "execution_count": null,
      "outputs": [
        {
          "output_type": "stream",
          "name": "stdout",
          "text": [
            "\u001b[31mERROR: Could not find a version that satisfies the requirement keras==2.13.0 (from versions: 0.2.0, 0.3.0, 0.3.1, 0.3.2, 0.3.3, 1.0.0, 1.0.1, 1.0.2, 1.0.3, 1.0.4, 1.0.5, 1.0.6, 1.0.7, 1.0.8, 1.1.0, 1.1.1, 1.1.2, 1.2.0, 1.2.1, 1.2.2, 2.0.0, 2.0.1, 2.0.2, 2.0.3, 2.0.4, 2.0.5, 2.0.6, 2.0.7, 2.0.8, 2.0.9, 2.1.0, 2.1.1, 2.1.2, 2.1.3, 2.1.4, 2.1.5, 2.1.6, 2.2.0, 2.2.1, 2.2.2, 2.2.3, 2.2.4, 2.2.5, 2.3.0, 2.3.1, 2.4.0, 2.4.1, 2.4.2, 2.4.3, 2.5.0rc0, 2.6.0rc0, 2.6.0rc1, 2.6.0rc2, 2.6.0rc3, 2.6.0, 2.7.0rc0, 2.7.0rc2, 2.7.0, 2.8.0rc0, 2.8.0rc1, 2.8.0, 2.9.0rc0, 2.9.0rc1, 2.9.0rc2, 2.9.0, 2.10.0rc0, 2.10.0rc1, 2.10.0, 2.11.0rc0, 2.11.0rc1, 2.11.0rc2, 2.11.0rc3, 2.11.0, 2.12.0rc0, 2.12.0rc1, 2.12.0, 2.13.1rc0, 2.13.1rc1, 2.13.1, 2.14.0rc0, 2.14.0, 2.15.0rc0, 2.15.0rc1, 2.15.0, 3.0.0, 3.0.1, 3.0.2, 3.0.3, 3.0.4, 3.0.5, 3.1.0, 3.1.1, 3.2.0, 3.2.1, 3.3.0, 3.3.1, 3.3.2, 3.3.3, 3.4.0, 3.4.1, 3.5.0, 3.6.0)\u001b[0m\u001b[31m\n",
            "\u001b[0m\u001b[31mERROR: No matching distribution found for keras==2.13.0\u001b[0m\u001b[31m\n",
            "\u001b[0m"
          ]
        }
      ]
    },
    {
      "cell_type": "code",
      "source": [
        "import keras\n",
        "import tensorflow as tf\n",
        "print(\"Keras version:\", keras.__version__)\n",
        "print(\"TensorFlow version:\", tf.__version__)\n"
      ],
      "metadata": {
        "colab": {
          "base_uri": "https://localhost:8080/"
        },
        "id": "FSDhJMfO2Vsu",
        "outputId": "57ed6acf-e400-4434-a6a9-3d3c72a25dac"
      },
      "execution_count": null,
      "outputs": [
        {
          "output_type": "stream",
          "name": "stdout",
          "text": [
            "Keras version: 2.10.0\n",
            "TensorFlow version: 2.10.0\n"
          ]
        }
      ]
    },
    {
      "cell_type": "code",
      "source": [
        "#!pip uninstall keras tensorflow lda2vec -y\n",
        "!pip install tensorflow==2.10.0 keras==2.10.0\n",
        "#!pip install git+https://github.com/bmabey/lda2vec.git\n"
      ],
      "metadata": {
        "colab": {
          "base_uri": "https://localhost:8080/",
          "height": 1000
        },
        "id": "LaUT9OYh2eMj",
        "outputId": "aa0f0062-af6e-48e8-fb39-5e861b77024d"
      },
      "execution_count": null,
      "outputs": [
        {
          "output_type": "stream",
          "name": "stdout",
          "text": [
            "Collecting tensorflow==2.10.0\n",
            "  Using cached tensorflow-2.10.0-cp310-cp310-manylinux_2_17_x86_64.manylinux2014_x86_64.whl.metadata (3.1 kB)\n",
            "Collecting keras==2.10.0\n",
            "  Downloading keras-2.10.0-py2.py3-none-any.whl.metadata (1.3 kB)\n",
            "Requirement already satisfied: absl-py>=1.0.0 in /usr/local/lib/python3.10/dist-packages (from tensorflow==2.10.0) (1.4.0)\n",
            "Requirement already satisfied: astunparse>=1.6.0 in /usr/local/lib/python3.10/dist-packages (from tensorflow==2.10.0) (1.6.3)\n",
            "Requirement already satisfied: flatbuffers>=2.0 in /usr/local/lib/python3.10/dist-packages (from tensorflow==2.10.0) (24.3.25)\n",
            "Collecting gast<=0.4.0,>=0.2.1 (from tensorflow==2.10.0)\n",
            "  Using cached gast-0.4.0-py3-none-any.whl.metadata (1.1 kB)\n",
            "Requirement already satisfied: google-pasta>=0.1.1 in /usr/local/lib/python3.10/dist-packages (from tensorflow==2.10.0) (0.2.0)\n",
            "Requirement already satisfied: grpcio<2.0,>=1.24.3 in /usr/local/lib/python3.10/dist-packages (from tensorflow==2.10.0) (1.64.1)\n",
            "Requirement already satisfied: h5py>=2.9.0 in /usr/local/lib/python3.10/dist-packages (from tensorflow==2.10.0) (3.12.1)\n",
            "Collecting keras-preprocessing>=1.1.1 (from tensorflow==2.10.0)\n",
            "  Downloading Keras_Preprocessing-1.1.2-py2.py3-none-any.whl.metadata (1.9 kB)\n",
            "Requirement already satisfied: libclang>=13.0.0 in /usr/local/lib/python3.10/dist-packages (from tensorflow==2.10.0) (18.1.1)\n",
            "Requirement already satisfied: numpy>=1.20 in /usr/local/lib/python3.10/dist-packages (from tensorflow==2.10.0) (1.26.4)\n",
            "Requirement already satisfied: opt-einsum>=2.3.2 in /usr/local/lib/python3.10/dist-packages (from tensorflow==2.10.0) (3.4.0)\n",
            "Requirement already satisfied: packaging in /usr/local/lib/python3.10/dist-packages (from tensorflow==2.10.0) (24.1)\n",
            "Collecting protobuf<3.20,>=3.9.2 (from tensorflow==2.10.0)\n",
            "  Downloading protobuf-3.19.6-cp310-cp310-manylinux_2_17_x86_64.manylinux2014_x86_64.whl.metadata (787 bytes)\n",
            "Requirement already satisfied: setuptools in /usr/local/lib/python3.10/dist-packages (from tensorflow==2.10.0) (75.1.0)\n",
            "Requirement already satisfied: six>=1.12.0 in /usr/local/lib/python3.10/dist-packages (from tensorflow==2.10.0) (1.16.0)\n",
            "Collecting tensorboard<2.11,>=2.10 (from tensorflow==2.10.0)\n",
            "  Downloading tensorboard-2.10.1-py3-none-any.whl.metadata (1.9 kB)\n",
            "Requirement already satisfied: tensorflow-io-gcs-filesystem>=0.23.1 in /usr/local/lib/python3.10/dist-packages (from tensorflow==2.10.0) (0.37.1)\n",
            "Collecting tensorflow-estimator<2.11,>=2.10.0 (from tensorflow==2.10.0)\n",
            "  Downloading tensorflow_estimator-2.10.0-py2.py3-none-any.whl.metadata (1.3 kB)\n",
            "Requirement already satisfied: termcolor>=1.1.0 in /usr/local/lib/python3.10/dist-packages (from tensorflow==2.10.0) (2.5.0)\n",
            "Requirement already satisfied: typing-extensions>=3.6.6 in /usr/local/lib/python3.10/dist-packages (from tensorflow==2.10.0) (4.12.2)\n",
            "Requirement already satisfied: wrapt>=1.11.0 in /usr/local/lib/python3.10/dist-packages (from tensorflow==2.10.0) (1.16.0)\n",
            "Requirement already satisfied: wheel<1.0,>=0.23.0 in /usr/local/lib/python3.10/dist-packages (from astunparse>=1.6.0->tensorflow==2.10.0) (0.44.0)\n",
            "Requirement already satisfied: google-auth<3,>=1.6.3 in /usr/local/lib/python3.10/dist-packages (from tensorboard<2.11,>=2.10->tensorflow==2.10.0) (2.27.0)\n",
            "Collecting google-auth-oauthlib<0.5,>=0.4.1 (from tensorboard<2.11,>=2.10->tensorflow==2.10.0)\n",
            "  Downloading google_auth_oauthlib-0.4.6-py2.py3-none-any.whl.metadata (2.7 kB)\n",
            "Requirement already satisfied: markdown>=2.6.8 in /usr/local/lib/python3.10/dist-packages (from tensorboard<2.11,>=2.10->tensorflow==2.10.0) (3.7)\n",
            "Requirement already satisfied: requests<3,>=2.21.0 in /usr/local/lib/python3.10/dist-packages (from tensorboard<2.11,>=2.10->tensorflow==2.10.0) (2.32.3)\n",
            "Collecting tensorboard-data-server<0.7.0,>=0.6.0 (from tensorboard<2.11,>=2.10->tensorflow==2.10.0)\n",
            "  Downloading tensorboard_data_server-0.6.1-py3-none-manylinux2010_x86_64.whl.metadata (1.1 kB)\n",
            "Collecting tensorboard-plugin-wit>=1.6.0 (from tensorboard<2.11,>=2.10->tensorflow==2.10.0)\n",
            "  Downloading tensorboard_plugin_wit-1.8.1-py3-none-any.whl.metadata (873 bytes)\n",
            "Requirement already satisfied: werkzeug>=1.0.1 in /usr/local/lib/python3.10/dist-packages (from tensorboard<2.11,>=2.10->tensorflow==2.10.0) (3.0.6)\n",
            "Requirement already satisfied: cachetools<6.0,>=2.0.0 in /usr/local/lib/python3.10/dist-packages (from google-auth<3,>=1.6.3->tensorboard<2.11,>=2.10->tensorflow==2.10.0) (5.5.0)\n",
            "Requirement already satisfied: pyasn1-modules>=0.2.1 in /usr/local/lib/python3.10/dist-packages (from google-auth<3,>=1.6.3->tensorboard<2.11,>=2.10->tensorflow==2.10.0) (0.4.1)\n",
            "Requirement already satisfied: rsa<5,>=3.1.4 in /usr/local/lib/python3.10/dist-packages (from google-auth<3,>=1.6.3->tensorboard<2.11,>=2.10->tensorflow==2.10.0) (4.9)\n",
            "Requirement already satisfied: requests-oauthlib>=0.7.0 in /usr/local/lib/python3.10/dist-packages (from google-auth-oauthlib<0.5,>=0.4.1->tensorboard<2.11,>=2.10->tensorflow==2.10.0) (1.3.1)\n",
            "Requirement already satisfied: charset-normalizer<4,>=2 in /usr/local/lib/python3.10/dist-packages (from requests<3,>=2.21.0->tensorboard<2.11,>=2.10->tensorflow==2.10.0) (3.4.0)\n",
            "Requirement already satisfied: idna<4,>=2.5 in /usr/local/lib/python3.10/dist-packages (from requests<3,>=2.21.0->tensorboard<2.11,>=2.10->tensorflow==2.10.0) (3.10)\n",
            "Requirement already satisfied: urllib3<3,>=1.21.1 in /usr/local/lib/python3.10/dist-packages (from requests<3,>=2.21.0->tensorboard<2.11,>=2.10->tensorflow==2.10.0) (2.2.3)\n",
            "Requirement already satisfied: certifi>=2017.4.17 in /usr/local/lib/python3.10/dist-packages (from requests<3,>=2.21.0->tensorboard<2.11,>=2.10->tensorflow==2.10.0) (2024.8.30)\n",
            "Requirement already satisfied: MarkupSafe>=2.1.1 in /usr/local/lib/python3.10/dist-packages (from werkzeug>=1.0.1->tensorboard<2.11,>=2.10->tensorflow==2.10.0) (3.0.2)\n",
            "Requirement already satisfied: pyasn1<0.7.0,>=0.4.6 in /usr/local/lib/python3.10/dist-packages (from pyasn1-modules>=0.2.1->google-auth<3,>=1.6.3->tensorboard<2.11,>=2.10->tensorflow==2.10.0) (0.6.1)\n",
            "Requirement already satisfied: oauthlib>=3.0.0 in /usr/local/lib/python3.10/dist-packages (from requests-oauthlib>=0.7.0->google-auth-oauthlib<0.5,>=0.4.1->tensorboard<2.11,>=2.10->tensorflow==2.10.0) (3.2.2)\n",
            "Downloading tensorflow-2.10.0-cp310-cp310-manylinux_2_17_x86_64.manylinux2014_x86_64.whl (578.0 MB)\n",
            "\u001b[2K   \u001b[90m━━━━━━━━━━━━━━━━━━━━━━━━━━━━━━━━━━━━━━━━\u001b[0m \u001b[32m578.0/578.0 MB\u001b[0m \u001b[31m2.9 MB/s\u001b[0m eta \u001b[36m0:00:00\u001b[0m\n",
            "\u001b[?25hDownloading keras-2.10.0-py2.py3-none-any.whl (1.7 MB)\n",
            "\u001b[2K   \u001b[90m━━━━━━━━━━━━━━━━━━━━━━━━━━━━━━━━━━━━━━━━\u001b[0m \u001b[32m1.7/1.7 MB\u001b[0m \u001b[31m52.8 MB/s\u001b[0m eta \u001b[36m0:00:00\u001b[0m\n",
            "\u001b[?25hDownloading gast-0.4.0-py3-none-any.whl (9.8 kB)\n",
            "Downloading Keras_Preprocessing-1.1.2-py2.py3-none-any.whl (42 kB)\n",
            "\u001b[2K   \u001b[90m━━━━━━━━━━━━━━━━━━━━━━━━━━━━━━━━━━━━━━━━\u001b[0m \u001b[32m42.6/42.6 kB\u001b[0m \u001b[31m2.4 MB/s\u001b[0m eta \u001b[36m0:00:00\u001b[0m\n",
            "\u001b[?25hDownloading protobuf-3.19.6-cp310-cp310-manylinux_2_17_x86_64.manylinux2014_x86_64.whl (1.1 MB)\n",
            "\u001b[2K   \u001b[90m━━━━━━━━━━━━━━━━━━━━━━━━━━━━━━━━━━━━━━━━\u001b[0m \u001b[32m1.1/1.1 MB\u001b[0m \u001b[31m40.8 MB/s\u001b[0m eta \u001b[36m0:00:00\u001b[0m\n",
            "\u001b[?25hDownloading tensorboard-2.10.1-py3-none-any.whl (5.9 MB)\n",
            "\u001b[2K   \u001b[90m━━━━━━━━━━━━━━━━━━━━━━━━━━━━━━━━━━━━━━━━\u001b[0m \u001b[32m5.9/5.9 MB\u001b[0m \u001b[31m79.3 MB/s\u001b[0m eta \u001b[36m0:00:00\u001b[0m\n",
            "\u001b[?25hDownloading tensorflow_estimator-2.10.0-py2.py3-none-any.whl (438 kB)\n",
            "\u001b[2K   \u001b[90m━━━━━━━━━━━━━━━━━━━━━━━━━━━━━━━━━━━━━━━━\u001b[0m \u001b[32m438.7/438.7 kB\u001b[0m \u001b[31m20.2 MB/s\u001b[0m eta \u001b[36m0:00:00\u001b[0m\n",
            "\u001b[?25hDownloading google_auth_oauthlib-0.4.6-py2.py3-none-any.whl (18 kB)\n",
            "Downloading tensorboard_data_server-0.6.1-py3-none-manylinux2010_x86_64.whl (4.9 MB)\n",
            "\u001b[2K   \u001b[90m━━━━━━━━━━━━━━━━━━━━━━━━━━━━━━━━━━━━━━━━\u001b[0m \u001b[32m4.9/4.9 MB\u001b[0m \u001b[31m66.3 MB/s\u001b[0m eta \u001b[36m0:00:00\u001b[0m\n",
            "\u001b[?25hDownloading tensorboard_plugin_wit-1.8.1-py3-none-any.whl (781 kB)\n",
            "\u001b[2K   \u001b[90m━━━━━━━━━━━━━━━━━━━━━━━━━━━━━━━━━━━━━━━━\u001b[0m \u001b[32m781.3/781.3 kB\u001b[0m \u001b[31m29.8 MB/s\u001b[0m eta \u001b[36m0:00:00\u001b[0m\n",
            "\u001b[?25hInstalling collected packages: tensorboard-plugin-wit, keras, tensorflow-estimator, tensorboard-data-server, protobuf, keras-preprocessing, gast, google-auth-oauthlib, tensorboard, tensorflow\n",
            "  Attempting uninstall: tensorboard-data-server\n",
            "    Found existing installation: tensorboard-data-server 0.7.2\n",
            "    Uninstalling tensorboard-data-server-0.7.2:\n",
            "      Successfully uninstalled tensorboard-data-server-0.7.2\n",
            "  Attempting uninstall: protobuf\n",
            "    Found existing installation: protobuf 3.20.3\n",
            "    Uninstalling protobuf-3.20.3:\n",
            "      Successfully uninstalled protobuf-3.20.3\n",
            "  Attempting uninstall: gast\n",
            "    Found existing installation: gast 0.6.0\n",
            "    Uninstalling gast-0.6.0:\n",
            "      Successfully uninstalled gast-0.6.0\n",
            "  Attempting uninstall: google-auth-oauthlib\n",
            "    Found existing installation: google-auth-oauthlib 1.2.1\n",
            "    Uninstalling google-auth-oauthlib-1.2.1:\n",
            "      Successfully uninstalled google-auth-oauthlib-1.2.1\n",
            "  Attempting uninstall: tensorboard\n",
            "    Found existing installation: tensorboard 2.17.0\n",
            "    Uninstalling tensorboard-2.17.0:\n",
            "      Successfully uninstalled tensorboard-2.17.0\n",
            "\u001b[31mERROR: pip's dependency resolver does not currently take into account all the packages that are installed. This behaviour is the source of the following dependency conflicts.\n",
            "google-ai-generativelanguage 0.6.10 requires protobuf!=4.21.0,!=4.21.1,!=4.21.2,!=4.21.3,!=4.21.4,!=4.21.5,<6.0.0dev,>=3.20.2, but you have protobuf 3.19.6 which is incompatible.\n",
            "google-cloud-aiplatform 1.70.0 requires protobuf!=4.21.0,!=4.21.1,!=4.21.2,!=4.21.3,!=4.21.4,!=4.21.5,<6.0.0dev,>=3.20.2, but you have protobuf 3.19.6 which is incompatible.\n",
            "google-cloud-bigquery-connection 1.15.5 requires protobuf!=4.21.0,!=4.21.1,!=4.21.2,!=4.21.3,!=4.21.4,!=4.21.5,<6.0.0dev,>=3.20.2, but you have protobuf 3.19.6 which is incompatible.\n",
            "google-cloud-bigquery-storage 2.27.0 requires protobuf!=3.20.0,!=3.20.1,!=4.21.0,!=4.21.1,!=4.21.2,!=4.21.3,!=4.21.4,!=4.21.5,<6.0.0dev,>=3.20.2, but you have protobuf 3.19.6 which is incompatible.\n",
            "google-cloud-bigtable 2.26.0 requires protobuf!=4.21.0,!=4.21.1,!=4.21.2,!=4.21.3,!=4.21.4,!=4.21.5,<6.0.0dev,>=3.20.2, but you have protobuf 3.19.6 which is incompatible.\n",
            "google-cloud-functions 1.16.5 requires protobuf!=4.21.0,!=4.21.1,!=4.21.2,!=4.21.3,!=4.21.4,!=4.21.5,<6.0.0dev,>=3.20.2, but you have protobuf 3.19.6 which is incompatible.\n",
            "google-cloud-iam 2.16.0 requires protobuf!=4.21.0,!=4.21.1,!=4.21.2,!=4.21.3,!=4.21.4,!=4.21.5,<6.0.0dev,>=3.20.2, but you have protobuf 3.19.6 which is incompatible.\n",
            "google-cloud-language 2.13.4 requires protobuf!=4.21.0,!=4.21.1,!=4.21.2,!=4.21.3,!=4.21.4,!=4.21.5,<6.0.0dev,>=3.20.2, but you have protobuf 3.19.6 which is incompatible.\n",
            "google-cloud-pubsub 2.25.0 requires protobuf!=4.21.0,!=4.21.1,!=4.21.2,!=4.21.3,!=4.21.4,!=4.21.5,<6.0.0dev,>=3.20.2, but you have protobuf 3.19.6 which is incompatible.\n",
            "google-cloud-resource-manager 1.13.0 requires protobuf!=4.21.0,!=4.21.1,!=4.21.2,!=4.21.3,!=4.21.4,!=4.21.5,<6.0.0dev,>=3.20.2, but you have protobuf 3.19.6 which is incompatible.\n",
            "google-cloud-translate 3.15.5 requires protobuf!=4.21.0,!=4.21.1,!=4.21.2,!=4.21.3,!=4.21.4,!=4.21.5,<6.0.0dev,>=3.20.2, but you have protobuf 3.19.6 which is incompatible.\n",
            "googleapis-common-protos 1.65.0 requires protobuf!=3.20.0,!=3.20.1,!=4.21.1,!=4.21.2,!=4.21.3,!=4.21.4,!=4.21.5,<6.0.0.dev0,>=3.20.2, but you have protobuf 3.19.6 which is incompatible.\n",
            "grpc-google-iam-v1 0.13.1 requires protobuf!=4.21.1,!=4.21.2,!=4.21.3,!=4.21.4,!=4.21.5,<6.0.0dev,>=3.20.2, but you have protobuf 3.19.6 which is incompatible.\n",
            "pandas-gbq 0.24.0 requires google-auth-oauthlib>=0.7.0, but you have google-auth-oauthlib 0.4.6 which is incompatible.\n",
            "tensorflow-datasets 4.9.6 requires protobuf>=3.20, but you have protobuf 3.19.6 which is incompatible.\n",
            "tensorflow-metadata 1.16.1 requires protobuf<4.21,>=3.20.3; python_version < \"3.11\", but you have protobuf 3.19.6 which is incompatible.\n",
            "tf-keras 2.17.0 requires tensorflow<2.18,>=2.17, but you have tensorflow 2.10.0 which is incompatible.\u001b[0m\u001b[31m\n",
            "\u001b[0mSuccessfully installed gast-0.4.0 google-auth-oauthlib-0.4.6 keras-2.10.0 keras-preprocessing-1.1.2 protobuf-3.19.6 tensorboard-2.10.1 tensorboard-data-server-0.6.1 tensorboard-plugin-wit-1.8.1 tensorflow-2.10.0 tensorflow-estimator-2.10.0\n"
          ]
        },
        {
          "output_type": "display_data",
          "data": {
            "application/vnd.colab-display-data+json": {
              "pip_warning": {
                "packages": [
                  "google"
                ]
              },
              "id": "cf774733557d455396b0acd1643e5ad1"
            }
          },
          "metadata": {}
        }
      ]
    },
    {
      "cell_type": "code",
      "source": [
        "!pip uninstall lda2vec -y\n",
        "#!pip install git+https://github.com/cemoody/lda2vec.git\n",
        "\n",
        "\n",
        "#!pip show lda2vec\n",
        "\n",
        "!pip install git+https://github.com/bmabey/pyLDAvis.git@master#egg=pyLDAvis\n"
      ],
      "metadata": {
        "colab": {
          "base_uri": "https://localhost:8080/"
        },
        "id": "_C4LsfO3U1HU",
        "outputId": "d7cb4b8f-bb31-4c41-b053-7e424421043a"
      },
      "execution_count": null,
      "outputs": [
        {
          "output_type": "stream",
          "name": "stdout",
          "text": [
            "\u001b[33mWARNING: Skipping lda2vec as it is not installed.\u001b[0m\u001b[33m\n",
            "\u001b[0mCollecting pyLDAvis\n",
            "  Cloning https://github.com/bmabey/pyLDAvis.git (to revision master) to /tmp/pip-install-4x0zxr0j/pyldavis_f960023ff6ab496388c9c3b453f60b43\n",
            "  Running command git clone --filter=blob:none --quiet https://github.com/bmabey/pyLDAvis.git /tmp/pip-install-4x0zxr0j/pyldavis_f960023ff6ab496388c9c3b453f60b43\n",
            "  Resolved https://github.com/bmabey/pyLDAvis.git to commit 728a3608d2438d7ec5ed1f49a34c481b1402de43\n",
            "  Installing build dependencies ... \u001b[?25l\u001b[?25hdone\n",
            "  Getting requirements to build wheel ... \u001b[?25l\u001b[?25hdone\n",
            "  Preparing metadata (pyproject.toml) ... \u001b[?25l\u001b[?25hdone\n",
            "Requirement already satisfied: numpy in /usr/local/lib/python3.10/dist-packages (from pyLDAvis) (1.26.4)\n",
            "Requirement already satisfied: scipy in /usr/local/lib/python3.10/dist-packages (from pyLDAvis) (1.10.1)\n",
            "Requirement already satisfied: pandas>=2.0.0 in /usr/local/lib/python3.10/dist-packages (from pyLDAvis) (2.2.2)\n",
            "Requirement already satisfied: joblib>=1.2.0 in /usr/local/lib/python3.10/dist-packages (from pyLDAvis) (1.4.2)\n",
            "Requirement already satisfied: jinja2 in /usr/local/lib/python3.10/dist-packages (from pyLDAvis) (3.1.4)\n",
            "Requirement already satisfied: numexpr in /usr/local/lib/python3.10/dist-packages (from pyLDAvis) (2.10.1)\n",
            "Requirement already satisfied: funcy in /usr/local/lib/python3.10/dist-packages (from pyLDAvis) (2.0)\n",
            "Requirement already satisfied: scikit-learn>=1.0.0 in /usr/local/lib/python3.10/dist-packages (from pyLDAvis) (1.5.2)\n",
            "Requirement already satisfied: gensim in /usr/local/lib/python3.10/dist-packages (from pyLDAvis) (4.1.2)\n",
            "Requirement already satisfied: setuptools in /usr/local/lib/python3.10/dist-packages (from pyLDAvis) (75.1.0)\n",
            "Requirement already satisfied: python-dateutil>=2.8.2 in /usr/local/lib/python3.10/dist-packages (from pandas>=2.0.0->pyLDAvis) (2.8.2)\n",
            "Requirement already satisfied: pytz>=2020.1 in /usr/local/lib/python3.10/dist-packages (from pandas>=2.0.0->pyLDAvis) (2024.2)\n",
            "Requirement already satisfied: tzdata>=2022.7 in /usr/local/lib/python3.10/dist-packages (from pandas>=2.0.0->pyLDAvis) (2024.2)\n",
            "Requirement already satisfied: threadpoolctl>=3.1.0 in /usr/local/lib/python3.10/dist-packages (from scikit-learn>=1.0.0->pyLDAvis) (3.5.0)\n",
            "Requirement already satisfied: smart-open>=1.8.1 in /usr/local/lib/python3.10/dist-packages (from gensim->pyLDAvis) (7.0.5)\n",
            "Requirement already satisfied: MarkupSafe>=2.0 in /usr/local/lib/python3.10/dist-packages (from jinja2->pyLDAvis) (3.0.2)\n",
            "Requirement already satisfied: six>=1.5 in /usr/local/lib/python3.10/dist-packages (from python-dateutil>=2.8.2->pandas>=2.0.0->pyLDAvis) (1.16.0)\n",
            "Requirement already satisfied: wrapt in /usr/local/lib/python3.10/dist-packages (from smart-open>=1.8.1->gensim->pyLDAvis) (1.16.0)\n"
          ]
        }
      ]
    },
    {
      "cell_type": "code",
      "source": [
        "!pip install lda2vec\n",
        "!pip show lda2vec"
      ],
      "metadata": {
        "colab": {
          "base_uri": "https://localhost:8080/",
          "height": 387
        },
        "id": "UVslfgSv4Nty",
        "outputId": "67710115-f126-46f8-98c0-c5f3ad1b8a50"
      },
      "execution_count": null,
      "outputs": [
        {
          "output_type": "stream",
          "name": "stdout",
          "text": [
            "Collecting lda2vec\n",
            "  Using cached lda2vec-0.16.10-py3-none-any.whl\n",
            "Installing collected packages: lda2vec\n",
            "Successfully installed lda2vec-0.16.10\n"
          ]
        },
        {
          "output_type": "display_data",
          "data": {
            "application/vnd.colab-display-data+json": {
              "pip_warning": {
                "packages": [
                  "lda2vec"
                ]
              },
              "id": "4bb6d597758d452f9a813045e2bc0f66"
            }
          },
          "metadata": {}
        },
        {
          "output_type": "stream",
          "name": "stdout",
          "text": [
            "Name: lda2vec\n",
            "Version: 0.16.10\n",
            "Summary: Tools for interpreting natural language\n",
            "Home-page: \n",
            "Author: Nathan Raw\n",
            "Author-email: nxr9266@rit.edu\n",
            "License: \n",
            "Location: /usr/local/lib/python3.10/dist-packages\n",
            "Requires: \n",
            "Required-by: \n",
            "^C\n"
          ]
        }
      ]
    },
    {
      "cell_type": "code",
      "source": [
        "from lda2vec import Lda2vec\n",
        "print(dir(Lda2vec))  # This will show you the methods and attributes of the Lda2vec class\n",
        "help(Lda2vec)  # This will give you detailed documentation about the class and its methods\n"
      ],
      "metadata": {
        "colab": {
          "base_uri": "https://localhost:8080/"
        },
        "id": "juLJadEv857b",
        "outputId": "514de9b3-b649-4242-c223-73bf8640d653"
      },
      "execution_count": null,
      "outputs": [
        {
          "output_type": "stream",
          "name": "stdout",
          "text": [
            "['DL', 'Lda2vec', 'M', 'W', '__builtins__', '__cached__', '__doc__', '__file__', '__loader__', '__name__', '__package__', '__spec__', 'datetime', 'np', 'tf', 'utils', 'warnings']\n",
            "Help on module lda2vec.Lda2vec in lda2vec:\n",
            "\n",
            "NAME\n",
            "    lda2vec.Lda2vec\n",
            "\n",
            "CLASSES\n",
            "    builtins.object\n",
            "        Lda2vec\n",
            "    \n",
            "    class Lda2vec(builtins.object)\n",
            "     |  Lda2vec(num_unique_documents, vocab_size, num_topics, freqs=None, save_graph_def=True, embedding_size=128, num_sampled=40, learning_rate=0.001, lmbda=200.0, alpha=None, power=0.75, batch_size=500, logdir='logdir', restore=False, fixed_words=False, factors_in=None, pretrained_embeddings=None)\n",
            "     |  \n",
            "     |  Methods defined here:\n",
            "     |  \n",
            "     |  __init__(self, num_unique_documents, vocab_size, num_topics, freqs=None, save_graph_def=True, embedding_size=128, num_sampled=40, learning_rate=0.001, lmbda=200.0, alpha=None, power=0.75, batch_size=500, logdir='logdir', restore=False, fixed_words=False, factors_in=None, pretrained_embeddings=None)\n",
            "     |      Summary\n",
            "     |      \n",
            "     |      Args:\n",
            "     |          num_unique_documents (int): Number of unique documents in your dataset\n",
            "     |          vocab_size (int): Number of unique words/tokens in your dataset\n",
            "     |          num_topics (int): The set number of topics to cluster your data into\n",
            "     |          freqs (list, optional): Python list of length vocab_size with frequencies of each token\n",
            "     |          save_graph_def (bool, optional): If true, we will save the graph to logdir\n",
            "     |          embedding_size (int, optional): Dimension of the embeddings. This will be shared between docs, words, and topics.\n",
            "     |          num_sampled (int, optional): Negative sampling number for NCE Loss.\n",
            "     |          learning_rate (float, optional): Learning rate for optimizer\n",
            "     |          lmbda (float, optional): Strength of dirichlet prior\n",
            "     |          alpha (None, optional): alpha of dirichlet process (defaults to 1/n_topics)\n",
            "     |          power (float, optional): unigram sampler distortion\n",
            "     |          batch_size (int, optional): Batch size coming into model\n",
            "     |          logdir (str, optional): Location for models to be saved - note, we will append on the datetime too on each run\n",
            "     |          restore (bool, optional): When True, we will restore the model from the logdir parameter's location\n",
            "     |          fixed_words (bool, optional): Description\n",
            "     |          factors_in (None, optional): Pretrained Topic Embedding (shape should be [num_topics, embedding_size])\n",
            "     |          pretrained_embeddings (None, optional): Description\n",
            "     |  \n",
            "     |  compute_normed_embeds(self)\n",
            "     |      Normalizes embeddings so we can measure cosine similarity\n",
            "     |      between different embedding matrixes.\n",
            "     |  \n",
            "     |  get_k_closest(self, idxs, in_type='word', vs_type='word', k=10, idx_to_word=None, verbose=False)\n",
            "     |      Gets k closest vs_type embeddings for every idx of in_type embedding given.\n",
            "     |      Options for the in_type and vs_type are [\"word\", \"topic\", \"doc\"].\n",
            "     |      \n",
            "     |      Args:\n",
            "     |          idxs (np.array): Array of indexes you want to get similarities to\n",
            "     |          in_type (str, optional): idxs will query this embedding matrix\n",
            "     |          vs_type (str, optional): embeddings to compare to in_type embedding lookup\n",
            "     |          k (int, optional): Number of vs_type embeddings to return per idx\n",
            "     |          idx_to_word (dict, optional): IDX to word mapping\n",
            "     |          verbose (bool, optional): Should we print out the top k words per epoch? False by default.\n",
            "     |                                    Only prints if idx_to_word is passed too. \n",
            "     |      \n",
            "     |      Returns:\n",
            "     |          sim: Actual embeddings that are similar to each idx. shape [idxs.shape[0], k, self.embed_size]\n",
            "     |          sim_idxs: Indexes of the sim embeddings. shape [idxs.shape[0], k]\n",
            "     |      \n",
            "     |      NOTE: Acceptable pairs include:\n",
            "     |          word - word\n",
            "     |          word - topic\n",
            "     |          topic - word\n",
            "     |          doc - doc\n",
            "     |  \n",
            "     |  prior(self)\n",
            "     |      Computes Dirichlet Prior.\n",
            "     |      \n",
            "     |      Returns:\n",
            "     |          TYPE: Dirichlet Prior Value\n",
            "     |  \n",
            "     |  save_weights_to_file(self, word_embed_path='word_weights', doc_embed_path='doc_weights', topic_embed_path='topic_weights')\n",
            "     |      Saves embedding matrixes to file.\n",
            "     |      \n",
            "     |      Args:\n",
            "     |          word_embed_path (str, optional): Path and name where you want to save word embeddings\n",
            "     |          doc_embed_path (str, optional): Path and name where you want to save doc embeddings\n",
            "     |          topic_embed_path (str, optional): Path and name where you want to save topic embeddings\n",
            "     |  \n",
            "     |  train(self, pivot_words, target_words, doc_ids, data_size, num_epochs, switch_loss_epoch=0, save_every=1, report_every=1, print_topics_every=5, idx_to_word=None)\n",
            "     |      Train the Lda2vec Model. pivot_words, target_words, and doc_ids should be\n",
            "     |      the same size.\n",
            "     |      \n",
            "     |      Args:\n",
            "     |          pivot_words (np.array): Array of word idxs corresponding to pivot words\n",
            "     |          target_words (np.array): Array of word idxs corresponding to target words\n",
            "     |          doc_ids (TYPE): Document IDs linking word idxs to their docs\n",
            "     |          data_size (TYPE): Length of pivot_words array\n",
            "     |          num_epochs (TYPE): Number of epochs to train model\n",
            "     |          switch_loss_epoch (int, optional): Epoch to switch on LDA loss. LDA loss not learned\n",
            "     |                                             until this epoch\n",
            "     |          save_every (int, optional): Save model every \"save_every\" epoch\n",
            "     |          report_every (int, optional): Report model metrics every \"report_every\" epoch.\n",
            "     |          print_topics_every (int, optional): Print top 10 words in each topic every \"print_topics_every\" \n",
            "     |          idx_to_word (None, optional): IDX to word mapping - Required if you want to see word-topic membership\n",
            "     |  \n",
            "     |  ----------------------------------------------------------------------\n",
            "     |  Data descriptors defined here:\n",
            "     |  \n",
            "     |  __dict__\n",
            "     |      dictionary for instance variables (if defined)\n",
            "     |  \n",
            "     |  __weakref__\n",
            "     |      list of weak references to the object (if defined)\n",
            "     |  \n",
            "     |  ----------------------------------------------------------------------\n",
            "     |  Data and other attributes defined here:\n",
            "     |  \n",
            "     |  RESTORE_KEY = 'to_restore'\n",
            "\n",
            "FILE\n",
            "    /usr/local/lib/python3.10/dist-packages/lda2vec/Lda2vec.py\n",
            "\n",
            "\n"
          ]
        }
      ]
    },
    {
      "cell_type": "code",
      "source": [
        "import numpy as np\n",
        "import pandas as pd\n",
        "import matplotlib.pyplot as plt\n",
        "from lda2vec import Lda2vec\n",
        "from gensim import corpora\n",
        "from gensim.models.coherencemodel import CoherenceModel\n",
        "from nltk.tokenize import RegexpTokenizer\n",
        "from nltk.corpus import stopwords\n",
        "\n",
        "# Preprocess the text data\n",
        "def preprocess_data(doc_set):\n",
        "    tokenizer = RegexpTokenizer(r'\\w+')\n",
        "    en_stop = set(stopwords.words('english'))\n",
        "    texts = []\n",
        "\n",
        "    for doc in doc_set:\n",
        "        if pd.isna(doc):\n",
        "            continue  # Skip NaN values\n",
        "        raw = str(doc).lower()\n",
        "        tokens = tokenizer.tokenize(raw)\n",
        "        stopped_tokens = [token for token in tokens if token not in en_stop]\n",
        "        texts.append(stopped_tokens)\n",
        "\n",
        "    return texts\n",
        "\n",
        "# Prepare the corpus\n",
        "def prepare_corpus(texts):\n",
        "    dictionary = corpora.Dictionary(texts)\n",
        "    doc_term_matrix = [dictionary.doc2bow(text) for text in texts]\n",
        "    return dictionary, doc_term_matrix, len(dictionary)\n",
        "\n",
        "# Calculate coherence scores\n",
        "def calculate_coherence(model, texts, dictionary):\n",
        "    coherence_model = CoherenceModel(model=model, texts=texts, dictionary=dictionary, coherence='c_v')\n",
        "    coherence_score = coherence_model.get_coherence()\n",
        "    return coherence_score\n",
        "\n",
        "# Main function to execute the workflow\n",
        "def run_lda2vec(df, max_topics=20):\n",
        "    clean_texts = preprocess_data(df['Description'])\n",
        "    dictionary, doc_term_matrix, vocab_size = prepare_corpus(clean_texts)\n",
        "    num_unique_documents = len(clean_texts)\n",
        "\n",
        "    coherence_scores = []\n",
        "    for num_topics in range(2, max_topics + 1):\n",
        "        # Instantiate Lda2vec with necessary parameters\n",
        "        lda2vec_model = Lda2vec(num_unique_documents=num_unique_documents, vocab_size=vocab_size, num_topics=num_topics)\n",
        "\n",
        "        # Prepare data for training\n",
        "        # Here we need to prepare pivot_words, target_words, and doc_ids for training.\n",
        "        # Note: You would need to implement this based on your data structure.\n",
        "\n",
        "        # Assuming you have pivot_words, target_words, and doc_ids prepared correctly\n",
        "        pivot_words = ...\n",
        "        target_words = ...\n",
        "        doc_ids = ...\n",
        "        data_size = len(pivot_words)\n",
        "\n",
        "        # Train the model\n",
        "        lda2vec_model.train(pivot_words, target_words, doc_ids, data_size, num_epochs=100)\n",
        "\n",
        "        # You might want to calculate coherence scores based on the current model\n",
        "        coherence_score = calculate_coherence(lda2vec_model, clean_texts, dictionary)\n",
        "        coherence_scores.append(coherence_score)\n",
        "        print(f'Number of Topics: {num_topics}, Coherence Score: {coherence_score}')\n",
        "\n",
        "    # Find the best number of topics\n",
        "    best_k = np.argmax(coherence_scores) + 2  # +2 because the range starts at 2\n",
        "    print(f'Best number of topics: {best_k}')\n",
        "\n",
        "    # Final model training with best number of topics\n",
        "    final_model = Lda2vec(num_unique_documents=num_unique_documents, vocab_size=vocab_size, num_topics=best_k)\n",
        "    final_model.train(pivot_words, target_words, doc_ids, data_size, num_epochs=100)\n",
        "\n",
        "    # Summarize topics\n",
        "    # Since the original class doesn't have a show_topics method, you'll need to implement this\n",
        "    # based on the embeddings you've trained.\n",
        "\n",
        "# Example usage with your DataFrame\n",
        "df = pd.DataFrame({'Description': [...]})  # Your actual data goes here\n",
        "run_lda2vec(df)\n"
      ],
      "metadata": {
        "colab": {
          "base_uri": "https://localhost:8080/",
          "height": 309
        },
        "id": "T1n0dxgN6p-B",
        "outputId": "8f9211a9-1d8c-441b-cb01-ecf8e4fb7b55"
      },
      "execution_count": null,
      "outputs": [
        {
          "output_type": "error",
          "ename": "TypeError",
          "evalue": "'module' object is not callable",
          "traceback": [
            "\u001b[0;31m---------------------------------------------------------------------------\u001b[0m",
            "\u001b[0;31mTypeError\u001b[0m                                 Traceback (most recent call last)",
            "\u001b[0;32m<ipython-input-12-09160901659d>\u001b[0m in \u001b[0;36m<cell line: 81>\u001b[0;34m()\u001b[0m\n\u001b[1;32m     79\u001b[0m \u001b[0;31m# Example usage with your DataFrame\u001b[0m\u001b[0;34m\u001b[0m\u001b[0;34m\u001b[0m\u001b[0m\n\u001b[1;32m     80\u001b[0m \u001b[0mdf\u001b[0m \u001b[0;34m=\u001b[0m \u001b[0mpd\u001b[0m\u001b[0;34m.\u001b[0m\u001b[0mDataFrame\u001b[0m\u001b[0;34m(\u001b[0m\u001b[0;34m{\u001b[0m\u001b[0;34m'Description'\u001b[0m\u001b[0;34m:\u001b[0m \u001b[0;34m[\u001b[0m\u001b[0;34m...\u001b[0m\u001b[0;34m]\u001b[0m\u001b[0;34m}\u001b[0m\u001b[0;34m)\u001b[0m  \u001b[0;31m# Your actual data goes here\u001b[0m\u001b[0;34m\u001b[0m\u001b[0;34m\u001b[0m\u001b[0m\n\u001b[0;32m---> 81\u001b[0;31m \u001b[0mrun_lda2vec\u001b[0m\u001b[0;34m(\u001b[0m\u001b[0mdf\u001b[0m\u001b[0;34m)\u001b[0m\u001b[0;34m\u001b[0m\u001b[0;34m\u001b[0m\u001b[0m\n\u001b[0m",
            "\u001b[0;32m<ipython-input-12-09160901659d>\u001b[0m in \u001b[0;36mrun_lda2vec\u001b[0;34m(df, max_topics)\u001b[0m\n\u001b[1;32m     45\u001b[0m     \u001b[0;32mfor\u001b[0m \u001b[0mnum_topics\u001b[0m \u001b[0;32min\u001b[0m \u001b[0mrange\u001b[0m\u001b[0;34m(\u001b[0m\u001b[0;36m2\u001b[0m\u001b[0;34m,\u001b[0m \u001b[0mmax_topics\u001b[0m \u001b[0;34m+\u001b[0m \u001b[0;36m1\u001b[0m\u001b[0;34m)\u001b[0m\u001b[0;34m:\u001b[0m\u001b[0;34m\u001b[0m\u001b[0;34m\u001b[0m\u001b[0m\n\u001b[1;32m     46\u001b[0m         \u001b[0;31m# Instantiate Lda2vec with necessary parameters\u001b[0m\u001b[0;34m\u001b[0m\u001b[0;34m\u001b[0m\u001b[0m\n\u001b[0;32m---> 47\u001b[0;31m         \u001b[0mlda2vec_model\u001b[0m \u001b[0;34m=\u001b[0m \u001b[0mLda2vec\u001b[0m\u001b[0;34m(\u001b[0m\u001b[0mnum_unique_documents\u001b[0m\u001b[0;34m=\u001b[0m\u001b[0mnum_unique_documents\u001b[0m\u001b[0;34m,\u001b[0m \u001b[0mvocab_size\u001b[0m\u001b[0;34m=\u001b[0m\u001b[0mvocab_size\u001b[0m\u001b[0;34m,\u001b[0m \u001b[0mnum_topics\u001b[0m\u001b[0;34m=\u001b[0m\u001b[0mnum_topics\u001b[0m\u001b[0;34m)\u001b[0m\u001b[0;34m\u001b[0m\u001b[0;34m\u001b[0m\u001b[0m\n\u001b[0m\u001b[1;32m     48\u001b[0m \u001b[0;34m\u001b[0m\u001b[0m\n\u001b[1;32m     49\u001b[0m         \u001b[0;31m# Prepare data for training\u001b[0m\u001b[0;34m\u001b[0m\u001b[0;34m\u001b[0m\u001b[0m\n",
            "\u001b[0;31mTypeError\u001b[0m: 'module' object is not callable"
          ]
        }
      ]
    },
    {
      "cell_type": "markdown",
      "metadata": {
        "id": "7nZGAOwl70ng"
      },
      "source": [
        "## Question 4 (10 points):\n",
        "**Generate K topics by using BERTopic, the number of topics K should be decided by the coherence score, then summarize what are the topics.**\n",
        "\n",
        "You may refer the code here: https://colab.research.google.com/drive/1FieRA9fLdkQEGDIMYl0I3MCjSUKVF8C-?usp=sharing"
      ]
    },
    {
      "cell_type": "code",
      "source": [
        "# Install the necessary library\n",
        "!pip install bertopic"
      ],
      "metadata": {
        "colab": {
          "base_uri": "https://localhost:8080/"
        },
        "id": "Xg1MgmZRfJcw",
        "outputId": "91e554d9-8308-4c0c-d7f7-75349789b7ee"
      },
      "execution_count": null,
      "outputs": [
        {
          "output_type": "stream",
          "name": "stdout",
          "text": [
            "Collecting bertopic\n",
            "  Downloading bertopic-0.16.4-py3-none-any.whl.metadata (23 kB)\n",
            "Collecting hdbscan>=0.8.29 (from bertopic)\n",
            "  Downloading hdbscan-0.8.39-cp310-cp310-manylinux_2_17_x86_64.manylinux2014_x86_64.whl.metadata (15 kB)\n",
            "Requirement already satisfied: numpy>=1.20.0 in /usr/local/lib/python3.10/dist-packages (from bertopic) (1.26.4)\n",
            "Requirement already satisfied: pandas>=1.1.5 in /usr/local/lib/python3.10/dist-packages (from bertopic) (2.2.2)\n",
            "Requirement already satisfied: plotly>=4.7.0 in /usr/local/lib/python3.10/dist-packages (from bertopic) (5.24.1)\n",
            "Requirement already satisfied: scikit-learn>=0.22.2.post1 in /usr/local/lib/python3.10/dist-packages (from bertopic) (1.5.2)\n",
            "Requirement already satisfied: sentence-transformers>=0.4.1 in /usr/local/lib/python3.10/dist-packages (from bertopic) (3.2.1)\n",
            "Requirement already satisfied: tqdm>=4.41.1 in /usr/local/lib/python3.10/dist-packages (from bertopic) (4.66.6)\n",
            "Collecting umap-learn>=0.5.0 (from bertopic)\n",
            "  Downloading umap_learn-0.5.7-py3-none-any.whl.metadata (21 kB)\n",
            "Requirement already satisfied: scipy>=1.0 in /usr/local/lib/python3.10/dist-packages (from hdbscan>=0.8.29->bertopic) (1.13.1)\n",
            "Requirement already satisfied: joblib>=1.0 in /usr/local/lib/python3.10/dist-packages (from hdbscan>=0.8.29->bertopic) (1.4.2)\n",
            "Requirement already satisfied: python-dateutil>=2.8.2 in /usr/local/lib/python3.10/dist-packages (from pandas>=1.1.5->bertopic) (2.8.2)\n",
            "Requirement already satisfied: pytz>=2020.1 in /usr/local/lib/python3.10/dist-packages (from pandas>=1.1.5->bertopic) (2024.2)\n",
            "Requirement already satisfied: tzdata>=2022.7 in /usr/local/lib/python3.10/dist-packages (from pandas>=1.1.5->bertopic) (2024.2)\n",
            "Requirement already satisfied: tenacity>=6.2.0 in /usr/local/lib/python3.10/dist-packages (from plotly>=4.7.0->bertopic) (9.0.0)\n",
            "Requirement already satisfied: packaging in /usr/local/lib/python3.10/dist-packages (from plotly>=4.7.0->bertopic) (24.1)\n",
            "Requirement already satisfied: threadpoolctl>=3.1.0 in /usr/local/lib/python3.10/dist-packages (from scikit-learn>=0.22.2.post1->bertopic) (3.5.0)\n",
            "Requirement already satisfied: transformers<5.0.0,>=4.41.0 in /usr/local/lib/python3.10/dist-packages (from sentence-transformers>=0.4.1->bertopic) (4.44.2)\n",
            "Requirement already satisfied: torch>=1.11.0 in /usr/local/lib/python3.10/dist-packages (from sentence-transformers>=0.4.1->bertopic) (2.5.0+cu121)\n",
            "Requirement already satisfied: huggingface-hub>=0.20.0 in /usr/local/lib/python3.10/dist-packages (from sentence-transformers>=0.4.1->bertopic) (0.24.7)\n",
            "Requirement already satisfied: Pillow in /usr/local/lib/python3.10/dist-packages (from sentence-transformers>=0.4.1->bertopic) (10.4.0)\n",
            "Requirement already satisfied: numba>=0.51.2 in /usr/local/lib/python3.10/dist-packages (from umap-learn>=0.5.0->bertopic) (0.60.0)\n",
            "Collecting pynndescent>=0.5 (from umap-learn>=0.5.0->bertopic)\n",
            "  Downloading pynndescent-0.5.13-py3-none-any.whl.metadata (6.8 kB)\n",
            "Requirement already satisfied: filelock in /usr/local/lib/python3.10/dist-packages (from huggingface-hub>=0.20.0->sentence-transformers>=0.4.1->bertopic) (3.16.1)\n",
            "Requirement already satisfied: fsspec>=2023.5.0 in /usr/local/lib/python3.10/dist-packages (from huggingface-hub>=0.20.0->sentence-transformers>=0.4.1->bertopic) (2024.10.0)\n",
            "Requirement already satisfied: pyyaml>=5.1 in /usr/local/lib/python3.10/dist-packages (from huggingface-hub>=0.20.0->sentence-transformers>=0.4.1->bertopic) (6.0.2)\n",
            "Requirement already satisfied: requests in /usr/local/lib/python3.10/dist-packages (from huggingface-hub>=0.20.0->sentence-transformers>=0.4.1->bertopic) (2.32.3)\n",
            "Requirement already satisfied: typing-extensions>=3.7.4.3 in /usr/local/lib/python3.10/dist-packages (from huggingface-hub>=0.20.0->sentence-transformers>=0.4.1->bertopic) (4.12.2)\n",
            "Requirement already satisfied: llvmlite<0.44,>=0.43.0dev0 in /usr/local/lib/python3.10/dist-packages (from numba>=0.51.2->umap-learn>=0.5.0->bertopic) (0.43.0)\n",
            "Requirement already satisfied: six>=1.5 in /usr/local/lib/python3.10/dist-packages (from python-dateutil>=2.8.2->pandas>=1.1.5->bertopic) (1.16.0)\n",
            "Requirement already satisfied: networkx in /usr/local/lib/python3.10/dist-packages (from torch>=1.11.0->sentence-transformers>=0.4.1->bertopic) (3.4.2)\n",
            "Requirement already satisfied: jinja2 in /usr/local/lib/python3.10/dist-packages (from torch>=1.11.0->sentence-transformers>=0.4.1->bertopic) (3.1.4)\n",
            "Requirement already satisfied: sympy==1.13.1 in /usr/local/lib/python3.10/dist-packages (from torch>=1.11.0->sentence-transformers>=0.4.1->bertopic) (1.13.1)\n",
            "Requirement already satisfied: mpmath<1.4,>=1.1.0 in /usr/local/lib/python3.10/dist-packages (from sympy==1.13.1->torch>=1.11.0->sentence-transformers>=0.4.1->bertopic) (1.3.0)\n",
            "Requirement already satisfied: regex!=2019.12.17 in /usr/local/lib/python3.10/dist-packages (from transformers<5.0.0,>=4.41.0->sentence-transformers>=0.4.1->bertopic) (2024.9.11)\n",
            "Requirement already satisfied: safetensors>=0.4.1 in /usr/local/lib/python3.10/dist-packages (from transformers<5.0.0,>=4.41.0->sentence-transformers>=0.4.1->bertopic) (0.4.5)\n",
            "Requirement already satisfied: tokenizers<0.20,>=0.19 in /usr/local/lib/python3.10/dist-packages (from transformers<5.0.0,>=4.41.0->sentence-transformers>=0.4.1->bertopic) (0.19.1)\n",
            "Requirement already satisfied: MarkupSafe>=2.0 in /usr/local/lib/python3.10/dist-packages (from jinja2->torch>=1.11.0->sentence-transformers>=0.4.1->bertopic) (3.0.2)\n",
            "Requirement already satisfied: charset-normalizer<4,>=2 in /usr/local/lib/python3.10/dist-packages (from requests->huggingface-hub>=0.20.0->sentence-transformers>=0.4.1->bertopic) (3.4.0)\n",
            "Requirement already satisfied: idna<4,>=2.5 in /usr/local/lib/python3.10/dist-packages (from requests->huggingface-hub>=0.20.0->sentence-transformers>=0.4.1->bertopic) (3.10)\n",
            "Requirement already satisfied: urllib3<3,>=1.21.1 in /usr/local/lib/python3.10/dist-packages (from requests->huggingface-hub>=0.20.0->sentence-transformers>=0.4.1->bertopic) (2.2.3)\n",
            "Requirement already satisfied: certifi>=2017.4.17 in /usr/local/lib/python3.10/dist-packages (from requests->huggingface-hub>=0.20.0->sentence-transformers>=0.4.1->bertopic) (2024.8.30)\n",
            "Downloading bertopic-0.16.4-py3-none-any.whl (143 kB)\n",
            "\u001b[2K   \u001b[90m━━━━━━━━━━━━━━━━━━━━━━━━━━━━━━━━━━━━━━━━\u001b[0m \u001b[32m143.7/143.7 kB\u001b[0m \u001b[31m4.7 MB/s\u001b[0m eta \u001b[36m0:00:00\u001b[0m\n",
            "\u001b[?25hDownloading hdbscan-0.8.39-cp310-cp310-manylinux_2_17_x86_64.manylinux2014_x86_64.whl (4.2 MB)\n",
            "\u001b[2K   \u001b[90m━━━━━━━━━━━━━━━━━━━━━━━━━━━━━━━━━━━━━━━━\u001b[0m \u001b[32m4.2/4.2 MB\u001b[0m \u001b[31m38.5 MB/s\u001b[0m eta \u001b[36m0:00:00\u001b[0m\n",
            "\u001b[?25hDownloading umap_learn-0.5.7-py3-none-any.whl (88 kB)\n",
            "\u001b[2K   \u001b[90m━━━━━━━━━━━━━━━━━━━━━━━━━━━━━━━━━━━━━━━━\u001b[0m \u001b[32m88.8/88.8 kB\u001b[0m \u001b[31m9.6 MB/s\u001b[0m eta \u001b[36m0:00:00\u001b[0m\n",
            "\u001b[?25hDownloading pynndescent-0.5.13-py3-none-any.whl (56 kB)\n",
            "\u001b[2K   \u001b[90m━━━━━━━━━━━━━━━━━━━━━━━━━━━━━━━━━━━━━━━━\u001b[0m \u001b[32m56.9/56.9 kB\u001b[0m \u001b[31m5.6 MB/s\u001b[0m eta \u001b[36m0:00:00\u001b[0m\n",
            "\u001b[?25hInstalling collected packages: pynndescent, hdbscan, umap-learn, bertopic\n",
            "Successfully installed bertopic-0.16.4 hdbscan-0.8.39 pynndescent-0.5.13 umap-learn-0.5.7\n"
          ]
        }
      ]
    },
    {
      "cell_type": "code",
      "source": [
        "# First, ensure the environment is clean by uninstalling the existing packages\n",
        "!pip uninstall -y bertopic pydantic"
      ],
      "metadata": {
        "colab": {
          "base_uri": "https://localhost:8080/"
        },
        "id": "WnUxFqwggBgk",
        "outputId": "ce7b209e-b214-42ed-9ce0-bb06c7c6cfd2"
      },
      "execution_count": null,
      "outputs": [
        {
          "output_type": "stream",
          "name": "stdout",
          "text": [
            "Found existing installation: bertopic 0.16.4\n",
            "Uninstalling bertopic-0.16.4:\n",
            "  Successfully uninstalled bertopic-0.16.4\n",
            "Found existing installation: pydantic 1.10.9\n",
            "Uninstalling pydantic-1.10.9:\n",
            "  Successfully uninstalled pydantic-1.10.9\n"
          ]
        }
      ]
    },
    {
      "cell_type": "code",
      "source": [
        "# Then, install a specific compatible version of pydantic\n",
        "!pip install pydantic==1.10.9  # You can also try other versions if necessary\n",
        "\n"
      ],
      "metadata": {
        "colab": {
          "base_uri": "https://localhost:8080/"
        },
        "id": "AS_KYnJLg9aC",
        "outputId": "5b3fbc11-6b1a-4374-8bcd-adb6fd282f89"
      },
      "execution_count": null,
      "outputs": [
        {
          "output_type": "stream",
          "name": "stdout",
          "text": [
            "Collecting pydantic==1.10.9\n",
            "  Using cached pydantic-1.10.9-cp310-cp310-manylinux_2_17_x86_64.manylinux2014_x86_64.whl.metadata (147 kB)\n",
            "Requirement already satisfied: typing-extensions>=4.2.0 in /usr/local/lib/python3.10/dist-packages (from pydantic==1.10.9) (4.12.2)\n",
            "Using cached pydantic-1.10.9-cp310-cp310-manylinux_2_17_x86_64.manylinux2014_x86_64.whl (3.1 MB)\n",
            "Installing collected packages: pydantic\n",
            "\u001b[31mERROR: pip's dependency resolver does not currently take into account all the packages that are installed. This behaviour is the source of the following dependency conflicts.\n",
            "albumentations 1.4.20 requires numpy>=1.24.4, but you have numpy 1.23.5 which is incompatible.\n",
            "albumentations 1.4.20 requires pydantic>=2.7.0, but you have pydantic 1.10.9 which is incompatible.\n",
            "langchain 0.3.4 requires pydantic<3.0.0,>=2.7.4, but you have pydantic 1.10.9 which is incompatible.\n",
            "langchain-core 0.3.13 requires pydantic<3.0.0,>=2.5.2; python_full_version < \"3.12.4\", but you have pydantic 1.10.9 which is incompatible.\n",
            "spacy 3.1.0 requires pydantic!=1.8,!=1.8.1,<1.9.0,>=1.7.4, but you have pydantic 1.10.9 which is incompatible.\n",
            "thinc 8.0.17 requires pydantic!=1.8,!=1.8.1,<1.9.0,>=1.7.4, but you have pydantic 1.10.9 which is incompatible.\u001b[0m\u001b[31m\n",
            "\u001b[0mSuccessfully installed pydantic-1.10.9\n"
          ]
        }
      ]
    },
    {
      "cell_type": "code",
      "source": [
        "# Upgrade numpy to a compatible version\n",
        "!pip install numpy>=1.24.4\n",
        "\n",
        "# Now install bertopic\n",
        "!pip install bertopic\n"
      ],
      "metadata": {
        "colab": {
          "base_uri": "https://localhost:8080/"
        },
        "id": "XidDrbBEhLs2",
        "outputId": "02160549-1aa8-40d2-c4fd-aed8b2635606"
      },
      "execution_count": null,
      "outputs": [
        {
          "output_type": "stream",
          "name": "stdout",
          "text": [
            "Collecting bertopic\n",
            "  Using cached bertopic-0.16.4-py3-none-any.whl.metadata (23 kB)\n",
            "Requirement already satisfied: hdbscan>=0.8.29 in /usr/local/lib/python3.10/dist-packages (from bertopic) (0.8.39)\n",
            "Requirement already satisfied: numpy>=1.20.0 in /usr/local/lib/python3.10/dist-packages (from bertopic) (1.23.5)\n",
            "Requirement already satisfied: pandas>=1.1.5 in /usr/local/lib/python3.10/dist-packages (from bertopic) (2.2.2)\n",
            "Requirement already satisfied: plotly>=4.7.0 in /usr/local/lib/python3.10/dist-packages (from bertopic) (5.24.1)\n",
            "Requirement already satisfied: scikit-learn>=0.22.2.post1 in /usr/local/lib/python3.10/dist-packages (from bertopic) (1.5.2)\n",
            "Requirement already satisfied: sentence-transformers>=0.4.1 in /usr/local/lib/python3.10/dist-packages (from bertopic) (3.2.1)\n",
            "Requirement already satisfied: tqdm>=4.41.1 in /usr/local/lib/python3.10/dist-packages (from bertopic) (4.66.6)\n",
            "Requirement already satisfied: umap-learn>=0.5.0 in /usr/local/lib/python3.10/dist-packages (from bertopic) (0.5.7)\n",
            "Requirement already satisfied: scipy>=1.0 in /usr/local/lib/python3.10/dist-packages (from hdbscan>=0.8.29->bertopic) (1.13.1)\n",
            "Requirement already satisfied: joblib>=1.0 in /usr/local/lib/python3.10/dist-packages (from hdbscan>=0.8.29->bertopic) (1.4.2)\n",
            "Requirement already satisfied: python-dateutil>=2.8.2 in /usr/local/lib/python3.10/dist-packages (from pandas>=1.1.5->bertopic) (2.8.2)\n",
            "Requirement already satisfied: pytz>=2020.1 in /usr/local/lib/python3.10/dist-packages (from pandas>=1.1.5->bertopic) (2024.2)\n",
            "Requirement already satisfied: tzdata>=2022.7 in /usr/local/lib/python3.10/dist-packages (from pandas>=1.1.5->bertopic) (2024.2)\n",
            "Requirement already satisfied: tenacity>=6.2.0 in /usr/local/lib/python3.10/dist-packages (from plotly>=4.7.0->bertopic) (9.0.0)\n",
            "Requirement already satisfied: packaging in /usr/local/lib/python3.10/dist-packages (from plotly>=4.7.0->bertopic) (24.1)\n",
            "Requirement already satisfied: threadpoolctl>=3.1.0 in /usr/local/lib/python3.10/dist-packages (from scikit-learn>=0.22.2.post1->bertopic) (3.5.0)\n",
            "Requirement already satisfied: transformers<5.0.0,>=4.41.0 in /usr/local/lib/python3.10/dist-packages (from sentence-transformers>=0.4.1->bertopic) (4.44.2)\n",
            "Requirement already satisfied: torch>=1.11.0 in /usr/local/lib/python3.10/dist-packages (from sentence-transformers>=0.4.1->bertopic) (2.5.0+cu121)\n",
            "Requirement already satisfied: huggingface-hub>=0.20.0 in /usr/local/lib/python3.10/dist-packages (from sentence-transformers>=0.4.1->bertopic) (0.24.7)\n",
            "Requirement already satisfied: Pillow in /usr/local/lib/python3.10/dist-packages (from sentence-transformers>=0.4.1->bertopic) (10.4.0)\n",
            "Requirement already satisfied: numba>=0.51.2 in /usr/local/lib/python3.10/dist-packages (from umap-learn>=0.5.0->bertopic) (0.60.0)\n",
            "Requirement already satisfied: pynndescent>=0.5 in /usr/local/lib/python3.10/dist-packages (from umap-learn>=0.5.0->bertopic) (0.5.13)\n",
            "Requirement already satisfied: filelock in /usr/local/lib/python3.10/dist-packages (from huggingface-hub>=0.20.0->sentence-transformers>=0.4.1->bertopic) (3.16.1)\n",
            "Requirement already satisfied: fsspec>=2023.5.0 in /usr/local/lib/python3.10/dist-packages (from huggingface-hub>=0.20.0->sentence-transformers>=0.4.1->bertopic) (2024.10.0)\n",
            "Requirement already satisfied: pyyaml>=5.1 in /usr/local/lib/python3.10/dist-packages (from huggingface-hub>=0.20.0->sentence-transformers>=0.4.1->bertopic) (6.0.2)\n",
            "Requirement already satisfied: requests in /usr/local/lib/python3.10/dist-packages (from huggingface-hub>=0.20.0->sentence-transformers>=0.4.1->bertopic) (2.32.3)\n",
            "Requirement already satisfied: typing-extensions>=3.7.4.3 in /usr/local/lib/python3.10/dist-packages (from huggingface-hub>=0.20.0->sentence-transformers>=0.4.1->bertopic) (4.12.2)\n",
            "Requirement already satisfied: llvmlite<0.44,>=0.43.0dev0 in /usr/local/lib/python3.10/dist-packages (from numba>=0.51.2->umap-learn>=0.5.0->bertopic) (0.43.0)\n",
            "Requirement already satisfied: six>=1.5 in /usr/local/lib/python3.10/dist-packages (from python-dateutil>=2.8.2->pandas>=1.1.5->bertopic) (1.16.0)\n",
            "Requirement already satisfied: networkx in /usr/local/lib/python3.10/dist-packages (from torch>=1.11.0->sentence-transformers>=0.4.1->bertopic) (3.4.2)\n",
            "Requirement already satisfied: jinja2 in /usr/local/lib/python3.10/dist-packages (from torch>=1.11.0->sentence-transformers>=0.4.1->bertopic) (3.1.4)\n",
            "Requirement already satisfied: sympy==1.13.1 in /usr/local/lib/python3.10/dist-packages (from torch>=1.11.0->sentence-transformers>=0.4.1->bertopic) (1.13.1)\n",
            "Requirement already satisfied: mpmath<1.4,>=1.1.0 in /usr/local/lib/python3.10/dist-packages (from sympy==1.13.1->torch>=1.11.0->sentence-transformers>=0.4.1->bertopic) (1.3.0)\n",
            "Requirement already satisfied: regex!=2019.12.17 in /usr/local/lib/python3.10/dist-packages (from transformers<5.0.0,>=4.41.0->sentence-transformers>=0.4.1->bertopic) (2024.9.11)\n",
            "Requirement already satisfied: safetensors>=0.4.1 in /usr/local/lib/python3.10/dist-packages (from transformers<5.0.0,>=4.41.0->sentence-transformers>=0.4.1->bertopic) (0.4.5)\n",
            "Requirement already satisfied: tokenizers<0.20,>=0.19 in /usr/local/lib/python3.10/dist-packages (from transformers<5.0.0,>=4.41.0->sentence-transformers>=0.4.1->bertopic) (0.19.1)\n",
            "Requirement already satisfied: MarkupSafe>=2.0 in /usr/local/lib/python3.10/dist-packages (from jinja2->torch>=1.11.0->sentence-transformers>=0.4.1->bertopic) (3.0.2)\n",
            "Requirement already satisfied: charset-normalizer<4,>=2 in /usr/local/lib/python3.10/dist-packages (from requests->huggingface-hub>=0.20.0->sentence-transformers>=0.4.1->bertopic) (3.4.0)\n",
            "Requirement already satisfied: idna<4,>=2.5 in /usr/local/lib/python3.10/dist-packages (from requests->huggingface-hub>=0.20.0->sentence-transformers>=0.4.1->bertopic) (3.10)\n",
            "Requirement already satisfied: urllib3<3,>=1.21.1 in /usr/local/lib/python3.10/dist-packages (from requests->huggingface-hub>=0.20.0->sentence-transformers>=0.4.1->bertopic) (2.2.3)\n",
            "Requirement already satisfied: certifi>=2017.4.17 in /usr/local/lib/python3.10/dist-packages (from requests->huggingface-hub>=0.20.0->sentence-transformers>=0.4.1->bertopic) (2024.8.30)\n",
            "Using cached bertopic-0.16.4-py3-none-any.whl (143 kB)\n",
            "Installing collected packages: bertopic\n",
            "Successfully installed bertopic-0.16.4\n"
          ]
        }
      ]
    },
    {
      "cell_type": "code",
      "source": [
        "# Uninstall conflicting packages\n",
        "!pip uninstall -y pydantic langchain bertopic\n",
        "\n",
        "# Install pydantic version 2.1.1\n",
        "!pip install pydantic==2.1.1\n",
        "\n",
        "# Install langchain and bertopic\n",
        "!pip install langchain bertopic\n"
      ],
      "metadata": {
        "colab": {
          "base_uri": "https://localhost:8080/"
        },
        "id": "7q2p8wd9h3W3",
        "outputId": "bc1fdb2b-ef4c-4c20-a243-dda54696c3dc"
      },
      "execution_count": null,
      "outputs": [
        {
          "output_type": "stream",
          "name": "stdout",
          "text": [
            "Found existing installation: pydantic 1.10.9\n",
            "Uninstalling pydantic-1.10.9:\n",
            "  Successfully uninstalled pydantic-1.10.9\n",
            "Found existing installation: langchain 0.3.4\n",
            "Uninstalling langchain-0.3.4:\n",
            "  Successfully uninstalled langchain-0.3.4\n",
            "Found existing installation: bertopic 0.16.4\n",
            "Uninstalling bertopic-0.16.4:\n",
            "  Successfully uninstalled bertopic-0.16.4\n",
            "Collecting pydantic==2.1.1\n",
            "  Downloading pydantic-2.1.1-py3-none-any.whl.metadata (136 kB)\n",
            "\u001b[2K     \u001b[90m━━━━━━━━━━━━━━━━━━━━━━━━━━━━━━━━━━━━━━━━\u001b[0m \u001b[32m136.5/136.5 kB\u001b[0m \u001b[31m2.6 MB/s\u001b[0m eta \u001b[36m0:00:00\u001b[0m\n",
            "\u001b[?25hRequirement already satisfied: annotated-types>=0.4.0 in /usr/local/lib/python3.10/dist-packages (from pydantic==2.1.1) (0.7.0)\n",
            "Collecting pydantic-core==2.4.0 (from pydantic==2.1.1)\n",
            "  Downloading pydantic_core-2.4.0-cp310-cp310-manylinux_2_17_x86_64.manylinux2014_x86_64.whl.metadata (6.5 kB)\n",
            "Requirement already satisfied: typing-extensions>=4.6.1 in /usr/local/lib/python3.10/dist-packages (from pydantic==2.1.1) (4.12.2)\n",
            "Downloading pydantic-2.1.1-py3-none-any.whl (370 kB)\n",
            "\u001b[2K   \u001b[90m━━━━━━━━━━━━━━━━━━━━━━━━━━━━━━━━━━━━━━━━\u001b[0m \u001b[32m370.9/370.9 kB\u001b[0m \u001b[31m13.4 MB/s\u001b[0m eta \u001b[36m0:00:00\u001b[0m\n",
            "\u001b[?25hDownloading pydantic_core-2.4.0-cp310-cp310-manylinux_2_17_x86_64.manylinux2014_x86_64.whl (1.9 MB)\n",
            "\u001b[2K   \u001b[90m━━━━━━━━━━━━━━━━━━━━━━━━━━━━━━━━━━━━━━━━\u001b[0m \u001b[32m1.9/1.9 MB\u001b[0m \u001b[31m39.2 MB/s\u001b[0m eta \u001b[36m0:00:00\u001b[0m\n",
            "\u001b[?25hInstalling collected packages: pydantic-core, pydantic\n",
            "  Attempting uninstall: pydantic-core\n",
            "    Found existing installation: pydantic_core 2.23.4\n",
            "    Uninstalling pydantic_core-2.23.4:\n",
            "      Successfully uninstalled pydantic_core-2.23.4\n",
            "\u001b[31mERROR: pip's dependency resolver does not currently take into account all the packages that are installed. This behaviour is the source of the following dependency conflicts.\n",
            "albumentations 1.4.20 requires numpy>=1.24.4, but you have numpy 1.23.5 which is incompatible.\n",
            "albumentations 1.4.20 requires pydantic>=2.7.0, but you have pydantic 2.1.1 which is incompatible.\n",
            "langchain-core 0.3.13 requires pydantic<3.0.0,>=2.5.2; python_full_version < \"3.12.4\", but you have pydantic 2.1.1 which is incompatible.\n",
            "spacy 3.1.0 requires pydantic!=1.8,!=1.8.1,<1.9.0,>=1.7.4, but you have pydantic 2.1.1 which is incompatible.\n",
            "thinc 8.0.17 requires pydantic!=1.8,!=1.8.1,<1.9.0,>=1.7.4, but you have pydantic 2.1.1 which is incompatible.\u001b[0m\u001b[31m\n",
            "\u001b[0mSuccessfully installed pydantic-2.1.1 pydantic-core-2.4.0\n",
            "Collecting langchain\n",
            "  Downloading langchain-0.3.7-py3-none-any.whl.metadata (7.1 kB)\n",
            "Collecting bertopic\n",
            "  Using cached bertopic-0.16.4-py3-none-any.whl.metadata (23 kB)\n",
            "Requirement already satisfied: PyYAML>=5.3 in /usr/local/lib/python3.10/dist-packages (from langchain) (6.0.2)\n",
            "Requirement already satisfied: SQLAlchemy<3,>=1.4 in /usr/local/lib/python3.10/dist-packages (from langchain) (2.0.36)\n",
            "Requirement already satisfied: aiohttp<4.0.0,>=3.8.3 in /usr/local/lib/python3.10/dist-packages (from langchain) (3.10.10)\n",
            "Requirement already satisfied: async-timeout<5.0.0,>=4.0.0 in /usr/local/lib/python3.10/dist-packages (from langchain) (4.0.3)\n",
            "Collecting langchain-core<0.4.0,>=0.3.15 (from langchain)\n",
            "  Downloading langchain_core-0.3.15-py3-none-any.whl.metadata (6.3 kB)\n",
            "Requirement already satisfied: langchain-text-splitters<0.4.0,>=0.3.0 in /usr/local/lib/python3.10/dist-packages (from langchain) (0.3.0)\n",
            "Requirement already satisfied: langsmith<0.2.0,>=0.1.17 in /usr/local/lib/python3.10/dist-packages (from langchain) (0.1.137)\n",
            "Requirement already satisfied: numpy<2,>=1 in /usr/local/lib/python3.10/dist-packages (from langchain) (1.23.5)\n",
            "Collecting pydantic<3.0.0,>=2.7.4 (from langchain)\n",
            "  Downloading pydantic-2.9.2-py3-none-any.whl.metadata (149 kB)\n",
            "\u001b[2K     \u001b[90m━━━━━━━━━━━━━━━━━━━━━━━━━━━━━━━━━━━━━━━━\u001b[0m \u001b[32m149.4/149.4 kB\u001b[0m \u001b[31m3.3 MB/s\u001b[0m eta \u001b[36m0:00:00\u001b[0m\n",
            "\u001b[?25hRequirement already satisfied: requests<3,>=2 in /usr/local/lib/python3.10/dist-packages (from langchain) (2.32.3)\n",
            "Requirement already satisfied: tenacity!=8.4.0,<10,>=8.1.0 in /usr/local/lib/python3.10/dist-packages (from langchain) (9.0.0)\n",
            "Requirement already satisfied: hdbscan>=0.8.29 in /usr/local/lib/python3.10/dist-packages (from bertopic) (0.8.39)\n",
            "Requirement already satisfied: pandas>=1.1.5 in /usr/local/lib/python3.10/dist-packages (from bertopic) (2.2.2)\n",
            "Requirement already satisfied: plotly>=4.7.0 in /usr/local/lib/python3.10/dist-packages (from bertopic) (5.24.1)\n",
            "Requirement already satisfied: scikit-learn>=0.22.2.post1 in /usr/local/lib/python3.10/dist-packages (from bertopic) (1.5.2)\n",
            "Requirement already satisfied: sentence-transformers>=0.4.1 in /usr/local/lib/python3.10/dist-packages (from bertopic) (3.2.1)\n",
            "Requirement already satisfied: tqdm>=4.41.1 in /usr/local/lib/python3.10/dist-packages (from bertopic) (4.66.6)\n",
            "Requirement already satisfied: umap-learn>=0.5.0 in /usr/local/lib/python3.10/dist-packages (from bertopic) (0.5.7)\n",
            "Requirement already satisfied: aiohappyeyeballs>=2.3.0 in /usr/local/lib/python3.10/dist-packages (from aiohttp<4.0.0,>=3.8.3->langchain) (2.4.3)\n",
            "Requirement already satisfied: aiosignal>=1.1.2 in /usr/local/lib/python3.10/dist-packages (from aiohttp<4.0.0,>=3.8.3->langchain) (1.3.1)\n",
            "Requirement already satisfied: attrs>=17.3.0 in /usr/local/lib/python3.10/dist-packages (from aiohttp<4.0.0,>=3.8.3->langchain) (24.2.0)\n",
            "Requirement already satisfied: frozenlist>=1.1.1 in /usr/local/lib/python3.10/dist-packages (from aiohttp<4.0.0,>=3.8.3->langchain) (1.5.0)\n",
            "Requirement already satisfied: multidict<7.0,>=4.5 in /usr/local/lib/python3.10/dist-packages (from aiohttp<4.0.0,>=3.8.3->langchain) (6.1.0)\n",
            "Requirement already satisfied: yarl<2.0,>=1.12.0 in /usr/local/lib/python3.10/dist-packages (from aiohttp<4.0.0,>=3.8.3->langchain) (1.17.0)\n",
            "Requirement already satisfied: scipy>=1.0 in /usr/local/lib/python3.10/dist-packages (from hdbscan>=0.8.29->bertopic) (1.13.1)\n",
            "Requirement already satisfied: joblib>=1.0 in /usr/local/lib/python3.10/dist-packages (from hdbscan>=0.8.29->bertopic) (1.4.2)\n",
            "Requirement already satisfied: jsonpatch<2.0,>=1.33 in /usr/local/lib/python3.10/dist-packages (from langchain-core<0.4.0,>=0.3.15->langchain) (1.33)\n",
            "Requirement already satisfied: packaging<25,>=23.2 in /usr/local/lib/python3.10/dist-packages (from langchain-core<0.4.0,>=0.3.15->langchain) (24.1)\n",
            "Requirement already satisfied: typing-extensions>=4.7 in /usr/local/lib/python3.10/dist-packages (from langchain-core<0.4.0,>=0.3.15->langchain) (4.12.2)\n",
            "Requirement already satisfied: httpx<1,>=0.23.0 in /usr/local/lib/python3.10/dist-packages (from langsmith<0.2.0,>=0.1.17->langchain) (0.27.2)\n",
            "Requirement already satisfied: orjson<4.0.0,>=3.9.14 in /usr/local/lib/python3.10/dist-packages (from langsmith<0.2.0,>=0.1.17->langchain) (3.10.10)\n",
            "Requirement already satisfied: requests-toolbelt<2.0.0,>=1.0.0 in /usr/local/lib/python3.10/dist-packages (from langsmith<0.2.0,>=0.1.17->langchain) (1.0.0)\n",
            "Requirement already satisfied: python-dateutil>=2.8.2 in /usr/local/lib/python3.10/dist-packages (from pandas>=1.1.5->bertopic) (2.8.2)\n",
            "Requirement already satisfied: pytz>=2020.1 in /usr/local/lib/python3.10/dist-packages (from pandas>=1.1.5->bertopic) (2024.2)\n",
            "Requirement already satisfied: tzdata>=2022.7 in /usr/local/lib/python3.10/dist-packages (from pandas>=1.1.5->bertopic) (2024.2)\n",
            "Requirement already satisfied: annotated-types>=0.6.0 in /usr/local/lib/python3.10/dist-packages (from pydantic<3.0.0,>=2.7.4->langchain) (0.7.0)\n",
            "Collecting pydantic-core==2.23.4 (from pydantic<3.0.0,>=2.7.4->langchain)\n",
            "  Downloading pydantic_core-2.23.4-cp310-cp310-manylinux_2_17_x86_64.manylinux2014_x86_64.whl.metadata (6.6 kB)\n",
            "Requirement already satisfied: charset-normalizer<4,>=2 in /usr/local/lib/python3.10/dist-packages (from requests<3,>=2->langchain) (3.4.0)\n",
            "Requirement already satisfied: idna<4,>=2.5 in /usr/local/lib/python3.10/dist-packages (from requests<3,>=2->langchain) (3.10)\n",
            "Requirement already satisfied: urllib3<3,>=1.21.1 in /usr/local/lib/python3.10/dist-packages (from requests<3,>=2->langchain) (2.2.3)\n",
            "Requirement already satisfied: certifi>=2017.4.17 in /usr/local/lib/python3.10/dist-packages (from requests<3,>=2->langchain) (2024.8.30)\n",
            "Requirement already satisfied: threadpoolctl>=3.1.0 in /usr/local/lib/python3.10/dist-packages (from scikit-learn>=0.22.2.post1->bertopic) (3.5.0)\n",
            "Requirement already satisfied: transformers<5.0.0,>=4.41.0 in /usr/local/lib/python3.10/dist-packages (from sentence-transformers>=0.4.1->bertopic) (4.44.2)\n",
            "Requirement already satisfied: torch>=1.11.0 in /usr/local/lib/python3.10/dist-packages (from sentence-transformers>=0.4.1->bertopic) (2.5.0+cu121)\n",
            "Requirement already satisfied: huggingface-hub>=0.20.0 in /usr/local/lib/python3.10/dist-packages (from sentence-transformers>=0.4.1->bertopic) (0.24.7)\n",
            "Requirement already satisfied: Pillow in /usr/local/lib/python3.10/dist-packages (from sentence-transformers>=0.4.1->bertopic) (10.4.0)\n",
            "Requirement already satisfied: greenlet!=0.4.17 in /usr/local/lib/python3.10/dist-packages (from SQLAlchemy<3,>=1.4->langchain) (3.1.1)\n",
            "Requirement already satisfied: numba>=0.51.2 in /usr/local/lib/python3.10/dist-packages (from umap-learn>=0.5.0->bertopic) (0.60.0)\n",
            "Requirement already satisfied: pynndescent>=0.5 in /usr/local/lib/python3.10/dist-packages (from umap-learn>=0.5.0->bertopic) (0.5.13)\n",
            "Requirement already satisfied: anyio in /usr/local/lib/python3.10/dist-packages (from httpx<1,>=0.23.0->langsmith<0.2.0,>=0.1.17->langchain) (3.7.1)\n",
            "Requirement already satisfied: httpcore==1.* in /usr/local/lib/python3.10/dist-packages (from httpx<1,>=0.23.0->langsmith<0.2.0,>=0.1.17->langchain) (1.0.6)\n",
            "Requirement already satisfied: sniffio in /usr/local/lib/python3.10/dist-packages (from httpx<1,>=0.23.0->langsmith<0.2.0,>=0.1.17->langchain) (1.3.1)\n",
            "Requirement already satisfied: h11<0.15,>=0.13 in /usr/local/lib/python3.10/dist-packages (from httpcore==1.*->httpx<1,>=0.23.0->langsmith<0.2.0,>=0.1.17->langchain) (0.14.0)\n",
            "Requirement already satisfied: filelock in /usr/local/lib/python3.10/dist-packages (from huggingface-hub>=0.20.0->sentence-transformers>=0.4.1->bertopic) (3.16.1)\n",
            "Requirement already satisfied: fsspec>=2023.5.0 in /usr/local/lib/python3.10/dist-packages (from huggingface-hub>=0.20.0->sentence-transformers>=0.4.1->bertopic) (2024.10.0)\n",
            "Requirement already satisfied: jsonpointer>=1.9 in /usr/local/lib/python3.10/dist-packages (from jsonpatch<2.0,>=1.33->langchain-core<0.4.0,>=0.3.15->langchain) (3.0.0)\n",
            "Requirement already satisfied: llvmlite<0.44,>=0.43.0dev0 in /usr/local/lib/python3.10/dist-packages (from numba>=0.51.2->umap-learn>=0.5.0->bertopic) (0.43.0)\n",
            "Requirement already satisfied: six>=1.5 in /usr/local/lib/python3.10/dist-packages (from python-dateutil>=2.8.2->pandas>=1.1.5->bertopic) (1.16.0)\n",
            "Requirement already satisfied: networkx in /usr/local/lib/python3.10/dist-packages (from torch>=1.11.0->sentence-transformers>=0.4.1->bertopic) (3.4.2)\n",
            "Requirement already satisfied: jinja2 in /usr/local/lib/python3.10/dist-packages (from torch>=1.11.0->sentence-transformers>=0.4.1->bertopic) (3.1.4)\n",
            "Requirement already satisfied: sympy==1.13.1 in /usr/local/lib/python3.10/dist-packages (from torch>=1.11.0->sentence-transformers>=0.4.1->bertopic) (1.13.1)\n",
            "Requirement already satisfied: mpmath<1.4,>=1.1.0 in /usr/local/lib/python3.10/dist-packages (from sympy==1.13.1->torch>=1.11.0->sentence-transformers>=0.4.1->bertopic) (1.3.0)\n",
            "Requirement already satisfied: regex!=2019.12.17 in /usr/local/lib/python3.10/dist-packages (from transformers<5.0.0,>=4.41.0->sentence-transformers>=0.4.1->bertopic) (2024.9.11)\n",
            "Requirement already satisfied: safetensors>=0.4.1 in /usr/local/lib/python3.10/dist-packages (from transformers<5.0.0,>=4.41.0->sentence-transformers>=0.4.1->bertopic) (0.4.5)\n",
            "Requirement already satisfied: tokenizers<0.20,>=0.19 in /usr/local/lib/python3.10/dist-packages (from transformers<5.0.0,>=4.41.0->sentence-transformers>=0.4.1->bertopic) (0.19.1)\n",
            "Requirement already satisfied: propcache>=0.2.0 in /usr/local/lib/python3.10/dist-packages (from yarl<2.0,>=1.12.0->aiohttp<4.0.0,>=3.8.3->langchain) (0.2.0)\n",
            "Requirement already satisfied: exceptiongroup in /usr/local/lib/python3.10/dist-packages (from anyio->httpx<1,>=0.23.0->langsmith<0.2.0,>=0.1.17->langchain) (1.2.2)\n",
            "Requirement already satisfied: MarkupSafe>=2.0 in /usr/local/lib/python3.10/dist-packages (from jinja2->torch>=1.11.0->sentence-transformers>=0.4.1->bertopic) (3.0.2)\n",
            "Downloading langchain-0.3.7-py3-none-any.whl (1.0 MB)\n",
            "\u001b[2K   \u001b[90m━━━━━━━━━━━━━━━━━━━━━━━━━━━━━━━━━━━━━━━━\u001b[0m \u001b[32m1.0/1.0 MB\u001b[0m \u001b[31m21.2 MB/s\u001b[0m eta \u001b[36m0:00:00\u001b[0m\n",
            "\u001b[?25hUsing cached bertopic-0.16.4-py3-none-any.whl (143 kB)\n",
            "Downloading langchain_core-0.3.15-py3-none-any.whl (408 kB)\n",
            "\u001b[2K   \u001b[90m━━━━━━━━━━━━━━━━━━━━━━━━━━━━━━━━━━━━━━━━\u001b[0m \u001b[32m408.7/408.7 kB\u001b[0m \u001b[31m22.7 MB/s\u001b[0m eta \u001b[36m0:00:00\u001b[0m\n",
            "\u001b[?25hDownloading pydantic-2.9.2-py3-none-any.whl (434 kB)\n",
            "\u001b[2K   \u001b[90m━━━━━━━━━━━━━━━━━━━━━━━━━━━━━━━━━━━━━━━━\u001b[0m \u001b[32m434.9/434.9 kB\u001b[0m \u001b[31m23.4 MB/s\u001b[0m eta \u001b[36m0:00:00\u001b[0m\n",
            "\u001b[?25hDownloading pydantic_core-2.23.4-cp310-cp310-manylinux_2_17_x86_64.manylinux2014_x86_64.whl (2.1 MB)\n",
            "\u001b[2K   \u001b[90m━━━━━━━━━━━━━━━━━━━━━━━━━━━━━━━━━━━━━━━━\u001b[0m \u001b[32m2.1/2.1 MB\u001b[0m \u001b[31m45.0 MB/s\u001b[0m eta \u001b[36m0:00:00\u001b[0m\n",
            "\u001b[?25hInstalling collected packages: pydantic-core, pydantic, langchain-core, langchain, bertopic\n",
            "  Attempting uninstall: pydantic-core\n",
            "    Found existing installation: pydantic_core 2.4.0\n",
            "    Uninstalling pydantic_core-2.4.0:\n",
            "      Successfully uninstalled pydantic_core-2.4.0\n",
            "  Attempting uninstall: pydantic\n",
            "    Found existing installation: pydantic 2.1.1\n",
            "    Uninstalling pydantic-2.1.1:\n",
            "      Successfully uninstalled pydantic-2.1.1\n",
            "  Attempting uninstall: langchain-core\n",
            "    Found existing installation: langchain-core 0.3.13\n",
            "    Uninstalling langchain-core-0.3.13:\n",
            "      Successfully uninstalled langchain-core-0.3.13\n",
            "\u001b[31mERROR: pip's dependency resolver does not currently take into account all the packages that are installed. This behaviour is the source of the following dependency conflicts.\n",
            "albumentations 1.4.20 requires numpy>=1.24.4, but you have numpy 1.23.5 which is incompatible.\n",
            "spacy 3.1.0 requires pydantic!=1.8,!=1.8.1,<1.9.0,>=1.7.4, but you have pydantic 2.9.2 which is incompatible.\n",
            "thinc 8.0.17 requires pydantic!=1.8,!=1.8.1,<1.9.0,>=1.7.4, but you have pydantic 2.9.2 which is incompatible.\u001b[0m\u001b[31m\n",
            "\u001b[0mSuccessfully installed bertopic-0.16.4 langchain-0.3.7 langchain-core-0.3.15 pydantic-2.9.2 pydantic-core-2.23.4\n"
          ]
        }
      ]
    },
    {
      "cell_type": "code",
      "source": [
        "# Upgrade numpy to a compatible version\n",
        "!pip install numpy --upgrade\n",
        "\n",
        "# Reinstall spacy and thinc to ensure compatibility\n",
        "!pip install spacy --upgrade\n",
        "!pip install thinc --upgrade\n"
      ],
      "metadata": {
        "colab": {
          "base_uri": "https://localhost:8080/"
        },
        "id": "v4lml7Snih9k",
        "outputId": "80382391-86e2-4aa6-e72b-8cd0931934cc"
      },
      "execution_count": null,
      "outputs": [
        {
          "output_type": "stream",
          "name": "stdout",
          "text": [
            "Requirement already satisfied: numpy in /usr/local/lib/python3.10/dist-packages (1.23.5)\n",
            "Collecting numpy\n",
            "  Using cached numpy-2.1.2-cp310-cp310-manylinux_2_17_x86_64.manylinux2014_x86_64.whl.metadata (60 kB)\n",
            "Using cached numpy-2.1.2-cp310-cp310-manylinux_2_17_x86_64.manylinux2014_x86_64.whl (16.3 MB)\n",
            "Installing collected packages: numpy\n",
            "  Attempting uninstall: numpy\n",
            "    Found existing installation: numpy 1.23.5\n",
            "    Uninstalling numpy-1.23.5:\n",
            "      Successfully uninstalled numpy-1.23.5\n",
            "\u001b[31mERROR: pip's dependency resolver does not currently take into account all the packages that are installed. This behaviour is the source of the following dependency conflicts.\n",
            "cupy-cuda12x 12.2.0 requires numpy<1.27,>=1.20, but you have numpy 2.1.2 which is incompatible.\n",
            "gensim 4.3.3 requires numpy<2.0,>=1.18.5, but you have numpy 2.1.2 which is incompatible.\n",
            "langchain 0.3.7 requires numpy<2,>=1; python_version < \"3.12\", but you have numpy 2.1.2 which is incompatible.\n",
            "matplotlib 3.8.0 requires numpy<2,>=1.21, but you have numpy 2.1.2 which is incompatible.\n",
            "numba 0.60.0 requires numpy<2.1,>=1.22, but you have numpy 2.1.2 which is incompatible.\n",
            "pytensor 2.25.5 requires numpy<2,>=1.17.0, but you have numpy 2.1.2 which is incompatible.\n",
            "spacy 3.1.0 requires pydantic!=1.8,!=1.8.1,<1.9.0,>=1.7.4, but you have pydantic 2.9.2 which is incompatible.\n",
            "tensorflow 2.12.0 requires numpy<1.24,>=1.22, but you have numpy 2.1.2 which is incompatible.\n",
            "tf-keras 2.17.0 requires tensorflow<2.18,>=2.17, but you have tensorflow 2.12.0 which is incompatible.\n",
            "thinc 8.0.17 requires pydantic!=1.8,!=1.8.1,<1.9.0,>=1.7.4, but you have pydantic 2.9.2 which is incompatible.\u001b[0m\u001b[31m\n",
            "\u001b[0mSuccessfully installed numpy-2.1.2\n",
            "Requirement already satisfied: spacy in /usr/local/lib/python3.10/dist-packages (3.1.0)\n",
            "Collecting spacy\n",
            "  Downloading spacy-3.8.2-cp310-cp310-manylinux_2_17_x86_64.manylinux2014_x86_64.whl.metadata (27 kB)\n",
            "Requirement already satisfied: spacy-legacy<3.1.0,>=3.0.11 in /usr/local/lib/python3.10/dist-packages (from spacy) (3.0.12)\n",
            "Requirement already satisfied: spacy-loggers<2.0.0,>=1.0.0 in /usr/local/lib/python3.10/dist-packages (from spacy) (1.0.5)\n",
            "Requirement already satisfied: murmurhash<1.1.0,>=0.28.0 in /usr/local/lib/python3.10/dist-packages (from spacy) (1.0.10)\n",
            "Requirement already satisfied: cymem<2.1.0,>=2.0.2 in /usr/local/lib/python3.10/dist-packages (from spacy) (2.0.8)\n",
            "Requirement already satisfied: preshed<3.1.0,>=3.0.2 in /usr/local/lib/python3.10/dist-packages (from spacy) (3.0.9)\n",
            "Collecting thinc<8.4.0,>=8.3.0 (from spacy)\n",
            "  Downloading thinc-8.3.2-cp310-cp310-manylinux_2_17_x86_64.manylinux2014_x86_64.whl.metadata (15 kB)\n",
            "Requirement already satisfied: wasabi<1.2.0,>=0.9.1 in /usr/local/lib/python3.10/dist-packages (from spacy) (0.10.1)\n",
            "Requirement already satisfied: srsly<3.0.0,>=2.4.3 in /usr/local/lib/python3.10/dist-packages (from spacy) (2.4.8)\n",
            "Requirement already satisfied: catalogue<2.1.0,>=2.0.6 in /usr/local/lib/python3.10/dist-packages (from spacy) (2.0.10)\n",
            "Requirement already satisfied: weasel<0.5.0,>=0.1.0 in /usr/local/lib/python3.10/dist-packages (from spacy) (0.4.1)\n",
            "Requirement already satisfied: typer<1.0.0,>=0.3.0 in /usr/local/lib/python3.10/dist-packages (from spacy) (0.3.2)\n",
            "Requirement already satisfied: tqdm<5.0.0,>=4.38.0 in /usr/local/lib/python3.10/dist-packages (from spacy) (4.66.6)\n",
            "Requirement already satisfied: requests<3.0.0,>=2.13.0 in /usr/local/lib/python3.10/dist-packages (from spacy) (2.32.3)\n",
            "Requirement already satisfied: pydantic!=1.8,!=1.8.1,<3.0.0,>=1.7.4 in /usr/local/lib/python3.10/dist-packages (from spacy) (2.9.2)\n",
            "Requirement already satisfied: jinja2 in /usr/local/lib/python3.10/dist-packages (from spacy) (3.1.4)\n",
            "Requirement already satisfied: setuptools in /usr/local/lib/python3.10/dist-packages (from spacy) (75.1.0)\n",
            "Requirement already satisfied: packaging>=20.0 in /usr/local/lib/python3.10/dist-packages (from spacy) (24.1)\n",
            "Requirement already satisfied: langcodes<4.0.0,>=3.2.0 in /usr/local/lib/python3.10/dist-packages (from spacy) (3.4.1)\n",
            "Requirement already satisfied: numpy>=1.19.0 in /usr/local/lib/python3.10/dist-packages (from spacy) (2.1.2)\n",
            "Requirement already satisfied: language-data>=1.2 in /usr/local/lib/python3.10/dist-packages (from langcodes<4.0.0,>=3.2.0->spacy) (1.2.0)\n",
            "Requirement already satisfied: annotated-types>=0.6.0 in /usr/local/lib/python3.10/dist-packages (from pydantic!=1.8,!=1.8.1,<3.0.0,>=1.7.4->spacy) (0.7.0)\n",
            "Requirement already satisfied: pydantic-core==2.23.4 in /usr/local/lib/python3.10/dist-packages (from pydantic!=1.8,!=1.8.1,<3.0.0,>=1.7.4->spacy) (2.23.4)\n",
            "Requirement already satisfied: typing-extensions>=4.6.1 in /usr/local/lib/python3.10/dist-packages (from pydantic!=1.8,!=1.8.1,<3.0.0,>=1.7.4->spacy) (4.12.2)\n",
            "Requirement already satisfied: charset-normalizer<4,>=2 in /usr/local/lib/python3.10/dist-packages (from requests<3.0.0,>=2.13.0->spacy) (3.4.0)\n",
            "Requirement already satisfied: idna<4,>=2.5 in /usr/local/lib/python3.10/dist-packages (from requests<3.0.0,>=2.13.0->spacy) (3.10)\n",
            "Requirement already satisfied: urllib3<3,>=1.21.1 in /usr/local/lib/python3.10/dist-packages (from requests<3.0.0,>=2.13.0->spacy) (2.2.3)\n",
            "Requirement already satisfied: certifi>=2017.4.17 in /usr/local/lib/python3.10/dist-packages (from requests<3.0.0,>=2.13.0->spacy) (2024.8.30)\n",
            "Collecting blis<1.1.0,>=1.0.0 (from thinc<8.4.0,>=8.3.0->spacy)\n",
            "  Downloading blis-1.0.1-cp310-cp310-manylinux_2_17_x86_64.manylinux2014_x86_64.whl.metadata (7.6 kB)\n",
            "Requirement already satisfied: confection<1.0.0,>=0.0.1 in /usr/local/lib/python3.10/dist-packages (from thinc<8.4.0,>=8.3.0->spacy) (0.1.5)\n",
            "Collecting numpy>=1.19.0 (from spacy)\n",
            "  Downloading numpy-2.0.2-cp310-cp310-manylinux_2_17_x86_64.manylinux2014_x86_64.whl.metadata (60 kB)\n",
            "\u001b[2K     \u001b[90m━━━━━━━━━━━━━━━━━━━━━━━━━━━━━━━━━━━━━━━━\u001b[0m \u001b[32m60.9/60.9 kB\u001b[0m \u001b[31m2.6 MB/s\u001b[0m eta \u001b[36m0:00:00\u001b[0m\n",
            "\u001b[?25hRequirement already satisfied: click<7.2.0,>=7.1.1 in /usr/local/lib/python3.10/dist-packages (from typer<1.0.0,>=0.3.0->spacy) (7.1.2)\n",
            "Requirement already satisfied: cloudpathlib<1.0.0,>=0.7.0 in /usr/local/lib/python3.10/dist-packages (from weasel<0.5.0,>=0.1.0->spacy) (0.20.0)\n",
            "Requirement already satisfied: smart-open<8.0.0,>=5.2.1 in /usr/local/lib/python3.10/dist-packages (from weasel<0.5.0,>=0.1.0->spacy) (6.4.0)\n",
            "Requirement already satisfied: MarkupSafe>=2.0 in /usr/local/lib/python3.10/dist-packages (from jinja2->spacy) (3.0.2)\n",
            "Requirement already satisfied: marisa-trie>=0.7.7 in /usr/local/lib/python3.10/dist-packages (from language-data>=1.2->langcodes<4.0.0,>=3.2.0->spacy) (1.2.1)\n",
            "Downloading spacy-3.8.2-cp310-cp310-manylinux_2_17_x86_64.manylinux2014_x86_64.whl (29.1 MB)\n",
            "\u001b[2K   \u001b[90m━━━━━━━━━━━━━━━━━━━━━━━━━━━━━━━━━━━━━━━━\u001b[0m \u001b[32m29.1/29.1 MB\u001b[0m \u001b[31m18.9 MB/s\u001b[0m eta \u001b[36m0:00:00\u001b[0m\n",
            "\u001b[?25hDownloading thinc-8.3.2-cp310-cp310-manylinux_2_17_x86_64.manylinux2014_x86_64.whl (3.7 MB)\n",
            "\u001b[2K   \u001b[90m━━━━━━━━━━━━━━━━━━━━━━━━━━━━━━━━━━━━━━━━\u001b[0m \u001b[32m3.7/3.7 MB\u001b[0m \u001b[31m70.2 MB/s\u001b[0m eta \u001b[36m0:00:00\u001b[0m\n",
            "\u001b[?25hDownloading numpy-2.0.2-cp310-cp310-manylinux_2_17_x86_64.manylinux2014_x86_64.whl (19.5 MB)\n",
            "\u001b[2K   \u001b[90m━━━━━━━━━━━━━━━━━━━━━━━━━━━━━━━━━━━━━━━━\u001b[0m \u001b[32m19.5/19.5 MB\u001b[0m \u001b[31m49.3 MB/s\u001b[0m eta \u001b[36m0:00:00\u001b[0m\n",
            "\u001b[?25hDownloading blis-1.0.1-cp310-cp310-manylinux_2_17_x86_64.manylinux2014_x86_64.whl (9.2 MB)\n",
            "\u001b[2K   \u001b[90m━━━━━━━━━━━━━━━━━━━━━━━━━━━━━━━━━━━━━━━━\u001b[0m \u001b[32m9.2/9.2 MB\u001b[0m \u001b[31m66.4 MB/s\u001b[0m eta \u001b[36m0:00:00\u001b[0m\n",
            "\u001b[?25hInstalling collected packages: numpy, blis, thinc, spacy\n",
            "  Attempting uninstall: numpy\n",
            "    Found existing installation: numpy 2.1.2\n",
            "    Uninstalling numpy-2.1.2:\n",
            "      Successfully uninstalled numpy-2.1.2\n",
            "  Attempting uninstall: blis\n",
            "    Found existing installation: blis 0.7.11\n",
            "    Uninstalling blis-0.7.11:\n",
            "      Successfully uninstalled blis-0.7.11\n",
            "  Attempting uninstall: thinc\n",
            "    Found existing installation: thinc 8.0.17\n",
            "    Uninstalling thinc-8.0.17:\n",
            "      Successfully uninstalled thinc-8.0.17\n",
            "  Attempting uninstall: spacy\n",
            "    Found existing installation: spacy 3.1.0\n",
            "    Uninstalling spacy-3.1.0:\n",
            "      Successfully uninstalled spacy-3.1.0\n",
            "\u001b[31mERROR: pip's dependency resolver does not currently take into account all the packages that are installed. This behaviour is the source of the following dependency conflicts.\n",
            "cupy-cuda12x 12.2.0 requires numpy<1.27,>=1.20, but you have numpy 2.0.2 which is incompatible.\n",
            "en-core-web-sm 3.7.1 requires spacy<3.8.0,>=3.7.2, but you have spacy 3.8.2 which is incompatible.\n",
            "gensim 4.3.3 requires numpy<2.0,>=1.18.5, but you have numpy 2.0.2 which is incompatible.\n",
            "langchain 0.3.7 requires numpy<2,>=1; python_version < \"3.12\", but you have numpy 2.0.2 which is incompatible.\n",
            "matplotlib 3.8.0 requires numpy<2,>=1.21, but you have numpy 2.0.2 which is incompatible.\n",
            "pytensor 2.25.5 requires numpy<2,>=1.17.0, but you have numpy 2.0.2 which is incompatible.\n",
            "tensorflow 2.12.0 requires numpy<1.24,>=1.22, but you have numpy 2.0.2 which is incompatible.\n",
            "tf-keras 2.17.0 requires tensorflow<2.18,>=2.17, but you have tensorflow 2.12.0 which is incompatible.\u001b[0m\u001b[31m\n",
            "\u001b[0mSuccessfully installed blis-1.0.1 numpy-2.0.2 spacy-3.8.2 thinc-8.3.2\n",
            "Requirement already satisfied: thinc in /usr/local/lib/python3.10/dist-packages (8.3.2)\n",
            "Collecting thinc\n",
            "  Downloading thinc-9.1.1-cp310-cp310-manylinux_2_17_x86_64.manylinux2014_x86_64.whl.metadata (14 kB)\n",
            "Requirement already satisfied: blis<1.1.0,>=1.0.0 in /usr/local/lib/python3.10/dist-packages (from thinc) (1.0.1)\n",
            "Requirement already satisfied: murmurhash<1.1.0,>=1.0.2 in /usr/local/lib/python3.10/dist-packages (from thinc) (1.0.10)\n",
            "Requirement already satisfied: cymem<2.1.0,>=2.0.2 in /usr/local/lib/python3.10/dist-packages (from thinc) (2.0.8)\n",
            "Requirement already satisfied: preshed<3.1.0,>=3.0.2 in /usr/local/lib/python3.10/dist-packages (from thinc) (3.0.9)\n",
            "Requirement already satisfied: wasabi<1.2.0,>=0.8.1 in /usr/local/lib/python3.10/dist-packages (from thinc) (0.10.1)\n",
            "Requirement already satisfied: srsly<3.0.0,>=2.4.0 in /usr/local/lib/python3.10/dist-packages (from thinc) (2.4.8)\n",
            "Requirement already satisfied: catalogue<2.1.0,>=2.0.4 in /usr/local/lib/python3.10/dist-packages (from thinc) (2.0.10)\n",
            "Requirement already satisfied: confection<1.0.0,>=0.0.1 in /usr/local/lib/python3.10/dist-packages (from thinc) (0.1.5)\n",
            "Requirement already satisfied: setuptools in /usr/local/lib/python3.10/dist-packages (from thinc) (75.1.0)\n",
            "Requirement already satisfied: numpy<3.0.0,>=2.0.0 in /usr/local/lib/python3.10/dist-packages (from thinc) (2.0.2)\n",
            "Requirement already satisfied: pydantic!=1.8,!=1.8.1,<3.0.0,>=1.7.4 in /usr/local/lib/python3.10/dist-packages (from thinc) (2.9.2)\n",
            "Requirement already satisfied: packaging>=20.0 in /usr/local/lib/python3.10/dist-packages (from thinc) (24.1)\n",
            "Requirement already satisfied: annotated-types>=0.6.0 in /usr/local/lib/python3.10/dist-packages (from pydantic!=1.8,!=1.8.1,<3.0.0,>=1.7.4->thinc) (0.7.0)\n",
            "Requirement already satisfied: pydantic-core==2.23.4 in /usr/local/lib/python3.10/dist-packages (from pydantic!=1.8,!=1.8.1,<3.0.0,>=1.7.4->thinc) (2.23.4)\n",
            "Requirement already satisfied: typing-extensions>=4.6.1 in /usr/local/lib/python3.10/dist-packages (from pydantic!=1.8,!=1.8.1,<3.0.0,>=1.7.4->thinc) (4.12.2)\n",
            "Downloading thinc-9.1.1-cp310-cp310-manylinux_2_17_x86_64.manylinux2014_x86_64.whl (3.2 MB)\n",
            "\u001b[2K   \u001b[90m━━━━━━━━━━━━━━━━━━━━━━━━━━━━━━━━━━━━━━━━\u001b[0m \u001b[32m3.2/3.2 MB\u001b[0m \u001b[31m5.6 MB/s\u001b[0m eta \u001b[36m0:00:00\u001b[0m\n",
            "\u001b[?25hInstalling collected packages: thinc\n",
            "  Attempting uninstall: thinc\n",
            "    Found existing installation: thinc 8.3.2\n",
            "    Uninstalling thinc-8.3.2:\n",
            "      Successfully uninstalled thinc-8.3.2\n",
            "\u001b[31mERROR: pip's dependency resolver does not currently take into account all the packages that are installed. This behaviour is the source of the following dependency conflicts.\n",
            "spacy 3.8.2 requires thinc<8.4.0,>=8.3.0, but you have thinc 9.1.1 which is incompatible.\u001b[0m\u001b[31m\n",
            "\u001b[0mSuccessfully installed thinc-9.1.1\n"
          ]
        }
      ]
    },
    {
      "cell_type": "code",
      "source": [
        "# Uninstall existing numpy\n",
        "!pip uninstall numpy -y\n",
        "\n",
        "# Install a specific compatible version of numpy\n",
        "!pip install numpy==1.24.4  # Use a version that meets other dependencies\n",
        "\n",
        "# Restart the runtime (this will disconnect your session)\n",
        "import os\n",
        "os.kill(os.getpid(), 9)  # Forces a restart\n"
      ],
      "metadata": {
        "colab": {
          "base_uri": "https://localhost:8080/"
        },
        "id": "3FC7F_R1jEfr",
        "outputId": "baa03ccd-5e28-4298-dc79-83ad4f35dab6"
      },
      "execution_count": null,
      "outputs": [
        {
          "output_type": "stream",
          "name": "stdout",
          "text": [
            "Found existing installation: numpy 1.24.4\n",
            "Uninstalling numpy-1.24.4:\n",
            "  Successfully uninstalled numpy-1.24.4\n",
            "Collecting numpy==1.24.4\n",
            "  Using cached numpy-1.24.4-cp310-cp310-manylinux_2_17_x86_64.manylinux2014_x86_64.whl.metadata (5.6 kB)\n",
            "Using cached numpy-1.24.4-cp310-cp310-manylinux_2_17_x86_64.manylinux2014_x86_64.whl (17.3 MB)\n",
            "Installing collected packages: numpy\n",
            "\u001b[31mERROR: pip's dependency resolver does not currently take into account all the packages that are installed. This behaviour is the source of the following dependency conflicts.\n",
            "blis 1.0.1 requires numpy<3.0.0,>=2.0.0, but you have numpy 1.24.4 which is incompatible.\n",
            "spacy 3.8.2 requires thinc<8.4.0,>=8.3.0, but you have thinc 9.1.1 which is incompatible.\n",
            "tensorflow 2.12.0 requires numpy<1.24,>=1.22, but you have numpy 1.24.4 which is incompatible.\n",
            "tf-keras 2.17.0 requires tensorflow<2.18,>=2.17, but you have tensorflow 2.12.0 which is incompatible.\n",
            "thinc 9.1.1 requires numpy<3.0.0,>=2.0.0, but you have numpy 1.24.4 which is incompatible.\u001b[0m\u001b[31m\n",
            "\u001b[0mSuccessfully installed numpy-1.24.4\n"
          ]
        }
      ]
    },
    {
      "cell_type": "code",
      "source": [
        "import pandas as pd\n",
        "import nltk\n",
        "from nltk.tokenize import word_tokenize\n",
        "from nltk.corpus import stopwords\n",
        "\n",
        "# Combine Title and Description\n",
        "df['text'] = df['Title'].fillna('') + \" \" + df['Description'].fillna('')\n",
        "\n",
        "# Lowercase\n",
        "df['text'] = df['text'].str.lower()\n",
        "\n",
        "# Remove punctuation and special characters\n",
        "df['text'] = df['text'].str.replace(r'[^a-z\\s]', '', regex=True)\n",
        "\n",
        "# Tokenization\n",
        "nltk.download('punkt')\n",
        "# Ensure that the text is a string before tokenization\n",
        "df['tokens'] = df['text'].apply(lambda x: word_tokenize(x) if isinstance(x, str) else [])\n",
        "\n",
        "# Remove stop words\n",
        "nltk.download('stopwords')\n",
        "stop_words = set(stopwords.words('english'))\n",
        "df['tokens'] = df['tokens'].apply(lambda x: [word for word in x if word not in stop_words])\n",
        "\n",
        "# Join tokens back to strings\n",
        "df['cleaned_text'] = df['tokens'].apply(lambda x: ' '.join(x))\n",
        "\n",
        "# Prepare documents for BERTopic\n",
        "docs = df['cleaned_text'].tolist()\n",
        "\n",
        "# Optional: Display the cleaned DataFrame\n",
        "print(df[['Title', 'Description', 'cleaned_text']].head())\n"
      ],
      "metadata": {
        "colab": {
          "base_uri": "https://localhost:8080/"
        },
        "id": "32ONGKXryhPm",
        "outputId": "7b93725c-fa10-49ce-f97d-b2742ba8b0c6"
      },
      "execution_count": null,
      "outputs": [
        {
          "output_type": "stream",
          "name": "stderr",
          "text": [
            "[nltk_data] Downloading package punkt to /root/nltk_data...\n",
            "[nltk_data]   Package punkt is already up-to-date!\n"
          ]
        },
        {
          "output_type": "stream",
          "name": "stdout",
          "text": [
            "                                   Title  \\\n",
            "0                   A Light in the Attic   \n",
            "1                     Tipping the Velvet   \n",
            "2                             Soumission   \n",
            "3                          Sharp Objects   \n",
            "4  Sapiens: A Brief History of Humankind   \n",
            "\n",
            "                                         Description  \\\n",
            "0  It's hard to imagine a world without A Light i...   \n",
            "1  \"Erotic and absorbing...Written with starling ...   \n",
            "2  Dans une France assez proche de la nôtre, un h...   \n",
            "3  WICKED above her hipbone, GIRL across her hear...   \n",
            "4  From a renowned historian comes a groundbreaki...   \n",
            "\n",
            "                                        cleaned_text  \n",
            "0  light attic hard imagine world without light a...  \n",
            "1  tipping velvet erotic absorbingwritten starlin...  \n",
            "2  soumission dans une france assez proche de la ...  \n",
            "3  sharp objects wicked hipbone girl across heart...  \n",
            "4  sapiens brief history humankind renowned histo...  \n"
          ]
        },
        {
          "output_type": "stream",
          "name": "stderr",
          "text": [
            "[nltk_data] Downloading package stopwords to /root/nltk_data...\n",
            "[nltk_data]   Package stopwords is already up-to-date!\n"
          ]
        }
      ]
    },
    {
      "cell_type": "code",
      "source": [
        "df.size"
      ],
      "metadata": {
        "colab": {
          "base_uri": "https://localhost:8080/"
        },
        "id": "dcdJqnK3u_x-",
        "outputId": "23d49c4a-9ada-4aff-b59c-c13a91effbda"
      },
      "execution_count": null,
      "outputs": [
        {
          "output_type": "execute_result",
          "data": {
            "text/plain": [
              "5000"
            ]
          },
          "metadata": {},
          "execution_count": 22
        }
      ]
    },
    {
      "cell_type": "code",
      "source": [
        "from sklearn.datasets import fetch_20newsgroups\n",
        "docs = fetch_20newsgroups(subset='all',  remove=('headers', 'footers', 'quotes'))['data']"
      ],
      "metadata": {
        "id": "mNVl8Vafv6Qh"
      },
      "execution_count": null,
      "outputs": []
    },
    {
      "cell_type": "code",
      "source": [
        "print(docs)"
      ],
      "metadata": {
        "colab": {
          "base_uri": "https://localhost:8080/"
        },
        "id": "-Kyjmm5uv9iu",
        "outputId": "db5a3d61-044a-4ba1-85ac-27fcecca6b31"
      },
      "execution_count": null,
      "outputs": [
        {
          "output_type": "stream",
          "name": "stdout",
          "text": [
            "['light attic hard imagine world without light attic nowclassic collection poetry drawing shel silverstein celebrates th anniversary special edition silverstein humorous creative verse amuse dowdiest reader lemonfaced adult fidgety kid sit still read rhythmic word laugh smile love th hard imagine world without light attic nowclassic collection poetry drawing shel silverstein celebrates th anniversary special edition silverstein humorous creative verse amuse dowdiest reader lemonfaced adult fidgety kid sit still read rhythmic word laugh smile love silverstein need proof genius rockabyerockabye baby treetopdont know treetopis safe place rockand put thereand cradle toobaby think someone heresgot shel never sounded good', 'tipping velvet erotic absorbingwritten starling powerthe new york time book review nan king oyster girl captivated music hall phenomenon kitty butler male impersonator extraordinaire treading board canterbury friend box office nan manages visit show finally meet heroine soon becomes kitty erotic absorbingwritten starling powerthe new york time book review nan king oyster girl captivated music hall phenomenon kitty butler male impersonator extraordinaire treading board canterbury friend box office nan manages visit show finally meet heroine soon becomes kitty dresser two head bright light leicester square begin glittering career musichall star allsinging dancing double act time behind closed door admit attraction affair begin', 'soumission dans une france assez proche de la ntre un homme sengage dans la carrire universitaire peu motiv par lenseignement il sattend une vie ennuyeuse mais calme protge de grand drames historiques cependant le force en jeu dans le pay ont fissur le systme politique jusqu provoquer son effondrement cette implosion sans soubresauts sans vraie rvolution dans une france assez proche de la ntre un homme sengage dans la carrire universitaire peu motiv par lenseignement il sattend une vie ennuyeuse mais calme protge de grand drames historiques cependant le force en jeu dans le pay ont fissur le systme politique jusqu provoquer son effondrement cette implosion sans soubresauts sans vraie rvolution se dveloppe comme un mauvais rvele talent de lauteur sa force visionnaire nous entranent sur un terrain ambigu et glissant son regard sur notre civilisation vieillissante fait coexister dans ce roman le intuition potiques le effets comiques une mlancolie fatalistece livre est une saisissante fable politique et morale', 'sharp object wicked hipbone girl across heart word like road map reporter camille preakers troubled past fresh brief stay psych hospital camilles first assignment secondrate daily paper work brings reluctantly back hometown cover murder two preteen girl nasty kneecap babydoll leg since wicked hipbone girl across heart word like road map reporter camille preakers troubled past fresh brief stay psych hospital camilles first assignment secondrate daily paper work brings reluctantly back hometown cover murder two preteen girl nasty kneecap babydoll leg since left town eight year ago camille hardly spoken neurotic hypochondriac mother halfsister barely know beautiful thirteenyearold eerie grip town installed family victorian mansion camille haunted childhood tragedy spent whole life trying cut memory harmful wrist whore ankle camille work uncover truth violent crime find identifying young victimsa bit strongly clue keep leading dead end forcing camille unravel psychological puzzle past get story dogged demon camille confront happened year want survive homecomingwith taut crafted writing sharp object addictive haunting unforgettable', 'sapiens brief history humankind renowned historian come groundbreaking narrative humanity creation evolutiona international bestsellerthat explores way biology history defined u enhanced understanding mean humanone hundred thousand year ago least six different specie human inhabited earth yet today oneh renowned historian come groundbreaking narrative humanity creation evolutiona international bestsellerthat explores way biology history defined u enhanced understanding mean humanone hundred thousand year ago least six different specie human inhabited earth yet today onehomo sapiens happened others may happen usmost book history humanity pursue either historical biological approach dr yuval noah harari break mold highly original book begin year ago appearance modern cognition examining role evolving human played global ecosystem charting rise empire sapiens integrates history science reconsider accepted narrative connect past development contemporary concern examine specific event within context larger ideasdr harari also compels u look ahead last decade human begun bend law natural selection governed life past four billion year acquiring ability design world around u also leading u want becomefeaturing photograph map illustrationsdiagrams provocative insightful work sure spark debate essential reading aficionado jared diamond james gleick matt ridley robert wright sharon moalem', 'requiem red patient twentyninea monster roams hall soothing hill asylum three girl dead endowed curseor gift perception hears message music see lyric painting corn lifetime asylum resident orchestral corn music constant lifemason new kind orderly see woman lunatic bel patient twentyninea monster roams hall soothing hill asylum three girl dead endowed curseor gift perception hears message music see lyric painting corn lifetime asylum resident orchestral corn music constant lifemason new kind orderly see woman lunatic belief grows self confidence perhaps might escape might see outside world monster plan missing girl share one common threadeach twentynines cell mate next', 'dirty little secret getting dream job drawing extensive experience evaluating applicant marketing agency featuring story based reallife situation sample cover letter resume straightforward advice raskins dirty little secret getting dream job offer necessary tool navigating tough job market securing dream jobdon raskin owns drawing extensive experience evaluating applicant marketing agency featuring story based reallife situation sample cover letter resume straightforward advice raskins dirty little secret getting dream job offer necessary tool navigating tough job market securing dream jobdon raskin owns operates mme advertising marketing agency new york city twentyfive year agency interviewed hundred new college graduate position within agency placed strong emphasis entrylevel recruitment position creative account management traffic production raskin also mentored countless student parent best practice job search year raskin kept exceptionally detailed note interview conducted observing good bad ridiculous irreverent also treasure trove overthetop cover letter resume interview post interview followup conducted received want share wisdom insider secret gathered help student firsttime job seeker find job economybased remarkable expertise raskins book provides exclusive insight job search process let reader dirty little secret landing first jobor new oneand finding career success', 'coming woman novel based life infamous feminist victoria woodhull heart soul karen hick coming woman make fall love victoria woodhullkinky friedman author governor heart texas kind confidence would take woman buck old boy club politics year prehillary victoria woodhull book take back heart soul karen hick coming woman make fall love victoria woodhullkinky friedman author governor heart texas kind confidence would take woman buck old boy club politics year prehillary victoria woodhull book take back breathtaking presenttense bird eye view time woman liberation primarily confined one woman capable independent mind couldnt put downruth buzzi golden globe award winner television hall fame inducteesadly many american never heard victoria woodhull let alone learned story revolutionary campaign presidency time woman werent even allowed vote support worker right feminist commitment equality century official battle equal right amendment coming woman karen hick brings woodhull effort life reminds u nation greatest figure arent always featured history book riveting account amazing woman struggle justice human dignity told engaging eminently readable styletim wise author white like reflection race privileged sonthe coming woman novel based life feminist victoria woodhull first woman run u president year woman could even voterunning president wasnt victoria first woman also first successful wall street firm first publish successful national newspaper first head twomillionmember spiritualist association first woman enter senate judiciary committee chamber petition woman suffrage argument changing entire focus suffragist movement pointing th th amendment already gave woman votein campaign presidency victoria woodhull boldly addressed many issue still face today equal pay equal work freedom love corporate greed political corruption fueled powerful lobbyist increasing disparity rich poor name outspoken commonsense idea may shed new perspective parallel conundrum today worldthis bold beautiful sexually progressive woman dared take society religion make example hypocrisy mark twain dubbed gilded age exposed extramarital affair popular religious figure day henry ward beecher led persecution imprisonment longest infamous trial th century stop fight equalityvictorias epic story set late come life modern fictional style staying true actual word view many wellknown character', 'boy boat nine american epic quest gold berlin olympics reader laura hillenbrands seabiscuit unbroken dramatic story american rowing team stunned world hitler berlin olympics daniel james brown robust book tell story university washington eightoar crew epic quest olympic gold medal team transformed sport grabbed attention reader laura hillenbrands seabiscuit unbroken dramatic story american rowing team stunned world hitler berlin olympics daniel james brown robust book tell story university washington eightoar crew epic quest olympic gold medal team transformed sport grabbed attention million american son logger shipyard worker farmer boy defeated elite rival first eastern british university finally german crew rowing adolf hitler olympic game berlin emotional heart story lie one rower joe rantz teenager without family prospect row glory regain shattered selfregard find place call home crew assembled enigmatic coach mentored visionary eccentric british boat builder trust make victorious team remind country done everyone quite literally pull togethera perfect melding commitment determination optimism drawing boy diary journal photo memory onceinalifetime shared dream boy boat irresistible story beating odds finding hope desperate timesthe improbable intimate story nine workingclass boy american west depth great depression showed world true grit really meant appeal reader erik larson timothy egan james bradley david halberstams amateur', 'black maria praise aracelis girmaygirmays every lossshe call estrangementsis yearning connection across time place every fragment bulwark ruin oprah magazine aracelis girmay poet collect polish share story brilliant invention tenderness intellectual liveliness understandabl praise aracelis girmaygirmays every lossshe call estrangementsis yearning connection across time place every fragment bulwark ruin oprah magazine aracelis girmay poet collect polish share story brilliant invention tenderness intellectual liveliness understandable think blessed curator collective history art vulnerability one life inside story gather remarkable collection poem set alarm even transform world inhabits showing u process exactly asks romare beardens art assign blackness near sea captivity one many sweet contradiction black maria black flag wounding pastoral deeply thankful poet unique singular talent writing today kwame dawestaking name moon dark plain misidentified sea early astronomer black maria investigates african diasporic history consequence racism within american culture question human identity central project desire recognize life eritrean refugee made invisible year immigration crisis refugee status exile resulting statelessness recipient whiting award poetry girmays newest collection elegizes celebrates life wrestling humanistic notion seeing beyond seeing violence seeing grace seeing betterto seagreat storage house historyon rode touchedthe brief pulse flutteringpages spelled salt lifeyour rage indifferenceyour gentleness washing feetall going onwhether liveto bring carnationsyellow pink floatlike bright sentence atopyour memory dark hairaracelis girmay author three poetry collection black maria kingdom animalia isabella gardner award finalist nbcc award teeth recipient whiting award received grant fellowship jerome cave canem watson foundation well civitella ranieri nea currently teach hampshire college school interdisciplinary art drew university low residency mfa program originally santa ana california split time new york amherst massachusetts']\n"
          ]
        }
      ]
    },
    {
      "cell_type": "code",
      "execution_count": null,
      "metadata": {
        "id": "b4HoWK-i70ng",
        "colab": {
          "base_uri": "https://localhost:8080/",
          "height": 194,
          "referenced_widgets": [
            "86ce5ecf130c42c288989be0586c1545",
            "6eb809efe2a8454484730d99660f3724",
            "36e1421dbe6e4a849da9d06787123f1c",
            "9c517670444d43529b970ece083b3d30",
            "b8feb2b11d6f4f2faed82c53c9b5c752",
            "26663c6f0f8545158f404f88893bf727",
            "f75073ffb37b45ccb28e90cffc03b300",
            "d7ab23febb504ac69dff9ad4bf20344e",
            "cb43f192088c42bfa4cc307100f182a1",
            "59499837f2cf4d1db75ba9c59505c017",
            "41d2a2ff5064436ba98fb0f53e592708"
          ]
        },
        "outputId": "74b7dd94-3a58-47fc-a40f-f1f18ea23be2"
      },
      "outputs": [
        {
          "output_type": "stream",
          "name": "stderr",
          "text": [
            "2024-11-02 04:05:37,058 - BERTopic - Embedding - Transforming documents to embeddings.\n"
          ]
        },
        {
          "output_type": "display_data",
          "data": {
            "text/plain": [
              "Batches:   0%|          | 0/32 [00:00<?, ?it/s]"
            ],
            "application/vnd.jupyter.widget-view+json": {
              "version_major": 2,
              "version_minor": 0,
              "model_id": "86ce5ecf130c42c288989be0586c1545"
            }
          },
          "metadata": {}
        },
        {
          "output_type": "stream",
          "name": "stderr",
          "text": [
            "2024-11-02 04:07:31,872 - BERTopic - Embedding - Completed ✓\n",
            "2024-11-02 04:07:31,875 - BERTopic - Dimensionality - Fitting the dimensionality reduction algorithm\n",
            "2024-11-02 04:07:34,989 - BERTopic - Dimensionality - Completed ✓\n",
            "2024-11-02 04:07:34,993 - BERTopic - Cluster - Start clustering the reduced embeddings\n",
            "2024-11-02 04:07:35,110 - BERTopic - Cluster - Completed ✓\n",
            "2024-11-02 04:07:35,119 - BERTopic - Representation - Extracting topics from clusters using representation models.\n",
            "2024-11-02 04:07:35,481 - BERTopic - Representation - Completed ✓\n"
          ]
        }
      ],
      "source": [
        "\n",
        "import pandas as pd\n",
        "from bertopic import BERTopic\n",
        "\n",
        "\n",
        "# Initialize BERTopic model\n",
        "topic_model = BERTopic(language=\"english\", calculate_probabilities=True, verbose=True)\n",
        "\n",
        "# Fit the model on the documents\n",
        "topics, probs = topic_model.fit_transform(docs)"
      ]
    },
    {
      "cell_type": "code",
      "source": [
        "topic_model.get_topic_info()"
      ],
      "metadata": {
        "colab": {
          "base_uri": "https://localhost:8080/",
          "height": 112
        },
        "id": "_uaAYTcJwejM",
        "outputId": "305caf94-fa27-4f7b-e44a-7e7acc062e17"
      },
      "execution_count": null,
      "outputs": [
        {
          "output_type": "execute_result",
          "data": {
            "text/plain": [
              "   Topic  Count                             Name  \\\n",
              "0      0    960             0_new_one_life_world   \n",
              "1      1     40  1_recipes_cookbook_food_cooking   \n",
              "\n",
              "                                      Representation  \\\n",
              "0  [new, one, life, world, love, book, story, tim...   \n",
              "1  [recipes, cookbook, food, cooking, ingredients...   \n",
              "\n",
              "                                 Representative_Docs  \n",
              "0  [born find work meant outside observer seems l...  \n",
              "1  [smitten kitchen cookbook longawaited cookbook...  "
            ],
            "text/html": [
              "\n",
              "  <div id=\"df-07636f07-6ab4-473d-9961-bc6ca69bd614\" class=\"colab-df-container\">\n",
              "    <div>\n",
              "<style scoped>\n",
              "    .dataframe tbody tr th:only-of-type {\n",
              "        vertical-align: middle;\n",
              "    }\n",
              "\n",
              "    .dataframe tbody tr th {\n",
              "        vertical-align: top;\n",
              "    }\n",
              "\n",
              "    .dataframe thead th {\n",
              "        text-align: right;\n",
              "    }\n",
              "</style>\n",
              "<table border=\"1\" class=\"dataframe\">\n",
              "  <thead>\n",
              "    <tr style=\"text-align: right;\">\n",
              "      <th></th>\n",
              "      <th>Topic</th>\n",
              "      <th>Count</th>\n",
              "      <th>Name</th>\n",
              "      <th>Representation</th>\n",
              "      <th>Representative_Docs</th>\n",
              "    </tr>\n",
              "  </thead>\n",
              "  <tbody>\n",
              "    <tr>\n",
              "      <th>0</th>\n",
              "      <td>0</td>\n",
              "      <td>960</td>\n",
              "      <td>0_new_one_life_world</td>\n",
              "      <td>[new, one, life, world, love, book, story, tim...</td>\n",
              "      <td>[born find work meant outside observer seems l...</td>\n",
              "    </tr>\n",
              "    <tr>\n",
              "      <th>1</th>\n",
              "      <td>1</td>\n",
              "      <td>40</td>\n",
              "      <td>1_recipes_cookbook_food_cooking</td>\n",
              "      <td>[recipes, cookbook, food, cooking, ingredients...</td>\n",
              "      <td>[smitten kitchen cookbook longawaited cookbook...</td>\n",
              "    </tr>\n",
              "  </tbody>\n",
              "</table>\n",
              "</div>\n",
              "    <div class=\"colab-df-buttons\">\n",
              "\n",
              "  <div class=\"colab-df-container\">\n",
              "    <button class=\"colab-df-convert\" onclick=\"convertToInteractive('df-07636f07-6ab4-473d-9961-bc6ca69bd614')\"\n",
              "            title=\"Convert this dataframe to an interactive table.\"\n",
              "            style=\"display:none;\">\n",
              "\n",
              "  <svg xmlns=\"http://www.w3.org/2000/svg\" height=\"24px\" viewBox=\"0 -960 960 960\">\n",
              "    <path d=\"M120-120v-720h720v720H120Zm60-500h600v-160H180v160Zm220 220h160v-160H400v160Zm0 220h160v-160H400v160ZM180-400h160v-160H180v160Zm440 0h160v-160H620v160ZM180-180h160v-160H180v160Zm440 0h160v-160H620v160Z\"/>\n",
              "  </svg>\n",
              "    </button>\n",
              "\n",
              "  <style>\n",
              "    .colab-df-container {\n",
              "      display:flex;\n",
              "      gap: 12px;\n",
              "    }\n",
              "\n",
              "    .colab-df-convert {\n",
              "      background-color: #E8F0FE;\n",
              "      border: none;\n",
              "      border-radius: 50%;\n",
              "      cursor: pointer;\n",
              "      display: none;\n",
              "      fill: #1967D2;\n",
              "      height: 32px;\n",
              "      padding: 0 0 0 0;\n",
              "      width: 32px;\n",
              "    }\n",
              "\n",
              "    .colab-df-convert:hover {\n",
              "      background-color: #E2EBFA;\n",
              "      box-shadow: 0px 1px 2px rgba(60, 64, 67, 0.3), 0px 1px 3px 1px rgba(60, 64, 67, 0.15);\n",
              "      fill: #174EA6;\n",
              "    }\n",
              "\n",
              "    .colab-df-buttons div {\n",
              "      margin-bottom: 4px;\n",
              "    }\n",
              "\n",
              "    [theme=dark] .colab-df-convert {\n",
              "      background-color: #3B4455;\n",
              "      fill: #D2E3FC;\n",
              "    }\n",
              "\n",
              "    [theme=dark] .colab-df-convert:hover {\n",
              "      background-color: #434B5C;\n",
              "      box-shadow: 0px 1px 3px 1px rgba(0, 0, 0, 0.15);\n",
              "      filter: drop-shadow(0px 1px 2px rgba(0, 0, 0, 0.3));\n",
              "      fill: #FFFFFF;\n",
              "    }\n",
              "  </style>\n",
              "\n",
              "    <script>\n",
              "      const buttonEl =\n",
              "        document.querySelector('#df-07636f07-6ab4-473d-9961-bc6ca69bd614 button.colab-df-convert');\n",
              "      buttonEl.style.display =\n",
              "        google.colab.kernel.accessAllowed ? 'block' : 'none';\n",
              "\n",
              "      async function convertToInteractive(key) {\n",
              "        const element = document.querySelector('#df-07636f07-6ab4-473d-9961-bc6ca69bd614');\n",
              "        const dataTable =\n",
              "          await google.colab.kernel.invokeFunction('convertToInteractive',\n",
              "                                                    [key], {});\n",
              "        if (!dataTable) return;\n",
              "\n",
              "        const docLinkHtml = 'Like what you see? Visit the ' +\n",
              "          '<a target=\"_blank\" href=https://colab.research.google.com/notebooks/data_table.ipynb>data table notebook</a>'\n",
              "          + ' to learn more about interactive tables.';\n",
              "        element.innerHTML = '';\n",
              "        dataTable['output_type'] = 'display_data';\n",
              "        await google.colab.output.renderOutput(dataTable, element);\n",
              "        const docLink = document.createElement('div');\n",
              "        docLink.innerHTML = docLinkHtml;\n",
              "        element.appendChild(docLink);\n",
              "      }\n",
              "    </script>\n",
              "  </div>\n",
              "\n",
              "\n",
              "<div id=\"df-da585d67-0f97-40c1-993c-119ad45159dc\">\n",
              "  <button class=\"colab-df-quickchart\" onclick=\"quickchart('df-da585d67-0f97-40c1-993c-119ad45159dc')\"\n",
              "            title=\"Suggest charts\"\n",
              "            style=\"display:none;\">\n",
              "\n",
              "<svg xmlns=\"http://www.w3.org/2000/svg\" height=\"24px\"viewBox=\"0 0 24 24\"\n",
              "     width=\"24px\">\n",
              "    <g>\n",
              "        <path d=\"M19 3H5c-1.1 0-2 .9-2 2v14c0 1.1.9 2 2 2h14c1.1 0 2-.9 2-2V5c0-1.1-.9-2-2-2zM9 17H7v-7h2v7zm4 0h-2V7h2v10zm4 0h-2v-4h2v4z\"/>\n",
              "    </g>\n",
              "</svg>\n",
              "  </button>\n",
              "\n",
              "<style>\n",
              "  .colab-df-quickchart {\n",
              "      --bg-color: #E8F0FE;\n",
              "      --fill-color: #1967D2;\n",
              "      --hover-bg-color: #E2EBFA;\n",
              "      --hover-fill-color: #174EA6;\n",
              "      --disabled-fill-color: #AAA;\n",
              "      --disabled-bg-color: #DDD;\n",
              "  }\n",
              "\n",
              "  [theme=dark] .colab-df-quickchart {\n",
              "      --bg-color: #3B4455;\n",
              "      --fill-color: #D2E3FC;\n",
              "      --hover-bg-color: #434B5C;\n",
              "      --hover-fill-color: #FFFFFF;\n",
              "      --disabled-bg-color: #3B4455;\n",
              "      --disabled-fill-color: #666;\n",
              "  }\n",
              "\n",
              "  .colab-df-quickchart {\n",
              "    background-color: var(--bg-color);\n",
              "    border: none;\n",
              "    border-radius: 50%;\n",
              "    cursor: pointer;\n",
              "    display: none;\n",
              "    fill: var(--fill-color);\n",
              "    height: 32px;\n",
              "    padding: 0;\n",
              "    width: 32px;\n",
              "  }\n",
              "\n",
              "  .colab-df-quickchart:hover {\n",
              "    background-color: var(--hover-bg-color);\n",
              "    box-shadow: 0 1px 2px rgba(60, 64, 67, 0.3), 0 1px 3px 1px rgba(60, 64, 67, 0.15);\n",
              "    fill: var(--button-hover-fill-color);\n",
              "  }\n",
              "\n",
              "  .colab-df-quickchart-complete:disabled,\n",
              "  .colab-df-quickchart-complete:disabled:hover {\n",
              "    background-color: var(--disabled-bg-color);\n",
              "    fill: var(--disabled-fill-color);\n",
              "    box-shadow: none;\n",
              "  }\n",
              "\n",
              "  .colab-df-spinner {\n",
              "    border: 2px solid var(--fill-color);\n",
              "    border-color: transparent;\n",
              "    border-bottom-color: var(--fill-color);\n",
              "    animation:\n",
              "      spin 1s steps(1) infinite;\n",
              "  }\n",
              "\n",
              "  @keyframes spin {\n",
              "    0% {\n",
              "      border-color: transparent;\n",
              "      border-bottom-color: var(--fill-color);\n",
              "      border-left-color: var(--fill-color);\n",
              "    }\n",
              "    20% {\n",
              "      border-color: transparent;\n",
              "      border-left-color: var(--fill-color);\n",
              "      border-top-color: var(--fill-color);\n",
              "    }\n",
              "    30% {\n",
              "      border-color: transparent;\n",
              "      border-left-color: var(--fill-color);\n",
              "      border-top-color: var(--fill-color);\n",
              "      border-right-color: var(--fill-color);\n",
              "    }\n",
              "    40% {\n",
              "      border-color: transparent;\n",
              "      border-right-color: var(--fill-color);\n",
              "      border-top-color: var(--fill-color);\n",
              "    }\n",
              "    60% {\n",
              "      border-color: transparent;\n",
              "      border-right-color: var(--fill-color);\n",
              "    }\n",
              "    80% {\n",
              "      border-color: transparent;\n",
              "      border-right-color: var(--fill-color);\n",
              "      border-bottom-color: var(--fill-color);\n",
              "    }\n",
              "    90% {\n",
              "      border-color: transparent;\n",
              "      border-bottom-color: var(--fill-color);\n",
              "    }\n",
              "  }\n",
              "</style>\n",
              "\n",
              "  <script>\n",
              "    async function quickchart(key) {\n",
              "      const quickchartButtonEl =\n",
              "        document.querySelector('#' + key + ' button');\n",
              "      quickchartButtonEl.disabled = true;  // To prevent multiple clicks.\n",
              "      quickchartButtonEl.classList.add('colab-df-spinner');\n",
              "      try {\n",
              "        const charts = await google.colab.kernel.invokeFunction(\n",
              "            'suggestCharts', [key], {});\n",
              "      } catch (error) {\n",
              "        console.error('Error during call to suggestCharts:', error);\n",
              "      }\n",
              "      quickchartButtonEl.classList.remove('colab-df-spinner');\n",
              "      quickchartButtonEl.classList.add('colab-df-quickchart-complete');\n",
              "    }\n",
              "    (() => {\n",
              "      let quickchartButtonEl =\n",
              "        document.querySelector('#df-da585d67-0f97-40c1-993c-119ad45159dc button');\n",
              "      quickchartButtonEl.style.display =\n",
              "        google.colab.kernel.accessAllowed ? 'block' : 'none';\n",
              "    })();\n",
              "  </script>\n",
              "</div>\n",
              "\n",
              "    </div>\n",
              "  </div>\n"
            ],
            "application/vnd.google.colaboratory.intrinsic+json": {
              "type": "dataframe",
              "summary": "{\n  \"name\": \"topic_model\",\n  \"rows\": 2,\n  \"fields\": [\n    {\n      \"column\": \"Topic\",\n      \"properties\": {\n        \"dtype\": \"number\",\n        \"std\": 0,\n        \"min\": 0,\n        \"max\": 1,\n        \"num_unique_values\": 2,\n        \"samples\": [\n          1,\n          0\n        ],\n        \"semantic_type\": \"\",\n        \"description\": \"\"\n      }\n    },\n    {\n      \"column\": \"Count\",\n      \"properties\": {\n        \"dtype\": \"number\",\n        \"std\": 650,\n        \"min\": 40,\n        \"max\": 960,\n        \"num_unique_values\": 2,\n        \"samples\": [\n          40,\n          960\n        ],\n        \"semantic_type\": \"\",\n        \"description\": \"\"\n      }\n    },\n    {\n      \"column\": \"Name\",\n      \"properties\": {\n        \"dtype\": \"string\",\n        \"num_unique_values\": 2,\n        \"samples\": [\n          \"1_recipes_cookbook_food_cooking\",\n          \"0_new_one_life_world\"\n        ],\n        \"semantic_type\": \"\",\n        \"description\": \"\"\n      }\n    },\n    {\n      \"column\": \"Representation\",\n      \"properties\": {\n        \"dtype\": \"object\",\n        \"semantic_type\": \"\",\n        \"description\": \"\"\n      }\n    },\n    {\n      \"column\": \"Representative_Docs\",\n      \"properties\": {\n        \"dtype\": \"object\",\n        \"semantic_type\": \"\",\n        \"description\": \"\"\n      }\n    }\n  ]\n}"
            }
          },
          "metadata": {},
          "execution_count": 32
        }
      ]
    },
    {
      "cell_type": "code",
      "source": [
        "\n",
        "# Get the most frequent topic\n",
        "print(topic_model.get_topic(0))\n",
        "\n",
        "# View the first 10 topics\n",
        "print(topic_model.topics_[:10])\n"
      ],
      "metadata": {
        "colab": {
          "base_uri": "https://localhost:8080/"
        },
        "id": "wGu3bl8lw09P",
        "outputId": "8271e089-b471-48fa-cba1-30d868710442"
      },
      "execution_count": null,
      "outputs": [
        {
          "output_type": "stream",
          "name": "stdout",
          "text": [
            "[('new', 0.02963914566995714), ('one', 0.02878364138483154), ('life', 0.02599497653201324), ('world', 0.02076746458424174), ('love', 0.019001077652962967), ('book', 0.018494455706161556), ('story', 0.01629618537893359), ('time', 0.015475199805663016), ('years', 0.014929962885303493), ('first', 0.01472728136212348)]\n",
            "[0, 0, 0, 0, 0, 0, 0, 0, 0, 0]\n"
          ]
        }
      ]
    },
    {
      "cell_type": "code",
      "source": [
        "print(\"Generated Topics:\", topic_model.topics_)\n"
      ],
      "metadata": {
        "colab": {
          "base_uri": "https://localhost:8080/"
        },
        "id": "7dg35h6XnD8b",
        "outputId": "a40330d9-436a-4066-bd79-1fa19115e304"
      },
      "execution_count": null,
      "outputs": [
        {
          "output_type": "stream",
          "name": "stdout",
          "text": [
            "Generated Topics: [0, 0, 0, 0, 0, 0, 0, 0, 0, 0, 0, 0, 0, 0, 0, 0, 0, 0, 0, 0, 0, 0, 1, 0, 0, 0, 0, 0, 0, 0, 0, 0, 0, 0, 0, 0, 0, 0, 0, 0, 0, 0, 0, 0, 0, 0, 0, 0, 0, 0, 0, 0, 0, 0, 0, 0, 0, 1, 0, 0, 0, 0, 0, 0, 0, 0, 0, 0, 0, 1, 0, 0, 0, 0, 0, 0, 0, 0, 0, 0, 0, 0, 0, 0, 0, 0, 0, 0, 0, 0, 1, 0, 1, 0, 0, 0, 1, 0, 0, 0, 0, 0, 0, 0, 0, 0, 0, 0, 0, 0, 0, 0, 0, 0, 0, 0, 0, 0, 0, 0, 0, 1, 0, 0, 0, 0, 0, 0, 0, 0, 0, 0, 0, 0, 0, 0, 0, 0, 0, 0, 0, 0, 0, 0, 0, 0, 1, 1, 0, 0, 0, 1, 0, 0, 0, 0, 0, 0, 0, 1, 0, 0, 0, 0, 0, 0, 0, 0, 0, 1, 0, 0, 0, 0, 0, 0, 0, 0, 0, 0, 0, 0, 0, 0, 0, 0, 0, 0, 0, 0, 0, 0, 0, 0, 0, 0, 0, 0, 0, 1, 0, 0, 0, 0, 0, 0, 0, 0, 0, 0, 0, 0, 0, 0, 0, 0, 0, 0, 0, 0, 0, 0, 0, 0, 0, 0, 0, 0, 0, 0, 0, 0, 0, 0, 0, 0, 0, 0, 0, 0, 0, 0, 0, 0, 0, 0, 0, 0, 0, 1, 0, 0, 0, 0, 0, 0, 0, 0, 0, 0, 0, 0, 0, 0, 0, 0, 0, 0, 0, 0, 0, 0, 0, 0, 0, 0, 0, 0, 0, 0, 0, 0, 0, 0, 0, 0, 0, 0, 0, 0, 0, 0, 0, 0, 1, 0, 0, 0, 0, 0, 0, 0, 0, 0, 0, 0, 0, 0, 0, 0, 0, 1, 1, 0, 0, 0, 0, 0, 0, 0, 0, 0, 0, 0, 0, 0, 0, 0, 0, 0, 0, 0, 0, 1, 1, 0, 0, 0, 0, 0, 0, 0, 0, 0, 0, 0, 0, 0, 0, 0, 0, 0, 0, 0, 1, 0, 0, 0, 0, 0, 0, 0, 0, 0, 0, 0, 0, 0, 0, 0, 0, 0, 0, 0, 0, 0, 0, 0, 0, 0, 0, 0, 1, 0, 0, 0, 0, 0, 0, 1, 0, 0, 0, 0, 0, 0, 0, 0, 0, 0, 0, 0, 0, 0, 0, 0, 0, 0, 0, 0, 0, 1, 0, 0, 0, 0, 0, 0, 0, 1, 0, 0, 0, 0, 0, 0, 1, 0, 0, 0, 1, 0, 0, 0, 0, 0, 0, 0, 0, 0, 0, 0, 0, 0, 0, 0, 0, 0, 0, 0, 0, 0, 0, 0, 0, 0, 0, 0, 0, 0, 0, 0, 0, 0, 0, 0, 0, 0, 0, 0, 0, 0, 0, 0, 0, 0, 0, 0, 0, 0, 0, 0, 0, 0, 0, 0, 0, 0, 0, 0, 1, 0, 0, 0, 0, 0, 0, 0, 0, 0, 0, 0, 0, 0, 0, 0, 0, 0, 0, 0, 0, 0, 0, 0, 0, 0, 0, 0, 0, 0, 0, 1, 0, 0, 0, 0, 0, 0, 0, 1, 1, 0, 0, 0, 0, 0, 0, 0, 0, 0, 0, 0, 0, 0, 0, 0, 0, 0, 0, 0, 0, 1, 0, 0, 0, 0, 0, 0, 0, 0, 1, 0, 0, 0, 0, 0, 0, 0, 0, 0, 0, 0, 0, 0, 0, 0, 0, 1, 0, 0, 0, 0, 0, 0, 0, 0, 0, 0, 0, 0, 1, 0, 0, 0, 0, 0, 0, 0, 0, 0, 0, 0, 0, 0, 0, 0, 0, 0, 0, 0, 0, 0, 0, 1, 0, 0, 0, 0, 0, 0, 0, 0, 0, 0, 0, 0, 0, 0, 0, 0, 0, 0, 0, 0, 0, 0, 0, 0, 0, 0, 0, 0, 0, 0, 0, 0, 0, 0, 0, 0, 0, 0, 0, 0, 0, 0, 0, 0, 0, 0, 0, 0, 0, 0, 0, 0, 0, 0, 0, 0, 0, 0, 0, 0, 0, 0, 0, 0, 0, 0, 0, 0, 0, 0, 0, 0, 0, 0, 0, 0, 0, 0, 0, 0, 0, 0, 0, 0, 0, 0, 0, 0, 0, 1, 0, 0, 0, 0, 0, 0, 0, 0, 0, 0, 0, 0, 0, 0, 0, 1, 0, 0, 0, 0, 0, 0, 0, 0, 0, 0, 0, 0, 0, 0, 0, 0, 0, 0, 0, 0, 0, 0, 0, 0, 0, 0, 0, 0, 0, 0, 0, 0, 0, 0, 0, 0, 0, 0, 0, 0, 0, 0, 0, 0, 0, 0, 0, 0, 0, 0, 0, 1, 0, 0, 0, 0, 0, 0, 0, 0, 0, 0, 0, 0, 0, 0, 0, 0, 0, 0, 0, 0, 0, 0, 0, 0, 0, 0, 0, 0, 0, 0, 0, 0, 0, 0, 0, 0, 0, 0, 0, 0, 0, 0, 0, 0, 0, 0, 0, 0, 0, 0, 0, 0, 0, 0, 0, 0, 0, 1, 0, 0, 0, 0, 0, 0, 0, 0, 0, 0, 0, 0, 0, 0, 0, 0, 0, 0, 0, 0, 0, 0, 0, 0, 0, 0, 0, 0, 0, 0, 0, 0, 0, 0, 0, 0, 0, 0, 0, 0, 0, 0, 0, 0, 0, 0, 0, 0, 0, 0, 0, 0, 0, 0, 0, 0, 0, 0, 0, 0, 0, 0, 0, 0, 0, 0, 0, 0, 0, 0, 0, 0, 0, 0, 0, 0, 0, 0, 0, 0, 0, 0, 0, 0, 0, 0, 0, 0, 0, 0, 0, 0, 0, 0, 0, 0, 0, 0, 0, 0, 0, 0, 0, 0, 0, 0, 0, 0, 0, 0, 0, 0, 0, 0, 0, 0, 0, 0, 0, 0, 0, 0, 0, 0, 0, 0, 0, 0, 0, 0, 0, 0, 0, 0, 0, 0, 0, 0, 0, 0, 0, 0, 1, 0, 0, 0, 0, 0, 0, 0, 0, 0, 0, 0, 0, 0, 0, 0, 0, 0, 0, 0, 0, 0, 0, 0, 0, 0, 0, 0]\n"
          ]
        }
      ]
    },
    {
      "cell_type": "code",
      "source": [
        "print(topic_model.get_topic_info())\n"
      ],
      "metadata": {
        "colab": {
          "base_uri": "https://localhost:8080/"
        },
        "id": "IMk9aX2RFy-0",
        "outputId": "428787ec-0eff-4f92-8fa3-36e69b7b4b53"
      },
      "execution_count": null,
      "outputs": [
        {
          "output_type": "stream",
          "name": "stdout",
          "text": [
            "   Topic  Count                             Name  \\\n",
            "0      0    960             0_new_one_life_world   \n",
            "1      1     40  1_recipes_cookbook_food_cooking   \n",
            "\n",
            "                                      Representation  \\\n",
            "0  [new, one, life, world, love, book, story, tim...   \n",
            "1  [recipes, cookbook, food, cooking, ingredients...   \n",
            "\n",
            "                                 Representative_Docs  \n",
            "0  [born find work meant outside observer seems l...  \n",
            "1  [smitten kitchen cookbook longawaited cookbook...  \n"
          ]
        }
      ]
    },
    {
      "cell_type": "code",
      "source": [
        "from bertopic import BERTopic\n",
        "\n",
        "# Initialize BERTopic without n_topics\n",
        "topic_model = BERTopic(min_topic_size=5, language=\"english\", calculate_probabilities=True)\n",
        "\n",
        "# Fit the model\n",
        "topics, probs = topic_model.fit_transform(docs)\n",
        "\n",
        "# Print generated topics\n",
        "print(\"Generated Topics:\", set(topic_model.topics_))\n",
        "\n",
        "# Display documents assigned to each topic\n",
        "for topic in set(topic_model.topics_):\n",
        "    docs_for_topic = [doc for i, doc in enumerate(docs) if topic_model.topics_[i] == topic]\n",
        "    print(f\"\\nDocuments for Topic {topic}:\\n\", docs_for_topic[:5])  # Show first 5 for brevity\n",
        "\n",
        "# Visualize topics\n",
        "try:\n",
        "    topic_model.visualize_topics()\n",
        "except ValueError as e:\n",
        "    print(f\"Error during visualization: {e}\")\n",
        "\n",
        "# Optional: Print the representative topics and their representation\n",
        "topic_info = topic_model.get_topic_info()\n",
        "print(\"\\nTopic Information:\")\n",
        "print(topic_info)\n"
      ],
      "metadata": {
        "colab": {
          "base_uri": "https://localhost:8080/"
        },
        "id": "nLg1U0rjIJfd",
        "outputId": "1f04b8c3-c417-4635-d4f1-0607a3a6c815"
      },
      "execution_count": null,
      "outputs": [
        {
          "output_type": "stream",
          "name": "stdout",
          "text": [
            "Generated Topics: {0, 1, 2, 3, 4, 5, 6, 7, 8, 9, 10, 11, 12, 13, 14, 15, 16, 17, 18, 19, 20, 21, 22, 23, 24, 25, 26, 27, 28, 29, 30, 31, 32, 33, 34, 35, 36, 37, 38, -1}\n",
            "\n",
            "Documents for Topic 0:\n",
            " ['torch passed harding family story andrea harding recent college graduate looking forward attending duke law school world turned upside shooting father nicholas uncle michael surprising puzzling attack family aside paternal grandmother dorothy uncle dies attack father lays comatose andrea harding recent college graduate looking forward attending duke law school world turned upside shooting father nicholas uncle michael surprising puzzling attack family aside paternal grandmother dorothy uncle dies attack father lays comatose icu falls andrea investigate would want kill father uncle also oversee harding industries family company fathers longtime attorney one handful family friends beth cowling rushes help andrea long distance youngest harding soon finds surrounded bevy intriguing new friends helpers first arrive beths daughter riva acting andreas attorney andrea violently attacked fathers home grew forcing kill wouldbe assassins nicholass againoff lover state prosecutor gubernatorial hopeful kerry marcus equally loss name suspects harding family attacks riva begins investigation short list family friends colleagues including marshall former colleague nicholass marshall pharmaceutical runs dons wife karen marshall shady past including incident company also involved andreas father also looks closely marcus ricci father andreas closest high school friend jason jasons death leukemia ricci becomes like second father andrea ricci also widely believed ties new jersey mob beth another contact wants involved investigation deirdre southington daughter beths old friend cordelia southington southington family money god well deirdre contacts intriguing world international espionage former nsa agent deirdre mysterious beautiful cold way eccentric travels via private rail car also extraordinarily persuasive holding phd forensic psychology put great use work nsa defender good rooting evil doers ensuring brought brand justice andrea riva deirdre also cast suspicious eye oakes brothers carlton jefferson run oakes industries along silent partner cousin new jersey state senator schuyler colfax also eye governors seat oakes industries recently made attempt purchase harding industries seemingly irrational move rebuffed nicholas one knows much later oakes brothers entered business deal russian mobster viktor roman represents real party interested acquiring harding industries vor russian organized crime unit heavy international interests energy sector andrea matures quickly rapidly learns trust search people kill family along new friends advocates discovers harding industries holds soon expire option buy property could become source untold billions oil reserves moves nick time exercise right purchase biggest blow harding family yet comethe discovery viktor roman promised kerry marcus governors seat exchange information hardings including nicholas michaels whereabouts night shot ultimately andrea chooses forego law school becomes fathers new partner harding industries doubt many adventures yet come masterfully told using smattering historical facts along soundtrack classical music masterpieces thriller keeps readers edge end', 'past never ends simple task attorney chester morgan thinks get copy public record young man whose friend died unexplained accidental death except police file regarding demise sex worker tanya everly sealed order chief police one talk warned drop matter attorney morgan knows doesnt sp simple task attorney chester morgan thinks get copy public record young man whose friend died unexplained accidental death except police file regarding demise sex worker tanya everly sealed order chief police one talk warned drop matter attorney morgan knows doesnt speak dead young woman one haunted discovery body prominent local oilman morgan pursues quest justice puts reputation career life risk journey takes dark shadows sexforsale business marble courtrooms oklahoma aching loneliness soul set american southwest days past never ends complex murder mystery meditation selfperpetuating nature injustice ethereal nature justice', 'murder never forensic instincts given opportunity would assume someone elses identity leave old life behind serendipitous crossing paths lisa barnes downonherluck job seeker julie forman personal trainer olympic hopeful forever changes course womens lives one winds dead finds fugitive hiding behind one lie aft given opportunity would assume someone elses identity leave old life behind serendipitous crossing paths lisa barnes downonherluck job seeker julie forman personal trainer olympic hopeful forever changes course womens lives one winds dead finds fugitive hiding behind one lie another coldblooded killer methodically hunts desperately trying stay alive terrified woman enlists help forensic instincts rogue investigative team clandestinely operates gray area legal illegal safeguarding clients deception forensic instincts digs dangerous territory try find whos client meanwhile bodies piling chicago new jersey vermont megalomaniacal genius stop nothing eradicate anyone threatens success medical breakthrough unhinged client monstrous criminal enterprise adversary forensic instincts forced uncharted territory protect client save one becoming next corpse forensic instincts unorthodox criminal investigative team carefully navigates fine line legal illegal team consists behaviorist former navy seal techowiz intuitive pickpocket retired fbi agent human scent evidence dog', 'codename baboushka volume conclave death sexy russian femme fatale actually main character mysterious young heiress contessa annika malikova part manhattan high society several years knew truth dinner companions would faint whitehaired contessa fact notorious criminal baboushka former moscow gang leader living exile sexy russian femme fatale actually main character mysterious young heiress contessa annika malikova part manhattan high society several years knew truth dinner companions would faint whitehaired contessa fact notorious criminal baboushka former moscow gang leader living exile baboushkas retirement shattered us government somehow discovered true identity blackmails working must infiltrate secret conclave global crime lords cruise liner retrieve information americans nobody reckoned boat hijacked pirates suitable teens codename baboushka actionpacked modern pulp spy thriller writer antony johnston fuse coldest city alex rider artist shari chankhamma fuse sheltered kill shakespeare filled glamour guns exotic locations guns explosions highkicks mention guns asskicking spy heroine appeal fans marvels black widow av club literally six different amazing comics within one series comics alliance codename baboushka takes femalepositive look james bondesque role fun fastpaced action female assassin done right dark side comics johnstons exiled russian heiress former organized crime lord deadly agent bursts page grabs reader hands deadly grip hot action coldhearted kills jersey journal conclave death collects baboushkas first issue mission watch next assignment ghost station zero antony johnston awardwinning new york times bestselling author graphic novels video games books graphic novel coldest city adapted film starring charlize theron epic series wasteland one handful longform comic stories medium first video game dead space redefined survival horror genre', 'murder time beautiful brilliant kendra donovan rising star fbi yet path professional success hits speed bump disastrous raid half team murdered mole fbi uncovered severely wounded soon recovers goes rogue travels england assassinate man responsible deaths teamm beautiful brilliant kendra donovan rising star fbi yet path professional success hits speed bump disastrous raid half team murdered mole fbi uncovered severely wounded soon recovers goes rogue travels england assassinate man responsible deaths teammateswhile fleeing unexpected assassin kendra escapes stairwell promises sanctuary stumbles place aldrich castle different time exactmistaken ladys maid hired help weekend guests kendra forced quickly adapt time period figure got importantly get back home however body young girl found extensive grounds county estate starts feel theres purpose bizarre circumstances stripped twentyfirst century tools kendra must use wits alone order unmask cunning madman']\n",
            "\n",
            "Documents for Topic 1:\n",
            " ['foolproof preserving guide small batch jams jellies pickles condiments foolproof guide making small batch jams jellies pickles condiments canning perfected americas test kitchen way art preserving produce canning preserving come full circle grandmothers kitchen whole new generation eager learn detailed guide home preserving perfect novice canners experts alike offers foolproof recipes across wide range categories sw canning perfected americas test kitchen way art preserving produce canning preserving come full circle grandmothers kitchen whole new generation eager learn detailed guide home preserving perfect novice canners experts alike offers foolproof recipes across wide range categories sweet jams jellies savory jams vegetables condiments pickles whole fruits let experts americas test kitchen show right detailed tutorials troubleshooting tips equipment information insight science behind canning', 'pioneer woman cooks dinnertime comfort classics freezer food minute meals delicious ways solve supper theres time like dinnertimeoh dont get wrong adore breakfast love lunch dinnertime definitely tops time day reunite sweeties kids friends parents catch events day something mouthwatering delicious dinnertime anchors us nourishes us reassures us gr theres time like dinnertimeoh dont get wrong adore breakfast love lunch dinnertime definitely tops time day reunite sweeties kids friends parents catch events day something mouthwatering delicious dinnertime anchors us nourishes us reassures us greatest meal day pioneer woman cooks dinnertime beloved collection scrumptious supper recipes make way kitchen regular rotation main dish salads satisfying soups hearty casseroles comfort food classics everything lay different ways tackle dinner house superquick minute meals makeahead freezer food irresistible pastas bundle brandnew favorites crewyoull want immediately dive surefire hits like tomato soup parmesan croutons buffalo chicken salad baked ziti shrimp scampi wait till try cashew chicken french dip sandwiches chicken marsala beef stroganoff dont even get started tomato tart chicken mustard cream sauce panfried pork chops youll tough time deciding favoriteto take away guesswork made sure include stepbystep recipe photos love share packed much deliciousness chapter possible hope turn book regularly solve dinnertime dilemmas use recipes feed family time time stains smudges smears pages betterenjoy dinnertime household friends', 'bulletproof diet lose pound day reclaim energy focus upgrade life midtwenties dave asprey successful silicon valley multimillionaire also weighed pounds despite fact doctors recommended eating calories day working minutes day six times week excess fat started causing brain fog food cravings sapped energy willpower asprey turned h midtwenties dave asprey successful silicon valley multimillionaire also weighed pounds despite fact doctors recommended eating calories day working minutes day six times week excess fat started causing brain fog food cravings sapped energy willpower asprey turned hacking techniques made fortune hack biology investing years uncover hindering energy performance appearance happiness private brain eeg facilities remote monasteries tibet radioactive brain scans blood chemistry work nervous system testing explored traditional alternative technologies reach physical mental prime result bulletproof diet antiinflammatory program hungerfree rapid weight loss peak performance bulletproof diet challengeand changethe way think weight loss wellness skip breakfast stop counting calories eat high levels healthy saturated fat work sleep less add smart supplementsin youll gain energy build lean muscle watch pounds melt ditching traditional diet thinking asprey went overweight sick twenties maintaining pound weight loss increasing iq feeling better ever forties bulletproof diet blueprint better life', 'paris kitchen recipes stories collection stories sweet savory frenchinspired recipes popular food blogger david lebovitz reflecting way parisians eat today featuring lush photography taken around paris davids parisian kitchenits ten years since david lebovitz packed treasured cookbooks wellworn castiron skillet laptop moved collection stories sweet savory frenchinspired recipes popular food blogger david lebovitz reflecting way parisians eat today featuring lush photography taken around paris davids parisian kitchenits ten years since david lebovitz packed treasured cookbooks wellworn castiron skillet laptop moved paris time culinary culture france shifted new generation chefs home cooksmost notably parisincorporates ingredients techniques around world traditional french dishes paris kitchen david remasters classics introduces lesserknown fare presents sweet savory recipes reflect way modern parisians eat today youll find soupe loignon cassoulet coq au vin croquemonsieur well smoky barbecuestyle pork lamb shank tagine dukkahroasted cauliflower salt cod fritters tartar sauce wheat berry salad radicchio root vegetables pomegranate course theres dessert warm chocolate cake salted butter caramel sauce duck fat cookies bay leaf poundcake orange glaze french cheesecakeand list goes david also shares stories told trademark wit humor lush photography taken location around paris davids kitchen reveals quirks trials beauty joys life culinary capital world', 'mama tried traditional italian cooking screwed crude vegan tattooed cecilia granata grew cooking family italy vegan learned adapt favorite recipes around country animal free retaining flavor feeling true italian home cooking shares commitment ethical artful eating alphabeticallyarranged volume recipes ranging traditional favorites cecilia granata grew cooking family italy vegan learned adapt favorite recipes around country animal free retaining flavor feeling true italian home cooking shares commitment ethical artful eating alphabeticallyarranged volume recipes ranging traditional favorites homemade liqueurs aphrodisiacsall senza sofferenza without suffering recipes lushly illustrated granatas foodinspired tattoo art']\n",
            "\n",
            "Documents for Topic 2:\n",
            " ['unicorn tracks savage attack drives home sixteenyearold mnemba finds place cousin tumelos successful safari business quickly excels guide surrounding nature mystical animals inhabiting savannah allows mnembas tracking skills shine helps hide terrible memories haunt hermnemba savage attack drives home sixteenyearold mnemba finds place cousin tumelos successful safari business quickly excels guide surrounding nature mystical animals inhabiting savannah allows mnembas tracking skills shine helps hide terrible memories haunt hermnemba employed guide mr harving daughter kara wilderness study unicorns young women drawn despite fact kara betrothed research discover conspiracy group poachers capture unicorns exploit supernatural strength build railway together must find way protect creatures kara adores resisting love know never indulge', 'tsubasa world chronicle tsubasa world chronicle dual worlds dual sights land nirai kanai two realms one outside world another inside hidden rest reality request holy himegami syaoran ventures inside realm investigate anomaly sees different fai kurogane see discrepa dual worlds dual sights land nirai kanai two realms one outside world another inside hidden rest reality request holy himegami syaoran ventures inside realm investigate anomaly sees different fai kurogane see discrepancy mean overcome', 'secret dreadwillow carse princess peasant girl must embark dangerous quest outwit centuriesold warning foretelling fall monarchy modern fairytale center verdant monarchy lies dreadwillow carse black desolate bog happy people land best ignore little known except one dire warning monarc princess peasant girl must embark dangerous quest outwit centuriesold warning foretelling fall monarchy modern fairytale center verdant monarchy lies dreadwillow carse black desolate bog happy people land best ignore little known except one dire warning monarch enters dreadwillow carse monarchy fall twelveyearold princess jeniah yearns know marsh could possibly conceal might topple familys thousandyear reign peace prosperity meanwhile nearby town emberfell everyone lives unending joy girl named aon hides sorrow never reveal knows something carsesomething sings haunting tune aon hearholds cure sadness yet matter many times tries enter terrorinducing dreadwillow trees keep away chance meeting princess jeniah aon hatch plan send aon heart carse unlock darkest secret aon doesnt return guiltstricken jeniah must enter carse try rescue friendeven means risking entire monarchy', 'crown midnight throne glass line never crossed breachedit puts entire castle jeopardyand life friendfrom throne glass rules king fist iron soul black pitch assassin celaena sardothien brutal contest become champion yet celaena far loyal crown hides secret vigilantly know line never crossed breachedit puts entire castle jeopardyand life friendfrom throne glass rules king fist iron soul black pitch assassin celaena sardothien brutal contest become champion yet celaena far loyal crown hides secret vigilantly knows man serves bent evilkeeping deadly charade becomes increasingly difficult celaena realizes one seeking justice tries untangle mysteries buried deep within glass castle closest relationships suffer seems one questioning allegiancesnot crown prince dorian chaol captain guard even best friend nehemia foreign princess rebel heartthen one terrible night secrets keeping lead unspeakable tragedy celaenas world shatters forced give thing precious decide true loyalties lie ultimately willing fight', 'flight arrows pathfinders october august said man sows reapand harvest set season one connected reginald aubrey untouched crime committed twenty years ago william oneida child reginald stole raised identity shattered enlisted british army william trains loyalist refugees eager october august said man sows reapand harvest set season one connected reginald aubrey untouched crime committed twenty years ago william oneida child reginald stole raised identity shattered enlisted british army william trains loyalist refugees eager annihilate rebels forced exile coming terms proves impossible breaks loyalist oath hell better man constructed life liesnot anna reginalds adopted daughter two hawks williams twin long reginald accept love despite challenges face building marriage bridges two cultures good voice stone thrower freed bitterness courageous act forgiveness still yearning firstborn son fearful future oneida peopleas british prepare attack frontier new york patriot regiments rally defend two families separated culture united love power reclaim son marching toward ranks enemies']\n",
            "\n",
            "Documents for Topic 3:\n",
            " ['shakespeares sonnets book important complete collection sonnets william shakespeare readers aware great plays manuscripts written stage unaware magnificent sonnets written around period excellent complete collection sonnets poetry william shakespeare missed book important complete collection sonnets william shakespeare readers aware great plays manuscripts written stage unaware magnificent sonnets written around period excellent complete collection sonnets poetry william shakespeare missed interested completion collection writings interested early poetic works', 'olio part fact part fiction tyehimba jesss much anticipated second book weaves sonnet song narrative examine lives mostly unrecorded african american performers directly civil war world war olio effort understand met resisted complicated coopted sometimes defeated attempts minstrelize themso part fact part fiction tyehimba jesss much anticipated second book weaves sonnet song narrative examine lives mostly unrecorded african american performers directly civil war world war olio effort understand met resisted complicated coopted sometimes defeated attempts minstrelize themso lead choir still find thatim ledim missionarymending faith midst flocki toil fields praise folks seethese freedmen stand sing hear godspeak tongues nine dark mouths sing shelterthey echo hymns slaverys weatherdetroit native tyehimba jess first book poetry leadbelly winner national poetry series jess cave canem nyu alumni received fellowships whiting foundation national endowment arts illinois arts council provincetown fine arts work center jess also veteran green mill poetry slam team exhibited poetry tedxnashville conference jess associate professor english college staten island', 'himalayas wherever go whatever dont anything stupid motherduring yearlong adventure backpacking south africa singapore bedford definitely things mother might classify stupid swam great white sharks south africa ran lions zimbabwe climbed himalayan mountain without training nepal wa wherever go whatever dont anything stupid motherduring yearlong adventure backpacking south africa singapore bedford definitely things mother might classify stupid swam great white sharks south africa ran lions zimbabwe climbed himalayan mountain without training nepal watched friend attacked monkey indonesiabut interspersed slightly crazy moments sue bedfored friend sara stoic experienced sights sounds life culture fifteen countries joined along way friends aging fathers sue sara experience trip lifetime fall love world cultivate appreciation home discover want becomeits himalayas incredibly funny sometimes outlandish always entertaining confession young backpacker inspire take adventure', 'worlds elsewhere journeys around shakespeares globe antiapartheid activist bollywood screenwriter nazi pinup hero wild west shakespeare never seen beforefrom sixteenthcentury baltic american revolution colonial india skyscrapers modernday shanghai shakespeares plays appear fascinating times unexpected places writ antiapartheid activist bollywood screenwriter nazi pinup hero wild west shakespeare never seen beforefrom sixteenthcentury baltic american revolution colonial india skyscrapers modernday shanghai shakespeares plays appear fascinating times unexpected places writers work performed translated adapted altered remarkable variety cultures languages william shakespeare man warwickshire never set foot outside england made home many places around globetravelling across four continents six countries years andrew dickson takes us personal journey rich insight surprise enter airconditioned vault deep beneath capitol hill worlds largest collection first folios stored discover shadowy history joseph goebbelss obsession shakespeare uncover true story behind scuffed edition nelson mandela fellow robben island prisoners inscribed names cultural history literary travelogue worlds elsewhere attempt understand shakespeare become international phenomenon whythere pages didnt learn something new revelatory mustread anyone interested shakespeares impact people politics around globe james shapiro author year life william shakespeareimmensely wellinformed highly readable revelatory journey cultural exploration professor stanley wells general editor oxford penguin shakespearesbrilliantly original absolutely engaging witty irresistible whats remarkable hes said something new shakespeare michael pye author edge worlda truly original book shakespeare one explores dramatists global reach tenacity devotion exhilarating spirit adventure michael billington', 'cant bury poems poetry harrowing angry achingly beautiful patrick woodcock spent past seven years engaging shaped people politics landscapes kurdish north iraq fort good hope northwest territories azerbaijan powerful new collection offers poetry simultaneously explores hope horror doc poetry harrowing angry achingly beautiful patrick woodcock spent past seven years engaging shaped people politics landscapes kurdish north iraq fort good hope northwest territories azerbaijan powerful new collection offers poetry simultaneously explores hope horror documenting transformative processes coping cant bury follows narratives construct survive tragic failures humanity end everything thats buried snow dirt ash like everything thats buried politics homophobia sexism racism religion history resurrected demanding heard addressedin woodcocks poetry deal resurfaces key suffer really mean abandoned small consciencesoothing charitable donations occasional tweet poet anyone else sleep night knowing homosexuals thrown building tops one steps hole finds abandoned corpse azeri cemetery elders aboriginal community left helpless want exploit still cant bury demonstrates world horrific place media often portrays worlds touches woodcock discovers spirit strength celebrate']\n",
            "\n",
            "Documents for Topic 4:\n",
            " ['americas cradle quarterbacks western pennsylvanias football factory johnny unitas joe montana fan baltimore colts era fan friend teammate johnny unitas matter fan football general enjoy wayne stewarts book contains great stories statistics information many great quarterbacks whocame western pennsylvania much raymond berry nfl hall fame wide receiver wel fan baltimore colts era fan friend teammate johnny unitas matter fan football general enjoy wayne stewarts book contains great stories statistics information many great quarterbacks whocame western pennsylvania much raymond berry nfl hall fame wide receiver well known nfl dominated years quarterbacks sown grown relatively small area surrounding city pittsburgh western pennsylvania americas cradle quarterbacks author wayne stewart tells us digs deep explain nature nurture behind rich harvest signal callers montana unitas marino namath kelly blanda etc risen fertile soil claim lombardi trophies dominate gallery busts pro football hall fame stewart written fascinating book belongs shelves football historians everyday fans alike jeffrey j miller author rockin rockpile buffalosforgotten champions game changers', 'natural history us fine art pretending one class assignment one second chance love school player needs win back sweet commitment girl whos forever owned heart justin carter secret hes total player fairfield academy believes really fact used onewoman guyand feelings never went away bad broke heart one class assignment one second chance love school player needs win back sweet commitment girl whos forever owned heart justin carter secret hes total player fairfield academy believes really fact used onewoman guyand feelings never went away bad broke heart three years ago made sure ruin chance shed ever forgive peyton williams liar pretends whole counting days graduation helping parents family ranch truth shes done everything get justin salvation around corner graduation one short month away shell soon break free painful memories start life fresh course get working one last assignment first justin nothing ever felt right peyton fates given shot redemption hes determined make peytonwell justin carter always kryptonite', 'mistake offcampus hes player ways onecollege junior john logan get girl wants hockey star life parade parties hookups behind killer grins easygoing charm hides growing despair deadend road hell forced walk graduation sexy encounter freshman grace ivers distraction needs w hes player ways onecollege junior john logan get girl wants hockey star life parade parties hookups behind killer grins easygoing charm hides growing despair deadend road hell forced walk graduation sexy encounter freshman grace ivers distraction needs thoughtless mistake pushes away logan plans spend final year proving hes worth second chancenow hes going need gameafter less stellar freshman year grace back briar university older wiser arrogant hockey player nearly handed vcard shes charity case shes quiet butterfly first hooked logan expects roll beg like puck bunnies think wants back hell work time around shell one drivers seatand plans driving wild', 'matchmakers playbook wingmen inc wingman rule number one dont fall clientafter careerending accident former nfl recruit ian hunter back campusand hes ready get new game one masterminds behind wingmen inc successful secretive wordofmouth dating service hes putting extensive skills women work lovelorn blake olson requests wingman rule number one dont fall clientafter careerending accident former nfl recruit ian hunter back campusand hes ready get new game one masterminds behind wingmen inc successful secretive wordofmouth dating service hes putting extensive skills women work lovelorn blake olson requests services wingmen inc ian may landed hopeless client yetfrom frumpy athletic gear unfortunate choice footwear blake going need miracle wants land crush least professional matchmaker side fighting chance ian knows advice makeover turn blake another successful match blake begins transformation hot mess smokin hot ian realizes hes danger breaking cardinal rule', 'friday night field party everyone knows west ashby always guy cocky popular waytoohandsomeforhisowngood football god led lawton high state championships west may big man campus outside inside hes battling grief comes watching father slowly die cancertwo years ago maggie carletons life fell ap everyone knows west ashby always guy cocky popular waytoohandsomeforhisowngood football god led lawton high state championships west may big man campus outside inside hes battling grief comes watching father slowly die cancertwo years ago maggie carletons life fell apart father murdered mother told police happened stopped speaking hasnt spoken since even move lawton alabama couldnt draw maggie back stayed quiet keeping sorrow fractured heart hidden awayas wests pain becomes much handle knows needs talk someone fatherso dark shadows postgame party opens one girl knows wont tell anyone elsewest expected talking dad would bring relief least flood emotions couldnt control never expected quiet new girl reply reveal pain even deeper ownor form connection strong couldnt ever let go']\n",
            "\n",
            "Documents for Topic 5:\n",
            " ['reasons stay alive want life want read write feel live want much time possible blinkofaneye existence feel felt hate depression scared terrified fact time made price feeling life price always worth paying want life want read write feel live want much time possible blinkofaneye existence feel felt hate depression scared terrified fact time made price feeling life price always worth payingreasons stay alive making time earth western world suicide rate highest amongst men age matt haig could added statistic aged found staring cliffedge jump story didnt recovered learned live anxiety depression also upbeat joyous funny exploration live better love better read better feel', 'higherselfie wake life free soul find tribe cosmic alarm clock going around world higherselfies aim unite waking spiritually digital age book guide love connection kickass surrendered action young people least toe door spirituality nononsense approach full wit humor book shares ageold concepts cosmic alarm clock going around world higherselfies aim unite waking spiritually digital age book guide love connection kickass surrendered action young people least toe door spirituality nononsense approach full wit humor book shares ageold concepts language accessible modern spiritual audience whether bought yoga mat meditating years book offer guidance support whatever stage journey youre life coaches jo westwood lucy sheridan touch upon timeless topics forgiveness surrender ego well subjects specific current age using social media healthy way finding likeminded tribe following spiritual life paths without comparing others whether youre reiki master climbing corporate ladder working suburban garden center higherselfie perfect gateway drug looking something deeper meaningful', 'mindfulness acceptance workbook anxiety guide breaking free anxiety phobias worry using acceptance commitment therapy anxiety fear problem tried win war anxious mind body end feeling frustrated powerless stuck youre alone way forward path genuine happiness way back living kind life desperately want workbook help get started new journey tod anxiety fear problem tried win war anxious mind body end feeling frustrated powerless stuck youre alone way forward path genuine happiness way back living kind life desperately want workbook help get started new journey todaynow second edition mindfulness acceptance workbook anxiety offers new approach anxiety fears life within pages youll find powerful tested set tools strategies help gain freedom fear trauma worry many manifestations anxiety fear book offers empowering approach help create kind life desperately want livebased revolutionary approach psychological health wellness called acceptance commitment therapy act fully revised updated second edition offers compelling new exercises help create conditions genuine happiness peace mind youll learn mind trap keeping stuck struggling anxiety fear youll also discover ways nurture capacity acceptance mindfulness kindness compassion use qualities weaken power anxiety fear gain space truly matters timenobody chooses anxiety healthy way turn anxious thoughts feelings like light switch learn break free shackles anxiety fear take back life purpose workbook help life calling make choice skills workbook help make happen live better fully richly without anxiety fear book show waythis book awarded association behavioral cognitive therapies selfhelp seal merit award bestowed outstanding selfhelp books consistent cognitive behavioral therapy cbt principles incorporate scientifically tested strategies overcoming mental health difficulties used alone conjunction therapy books offer powerful tools readers use jumpstart changes lives', 'activists tao te ching ancient advice modern revolution change anger air looking answers todays wrenching challenges william martin turns tao te ching finds taoism known quiet enigmatic wisdom tao also cleansing force rushing riverthrough interpretation ancient chinese text martin elucidates revolutionary messages condemning powerse change anger air looking answers todays wrenching challenges william martin turns tao te ching finds taoism known quiet enigmatic wisdom tao also cleansing force rushing riverthrough interpretation ancient chinese text martin elucidates revolutionary messages condemning powerseeking greed emphasizes humans natural virtue help heal planet shows taoisms simplicity subversive flexibility potent force reassures injustice rule justice always lies waitprovocative stirring martins tao flows within ride waves anger frustration gently guides true freedomwe learned secret transformation injustice feeds determination hate increases love wounds bring forth healing fear uncovers courage serenity activists tao te ching', 'miserable strategies already use miserable psychologist randy paterson outlines specific behaviors habits whichif followedare sure lead lifetime unhappiness hand opposite may yet join ranks happy people everywherethere stacks upon stacks selfhelp books promise love happiness fabulous life ca miserable psychologist randy paterson outlines specific behaviors habits whichif followedare sure lead lifetime unhappiness hand opposite may yet join ranks happy people everywherethere stacks upon stacks selfhelp books promise love happiness fabulous life pinpoint exact behaviors cause miserable first place sometimes depressed sad unhappy instincts tell us opposite shouldsuch focusing negative dwelling cant change isolating friends loved ones eating junk food overindulging alcohol sound familiarthis tongueincheek guide help identify behaviors make unhappy discover youand youare holding back life contentment youll learn spot triedandtrue traps increase feelings dissatisfaction foster lack motivation detract quality lifeas well ways avoid themso get ready live life want fun irreverent guide light way']\n",
            "\n",
            "Documents for Topic 6:\n",
            " ['wall piece banksy britains nowlegendary guerilla street artist painted walls streets bridges towns cities throughout world smuggle pieces four new york citys major art museums hes also hung work londons tate gallery adorned israels west bank barrier satirical images banksys identity remains unknown banksy britains nowlegendary guerilla street artist painted walls streets bridges towns cities throughout world smuggle pieces four new york citys major art museums hes also hung work londons tate gallery adorned israels west bank barrier satirical images banksys identity remains unknown work unmistakablewith prints selling much', 'lifechanging magic tidying japanese art decluttering organizing despite constant efforts declutter home papers still accumulate like snowdrifts clothes pile like tangled mess noodlesjapanese cleaning consultant marie kondo takes tidying whole new level promising properly simplify organize home youll never methods advocate roombyroom littlebyli despite constant efforts declutter home papers still accumulate like snowdrifts clothes pile like tangled mess noodlesjapanese cleaning consultant marie kondo takes tidying whole new level promising properly simplify organize home youll never methods advocate roombyroom littlebylittle approach doom pick away piles stuff forever konmari method revolutionary categorybycategory system leads lasting results fact none kondos clients lapsed still threemonth waiting listwith detailed guidance determining items house spark joy dont international best seller featuring tokyos newest lifestyle phenomenon help clear clutter enjoy unique magic tidy home calm motivated mindset inspire', 'art forger march thirteen works art today worth million stolen isabella stewart gardner museum boston remains largest unsolved art heist history claire roth struggling young artist discover theres crime meets eyemaking living reproducing famous artworks popular online retai march thirteen works art today worth million stolen isabella stewart gardner museum boston remains largest unsolved art heist history claire roth struggling young artist discover theres crime meets eyemaking living reproducing famous artworks popular online retailer desperate improve situation claire lured faustian bargain aiden markel powerful gallery owner agrees forge paintinga degas masterpiece stolen gardner museumin exchange onewoman show renowned gallery longmissing degas painting delivered claires studio begins suspect may forgeryher desperate search truth leads claire labyrinth deceit secrets hidden since late nineteenth century may evidence save life', 'spark joy illustrated master class art organizing tidying marie kondos unique konmari method tidying nothing short lifechangingand first book lifechanging magic tidying become worldwide sensation spark joy kondo presents indepth illustrated manual declutter organize specific items throughout house kitchen bathroom items workrelated papers hobby co marie kondos unique konmari method tidying nothing short lifechangingand first book lifechanging magic tidying become worldwide sensation spark joy kondo presents indepth illustrated manual declutter organize specific items throughout house kitchen bathroom items workrelated papers hobby collections userfriendly line drawings illustrate kondos patented folding method applies shirts pants socks jackets well images properly organized drawers closets cabinets book perfect anyone wants homeand lifethat sparks joy', 'tracing numbers train start preparing children classroom success tracing numbers train educational workbook filled pages giant numbers make easy little hands learn pencil control followed pages small numbers repetition motor skill development illustrated practice pages keep kids engaged learning numbers start preparing children classroom success tracing numbers train educational workbook filled pages giant numbers make easy little hands learn pencil control followed pages small numbers repetition motor skill development illustrated practice pages keep kids engaged learning numbers']\n",
            "\n",
            "Documents for Topic 7:\n",
            " ['coming woman novel based life infamous feminist victoria woodhull heart soul karen hicks coming woman make fall love victoria woodhullkinky friedman author governor heart texas kind confidence would take woman buck old boys club politics years prehillary victoria woodhull book takes back heart soul karen hicks coming woman make fall love victoria woodhullkinky friedman author governor heart texas kind confidence would take woman buck old boys club politics years prehillary victoria woodhull book takes back breathtaking presenttense birds eye view time womens liberation primarily confined one womans capable independent mind couldnt put downruth buzzi golden globe award winner television hall fame inducteesadly many americans never heard victoria woodhull let alone learned story revolutionary campaign presidency time women werent even allowed vote support workers rights feminist commitment equality century official battle equal rights amendment coming woman karen hicks brings woodhulls efforts life reminds us nations greatest figures arent always featured history books riveting account amazing woman struggle justice human dignity told engaging eminently readable styletim wise author white like reflections race privileged sonthe coming woman novel based life feminist victoria woodhull first woman run us president years women could even voterunning president wasnt victorias first woman also first successful wall street firm first publish successful national newspaper first head twomillionmember spiritualist association first woman enter senate judiciary committee chambers petition womans suffrage argument changing entire focus suffragist movement pointing th th amendments already gave women votein campaign presidency victoria woodhull boldly addressed many issues still face today equal pay equal work freedom love corporate greed political corruption fueled powerful lobbyists increasing disparity rich poor name outspoken commonsense ideas may shed new perspective parallel conundrums todays worldthis bold beautiful sexually progressive woman dared take society religion make example hypocrisy mark twain dubbed gilded age exposed extramarital affairs popular religious figure day henry ward beecher led persecution imprisonment longest infamous trial th century stop fight equalityvictorias epic story set late comes life modern fictional style staying true actual words views many wellknown characters', 'mesaerion best science fiction stories andrew barger awardwinning author engineer extensively researched forgotten journals magazines early th century locate groundbreaking science fiction short stories english language found possibly first science fiction story female mary shelley andrew located first steampunk short andrew barger awardwinning author engineer extensively researched forgotten journals magazines early th century locate groundbreaking science fiction short stories english language found possibly first science fiction story female mary shelley andrew located first steampunk short story republished since first voyage moon balloon republished first time since tells darkness machine lunarian named zuloc scistories include first robotic insect electricity gun andrew searched old texts find best science fiction stories period genre automated life stories published first time nearly years read fantastic stories todayour country mechanical age become men seriously talk flying machines go steam airballoons real daedalian wings made wood joints nailed shoulder wings feathers wax like wings icarus fell cretan sea real solid substantial rockmaple wings wroughtiron hinges huge concavities propel us air knickerbocker magazine may', 'libertarianism beginners libertarianism isnt winning elections first foremost political philosophya description opinion libertarians free people ought treat one another least use law regard potentially dangerous libertarians correct law intrude peoples lives little possible rarely telling libertarianism isnt winning elections first foremost political philosophya description opinion libertarians free people ought treat one another least use law regard potentially dangerous libertarians correct law intrude peoples lives little possible rarely telling livea political economic philosophy old john locke john stuart mill alive timely rand paul tea party novels ayn rand libertarianism emphasizes individual rights calls radical reduction power size government libertarianism beginners lays history principles oftenmisunderstood philosophy lucid dispassionate terms help illuminate todays political dialogue', 'reskilling america learning labor twentyfirst century katherine newman awardwinning author shame game sociologist hella winston sharp irrefutable call reenergize nations longneglected system vocational trainingafter decades offshoring downsizing left blue collar workers obsolete stranded united states verge industrial renaissance w katherine newman awardwinning author shame game sociologist hella winston sharp irrefutable call reenergize nations longneglected system vocational trainingafter decades offshoring downsizing left blue collar workers obsolete stranded united states verge industrial renaissance dont skilled enough labor pool fill positions created many cases technically demanding require specialized skills decadeslong series idealistic educational policies expressed goal getting every student go college left generation potential workers system touted progressive egalitarian institution providing opportunity even greatest need american secondary school system fact deepened existing inequalitieswe better argue acclaimed sociologists katherine newman hella winston taking page successful experience countries like germany austria youth unemployment mere call radical reevaluation idea vocational training long discredited instrument tracking united states prepare new highperformance labor force revamp school system value industry apprenticeship rigorous technical education able meet growing demand skilled employees dozens sectors employers decry absence well trained workers make american dream accessible', 'thomas jefferson tripoli pirates forgotten war changed american history authors new york times bestseller george washingtons secret six littleknown story thomas jeffersons battle defend america islamic pirates brian kilmeade cohost fox friends fox news national radio show kilmeade friends returns another fascinating historical narrative cowritten yaeger authors new york times bestseller george washingtons secret six littleknown story thomas jeffersons battle defend america islamic pirates brian kilmeade cohost fox friends fox news national radio show kilmeade friends returns another fascinating historical narrative cowritten yaeger like acclaimed bestseller george washingtons secret six thomas jefferson tripoli pirates sheds new light vitally important episode forgotten americans weeks president jeffersons inauguration decided confront tripoli pirates kidnapping american ships sailors among outrageous acts though inclined toward diplomacy jefferson sent warships blockade tripoli protect american shipping escalated allout war barbary states tiny american flotillawith three frigates representing half us navys topoftheline shipshad success blockading barbary coast success came end uss philadelphia ran aground tripoli harbor captured kilmeade yaeger recount dramatic story young american sailor stephen decatur snuck harbor boarded philadelphia set fire escaping amid torrent enemy gunfire another amazing story william eatons daring attack port city derna led detachment marines mile trek across desert surprise port strategy worked american flag raised victory foreign soil first time remember decatur eaton today legacy inspired opening marine corps hymn halls montezuma shores tripoli fight countrys battles air land sea thomas jefferson tripoli pirates tells dramatic story bravery diplomacy battle high seas honors americas forgotten heroes']\n",
            "\n",
            "Documents for Topic 8:\n",
            " ['tipping velvet erotic absorbingwritten starling powerthe new york times book review nan king oyster girl captivated music hall phenomenon kitty butler male impersonator extraordinaire treading boards canterbury friend box office nan manages visit shows finally meet heroine soon becomes kittys erotic absorbingwritten starling powerthe new york times book review nan king oyster girl captivated music hall phenomenon kitty butler male impersonator extraordinaire treading boards canterbury friend box office nan manages visit shows finally meet heroine soon becomes kittys dresser two head bright lights leicester square begin glittering career musichall stars allsinging dancing double act time behind closed doors admit attraction affair begins', 'gutsy girl escapades life epic adventure girls miss joy adventure jump rocks swing ropes climb trees well boys girls often allow fear stand wayin gutsy girl author caroline paul emboldens girls seek life exhilaration young scaredycat caroline decided fear got way life wanted girls miss joy adventure jump rocks swing ropes climb trees well boys girls often allow fear stand wayin gutsy girl author caroline paul emboldens girls seek life exhilaration young scaredycat caroline decided fear got way life wantedof excitement confidence selfreliance friendship fun since flown planes rafted big rivers climbed tall mountains fought fires one first female firefighters san francisco gutsy girl shares greatest escapades well girls women throughout history offers engaging activities confidencebuilding stances creating compass positive selftalk using crickets estimate outside temperatures section includes place girls journal adventures thus encouraging new generation develop zest challenges healthy relationship risk gutsy girl lean young girls book glorious things happen unshackle fear open exhilaration fully illustrated enlivened throughout bestselling illustrator wendy macnaughtons whimsical penandink drawings', 'bossypants liz lemon weekend update sarah palin tina fey young girl dream recurring stress dream chased local airport middleschool gym teacher also dream one day would comedian tvshe seen dreams come trueat last tina feys story told liz lemon weekend update sarah palin tina fey young girl dream recurring stress dream chased local airport middleschool gym teacher also dream one day would comedian tvshe seen dreams come trueat last tina feys story told youthful days vicious nerd tour duty saturday night live passionately halfhearted pursuit physical beauty life mother eating things floor onesided college romance nearly fatal honeymoonfrom beginning paragraph final sentencetina fey reveals proves weve suspected youre one someone calls bossyincludes special neverbeforesolicited opinions breastfeeding princesses photoshop electoral process italian rum cakean unabridged recording cds hours', 'scarlett epstein hates meet scarlett epstein bnf big name fan online community fanfiction writers worldclass nobody melville high best read irl friends avery painfully shy annoyingly attractive bookworm ruth weedsmoking possibly insane seventythreeyearold neighborwhen scarletts beloved tv show canceled longtime crush gideon meet scarlett epstein bnf big name fan online community fanfiction writers worldclass nobody melville high best read irl friends avery painfully shy annoyingly attractive bookworm ruth weedsmoking possibly insane seventythreeyearold neighborwhen scarletts beloved tv show canceled longtime crush gideon sucked orbit dark distant world populars scarlett turns fanfic message boards comfort time though subjects arent swoonworthy stars fave seriestheyre reallife kids high school ever find scarlett truly thinks shell thrust situation far dramatic anything shes ever seen tv', 'likely voted likely succeed melanie bartlett ended anything downonherluck single mom wants complete dooveris much ask family long gone river bend strong independent mel surprised anyone end quaint small town called home friends jo zoe side comfortable room voted likely succeed melanie bartlett ended anything downonherluck single mom wants complete dooveris much ask family long gone river bend strong independent mel surprised anyone end quaint small town called home friends jo zoe side comfortable room miss ginas quirky bedandbreakfast might turned corner new lifewyatt gibson never liked big city river bend suits ruggedly handsome builder fine wyatt knows hes home even means charmed appearance melanie spunky adorable daughter wyatts calm devotioneven amid coming stormenough convince mel may found home call family never leaves true love last lifetime']\n",
            "\n",
            "Documents for Topic 9:\n",
            " ['sapiens brief history humankind renowned historian comes groundbreaking narrative humanitys creation evolutiona international bestsellerthat explores ways biology history defined us enhanced understanding means humanone hundred thousand years ago least six different species humans inhabited earth yet today oneh renowned historian comes groundbreaking narrative humanitys creation evolutiona international bestsellerthat explores ways biology history defined us enhanced understanding means humanone hundred thousand years ago least six different species humans inhabited earth yet today onehomo sapiens happened others may happen usmost books history humanity pursue either historical biological approach dr yuval noah harari breaks mold highly original book begins years ago appearance modern cognition examining role evolving humans played global ecosystem charting rise empires sapiens integrates history science reconsider accepted narratives connect past developments contemporary concerns examine specific events within context larger ideasdr harari also compels us look ahead last decades humans begun bend laws natural selection governed life past four billion years acquiring ability design world around us also leading us want becomefeaturing photographs maps illustrationsdiagrams provocative insightful work sure spark debate essential reading aficionados jared diamond james gleick matt ridley robert wright sharon moalem', 'new revelations americas columbus groundbreaking work science history archaeology charles c mann radically alters understanding americas arrival columbus contrary many americans learn school precolumbian indians sparsely settled pristine wilderness rather huge numbers indians actively molded influe groundbreaking work science history archaeology charles c mann radically alters understanding americas arrival columbus contrary many americans learn school precolumbian indians sparsely settled pristine wilderness rather huge numbers indians actively molded influenced land around astonishing aztec capital tenochtitlan running water immaculately clean streets larger contemporary european city mexican cultures created corn specialized breeding process called mans first feat genetic engineering indeed indians living lightly land landscaping manipulating world ways beginning understand challenging surprising transformative new look rich fascinating world thought knew', 'tipping point planet earth close edge tipping point planet earth explains earth headed tipping point change fast dramatic unexpected humanity reel consequencesmidway century nine billion people planet already using arable land exists overfishing oceans water becoming scarce tipping point planet earth explains earth headed tipping point change fast dramatic unexpected humanity reel consequencesmidway century nine billion people planet already using arable land exists overfishing oceans water becoming scarce many placesthe services humans depend uponlike supply clean water food production protection diseaseare subject dangerous threats wellwe still keep humanity moving forward ensuring negative changes accumulating outweigh positive ones tipping point planet earth offers sensible solutions pressing problems grand challenge st century change endgame one looks like train wreck one sees train carrying us bright future', 'gray rhino recognize act obvious dangers ignore gray rhino highly probable high impact yet neglected threat kin elephant room improbable unforeseeable black swan gray rhinos random surprises occur series warnings visible evidence bursting housing bubble devastating aftermath hurricane katrina natural disasters gray rhino highly probable high impact yet neglected threat kin elephant room improbable unforeseeable black swan gray rhinos random surprises occur series warnings visible evidence bursting housing bubble devastating aftermath hurricane katrina natural disasters new digital technologies upended media world fall soviet unionall evident well advancewhy leaders decision makers keep failing address obvious dangers spiral control drawing extensive background policy formation crisis management well indepth interviews leaders around world michele wucker shows gray rhino recognize strategically counter looming high impact threats filled persuasive stories realworld examples practical advice gray rhino essential reading managers investors planners policy makers anyone wants understand profit avoiding getting trampled', 'fabric cosmos space time texture reality brian greene one worlds leading physicists author pulitzer prize finalist elegant universe comes grand tour universe makes us look reality completely different wayspace time form fabric cosmos yet remain among mysterious concepts space entity time direction coul brian greene one worlds leading physicists author pulitzer prize finalist elegant universe comes grand tour universe makes us look reality completely different wayspace time form fabric cosmos yet remain among mysterious concepts space entity time direction could universe exist without space time travel past greene set daunting task explain nonintuitive mathematical concepts like string theory heisenberg uncertainty principle inflationary cosmology analogies drawn common experience newtons unchanging realm space time absolute einsteins fluid conception spacetime quantum mechanics entangled arena vastly distant objects instantaneously coordinate behavior greene takes us regardless scientific backgrounds irresistible revelatory journey new layers reality modern physics discovered lying beneath surface everyday world']\n",
            "\n",
            "Documents for Topic 10:\n",
            " ['inefficiency assassin time management tactics working smarter longer slay procrastination distraction overwhelmwho doesnt want time energy family friends personal passions author helene segura coaches real people real world operate efficiently workday life outside engaging time management program caters diverse learning styles offering case studies al slay procrastination distraction overwhelmwho doesnt want time energy family friends personal passions author helene segura coaches real people real world operate efficiently workday life outside engaging time management program caters diverse learning styles offering case studies allow readers selfdiagnose zero strategies appropriate anyone wanting streamline workflow improve productivity employ wonderfully doable techniques clearing task lists handling reminder systems scheduling variety priorities even managing emails phone calls thanks seguras astute attention personality inefficiency assassin meets readers struggling details quick easytoimplement strategies segura promises kick chaos curb', 'online marketing busy authors stepbystep guide want people read book writing beginning truly never better time author first time authors direct access public via internet create community eagerly awaiting book new authors start sort dizzying range online options want people read book writing beginning truly never better time author first time authors direct access public via internet create community eagerly awaiting book new authors start sort dizzying range online options spend time online enter fauzia burke digital book marketing pioneer friend overwhelmed writers everywhere takes authors stepbystep process identifying unique personal brand defining audience clarifying aspirations goals setting priorities offers advice designing successful website building mailing list superfans blogging creating engagement strategy social media following burkes expert advice authors conquer internet still get next manuscript time', 'judo seven steps black belt introductory guide beginners displaying impressive throws compelling armbars dominant pins decisive chokes judo particularly powerful sport martial art bring opponents submission highly effective ways determination perseverance tremendous power could designed safety considerations mind judo allows people ages displaying impressive throws compelling armbars dominant pins decisive chokes judo particularly powerful sport martial art bring opponents submission highly effective ways determination perseverance tremendous power could designed safety considerations mind judo allows people ages involved longterm fitness activity opportunities continuous improvement judo way life promotes physical mental harmony encourages development selfconfidence leadership abilities prepares practitioners act selfdefense instills values discipline respect diligence judo also olympic sport gaining increasing worldwide visibility', 'everydata misinformation hidden little data consume every day everyone talking big data truth understanding little datathe stats underlie newspaper headlines stock reports weather forecasts onis helps make smarter decisions work home every aspect life average person consumes approximately gigabytes data every single day idea ho everyone talking big data truth understanding little datathe stats underlie newspaper headlines stock reports weather forecasts onis helps make smarter decisions work home every aspect life average person consumes approximately gigabytes data every single day idea interpret correctly everydata explains eyes expert economist statistician decipher small bytes data consume dayeverydata filled countless examples people misconstruing datawith results range merely frustrating catastrophicthe space shuttle challenger exploded part engineers reviewing limited sample setmillions women avoid caffeine pregnancy interpret correlation causationattorneys faced billion jury verdict outlier dataeach chapter highlights one commonly misunderstood data concept using realworld hypothetical examples wide range topics including business politics advertising law engineering retail parenting youll find answer questionnow whatalong concrete ways use information immediately start making smarter decisions today every day', 'algorithms live computer science human decisions fascinating exploration insights computer algorithms applied everyday lives helping solve common decisionmaking problems illuminate workings human mindall lives constrained limited space time limits give rise particular set problems leave undone day lifetime fascinating exploration insights computer algorithms applied everyday lives helping solve common decisionmaking problems illuminate workings human mindall lives constrained limited space time limits give rise particular set problems leave undone day lifetime much messiness accept balance new activities familiar favorites fulfilling may seem like uniquely human quandaries computers face constraints computer scientists grappling version issues decades solutions theyve found much teach usin dazzlingly interdisciplinary work acclaimed author brian christian cognitive scientist tom griffiths show algorithms used computers also untangle human questions explain better hunches leave things chance deal overwhelming choices best connect others finding spouse finding parking spot organizing ones inbox understanding workings memory algorithms live transforms wisdom computer science strategies human living']\n",
            "\n",
            "Documents for Topic 11:\n",
            " ['rat queens vol demons rat queens collected editions survived end world queens follow hannah back began mage university long perilous journey awaits rat queens attempt find happened hannahs father battling demons collects rat queens', 'obsidian lux starting suckswhen moved west virginia right senior year id pretty much resigned thick accents dodgy internet access whole lot boring spotted hot neighbor looming height eerie green eyes things looking upand opened mouthdaemon infuriating arrogant stabworthy get alon starting suckswhen moved west virginia right senior year id pretty much resigned thick accents dodgy internet access whole lot boring spotted hot neighbor looming height eerie green eyes things looking upand opened mouthdaemon infuriating arrogant stabworthy get along stranger attacks daemon literally freezes time wave hand well something unexpected happens hot alien living next door marks meyou heard alien turns daemon sister galaxy enemies wanting steal abilities daemons touch lit like vegas strip way im getting alive sticking close daemon alien mojo fades dont kill first', 'masks shadows year carlo morelli renowned castrato singer europe invited honored guest eszterhza palace carlo prince nikolaus esterhzys carriage ride prussian spy one notorious alchemists habsburg empire already eszterhza charlotte von steinbeck proper sister prince nikolauss mis year carlo morelli renowned castrato singer europe invited honored guest eszterhza palace carlo prince nikolaus esterhzys carriage ride prussian spy one notorious alchemists habsburg empire already eszterhza charlotte von steinbeck proper sister prince nikolauss mistress charlotte retreated countryside mourn husbands death must overcome ingrained rules society order uncover dangerous secrets lurking within palaces golden walls music magic blackmail mingle plot assassinate habsburg emperor empressa plot stopped carlo charlotte see masks worn everyone meet', 'avatar last airbender smoke shadow part smoke shadow children disappearing fire nation capitol avatar aang friends everything power save enoughwhats worse azula mad sister fire lord zuko appears scene zuko locks capitol catch igniting fear riots streets zuko follow evil fathers footsteps children disappearing fire nation capitol avatar aang friends everything power save enoughwhats worse azula mad sister fire lord zuko appears scene zuko locks capitol catch igniting fear riots streets zuko follow evil fathers footsteps order save holds dearwritten drawn creative team behind bestselling promise search rift gene luen yang gurihiru collaboration avatar last airbender legend korra creators michael dante dimartino bryan konietzko ultimate continuation avatar perfect companion legend korra', 'frostbite vampire academy love jealousy collide slopes winter break turns deadlylissa dragomir moroi princess mortal vampire rare gift harnessing earths magic must protected times strigoi fiercest vampires ones never die powerful blend human vampire blood flows rose hathaway lissas best friend love jealousy collide slopes winter break turns deadlylissa dragomir moroi princess mortal vampire rare gift harnessing earths magic must protected times strigoi fiercest vampires ones never die powerful blend human vampire blood flows rose hathaway lissas best friend makes dhampir rose dedicated dangerous life protecting lissa strigoi hellbent making lissa one themrose serious guy trouble gorgeous tutor dimitri eye someone else friend mason huge crush keeps getting stuck best friend lissas head shes making boyfriend christianthen nearby strigoi attack puts st vladimirs high alert academy whisks students away mandatory holiday ski trip glittering winter landscape posh idaho resort provide illusion safety three students run away strike back deadly strigoi rose must join forces christian rescue time rose heart danger ever could imagined']\n",
            "\n",
            "Documents for Topic 12:\n",
            " ['sharp objects wicked hipbone girl across heart words like road map reporter camille preakers troubled past fresh brief stay psych hospital camilles first assignment secondrate daily paper works brings reluctantly back hometown cover murders two preteen girls nasty kneecap babydoll leg since wicked hipbone girl across heart words like road map reporter camille preakers troubled past fresh brief stay psych hospital camilles first assignment secondrate daily paper works brings reluctantly back hometown cover murders two preteen girls nasty kneecap babydoll leg since left town eight years ago camille hardly spoken neurotic hypochondriac mother halfsister barely knows beautiful thirteenyearold eerie grip town installed familys victorian mansion camille haunted childhood tragedy spent whole life trying cut memory harmful wrist whore ankle camille works uncover truth violent crimes finds identifying young victimsa bit strongly clues keep leading dead ends forcing camille unravel psychological puzzle past get story dogged demons camille confront happened years wants survive homecomingwith taut crafted writing sharp objects addictive haunting unforgettable', 'maude grew country new edition maude updated mardo williams daughters adding historical details dad wished make twice many photos nine appendices present hardcover ohioana library award author year lifetime maude went lb woodburning stove microwave oven outdo new edition maude updated mardo williams daughters adding historical details dad wished make twice many photos nine appendices present hardcover ohioana library award author year lifetime maude went lb woodburning stove microwave oven outdoor privy indoor plumbing got vote voted next presidential electionswith poetry human dramas two murders suicide written master journalist book shows impact changing times shy unassuming maude funloving husband lee four active children farmed acres banks rush creek logan county ohioa favorite book discussion groups maude adopted several colleges use supplemental american history text', 'marriage opposites new york times bestselling author dovekeepers museum extraordinary things forbidden love story set tropical island st thomas extraordinary woman gave birth painter camille pissarro father impressionismgrowing idyllic st thomas early rachel dreams life faraway paris rachels mothe new york times bestselling author dovekeepers museum extraordinary things forbidden love story set tropical island st thomas extraordinary woman gave birth painter camille pissarro father impressionismgrowing idyllic st thomas early rachel dreams life faraway paris rachels mother pillar small refugee community jews escaped inquisition never forgiven daughter difficult girl refuses live rules growing rachels salvation maid adelles belief strengths deep lifelong friendship jestine adelles daughter rachels life married widower three children save fathers business husband dies suddenly handsome much younger nephew frderick arrives france settle estate rachel seizes life story beginning defiant passionate love affair sparks scandal affects family including favorite son become one greatest artists francebuilding triumphs dovekeepers museum extraordinary things set world almost unimaginable beauty marriage opposites showcases beloved bestselling alice hoffman height considerable powers forgotten history marriage rachel frderick story unforgettable remarkable', 'still life bread crumbs superb love story anna quindlen new york times bestselling author rise shine blessings short guide happy life still life bread crumbs begins imagined gunshot ends new tin roof two wry knowing portrait rebecca winter photographer whose work made unlikely heroine many women superb love story anna quindlen new york times bestselling author rise shine blessings short guide happy life still life bread crumbs begins imagined gunshot ends new tin roof two wry knowing portrait rebecca winter photographer whose work made unlikely heroine many women career descendent bank balance shaky fled city middle nowhere discovers tree stand roofer named jim bates sees camera lens life brilliantly written powerfully observed still life bread crumbs deeply moving often funny story unexpected love stunningly crafted journey life woman heart mind days discovers life story many levels story longer exciting ever imagined', 'glory everything beyond kitchen house author new york times bestseller beloved book club favorite kitchen house novel family longburied secrets along treacherous underground railroadjamie pyke son slave master tall oakes deadly secret compels take treacherous journey underground railroadpublished kitchen ho author new york times bestseller beloved book club favorite kitchen house novel family longburied secrets along treacherous underground railroadjamie pyke son slave master tall oakes deadly secret compels take treacherous journey underground railroadpublished kitchen house became grassroots bestseller fans connected deeply books characters author kathleen grissom found asked happens next wait finally overthis new standalone novel opens jamie fled virginian plantation called home passing philadelphia society wealthy white silversmith many years striving jamie achieved acclaim security discover aristocratic lover caroline pregnant reveal real identity learns beloved servant pan captured sold slavery south pans father jamie owes great debt pleads jamies help jamie agrees knowing journey take perilously close tall oakes ruthless slave hunter still searching meanwhile carolines father learns exposes jamies secret jamie loses home business finally carolineheartbroken nothing lose jamie embarks trip north carolina plantation pan held former tall oakes slave named sukey intent getting pan underground railroad soon three running great dismal swamp notoriously deadly hiding place escaped slaves though help underground railroad make alive']\n",
            "\n",
            "Documents for Topic 13:\n",
            " ['agnostic spirited manifesto widely admired writer religion celebrates agnosticism vibrant engagingand ultimately honeststance toward mysteries existence one four americans reject affiliation organized religion nearly half thirty describe spiritual religious airwaves resound haranguing widely admired writer religion celebrates agnosticism vibrant engagingand ultimately honeststance toward mysteries existence one four americans reject affiliation organized religion nearly half thirty describe spiritual religious airwaves resound haranguing preachers pundits speaks millions find joy whittling wonder existence simple yesno choice lesley hazleton provocative brilliant book gives voice case agnosticism breaks free stereotypes watereddown atheism amorphous seeking celebrates reasoned revealing sustaining stance toward life stepping lines imposed rigid conviction draws philosophy theology psychology science explore curiosity passion vital role mystery deceptively informationrich world ask mean search meaning invoke humbling yet elating perspective infinity challenge received ideas death reconsider soul might inspired inspiring agnostic recasts question belief problem solved invitation ongoing openended adventure mind', 'god unpleasant character fiction words come mind think god merciful compassionate fact bible lays gods primary qualities clearly jealous petty unforgiving bloodthirsty vindictiveand worse originally conceived joint presentation influential thinker bestselling author richard dawkins former evangelical preacher dan barker unique book words come mind think god merciful compassionate fact bible lays gods primary qualities clearly jealous petty unforgiving bloodthirsty vindictiveand worse originally conceived joint presentation influential thinker bestselling author richard dawkins former evangelical preacher dan barker unique book provides investigation may unpleasant character fiction barker combs old new testament well thirteen different editions good book presenting powerful evidence scripture shouldnt govern everyday lives witty wellresearched book suggests move past bible clear path kinder thoughtful world', 'proofs god classical arguments tertullian barth leading theologian matthew levering presents thoroughgoing critical survey proofs gods existence readers interested traditional christian responses problem atheism beginning tertullian ending karl barth levering covers twentyone theologians philosophers early church modern period examining answere leading theologian matthew levering presents thoroughgoing critical survey proofs gods existence readers interested traditional christian responses problem atheism beginning tertullian ending karl barth levering covers twentyone theologians philosophers early church modern period examining answered critics day also shows relevance classical arguments contemporary debates challenges christianity addition students book appeal readers apologetics', 'god delusion preeminent scientist worlds prominent atheist asserts irrationality belief god grievous harm religion inflicted society crusades rigor wit dawkins examines god forms sexobsessed tyrant old testament benign still illogical celestial watchmaker favored preeminent scientist worlds prominent atheist asserts irrationality belief god grievous harm religion inflicted society crusades rigor wit dawkins examines god forms sexobsessed tyrant old testament benign still illogical celestial watchmaker favored enlightenment thinkers eviscerates major arguments religion demonstrates supreme improbability supreme shows religion fuels war foments bigotry abuses children buttressing points historical contemporary evidence god delusion makes compelling case belief god wrong potentially deadly also offers exhilarating insight advantages atheism individual society least clearer truer appreciation universes wonders faith could ever muster', 'mere christianity mere christianity cs lewiss forceful accessible doctrine christian belief first heard informal radio broadcasts published three separate books case christianity christian behavior beyond personality mere christianity brings together lewis saw fundamental truths religion rejecting boundaries divide mere christianity cs lewiss forceful accessible doctrine christian belief first heard informal radio broadcasts published three separate books case christianity christian behavior beyond personality mere christianity brings together lewis saw fundamental truths religion rejecting boundaries divide christianitys many denominations cs lewis finds common ground christian faith stand together proving centre something someone divergences belief differences temperament memories mutual persecution speaks voice']\n",
            "\n",
            "Documents for Topic 14:\n",
            " ['saga volume saga collected editions dramatic time jump threetime eisner award winner best continuing series continues evolve hazel begins exciting adventure life kindergarten meanwhile starcrossed family learns hard lessons owncollects saga', 'saga volume saga collected editions multiple storylines collide cosmosspanning new volume gwendolyn lying cat risk everything find cure marko makes uneasy alliance prince robot iv find missing children trapped strange world terrifying new enemies collects saga', 'lumberjanes vol terrible plan lumberjanes new york times bestselling series continues jo april mal molly ripley take everything goes bump night scary stories magical portals lead land untouched time definitely average summer lumberjanes', 'woods came woods strange things dofive mysterious spinetingling stories follow journeys eerie abyssthese chilling tales spring macabre imagination acclaimed awardwinning comic creator emily carrollcome take walk woods see awaits', 'long haul diary wimpy kid greg heffley family hit road authorillustrator jeff kinneys latest installment phenomenally bestselling diary wimpy kid series']\n",
            "\n",
            "Documents for Topic 15:\n",
            " ['bitch planet vol extraordinary machine bitch planet collected editions eisner awardnominated writer kelly sue deconnick pretty deadly captain marvel valentine de landro xfactor team bring premiere volume bitch planet deliciously vicious riff womeninprison scifi exploitationin future years road wrong direction womans failure comply patriarchal overlords res eisner awardnominated writer kelly sue deconnick pretty deadly captain marvel valentine de landro xfactor team bring premiere volume bitch planet deliciously vicious riff womeninprison scifi exploitationin future years road wrong direction womans failure comply patriarchal overlords result exile meanest penal planet galaxy newest crop fresh femmes arrive work together stay alive hidden agendas crooked guards deadliest sport earth take makercollects bitch planet', 'shadow hero shadow hero vibrant homage classic comic two masters modern graphic novel shadow hero based goldenage comic series green turtle whose hero solved crimes fought injustice like comics hero mysterious masked crusader hiding runofthemill secret identitythe green turtle first asian american su vibrant homage classic comic two masters modern graphic novel shadow hero based goldenage comic series green turtle whose hero solved crimes fought injustice like comics hero mysterious masked crusader hiding runofthemill secret identitythe green turtle first asian american superheronow exactly seventy years later new york timesbestselling author gene luen yang revived nearly forgotten pioneering character new graphic novel creates origin story goldenage green turtle artwork unmatched sonny liew hilarious insightful graphic novel heroism heritage also loving tribute long rich tradition american superhero comics', 'batman long halloween batman taking place batmans early days crime fighting new edition classic mystery tells story mysterious killer murders prey holidays working district attorney harvey dent lieutenant james gordon batman races calendar tries discover holiday claims next victim month myster taking place batmans early days crime fighting new edition classic mystery tells story mysterious killer murders prey holidays working district attorney harvey dent lieutenant james gordon batman races calendar tries discover holiday claims next victim month mystery reader continually guessing identity killer story also ties events transform harvey dent batmans deadly enemy twofacethis edition includes original issue series well four additional story pages cut original series presented fully colored restored place story also featured sketches introduction director writer dark knight rises christopher nolan david goyer', 'batman dark knight returns batman masterpiece modern comics storytelling brings vivid life dark world even darker man together inker klaus janson colorist lynn varley writerartist frank miller completely reinvents legend batman saga nearfuture gotham city gone rot ten years dark knights retirement crime runs rampant streets masterpiece modern comics storytelling brings vivid life dark world even darker man together inker klaus janson colorist lynn varley writerartist frank miller completely reinvents legend batman saga nearfuture gotham city gone rot ten years dark knights retirement crime runs rampant streets man batman still tortured memories parents murders civil society crumbles around bruce waynes longsuppressed vigilante side finally breaks free selfimposed shackles dark knight returns blaze fury taking whole new generation criminals matching level violence soon joined generations robin girl named carrie kelley proves invaluable predecessorsbut batman robin deal threat posed deadliest enemies years incarceration made perfect psychopaths important anyone survive coming fallout undeclared war superpowers clash worlds greatest superheroesover fifteen years debut batman dark knight returns remains undisputed classic one influential stories ever told comics mediumcollecting batman dark knight returns', 'wonder woman earth one volume one wonder woman earth one following new york times bestselling original graphic novels batman earth one volume one superman earth one volumes one two comes wonder woman earth one volume onecritically acclaimed bestselling writer grant morrison allstar superman batman inc pushes boundaries graphic novel page mindbending new take following new york times bestselling original graphic novels batman earth one volume one superman earth one volumes one two comes wonder woman earth one volume onecritically acclaimed bestselling writer grant morrison allstar superman batman inc pushes boundaries graphic novel page mindbending new take powerful woman dc universe stunning art yanick paquette swamp thing wonder woman earth one volume one easily accessible jumping point new readers']\n",
            "\n",
            "Documents for Topic 16:\n",
            " ['music works music works david byrnes remarkable buoyant celebration subject spent lifetime thinking explores profoundly music shaped time place explains advent recording technology twentieth century forever changed relationship playing performing listening musicacting historian music works david byrnes remarkable buoyant celebration subject spent lifetime thinking explores profoundly music shaped time place explains advent recording technology twentieth century forever changed relationship playing performing listening musicacting historian anthropologist raconteur social scientist searches patternsand shows patterns affected work years talking heads many collaborators brian eno caetano veloso byrne sees music part larger almost darwinian pattern adaptations responses cultural physical context range panoptic taking us wagnerian opera houses african villages earliest high school reeltoreel recordings latest work home music studio big studios betweentouching joy physics even business making music music works brainy irresistible adventure impassioned argument musics liberating lifeaffirming power', 'hamilton revolution linmanuel mirandas groundbreaking musical hamilton revolutionary subject poor kid caribbean fought british defended constitution helped found united states fusing hiphop pop rb best traditions theater onceinageneration show broadens sound broadway reveals storytelling power r linmanuel mirandas groundbreaking musical hamilton revolutionary subject poor kid caribbean fought british defended constitution helped found united states fusing hiphop pop rb best traditions theater onceinageneration show broadens sound broadway reveals storytelling power rap claims countrys origins diverse new generationhamilton revolution gives readers unprecedented view revolutions two writers able provide miranda along jeremy mccarter cultural critic theater artist involved project earliest stagessince even show according mirandatraces development improbable performance white house landmark opening night broadway six years later addition miranda written funny revealing footnotes awardwinning libretto full text published heretheir account features photos renowned frank ockenfels veteran broadway photographer joan marcus exclusive looks notebooks emails interviews questlove stephen sondheim leading political commentators people involved production multiple appearances president obama book tell surprising story broadway musical became national phenomenon demonstrates america always renewed brash upstarts brilliant outsiders men women dont throw away shot', 'train national book awardwinning author kids unforgettable odyssey mind legendary artist told prism cafs haunts visited worked around worldm train journey eighteen stations begins tiny greenwich village caf smith goes every morning black coffee ruminates w national book awardwinning author kids unforgettable odyssey mind legendary artist told prism cafs haunts visited worked around worldm train journey eighteen stations begins tiny greenwich village caf smith goes every morning black coffee ruminates world world writes notebook travel prose shifts fluidly dreams reality past present across landscape creative aspirations inspirations frida kahlos casa azul mexico meeting arctic explorers society berlin ramshackle seaside bungalow new yorks far rockaway smith buys hurricane sandy hits graves genet plath rimbaud mishima woven throughout reflections writers craft artistic creation alongside signature memories including life michigan husband guitarist fred sonic smith whose untimely death irremediable loss loss well consolation might salvage lies heart exquisitely told memoir one augmented stunning blackandwhite polaroids taken smith train meditation endings beginnings poetic tour de force one brilliant multiplatform artists work today', 'playing heart peter h reynolds creator dot composed pitchperfect tribute power music bonds familywhen young boy begins play familys piano reveling fun plunking keys father signs lessons learn play properly fathers encouragement raj learns notes scales songs peter h reynolds creator dot composed pitchperfect tribute power music bonds familywhen young boy begins play familys piano reveling fun plunking keys father signs lessons learn play properly fathers encouragement raj learns notes scales songs finally classical pieces father recognize proud raj practices skilled becomes less enjoys playing grows stops playing altogether father becomes ill asks raj play raj remember play heart', 'great railway bazaar first published thirty years ago paul therouxs strange unique hugely entertaining railway odyssey become modern classic travel literature theroux recounts early adventures unusual grand continental tour asias fabled trains orient express khyber pass local frontier mail golden arrow kuala lumpur mand first published thirty years ago paul therouxs strange unique hugely entertaining railway odyssey become modern classic travel literature theroux recounts early adventures unusual grand continental tour asias fabled trains orient express khyber pass local frontier mail golden arrow kuala lumpur mandalay express transsiberian express stars journey takes loop eastbound londons victoria station tokyo central back japan transsiberian brimming therouxs signature humor wry observations engrossing chronicle essential reading ardent adventurer armchair traveler']\n",
            "\n",
            "Documents for Topic 17:\n",
            " ['penny maybe sent yet another foster family penny decides way claim sense self swim lake ontario although seems impossible finds courage ask physics teacher coach wins support new foster mother', 'darkest lie mother knew would never thingsbut maybe never knew allclothes jokes coded messagescecilia brooks mom shared everything least cece thought six months ago mom killed accusations sex student ceces subject whispers taunts ever since start high mother knew would never thingsbut maybe never knew allclothes jokes coded messagescecilia brooks mom shared everything least cece thought six months ago mom killed accusations sex student ceces subject whispers taunts ever since start high school senior year dealing grieving distracted father social nightmare become life cece wants fly radar instead shes volunteering schools crisis hotlinethe place mother workedas counsels troubled strangers ceces lingering suspicions moms death surface help sam new student newspaper intern starts piece together fragmented clues point twisted secret heart community soon finding truth isnt matter restoring mothers reputation saving livesincluding ceces', 'tastes like fear di marnie rome sarah hilary theakstons crime novel year debut richard judy pick someone elses skin followed darkness proclaimed riveting lisa gardner truly mesmerising david mark di marnie rome returns third novelhome harm liesthe young girl causes fatal car crash disap sarah hilary theakstons crime novel year debut richard judy pick someone elses skin followed darkness proclaimed riveting lisa gardner truly mesmerising david mark di marnie rome returns third novelhome harm liesthe young girl causes fatal car crash disappears scenea runaway doesnt want found wants go hometo one man understands hergives shelter gives shelter lost girls live househes head new familyhes harm harms family threatened marnie rome find everything tastes like fear', 'shtum powerful darkly funny heartbreaking shtum story fathers sons autism dysfunctional relationshipsben jewell hit breaking point tenyearold son jonah severe autism ben wife emma struggling copewhen ben emma fake separation strategic decision jonahs case upcoming tribunal ben jon powerful darkly funny heartbreaking shtum story fathers sons autism dysfunctional relationshipsben jewell hit breaking point tenyearold son jonah severe autism ben wife emma struggling copewhen ben emma fake separation strategic decision jonahs case upcoming tribunal ben jonah move georg bens elderly father small house north london three generations men one cant talk two wont thrown togethera powerful emotional enjoyable read perfect fans shock fall curious incident dog nighttime', 'mothers reckoning living aftermath tragedy april eric harris dylan klebold walked columbine high school littleton colorado course minutes would kill twelve students teacher wound twentyfour others taking livesfor last sixteen years sue klebold dylans mother lived indescribable grief shame day could ch april eric harris dylan klebold walked columbine high school littleton colorado course minutes would kill twelve students teacher wound twentyfour others taking lives last sixteen years sue klebold dylans mother lived indescribable grief shame day could child promising young man loved raised responsible horror mother known something wrong subtle signs missed anything could done differently questions klebold grappled every day since columbine tragedy mothers reckoning chronicles unflinching honesty journey mother trying come terms incomprehensible hope insights understanding gained may help families recognize child distress tells story full drawing upon personal journals videos writings dylan left behind countless interviews mental health experts filled hardwon wisdom compassion mothers reckoning powerful haunting book sheds light one pressing issues time fresh wounds recent newtown charleston shootings never need understanding urgent author profits book donated research charitable foundations focusing mental health issues']\n",
            "\n",
            "Documents for Topic 18:\n",
            " ['bane chronicles bane chronicles fans mortal instruments infernal devices get know warlock magnus bane like never collection new york times bestselling tales print first time exclusive new story illustrated materialthis collection eleven short stories illuminates life enigmatic magnus bane whose alluring personality flamboyan fans mortal instruments infernal devices get know warlock magnus bane like never collection new york times bestselling tales print first time exclusive new story illustrated materialthis collection eleven short stories illuminates life enigmatic magnus bane whose alluring personality flamboyant style sharp wit populate pages new york times bestselling series mortal instruments infernal devicesoriginally released onebyone eonly short stories cassandra clare maureen johnson sarah rees brennan compilation presents ten together print first time includes neverbeforeseen eleventh tale well new illustrated material', 'clockwork angel infernal devices time shadowhunters barely winning fight forces darkness one battle change course history forever welcome infernal devices trilogy stunning dangerous prequel new york times bestselling mortal instruments seriesthe year tessa gray descends londons dark supernatural underworld search time shadowhunters barely winning fight forces darkness one battle change course history forever welcome infernal devices trilogy stunning dangerous prequel new york times bestselling mortal instruments seriesthe year tessa gray descends londons dark supernatural underworld search missing brother soon discovers allies demonslaying shadowhuntersincluding jem mysterious boys attracted soon find pandemonium club secret organization vampires demons warlocks humans equipped magical army unstoppable clockwork creatures club rule british empire tessa allies stop', 'city glass mortal instruments also see alternate cover editions isbn ace ace save mothers life clary must travel city glass ancestral home shadowhunters never mind entering city without permission law breaking law could mean death make things worse learns jace want simon thr also see alternate cover editions isbn ace ace save mothers life clary must travel city glass ancestral home shadowhunters never mind entering city without permission law breaking law could mean death make things worse learns jace want simon thrown prison shadowhunters deeply suspicious vampire withstand sunlightas clary uncovers familys past finds ally mysterious shadowhunter sebastian valentine mustering full force power destroy shadowhunters forever chance defeat fight alongside eternal enemies downworlders shadowhunters put aside hatred work together jace realizes exactly much hes willing risk clary harness newfound powers help save glass city whatever costlove mortal sin secrets past prove deadly clary jace face valentine third installment new york times bestselling series mortal instruments', 'city fallen angels mortal instruments mortal war sixteenyearold clary fray back home new york excited possibilities shes training become shadowhunter use unique power mother getting married love life downworlders shadowhunters peace last andmost importantly allshe finally call jace boyfriend mortal war sixteenyearold clary fray back home new york excited possibilities shes training become shadowhunter use unique power mother getting married love life downworlders shadowhunters peace last andmost importantly allshe finally call jace boyfriendbut nothing comes without pricesomeone murdering shadowhunters provoking tensions downworlders shadowhunters could lead second bloody war clarys best friend simon cant help herhis mother found hes vampire hes homeless jace begins pull away without explaining clary forced delve heart mystery whose solution reveals worst nightmare set motion terrible chain events could lead losing everything loves even jace', 'city bones mortal instruments fifteenyearold clary fray heads pandemonium club new york city hardly expects witness murder much less murder committed three teenagers covered strange tattoos brandishing bizarre weapons body disappears thin air hard call police murderers invisible everyone else fifteenyearold clary fray heads pandemonium club new york city hardly expects witness murder much less murder committed three teenagers covered strange tattoos brandishing bizarre weapons body disappears thin air hard call police murderers invisible everyone else nothingnot even smear bloodto show boy died boythis clarys first meeting shadowhunters warriors dedicated ridding earth demons also first encounter jace shadowhunter looks little like angel acts lot like jerk within twentyfour hours clary pulled jaces world vengeance mother disappears clary attacked demon would demons interested ordinary mundanes like clary mother clary suddenly get sight shadowhunters would like know exotic gritty exhilarating utterly gripping cassandra clares ferociously entertaining fantasy takes readers wild ride never want end']\n",
            "\n",
            "Documents for Topic 19:\n",
            " ['secrets lace fatal hearts warning due sexual situations adult content dark romance thriller series intended readers age anyone unable read books containing kidnapping murder rape extreme abuse chloe parker world feet career magazine publishing flourishing shes married miles durant warning due sexual situations adult content dark romance thriller series intended readers age anyone unable read books containing kidnapping murder rape extreme abuse chloe parker world feet career magazine publishing flourishing shes married miles durant gorgeous billionaire man dreams one month wedding receives countdown card sender return address message piece lace stained blood wedding gets closer cards keep coming every day without fail seems shes counting happiest day life someone countdown chloe fears shes danger cant turn cops help theres something past wants remain hidden dark secret could destroy life dreams make things worse miles becoming increasingly impatient suspicious past point hes angry becomes man doesnt recognize working keep relationship intact chloe must find wants hurt loses everything ends dead', 'silent sister riley macpherson silent sister riley macpherson spent entire life believing older sister lisa committed suicide teenager twenty years later father passed away shes new bern north carolina cleaning house finds evidence contrary lisa alive alive living new identity exactly silent sister riley macpherson spent entire life believing older sister lisa committed suicide teenager twenty years later father passed away shes new bern north carolina cleaning house finds evidence contrary lisa alive alive living new identity exactly run years ago secrets kept riley works uncover truth discoveries put question everything thought knew family riley must decide past means present newfound reality engrossing mystery international bestselling author diane chamberlain', 'widow new york timesbestsellerfor fans gone girl girl train electrifying thriller take dark spaces exist husband wifewhen police started asking questions jean taylor turned different woman one enabled husband carry bad things began happen womans h new york times bestsellerfor fans gone girl girl train electrifying thriller take dark spaces exist husband wifewhen police started asking questions jean taylor turned different woman one enabled husband carry bad things began happen womans husband died last week jean doesnt anymore theres lot jean hasnt said years crime husband suspected committing busy perfect wife standing man living accusing glares anonymous harassment theres reason stay quiet people want hear story want know like living man tell secrets always marriage truththats anyone wants one lesson jean learned last years make people believe anything', 'shack mackenzie allen philips youngest daughter missy abducted family vacation evidence may brutally murdered found abandoned shack deep oregon wilderness four years later midst great sadness mack receives suspicious note apparently god inviting back shack weekendagainst hi mackenzie allen philips youngest daughter missy abducted family vacation evidence may brutally murdered found abandoned shack deep oregon wilderness four years later midst great sadness mack receives suspicious note apparently god inviting back shack weekendagainst better judgment arrives shack wintry afternoon walks back darkest nightmare finds change macks world foreverin world religion seems grow increasingly irrelevant shack wrestles timeless question god world filled unspeakable pain answers mack gets astound perhaps transform much youll want everyone know read book book description back cover', 'drowning girls critically acclaimed author mourning hours fragile world paula treick deboard returns tale dark secrets shocking lies dangerous obsession change one neighborhood foreverliz mcginnis never imagined living luxurious gated community like palms ever since family moved shes felt like outsider amon critically acclaimed author mourning hours fragile world paula treick deboard returns tale dark secrets shocking lies dangerous obsession change one neighborhood foreverliz mcginnis never imagined living luxurious gated community like palms ever since family moved shes felt like outsider amongst stepfordlike wives obnoxiously spoiled children still shes determined make workif husband phil landed lavish home first place daughter danielle whos enter high school yet underneath glossy veneer palms life far idyllic place reputation everything liz soon discovers even friendliest residents cant trustedand almost everyone secrets theyd anything protect gorgeous girl next door befriends danielle liz cant help find sophisticated kelseys interest shy slightly nerdy daughter bit suspicious kelsey quickly becomes fixture mcginnis home lizs relationships danielle phil grow strained even family seems hiding things long dream living high life quickly spirals control']\n",
            "\n",
            "Documents for Topic 20:\n",
            " ['midnight clear christmas eve private investigator adam fraley lost way traveling remote rural road foothills colorado rockies heavy snowstorm loss turn next happens upon isolated cabin woods stops seek directions greet dwellings lone inhabitant enchanting young girl wh christmas eve private investigator adam fraley lost way traveling remote rural road foothills colorado rockies heavy snowstorm loss turn next happens upon isolated cabin woods stops seek directions greet dwellings lone inhabitant enchanting young girl invites storm puzzled circumstances child left home along conditions fraley soon discovers horrific reason revelation launches intensive search killer trove buried gold', 'miss peregrines home peculiar children miss peregrines peculiar children mysterious island abandoned orphanage strange collection curious photographsa horrific family tragedy sets sixteenyearold jacob journeying remote island coast wales discovers crumbling ruins miss peregrines home peculiar children jacob explores abandoned bedrooms hallways becomes clear children w mysterious island abandoned orphanage strange collection curious photographsa horrific family tragedy sets sixteenyearold jacob journeying remote island coast wales discovers crumbling ruins miss peregrines home peculiar children jacob explores abandoned bedrooms hallways becomes clear children peculiar may dangerous may quarantined deserted island good reason somehowimpossible though seemsthey may still alivea spinetingling fantasy illustrated haunting vintage photography miss peregrines home peculiar children delight adults teens anyone relishes adventure shadows', 'hush hush hush hush sacred oatha fallen angela forbidden loveromance part nora greys plan shes never particularly attracted boys school matter hard best friend vee pushes patch comes along easy smile eyes seem see inside patch draws nora better judgmentbut series sacred oatha fallen angela forbidden loveromance part nora greys plan shes never particularly attracted boys school matter hard best friend vee pushes patch comes along easy smile eyes seem see inside patch draws nora better judgmentbut series terrifying encounters noras sure trust patch seems everywhere seems know closest friends cant decide whether fall arms run hide tries seek answers finds near truth way unsettling anything patch makes feelfor right middle ancient battle immortal fallen comes choosing sides wrong choice cost nora life', 'carrie carrie knew use terrifying power possessed one night senior prom carrie scorned humiliated one time many fit uncontrollable fury turned clandestine game weapon horror destruction', 'nightstruck novel starts cry nightbecket walking dog one winter evening fears abandoned baby left cold something elsesomething eviland tricks becket opening doorway another realm letting darkness world corruption begins transforming philadelphia sinister menacing version itselfbut starts cry nightbecket walking dog one winter evening fears abandoned baby left cold something elsesomething eviland tricks becket opening doorway another realm letting darkness world corruption begins transforming philadelphia sinister menacing version itselfbut nightthe changes subtle first causing becket doubt senses sanity soon nightmarish truth impossible deny day city city night literally comes alive malevolent purpose brick steel become bone streetlights turn gallows hungry alleys wait snare mortal victims terrified citizens huddle indoors dusk others succumb siren song night letting darker sides run wildonce beckets biggest problems living police commissioner fathers high expectations secret crush best friends boyfriend must find way survive protect loved onesbefore darkness takes well']\n",
            "\n",
            "Documents for Topic 21:\n",
            " ['first hostage jb collins president united states missingwith words new york times journalist j b collins reporting scene devastating attack isis terrorists amman jordan puts entire world high alert leaders israel palestine critically injured jordans king fighting life us president missing p president united states missingwith words new york times journalist j b collins reporting scene devastating attack isis terrorists amman jordan puts entire world high alert leaders israel palestine critically injured jordans king fighting life us president missing presumed capturedas us government faces constitutional crisis jordan battles existence collins must best keep world informed working convince fbi stories responsible terror attack jordanian capital isis still chemical weapons struggling clear name collins secret service try frantically locate rescue leader free world isiss threats become catastrophic reality', 'th colony cotton malone shot siberia simple meetandgreetmission exjustice department agent cotton malone forced fight survival aleksandr zorin whose loyalty former soviet union festered decades intense hatred united statesbefore escaping malone learns zorin another exkgb officer one sleeper shot siberia simple meetandgreetmission exjustice department agent cotton malone forced fight survival aleksandr zorin whose loyalty former soviet union festered decades intense hatred united statesbefore escaping malone learns zorin another exkgb officer one sleeper still imbedded west headed overseas washington dc inauguration daynoon january hours away flaw constitution even flawed presidential succession act opened door political chaos zorin intends exploit weaknesses fullestarmed weapon leftover cold war one long thought myth zorin plans attack hes aided shocking secret hidden archives americas oldest fraternal organizationthe society cincinnatia group lent military savvy presidents including helping formulate three covert invasion plans canadain race clock starts frozen extremes russia ultimately ends white house malone must battle zorin must also confront deepest fear crippling weakness hes long denied one jeopardizes everything steve berrys trademark mix fact fiction history speculation front center provocative new thriller', 'doctor sleep shining stephen king returns characters territory one popular novels ever shining instantly riveting novel middleaged dan torrance boy protagonist shining special twelveyearold girl must save tribe murderous paranormalson highways across america tribe people called true knot stephen king returns characters territory one popular novels ever shining instantly riveting novel middleaged dan torrance boy protagonist shining special twelveyearold girl must save tribe murderous paranormalson highways across america tribe people called true knot travel search sustenance look harmlessmostly old lots polyester married rvs dan torrance knows spunky twelveyearold abra stone learns true knot quasiimmortal living steam children shining produce slowly tortured deathhaunted inhabitants overlook hotel spent one horrific childhood year dan drifting decades desperate shed fathers legacy despair alcoholism violence finally settles new hampshire town aa community sustains job nursing home remnant shining power provides crucial final comfort dying aided prescient cat becomes doctor sleepthen dan meets evanescent abra stone spectacular gift brightest shining ever seen reignites dans demons summons battle abras soul survival epic war good evil gory glorious story thrill millions devoted readers shining satisfy anyone new territory icon king canon', 'hours inside account really happened benghazi harrowing true account brave men ground fought back battle benghazi hours presents first time ever true account events september terrorists attacked us state department special mission compound nearby cia station called annex benghazi libya team six american security harrowing true account brave men ground fought back battle benghazi hours presents first time ever true account events september terrorists attacked us state department special mission compound nearby cia station called annex benghazi libya team six american security operators fought repel attackers protect americans stationed men went beyond call duty performing extraordinary acts courage heroism avert tragedy much larger scale personal account never told happened thirteen hours nowinfamous attack hours sets record straight happened night shrouded mystery controversy written new york times bestselling author mitchell zuckoff riveting book takes readers actionpacked story heroes laid lives line one another countrymen country hours stunning eyeopening intense bookbut importantly truth story happened menand accomplishedis unforgettable', 'left behind left behind airborne boeing headed london without warning passengers mysteriously disappear seats terror chaos slowly spread plane also worldwide unusual events continue unfold left behind apocalypse begun']\n",
            "\n",
            "Documents for Topic 22:\n",
            " ['cute hurts vol cute hurts kobayashi twins megumu mitsuru named historical figures megumu grown taste history mitsuru danger losing weekends extra history classes convinces sister swap clothes ace tests hard play othermegumu considering career kobayashi twins megumu mitsuru named historical figures megumu grown taste history mitsuru danger losing weekends extra history classes convinces sister swap clothes ace tests hard play othermegumu considering career manga artist mitsuru helpfully points drawing skills could use lot improvement doesnt dim enthusiasm vows practice drawing every day first sketching session park interrupted intense young man goes ballistic sees portrait aoi sketchbook stranger want destroy boyfriend', 'fruits basket vol fruits basket finally summer arrived tohru struggles bipolar days hope anxiety happen yuki comes facetoface new member student council meanwhile uochans hanging crazy love bonus feature hanachans past finally disclosed', 'fruits basket vol fruits basket tohru company lot fun ever since kisa came visit time tohru meet another member zodiac skillfully sarcastic gradeschool student hiro one way another tyke deal resentment tohru affection kisa find answers fabulous th volume superp tohru company lot fun ever since kisa came visit time tohru meet another member zodiac skillfully sarcastic gradeschool student hiro one way another tyke deal resentment tohru affection kisa find answers fabulous th volume superpopular fruits basket course', 'fruits basket vol fruits basket delving recesses kyos past find sohma trio returning home rainy day mysterious man known kyo long time meets trust loyalty bonds family friendship tested tohru must help kyo deal monsters hes trying avoid', 'fruits basket vol fruits basket springtime treat shigure arranges tohru gang spend golden week sohmas vacation home rainy day holiday draws close make surprise visit hatsuharu whats hes hiding bundle arm']\n",
            "\n",
            "Documents for Topic 23:\n",
            " ['dirty little secrets getting dream job drawing extensive experience evaluating applicants marketing agency featuring stories based reallife situations sample cover letters resumes straightforward advice raskins dirty little secrets getting dream job offers necessary tools navigating tough job market securing dream jobdon raskin owns drawing extensive experience evaluating applicants marketing agency featuring stories based reallife situations sample cover letters resumes straightforward advice raskins dirty little secrets getting dream job offers necessary tools navigating tough job market securing dream jobdon raskin owns operates mme advertising marketing agency new york city twentyfive years agency interviewed hundreds new college graduates positions within agency placed strong emphasis entrylevel recruitment positions creative account management traffic production raskin also mentored countless students parents best practices job search years raskin kept exceptionally detailed notes interviews conducted observing good bad ridiculous irreverent also treasure trove overthetop cover letters resumes interviews post interview followups conducted received wants share wisdom insider secrets gathered help students firsttime job seekers find job economybased remarkable expertise raskins book provides exclusive insight job search process lets readers dirty little secrets landing first jobor new oneand finding career success', 'throwing rocks google bus growth became enemy prosperity capital twentyfirst century meets second machine age stunning optimistic tour de force promise peril digital economy one brilliant social critics time digital technology supposed usher new age endless prosperity far used put industrial capitalism steroids makin capital twentyfirst century meets second machine age stunning optimistic tour de force promise peril digital economy one brilliant social critics time digital technology supposed usher new age endless prosperity far used put industrial capitalism steroids making harder people businesses keep social networks surrender original missions immediately profitable data mining brokerage houses abandon value investing algorithms drain markets ks alikeall tactics driven need stoke growth means necessary instead taking opportunity reprogram economy sustainability doubled growth core command reached limits approach must escape growth trap media scholar technology author douglas rushkoffone todays original influential thinkersargues new economic program utilizes unique distributive power internet breaking free winnertakeall system growth trap leaves wake drawing sources contemporary historical rushkoff pioneers new understanding old economic paradigm central currency debt corporations labormost importantly offers series practical steps businesses consumers investors policymakers remake economic operating system inside outand prosper along way instead boycotting walmart overtaxing wealthy simply implement strategies foster creation value stakeholders currency labor corporation every aspect economy reprogrammed minimal disruption create equitably distributed prosperity allinspiring challenging throwing rocks google bus provides pragmatic optimistic humancentered model economic progress digital age', 'third wave entrepreneurs vision future new york times bestsellerwall street journal bestsellerone americas accomplished entrepreneursa pioneer made internet part everyday life orchestrated largest merger history businessshares roadmap anyone succeed world rapidly changing technologysteve cases career began cofounded america online aol new york times bestsellerwall street journal bestsellerone americas accomplished entrepreneursa pioneer made internet part everyday life orchestrated largest merger history businessshares roadmap anyone succeed world rapidly changing technologysteve cases career began cofounded america online aol time three percent americans online took decade aol achieve mainstream success many neardeath experiences backtothewall pivots aol became top performing company peak half consumer internet traffic united states ran service case engineered aols merger time warner became chairman combined business case oversaw biggest media communications empire world third wave pays homage work futurist alvin toffler case borrowed title whose work inspired young man case takes us behind scenes consequential riveting business decisions time offering illuminating insights decades working entrepreneur investor philanthropist advocate sensible bipartisan policies entering case explains new paradigm called third wave internet first wave saw aol companies lay foundation consumers connect internet second wave saw companies like google facebook build top internet create search social networking capabilities apps like snapchat instagram leverage smartphone revolution case argues entering third wave period entrepreneurs vastly transform major real world sectors like health education transportation energy foodand process change way live daily lives success third wave require different skill set case outlines path forwardthe third wave part memoir part manifesto part playbook future passion clarity case explains ways newly emerging technology companies growing number argues based silicon valley rethink relationships customers competitors governments offers advice entrepreneurs make winning business decisions strategiesand us make sense changing digital age', 'entrepreneur live startup dream without quitting day job choosing stability traditional career upside entrepreneurship bothbecoming fulltime entrepreneur look glamorous outside doesnt want chase dreams boss love truth entrepreneurship often slog regular hours job security little p choosing stability traditional career upside entrepreneurship bothbecoming fulltime entrepreneur look glamorous outside doesnt want chase dreams boss love truth entrepreneurship often slog regular hours job security little pay way stability day job excitement startup benefits entrepreneurship none pitfalls entrepreneur patrick mcginnis shows investing time resources become entrepreneur without losing steady paycheck mcginnis details stepbystep plan takes identifying first entrepreneurial project figuring smartest way commit resources shows select engage projects provide upside outside office making better day job also profiles realworld entrepreneurs asluke holden cashstrapped recent college graduate started lobsterroll empire oversaw much first year operations working full time corporate americadipali patwa designer mom whose side project designing selling infant clothing sensationa group friends met bible study class went start brewery generates millions sales successful entrepreneur mcginnis explains multiple paths follow invest cash time expertise startupincluding founder angel adviser aficionado importantly dont millions disposable income become entrepreneur put mcginniss principles action youll quickly start racking small wins watch snowball new far entrepreneurial life', 'art startup fundraising art startup fundraising takes fresh look raising money startups focus changing face startup finance new regulations making old goto advice less relevant startup money increasingly moving online new waters unchartedand founders need accessible guide book helps navigate online world st art startup fundraising takes fresh look raising money startups focus changing face startup finance new regulations making old goto advice less relevant startup money increasingly moving online new waters unchartedand founders need accessible guide book helps navigate online world startup fundraising easytofollow explanations expert perspective new digital world finance youll find tips tricks raising money investing startups early stage growth stage develop clear strategy based new realities surrounding todays startup landscapethe finance world massive state flux changes occurring increasing pace sectors intensely startup sphere paradigm changes processes must change book shows startup funding works expert coaching toward new rules fieldlearn jobs act impacts fundraising modelgain insight startups early stage growth stagefind money need get venture goingcraft pitch optimize strategybuild momentumidentify right investorsavoid common mistakesdont rely tales superstar startups stories unique applied exceptional scenarios game changed playing old rules gets left behind whether youre founding startup looking invest art startup fundraising provides uptotheminute guidance needpraise art startup fundraisingthe art startup fundraising must read anyone even considers starting business fundraising hard book gives roadmap get going alejandro cremades speaks wisdom experience tim draper founder draper associates dfj draper universitythe art startup fundraising mandatory reading entrepreneurs looking raise capital book enable alejandro help many early stage companies answer tough questions fundraising marco landi former chief operating officer apple chairman atlantis venturesraising capital often daunting least understood aspects starting new business people experienced alejandro cremades act guide art startup fundraising unlocks key secrets fundraising newly minted entrepreneurs jeff stibel chairman braingate inc vice chairman dun bradstreet inc new york times bestselling author breakpoint wired thoughtthis book provides clear concise tour fundraising game crowdfunding entrepreneurial expertise full display cremades terrific job making complicated process simple accessible jeff bussgang general partner flybridge capital partners senior lecturer harvard business schoolentrepreneurs need amazing recruiting selling fundraising art startup fundraising provides essential toolkit mastering core skill entrepreneur gil penchina serial entrepreneur prolific angel investorfor many entrepreneurs finding right investor venture daunting task alejandros experience equity crowdfunding gives unique perspective fundraising game art startup fundraising insightful entrepreneurs looking close round financing changing world anyndya ghose professor nyu stern school businessthere perfect approach raising investment startup certain tribal knowledge us learn several failed attempts art startup fundraising captures every bit advice would give entrepreneur looking funding paul murphy partner betaworks cofounder playdotsalejandros art startup fundraising must read entrepreneur clear concise outlines todays startup community steps successfully fundraise golden era entrepreneurs good idea proof concept get access money know options angelo j robles founder ceo family office associationit doesnt matter great business build cant raise money youre toast master book ilya pozin forbes contributor cofounder pluto tv cofounder coplexthe art startup fundraising translates art science sharing proven formulas strategies case studies work alejandro cremades provides needed service future entrepreneurs josh cohen managing partner city light capitalthis ought reading requirement entrepreneurs building business raising capital well written informative book written man testament dedication creativity confronted challenges entrepreneur raising capital carter caldwell serial entrepreneur principal cross atlantic capital partnersalejandro bleeding edge equity crowdfunding today talks fundraising startups listen andrew ackerman managing director dreamit venturesraising capital tough alejandro provides stepbystep guidebook entrepreneurs rather spend time thinking changing world instead thinking raise funds tobias p schirmer managing partner join capital superb book fundraising alejandros guidance arm entrepreneurs necessary tools close success meaningful round financing ellen weber executive director robin hood venturesthe art startup fundraising practical comprehensive resource entrepreneurs use captures startups need successful rapidly evolving financing world also providing tips fundamentals building businesses dont change time marianne hudson executive director angel capital associationraising money hard startup founders world make exponentially easier educating process raising equity capital dive practical handson advice alejandro cremades book provides solid foundation selfeducation process delivered approachable format key lesson takeaway every pages art startup fundraising essential reading entrepreneurs everywhere allen taylor managing director endeavor']\n",
            "\n",
            "Documents for Topic 24:\n",
            " ['light attic hard imagine world without light attic nowclassic collection poetry drawings shel silverstein celebrates th anniversary special edition silversteins humorous creative verse amuse dowdiest readers lemonfaced adults fidgety kids sit still read rhythmic words laugh smile love th hard imagine world without light attic nowclassic collection poetry drawings shel silverstein celebrates th anniversary special edition silversteins humorous creative verse amuse dowdiest readers lemonfaced adults fidgety kids sit still read rhythmic words laugh smile love silverstein need proof genius rockabyerockabye baby treetopdont know treetopis safe place rockand put thereand cradle toobaby think someone heresgot shel never sounded good', 'lumberjanes vol beware kitten holy lumberjanes friendship maxat miss qiunzilla thiskwin penniquiqul thistle crumpets camp hardcore ladytypes things seem threeeyed foxes secret caves anagrams luckily jo april mal molly ripley five rad buttkicking best pals determined awesome summer together theyre gon na let magical quest array supern friendship maxat miss qiunzilla thiskwin penniquiqul thistle crumpets camp hardcore ladytypes things seem threeeyed foxes secret caves anagrams luckily jo april mal molly ripley five rad buttkicking best pals determined awesome summer together theyre gon na let magical quest array supernatural critters get way mystery keeps getting bigger begins collects lumberjanes', 'dress family corduroy denim david sedaris returns deliriously twisted domain hilarious childhood dramas infused melancholy gulf misunderstanding exists people different nations members family poignant divide ones best hopes common deeds family characters readers love well unique terrain david sedaris returns deliriously twisted domain hilarious childhood dramas infused melancholy gulf misunderstanding exists people different nations members family poignant divide ones best hopes common deeds family characters readers love well unique terrain inhabit strewn comic landmines rooster back getting married funniest wedding ever described david attends slumber party gets upper hand unique version strip poker rubber plastic strangest questions tear people apart skinny guy spain wearing bishops hat accompanied six eight men invades house pretends kick way spend christmas new book sedariss prose reaches breathtaking new heights marks territory unmistakably read weep tears humane laughter', 'shrunken treasures literary classics short sweet silly nine weighty literary classics transformed delectable morsels scott nashs playful versification whimsical illustrationcant stomach frankenstein lacking strength read odyssey dont nights get scheherazades ordeal never fear shrunken treasures nine worlds bestknown stories books bee nine weighty literary classics transformed delectable morsels scott nashs playful versification whimsical illustrationcant stomach frankenstein lacking strength read odyssey dont nights get scheherazades ordeal never fear shrunken treasures nine worlds bestknown stories books reduced like slowly simmered cherries tart tasty mouthfuls lighthearted verse turns mobydick simple nursery song outrageous color makes even gloomy hamlet seem like fun riotous images transform jane eyres ordeal whirlwind adventure metamorphosis remembrance things past quixote others delivered dense duty delightful ditty scott nashs collection hallowed classics featuring notes original texts end', 'day crayons came home crayons companion blockbuster bestseller day crayons quit im sure kid duncan crayons sure colorful bunch characters soothed hurt feelings one group threatened quit duncan faces whole new group crayons asking rescued maroon crayon lost beneath sofa cushions companion blockbuster bestseller day crayons quit im sure kid duncan crayons sure colorful bunch characters soothed hurt feelings one group threatened quit duncan faces whole new group crayons asking rescued maroon crayon lost beneath sofa cushions broken two dad sat poor turquoise whose head stuck one duncans stinky socks ended dryer together pea green knows darn well kid likes peas ran awayeach every crayon woeful tale tell plea brought home crayon box drew daywalt oliver jeffers combined create companion book every bit funny kidfriendly bestselling day crayons quitpraise day crayons quit new york times bestselling phenomenon weeks bestseller listwinner eb white readaloud award amazons best picture book year barnes noble best book goodreads best picture book year hilarious move click clack moo weve got new contender successful picturebook strike bccb starred review jeffers elevates crayon drawing remarkable heights booklist fresh funny wall street journal book children asking read library media connection colorful title make uproarious storytime school library journal starred review memorable personalities leave readers glancing apprehensively crayon boxes publishers weekly starred review utterly original san francisco chronicle']\n",
            "\n",
            "Documents for Topic 25:\n",
            " ['patience patience psychedelic sciencefiction love story veering uncanny precision violent destruction deeply personal tenderness way quintessentially clowesian utterly unique authors body work page fullcolor original graphic novel affords clowes opportunity draw exuberant breathtaking pag patience psychedelic sciencefiction love story veering uncanny precision violent destruction deeply personal tenderness way quintessentially clowesian utterly unique authors body work page fullcolor original graphic novel affords clowes opportunity draw exuberant breathtaking pages life tell suspenseful surprising affecting story yet', 'daring greatly courage vulnerable transforms way live love parent lead researcher thought leader dr bren brown offers powerful new vision encourages us dare greatly embrace vulnerability imperfection live wholeheartedly courageously engage lives critic counts man points strong man stumbles doer deeds could done better credit researcher thought leader dr bren brown offers powerful new vision encourages us dare greatly embrace vulnerability imperfection live wholeheartedly courageously engage lives critic counts man points strong man stumbles doer deeds could done better credit belongs man actually arena whose face marred dust sweat blood strives valiantly best knows end triumph high achievement worst fails least fails daring greatly theodore rooseveltevery day experience uncertainty risks emotional exposure define means vulnerable dare greatly whether arena new relationship important meeting creative process difficult family conversation must find courage walk vulnerability engage whole heartsin daring greatly dr brown challenges everything think know vulnerability based twelve years research argues vulnerability weakness rather clearest path courage engagement meaningful connection book dr browns many fans waiting daring greatly spark new spirit truthand trustin organizations families schools communities', 'looking lovely collecting moments matter want take every step life excitement headed want feel beautiful confident dobut enemy whispers lies smart enough pretty enough rich enough dumb loud quiet thin fat much enough dont takes want take every step life excitement headed want feel beautiful confident enemy whispers lies smart enough pretty enough rich enough dumb loud quiet thin fat much enough dont takes really want looking lovely annie f downs shares personal stories biblical truth examples others courageously walked path god paved lives remembering god done loving right front seeing god everydaywhether nature friends face see mirror intensely personal yet incredibly powerful looking lovely spark transformative conversations life changing patterns matter path god us need look lovely fight finish find beautiful every day', 'carry warrior thoughts life unarmed inspirational sidesplittingly funny exploration power living love forgiveness honestyin carry warrior glennon doyle melton shares new stories bestloved material momasterycom recounts mistakes triumphs candor humor gives language universal yet often secret experiences believes shed inspirational sidesplittingly funny exploration power living love forgiveness honestyin carry warrior glennon doyle melton shares new stories bestloved material momasterycom recounts mistakes triumphs candor humor gives language universal yet often secret experiences believes shedding armor stop hiding competing striving mirage perfection making motherhood marriage friendship harder pretending theyre hard one woman trying love others readers find wise witty friend inspire forgive imperfections make gifts commit small acts love change world', 'aristotle dante discover secrets universe aristotle dante discover secrets universe printz honor book tender honest exploration identity publishers weekly distills lyrical truths family friendshiparistotle angry teen brother prison dante knowitall unusual way looking world two meet swimming pool seem nothing common loners start spen printz honor book tender honest exploration identity publishers weekly distills lyrical truths family friendshiparistotle angry teen brother prison dante knowitall unusual way looking world two meet swimming pool seem nothing common loners start spending time together discover share special friendshipthe kind changes lives lasts lifetime friendship ari dante learn important truths kind people want']\n",
            "\n",
            "Documents for Topic 26:\n",
            " ['psychopath test journey madness industry say one every hundred people psychopath probably passed one street today people empathy manipulative deceitful charming seductive delusional psychopath test new york times bestselling exploration world madness industrywhen jon ronson drawn elaborate hoax played say one every hundred people psychopath probably passed one street today people empathy manipulative deceitful charming seductive delusional psychopath test new york times bestselling exploration world madness industrywhen jon ronson drawn elaborate hoax played worlds top scientists investigation leads unexpectedly psychopaths meets influential psychologist convinced many important business leaders politicians fact highflying highfunctioning psychopaths teaches ronson spot armed new abilities ronson meets patient inside asylum criminally insane insists hes sane mere runofthemill troubled youth psychopatha claim might manipulation sign psychopathy spends time deathsquad leader institutionalized mortgage fraud legendary ceo took joy shutting factories firing people delves fascinating history psychopathy diagnosis treatments lsdfueled dayslong naked therapy sessions prisons attempts understand serial killersalong way ronson discovers relatively ordinary people defined insane edges psychopath test fascinating adventure minds madness', 'year magical thinking one americas iconic writers portrait marriage life good times bad speak anyone ever loved husband wife child stunning book electric honesty passion several days christmas john gregory dunne joan didion saw daughter quintana fall illat first thought one americas iconic writers portrait marriage life good times bad speak anyone ever loved husband wife child stunning book electric honesty passion several days christmas john gregory dunne joan didion saw daughter quintana fall illat first thought flu pneumonia complete septic shock put induced coma placed life support days later night new years eve dunnes sitting dinner visiting hospital john suffered massive fatal coronaryin second close symbiotic partnership years four weeks later daughter pulled two months arriving la airport collapsed underwent six hours brain surgery ucla medical centre relieve massive hematomathis powerful book didions attempt make sense weeks months cut loose fixed idea ever death illness marriage children memory shallowness sanity life result exploration intensely personal yet universal experience portrait marriage life good times bad', 'brain fire month madness awardwinning memoir instant new york times bestseller goes far beyond riveting medical mystery brain fire powerful account one womans struggle recapture identitywhen twentyfouryearold susannah cahalan woke alone hospital room strapped bed unable move speak memory shed gotten day awardwinning memoir instant new york times bestseller goes far beyond riveting medical mystery brain fire powerful account one womans struggle recapture identitywhen twentyfouryearold susannah cahalan woke alone hospital room strapped bed unable move speak memory shed gotten days earlier threshold new adult life beginning first serious relationship promising career major new york newspaper labeled violent psychotic flight risk happenedin swift breathtaking narrative cahalan tells astonishing true story descent madness familys inspiring faith lifesaving diagnosis nearly didnt happen', 'golden condom essays love lost found dr jeanne safer dedicated much decades long career psychotherapy exploring taboo subjects think private seldom discuss public conflicted sibling relationships choice children safers work always unflinching aim dive deep topics make us blush present dr jeanne safer dedicated much decades long career psychotherapy exploring taboo subjects think private seldom discuss public conflicted sibling relationships choice children safers work always unflinching aim dive deep topics make us blush present lives golden condom safer turns sharp fearless eye subject perhaps universal otherlove permutationsin golden condom safer interweaves experiences variety memorable people including patients telling series tales investigate relationshipsboth healthy toxicthat us dont escape life without experiencing least including traumatic friendships love loss unrequited obsessional love never prescriptive always entertaining stories demolish suspicion might youre alone navigating turbulent romantic life inspire range possibilities exist find love however unconventional age', 'didnt start inherited family trauma shapes end cycle groundbreaking approach transforming traumatic legacies passed families generations acclaimed expert field depression anxiety chronic pain phobias obsessive thoughts evidence compelling roots difficulties may reside immediate life experience chemical imbalances brainsbut lives groundbreaking approach transforming traumatic legacies passed families generations acclaimed expert field depression anxiety chronic pain phobias obsessive thoughts evidence compelling roots difficulties may reside immediate life experience chemical imbalances brainsbut lives parents grandparents even greatgrandparents latest scientific research making headlines supports many long intuitedthat traumatic experience passed generations didnt start builds work leading experts posttraumatic stress including mount sinai school medicine neuroscientist rachel yehuda psychiatrist bessel van der kolk author body keeps score even person suffered original trauma died story forgotten silenced memory feelings live emotional legacies often hidden encoded everything gene expression everyday language play far greater role emotional physical health ever understood pioneer field inherited family trauma mark wolynn worked individuals groups therapeutic level twenty years didnt start offers pragmatic prescriptive guide method core language approach diagnostic selfinventories provide way uncover fears anxieties conveyed everyday words behaviors physical symptoms techniques developing genogram extended family tree create map experiences going back generations visualization active imagination direct dialogue create pathways reconnection integration reclaiming life health didnt start transformative approach resolving longstanding difficulties many cases traditional therapy drugs interventions capacity touch']\n",
            "\n",
            "Documents for Topic 27:\n",
            " ['pop gun war volume gift pop gun war childhood selfdiscovery oppression guilt dreams loneliness whatever feeling reader get story rather typical narrative wanted get literal inner city boy sinclair discovers pair discarded angel wings wings sinclair flies around city gets pop gun war childhood selfdiscovery oppression guilt dreams loneliness whatever feeling reader get story rather typical narrative wanted get literal inner city boy sinclair discovers pair discarded angel wings wings sinclair flies around city gets adventures farel dalrymple series creator publishers weekly collecting first five issues dalrymples acclaimed comic book series pop gun war book provides capsule look dalrymples vision urban fantasy set new york stories follow characters wings talking fish giants dwarves fantastical acquaintances ideas center boy named sinclair acquires set wings tattooed disgruntled angel pays cut sinclair lonely kid prone bowties teased sets series encounters across city older sister singer rock band inspiration worry homeless man unknown powers origins joins band youths pursue dalrymple renders gang eccentrics mystics loose realistic pen ink style highly dynamic tailormade depicting new yorks teeming city streets flair dramatic well scenes sinclair flying giant walking streets genuinely affecting seeming completely natural brings life subtle kind cartoon surrealism story meanders bit always clear headed fun pop gun war vivid characters details fine debut reminiscent dc comicss vertigo line sit comfortably bookstores adventurous readers shelves', 'close disgraced scholar running past entrepreneur chasing future find thrown togetherand fall loveon tolkien tour new zealandallison shire yes like hobbits live disgraced academic done love belief happily ever ended day discovered husband still married wife knew disgraced scholar running past entrepreneur chasing future find thrown togetherand fall loveon tolkien tour new zealandallison shire yes like hobbits live disgraced academic done love belief happily ever ended day discovered husband still married wife knew nothing finally finds use english degree guiding tours famous sites featured lord rings hobbit movies living life road traveling new zealand luxury tour guide allison manages outrun pain past cant facejackson gregory cusp making big suddenly girlfriend left himfor biggest business competitorand took guarded commercial secrets make matters worse iowa farm family generations facing foreclosure determined save parents financial ruin hell whatever takes convince wealthy greatuncle invest next scheme means accompanying bottom world spend three weeks pretending diehard lord rings fan even though knows nothing stories one thing stands goal knowitall tour guide cant stand pegged fake moment walked planewhen allison leads group famous sites tolkien movies jackson start see differently keep getting thrown together tour find drawn neither expected fall love find way beyond regrets take chance one thing theyre looking', 'death leisure cautionary tale hilariously intrepid young author war reporting cowards returns iraq dive headfirst another absurd terrifying world american leisure class like hunter thompson crossed one david brookss bobos paradise ayres embeds las liesuretocracy overthetop world caviar facials billionaire charity balls soupedup hilariously intrepid young author war reporting cowards returns iraq dive headfirst another absurd terrifying world american leisure class like hunter thompson crossed one david brookss bobos paradise ayres embeds las liesuretocracy overthetop world caviar facials billionaire charity balls soupedup suvs monster home loans mention anight brothels milliondollar poker tournaments ayress highly leveraged lifestyle lands surreal night supermodel date michael jacksons birthday party neverland ranch ayres bribes organizers five grand get wife courtesy craigslist disaster never far away books brutal final section ayres forced confront excesses generation scene apocalyptic destruction katrinaravaged south told blend offbeat irreverence genuine pathos incisive social commentary death leisure savage darkly humorous odyssey taps directly contemporary psyche', 'night shift night shift never trust heart new york times bestselling master suspense stephen king especially anthology features classic stories children corn lawnmower man graveyard shift mangler sometimes come backwhich made hit horror filmsunbearable suspense dallas morning newsfrom depths darkne never trust heart new york times bestselling master suspense stephen king especially anthology features classic stories children corn lawnmower man graveyard shift mangler sometimes come backwhich made hit horror filmsunbearable suspense dallas morning newsfrom depths darkness hideous rats defend empire dizzying heights beautiful girl hangs hair hellish fate chilling collection twenty short stories plunge readers subterranean labyrinth spinetingling eerie imagination timecontents introduction john macdonald foreword fw jerusalems lot nv night shift garden city ny doubleday graveyard shift ss cavalier oct night surf ss cavalier aug doorway ss cavalier mar mangler nv cavalier dec boogeyman ss cavalier mar gray matter ss cavalier oct battleground ss cavalier sep trucks ss cavalier jun sometimes come back nv cavalier mar strawberry spring ss ubris fll cavalier nov ledge ss penthouse jul lawnmower man ss cavalier may quitters inc ss night shift garden city ny doubleday know need nv cosmopolitan sep children corn nv penthouse mar last rung ladder ss night shift garden city ny doubleday man loved flowers ss gallery aug one road ss maine mar woman room ss night shift garden city ny doubleday', 'zero history blue ant iconic visionary returns first new novel since new york times bestseller spook country whatever artist bring next thing sang curfew hollis henrys face known worldwide still runs people remember poster unfortunately postcrash economy cult memorab iconic visionary returns first new novel since new york times bestseller spook country whatever artist bring next thing sang curfew hollis henrys face known worldwide still runs people remember poster unfortunately postcrash economy cult memorabilia doesnt pay rent right shes journalist need job last person wants work hubertus bigend twisted genius global marketing theres way tell entity like bigend want nothing simply brings firmly attention milgrim clean drugfree first time decade took eight months clinic basel fifteen complete changes blood bigend paid milgrims idiomatic russian superb notices things meanwhile one notices milgrim makes worth every penny though cost bigend cartelgrade customarmored truck culture military trickled street bigend knows hell find way take cut surprises though someone else seems top situation way bigend associates bigend loves staring abyss global market hes used staring backwatch video']\n",
            "\n",
            "Documents for Topic 28:\n",
            " ['rip start punks raw power rejuvenated rock summer movement become parody rip start celebration happened nextpostpunk bands like pil joy division talking heads fall human league dedicated fulfilling punks unfinished musical revolution postpunk groups fervent modernists w punks raw power rejuvenated rock summer movement become parody rip start celebration happened nextpostpunk bands like pil joy division talking heads fall human league dedicated fulfilling punks unfinished musical revolution postpunk groups fervent modernists whether experimenting electronics machine rhythm adapting ideas dub reggae disco totally confident could invent whole new future music', 'band could life scenes american indie underground neverbeforetold story musical revolution happened right nose reagan eightieswhen small sprawling network bands labels fanzines radio stations subversives reenergized american rock punk rocks doityourself credo created music deeply personal often brilliant always challenging imme neverbeforetold story musical revolution happened right nose reagan eightieswhen small sprawling network bands labels fanzines radio stations subversives reenergized american rock punk rocks doityourself credo created music deeply personal often brilliant always challenging immensely influential sweeping chronicle music politics drugs fear loathing faith recognized indie rock classic right among bands profiled mission burma butthole surfers minutemen sonic youth black flag big black hsker fugazi minor threat mudhoney replacements beat happening dinosaur jr', 'love mix tape music stunning memoir rob sheffield veteran rock pop culture critic staff writer rolling stone magazine tells story musical coming age rock music first love life led second girl named renee rob renees life together wed graduate school became music journalists married onl stunning memoir rob sheffield veteran rock pop culture critic staff writer rolling stone magazine tells story musical coming age rock music first love life led second girl named renee rob renees life together wed graduate school became music journalists married five years renee died suddenly mothers day shared window mix tapes obsessively compiled mixes court mixes road trips mixes dishes mixes sleeping eventually mixes mourn robs greatest loss tunes among great musical output early pearl jam nirvana pavement yo la tengo rem weezer well classics rolling stones beatles aretha franklin mixing skilful tragic punch dave eggers romantic honesty nick hornby love mix tape story lost love kickyouinthegut energy great pop music', 'flowers lied remember back first wanted become rock critic first started read music reviews days flowers lied michael goldbergs new rock n roll comingofage novel writerman narrator rock critic wannabe obsessed music favorites include captain beefheart blue oyster cult th floor elevators john coltr remember back first wanted become rock critic first started read music reviews days flowers lied michael goldbergs new rock n roll comingofage novel writerman narrator rock critic wannabe obsessed music favorites include captain beefheart blue oyster cult th floor elevators john coltrane pearls swine slim harpo neil young sam rivers course bob dylan novel anyone grew sor anyone wondered really like teenager back thenwitness writerman fighting record buying addition odyssey records store owner lucky larry guzzles green death applies upsell attending neil young concert confronting neil backstage pursuing visions johanna chick dreams ending naked top ferris wheel alone best friends girl', 'please kill uncensored oral history punk time daily news top ten book year upon initial release please kill first oral history nihilist pop movements iggy pop danny fields dee dee joey ramone malcom mclaren jim carroll scores famous infamous punk figures lend voices definitive account outrageous explosive era fro time daily news top ten book year upon initial release please kill first oral history nihilist pop movements iggy pop danny fields dee dee joey ramone malcom mclaren jim carroll scores famous infamous punk figures lend voices definitive account outrageous explosive era origins twilight years andy warhols new york reign last gasps eighties corporate rock phenomenon known punk scrutinized eulogized idealized people made happen']\n",
            "\n",
            "Documents for Topic 29:\n",
            " ['nice time lies find love sht like new york times bestselling authors nice place france creators online humor advice phenomenon betchescom instagram account betches explain brutal truths date like true betch insights head proin age tinder hinge dating app matches randos dating game grown com new york times bestselling authors nice place france creators online humor advice phenomenon betchescom instagram account betches explain brutal truths date like true betch insights head proin age tinder hinge dating app matches randos dating game grown complex confusing cue betchesfirst helped win basically everything going help win important battle betch face maybe youre delusional dater needs get touch reality seriously hes fing perhaps youre tgf needs stop desperate start playing game maybe youre tired swiping left ready pro dreams put karat diamond ring stop pretending work either way weve got covered insight betches head pro book musthave bible betch looking love put away ben jerrys froyo low fat doesnt mean okay eat whole tub start dating like winner', 'know im lies tell dispatches life construction new york times bestselling author standup comedian jen kirkman delivers hilarious candid memoir marriage divorce sex turning forty still quite life figured outjen kirkman wants voice head says hey youre okay even sometimes think arent especially people try tell youre notin kno new york times bestselling author standup comedian jen kirkman delivers hilarious candid memoir marriage divorce sex turning forty still quite life figured outjen kirkman wants voice head says hey youre okay even sometimes think arent especially people try tell youre notin know im doingand lies tell jen offers gory details life permanently progress reassures okay life completely figured even reach middle age find first gray pubic hair talks making unusual unpopular life decisions cultivating friend benefits going home holidays dont necessarily want everyone else seems think renting everyone says dating around everyone thinks settle traveling alone everyone pities going paris without manfrom marriage divorce sex mental health know im doingand lies tell embracing fact life bit sht show definitely okay stay true', 'troublemaker surviving hollywood scientology outspoken actress talk show host reality television star offers noholdsbarred memoir including eyeopening insider account tumultuous heartwrenching thirtyyearplus association church scientologyleah remini never type hold tongue willingness speak mind stand ground rattle occasion outspoken actress talk show host reality television star offers noholdsbarred memoir including eyeopening insider account tumultuous heartwrenching thirtyyearplus association church scientologyleah remini never type hold tongue willingness speak mind stand ground rattle occasional cage enabled toughtalking girl brooklyn forge enduring successful career hollywood troublemaker come costthat never evident remini loudly publicly broke church scientology frank funny poignant memoir former king queens star opens experience first time revealing indepth details painful split church controversial practicesindoctrinated church child living mother sister new york remini eventually moved los angeles dreams becoming actress advancing scientologys causes grew increasingly intertwined adult found success shed worked hard prominent place hierarchy celebrity scientologists alongside people tom cruise scientologys highprofile adherent remini spent time directly cruise included among guests wedding katie holmesbut began raise questions churchs actions found target end declared church threat organization therefore suppressive person result fellow parishionersincluding members familywere told disconnect foreverbold brash bravely confessional troublemaker chronicles leah reminis remarkable journey toward emotional spiritual freedom family memoir designed reveal hardwon truths life lived honestlyfrom author unafraid consequences', 'kaling shares ongoing journey find contentment excitement adult life whether falling love work seeking new friendships lonely places attempting first person history lose weight without behavior modification whatsoever important believing place hollywood youre constantl kaling shares ongoing journey find contentment excitement adult life whether falling love work seeking new friendships lonely places attempting first person history lose weight without behavior modification whatsoever important believing place hollywood youre constantly reminded one looks like youin look spectacular starlets confessions kaling gives tongueincheek secrets surefire oncamera beauty natural hair color may appropriate skin tone isnt land appropriatethis hollywood baby darkskinned womans traditional hair color honey blonde player tells story kaling seduced dumped female friend la replaced younger model matching bangs unlikely leading lady muses americas fixation weight actresses women see onscreen either thin theyre walking clavicles huge scenes involve breaking furniture soup snakes kaling spills secrets relationship exboyfriend close friend bj novak freely admit relationship bj novak weird hellmindy turns anxieties glamour celebrations second comingofage laughoutloud funny collection essays anyone whos ever turning point life career relate whove never turning point skip parts talks meeting bradley cooper', 'data love story gamed online dating meet match forty million people date online year dont find true love thanks data love story odds got whole lot better data love story gamed online dating meet match lively thoughtprovoking memoir one woman gamed world online datingand met eventual husband']\n",
            "\n",
            "Documents for Topic 30:\n",
            " ['first steps new christians print edition enemy devil prowls around like lion peter wants steal kill destroy john much like pattern find wild ancient serpent stalk youngest flock theyre easiest target im writing short readings encourage new christians vulnerable part journey enemy devil prowls around like lion peter wants steal kill destroy john much like pattern find wild ancient serpent stalk youngest flock theyre easiest target im writing short readings encourage new christians vulnerable part journeyi want remind new followers way christian life best lived community others striving follow jesus one first responsibilities new christian spend much time possible others real faith soldier would never go battle alone unarmed must remember though struggle flesh blood ephesians still battle important make sure soldiers around us armed sword spirit ephesians hebrews one thing enemy try make doubt salvation last thing needs one person confident relationship jesus christ read short devotions hold truth salvation moment acknowledged need savior romans repented sins acts confessed jesus christ lord romans hopefully youll find truths hang move pages bookso hold revelation hang tight platoon hebrews use sword hebrews ephesians youll find following pages weapon words accompany scripture give encouragement stay course', 'zealot life times jesus nazareth internationally bestselling author god god comes fascinating provocative meticulously researched biography challenges longheld assumptions man know jesus nazarethtwo thousand years ago itinerant jewish preacher miracle worker walked across galilee gathering followers establish called kingdom internationally bestselling author god god comes fascinating provocative meticulously researched biography challenges longheld assumptions man know jesus nazarethtwo thousand years ago itinerant jewish preacher miracle worker walked across galilee gathering followers establish called kingdom god revolutionary movement launched threatening established order captured tortured executed state criminalwithin decades shameful death followers would call godsifting centuries mythmaking reza aslan sheds new light one historys influential enigmatic characters examining jesus lens tumultuous era lived firstcentury palestine age awash apocalyptic fervor scores jewish prophets preachers wouldbe messiahs wandered holy land bearing messages god age zealotrya fervent nationalism made resistance roman occupation sacred duty incumbent jews figures better exemplified principle charismatic galilean defied imperial authorities allies jewish religious hierarchybalancing jesus gospels historical sources aslan describes man full conviction passion yet rife contradiction man peace exhorted followers arm swords exorcist faith healer urged disciples keep identity secret ultimately seditious king jews whose promise liberation rome went unfulfilled brief lifetime aslan explores reasons early christian church preferred promulgate image jesus peaceful spiritual teacher rather politically conscious revolutionary grapples riddle jesus understood mystery heart subsequent claims divinityzealot yields fresh perspective one greatest stories ever told even affirms radical transformative nature jesus nazareths life mission result thoughtprovoking elegantly written biography pulse fastpaced novel singularly brilliant portrait man time birth religion', 'book mormon book mormon volume scripture comparable bible record gods dealings ancient inhabitants americas contains bible fullness everlasting gospelthe book written many ancient prophets spirit prophecy revelation words written gold plates quoted abridged p book mormon volume scripture comparable bible record gods dealings ancient inhabitants americas contains bible fullness everlasting gospelthe book written many ancient prophets spirit prophecy revelation words written gold plates quoted abridged prophethistorian named mormon record gives account two great civilizations one came jerusalem bc afterward separated two nations known nephites lamanites came much earlier lord confounded tongues tower babel group known jaredites thousands years destroyed except lamanites among ancestors american indians crowning event recorded book mormon personal ministry lord jesus christ among nephites soon resurrection puts forth doctrines gospel outlines plan salvation tells men must gain peace life eternal salvation life come mormon completed writings delivered account son moroni added words hid plates hill cumorah september moroni glorified resurrected appeared prophet joseph smith instructed relative ancient record destined translation english language due course plates delivered joseph smith translated gift power god record published many languages new additional witness jesus christ son living god come unto obey laws ordinances gospel may saved concerning record prophet joseph smith said told brethren book mormon correct book earth keystone religion man would get nearer god abiding precepts book addition joseph smith lord provided eleven others see gold plates special witnesses truth divinity book mormon written testimonies included herewith testimony three witnesses testimony eight witnesses invite men everywhere read book mormon ponder hearts message contains ask god eternal father name christ book true pursue course ask faith gain testimony truth divinity power holy ghost see moroni', 'kierkegaard christian missionary christians soren kierkegaard mission church become weak flabby inconsequential christian cultural heritage spiritual reality mission reintroduce christian faith christians could break people members church thought christians already like old testament prophet k soren kierkegaard mission church become weak flabby inconsequential christian cultural heritage spiritual reality mission reintroduce christian faith christians could break people members church thought christians already like old testament prophet kierkegaard used variety pointed dramatic ways shake people slumber incisively diagnosed spiritual ailments age offered fresh take classic christian teaching mark tietjen thinks kierkegaards critique contemporaries strikes close home today also need listen one insightful yet complex christian thinkers era examination core christian doctrines person jesus christ human nature christian witness love tietjen helps us hear kierkegaards missionary message church often fails follow christ purity heart', 'year living biblically one mans humble quest follow bible literally possible bestselling author knowitall comes fascinating timely exploration religion bibleraised secular family increasingly interested relevance faith modern world aj jacobs decides dive headfirst attempt obey bible literally possible one full year vows follow ten commandments bestselling author knowitall comes fascinating timely exploration religion bibleraised secular family increasingly interested relevance faith modern world aj jacobs decides dive headfirst attempt obey bible literally possible one full year vows follow ten commandments fruitful multiply love neighbor also obey hundreds less publicized rules avoid wearing clothes made mixed fibers play tenstring harp stone adulterersthe resulting spiritual journey funny profound reverent irreverent personal universal make see historys influential book new eyesjacobss quest transforms life even radically year spent reading entire encyclopedia britannica knowitall beard grows unruly regularly mistaken member zz top immerses prayer tends sheep israeli desert battles idolatry tells absolute truth situations much wifes chagrinthroughout book jacobs also embeds crosssection communities take bible literally tours kentuckybased creationist museum sings hymns pennsylvania amish dances hasidic jews brooklyn scripture study jehovahs witnesses discovers ancient biblical wisdom startling relevance wrestles seemingly archaic rules baffle twentyfirstcentury brainjacobss extraordinary undertaking yields unexpected epiphanies challenges book charm readers secular religious year living biblically part cliff notes bible part memoir part look worlds unimaginable thou shalt able put']\n",
            "\n",
            "Documents for Topic 31:\n",
            " ['scott pilgrims precious little life scott pilgrim scott pilgrims life totally sweet hes years old hes rockband hes jobs hes dating cute high school girl nothing could possibly go wrong unless seriously mindblowing dangerously fashionable rollerblading delivery girl named ramona flowers starts cruising dreams sailing parties scotts awesome life get scott pilgrims life totally sweet hes years old hes rockband hes jobs hes dating cute high school girl nothing could possibly go wrong unless seriously mindblowing dangerously fashionable rollerblading delivery girl named ramona flowers starts cruising dreams sailing parties scotts awesome life get turned upsidedown face ramonas seven evil exboyfriends battle short answer yes long answer scott pilgrim volume scott pilgrims precious little life', 'collided seventeen shattered still dancing messy throbbing hearts stronger anyone could ever knowjonah never thought girl like vivi would come alongvivi didnt know jonah would light worldneither expected summer like thisa summer would rewrite futuresin unflinching story new love old wounds seventeen shattered still dancing messy throbbing hearts stronger anyone could ever knowjonah never thought girl like vivi would come alongvivi didnt know jonah would light worldneither expected summer like thisa summer would rewrite futuresin unflinching story new love old wounds forces beyond control two teens find collide right person right time change forever', 'alien club everything first youre alienthe feelings sensations decisions ramifications actions uncharted territory alien landscape stretches front door first love bizarre beautiful unforgiving planet universe handbook nowhere turn youre forced blaze path gr everything first youre alienthe feelings sensations decisions ramifications actions uncharted territory alien landscape stretches front door first love bizarre beautiful unforgiving planet universe handbook nowhere turn youre forced blaze path greatness youre even sure destinya rich tale love war interpersonal relationships forge alien club follows path forged tenyearold boy blindly clawing way confusing frightening utterly fascinating life afforded via magical neighborhood situated suburbia usa summer wrought heroism hilarious happenings alien club truly mesmerizing journey created series tragic fanciful events thrust motion seemingly mundane issues grip alter trajectory innocent youththe alien club crossroads goonies outsiders lord flies stand body', 'lou clark knows lots things knows many footsteps bus stop home knows likes working buttered bun tea shop knows might love boyfriend patrickwhat lou doesnt know shes lose job knowing whats coming keeps sanewill traynor knows motorcycle accident took away hi lou clark knows lots things knows many footsteps bus stop home knows likes working buttered bun tea shop knows might love boyfriend patrickwhat lou doesnt know shes lose job knowing whats coming keeps sanewill traynor knows motorcycle accident took away desire live knows everything feels small rather joyless knows exactly hes going put stop thatwhat doesnt know lou burst world riot colour neither knows theyre going change time', 'crossover bolt lightning kicks court sizzling sweat drizzling stop quivering cuz tonight im delivering announces dreadlocked year old josh bell twin brother jordan awesome court josh basketball blood hes got mad beats tell familys story verse fast bolt lightning kicks court sizzling sweat drizzling stop quivering cuz tonight im delivering announces dreadlocked year old josh bell twin brother jordan awesome court josh basketball blood hes got mad beats tell familys story verse fast furious middle grade novel family brotherhood josh jordan must come grips growing court realize breaking rules comes terrible price storys heartstopping climax proves gamechanger entire family']\n",
            "\n",
            "Documents for Topic 32:\n",
            " ['wedding dress four brides one dressa tale faith redemption timeless lovecharlotte owns chic birmingham bridal boutique dressing brides big day gift passion wedding day approaching cant find perfect dressor feel certain marry timthen charlotte discovers vintage dress battered trunk e four brides one dressa tale faith redemption timeless lovecharlotte owns chic birmingham bridal boutique dressing brides big day gift passion wedding day approaching cant find perfect dressor feel certain marry timthen charlotte discovers vintage dress battered trunk estate sale looks brandnewshimmering pearls satin handstitched timeless design come wore welded lock shut tucked dog tags little sachet left basement tenyearold girl mysterious man purple vest insists dress redeemedcharlottes search gowns historyand new bridebegins distraction sputtering love life takes life comes know women worn dress emily mary grace hillary story promise pain destiny something unique share woven within threads beautiful hundredyearold gown truth charlottes heritage power courage faith timeless beauty finding true love', 'eight hundred grapes secrets share secrets hidegrowing familys sonoma vineyard georgia ford learned important secrets secret number grapes takes make bottle wine eight hundred secret ingredient mothers lasagna chocolate secret behind ending fight hold handsbut week wedding thirtyyearold geo secrets share secrets hidegrowing familys sonoma vineyard georgia ford learned important secrets secret number grapes takes make bottle wine eight hundred secret ingredient mothers lasagna chocolate secret behind ending fight hold handsbut week wedding thirtyyearold georgia discovers beloved fianc keeping secret explosive change lives forevergeorgia shes always done returns family vineyard expecting comfort longmarried parents brothers everything familiar turns fianc one whos keeping secrets', 'dinner party passover seder passover seder yes quick service festive meal afterwards night different nights night golds greenwich meet rothschilds new york citythe rothschilds stuff legends control banks vineyards napa diamond mines africa eve passover seder passover seder yes quick service festive meal afterwards night different nights night golds greenwich meet rothschilds new york citythe rothschilds stuff legends control banks vineyards napa diamond mines africa even organic farm somewhere midwest produces popular romaine lettuce consumed country sylvia golds daughter dating one themwhen sylvia finds youngest three going bring new boyfriend seder shes giddy finds parents coming darn near faints making good impression thinks well almost still consider daughter sarah wholl coming less appropriate beau overly dramatic italian mother drama wont stop despite food wine despite new linen fresh flowers holidays family long forgotten memories come surface old grievances play sylvia gold learn let family go', 'summer europe thirtieth birthday gwendolyn reese receives unexpected present widowed aunt bea grand tour europe company beas sudoku mahjongg club prospect isnt entirely appealing gift expectingan engagement ring boyfrienddoesnt materialize gwen decides go first gwen approaches trip thirtieth birthday gwendolyn reese receives unexpected present widowed aunt bea grand tour europe company beas sudoku mahjongg club prospect isnt entirely appealing gift expectingan engagement ring boyfrienddoesnt materialize gwen decides go first gwen approaches trip math homework assigns students diligently checking monuments mustsee list amid bougainvillea stunning vistas southern italy something changes gwen begins live momentskipping stone staircases capri running fingers glacier view matterhorn racing louvre tastetesting pastries marseilles cafe reveling every new experienceespecially attraction charismatic british physics professorgwen discovers ancient wonders around nothing compared renaissance unfolding within thinking womans love story swept away breathtaking places cast endearing characters wont soon forget bravissima susan mcbride author little black dress praise marilyn brants according jane warm witty charmingly original story susan wiggs new york times bestselling author brant infuses sweetly romantic delightfully clever tale right dash austenesque wit chicago tribune engaging read long dark dating wars still believe theres sunshine mr darcy end tunnel cathy lamb author pretty face', 'crazy rich asians crazy rich asians crazy rich asians outrageously funny debut novel three superrich pedigreed chinese families gossip backbiting scheming occurs heir one massive fortunes asia brings home abc americanborn chinese girlfriend wedding seasonwhen rachel chu agrees spend summer singapore boyfrien crazy rich asians outrageously funny debut novel three superrich pedigreed chinese families gossip backbiting scheming occurs heir one massive fortunes asia brings home abc americanborn chinese girlfriend wedding seasonwhen rachel chu agrees spend summer singapore boyfriend nicholas young envisions humble family home long drives explore island quality time man might one day marry doesnt know nicks family home happens look like palace shell ride private planes cars one asias eligible bachelors arm rachel might well target back initiated world dynastic splendor beyond imagination rachel meets astrid girl singapore society eddie whose family practically lives pages hong kong socialite magazines eleanor nicks formidable mother woman strong feelings son shouldand notmarry uproarious addictive filled jawdropping opulence crazy rich asians insiders look asian jetset perfect depiction clash old money new money overseas chinese mainland chinese fabulous novel means young love gloriously crazily rich']\n",
            "\n",
            "Documents for Topic 33:\n",
            " ['full moon noahs ark odyssey mount ararat beyond acclaimed travel writer rick antonson sets adventurous compass mount ararat exploring regions long history religious mysteries complex politicsmount ararat fabled mountain world millennia massif eastern turkey rumored resting place noahs ark following great flood also plays significant ro acclaimed travel writer rick antonson sets adventurous compass mount ararat exploring regions long history religious mysteries complex politicsmount ararat fabled mountain world millennia massif eastern turkey rumored resting place noahs ark following great flood also plays significant role longstanding conflict turkey armeniaauthor rick antonson joined fivemember expedition mountains nearly foot summit trekking alongside contingent armenians mount ararat stolen symbol country antonson weaves vivid historical anecdote unexpected travel vignettes whether tracing earlier mountaineering attempts peak recounting genocide armenians unresolved debate depicting kurds ambitions nations borders say include mount araratwhat unfolds full moon noahs ark one mans odyssey tale told many stories starting flooding black sea bce epic gilgamesh contrasting narratives great flood known followers judaic christian islamic religions full moon noahs ark takes readers along antonson shadows broad landscapes turkey iraq iran armenia shedding light troubled fascinating area world', 'literature book big ideas simply explained global look greatest works eastern western literature themes unite students lovers literature readingthe literature book fascinating journey greatest works world literature iliad quixote great gatsby around crystalclear articles explore landmark novels short stories plays global look greatest works eastern western literature themes unite students lovers literature readingthe literature book fascinating journey greatest works world literature iliad quixote great gatsby around crystalclear articles explore landmark novels short stories plays poetry reinvented art writing time whether ancient greece postclassical europe modernday koreaas part dks awardwinning big ideas simply explained series literature book uses infographics images explain key ideas themes biographies important authors offer insight lives writings section reading details additional works explorediscover masterpieces worlds greatest authors explore context creative history literary traditions influenced major work fiction literature bookseries overview big ideas simply explained series uses creative design innovative graphics along straightforward engaging writing make complex subjects easier understand awardwinning books provide information needed students families anyone interested concise thoughtprovoking refreshers single subject', 'greek mythic history far back fifth century bce pherecydes others attempted integrate citystate stories coherent mythic greek prehistory science unavailable ancient sources helped guide author spencer clevenger critical insights intriguing results greek mythic history weaves myths concerning gods kings heroes intended time pla far back fifth century bce pherecydes others attempted integrate citystate stories coherent mythic greek prehistory science unavailable ancient sources helped guide author spencer clevenger critical insights intriguing results greek mythic history weaves myths concerning gods kings heroes intended time place offers concise retelling greek myths historic perspective capitalizing modern discoveries clevenger tells story chronological order starting creation cosmos ending dark ages poets began write myths stories neither history mythology stories depict history might myths interpreted literallywith maps exhibits included greek mythic history provides comprehensive retelling various hellenic myths logical historical sequence places nearly entire canon context', 'infinities languid midsummers day countryside old adam godley renowned theoretical mathematician dying family gathers bedside son young adam struggling maintain marriage radiantly beautiful actress nineteenyearold daughter petra filled voices visions waits inevitable mother ursula whose rela languid midsummers day countryside old adam godley renowned theoretical mathematician dying family gathers bedside son young adam struggling maintain marriage radiantly beautiful actress nineteenyearold daughter petra filled voices visions waits inevitable mother ursula whose relations godley children strained best petras young manvery likely interested father daughterwho arrived superbly illtimed visitbut godley family alone vigil around hovers family mischievous immortalsamong zeus eye young adams wife pan taken doughy perspiring form old unwelcome acquaintance hermes genial omniscient narrator petty vindictive tells us like put old adams days earth run unearthly beings start stir trouble sometimes wildly unintended effect blissfully inventive playful rich psychological insight sensual detail infinities gloriously earthy romp wise look terrible wonderful plight humana dazzling novel one widely admired acclaimed writers work today', 'odyssey literatures grandest evocation lifes journey ageless human story individual test moral endurance homers ancient greek epic odyssey translated robert fagles introduction notes bernard knox penguin classicswhen robert fagles translation iliad published critics scholars alike hailed mas literatures grandest evocation lifes journey ageless human story individual test moral endurance homers ancient greek epic odyssey translated robert fagles introduction notes bernard knox penguin classicswhen robert fagles translation iliad published critics scholars alike hailed masterpiece one great modern translators presents us odyssey homers bestloved poem recounting odysseus wanderings trojan war wit wile man twists turns meets challenges seagod poseidon monsters ranging manyheaded scylla cannibalistic cyclops polyphemus return twenty years home besieged wife penelopes suitors myths legends retold immortal poem fagles captured energy homers original bold contemporary idiomseven greek cities claim honour birthplace homer c thth century bc poet composition iliad odyssey attributed iliad oldest surviving work western literature identity even existence homer complete mystery reliable biographical information survivedif enjoyed odyssey might like robert fagles translation iliad also available penguin classicswonderfully readable right blend roughness sophisticationted hughesa memorable achievement mr fagles remarkably successful finding style time yet timelessrichard jenkyns new york times book reviewhis translation odyssey best work yetgarry wills new yorker']\n",
            "\n",
            "Documents for Topic 34:\n",
            " ['steve jobs bestselling author walter isaacson comes landmark biography apple cofounder steve jobsin steve jobs exclusive biography isaacson provides extraordinary account jobs professional personal life drawn three years exclusive unprecedented interviews isaacson conducted jobs well extensive interviews jobs family bestselling author walter isaacson comes landmark biography apple cofounder steve jobsin steve jobs exclusive biography isaacson provides extraordinary account jobs professional personal life drawn three years exclusive unprecedented interviews isaacson conducted jobs well extensive interviews jobs family members key colleagues apple competitors steve jobs exclusive biography definitive portrait greatest innovator generation', 'hyperbole half unfortunate situations flawed coping mechanisms mayhem things happened book wrote wrote figure put back cover explain tried write long thirdperson summary would imply great book also sound vaguely authoritativelike maybe someone isnt wrote itbut soon discovered im sneaky enough pull convincingly decided book wrote wrote figure put back cover explain tried write long thirdperson summary would imply great book also sound vaguely authoritativelike maybe someone isnt wrote itbut soon discovered im sneaky enough pull convincingly decided make list things bookpictureswordsstories things happened mestories things happened people meeight billion dollarsstories dogsthe secret eternal happinessthese lies perhaps underestimated sneakiness', 'rich dad poor dad personal finance author lecturer robert kiyosaki developed unique economic perspective two different influences two fathers one father roberts real father highly educated man fiscally poor father father roberts best friend dad eighthgrade dropout became selfmade multimillionaire li personal finance author lecturer robert kiyosaki developed unique economic perspective two different influences two fathers one father roberts real father highly educated man fiscally poor father father roberts best friend dad eighthgrade dropout became selfmade multimillionaire lifelong monetary problems experienced poor dad pounded home counterpoint communicated rich dad taking message heart kiyosaki able retire', 'autobiography malcolm x hustling drug addiction armed violence americas black ghettos malcolm x turned dramatic prison conversion puritanical fervour black muslims spokesman became identified white press terrifying teacher race hatred direct audience oppressed american blacks brought hope selfrespect au hustling drug addiction armed violence americas black ghettos malcolm x turned dramatic prison conversion puritanical fervour black muslims spokesman became identified white press terrifying teacher race hatred direct audience oppressed american blacks brought hope selfrespect autobiography written alex haley reveals quickwitted integrity usually obscured batteries frenzied headlines fierce idealism led reject liberal hypocrisies black racialismvilified critics antiwhite demagogue malcolm x gave voice unheard africanamericans bringing pride hope fearlessness remains inspirational controversial figure', 'outliers story success stunning new book malcolm gladwell takes us intellectual journey world outliersthe best brightest famous successful asks question makes highachievers differenthis answer pay much attention successful people like little attention stunning new book malcolm gladwell takes us intellectual journey world outliersthe best brightest famous successful asks question makes highachievers differenthis answer pay much attention successful people like little attention culture family generation idiosyncratic experiences upbringing along way explains secrets software billionaires takes great soccer player asians good math made beatles greatest rock band']\n",
            "\n",
            "Documents for Topic 35:\n",
            " ['keep secret fear street relaunch many nightmares begin fear street woodseddie emma high school sweethearts wrong side tracks looking escape dreary lives embark overnight camping trip four friends fear street woodsas eddie carves heart tree emma make shocking discovery discovery lead en many nightmares begin fear street woodseddie emma high school sweethearts wrong side tracks looking escape dreary lives embark overnight camping trip four friends fear street woodsas eddie carves heart tree emma make shocking discovery discovery lead end friendshipsand murdermeanwhile emmy strange terrifying dreams wolves dreams connected somehow real wolf attacks plague town shadysideemmy seems make horrifying discovery', 'golden compass dark materials lives orphaned ward named lyra belacqua whose carefree life among scholars oxfords jordan college shattered arrival two powerful visitors first fearsome uncle lord asriel appears evidence mystery danger far north including photographs mysterious celestial phenomenon called dust dim outline city sus lives orphaned ward named lyra belacqua whose carefree life among scholars oxfords jordan college shattered arrival two powerful visitors first fearsome uncle lord asriel appears evidence mystery danger far north including photographs mysterious celestial phenomenon called dust dim outline city suspended aurora borealis suspects part alternate universe leaves lyra care mrs coulter enigmatic scholar explorer offers give lyra attention uncle long refused multilayered narrative however nothing seems lyra sets top world search kidnapped playmate roger bearing rare truthtelling instrument alethiometer around children disappearingvictims socalled gobblersand used subjects terrible experiments separate humans daemons creatures reflect persons inner somehow lord asriel mrs coulter involved', 'raven king raven cycle nothing living safe nothing dead trustedfor years gansey quest find lost king one one hes drawn others quest ronan steals dreams adam whose life longer noah whose life longer lie blue loves ganseyand certain destined kill himnow endgame begun dreams nothing living safe nothing dead trustedfor years gansey quest find lost king one one hes drawn others quest ronan steals dreams adam whose life longer noah whose life longer lie blue loves ganseyand certain destined kill himnow endgame begun dreams nightmares converging love loss inseparable quest refuses pinned path', 'raven boys raven cycle every year blue sargent stands next clairvoyant mother soontobe dead walk past blue never sees themuntil year boy emerges dark speaks herhis name gansey rich student aglionby local private school blue policy staying away aglionby boys known raven boys mean troublebut blue every year blue sargent stands next clairvoyant mother soontobe dead walk past blue never sees themuntil year boy emerges dark speaks herhis name gansey rich student aglionby local private school blue policy staying away aglionby boys known raven boys mean troublebut blue drawn gansey way cant entirely explain quest encompassed three raven boys adam scholarship student resents privilege around ronan fierce soul whose emotions range anger despair noah taciturn watcher notices many things says littlefor long remember blue warned cause true love die doesnt believe true love never thought would problem life becomes caught strange sinister world raven boys shes sure anymore', 'dream thieves raven cycle could steal things dreams would takeronan lynch secrets keeps others keeps himselfone secret ronan bring things dreamsand sometimes hes one wants thingsronan one raven boysa group friends practically brothers searching dead king named glendower could steal things dreams would takeronan lynch secrets keeps others keeps himselfone secret ronan bring things dreamsand sometimes hes one wants thingsronan one raven boysa group friends practically brothers searching dead king named glendower think hidden somewhere hills elite private school aglionby academy path glendower long lived undercurrent beneath town like ronans secrets beginning rise surfacechanging everything wakeof raven boys entertainment weekly wrote maggie stiefvaters cantputitdown paranormal adventure leave clamoring book two second book wild imagination dark romance heartstopping twists maggie stiefvater conjure']\n",
            "\n",
            "Documents for Topic 36:\n",
            " ['harry potter deathly hallows harry potter harry waiting privet drive order phoenix coming escort safely away without voldemort supporters knowing harry fulfil momentous seemingly impossible task professor dumbledore left', 'harry potter sorcerers stone harry potter harry potter thinks ordinary boy lives uncle vernon aunt petunia cousin dudley mean make sleep cupboard stairs dudley however two bedrooms one sleep one toys games harry starts receiving mysterious letters life changed forever whisked away beet harry potter thinks ordinary boy lives uncle vernon aunt petunia cousin dudley mean make sleep cupboard stairs dudley however two bedrooms one sleep one toys games harry starts receiving mysterious letters life changed forever whisked away beetleeyed giant man enrolled hogwarts school witchcraft wizardry reason harry potter wizard first book harry potter series makes perfect introduction world hogwarts', 'harry potter prisoner azkaban harry potter harry potter lucky reach age thirteen since already survived murderous attacks feared dark lord one occasion hopes quiet term concentrating quidditch dashed maniacal massmurderer escapes azkaban pursued soulsucking dementors guard prison assumed hogwarts safes harry potter lucky reach age thirteen since already survived murderous attacks feared dark lord one occasion hopes quiet term concentrating quidditch dashed maniacal massmurderer escapes azkaban pursued soulsucking dementors guard prison assumed hogwarts safest place harry coincidence feel eyes watching dark taking professor trelawneys ghoulish predictions seriously', 'harry potter order phoenix harry potter harry potter due start fifth year hogwarts school witchcraft wizardry best friends ron hermione secretive summer desperate get back school find going however harry discovers far devastating could ever expectedsuspense secrets thrilling action th harry potter due start fifth year hogwarts school witchcraft wizardry best friends ron hermione secretive summer desperate get back school find going however harry discovers far devastating could ever expectedsuspense secrets thrilling action pen jk rowling ensure electrifying adventure impossible put', 'harry potter halfblood prince harry potter middle summer unseasonal mist pressing windowpanes harry potter waiting nervously bedroom dursleys house privet drive visit professor dumbledore one last times saw headmaster fierce onetoone duel lord voldemort harry cant quite believe professor middle summer unseasonal mist pressing windowpanes harry potter waiting nervously bedroom dursleys house privet drive visit professor dumbledore one last times saw headmaster fierce onetoone duel lord voldemort harry cant quite believe professor dumbledore actually appear dursleys places professor coming visit wait harry returns hogwarts weeks time harrys sixth year hogwarts already got unusual start worlds muggle magic start intertwinejk rowling charts harry potters latest adventures sixth year hogwarts consummate skill breathtaking fashion']\n",
            "\n",
            "Documents for Topic 37:\n",
            " ['behind closed doors debut bloggers cant stop raving perfect fans girl train ice twins everyone knows couple like jack gracehe looks wealth charm elegance might want like though youd like get know grace betterbut difficult realise jack grace never apartsome debut bloggers cant stop raving perfect fans girl train ice twins everyone knows couple like jack gracehe looks wealth charm elegance might want like though youd like get know grace betterbut difficult realise jack grace never apartsome might call true love others might ask grace never answers phone never meet coffee even though doesnt work cook elaborate meals remain slim bars one bedroom windowssometimes perfect marriage perfect lie', 'music chasing dream classical musician maddie taylor secretly dreams louder life geeky girls like dont get rock stars tattooed singer jared cross catches playing guitar invites join band sound reality tv show competitiononce show maddie discovers theres jared flirty smile bad boy reputation classical musician maddie taylor secretly dreams louder life geeky girls like dont get rock stars tattooed singer jared cross catches playing guitar invites join band sound reality tv show competitiononce show maddie discovers theres jared flirty smile bad boy reputation performance attraction becomes impossible ignore show pressures stay single theyre forced keep relationship secretas competition heats jared whatever takes band win maddie must decide following dream worth losing heart', 'take home tonight rock star romance rocker gets taste unexpected passion latest redhot rock star romance awardwinning author want want calix bourbon might seem like free spirit thats front reality hes trying keep fractured family together working session musician blue fire hires replace keyboardist calix rocker gets taste unexpected passion latest redhot rock star romance awardwinning author want want calix bourbon might seem like free spirit thats front reality hes trying keep fractured family together working session musician blue fire hires replace keyboardist calix determined make opportunitybut cant help distracted bands sexy personal chef mimis temporary gig great heart set auditioning televised cooking show theres one problem week acquire skills necessary survive competition luckily bands new keyboard player teach exactly needs kitchen bedroom', 'one moment pushing limits fame fortune stadiums full screaming fans right around corner rock band heart stina lindenblatts steamy intense pushing limits series epic love affair steals show opening actwhen nolan kincaid skipped town chase music career dreams knew wouldnt miss reminders broken family fame fortune stadiums full screaming fans right around corner rock band heart stina lindenblatts steamy intense pushing limits series epic love affair steals show opening actwhen nolan kincaid skipped town chase music career dreams knew wouldnt miss reminders broken familyhe wasnt sure could forget girl left behind band touring nonstop recording sessions go night groupies crazed hears hailey wilkins trouble drops everythinghailey thought shed missed chance nolan five years ago moment realized loved moment decided leave brutal assault lands icu nolan flies straight bedside acting like nothings changed whats rock star like canceling shows risking record deal nurse old friend back health hailey believe hell stay timewith attacker still large nolans ready rise occasion knows let hailey hes ready give everything heart souland hell fight chance prove', 'listen fusion new york times usa today bestselling author kristen probys brand new series five best friends open hot new restaurant one gets much bargained sexy former rock star walks doorsand heartseduction quickly becoming hottest new restaurant portland addison wade proud claim cre new york times usa today bestselling author kristen probys brand new series five best friends open hot new restaurant one gets much bargained sexy former rock star walks doorsand heartseduction quickly becoming hottest new restaurant portland addison wade proud claim credit shes determined make success cant think better way bring new customers live music former rock star jake keller swaggers doors apply weekend gig knows shes trouble addie instantly recognizes himhis posters plastered bedroom walls high schoolhes bad boyexactly type exactly doesnt needjake keller walked away limelight five years ago yearns return whats always driven music gets work smartmouthed funnyashell bombshell better talking addie giving job far easier persuading wants romp bed begins drop walls jakes past finally catches himwill addie torn apart jake able convince drown doubts listen heart']\n",
            "\n",
            "Documents for Topic 38:\n",
            " ['eligible austen project modern retelling pride prejudicethis version bennet familyand mr darcyis one havent met liz magazine writer late thirties like yoga instructor older sister jane lives new york city father health scare return childhood home cincinnati helpand discover spr modern retelling pride prejudicethis version bennet familyand mr darcyis one havent met liz magazine writer late thirties like yoga instructor older sister jane lives new york city father health scare return childhood home cincinnati helpand discover sprawling tudor grew crumbling family disarrayyoungest sisters kitty lydia busy crossfit workouts paleo diets get jobs mary middle sister earning third online masters degree barely leaves room except mysterious tuesdaynight outings wont discuss mrs bennet one thing mind marry daughters especially janes fortieth birthday fast approachesenter chip bingley handsome newintown doctor recently appeared juggernaut reality tv dating show eligible fourth july barbecue chip takes immediate interest jane chips friend neurosurgeon fitzwilliam darcy reveals liz much less charming yet first impressions deceiving', 'dear mr knightley dear mr knightley contemporary epistolary novel delightful dash jane austensamantha moore survived years darkness foster care system hiding behind favorite characters literature even adopting words fictional friends give identity albeit borrowed one importantly protect revealing tr dear mr knightley contemporary epistolary novel delightful dash jane austensamantha moore survived years darkness foster care system hiding behind favorite characters literature even adopting words fictional friends give identity albeit borrowed one importantly protect revealing true self encountering painafter college samantha receives extraordinary opportunity anonymous mr knightley offers full scholarship earn graduate degree prestigious medill school journalism sole condition sam write mr knightley regularly keep apprised progressas sams true identity begins reveal letters heart begins soften around hera damaged teenager fellow inhabitant grace house classmates medill powerfully successful novelist alex powell sam finally begins trust learns alex secrets ownsecrets better worse make impossible sam hide behind either characters letters', 'pride prejudice truth universally acknowledged single man possession good fortune must want wifeso begins pride prejudice jane austens witty comedy mannersone popular novels timethat features splendidly civilized sparring proud mr darcy prejudiced elizabeth bennet play spirited cou truth universally acknowledged single man possession good fortune must want wifeso begins pride prejudice jane austens witty comedy mannersone popular novels timethat features splendidly civilized sparring proud mr darcy prejudiced elizabeth bennet play spirited courtship series eighteenthcentury drawingroom intrigues', 'guernsey literary potato peel pie society wonder book got guernsey perhaps sort secret homing instinct books brings perfect readers january london emerging shadow second world war writer juliet ashton looking next book subject could imagine would find letter man shes never met native wonder book got guernsey perhaps sort secret homing instinct books brings perfect readers january london emerging shadow second world war writer juliet ashton looking next book subject could imagine would find letter man shes never met native island guernsey come across name written inside book charles lambas juliet new correspondent exchange letters juliet drawn world man friendsand wonderfully eccentric world guernsey literary potato peel pie societyborn spurofthemoment alibi members discovered breaking curfew germans occupying islandboasts charming funny deeply human cast characters pig farmers phrenologists literature lovers alljuliet begins remarkable correspondence societys members learning island taste books impact recent german occupation lives captivated stories sets sail guernsey finds change foreverwritten warmth humor series letters novel celebration written word guises finding connection surprising ways', 'jane eyre orphaned household aunt reed gateshead subject cruel regime lowood charity school jane eyre nonetheless emerges unbroken spirit integrity takes post governess thornfield falls love mr rochester discovers impediment lawful marriage story transcends melodrama portray womans pa orphaned household aunt reed gateshead subject cruel regime lowood charity school jane eyre nonetheless emerges unbroken spirit integrity takes post governess thornfield falls love mr rochester discovers impediment lawful marriage story transcends melodrama portray womans passionate search wider richer life victorian society traditionally allowedwith heroine full yearning dangerous secrets encounters choices finally makes charlotte brontes innovative enduring romantic novel continues engage provoke readers']\n",
            "\n",
            "Documents for Topic -1:\n",
            " ['soumission dans une france assez proche de la ntre un homme sengage dans la carrire universitaire peu motiv par lenseignement il sattend une vie ennuyeuse mais calme protge des grands drames historiques cependant les forces en jeu dans le pays ont fissur le systme politique jusqu provoquer son effondrement cette implosion sans soubresauts sans vraie rvolution dans une france assez proche de la ntre un homme sengage dans la carrire universitaire peu motiv par lenseignement il sattend une vie ennuyeuse mais calme protge des grands drames historiques cependant les forces en jeu dans le pays ont fissur le systme politique jusqu provoquer son effondrement cette implosion sans soubresauts sans vraie rvolution se dveloppe comme un mauvais rvele talent de lauteur sa force visionnaire nous entranent sur un terrain ambigu et glissant son regard sur notre civilisation vieillissante fait coexister dans ce roman les intuitions potiques les effets comiques une mlancolie fatalistece livre est une saisissante fable politique et morale', 'requiem red patient twentyninea monster roams halls soothing hills asylum three girls dead endowed curseor gift perception hears messages music sees lyrics paintings corn lifetime asylum resident orchestral corn music constant lifemason new kind orderly sees woman lunatic bel patient twentyninea monster roams halls soothing hills asylum three girls dead endowed curseor gift perception hears messages music sees lyrics paintings corn lifetime asylum resident orchestral corn music constant lifemason new kind orderly sees woman lunatic belief grows self confidence perhaps might escape might see outside world monster plans missing girls share one common threadeach twentynines cell mate next', 'boys boat nine americans epic quest gold berlin olympics readers laura hillenbrands seabiscuit unbroken dramatic story american rowing team stunned world hitlers berlin olympics daniel james browns robust book tells story university washingtons eightoar crew epic quest olympic gold medal team transformed sport grabbed attention readers laura hillenbrands seabiscuit unbroken dramatic story american rowing team stunned world hitlers berlin olympics daniel james browns robust book tells story university washingtons eightoar crew epic quest olympic gold medal team transformed sport grabbed attention millions americans sons loggers shipyard workers farmers boys defeated elite rivals first eastern british universities finally german crew rowing adolf hitler olympic games berlin emotional heart story lies one rower joe rantz teenager without family prospects rows glory regain shattered selfregard find place call home crew assembled enigmatic coach mentored visionary eccentric british boat builder trust makes victorious team remind country done everyone quite literally pulls togethera perfect melding commitment determination optimism drawing boys diaries journals photos memories onceinalifetime shared dream boys boat irresistible story beating odds finding hope desperate timesthe improbable intimate story nine workingclass boys american west depths great depression showed world true grit really meant appeal readers erik larson timothy egan james bradley david halberstams amateurs', 'black maria praise aracelis girmaygirmays every lossshe calls estrangementsis yearning connection across time place every fragment bulwark ruin oprah magazine aracelis girmay poet collects polishes shares stories brilliant invention tenderness intellectual liveliness understandabl praise aracelis girmaygirmays every lossshe calls estrangementsis yearning connection across time place every fragment bulwark ruin oprah magazine aracelis girmay poet collects polishes shares stories brilliant invention tenderness intellectual liveliness understandable think blessed curator collective histories art vulnerability one lives inside stories gathers remarkable collection poems set alarms even transform world inhabits showing us process exactly asks romare beardens art assign blackness near sea captivity one many sweet contradictions black maria black flag wounding pastoral deeply thankful poet unique singular talent writing today kwame dawestaking name moons dark plains misidentified seas early astronomers black maria investigates african diasporic histories consequences racism within american culture question human identity central project desire recognize lives eritrean refugees made invisible years immigration crisis refugee status exile resulting statelessness recipient whiting award poetry girmays newest collection elegizes celebrates life wrestling humanistic notion seeing beyond seeing violence seeing grace seeing betterto seagreat storage house historyon rode touchedthe brief pulse flutteringpages spelled salt lifeyour rage indifferenceyour gentleness washing feetall going onwhether liveto bring carnationsyellow pink floatlike bright sentences atopyour memorys dark hairaracelis girmay author three poetry collections black maria kingdom animalia isabella gardner award finalist nbcc award teeth recipient whiting award received grants fellowships jerome cave canem watson foundations well civitella ranieri nea currently teaches hampshire colleges school interdisciplinary arts drew universitys low residency mfa program originally santa ana california splits time new york amherst massachusetts', 'starving hearts triangular trade trilogy since assault miss annette chetwynd plagued nightmares worries arranged marriage yearns find anonymous rescuer unfortunately health intellect prevent repel suitors cause annette doubt gods existence least answers prayers unusual way mr peter adsley joining clergy since assault miss annette chetwynd plagued nightmares worries arranged marriage yearns find anonymous rescuer unfortunately health intellect prevent repel suitors cause annette doubt gods existence least answers prayers unusual way mr peter adsley joining clergy desires godly wife side failed attempt obtain one engages clandestine meeting bewitching young woman keeps crossing path unsettling destined disappointments peter annette endure disgraceful situations peters faith sustain overwhelming setbacks annette overcome doubts starving hearts yield machinations mad man']\n",
            "\n",
            "Topic Information:\n",
            "    Topic  Count                                           Name  \\\n",
            "0      -1    421                           -1_one_new_life_love   \n",
            "1       0     52                0_murder_detective_strike_crime   \n",
            "2       1     40                1_recipes_cookbook_cooking_food   \n",
            "3       2     36                   2_queen_court_kingdom_prince   \n",
            "4       3     27          3_poems_poetry_collection_shakespeare   \n",
            "5       4     26                  4_sports_fantasy_football_hes   \n",
            "6       5     25                  5_life_happiness_anxiety_fear   \n",
            "7       6     25                  6_art_artists_creativity_book   \n",
            "8       7     22         7_american_lincoln_political_jefferson   \n",
            "9       8     21                    8_shes_becky_bloomwood_girl   \n",
            "10      9     20          9_science_universe_scientific_species   \n",
            "11     10     20                   10_sleep_people_walker_blink   \n",
            "12     11     17              11_magic_parabatai_queens_vampire   \n",
            "13     12     16                       12_author_life_new_times   \n",
            "14     13     13         13_religion_christianity_religious_god   \n",
            "15     14     13                 14_saga_minecraft_diary_zombie   \n",
            "16     15     13                15_batman_marvel_superman_robin   \n",
            "17     16     13                 16_music_physics_jazz_huberman   \n",
            "18     17     12                   17_allie_mother_secrets_emma   \n",
            "19     18     12                    18_dracula_clary_ace_mortal   \n",
            "20     19     12                 19_carson_shack_husband_alison   \n",
            "21     20     11                20_children_patch_peculiar_town   \n",
            "22     21     10               21_war_military_bacevich_shining   \n",
            "23     22     10                   22_basket_fruits_sohma_tohru   \n",
            "24     23     10  23_startup_fundraising_business_entrepreneurs   \n",
            "25     24      9                 24_crayons_beginner_seuss_read   \n",
            "26     25      9         25_enough_greatly_daring_vulnerability   \n",
            "27     26      8          26_madlen_psychopath_hospital_madness   \n",
            "28     27      8                    27_ss_cavalier_shift_bigend   \n",
            "29     28      8                        28_rock_music_duran_pop   \n",
            "30     29      7               29_kaling_youre_dating_hollywood   \n",
            "31     30      7                30_jesus_christian_bible_mormon   \n",
            "32     31      7                       31_knows_hes_alien_scott   \n",
            "33     32      6                32_wedding_chinese_brides_seder   \n",
            "34     33      6              33_greek_iliad_literature_odyssey   \n",
            "35     34      6                 34_jobs_malcolm_isaacson_steve   \n",
            "36     35      6                    35_raven_blue_boys_aglionby   \n",
            "37     36      6             36_harry_potter_hogwarts_professor   \n",
            "38     37      5                      37_rock_show_jared_maddie   \n",
            "39     38      5                     38_mr_jane_guernsey_bennet   \n",
            "\n",
            "                                       Representation  \\\n",
            "0   [one, new, life, love, world, story, two, fami...   \n",
            "1   [murder, detective, strike, crime, case, death...   \n",
            "2   [recipes, cookbook, cooking, food, ingredients...   \n",
            "3   [queen, court, kingdom, prince, throne, kings,...   \n",
            "4   [poems, poetry, collection, shakespeare, poem,...   \n",
            "5   [sports, fantasy, football, hes, one, game, se...   \n",
            "6   [life, happiness, anxiety, fear, us, spiritual...   \n",
            "7   [art, artists, creativity, book, painting, art...   \n",
            "8   [american, lincoln, political, jefferson, amer...   \n",
            "9   [shes, becky, bloomwood, girl, perfect, isla, ...   \n",
            "10  [science, universe, scientific, species, histo...   \n",
            "11  [sleep, people, walker, blink, introverts, hab...   \n",
            "12  [magic, parabatai, queens, vampire, rat, wes, ...   \n",
            "13  [author, life, new, times, camille, love, nich...   \n",
            "14  [religion, christianity, religious, god, belie...   \n",
            "15  [saga, minecraft, diary, zombie, vaughan, mark...   \n",
            "16  [batman, marvel, superman, robin, graphic, com...   \n",
            "17  [music, physics, jazz, huberman, records, orch...   \n",
            "18  [allie, mother, secrets, emma, klebold, ben, c...   \n",
            "19  [dracula, clary, ace, mortal, shadowhunters, j...   \n",
            "20  [carson, shack, husband, alison, living, shes,...   \n",
            "21  [children, patch, peculiar, town, abandoned, n...   \n",
            "22  [war, military, bacevich, shining, middle, zor...   \n",
            "23  [basket, fruits, sohma, tohru, vol, family, cu...   \n",
            "24  [startup, fundraising, business, entrepreneurs...   \n",
            "25  [crayons, beginner, seuss, read, dr, crayon, h...   \n",
            "26  [enough, greatly, daring, vulnerability, us, c...   \n",
            "27  [madlen, psychopath, hospital, madness, ronson...   \n",
            "28  [ss, cavalier, shift, bigend, sinclair, nv, pe...   \n",
            "29  [rock, music, duran, pop, musical, sheffield, ...   \n",
            "30  [kaling, youre, dating, hollywood, mindy, remi...   \n",
            "31  [jesus, christian, bible, mormon, christians, ...   \n",
            "32  [knows, hes, alien, scott, lou, josh, pilgrims...   \n",
            "33  [wedding, chinese, brides, seder, dress, asian...   \n",
            "34  [greek, iliad, literature, odyssey, fagles, my...   \n",
            "35  [jobs, malcolm, isaacson, steve, wrote, gladwe...   \n",
            "36  [raven, blue, boys, aglionby, gansey, ronan, l...   \n",
            "37  [harry, potter, hogwarts, professor, dursleys,...   \n",
            "38  [rock, show, jared, maddie, like, star, band, ...   \n",
            "39  [mr, jane, guernsey, bennet, knightley, pride,...   \n",
            "\n",
            "                                  Representative_Docs  \n",
            "0   [sound love born raised family farm rural east...  \n",
            "1   [death note vol whiteout death note light yaga...  \n",
            "2   [smitten kitchen cookbook longawaited cookbook...  \n",
            "3   [clash kings song ice fire alternate cover edi...  \n",
            "4   [print city lights spotlight third fulllength ...  \n",
            "5   [icing aces hockey hailed jami davenport goto ...  \n",
            "6   [living forward proven plan stop drifting get ...  \n",
            "7   [artists way spiritual path higher creativity ...  \n",
            "8   [people modernday figures reshaped affirmed fo...  \n",
            "9   [luckiest girl alive perfect life perfect liea...  \n",
            "10  [cosmos cosmos heavily illustrated chapters co...  \n",
            "11  [sleep revolution transforming life one night ...  \n",
            "12  [gathering shadows shades magic four months si...  \n",
            "13  [glory everything beyond kitchen house author ...  \n",
            "14  [god delusion preeminent scientist worlds prom...  \n",
            "15  [saga volume saga collected editions two soldi...  \n",
            "16  [superman vol truth superman gene luen yang su...  \n",
            "17  [rest noise listening twentieth century rest n...  \n",
            "18  [keep secret meet emma corrigan young woman hu...  \n",
            "19  [city fallen angels mortal instruments mortal ...  \n",
            "20  [obsession riveting new novel new york times b...  \n",
            "21  [children town whole world adults knowing bett...  \n",
            "22  [world war z oral history zombie war zombie wa...  \n",
            "23  [fruits basket vol fruits basket tohru company...  \n",
            "24  [third wave entrepreneurs vision future new yo...  \n",
            "25  [green eggs ham beginner books b like green eg...  \n",
            "26  [looking lovely collecting moments matter want...  \n",
            "27  [secret healer fourteenth century opportunitie...  \n",
            "28  [pop gun war volume gift pop gun war childhood...  \n",
            "29  [flowers lied remember back first wanted becom...  \n",
            "30  [nice time lies find love sht like new york ti...  \n",
            "31  [first steps new christians print edition enem...  \n",
            "32  [boy meets boy story paul sophomore high schoo...  \n",
            "33  [wedding dress four brides one dressa tale fai...  \n",
            "34  [greek mythic history far back fifth century b...  \n",
            "35  [david goliath underdogs misfits art battling ...  \n",
            "36  [raven king raven cycle nothing living safe no...  \n",
            "37  [harry potter sorcerers stone harry potter har...  \n",
            "38  [music chasing dream classical musician maddie...  \n",
            "39  [guernsey literary potato peel pie society won...  \n"
          ]
        }
      ]
    },
    {
      "cell_type": "code",
      "source": [
        "\n",
        "# Visualize topics\n",
        "topic_model.visualize_topics()\n"
      ],
      "metadata": {
        "colab": {
          "base_uri": "https://localhost:8080/",
          "height": 667
        },
        "id": "CDLznSdWFkB9",
        "outputId": "eabb2b8f-7957-4009-b1f2-3f8aba4347b0"
      },
      "execution_count": null,
      "outputs": [
        {
          "output_type": "display_data",
          "data": {
            "text/html": [
              "<html>\n",
              "<head><meta charset=\"utf-8\" /></head>\n",
              "<body>\n",
              "    <div>            <script src=\"https://cdnjs.cloudflare.com/ajax/libs/mathjax/2.7.5/MathJax.js?config=TeX-AMS-MML_SVG\"></script><script type=\"text/javascript\">if (window.MathJax && window.MathJax.Hub && window.MathJax.Hub.Config) {window.MathJax.Hub.Config({SVG: {font: \"STIX-Web\"}});}</script>                <script type=\"text/javascript\">window.PlotlyConfig = {MathJaxConfig: 'local'};</script>\n",
              "        <script charset=\"utf-8\" src=\"https://cdn.plot.ly/plotly-2.35.2.min.js\"></script>                <div id=\"ffc146a9-3e10-4c82-8567-39e83fb8391e\" class=\"plotly-graph-div\" style=\"height:650px; width:650px;\"></div>            <script type=\"text/javascript\">                                    window.PLOTLYENV=window.PLOTLYENV || {};                                    if (document.getElementById(\"ffc146a9-3e10-4c82-8567-39e83fb8391e\")) {                    Plotly.newPlot(                        \"ffc146a9-3e10-4c82-8567-39e83fb8391e\",                        [{\"customdata\":[[0,\"murder | detective | strike | crime | case\",52],[1,\"recipes | cookbook | cooking | food | ingredients\",40],[2,\"queen | court | kingdom | prince | throne\",36],[3,\"poems | poetry | collection | shakespeare | poem\",27],[4,\"sports | fantasy | football | hes | one\",26],[5,\"life | happiness | anxiety | fear | us\",25],[6,\"art | artists | creativity | book | painting\",25],[7,\"american | lincoln | political | jefferson | america\",22],[8,\"shes | becky | bloomwood | girl | perfect\",21],[9,\"science | universe | scientific | species | history\",20],[10,\"sleep | people | walker | blink | introverts\",20],[11,\"magic | parabatai | queens | vampire | rat\",17],[12,\"author | life | new | times | camille\",16],[13,\"religion | christianity | religious | god | belief\",13],[14,\"saga | minecraft | diary | zombie | vaughan\",13],[15,\"batman | marvel | superman | robin | graphic\",13],[16,\"music | physics | jazz | huberman | records\",13],[17,\"allie | mother | secrets | emma | klebold\",12],[18,\"dracula | clary | ace | mortal | shadowhunters\",12],[19,\"carson | shack | husband | alison | living\",12],[20,\"children | patch | peculiar | town | abandoned\",11],[21,\"war | military | bacevich | shining | middle\",10],[22,\"basket | fruits | sohma | tohru | vol\",10],[23,\"startup | fundraising | business | entrepreneurs | entrepreneur\",10],[24,\"crayons | beginner | seuss | read | dr\",9],[25,\"enough | greatly | daring | vulnerability | us\",9],[26,\"madlen | psychopath | hospital | madness | ronson\",8],[27,\"ss | cavalier | shift | bigend | sinclair\",8],[28,\"rock | music | duran | pop | musical\",8],[29,\"kaling | youre | dating | hollywood | mindy\",7],[30,\"jesus | christian | bible | mormon | christians\",7],[31,\"knows | hes | alien | scott | lou\",7],[32,\"wedding | chinese | brides | seder | dress\",6],[33,\"greek | iliad | literature | odyssey | fagles\",6],[34,\"jobs | malcolm | isaacson | steve | wrote\",6],[35,\"raven | blue | boys | aglionby | gansey\",6],[36,\"harry | potter | hogwarts | professor | dursleys\",6],[37,\"rock | show | jared | maddie | like\",5],[38,\"mr | jane | guernsey | bennet | knightley\",5]],\"hovertemplate\":\"\\u003cb\\u003eTopic %{customdata[0]}\\u003c\\u002fb\\u003e\\u003cbr\\u003e%{customdata[1]}\\u003cbr\\u003eSize: %{customdata[2]}\",\"legendgroup\":\"\",\"marker\":{\"color\":\"#B0BEC5\",\"size\":[52,40,36,27,26,25,25,22,21,20,20,17,16,13,13,13,13,12,12,12,11,10,10,10,9,9,8,8,8,7,7,7,6,6,6,6,6,5,5],\"sizemode\":\"area\",\"sizeref\":0.0325,\"symbol\":\"circle\",\"line\":{\"color\":\"DarkSlateGrey\",\"width\":2}},\"mode\":\"markers\",\"name\":\"\",\"orientation\":\"v\",\"showlegend\":false,\"x\":[-5.8522673,-14.4670315,8.138561,1.3354948,-14.115114,1.4284335,1.2617358,-4.599314,-14.75507,1.5822102,1.9706491,8.378382,-5.28967,20.986706,8.130427,8.463397,-7.044642,-5.5278273,7.930487,-5.6572733,8.043443,-4.745226,-14.906822,2.1486082,8.051443,1.334972,1.3225896,-4.874016,-7.044289,-15.19218,20.982294,-14.239997,-14.65972,1.6070379,1.9475919,7.899704,8.257535,-14.05123,-5.2003684],\"xaxis\":\"x\",\"y\":[-8.819606,7.0436363,-8.757936,0.9457167,6.107085,-0.08190089,1.0697632,-10.015998,6.4445057,-0.83111393,-0.95498854,-8.567731,-9.35952,-2.0640075,-10.301047,-8.422973,2.1627548,-9.147931,-8.467682,-9.016704,-9.422133,-9.865975,6.6367345,-0.9503124,-10.067695,0.3627807,-0.12035391,-9.735449,2.1626346,6.461694,-2.068182,6.1136146,7.130097,1.3226509,-1.149971,-9.513885,-8.853206,6.3143363,-9.446279],\"yaxis\":\"y\",\"type\":\"scatter\"}],                        {\"template\":{\"data\":{\"barpolar\":[{\"marker\":{\"line\":{\"color\":\"white\",\"width\":0.5},\"pattern\":{\"fillmode\":\"overlay\",\"size\":10,\"solidity\":0.2}},\"type\":\"barpolar\"}],\"bar\":[{\"error_x\":{\"color\":\"rgb(36,36,36)\"},\"error_y\":{\"color\":\"rgb(36,36,36)\"},\"marker\":{\"line\":{\"color\":\"white\",\"width\":0.5},\"pattern\":{\"fillmode\":\"overlay\",\"size\":10,\"solidity\":0.2}},\"type\":\"bar\"}],\"carpet\":[{\"aaxis\":{\"endlinecolor\":\"rgb(36,36,36)\",\"gridcolor\":\"white\",\"linecolor\":\"white\",\"minorgridcolor\":\"white\",\"startlinecolor\":\"rgb(36,36,36)\"},\"baxis\":{\"endlinecolor\":\"rgb(36,36,36)\",\"gridcolor\":\"white\",\"linecolor\":\"white\",\"minorgridcolor\":\"white\",\"startlinecolor\":\"rgb(36,36,36)\"},\"type\":\"carpet\"}],\"choropleth\":[{\"colorbar\":{\"outlinewidth\":1,\"tickcolor\":\"rgb(36,36,36)\",\"ticks\":\"outside\"},\"type\":\"choropleth\"}],\"contourcarpet\":[{\"colorbar\":{\"outlinewidth\":1,\"tickcolor\":\"rgb(36,36,36)\",\"ticks\":\"outside\"},\"type\":\"contourcarpet\"}],\"contour\":[{\"colorbar\":{\"outlinewidth\":1,\"tickcolor\":\"rgb(36,36,36)\",\"ticks\":\"outside\"},\"colorscale\":[[0.0,\"#440154\"],[0.1111111111111111,\"#482878\"],[0.2222222222222222,\"#3e4989\"],[0.3333333333333333,\"#31688e\"],[0.4444444444444444,\"#26828e\"],[0.5555555555555556,\"#1f9e89\"],[0.6666666666666666,\"#35b779\"],[0.7777777777777778,\"#6ece58\"],[0.8888888888888888,\"#b5de2b\"],[1.0,\"#fde725\"]],\"type\":\"contour\"}],\"heatmapgl\":[{\"colorbar\":{\"outlinewidth\":1,\"tickcolor\":\"rgb(36,36,36)\",\"ticks\":\"outside\"},\"colorscale\":[[0.0,\"#440154\"],[0.1111111111111111,\"#482878\"],[0.2222222222222222,\"#3e4989\"],[0.3333333333333333,\"#31688e\"],[0.4444444444444444,\"#26828e\"],[0.5555555555555556,\"#1f9e89\"],[0.6666666666666666,\"#35b779\"],[0.7777777777777778,\"#6ece58\"],[0.8888888888888888,\"#b5de2b\"],[1.0,\"#fde725\"]],\"type\":\"heatmapgl\"}],\"heatmap\":[{\"colorbar\":{\"outlinewidth\":1,\"tickcolor\":\"rgb(36,36,36)\",\"ticks\":\"outside\"},\"colorscale\":[[0.0,\"#440154\"],[0.1111111111111111,\"#482878\"],[0.2222222222222222,\"#3e4989\"],[0.3333333333333333,\"#31688e\"],[0.4444444444444444,\"#26828e\"],[0.5555555555555556,\"#1f9e89\"],[0.6666666666666666,\"#35b779\"],[0.7777777777777778,\"#6ece58\"],[0.8888888888888888,\"#b5de2b\"],[1.0,\"#fde725\"]],\"type\":\"heatmap\"}],\"histogram2dcontour\":[{\"colorbar\":{\"outlinewidth\":1,\"tickcolor\":\"rgb(36,36,36)\",\"ticks\":\"outside\"},\"colorscale\":[[0.0,\"#440154\"],[0.1111111111111111,\"#482878\"],[0.2222222222222222,\"#3e4989\"],[0.3333333333333333,\"#31688e\"],[0.4444444444444444,\"#26828e\"],[0.5555555555555556,\"#1f9e89\"],[0.6666666666666666,\"#35b779\"],[0.7777777777777778,\"#6ece58\"],[0.8888888888888888,\"#b5de2b\"],[1.0,\"#fde725\"]],\"type\":\"histogram2dcontour\"}],\"histogram2d\":[{\"colorbar\":{\"outlinewidth\":1,\"tickcolor\":\"rgb(36,36,36)\",\"ticks\":\"outside\"},\"colorscale\":[[0.0,\"#440154\"],[0.1111111111111111,\"#482878\"],[0.2222222222222222,\"#3e4989\"],[0.3333333333333333,\"#31688e\"],[0.4444444444444444,\"#26828e\"],[0.5555555555555556,\"#1f9e89\"],[0.6666666666666666,\"#35b779\"],[0.7777777777777778,\"#6ece58\"],[0.8888888888888888,\"#b5de2b\"],[1.0,\"#fde725\"]],\"type\":\"histogram2d\"}],\"histogram\":[{\"marker\":{\"line\":{\"color\":\"white\",\"width\":0.6}},\"type\":\"histogram\"}],\"mesh3d\":[{\"colorbar\":{\"outlinewidth\":1,\"tickcolor\":\"rgb(36,36,36)\",\"ticks\":\"outside\"},\"type\":\"mesh3d\"}],\"parcoords\":[{\"line\":{\"colorbar\":{\"outlinewidth\":1,\"tickcolor\":\"rgb(36,36,36)\",\"ticks\":\"outside\"}},\"type\":\"parcoords\"}],\"pie\":[{\"automargin\":true,\"type\":\"pie\"}],\"scatter3d\":[{\"line\":{\"colorbar\":{\"outlinewidth\":1,\"tickcolor\":\"rgb(36,36,36)\",\"ticks\":\"outside\"}},\"marker\":{\"colorbar\":{\"outlinewidth\":1,\"tickcolor\":\"rgb(36,36,36)\",\"ticks\":\"outside\"}},\"type\":\"scatter3d\"}],\"scattercarpet\":[{\"marker\":{\"colorbar\":{\"outlinewidth\":1,\"tickcolor\":\"rgb(36,36,36)\",\"ticks\":\"outside\"}},\"type\":\"scattercarpet\"}],\"scattergeo\":[{\"marker\":{\"colorbar\":{\"outlinewidth\":1,\"tickcolor\":\"rgb(36,36,36)\",\"ticks\":\"outside\"}},\"type\":\"scattergeo\"}],\"scattergl\":[{\"marker\":{\"colorbar\":{\"outlinewidth\":1,\"tickcolor\":\"rgb(36,36,36)\",\"ticks\":\"outside\"}},\"type\":\"scattergl\"}],\"scattermapbox\":[{\"marker\":{\"colorbar\":{\"outlinewidth\":1,\"tickcolor\":\"rgb(36,36,36)\",\"ticks\":\"outside\"}},\"type\":\"scattermapbox\"}],\"scatterpolargl\":[{\"marker\":{\"colorbar\":{\"outlinewidth\":1,\"tickcolor\":\"rgb(36,36,36)\",\"ticks\":\"outside\"}},\"type\":\"scatterpolargl\"}],\"scatterpolar\":[{\"marker\":{\"colorbar\":{\"outlinewidth\":1,\"tickcolor\":\"rgb(36,36,36)\",\"ticks\":\"outside\"}},\"type\":\"scatterpolar\"}],\"scatter\":[{\"fillpattern\":{\"fillmode\":\"overlay\",\"size\":10,\"solidity\":0.2},\"type\":\"scatter\"}],\"scatterternary\":[{\"marker\":{\"colorbar\":{\"outlinewidth\":1,\"tickcolor\":\"rgb(36,36,36)\",\"ticks\":\"outside\"}},\"type\":\"scatterternary\"}],\"surface\":[{\"colorbar\":{\"outlinewidth\":1,\"tickcolor\":\"rgb(36,36,36)\",\"ticks\":\"outside\"},\"colorscale\":[[0.0,\"#440154\"],[0.1111111111111111,\"#482878\"],[0.2222222222222222,\"#3e4989\"],[0.3333333333333333,\"#31688e\"],[0.4444444444444444,\"#26828e\"],[0.5555555555555556,\"#1f9e89\"],[0.6666666666666666,\"#35b779\"],[0.7777777777777778,\"#6ece58\"],[0.8888888888888888,\"#b5de2b\"],[1.0,\"#fde725\"]],\"type\":\"surface\"}],\"table\":[{\"cells\":{\"fill\":{\"color\":\"rgb(237,237,237)\"},\"line\":{\"color\":\"white\"}},\"header\":{\"fill\":{\"color\":\"rgb(217,217,217)\"},\"line\":{\"color\":\"white\"}},\"type\":\"table\"}]},\"layout\":{\"annotationdefaults\":{\"arrowhead\":0,\"arrowwidth\":1},\"autotypenumbers\":\"strict\",\"coloraxis\":{\"colorbar\":{\"outlinewidth\":1,\"tickcolor\":\"rgb(36,36,36)\",\"ticks\":\"outside\"}},\"colorscale\":{\"diverging\":[[0.0,\"rgb(103,0,31)\"],[0.1,\"rgb(178,24,43)\"],[0.2,\"rgb(214,96,77)\"],[0.3,\"rgb(244,165,130)\"],[0.4,\"rgb(253,219,199)\"],[0.5,\"rgb(247,247,247)\"],[0.6,\"rgb(209,229,240)\"],[0.7,\"rgb(146,197,222)\"],[0.8,\"rgb(67,147,195)\"],[0.9,\"rgb(33,102,172)\"],[1.0,\"rgb(5,48,97)\"]],\"sequential\":[[0.0,\"#440154\"],[0.1111111111111111,\"#482878\"],[0.2222222222222222,\"#3e4989\"],[0.3333333333333333,\"#31688e\"],[0.4444444444444444,\"#26828e\"],[0.5555555555555556,\"#1f9e89\"],[0.6666666666666666,\"#35b779\"],[0.7777777777777778,\"#6ece58\"],[0.8888888888888888,\"#b5de2b\"],[1.0,\"#fde725\"]],\"sequentialminus\":[[0.0,\"#440154\"],[0.1111111111111111,\"#482878\"],[0.2222222222222222,\"#3e4989\"],[0.3333333333333333,\"#31688e\"],[0.4444444444444444,\"#26828e\"],[0.5555555555555556,\"#1f9e89\"],[0.6666666666666666,\"#35b779\"],[0.7777777777777778,\"#6ece58\"],[0.8888888888888888,\"#b5de2b\"],[1.0,\"#fde725\"]]},\"colorway\":[\"#1F77B4\",\"#FF7F0E\",\"#2CA02C\",\"#D62728\",\"#9467BD\",\"#8C564B\",\"#E377C2\",\"#7F7F7F\",\"#BCBD22\",\"#17BECF\"],\"font\":{\"color\":\"rgb(36,36,36)\"},\"geo\":{\"bgcolor\":\"white\",\"lakecolor\":\"white\",\"landcolor\":\"white\",\"showlakes\":true,\"showland\":true,\"subunitcolor\":\"white\"},\"hoverlabel\":{\"align\":\"left\"},\"hovermode\":\"closest\",\"mapbox\":{\"style\":\"light\"},\"paper_bgcolor\":\"white\",\"plot_bgcolor\":\"white\",\"polar\":{\"angularaxis\":{\"gridcolor\":\"rgb(232,232,232)\",\"linecolor\":\"rgb(36,36,36)\",\"showgrid\":false,\"showline\":true,\"ticks\":\"outside\"},\"bgcolor\":\"white\",\"radialaxis\":{\"gridcolor\":\"rgb(232,232,232)\",\"linecolor\":\"rgb(36,36,36)\",\"showgrid\":false,\"showline\":true,\"ticks\":\"outside\"}},\"scene\":{\"xaxis\":{\"backgroundcolor\":\"white\",\"gridcolor\":\"rgb(232,232,232)\",\"gridwidth\":2,\"linecolor\":\"rgb(36,36,36)\",\"showbackground\":true,\"showgrid\":false,\"showline\":true,\"ticks\":\"outside\",\"zeroline\":false,\"zerolinecolor\":\"rgb(36,36,36)\"},\"yaxis\":{\"backgroundcolor\":\"white\",\"gridcolor\":\"rgb(232,232,232)\",\"gridwidth\":2,\"linecolor\":\"rgb(36,36,36)\",\"showbackground\":true,\"showgrid\":false,\"showline\":true,\"ticks\":\"outside\",\"zeroline\":false,\"zerolinecolor\":\"rgb(36,36,36)\"},\"zaxis\":{\"backgroundcolor\":\"white\",\"gridcolor\":\"rgb(232,232,232)\",\"gridwidth\":2,\"linecolor\":\"rgb(36,36,36)\",\"showbackground\":true,\"showgrid\":false,\"showline\":true,\"ticks\":\"outside\",\"zeroline\":false,\"zerolinecolor\":\"rgb(36,36,36)\"}},\"shapedefaults\":{\"fillcolor\":\"black\",\"line\":{\"width\":0},\"opacity\":0.3},\"ternary\":{\"aaxis\":{\"gridcolor\":\"rgb(232,232,232)\",\"linecolor\":\"rgb(36,36,36)\",\"showgrid\":false,\"showline\":true,\"ticks\":\"outside\"},\"baxis\":{\"gridcolor\":\"rgb(232,232,232)\",\"linecolor\":\"rgb(36,36,36)\",\"showgrid\":false,\"showline\":true,\"ticks\":\"outside\"},\"bgcolor\":\"white\",\"caxis\":{\"gridcolor\":\"rgb(232,232,232)\",\"linecolor\":\"rgb(36,36,36)\",\"showgrid\":false,\"showline\":true,\"ticks\":\"outside\"}},\"title\":{\"x\":0.05},\"xaxis\":{\"automargin\":true,\"gridcolor\":\"rgb(232,232,232)\",\"linecolor\":\"rgb(36,36,36)\",\"showgrid\":false,\"showline\":true,\"ticks\":\"outside\",\"title\":{\"standoff\":15},\"zeroline\":false,\"zerolinecolor\":\"rgb(36,36,36)\"},\"yaxis\":{\"automargin\":true,\"gridcolor\":\"rgb(232,232,232)\",\"linecolor\":\"rgb(36,36,36)\",\"showgrid\":false,\"showline\":true,\"ticks\":\"outside\",\"title\":{\"standoff\":15},\"zeroline\":false,\"zerolinecolor\":\"rgb(36,36,36)\"}}},\"xaxis\":{\"anchor\":\"y\",\"domain\":[0.0,1.0],\"title\":{\"text\":\"\"},\"visible\":false,\"range\":[-17.471006631851196,24.13471164703369]},\"yaxis\":{\"anchor\":\"x\",\"domain\":[0.0,1.0],\"title\":{\"text\":\"\"},\"visible\":false,\"range\":[-11.84620442390442,8.199611449241639]},\"legend\":{\"tracegroupgap\":0,\"itemsizing\":\"constant\"},\"margin\":{\"t\":60},\"title\":{\"font\":{\"size\":22,\"color\":\"Black\"},\"text\":\"\\u003cb\\u003eIntertopic Distance Map\\u003c\\u002fb\\u003e\",\"y\":0.95,\"x\":0.5,\"xanchor\":\"center\",\"yanchor\":\"top\"},\"hoverlabel\":{\"font\":{\"size\":16,\"family\":\"Rockwell\"},\"bgcolor\":\"white\"},\"width\":650,\"height\":650,\"sliders\":[{\"active\":0,\"pad\":{\"t\":50},\"steps\":[{\"args\":[{\"marker.color\":[[\"red\",\"#B0BEC5\",\"#B0BEC5\",\"#B0BEC5\",\"#B0BEC5\",\"#B0BEC5\",\"#B0BEC5\",\"#B0BEC5\",\"#B0BEC5\",\"#B0BEC5\",\"#B0BEC5\",\"#B0BEC5\",\"#B0BEC5\",\"#B0BEC5\",\"#B0BEC5\",\"#B0BEC5\",\"#B0BEC5\",\"#B0BEC5\",\"#B0BEC5\",\"#B0BEC5\",\"#B0BEC5\",\"#B0BEC5\",\"#B0BEC5\",\"#B0BEC5\",\"#B0BEC5\",\"#B0BEC5\",\"#B0BEC5\",\"#B0BEC5\",\"#B0BEC5\",\"#B0BEC5\",\"#B0BEC5\",\"#B0BEC5\",\"#B0BEC5\",\"#B0BEC5\",\"#B0BEC5\",\"#B0BEC5\",\"#B0BEC5\",\"#B0BEC5\",\"#B0BEC5\"]]}],\"label\":\"Topic 0\",\"method\":\"update\"},{\"args\":[{\"marker.color\":[[\"#B0BEC5\",\"red\",\"#B0BEC5\",\"#B0BEC5\",\"#B0BEC5\",\"#B0BEC5\",\"#B0BEC5\",\"#B0BEC5\",\"#B0BEC5\",\"#B0BEC5\",\"#B0BEC5\",\"#B0BEC5\",\"#B0BEC5\",\"#B0BEC5\",\"#B0BEC5\",\"#B0BEC5\",\"#B0BEC5\",\"#B0BEC5\",\"#B0BEC5\",\"#B0BEC5\",\"#B0BEC5\",\"#B0BEC5\",\"#B0BEC5\",\"#B0BEC5\",\"#B0BEC5\",\"#B0BEC5\",\"#B0BEC5\",\"#B0BEC5\",\"#B0BEC5\",\"#B0BEC5\",\"#B0BEC5\",\"#B0BEC5\",\"#B0BEC5\",\"#B0BEC5\",\"#B0BEC5\",\"#B0BEC5\",\"#B0BEC5\",\"#B0BEC5\",\"#B0BEC5\"]]}],\"label\":\"Topic 1\",\"method\":\"update\"},{\"args\":[{\"marker.color\":[[\"#B0BEC5\",\"#B0BEC5\",\"red\",\"#B0BEC5\",\"#B0BEC5\",\"#B0BEC5\",\"#B0BEC5\",\"#B0BEC5\",\"#B0BEC5\",\"#B0BEC5\",\"#B0BEC5\",\"#B0BEC5\",\"#B0BEC5\",\"#B0BEC5\",\"#B0BEC5\",\"#B0BEC5\",\"#B0BEC5\",\"#B0BEC5\",\"#B0BEC5\",\"#B0BEC5\",\"#B0BEC5\",\"#B0BEC5\",\"#B0BEC5\",\"#B0BEC5\",\"#B0BEC5\",\"#B0BEC5\",\"#B0BEC5\",\"#B0BEC5\",\"#B0BEC5\",\"#B0BEC5\",\"#B0BEC5\",\"#B0BEC5\",\"#B0BEC5\",\"#B0BEC5\",\"#B0BEC5\",\"#B0BEC5\",\"#B0BEC5\",\"#B0BEC5\",\"#B0BEC5\"]]}],\"label\":\"Topic 2\",\"method\":\"update\"},{\"args\":[{\"marker.color\":[[\"#B0BEC5\",\"#B0BEC5\",\"#B0BEC5\",\"red\",\"#B0BEC5\",\"#B0BEC5\",\"#B0BEC5\",\"#B0BEC5\",\"#B0BEC5\",\"#B0BEC5\",\"#B0BEC5\",\"#B0BEC5\",\"#B0BEC5\",\"#B0BEC5\",\"#B0BEC5\",\"#B0BEC5\",\"#B0BEC5\",\"#B0BEC5\",\"#B0BEC5\",\"#B0BEC5\",\"#B0BEC5\",\"#B0BEC5\",\"#B0BEC5\",\"#B0BEC5\",\"#B0BEC5\",\"#B0BEC5\",\"#B0BEC5\",\"#B0BEC5\",\"#B0BEC5\",\"#B0BEC5\",\"#B0BEC5\",\"#B0BEC5\",\"#B0BEC5\",\"#B0BEC5\",\"#B0BEC5\",\"#B0BEC5\",\"#B0BEC5\",\"#B0BEC5\",\"#B0BEC5\"]]}],\"label\":\"Topic 3\",\"method\":\"update\"},{\"args\":[{\"marker.color\":[[\"#B0BEC5\",\"#B0BEC5\",\"#B0BEC5\",\"#B0BEC5\",\"red\",\"#B0BEC5\",\"#B0BEC5\",\"#B0BEC5\",\"#B0BEC5\",\"#B0BEC5\",\"#B0BEC5\",\"#B0BEC5\",\"#B0BEC5\",\"#B0BEC5\",\"#B0BEC5\",\"#B0BEC5\",\"#B0BEC5\",\"#B0BEC5\",\"#B0BEC5\",\"#B0BEC5\",\"#B0BEC5\",\"#B0BEC5\",\"#B0BEC5\",\"#B0BEC5\",\"#B0BEC5\",\"#B0BEC5\",\"#B0BEC5\",\"#B0BEC5\",\"#B0BEC5\",\"#B0BEC5\",\"#B0BEC5\",\"#B0BEC5\",\"#B0BEC5\",\"#B0BEC5\",\"#B0BEC5\",\"#B0BEC5\",\"#B0BEC5\",\"#B0BEC5\",\"#B0BEC5\"]]}],\"label\":\"Topic 4\",\"method\":\"update\"},{\"args\":[{\"marker.color\":[[\"#B0BEC5\",\"#B0BEC5\",\"#B0BEC5\",\"#B0BEC5\",\"#B0BEC5\",\"red\",\"#B0BEC5\",\"#B0BEC5\",\"#B0BEC5\",\"#B0BEC5\",\"#B0BEC5\",\"#B0BEC5\",\"#B0BEC5\",\"#B0BEC5\",\"#B0BEC5\",\"#B0BEC5\",\"#B0BEC5\",\"#B0BEC5\",\"#B0BEC5\",\"#B0BEC5\",\"#B0BEC5\",\"#B0BEC5\",\"#B0BEC5\",\"#B0BEC5\",\"#B0BEC5\",\"#B0BEC5\",\"#B0BEC5\",\"#B0BEC5\",\"#B0BEC5\",\"#B0BEC5\",\"#B0BEC5\",\"#B0BEC5\",\"#B0BEC5\",\"#B0BEC5\",\"#B0BEC5\",\"#B0BEC5\",\"#B0BEC5\",\"#B0BEC5\",\"#B0BEC5\"]]}],\"label\":\"Topic 5\",\"method\":\"update\"},{\"args\":[{\"marker.color\":[[\"#B0BEC5\",\"#B0BEC5\",\"#B0BEC5\",\"#B0BEC5\",\"#B0BEC5\",\"#B0BEC5\",\"red\",\"#B0BEC5\",\"#B0BEC5\",\"#B0BEC5\",\"#B0BEC5\",\"#B0BEC5\",\"#B0BEC5\",\"#B0BEC5\",\"#B0BEC5\",\"#B0BEC5\",\"#B0BEC5\",\"#B0BEC5\",\"#B0BEC5\",\"#B0BEC5\",\"#B0BEC5\",\"#B0BEC5\",\"#B0BEC5\",\"#B0BEC5\",\"#B0BEC5\",\"#B0BEC5\",\"#B0BEC5\",\"#B0BEC5\",\"#B0BEC5\",\"#B0BEC5\",\"#B0BEC5\",\"#B0BEC5\",\"#B0BEC5\",\"#B0BEC5\",\"#B0BEC5\",\"#B0BEC5\",\"#B0BEC5\",\"#B0BEC5\",\"#B0BEC5\"]]}],\"label\":\"Topic 6\",\"method\":\"update\"},{\"args\":[{\"marker.color\":[[\"#B0BEC5\",\"#B0BEC5\",\"#B0BEC5\",\"#B0BEC5\",\"#B0BEC5\",\"#B0BEC5\",\"#B0BEC5\",\"red\",\"#B0BEC5\",\"#B0BEC5\",\"#B0BEC5\",\"#B0BEC5\",\"#B0BEC5\",\"#B0BEC5\",\"#B0BEC5\",\"#B0BEC5\",\"#B0BEC5\",\"#B0BEC5\",\"#B0BEC5\",\"#B0BEC5\",\"#B0BEC5\",\"#B0BEC5\",\"#B0BEC5\",\"#B0BEC5\",\"#B0BEC5\",\"#B0BEC5\",\"#B0BEC5\",\"#B0BEC5\",\"#B0BEC5\",\"#B0BEC5\",\"#B0BEC5\",\"#B0BEC5\",\"#B0BEC5\",\"#B0BEC5\",\"#B0BEC5\",\"#B0BEC5\",\"#B0BEC5\",\"#B0BEC5\",\"#B0BEC5\"]]}],\"label\":\"Topic 7\",\"method\":\"update\"},{\"args\":[{\"marker.color\":[[\"#B0BEC5\",\"#B0BEC5\",\"#B0BEC5\",\"#B0BEC5\",\"#B0BEC5\",\"#B0BEC5\",\"#B0BEC5\",\"#B0BEC5\",\"red\",\"#B0BEC5\",\"#B0BEC5\",\"#B0BEC5\",\"#B0BEC5\",\"#B0BEC5\",\"#B0BEC5\",\"#B0BEC5\",\"#B0BEC5\",\"#B0BEC5\",\"#B0BEC5\",\"#B0BEC5\",\"#B0BEC5\",\"#B0BEC5\",\"#B0BEC5\",\"#B0BEC5\",\"#B0BEC5\",\"#B0BEC5\",\"#B0BEC5\",\"#B0BEC5\",\"#B0BEC5\",\"#B0BEC5\",\"#B0BEC5\",\"#B0BEC5\",\"#B0BEC5\",\"#B0BEC5\",\"#B0BEC5\",\"#B0BEC5\",\"#B0BEC5\",\"#B0BEC5\",\"#B0BEC5\"]]}],\"label\":\"Topic 8\",\"method\":\"update\"},{\"args\":[{\"marker.color\":[[\"#B0BEC5\",\"#B0BEC5\",\"#B0BEC5\",\"#B0BEC5\",\"#B0BEC5\",\"#B0BEC5\",\"#B0BEC5\",\"#B0BEC5\",\"#B0BEC5\",\"red\",\"#B0BEC5\",\"#B0BEC5\",\"#B0BEC5\",\"#B0BEC5\",\"#B0BEC5\",\"#B0BEC5\",\"#B0BEC5\",\"#B0BEC5\",\"#B0BEC5\",\"#B0BEC5\",\"#B0BEC5\",\"#B0BEC5\",\"#B0BEC5\",\"#B0BEC5\",\"#B0BEC5\",\"#B0BEC5\",\"#B0BEC5\",\"#B0BEC5\",\"#B0BEC5\",\"#B0BEC5\",\"#B0BEC5\",\"#B0BEC5\",\"#B0BEC5\",\"#B0BEC5\",\"#B0BEC5\",\"#B0BEC5\",\"#B0BEC5\",\"#B0BEC5\",\"#B0BEC5\"]]}],\"label\":\"Topic 9\",\"method\":\"update\"},{\"args\":[{\"marker.color\":[[\"#B0BEC5\",\"#B0BEC5\",\"#B0BEC5\",\"#B0BEC5\",\"#B0BEC5\",\"#B0BEC5\",\"#B0BEC5\",\"#B0BEC5\",\"#B0BEC5\",\"#B0BEC5\",\"red\",\"#B0BEC5\",\"#B0BEC5\",\"#B0BEC5\",\"#B0BEC5\",\"#B0BEC5\",\"#B0BEC5\",\"#B0BEC5\",\"#B0BEC5\",\"#B0BEC5\",\"#B0BEC5\",\"#B0BEC5\",\"#B0BEC5\",\"#B0BEC5\",\"#B0BEC5\",\"#B0BEC5\",\"#B0BEC5\",\"#B0BEC5\",\"#B0BEC5\",\"#B0BEC5\",\"#B0BEC5\",\"#B0BEC5\",\"#B0BEC5\",\"#B0BEC5\",\"#B0BEC5\",\"#B0BEC5\",\"#B0BEC5\",\"#B0BEC5\",\"#B0BEC5\"]]}],\"label\":\"Topic 10\",\"method\":\"update\"},{\"args\":[{\"marker.color\":[[\"#B0BEC5\",\"#B0BEC5\",\"#B0BEC5\",\"#B0BEC5\",\"#B0BEC5\",\"#B0BEC5\",\"#B0BEC5\",\"#B0BEC5\",\"#B0BEC5\",\"#B0BEC5\",\"#B0BEC5\",\"red\",\"#B0BEC5\",\"#B0BEC5\",\"#B0BEC5\",\"#B0BEC5\",\"#B0BEC5\",\"#B0BEC5\",\"#B0BEC5\",\"#B0BEC5\",\"#B0BEC5\",\"#B0BEC5\",\"#B0BEC5\",\"#B0BEC5\",\"#B0BEC5\",\"#B0BEC5\",\"#B0BEC5\",\"#B0BEC5\",\"#B0BEC5\",\"#B0BEC5\",\"#B0BEC5\",\"#B0BEC5\",\"#B0BEC5\",\"#B0BEC5\",\"#B0BEC5\",\"#B0BEC5\",\"#B0BEC5\",\"#B0BEC5\",\"#B0BEC5\"]]}],\"label\":\"Topic 11\",\"method\":\"update\"},{\"args\":[{\"marker.color\":[[\"#B0BEC5\",\"#B0BEC5\",\"#B0BEC5\",\"#B0BEC5\",\"#B0BEC5\",\"#B0BEC5\",\"#B0BEC5\",\"#B0BEC5\",\"#B0BEC5\",\"#B0BEC5\",\"#B0BEC5\",\"#B0BEC5\",\"red\",\"#B0BEC5\",\"#B0BEC5\",\"#B0BEC5\",\"#B0BEC5\",\"#B0BEC5\",\"#B0BEC5\",\"#B0BEC5\",\"#B0BEC5\",\"#B0BEC5\",\"#B0BEC5\",\"#B0BEC5\",\"#B0BEC5\",\"#B0BEC5\",\"#B0BEC5\",\"#B0BEC5\",\"#B0BEC5\",\"#B0BEC5\",\"#B0BEC5\",\"#B0BEC5\",\"#B0BEC5\",\"#B0BEC5\",\"#B0BEC5\",\"#B0BEC5\",\"#B0BEC5\",\"#B0BEC5\",\"#B0BEC5\"]]}],\"label\":\"Topic 12\",\"method\":\"update\"},{\"args\":[{\"marker.color\":[[\"#B0BEC5\",\"#B0BEC5\",\"#B0BEC5\",\"#B0BEC5\",\"#B0BEC5\",\"#B0BEC5\",\"#B0BEC5\",\"#B0BEC5\",\"#B0BEC5\",\"#B0BEC5\",\"#B0BEC5\",\"#B0BEC5\",\"#B0BEC5\",\"red\",\"#B0BEC5\",\"#B0BEC5\",\"#B0BEC5\",\"#B0BEC5\",\"#B0BEC5\",\"#B0BEC5\",\"#B0BEC5\",\"#B0BEC5\",\"#B0BEC5\",\"#B0BEC5\",\"#B0BEC5\",\"#B0BEC5\",\"#B0BEC5\",\"#B0BEC5\",\"#B0BEC5\",\"#B0BEC5\",\"#B0BEC5\",\"#B0BEC5\",\"#B0BEC5\",\"#B0BEC5\",\"#B0BEC5\",\"#B0BEC5\",\"#B0BEC5\",\"#B0BEC5\",\"#B0BEC5\"]]}],\"label\":\"Topic 13\",\"method\":\"update\"},{\"args\":[{\"marker.color\":[[\"#B0BEC5\",\"#B0BEC5\",\"#B0BEC5\",\"#B0BEC5\",\"#B0BEC5\",\"#B0BEC5\",\"#B0BEC5\",\"#B0BEC5\",\"#B0BEC5\",\"#B0BEC5\",\"#B0BEC5\",\"#B0BEC5\",\"#B0BEC5\",\"#B0BEC5\",\"red\",\"#B0BEC5\",\"#B0BEC5\",\"#B0BEC5\",\"#B0BEC5\",\"#B0BEC5\",\"#B0BEC5\",\"#B0BEC5\",\"#B0BEC5\",\"#B0BEC5\",\"#B0BEC5\",\"#B0BEC5\",\"#B0BEC5\",\"#B0BEC5\",\"#B0BEC5\",\"#B0BEC5\",\"#B0BEC5\",\"#B0BEC5\",\"#B0BEC5\",\"#B0BEC5\",\"#B0BEC5\",\"#B0BEC5\",\"#B0BEC5\",\"#B0BEC5\",\"#B0BEC5\"]]}],\"label\":\"Topic 14\",\"method\":\"update\"},{\"args\":[{\"marker.color\":[[\"#B0BEC5\",\"#B0BEC5\",\"#B0BEC5\",\"#B0BEC5\",\"#B0BEC5\",\"#B0BEC5\",\"#B0BEC5\",\"#B0BEC5\",\"#B0BEC5\",\"#B0BEC5\",\"#B0BEC5\",\"#B0BEC5\",\"#B0BEC5\",\"#B0BEC5\",\"#B0BEC5\",\"red\",\"#B0BEC5\",\"#B0BEC5\",\"#B0BEC5\",\"#B0BEC5\",\"#B0BEC5\",\"#B0BEC5\",\"#B0BEC5\",\"#B0BEC5\",\"#B0BEC5\",\"#B0BEC5\",\"#B0BEC5\",\"#B0BEC5\",\"#B0BEC5\",\"#B0BEC5\",\"#B0BEC5\",\"#B0BEC5\",\"#B0BEC5\",\"#B0BEC5\",\"#B0BEC5\",\"#B0BEC5\",\"#B0BEC5\",\"#B0BEC5\",\"#B0BEC5\"]]}],\"label\":\"Topic 15\",\"method\":\"update\"},{\"args\":[{\"marker.color\":[[\"#B0BEC5\",\"#B0BEC5\",\"#B0BEC5\",\"#B0BEC5\",\"#B0BEC5\",\"#B0BEC5\",\"#B0BEC5\",\"#B0BEC5\",\"#B0BEC5\",\"#B0BEC5\",\"#B0BEC5\",\"#B0BEC5\",\"#B0BEC5\",\"#B0BEC5\",\"#B0BEC5\",\"#B0BEC5\",\"red\",\"#B0BEC5\",\"#B0BEC5\",\"#B0BEC5\",\"#B0BEC5\",\"#B0BEC5\",\"#B0BEC5\",\"#B0BEC5\",\"#B0BEC5\",\"#B0BEC5\",\"#B0BEC5\",\"#B0BEC5\",\"#B0BEC5\",\"#B0BEC5\",\"#B0BEC5\",\"#B0BEC5\",\"#B0BEC5\",\"#B0BEC5\",\"#B0BEC5\",\"#B0BEC5\",\"#B0BEC5\",\"#B0BEC5\",\"#B0BEC5\"]]}],\"label\":\"Topic 16\",\"method\":\"update\"},{\"args\":[{\"marker.color\":[[\"#B0BEC5\",\"#B0BEC5\",\"#B0BEC5\",\"#B0BEC5\",\"#B0BEC5\",\"#B0BEC5\",\"#B0BEC5\",\"#B0BEC5\",\"#B0BEC5\",\"#B0BEC5\",\"#B0BEC5\",\"#B0BEC5\",\"#B0BEC5\",\"#B0BEC5\",\"#B0BEC5\",\"#B0BEC5\",\"#B0BEC5\",\"red\",\"#B0BEC5\",\"#B0BEC5\",\"#B0BEC5\",\"#B0BEC5\",\"#B0BEC5\",\"#B0BEC5\",\"#B0BEC5\",\"#B0BEC5\",\"#B0BEC5\",\"#B0BEC5\",\"#B0BEC5\",\"#B0BEC5\",\"#B0BEC5\",\"#B0BEC5\",\"#B0BEC5\",\"#B0BEC5\",\"#B0BEC5\",\"#B0BEC5\",\"#B0BEC5\",\"#B0BEC5\",\"#B0BEC5\"]]}],\"label\":\"Topic 17\",\"method\":\"update\"},{\"args\":[{\"marker.color\":[[\"#B0BEC5\",\"#B0BEC5\",\"#B0BEC5\",\"#B0BEC5\",\"#B0BEC5\",\"#B0BEC5\",\"#B0BEC5\",\"#B0BEC5\",\"#B0BEC5\",\"#B0BEC5\",\"#B0BEC5\",\"#B0BEC5\",\"#B0BEC5\",\"#B0BEC5\",\"#B0BEC5\",\"#B0BEC5\",\"#B0BEC5\",\"#B0BEC5\",\"red\",\"#B0BEC5\",\"#B0BEC5\",\"#B0BEC5\",\"#B0BEC5\",\"#B0BEC5\",\"#B0BEC5\",\"#B0BEC5\",\"#B0BEC5\",\"#B0BEC5\",\"#B0BEC5\",\"#B0BEC5\",\"#B0BEC5\",\"#B0BEC5\",\"#B0BEC5\",\"#B0BEC5\",\"#B0BEC5\",\"#B0BEC5\",\"#B0BEC5\",\"#B0BEC5\",\"#B0BEC5\"]]}],\"label\":\"Topic 18\",\"method\":\"update\"},{\"args\":[{\"marker.color\":[[\"#B0BEC5\",\"#B0BEC5\",\"#B0BEC5\",\"#B0BEC5\",\"#B0BEC5\",\"#B0BEC5\",\"#B0BEC5\",\"#B0BEC5\",\"#B0BEC5\",\"#B0BEC5\",\"#B0BEC5\",\"#B0BEC5\",\"#B0BEC5\",\"#B0BEC5\",\"#B0BEC5\",\"#B0BEC5\",\"#B0BEC5\",\"#B0BEC5\",\"#B0BEC5\",\"red\",\"#B0BEC5\",\"#B0BEC5\",\"#B0BEC5\",\"#B0BEC5\",\"#B0BEC5\",\"#B0BEC5\",\"#B0BEC5\",\"#B0BEC5\",\"#B0BEC5\",\"#B0BEC5\",\"#B0BEC5\",\"#B0BEC5\",\"#B0BEC5\",\"#B0BEC5\",\"#B0BEC5\",\"#B0BEC5\",\"#B0BEC5\",\"#B0BEC5\",\"#B0BEC5\"]]}],\"label\":\"Topic 19\",\"method\":\"update\"},{\"args\":[{\"marker.color\":[[\"#B0BEC5\",\"#B0BEC5\",\"#B0BEC5\",\"#B0BEC5\",\"#B0BEC5\",\"#B0BEC5\",\"#B0BEC5\",\"#B0BEC5\",\"#B0BEC5\",\"#B0BEC5\",\"#B0BEC5\",\"#B0BEC5\",\"#B0BEC5\",\"#B0BEC5\",\"#B0BEC5\",\"#B0BEC5\",\"#B0BEC5\",\"#B0BEC5\",\"#B0BEC5\",\"#B0BEC5\",\"red\",\"#B0BEC5\",\"#B0BEC5\",\"#B0BEC5\",\"#B0BEC5\",\"#B0BEC5\",\"#B0BEC5\",\"#B0BEC5\",\"#B0BEC5\",\"#B0BEC5\",\"#B0BEC5\",\"#B0BEC5\",\"#B0BEC5\",\"#B0BEC5\",\"#B0BEC5\",\"#B0BEC5\",\"#B0BEC5\",\"#B0BEC5\",\"#B0BEC5\"]]}],\"label\":\"Topic 20\",\"method\":\"update\"},{\"args\":[{\"marker.color\":[[\"#B0BEC5\",\"#B0BEC5\",\"#B0BEC5\",\"#B0BEC5\",\"#B0BEC5\",\"#B0BEC5\",\"#B0BEC5\",\"#B0BEC5\",\"#B0BEC5\",\"#B0BEC5\",\"#B0BEC5\",\"#B0BEC5\",\"#B0BEC5\",\"#B0BEC5\",\"#B0BEC5\",\"#B0BEC5\",\"#B0BEC5\",\"#B0BEC5\",\"#B0BEC5\",\"#B0BEC5\",\"#B0BEC5\",\"red\",\"#B0BEC5\",\"#B0BEC5\",\"#B0BEC5\",\"#B0BEC5\",\"#B0BEC5\",\"#B0BEC5\",\"#B0BEC5\",\"#B0BEC5\",\"#B0BEC5\",\"#B0BEC5\",\"#B0BEC5\",\"#B0BEC5\",\"#B0BEC5\",\"#B0BEC5\",\"#B0BEC5\",\"#B0BEC5\",\"#B0BEC5\"]]}],\"label\":\"Topic 21\",\"method\":\"update\"},{\"args\":[{\"marker.color\":[[\"#B0BEC5\",\"#B0BEC5\",\"#B0BEC5\",\"#B0BEC5\",\"#B0BEC5\",\"#B0BEC5\",\"#B0BEC5\",\"#B0BEC5\",\"#B0BEC5\",\"#B0BEC5\",\"#B0BEC5\",\"#B0BEC5\",\"#B0BEC5\",\"#B0BEC5\",\"#B0BEC5\",\"#B0BEC5\",\"#B0BEC5\",\"#B0BEC5\",\"#B0BEC5\",\"#B0BEC5\",\"#B0BEC5\",\"#B0BEC5\",\"red\",\"#B0BEC5\",\"#B0BEC5\",\"#B0BEC5\",\"#B0BEC5\",\"#B0BEC5\",\"#B0BEC5\",\"#B0BEC5\",\"#B0BEC5\",\"#B0BEC5\",\"#B0BEC5\",\"#B0BEC5\",\"#B0BEC5\",\"#B0BEC5\",\"#B0BEC5\",\"#B0BEC5\",\"#B0BEC5\"]]}],\"label\":\"Topic 22\",\"method\":\"update\"},{\"args\":[{\"marker.color\":[[\"#B0BEC5\",\"#B0BEC5\",\"#B0BEC5\",\"#B0BEC5\",\"#B0BEC5\",\"#B0BEC5\",\"#B0BEC5\",\"#B0BEC5\",\"#B0BEC5\",\"#B0BEC5\",\"#B0BEC5\",\"#B0BEC5\",\"#B0BEC5\",\"#B0BEC5\",\"#B0BEC5\",\"#B0BEC5\",\"#B0BEC5\",\"#B0BEC5\",\"#B0BEC5\",\"#B0BEC5\",\"#B0BEC5\",\"#B0BEC5\",\"#B0BEC5\",\"red\",\"#B0BEC5\",\"#B0BEC5\",\"#B0BEC5\",\"#B0BEC5\",\"#B0BEC5\",\"#B0BEC5\",\"#B0BEC5\",\"#B0BEC5\",\"#B0BEC5\",\"#B0BEC5\",\"#B0BEC5\",\"#B0BEC5\",\"#B0BEC5\",\"#B0BEC5\",\"#B0BEC5\"]]}],\"label\":\"Topic 23\",\"method\":\"update\"},{\"args\":[{\"marker.color\":[[\"#B0BEC5\",\"#B0BEC5\",\"#B0BEC5\",\"#B0BEC5\",\"#B0BEC5\",\"#B0BEC5\",\"#B0BEC5\",\"#B0BEC5\",\"#B0BEC5\",\"#B0BEC5\",\"#B0BEC5\",\"#B0BEC5\",\"#B0BEC5\",\"#B0BEC5\",\"#B0BEC5\",\"#B0BEC5\",\"#B0BEC5\",\"#B0BEC5\",\"#B0BEC5\",\"#B0BEC5\",\"#B0BEC5\",\"#B0BEC5\",\"#B0BEC5\",\"#B0BEC5\",\"red\",\"#B0BEC5\",\"#B0BEC5\",\"#B0BEC5\",\"#B0BEC5\",\"#B0BEC5\",\"#B0BEC5\",\"#B0BEC5\",\"#B0BEC5\",\"#B0BEC5\",\"#B0BEC5\",\"#B0BEC5\",\"#B0BEC5\",\"#B0BEC5\",\"#B0BEC5\"]]}],\"label\":\"Topic 24\",\"method\":\"update\"},{\"args\":[{\"marker.color\":[[\"#B0BEC5\",\"#B0BEC5\",\"#B0BEC5\",\"#B0BEC5\",\"#B0BEC5\",\"#B0BEC5\",\"#B0BEC5\",\"#B0BEC5\",\"#B0BEC5\",\"#B0BEC5\",\"#B0BEC5\",\"#B0BEC5\",\"#B0BEC5\",\"#B0BEC5\",\"#B0BEC5\",\"#B0BEC5\",\"#B0BEC5\",\"#B0BEC5\",\"#B0BEC5\",\"#B0BEC5\",\"#B0BEC5\",\"#B0BEC5\",\"#B0BEC5\",\"#B0BEC5\",\"#B0BEC5\",\"red\",\"#B0BEC5\",\"#B0BEC5\",\"#B0BEC5\",\"#B0BEC5\",\"#B0BEC5\",\"#B0BEC5\",\"#B0BEC5\",\"#B0BEC5\",\"#B0BEC5\",\"#B0BEC5\",\"#B0BEC5\",\"#B0BEC5\",\"#B0BEC5\"]]}],\"label\":\"Topic 25\",\"method\":\"update\"},{\"args\":[{\"marker.color\":[[\"#B0BEC5\",\"#B0BEC5\",\"#B0BEC5\",\"#B0BEC5\",\"#B0BEC5\",\"#B0BEC5\",\"#B0BEC5\",\"#B0BEC5\",\"#B0BEC5\",\"#B0BEC5\",\"#B0BEC5\",\"#B0BEC5\",\"#B0BEC5\",\"#B0BEC5\",\"#B0BEC5\",\"#B0BEC5\",\"#B0BEC5\",\"#B0BEC5\",\"#B0BEC5\",\"#B0BEC5\",\"#B0BEC5\",\"#B0BEC5\",\"#B0BEC5\",\"#B0BEC5\",\"#B0BEC5\",\"#B0BEC5\",\"red\",\"#B0BEC5\",\"#B0BEC5\",\"#B0BEC5\",\"#B0BEC5\",\"#B0BEC5\",\"#B0BEC5\",\"#B0BEC5\",\"#B0BEC5\",\"#B0BEC5\",\"#B0BEC5\",\"#B0BEC5\",\"#B0BEC5\"]]}],\"label\":\"Topic 26\",\"method\":\"update\"},{\"args\":[{\"marker.color\":[[\"#B0BEC5\",\"#B0BEC5\",\"#B0BEC5\",\"#B0BEC5\",\"#B0BEC5\",\"#B0BEC5\",\"#B0BEC5\",\"#B0BEC5\",\"#B0BEC5\",\"#B0BEC5\",\"#B0BEC5\",\"#B0BEC5\",\"#B0BEC5\",\"#B0BEC5\",\"#B0BEC5\",\"#B0BEC5\",\"#B0BEC5\",\"#B0BEC5\",\"#B0BEC5\",\"#B0BEC5\",\"#B0BEC5\",\"#B0BEC5\",\"#B0BEC5\",\"#B0BEC5\",\"#B0BEC5\",\"#B0BEC5\",\"#B0BEC5\",\"red\",\"#B0BEC5\",\"#B0BEC5\",\"#B0BEC5\",\"#B0BEC5\",\"#B0BEC5\",\"#B0BEC5\",\"#B0BEC5\",\"#B0BEC5\",\"#B0BEC5\",\"#B0BEC5\",\"#B0BEC5\"]]}],\"label\":\"Topic 27\",\"method\":\"update\"},{\"args\":[{\"marker.color\":[[\"#B0BEC5\",\"#B0BEC5\",\"#B0BEC5\",\"#B0BEC5\",\"#B0BEC5\",\"#B0BEC5\",\"#B0BEC5\",\"#B0BEC5\",\"#B0BEC5\",\"#B0BEC5\",\"#B0BEC5\",\"#B0BEC5\",\"#B0BEC5\",\"#B0BEC5\",\"#B0BEC5\",\"#B0BEC5\",\"#B0BEC5\",\"#B0BEC5\",\"#B0BEC5\",\"#B0BEC5\",\"#B0BEC5\",\"#B0BEC5\",\"#B0BEC5\",\"#B0BEC5\",\"#B0BEC5\",\"#B0BEC5\",\"#B0BEC5\",\"#B0BEC5\",\"red\",\"#B0BEC5\",\"#B0BEC5\",\"#B0BEC5\",\"#B0BEC5\",\"#B0BEC5\",\"#B0BEC5\",\"#B0BEC5\",\"#B0BEC5\",\"#B0BEC5\",\"#B0BEC5\"]]}],\"label\":\"Topic 28\",\"method\":\"update\"},{\"args\":[{\"marker.color\":[[\"#B0BEC5\",\"#B0BEC5\",\"#B0BEC5\",\"#B0BEC5\",\"#B0BEC5\",\"#B0BEC5\",\"#B0BEC5\",\"#B0BEC5\",\"#B0BEC5\",\"#B0BEC5\",\"#B0BEC5\",\"#B0BEC5\",\"#B0BEC5\",\"#B0BEC5\",\"#B0BEC5\",\"#B0BEC5\",\"#B0BEC5\",\"#B0BEC5\",\"#B0BEC5\",\"#B0BEC5\",\"#B0BEC5\",\"#B0BEC5\",\"#B0BEC5\",\"#B0BEC5\",\"#B0BEC5\",\"#B0BEC5\",\"#B0BEC5\",\"#B0BEC5\",\"#B0BEC5\",\"red\",\"#B0BEC5\",\"#B0BEC5\",\"#B0BEC5\",\"#B0BEC5\",\"#B0BEC5\",\"#B0BEC5\",\"#B0BEC5\",\"#B0BEC5\",\"#B0BEC5\"]]}],\"label\":\"Topic 29\",\"method\":\"update\"},{\"args\":[{\"marker.color\":[[\"#B0BEC5\",\"#B0BEC5\",\"#B0BEC5\",\"#B0BEC5\",\"#B0BEC5\",\"#B0BEC5\",\"#B0BEC5\",\"#B0BEC5\",\"#B0BEC5\",\"#B0BEC5\",\"#B0BEC5\",\"#B0BEC5\",\"#B0BEC5\",\"#B0BEC5\",\"#B0BEC5\",\"#B0BEC5\",\"#B0BEC5\",\"#B0BEC5\",\"#B0BEC5\",\"#B0BEC5\",\"#B0BEC5\",\"#B0BEC5\",\"#B0BEC5\",\"#B0BEC5\",\"#B0BEC5\",\"#B0BEC5\",\"#B0BEC5\",\"#B0BEC5\",\"#B0BEC5\",\"#B0BEC5\",\"red\",\"#B0BEC5\",\"#B0BEC5\",\"#B0BEC5\",\"#B0BEC5\",\"#B0BEC5\",\"#B0BEC5\",\"#B0BEC5\",\"#B0BEC5\"]]}],\"label\":\"Topic 30\",\"method\":\"update\"},{\"args\":[{\"marker.color\":[[\"#B0BEC5\",\"#B0BEC5\",\"#B0BEC5\",\"#B0BEC5\",\"#B0BEC5\",\"#B0BEC5\",\"#B0BEC5\",\"#B0BEC5\",\"#B0BEC5\",\"#B0BEC5\",\"#B0BEC5\",\"#B0BEC5\",\"#B0BEC5\",\"#B0BEC5\",\"#B0BEC5\",\"#B0BEC5\",\"#B0BEC5\",\"#B0BEC5\",\"#B0BEC5\",\"#B0BEC5\",\"#B0BEC5\",\"#B0BEC5\",\"#B0BEC5\",\"#B0BEC5\",\"#B0BEC5\",\"#B0BEC5\",\"#B0BEC5\",\"#B0BEC5\",\"#B0BEC5\",\"#B0BEC5\",\"#B0BEC5\",\"red\",\"#B0BEC5\",\"#B0BEC5\",\"#B0BEC5\",\"#B0BEC5\",\"#B0BEC5\",\"#B0BEC5\",\"#B0BEC5\"]]}],\"label\":\"Topic 31\",\"method\":\"update\"},{\"args\":[{\"marker.color\":[[\"#B0BEC5\",\"#B0BEC5\",\"#B0BEC5\",\"#B0BEC5\",\"#B0BEC5\",\"#B0BEC5\",\"#B0BEC5\",\"#B0BEC5\",\"#B0BEC5\",\"#B0BEC5\",\"#B0BEC5\",\"#B0BEC5\",\"#B0BEC5\",\"#B0BEC5\",\"#B0BEC5\",\"#B0BEC5\",\"#B0BEC5\",\"#B0BEC5\",\"#B0BEC5\",\"#B0BEC5\",\"#B0BEC5\",\"#B0BEC5\",\"#B0BEC5\",\"#B0BEC5\",\"#B0BEC5\",\"#B0BEC5\",\"#B0BEC5\",\"#B0BEC5\",\"#B0BEC5\",\"#B0BEC5\",\"#B0BEC5\",\"#B0BEC5\",\"red\",\"#B0BEC5\",\"#B0BEC5\",\"#B0BEC5\",\"#B0BEC5\",\"#B0BEC5\",\"#B0BEC5\"]]}],\"label\":\"Topic 32\",\"method\":\"update\"},{\"args\":[{\"marker.color\":[[\"#B0BEC5\",\"#B0BEC5\",\"#B0BEC5\",\"#B0BEC5\",\"#B0BEC5\",\"#B0BEC5\",\"#B0BEC5\",\"#B0BEC5\",\"#B0BEC5\",\"#B0BEC5\",\"#B0BEC5\",\"#B0BEC5\",\"#B0BEC5\",\"#B0BEC5\",\"#B0BEC5\",\"#B0BEC5\",\"#B0BEC5\",\"#B0BEC5\",\"#B0BEC5\",\"#B0BEC5\",\"#B0BEC5\",\"#B0BEC5\",\"#B0BEC5\",\"#B0BEC5\",\"#B0BEC5\",\"#B0BEC5\",\"#B0BEC5\",\"#B0BEC5\",\"#B0BEC5\",\"#B0BEC5\",\"#B0BEC5\",\"#B0BEC5\",\"#B0BEC5\",\"red\",\"#B0BEC5\",\"#B0BEC5\",\"#B0BEC5\",\"#B0BEC5\",\"#B0BEC5\"]]}],\"label\":\"Topic 33\",\"method\":\"update\"},{\"args\":[{\"marker.color\":[[\"#B0BEC5\",\"#B0BEC5\",\"#B0BEC5\",\"#B0BEC5\",\"#B0BEC5\",\"#B0BEC5\",\"#B0BEC5\",\"#B0BEC5\",\"#B0BEC5\",\"#B0BEC5\",\"#B0BEC5\",\"#B0BEC5\",\"#B0BEC5\",\"#B0BEC5\",\"#B0BEC5\",\"#B0BEC5\",\"#B0BEC5\",\"#B0BEC5\",\"#B0BEC5\",\"#B0BEC5\",\"#B0BEC5\",\"#B0BEC5\",\"#B0BEC5\",\"#B0BEC5\",\"#B0BEC5\",\"#B0BEC5\",\"#B0BEC5\",\"#B0BEC5\",\"#B0BEC5\",\"#B0BEC5\",\"#B0BEC5\",\"#B0BEC5\",\"#B0BEC5\",\"#B0BEC5\",\"red\",\"#B0BEC5\",\"#B0BEC5\",\"#B0BEC5\",\"#B0BEC5\"]]}],\"label\":\"Topic 34\",\"method\":\"update\"},{\"args\":[{\"marker.color\":[[\"#B0BEC5\",\"#B0BEC5\",\"#B0BEC5\",\"#B0BEC5\",\"#B0BEC5\",\"#B0BEC5\",\"#B0BEC5\",\"#B0BEC5\",\"#B0BEC5\",\"#B0BEC5\",\"#B0BEC5\",\"#B0BEC5\",\"#B0BEC5\",\"#B0BEC5\",\"#B0BEC5\",\"#B0BEC5\",\"#B0BEC5\",\"#B0BEC5\",\"#B0BEC5\",\"#B0BEC5\",\"#B0BEC5\",\"#B0BEC5\",\"#B0BEC5\",\"#B0BEC5\",\"#B0BEC5\",\"#B0BEC5\",\"#B0BEC5\",\"#B0BEC5\",\"#B0BEC5\",\"#B0BEC5\",\"#B0BEC5\",\"#B0BEC5\",\"#B0BEC5\",\"#B0BEC5\",\"#B0BEC5\",\"red\",\"#B0BEC5\",\"#B0BEC5\",\"#B0BEC5\"]]}],\"label\":\"Topic 35\",\"method\":\"update\"},{\"args\":[{\"marker.color\":[[\"#B0BEC5\",\"#B0BEC5\",\"#B0BEC5\",\"#B0BEC5\",\"#B0BEC5\",\"#B0BEC5\",\"#B0BEC5\",\"#B0BEC5\",\"#B0BEC5\",\"#B0BEC5\",\"#B0BEC5\",\"#B0BEC5\",\"#B0BEC5\",\"#B0BEC5\",\"#B0BEC5\",\"#B0BEC5\",\"#B0BEC5\",\"#B0BEC5\",\"#B0BEC5\",\"#B0BEC5\",\"#B0BEC5\",\"#B0BEC5\",\"#B0BEC5\",\"#B0BEC5\",\"#B0BEC5\",\"#B0BEC5\",\"#B0BEC5\",\"#B0BEC5\",\"#B0BEC5\",\"#B0BEC5\",\"#B0BEC5\",\"#B0BEC5\",\"#B0BEC5\",\"#B0BEC5\",\"#B0BEC5\",\"#B0BEC5\",\"red\",\"#B0BEC5\",\"#B0BEC5\"]]}],\"label\":\"Topic 36\",\"method\":\"update\"},{\"args\":[{\"marker.color\":[[\"#B0BEC5\",\"#B0BEC5\",\"#B0BEC5\",\"#B0BEC5\",\"#B0BEC5\",\"#B0BEC5\",\"#B0BEC5\",\"#B0BEC5\",\"#B0BEC5\",\"#B0BEC5\",\"#B0BEC5\",\"#B0BEC5\",\"#B0BEC5\",\"#B0BEC5\",\"#B0BEC5\",\"#B0BEC5\",\"#B0BEC5\",\"#B0BEC5\",\"#B0BEC5\",\"#B0BEC5\",\"#B0BEC5\",\"#B0BEC5\",\"#B0BEC5\",\"#B0BEC5\",\"#B0BEC5\",\"#B0BEC5\",\"#B0BEC5\",\"#B0BEC5\",\"#B0BEC5\",\"#B0BEC5\",\"#B0BEC5\",\"#B0BEC5\",\"#B0BEC5\",\"#B0BEC5\",\"#B0BEC5\",\"#B0BEC5\",\"#B0BEC5\",\"red\",\"#B0BEC5\"]]}],\"label\":\"Topic 37\",\"method\":\"update\"},{\"args\":[{\"marker.color\":[[\"#B0BEC5\",\"#B0BEC5\",\"#B0BEC5\",\"#B0BEC5\",\"#B0BEC5\",\"#B0BEC5\",\"#B0BEC5\",\"#B0BEC5\",\"#B0BEC5\",\"#B0BEC5\",\"#B0BEC5\",\"#B0BEC5\",\"#B0BEC5\",\"#B0BEC5\",\"#B0BEC5\",\"#B0BEC5\",\"#B0BEC5\",\"#B0BEC5\",\"#B0BEC5\",\"#B0BEC5\",\"#B0BEC5\",\"#B0BEC5\",\"#B0BEC5\",\"#B0BEC5\",\"#B0BEC5\",\"#B0BEC5\",\"#B0BEC5\",\"#B0BEC5\",\"#B0BEC5\",\"#B0BEC5\",\"#B0BEC5\",\"#B0BEC5\",\"#B0BEC5\",\"#B0BEC5\",\"#B0BEC5\",\"#B0BEC5\",\"#B0BEC5\",\"#B0BEC5\",\"red\"]]}],\"label\":\"Topic 38\",\"method\":\"update\"}]}],\"shapes\":[{\"line\":{\"color\":\"#CFD8DC\",\"width\":2},\"type\":\"line\",\"x0\":3.331852507591247,\"x1\":3.331852507591247,\"y0\":-11.84620442390442,\"y1\":8.199611449241639},{\"line\":{\"color\":\"#9E9E9E\",\"width\":2},\"type\":\"line\",\"x0\":-17.471006631851196,\"x1\":24.13471164703369,\"y0\":-1.8232964873313904,\"y1\":-1.8232964873313904}],\"annotations\":[{\"showarrow\":false,\"text\":\"D1\",\"x\":-17.471006631851196,\"y\":-1.8232964873313904,\"yshift\":10},{\"showarrow\":false,\"text\":\"D2\",\"x\":3.331852507591247,\"xshift\":10,\"y\":8.199611449241639}]},                        {\"responsive\": true}                    ).then(function(){\n",
              "                            \n",
              "var gd = document.getElementById('ffc146a9-3e10-4c82-8567-39e83fb8391e');\n",
              "var x = new MutationObserver(function (mutations, observer) {{\n",
              "        var display = window.getComputedStyle(gd).display;\n",
              "        if (!display || display === 'none') {{\n",
              "            console.log([gd, 'removed!']);\n",
              "            Plotly.purge(gd);\n",
              "            observer.disconnect();\n",
              "        }}\n",
              "}});\n",
              "\n",
              "// Listen for the removal of the full notebook cells\n",
              "var notebookContainer = gd.closest('#notebook-container');\n",
              "if (notebookContainer) {{\n",
              "    x.observe(notebookContainer, {childList: true});\n",
              "}}\n",
              "\n",
              "// Listen for the clearing of the current output cell\n",
              "var outputEl = gd.closest('.output');\n",
              "if (outputEl) {{\n",
              "    x.observe(outputEl, {childList: true});\n",
              "}}\n",
              "\n",
              "                        })                };                            </script>        </div>\n",
              "</body>\n",
              "</html>"
            ]
          },
          "metadata": {}
        }
      ]
    },
    {
      "cell_type": "code",
      "source": [
        "\n",
        "# Visualize distribution for a specific document (index 0)\n",
        "topic_model.visualize_distribution(probs[0], min_probability=0.015)\n"
      ],
      "metadata": {
        "colab": {
          "base_uri": "https://localhost:8080/",
          "height": 617
        },
        "id": "j8-Px6LJkL3i",
        "outputId": "527203df-c8c0-4fae-e804-fd2203f466a9"
      },
      "execution_count": null,
      "outputs": [
        {
          "output_type": "display_data",
          "data": {
            "text/html": [
              "<html>\n",
              "<head><meta charset=\"utf-8\" /></head>\n",
              "<body>\n",
              "    <div>            <script src=\"https://cdnjs.cloudflare.com/ajax/libs/mathjax/2.7.5/MathJax.js?config=TeX-AMS-MML_SVG\"></script><script type=\"text/javascript\">if (window.MathJax && window.MathJax.Hub && window.MathJax.Hub.Config) {window.MathJax.Hub.Config({SVG: {font: \"STIX-Web\"}});}</script>                <script type=\"text/javascript\">window.PlotlyConfig = {MathJaxConfig: 'local'};</script>\n",
              "        <script charset=\"utf-8\" src=\"https://cdn.plot.ly/plotly-2.35.2.min.js\"></script>                <div id=\"a110c83f-05f5-4ce6-9fa2-ff44d244839d\" class=\"plotly-graph-div\" style=\"height:600px; width:800px;\"></div>            <script type=\"text/javascript\">                                    window.PLOTLYENV=window.PLOTLYENV || {};                                    if (document.getElementById(\"a110c83f-05f5-4ce6-9fa2-ff44d244839d\")) {                    Plotly.newPlot(                        \"a110c83f-05f5-4ce6-9fa2-ff44d244839d\",                        [{\"marker\":{\"color\":\"#C8D2D7\",\"line\":{\"color\":\"#6E8484\",\"width\":1}},\"orientation\":\"h\",\"x\":[1.0],\"y\":[\"\\u003cb\\u003eTopic 24\\u003c\\u002fb\\u003e: crayons_beginner_seuss_...\"],\"type\":\"bar\"}],                        {\"template\":{\"data\":{\"barpolar\":[{\"marker\":{\"line\":{\"color\":\"white\",\"width\":0.5},\"pattern\":{\"fillmode\":\"overlay\",\"size\":10,\"solidity\":0.2}},\"type\":\"barpolar\"}],\"bar\":[{\"error_x\":{\"color\":\"rgb(36,36,36)\"},\"error_y\":{\"color\":\"rgb(36,36,36)\"},\"marker\":{\"line\":{\"color\":\"white\",\"width\":0.5},\"pattern\":{\"fillmode\":\"overlay\",\"size\":10,\"solidity\":0.2}},\"type\":\"bar\"}],\"carpet\":[{\"aaxis\":{\"endlinecolor\":\"rgb(36,36,36)\",\"gridcolor\":\"white\",\"linecolor\":\"white\",\"minorgridcolor\":\"white\",\"startlinecolor\":\"rgb(36,36,36)\"},\"baxis\":{\"endlinecolor\":\"rgb(36,36,36)\",\"gridcolor\":\"white\",\"linecolor\":\"white\",\"minorgridcolor\":\"white\",\"startlinecolor\":\"rgb(36,36,36)\"},\"type\":\"carpet\"}],\"choropleth\":[{\"colorbar\":{\"outlinewidth\":1,\"tickcolor\":\"rgb(36,36,36)\",\"ticks\":\"outside\"},\"type\":\"choropleth\"}],\"contourcarpet\":[{\"colorbar\":{\"outlinewidth\":1,\"tickcolor\":\"rgb(36,36,36)\",\"ticks\":\"outside\"},\"type\":\"contourcarpet\"}],\"contour\":[{\"colorbar\":{\"outlinewidth\":1,\"tickcolor\":\"rgb(36,36,36)\",\"ticks\":\"outside\"},\"colorscale\":[[0.0,\"#440154\"],[0.1111111111111111,\"#482878\"],[0.2222222222222222,\"#3e4989\"],[0.3333333333333333,\"#31688e\"],[0.4444444444444444,\"#26828e\"],[0.5555555555555556,\"#1f9e89\"],[0.6666666666666666,\"#35b779\"],[0.7777777777777778,\"#6ece58\"],[0.8888888888888888,\"#b5de2b\"],[1.0,\"#fde725\"]],\"type\":\"contour\"}],\"heatmapgl\":[{\"colorbar\":{\"outlinewidth\":1,\"tickcolor\":\"rgb(36,36,36)\",\"ticks\":\"outside\"},\"colorscale\":[[0.0,\"#440154\"],[0.1111111111111111,\"#482878\"],[0.2222222222222222,\"#3e4989\"],[0.3333333333333333,\"#31688e\"],[0.4444444444444444,\"#26828e\"],[0.5555555555555556,\"#1f9e89\"],[0.6666666666666666,\"#35b779\"],[0.7777777777777778,\"#6ece58\"],[0.8888888888888888,\"#b5de2b\"],[1.0,\"#fde725\"]],\"type\":\"heatmapgl\"}],\"heatmap\":[{\"colorbar\":{\"outlinewidth\":1,\"tickcolor\":\"rgb(36,36,36)\",\"ticks\":\"outside\"},\"colorscale\":[[0.0,\"#440154\"],[0.1111111111111111,\"#482878\"],[0.2222222222222222,\"#3e4989\"],[0.3333333333333333,\"#31688e\"],[0.4444444444444444,\"#26828e\"],[0.5555555555555556,\"#1f9e89\"],[0.6666666666666666,\"#35b779\"],[0.7777777777777778,\"#6ece58\"],[0.8888888888888888,\"#b5de2b\"],[1.0,\"#fde725\"]],\"type\":\"heatmap\"}],\"histogram2dcontour\":[{\"colorbar\":{\"outlinewidth\":1,\"tickcolor\":\"rgb(36,36,36)\",\"ticks\":\"outside\"},\"colorscale\":[[0.0,\"#440154\"],[0.1111111111111111,\"#482878\"],[0.2222222222222222,\"#3e4989\"],[0.3333333333333333,\"#31688e\"],[0.4444444444444444,\"#26828e\"],[0.5555555555555556,\"#1f9e89\"],[0.6666666666666666,\"#35b779\"],[0.7777777777777778,\"#6ece58\"],[0.8888888888888888,\"#b5de2b\"],[1.0,\"#fde725\"]],\"type\":\"histogram2dcontour\"}],\"histogram2d\":[{\"colorbar\":{\"outlinewidth\":1,\"tickcolor\":\"rgb(36,36,36)\",\"ticks\":\"outside\"},\"colorscale\":[[0.0,\"#440154\"],[0.1111111111111111,\"#482878\"],[0.2222222222222222,\"#3e4989\"],[0.3333333333333333,\"#31688e\"],[0.4444444444444444,\"#26828e\"],[0.5555555555555556,\"#1f9e89\"],[0.6666666666666666,\"#35b779\"],[0.7777777777777778,\"#6ece58\"],[0.8888888888888888,\"#b5de2b\"],[1.0,\"#fde725\"]],\"type\":\"histogram2d\"}],\"histogram\":[{\"marker\":{\"line\":{\"color\":\"white\",\"width\":0.6}},\"type\":\"histogram\"}],\"mesh3d\":[{\"colorbar\":{\"outlinewidth\":1,\"tickcolor\":\"rgb(36,36,36)\",\"ticks\":\"outside\"},\"type\":\"mesh3d\"}],\"parcoords\":[{\"line\":{\"colorbar\":{\"outlinewidth\":1,\"tickcolor\":\"rgb(36,36,36)\",\"ticks\":\"outside\"}},\"type\":\"parcoords\"}],\"pie\":[{\"automargin\":true,\"type\":\"pie\"}],\"scatter3d\":[{\"line\":{\"colorbar\":{\"outlinewidth\":1,\"tickcolor\":\"rgb(36,36,36)\",\"ticks\":\"outside\"}},\"marker\":{\"colorbar\":{\"outlinewidth\":1,\"tickcolor\":\"rgb(36,36,36)\",\"ticks\":\"outside\"}},\"type\":\"scatter3d\"}],\"scattercarpet\":[{\"marker\":{\"colorbar\":{\"outlinewidth\":1,\"tickcolor\":\"rgb(36,36,36)\",\"ticks\":\"outside\"}},\"type\":\"scattercarpet\"}],\"scattergeo\":[{\"marker\":{\"colorbar\":{\"outlinewidth\":1,\"tickcolor\":\"rgb(36,36,36)\",\"ticks\":\"outside\"}},\"type\":\"scattergeo\"}],\"scattergl\":[{\"marker\":{\"colorbar\":{\"outlinewidth\":1,\"tickcolor\":\"rgb(36,36,36)\",\"ticks\":\"outside\"}},\"type\":\"scattergl\"}],\"scattermapbox\":[{\"marker\":{\"colorbar\":{\"outlinewidth\":1,\"tickcolor\":\"rgb(36,36,36)\",\"ticks\":\"outside\"}},\"type\":\"scattermapbox\"}],\"scatterpolargl\":[{\"marker\":{\"colorbar\":{\"outlinewidth\":1,\"tickcolor\":\"rgb(36,36,36)\",\"ticks\":\"outside\"}},\"type\":\"scatterpolargl\"}],\"scatterpolar\":[{\"marker\":{\"colorbar\":{\"outlinewidth\":1,\"tickcolor\":\"rgb(36,36,36)\",\"ticks\":\"outside\"}},\"type\":\"scatterpolar\"}],\"scatter\":[{\"fillpattern\":{\"fillmode\":\"overlay\",\"size\":10,\"solidity\":0.2},\"type\":\"scatter\"}],\"scatterternary\":[{\"marker\":{\"colorbar\":{\"outlinewidth\":1,\"tickcolor\":\"rgb(36,36,36)\",\"ticks\":\"outside\"}},\"type\":\"scatterternary\"}],\"surface\":[{\"colorbar\":{\"outlinewidth\":1,\"tickcolor\":\"rgb(36,36,36)\",\"ticks\":\"outside\"},\"colorscale\":[[0.0,\"#440154\"],[0.1111111111111111,\"#482878\"],[0.2222222222222222,\"#3e4989\"],[0.3333333333333333,\"#31688e\"],[0.4444444444444444,\"#26828e\"],[0.5555555555555556,\"#1f9e89\"],[0.6666666666666666,\"#35b779\"],[0.7777777777777778,\"#6ece58\"],[0.8888888888888888,\"#b5de2b\"],[1.0,\"#fde725\"]],\"type\":\"surface\"}],\"table\":[{\"cells\":{\"fill\":{\"color\":\"rgb(237,237,237)\"},\"line\":{\"color\":\"white\"}},\"header\":{\"fill\":{\"color\":\"rgb(217,217,217)\"},\"line\":{\"color\":\"white\"}},\"type\":\"table\"}]},\"layout\":{\"annotationdefaults\":{\"arrowhead\":0,\"arrowwidth\":1},\"autotypenumbers\":\"strict\",\"coloraxis\":{\"colorbar\":{\"outlinewidth\":1,\"tickcolor\":\"rgb(36,36,36)\",\"ticks\":\"outside\"}},\"colorscale\":{\"diverging\":[[0.0,\"rgb(103,0,31)\"],[0.1,\"rgb(178,24,43)\"],[0.2,\"rgb(214,96,77)\"],[0.3,\"rgb(244,165,130)\"],[0.4,\"rgb(253,219,199)\"],[0.5,\"rgb(247,247,247)\"],[0.6,\"rgb(209,229,240)\"],[0.7,\"rgb(146,197,222)\"],[0.8,\"rgb(67,147,195)\"],[0.9,\"rgb(33,102,172)\"],[1.0,\"rgb(5,48,97)\"]],\"sequential\":[[0.0,\"#440154\"],[0.1111111111111111,\"#482878\"],[0.2222222222222222,\"#3e4989\"],[0.3333333333333333,\"#31688e\"],[0.4444444444444444,\"#26828e\"],[0.5555555555555556,\"#1f9e89\"],[0.6666666666666666,\"#35b779\"],[0.7777777777777778,\"#6ece58\"],[0.8888888888888888,\"#b5de2b\"],[1.0,\"#fde725\"]],\"sequentialminus\":[[0.0,\"#440154\"],[0.1111111111111111,\"#482878\"],[0.2222222222222222,\"#3e4989\"],[0.3333333333333333,\"#31688e\"],[0.4444444444444444,\"#26828e\"],[0.5555555555555556,\"#1f9e89\"],[0.6666666666666666,\"#35b779\"],[0.7777777777777778,\"#6ece58\"],[0.8888888888888888,\"#b5de2b\"],[1.0,\"#fde725\"]]},\"colorway\":[\"#1F77B4\",\"#FF7F0E\",\"#2CA02C\",\"#D62728\",\"#9467BD\",\"#8C564B\",\"#E377C2\",\"#7F7F7F\",\"#BCBD22\",\"#17BECF\"],\"font\":{\"color\":\"rgb(36,36,36)\"},\"geo\":{\"bgcolor\":\"white\",\"lakecolor\":\"white\",\"landcolor\":\"white\",\"showlakes\":true,\"showland\":true,\"subunitcolor\":\"white\"},\"hoverlabel\":{\"align\":\"left\"},\"hovermode\":\"closest\",\"mapbox\":{\"style\":\"light\"},\"paper_bgcolor\":\"white\",\"plot_bgcolor\":\"white\",\"polar\":{\"angularaxis\":{\"gridcolor\":\"rgb(232,232,232)\",\"linecolor\":\"rgb(36,36,36)\",\"showgrid\":false,\"showline\":true,\"ticks\":\"outside\"},\"bgcolor\":\"white\",\"radialaxis\":{\"gridcolor\":\"rgb(232,232,232)\",\"linecolor\":\"rgb(36,36,36)\",\"showgrid\":false,\"showline\":true,\"ticks\":\"outside\"}},\"scene\":{\"xaxis\":{\"backgroundcolor\":\"white\",\"gridcolor\":\"rgb(232,232,232)\",\"gridwidth\":2,\"linecolor\":\"rgb(36,36,36)\",\"showbackground\":true,\"showgrid\":false,\"showline\":true,\"ticks\":\"outside\",\"zeroline\":false,\"zerolinecolor\":\"rgb(36,36,36)\"},\"yaxis\":{\"backgroundcolor\":\"white\",\"gridcolor\":\"rgb(232,232,232)\",\"gridwidth\":2,\"linecolor\":\"rgb(36,36,36)\",\"showbackground\":true,\"showgrid\":false,\"showline\":true,\"ticks\":\"outside\",\"zeroline\":false,\"zerolinecolor\":\"rgb(36,36,36)\"},\"zaxis\":{\"backgroundcolor\":\"white\",\"gridcolor\":\"rgb(232,232,232)\",\"gridwidth\":2,\"linecolor\":\"rgb(36,36,36)\",\"showbackground\":true,\"showgrid\":false,\"showline\":true,\"ticks\":\"outside\",\"zeroline\":false,\"zerolinecolor\":\"rgb(36,36,36)\"}},\"shapedefaults\":{\"fillcolor\":\"black\",\"line\":{\"width\":0},\"opacity\":0.3},\"ternary\":{\"aaxis\":{\"gridcolor\":\"rgb(232,232,232)\",\"linecolor\":\"rgb(36,36,36)\",\"showgrid\":false,\"showline\":true,\"ticks\":\"outside\"},\"baxis\":{\"gridcolor\":\"rgb(232,232,232)\",\"linecolor\":\"rgb(36,36,36)\",\"showgrid\":false,\"showline\":true,\"ticks\":\"outside\"},\"bgcolor\":\"white\",\"caxis\":{\"gridcolor\":\"rgb(232,232,232)\",\"linecolor\":\"rgb(36,36,36)\",\"showgrid\":false,\"showline\":true,\"ticks\":\"outside\"}},\"title\":{\"x\":0.05},\"xaxis\":{\"automargin\":true,\"gridcolor\":\"rgb(232,232,232)\",\"linecolor\":\"rgb(36,36,36)\",\"showgrid\":false,\"showline\":true,\"ticks\":\"outside\",\"title\":{\"standoff\":15},\"zeroline\":false,\"zerolinecolor\":\"rgb(36,36,36)\"},\"yaxis\":{\"automargin\":true,\"gridcolor\":\"rgb(232,232,232)\",\"linecolor\":\"rgb(36,36,36)\",\"showgrid\":false,\"showline\":true,\"ticks\":\"outside\",\"title\":{\"standoff\":15},\"zeroline\":false,\"zerolinecolor\":\"rgb(36,36,36)\"}}},\"title\":{\"font\":{\"size\":22,\"color\":\"Black\"},\"text\":\"\\u003cb\\u003eTopic Probability Distribution\\u003c\\u002fb\\u003e\",\"y\":0.95,\"x\":0.5,\"xanchor\":\"center\",\"yanchor\":\"top\"},\"hoverlabel\":{\"font\":{\"size\":16,\"family\":\"Rockwell\"},\"bgcolor\":\"white\"},\"xaxis\":{\"title\":{\"text\":\"Probability\"}},\"width\":800,\"height\":600},                        {\"responsive\": true}                    ).then(function(){\n",
              "                            \n",
              "var gd = document.getElementById('a110c83f-05f5-4ce6-9fa2-ff44d244839d');\n",
              "var x = new MutationObserver(function (mutations, observer) {{\n",
              "        var display = window.getComputedStyle(gd).display;\n",
              "        if (!display || display === 'none') {{\n",
              "            console.log([gd, 'removed!']);\n",
              "            Plotly.purge(gd);\n",
              "            observer.disconnect();\n",
              "        }}\n",
              "}});\n",
              "\n",
              "// Listen for the removal of the full notebook cells\n",
              "var notebookContainer = gd.closest('#notebook-container');\n",
              "if (notebookContainer) {{\n",
              "    x.observe(notebookContainer, {childList: true});\n",
              "}}\n",
              "\n",
              "// Listen for the clearing of the current output cell\n",
              "var outputEl = gd.closest('.output');\n",
              "if (outputEl) {{\n",
              "    x.observe(outputEl, {childList: true});\n",
              "}}\n",
              "\n",
              "                        })                };                            </script>        </div>\n",
              "</body>\n",
              "</html>"
            ]
          },
          "metadata": {}
        }
      ]
    },
    {
      "cell_type": "code",
      "source": [
        "\n",
        "# Visualize hierarchy of topics\n",
        "topic_model.visualize_hierarchy(top_n_topics=50)\n",
        "\n"
      ],
      "metadata": {
        "colab": {
          "base_uri": "https://localhost:8080/",
          "height": 802
        },
        "id": "Nf7ThxGCJSD-",
        "outputId": "d3d1b946-a9e9-48f6-a2ca-949f63d7dcc0"
      },
      "execution_count": null,
      "outputs": [
        {
          "output_type": "display_data",
          "data": {
            "text/html": [
              "<html>\n",
              "<head><meta charset=\"utf-8\" /></head>\n",
              "<body>\n",
              "    <div>            <script src=\"https://cdnjs.cloudflare.com/ajax/libs/mathjax/2.7.5/MathJax.js?config=TeX-AMS-MML_SVG\"></script><script type=\"text/javascript\">if (window.MathJax && window.MathJax.Hub && window.MathJax.Hub.Config) {window.MathJax.Hub.Config({SVG: {font: \"STIX-Web\"}});}</script>                <script type=\"text/javascript\">window.PlotlyConfig = {MathJaxConfig: 'local'};</script>\n",
              "        <script charset=\"utf-8\" src=\"https://cdn.plot.ly/plotly-2.35.2.min.js\"></script>                <div id=\"f095b514-6290-44a9-8c03-41b5734ad082\" class=\"plotly-graph-div\" style=\"height:785px; width:1000px;\"></div>            <script type=\"text/javascript\">                                    window.PLOTLYENV=window.PLOTLYENV || {};                                    if (document.getElementById(\"f095b514-6290-44a9-8c03-41b5734ad082\")) {                    Plotly.newPlot(                        \"f095b514-6290-44a9-8c03-41b5734ad082\",                        [{\"hoverinfo\":\"text\",\"marker\":{\"color\":\"rgb(61,153,112)\"},\"mode\":\"lines\",\"x\":[0.0,0.8693171587955945,0.8693171587955945,0.0],\"xaxis\":\"x\",\"y\":[-15.0,-15.0,-25.0,-25.0],\"yaxis\":\"y\",\"type\":\"scatter\"},{\"hoverinfo\":\"text\",\"marker\":{\"color\":\"rgb(61,153,112)\"},\"mode\":\"lines\",\"x\":[0.0,0.9179952720341328,0.9179952720341328,0.0],\"xaxis\":\"x\",\"y\":[-35.0,-35.0,-45.0,-45.0],\"yaxis\":\"y\",\"type\":\"scatter\"},{\"hoverinfo\":\"text\",\"marker\":{\"color\":\"rgb(61,153,112)\"},\"mode\":\"lines\",\"x\":[0.9179952720341328,0.9611712974804516,0.9611712974804516,0.0],\"xaxis\":\"x\",\"y\":[-40.0,-40.0,-55.0,-55.0],\"yaxis\":\"y\",\"type\":\"scatter\"},{\"hoverinfo\":\"text\",\"marker\":{\"color\":\"rgb(61,153,112)\"},\"mode\":\"lines\",\"x\":[0.8693171587955945,0.9771201335821277,0.9771201335821277,0.9611712974804516],\"xaxis\":\"x\",\"y\":[-20.0,-20.0,-47.5,-47.5],\"yaxis\":\"y\",\"type\":\"scatter\"},{\"hoverinfo\":\"text\",\"marker\":{\"color\":\"rgb(61,153,112)\"},\"mode\":\"lines\",\"x\":[0.0,0.9901484068927514,0.9901484068927514,0.9771201335821277],\"xaxis\":\"x\",\"y\":[-5.0,-5.0,-33.75,-33.75],\"yaxis\":\"y\",\"type\":\"scatter\"},{\"hoverinfo\":\"text\",\"marker\":{\"color\":\"rgb(255,65,54)\"},\"mode\":\"lines\",\"x\":[0.0,0.806864216623594,0.806864216623594,0.0],\"xaxis\":\"x\",\"y\":[-75.0,-75.0,-85.0,-85.0],\"yaxis\":\"y\",\"type\":\"scatter\"},{\"hoverinfo\":\"text\",\"marker\":{\"color\":\"rgb(255,65,54)\"},\"mode\":\"lines\",\"x\":[0.806864216623594,0.8726221967249812,0.8726221967249812,0.0],\"xaxis\":\"x\",\"y\":[-80.0,-80.0,-95.0,-95.0],\"yaxis\":\"y\",\"type\":\"scatter\"},{\"hoverinfo\":\"text\",\"marker\":{\"color\":\"rgb(255,65,54)\"},\"mode\":\"lines\",\"x\":[0.0,0.9334800648343277,0.9334800648343277,0.8726221967249812],\"xaxis\":\"x\",\"y\":[-65.0,-65.0,-87.5,-87.5],\"yaxis\":\"y\",\"type\":\"scatter\"},{\"hoverinfo\":\"text\",\"marker\":{\"color\":\"rgb(255,65,54)\"},\"mode\":\"lines\",\"x\":[0.0,0.7323958551939211,0.7323958551939211,0.0],\"xaxis\":\"x\",\"y\":[-125.0,-125.0,-135.0,-135.0],\"yaxis\":\"y\",\"type\":\"scatter\"},{\"hoverinfo\":\"text\",\"marker\":{\"color\":\"rgb(255,65,54)\"},\"mode\":\"lines\",\"x\":[0.0,0.7533815012288702,0.7533815012288702,0.7323958551939211],\"xaxis\":\"x\",\"y\":[-115.0,-115.0,-130.0,-130.0],\"yaxis\":\"y\",\"type\":\"scatter\"},{\"hoverinfo\":\"text\",\"marker\":{\"color\":\"rgb(255,65,54)\"},\"mode\":\"lines\",\"x\":[0.7533815012288702,0.8491870125700577,0.8491870125700577,0.0],\"xaxis\":\"x\",\"y\":[-122.5,-122.5,-145.0,-145.0],\"yaxis\":\"y\",\"type\":\"scatter\"},{\"hoverinfo\":\"text\",\"marker\":{\"color\":\"rgb(255,65,54)\"},\"mode\":\"lines\",\"x\":[0.0,0.8964682205911146,0.8964682205911146,0.8491870125700577],\"xaxis\":\"x\",\"y\":[-105.0,-105.0,-133.75,-133.75],\"yaxis\":\"y\",\"type\":\"scatter\"},{\"hoverinfo\":\"text\",\"marker\":{\"color\":\"rgb(255,65,54)\"},\"mode\":\"lines\",\"x\":[0.8964682205911146,0.9030968549137248,0.9030968549137248,0.0],\"xaxis\":\"x\",\"y\":[-119.375,-119.375,-155.0,-155.0],\"yaxis\":\"y\",\"type\":\"scatter\"},{\"hoverinfo\":\"text\",\"marker\":{\"color\":\"rgb(255,65,54)\"},\"mode\":\"lines\",\"x\":[0.9334800648343277,0.9468503194111967,0.9468503194111967,0.9030968549137248],\"xaxis\":\"x\",\"y\":[-76.25,-76.25,-137.1875,-137.1875],\"yaxis\":\"y\",\"type\":\"scatter\"},{\"hoverinfo\":\"text\",\"marker\":{\"color\":\"rgb(35,205,205)\"},\"mode\":\"lines\",\"x\":[0.0,0.7731720064394544,0.7731720064394544,0.0],\"xaxis\":\"x\",\"y\":[-175.0,-175.0,-185.0,-185.0],\"yaxis\":\"y\",\"type\":\"scatter\"},{\"hoverinfo\":\"text\",\"marker\":{\"color\":\"rgb(35,205,205)\"},\"mode\":\"lines\",\"x\":[0.7731720064394544,0.8344647046025191,0.8344647046025191,0.0],\"xaxis\":\"x\",\"y\":[-180.0,-180.0,-195.0,-195.0],\"yaxis\":\"y\",\"type\":\"scatter\"},{\"hoverinfo\":\"text\",\"marker\":{\"color\":\"rgb(35,205,205)\"},\"mode\":\"lines\",\"x\":[0.0,0.8679610083231424,0.8679610083231424,0.8344647046025191],\"xaxis\":\"x\",\"y\":[-165.0,-165.0,-187.5,-187.5],\"yaxis\":\"y\",\"type\":\"scatter\"},{\"hoverinfo\":\"text\",\"marker\":{\"color\":\"rgb(35,205,205)\"},\"mode\":\"lines\",\"x\":[0.8679610083231424,0.8794174161834869,0.8794174161834869,0.0],\"xaxis\":\"x\",\"y\":[-176.25,-176.25,-205.0,-205.0],\"yaxis\":\"y\",\"type\":\"scatter\"},{\"hoverinfo\":\"text\",\"marker\":{\"color\":\"rgb(0,116,217)\"},\"mode\":\"lines\",\"x\":[0.9468503194111967,1.0175645716944575,1.0175645716944575,0.8794174161834869],\"xaxis\":\"x\",\"y\":[-106.71875,-106.71875,-190.625,-190.625],\"yaxis\":\"y\",\"type\":\"scatter\"},{\"hoverinfo\":\"text\",\"marker\":{\"color\":\"rgb(0,116,217)\"},\"mode\":\"lines\",\"x\":[0.9901484068927514,1.0548571060691374,1.0548571060691374,1.0175645716944575],\"xaxis\":\"x\",\"y\":[-19.375,-19.375,-148.671875,-148.671875],\"yaxis\":\"y\",\"type\":\"scatter\"},{\"hoverinfo\":\"text\",\"marker\":{\"color\":\"rgb(133,20,75)\"},\"mode\":\"lines\",\"x\":[0.0,0.7617154152330441,0.7617154152330441,0.0],\"xaxis\":\"x\",\"y\":[-215.0,-215.0,-225.0,-225.0],\"yaxis\":\"y\",\"type\":\"scatter\"},{\"hoverinfo\":\"text\",\"marker\":{\"color\":\"rgb(255,220,0)\"},\"mode\":\"lines\",\"x\":[0.0,0.7872363868178545,0.7872363868178545,0.0],\"xaxis\":\"x\",\"y\":[-235.0,-235.0,-245.0,-245.0],\"yaxis\":\"y\",\"type\":\"scatter\"},{\"hoverinfo\":\"text\",\"marker\":{\"color\":\"rgb(40,35,35)\"},\"mode\":\"lines\",\"x\":[0.0,0.6990034347405961,0.6990034347405961,0.0],\"xaxis\":\"x\",\"y\":[-275.0,-275.0,-285.0,-285.0],\"yaxis\":\"y\",\"type\":\"scatter\"},{\"hoverinfo\":\"text\",\"marker\":{\"color\":\"rgb(40,35,35)\"},\"mode\":\"lines\",\"x\":[0.0,0.79296231490048,0.79296231490048,0.6990034347405961],\"xaxis\":\"x\",\"y\":[-265.0,-265.0,-280.0,-280.0],\"yaxis\":\"y\",\"type\":\"scatter\"},{\"hoverinfo\":\"text\",\"marker\":{\"color\":\"rgb(40,35,35)\"},\"mode\":\"lines\",\"x\":[0.0,0.8367410224065837,0.8367410224065837,0.0],\"xaxis\":\"x\",\"y\":[-295.0,-295.0,-305.0,-305.0],\"yaxis\":\"y\",\"type\":\"scatter\"},{\"hoverinfo\":\"text\",\"marker\":{\"color\":\"rgb(40,35,35)\"},\"mode\":\"lines\",\"x\":[0.79296231490048,0.8434228547795176,0.8434228547795176,0.8367410224065837],\"xaxis\":\"x\",\"y\":[-272.5,-272.5,-300.0,-300.0],\"yaxis\":\"y\",\"type\":\"scatter\"},{\"hoverinfo\":\"text\",\"marker\":{\"color\":\"rgb(40,35,35)\"},\"mode\":\"lines\",\"x\":[0.0,0.8652129277261572,0.8652129277261572,0.8434228547795176],\"xaxis\":\"x\",\"y\":[-255.0,-255.0,-286.25,-286.25],\"yaxis\":\"y\",\"type\":\"scatter\"},{\"hoverinfo\":\"text\",\"marker\":{\"color\":\"rgb(40,35,35)\"},\"mode\":\"lines\",\"x\":[0.0,0.760718609383112,0.760718609383112,0.0],\"xaxis\":\"x\",\"y\":[-325.0,-325.0,-335.0,-335.0],\"yaxis\":\"y\",\"type\":\"scatter\"},{\"hoverinfo\":\"text\",\"marker\":{\"color\":\"rgb(40,35,35)\"},\"mode\":\"lines\",\"x\":[0.0,0.8674950252508331,0.8674950252508331,0.760718609383112],\"xaxis\":\"x\",\"y\":[-315.0,-315.0,-330.0,-330.0],\"yaxis\":\"y\",\"type\":\"scatter\"},{\"hoverinfo\":\"text\",\"marker\":{\"color\":\"rgb(40,35,35)\"},\"mode\":\"lines\",\"x\":[0.0,0.8613331058407163,0.8613331058407163,0.0],\"xaxis\":\"x\",\"y\":[-365.0,-365.0,-375.0,-375.0],\"yaxis\":\"y\",\"type\":\"scatter\"},{\"hoverinfo\":\"text\",\"marker\":{\"color\":\"rgb(40,35,35)\"},\"mode\":\"lines\",\"x\":[0.0,0.8905512583635072,0.8905512583635072,0.8613331058407163],\"xaxis\":\"x\",\"y\":[-355.0,-355.0,-370.0,-370.0],\"yaxis\":\"y\",\"type\":\"scatter\"},{\"hoverinfo\":\"text\",\"marker\":{\"color\":\"rgb(40,35,35)\"},\"mode\":\"lines\",\"x\":[0.8905512583635072,0.9453930953773834,0.9453930953773834,0.0],\"xaxis\":\"x\",\"y\":[-362.5,-362.5,-385.0,-385.0],\"yaxis\":\"y\",\"type\":\"scatter\"},{\"hoverinfo\":\"text\",\"marker\":{\"color\":\"rgb(40,35,35)\"},\"mode\":\"lines\",\"x\":[0.0,0.9563329931588127,0.9563329931588127,0.9453930953773834],\"xaxis\":\"x\",\"y\":[-345.0,-345.0,-373.75,-373.75],\"yaxis\":\"y\",\"type\":\"scatter\"},{\"hoverinfo\":\"text\",\"marker\":{\"color\":\"rgb(40,35,35)\"},\"mode\":\"lines\",\"x\":[0.8674950252508331,0.9654475823012217,0.9654475823012217,0.9563329931588127],\"xaxis\":\"x\",\"y\":[-322.5,-322.5,-359.375,-359.375],\"yaxis\":\"y\",\"type\":\"scatter\"},{\"hoverinfo\":\"text\",\"marker\":{\"color\":\"rgb(40,35,35)\"},\"mode\":\"lines\",\"x\":[0.8652129277261572,0.9845207245351231,0.9845207245351231,0.9654475823012217],\"xaxis\":\"x\",\"y\":[-270.625,-270.625,-340.9375,-340.9375],\"yaxis\":\"y\",\"type\":\"scatter\"},{\"hoverinfo\":\"text\",\"marker\":{\"color\":\"rgb(0,116,217)\"},\"mode\":\"lines\",\"x\":[0.7872363868178545,1.0394263693690333,1.0394263693690333,0.9845207245351231],\"xaxis\":\"x\",\"y\":[-240.0,-240.0,-305.78125,-305.78125],\"yaxis\":\"y\",\"type\":\"scatter\"},{\"hoverinfo\":\"text\",\"marker\":{\"color\":\"rgb(0,116,217)\"},\"mode\":\"lines\",\"x\":[0.7617154152330441,1.0548764264451986,1.0548764264451986,1.0394263693690333],\"xaxis\":\"x\",\"y\":[-220.0,-220.0,-272.890625,-272.890625],\"yaxis\":\"y\",\"type\":\"scatter\"},{\"hoverinfo\":\"text\",\"marker\":{\"color\":\"rgb(0,116,217)\"},\"mode\":\"lines\",\"x\":[1.0548571060691374,1.2365300825228196,1.2365300825228196,1.0548764264451986],\"xaxis\":\"x\",\"y\":[-84.0234375,-84.0234375,-246.4453125,-246.4453125],\"yaxis\":\"y\",\"type\":\"scatter\"}],                        {\"autosize\":false,\"height\":785,\"hovermode\":\"closest\",\"showlegend\":false,\"width\":1000,\"xaxis\":{\"mirror\":\"allticks\",\"rangemode\":\"tozero\",\"showgrid\":false,\"showline\":true,\"showticklabels\":true,\"ticks\":\"outside\",\"type\":\"linear\",\"zeroline\":false},\"yaxis\":{\"mirror\":\"allticks\",\"rangemode\":\"tozero\",\"showgrid\":false,\"showline\":true,\"showticklabels\":true,\"tickmode\":\"array\",\"ticks\":\"outside\",\"ticktext\":[\"36_harry_potter_hogwarts\",\"14_saga_minecraft_diary\",\"15_batman_marvel_superman\",\"38_mr_jane_guernsey\",\"32_wedding_chinese_brides\",\"22_basket_fruits_sohma\",\"35_raven_blue_boys\",\"2_queen_court_kingdom\",\"11_magic_parabatai_queens\",\"18_dracula_clary_ace\",\"20_children_patch_peculiar\",\"12_author_life_new\",\"0_murder_detective_strike\",\"19_carson_shack_husband\",\"17_allie_mother_secrets\",\"26_madlen_psychopath_hospital\",\"29_kaling_youre_dating\",\"8_shes_becky_bloomwood\",\"4_sports_fantasy_football\",\"31_knows_hes_alien\",\"37_rock_show_jared\",\"28_rock_music_duran\",\"16_music_physics_jazz\",\"30_jesus_christian_bible\",\"13_religion_christianity_re...\",\"1_recipes_cookbook_cooking\",\"23_startup_fundraising_busi...\",\"10_sleep_people_walker\",\"5_life_happiness_anxiety\",\"9_science_universe_scientific\",\"6_art_artists_creativity\",\"27_ss_cavalier_shift\",\"7_american_lincoln_political\",\"21_war_military_bacevich\",\"34_jobs_malcolm_isaacson\",\"24_crayons_beginner_seuss\",\"3_poems_poetry_collection\",\"25_enough_greatly_daring\",\"33_greek_iliad_literature\"],\"tickvals\":[-5.0,-15.0,-25.0,-35.0,-45.0,-55.0,-65.0,-75.0,-85.0,-95.0,-105.0,-115.0,-125.0,-135.0,-145.0,-155.0,-165.0,-175.0,-185.0,-195.0,-205.0,-215.0,-225.0,-235.0,-245.0,-255.0,-265.0,-275.0,-285.0,-295.0,-305.0,-315.0,-325.0,-335.0,-345.0,-355.0,-365.0,-375.0,-385.0],\"type\":\"linear\",\"zeroline\":false,\"range\":[-390.0,0.0]},\"template\":{\"data\":{\"barpolar\":[{\"marker\":{\"line\":{\"color\":\"white\",\"width\":0.5},\"pattern\":{\"fillmode\":\"overlay\",\"size\":10,\"solidity\":0.2}},\"type\":\"barpolar\"}],\"bar\":[{\"error_x\":{\"color\":\"#2a3f5f\"},\"error_y\":{\"color\":\"#2a3f5f\"},\"marker\":{\"line\":{\"color\":\"white\",\"width\":0.5},\"pattern\":{\"fillmode\":\"overlay\",\"size\":10,\"solidity\":0.2}},\"type\":\"bar\"}],\"carpet\":[{\"aaxis\":{\"endlinecolor\":\"#2a3f5f\",\"gridcolor\":\"#C8D4E3\",\"linecolor\":\"#C8D4E3\",\"minorgridcolor\":\"#C8D4E3\",\"startlinecolor\":\"#2a3f5f\"},\"baxis\":{\"endlinecolor\":\"#2a3f5f\",\"gridcolor\":\"#C8D4E3\",\"linecolor\":\"#C8D4E3\",\"minorgridcolor\":\"#C8D4E3\",\"startlinecolor\":\"#2a3f5f\"},\"type\":\"carpet\"}],\"choropleth\":[{\"colorbar\":{\"outlinewidth\":0,\"ticks\":\"\"},\"type\":\"choropleth\"}],\"contourcarpet\":[{\"colorbar\":{\"outlinewidth\":0,\"ticks\":\"\"},\"type\":\"contourcarpet\"}],\"contour\":[{\"colorbar\":{\"outlinewidth\":0,\"ticks\":\"\"},\"colorscale\":[[0.0,\"#0d0887\"],[0.1111111111111111,\"#46039f\"],[0.2222222222222222,\"#7201a8\"],[0.3333333333333333,\"#9c179e\"],[0.4444444444444444,\"#bd3786\"],[0.5555555555555556,\"#d8576b\"],[0.6666666666666666,\"#ed7953\"],[0.7777777777777778,\"#fb9f3a\"],[0.8888888888888888,\"#fdca26\"],[1.0,\"#f0f921\"]],\"type\":\"contour\"}],\"heatmapgl\":[{\"colorbar\":{\"outlinewidth\":0,\"ticks\":\"\"},\"colorscale\":[[0.0,\"#0d0887\"],[0.1111111111111111,\"#46039f\"],[0.2222222222222222,\"#7201a8\"],[0.3333333333333333,\"#9c179e\"],[0.4444444444444444,\"#bd3786\"],[0.5555555555555556,\"#d8576b\"],[0.6666666666666666,\"#ed7953\"],[0.7777777777777778,\"#fb9f3a\"],[0.8888888888888888,\"#fdca26\"],[1.0,\"#f0f921\"]],\"type\":\"heatmapgl\"}],\"heatmap\":[{\"colorbar\":{\"outlinewidth\":0,\"ticks\":\"\"},\"colorscale\":[[0.0,\"#0d0887\"],[0.1111111111111111,\"#46039f\"],[0.2222222222222222,\"#7201a8\"],[0.3333333333333333,\"#9c179e\"],[0.4444444444444444,\"#bd3786\"],[0.5555555555555556,\"#d8576b\"],[0.6666666666666666,\"#ed7953\"],[0.7777777777777778,\"#fb9f3a\"],[0.8888888888888888,\"#fdca26\"],[1.0,\"#f0f921\"]],\"type\":\"heatmap\"}],\"histogram2dcontour\":[{\"colorbar\":{\"outlinewidth\":0,\"ticks\":\"\"},\"colorscale\":[[0.0,\"#0d0887\"],[0.1111111111111111,\"#46039f\"],[0.2222222222222222,\"#7201a8\"],[0.3333333333333333,\"#9c179e\"],[0.4444444444444444,\"#bd3786\"],[0.5555555555555556,\"#d8576b\"],[0.6666666666666666,\"#ed7953\"],[0.7777777777777778,\"#fb9f3a\"],[0.8888888888888888,\"#fdca26\"],[1.0,\"#f0f921\"]],\"type\":\"histogram2dcontour\"}],\"histogram2d\":[{\"colorbar\":{\"outlinewidth\":0,\"ticks\":\"\"},\"colorscale\":[[0.0,\"#0d0887\"],[0.1111111111111111,\"#46039f\"],[0.2222222222222222,\"#7201a8\"],[0.3333333333333333,\"#9c179e\"],[0.4444444444444444,\"#bd3786\"],[0.5555555555555556,\"#d8576b\"],[0.6666666666666666,\"#ed7953\"],[0.7777777777777778,\"#fb9f3a\"],[0.8888888888888888,\"#fdca26\"],[1.0,\"#f0f921\"]],\"type\":\"histogram2d\"}],\"histogram\":[{\"marker\":{\"pattern\":{\"fillmode\":\"overlay\",\"size\":10,\"solidity\":0.2}},\"type\":\"histogram\"}],\"mesh3d\":[{\"colorbar\":{\"outlinewidth\":0,\"ticks\":\"\"},\"type\":\"mesh3d\"}],\"parcoords\":[{\"line\":{\"colorbar\":{\"outlinewidth\":0,\"ticks\":\"\"}},\"type\":\"parcoords\"}],\"pie\":[{\"automargin\":true,\"type\":\"pie\"}],\"scatter3d\":[{\"line\":{\"colorbar\":{\"outlinewidth\":0,\"ticks\":\"\"}},\"marker\":{\"colorbar\":{\"outlinewidth\":0,\"ticks\":\"\"}},\"type\":\"scatter3d\"}],\"scattercarpet\":[{\"marker\":{\"colorbar\":{\"outlinewidth\":0,\"ticks\":\"\"}},\"type\":\"scattercarpet\"}],\"scattergeo\":[{\"marker\":{\"colorbar\":{\"outlinewidth\":0,\"ticks\":\"\"}},\"type\":\"scattergeo\"}],\"scattergl\":[{\"marker\":{\"colorbar\":{\"outlinewidth\":0,\"ticks\":\"\"}},\"type\":\"scattergl\"}],\"scattermapbox\":[{\"marker\":{\"colorbar\":{\"outlinewidth\":0,\"ticks\":\"\"}},\"type\":\"scattermapbox\"}],\"scatterpolargl\":[{\"marker\":{\"colorbar\":{\"outlinewidth\":0,\"ticks\":\"\"}},\"type\":\"scatterpolargl\"}],\"scatterpolar\":[{\"marker\":{\"colorbar\":{\"outlinewidth\":0,\"ticks\":\"\"}},\"type\":\"scatterpolar\"}],\"scatter\":[{\"fillpattern\":{\"fillmode\":\"overlay\",\"size\":10,\"solidity\":0.2},\"type\":\"scatter\"}],\"scatterternary\":[{\"marker\":{\"colorbar\":{\"outlinewidth\":0,\"ticks\":\"\"}},\"type\":\"scatterternary\"}],\"surface\":[{\"colorbar\":{\"outlinewidth\":0,\"ticks\":\"\"},\"colorscale\":[[0.0,\"#0d0887\"],[0.1111111111111111,\"#46039f\"],[0.2222222222222222,\"#7201a8\"],[0.3333333333333333,\"#9c179e\"],[0.4444444444444444,\"#bd3786\"],[0.5555555555555556,\"#d8576b\"],[0.6666666666666666,\"#ed7953\"],[0.7777777777777778,\"#fb9f3a\"],[0.8888888888888888,\"#fdca26\"],[1.0,\"#f0f921\"]],\"type\":\"surface\"}],\"table\":[{\"cells\":{\"fill\":{\"color\":\"#EBF0F8\"},\"line\":{\"color\":\"white\"}},\"header\":{\"fill\":{\"color\":\"#C8D4E3\"},\"line\":{\"color\":\"white\"}},\"type\":\"table\"}]},\"layout\":{\"annotationdefaults\":{\"arrowcolor\":\"#2a3f5f\",\"arrowhead\":0,\"arrowwidth\":1},\"autotypenumbers\":\"strict\",\"coloraxis\":{\"colorbar\":{\"outlinewidth\":0,\"ticks\":\"\"}},\"colorscale\":{\"diverging\":[[0,\"#8e0152\"],[0.1,\"#c51b7d\"],[0.2,\"#de77ae\"],[0.3,\"#f1b6da\"],[0.4,\"#fde0ef\"],[0.5,\"#f7f7f7\"],[0.6,\"#e6f5d0\"],[0.7,\"#b8e186\"],[0.8,\"#7fbc41\"],[0.9,\"#4d9221\"],[1,\"#276419\"]],\"sequential\":[[0.0,\"#0d0887\"],[0.1111111111111111,\"#46039f\"],[0.2222222222222222,\"#7201a8\"],[0.3333333333333333,\"#9c179e\"],[0.4444444444444444,\"#bd3786\"],[0.5555555555555556,\"#d8576b\"],[0.6666666666666666,\"#ed7953\"],[0.7777777777777778,\"#fb9f3a\"],[0.8888888888888888,\"#fdca26\"],[1.0,\"#f0f921\"]],\"sequentialminus\":[[0.0,\"#0d0887\"],[0.1111111111111111,\"#46039f\"],[0.2222222222222222,\"#7201a8\"],[0.3333333333333333,\"#9c179e\"],[0.4444444444444444,\"#bd3786\"],[0.5555555555555556,\"#d8576b\"],[0.6666666666666666,\"#ed7953\"],[0.7777777777777778,\"#fb9f3a\"],[0.8888888888888888,\"#fdca26\"],[1.0,\"#f0f921\"]]},\"colorway\":[\"#636efa\",\"#EF553B\",\"#00cc96\",\"#ab63fa\",\"#FFA15A\",\"#19d3f3\",\"#FF6692\",\"#B6E880\",\"#FF97FF\",\"#FECB52\"],\"font\":{\"color\":\"#2a3f5f\"},\"geo\":{\"bgcolor\":\"white\",\"lakecolor\":\"white\",\"landcolor\":\"white\",\"showlakes\":true,\"showland\":true,\"subunitcolor\":\"#C8D4E3\"},\"hoverlabel\":{\"align\":\"left\"},\"hovermode\":\"closest\",\"mapbox\":{\"style\":\"light\"},\"paper_bgcolor\":\"white\",\"plot_bgcolor\":\"white\",\"polar\":{\"angularaxis\":{\"gridcolor\":\"#EBF0F8\",\"linecolor\":\"#EBF0F8\",\"ticks\":\"\"},\"bgcolor\":\"white\",\"radialaxis\":{\"gridcolor\":\"#EBF0F8\",\"linecolor\":\"#EBF0F8\",\"ticks\":\"\"}},\"scene\":{\"xaxis\":{\"backgroundcolor\":\"white\",\"gridcolor\":\"#DFE8F3\",\"gridwidth\":2,\"linecolor\":\"#EBF0F8\",\"showbackground\":true,\"ticks\":\"\",\"zerolinecolor\":\"#EBF0F8\"},\"yaxis\":{\"backgroundcolor\":\"white\",\"gridcolor\":\"#DFE8F3\",\"gridwidth\":2,\"linecolor\":\"#EBF0F8\",\"showbackground\":true,\"ticks\":\"\",\"zerolinecolor\":\"#EBF0F8\"},\"zaxis\":{\"backgroundcolor\":\"white\",\"gridcolor\":\"#DFE8F3\",\"gridwidth\":2,\"linecolor\":\"#EBF0F8\",\"showbackground\":true,\"ticks\":\"\",\"zerolinecolor\":\"#EBF0F8\"}},\"shapedefaults\":{\"line\":{\"color\":\"#2a3f5f\"}},\"ternary\":{\"aaxis\":{\"gridcolor\":\"#DFE8F3\",\"linecolor\":\"#A2B1C6\",\"ticks\":\"\"},\"baxis\":{\"gridcolor\":\"#DFE8F3\",\"linecolor\":\"#A2B1C6\",\"ticks\":\"\"},\"bgcolor\":\"white\",\"caxis\":{\"gridcolor\":\"#DFE8F3\",\"linecolor\":\"#A2B1C6\",\"ticks\":\"\"}},\"title\":{\"x\":0.05},\"xaxis\":{\"automargin\":true,\"gridcolor\":\"#EBF0F8\",\"linecolor\":\"#EBF0F8\",\"ticks\":\"\",\"title\":{\"standoff\":15},\"zerolinecolor\":\"#EBF0F8\",\"zerolinewidth\":2},\"yaxis\":{\"automargin\":true,\"gridcolor\":\"#EBF0F8\",\"linecolor\":\"#EBF0F8\",\"ticks\":\"\",\"title\":{\"standoff\":15},\"zerolinecolor\":\"#EBF0F8\",\"zerolinewidth\":2}}},\"title\":{\"font\":{\"size\":22,\"color\":\"Black\"},\"text\":\"\\u003cb\\u003eHierarchical Clustering\\u003c\\u002fb\\u003e\",\"x\":0.5,\"xanchor\":\"center\",\"yanchor\":\"top\"},\"hoverlabel\":{\"font\":{\"size\":16,\"family\":\"Rockwell\"},\"bgcolor\":\"white\"},\"plot_bgcolor\":\"#ECEFF1\"},                        {\"responsive\": true}                    ).then(function(){\n",
              "                            \n",
              "var gd = document.getElementById('f095b514-6290-44a9-8c03-41b5734ad082');\n",
              "var x = new MutationObserver(function (mutations, observer) {{\n",
              "        var display = window.getComputedStyle(gd).display;\n",
              "        if (!display || display === 'none') {{\n",
              "            console.log([gd, 'removed!']);\n",
              "            Plotly.purge(gd);\n",
              "            observer.disconnect();\n",
              "        }}\n",
              "}});\n",
              "\n",
              "// Listen for the removal of the full notebook cells\n",
              "var notebookContainer = gd.closest('#notebook-container');\n",
              "if (notebookContainer) {{\n",
              "    x.observe(notebookContainer, {childList: true});\n",
              "}}\n",
              "\n",
              "// Listen for the clearing of the current output cell\n",
              "var outputEl = gd.closest('.output');\n",
              "if (outputEl) {{\n",
              "    x.observe(outputEl, {childList: true});\n",
              "}}\n",
              "\n",
              "                        })                };                            </script>        </div>\n",
              "</body>\n",
              "</html>"
            ]
          },
          "metadata": {}
        }
      ]
    },
    {
      "cell_type": "markdown",
      "source": [
        "## **Question 3 (Alternative) - (10 points)**\n",
        "\n",
        "If you are unable to do the topic modeling using lda2vec, do the alternate question.\n",
        "\n",
        "Provide atleast 3 visualization for the topics generated by the BERTopic or LDA model. Explain each of the visualization in detail."
      ],
      "metadata": {
        "id": "Wslk2SYHML8t"
      }
    },
    {
      "cell_type": "code",
      "source": [
        "# Visualize bar chart of the top N topics\n",
        "topic_model.visualize_barchart(top_n_topics=5)\n",
        "\n"
      ],
      "metadata": {
        "colab": {
          "base_uri": "https://localhost:8080/",
          "height": 517
        },
        "id": "GtzM3uVNJbn_",
        "outputId": "56ee87e3-e8b8-42e4-c90f-cb00de9f2d4f"
      },
      "execution_count": null,
      "outputs": [
        {
          "output_type": "display_data",
          "data": {
            "text/html": [
              "<html>\n",
              "<head><meta charset=\"utf-8\" /></head>\n",
              "<body>\n",
              "    <div>            <script src=\"https://cdnjs.cloudflare.com/ajax/libs/mathjax/2.7.5/MathJax.js?config=TeX-AMS-MML_SVG\"></script><script type=\"text/javascript\">if (window.MathJax && window.MathJax.Hub && window.MathJax.Hub.Config) {window.MathJax.Hub.Config({SVG: {font: \"STIX-Web\"}});}</script>                <script type=\"text/javascript\">window.PlotlyConfig = {MathJaxConfig: 'local'};</script>\n",
              "        <script charset=\"utf-8\" src=\"https://cdn.plot.ly/plotly-2.35.2.min.js\"></script>                <div id=\"19b330cd-2910-4426-86e4-6f1c804eaea7\" class=\"plotly-graph-div\" style=\"height:500px; width:1000px;\"></div>            <script type=\"text/javascript\">                                    window.PLOTLYENV=window.PLOTLYENV || {};                                    if (document.getElementById(\"19b330cd-2910-4426-86e4-6f1c804eaea7\")) {                    Plotly.newPlot(                        \"19b330cd-2910-4426-86e4-6f1c804eaea7\",                        [{\"marker\":{\"color\":\"#D55E00\"},\"orientation\":\"h\",\"x\":[0.01418108769318291,0.015029023031795173,0.015927232831712636,0.023485692331880657,0.02456458489581739],\"y\":[\"case  \",\"crime  \",\"strike  \",\"detective  \",\"murder  \"],\"type\":\"bar\",\"xaxis\":\"x\",\"yaxis\":\"y\"},{\"marker\":{\"color\":\"#0072B2\"},\"orientation\":\"h\",\"x\":[0.02048331943635841,0.029560919049546105,0.031050624231779234,0.032470647639911955,0.059627428305422794],\"y\":[\"ingredients  \",\"food  \",\"cooking  \",\"cookbook  \",\"recipes  \"],\"type\":\"bar\",\"xaxis\":\"x2\",\"yaxis\":\"y2\"},{\"marker\":{\"color\":\"#CC79A7\"},\"orientation\":\"h\",\"x\":[0.01613412065552079,0.016366082817095128,0.016410457154902285,0.01743611072708368,0.02355025615343994],\"y\":[\"throne  \",\"prince  \",\"kingdom  \",\"court  \",\"queen  \"],\"type\":\"bar\",\"xaxis\":\"x3\",\"yaxis\":\"y3\"},{\"marker\":{\"color\":\"#E69F00\"},\"orientation\":\"h\",\"x\":[0.0200673480834012,0.020274857979272993,0.03059723532664593,0.04478595524507813,0.05775778258577442],\"y\":[\"poem  \",\"shakespeare  \",\"collection  \",\"poetry  \",\"poems  \"],\"type\":\"bar\",\"xaxis\":\"x4\",\"yaxis\":\"y4\"},{\"marker\":{\"color\":\"#56B4E9\"},\"orientation\":\"h\",\"x\":[0.017461316266364085,0.020889720069779294,0.025741395344945586,0.026167447860175486,0.02947015274686729],\"y\":[\"one  \",\"hes  \",\"football  \",\"fantasy  \",\"sports  \"],\"type\":\"bar\",\"xaxis\":\"x5\",\"yaxis\":\"y5\"}],                        {\"template\":{\"data\":{\"barpolar\":[{\"marker\":{\"line\":{\"color\":\"white\",\"width\":0.5},\"pattern\":{\"fillmode\":\"overlay\",\"size\":10,\"solidity\":0.2}},\"type\":\"barpolar\"}],\"bar\":[{\"error_x\":{\"color\":\"#2a3f5f\"},\"error_y\":{\"color\":\"#2a3f5f\"},\"marker\":{\"line\":{\"color\":\"white\",\"width\":0.5},\"pattern\":{\"fillmode\":\"overlay\",\"size\":10,\"solidity\":0.2}},\"type\":\"bar\"}],\"carpet\":[{\"aaxis\":{\"endlinecolor\":\"#2a3f5f\",\"gridcolor\":\"#C8D4E3\",\"linecolor\":\"#C8D4E3\",\"minorgridcolor\":\"#C8D4E3\",\"startlinecolor\":\"#2a3f5f\"},\"baxis\":{\"endlinecolor\":\"#2a3f5f\",\"gridcolor\":\"#C8D4E3\",\"linecolor\":\"#C8D4E3\",\"minorgridcolor\":\"#C8D4E3\",\"startlinecolor\":\"#2a3f5f\"},\"type\":\"carpet\"}],\"choropleth\":[{\"colorbar\":{\"outlinewidth\":0,\"ticks\":\"\"},\"type\":\"choropleth\"}],\"contourcarpet\":[{\"colorbar\":{\"outlinewidth\":0,\"ticks\":\"\"},\"type\":\"contourcarpet\"}],\"contour\":[{\"colorbar\":{\"outlinewidth\":0,\"ticks\":\"\"},\"colorscale\":[[0.0,\"#0d0887\"],[0.1111111111111111,\"#46039f\"],[0.2222222222222222,\"#7201a8\"],[0.3333333333333333,\"#9c179e\"],[0.4444444444444444,\"#bd3786\"],[0.5555555555555556,\"#d8576b\"],[0.6666666666666666,\"#ed7953\"],[0.7777777777777778,\"#fb9f3a\"],[0.8888888888888888,\"#fdca26\"],[1.0,\"#f0f921\"]],\"type\":\"contour\"}],\"heatmapgl\":[{\"colorbar\":{\"outlinewidth\":0,\"ticks\":\"\"},\"colorscale\":[[0.0,\"#0d0887\"],[0.1111111111111111,\"#46039f\"],[0.2222222222222222,\"#7201a8\"],[0.3333333333333333,\"#9c179e\"],[0.4444444444444444,\"#bd3786\"],[0.5555555555555556,\"#d8576b\"],[0.6666666666666666,\"#ed7953\"],[0.7777777777777778,\"#fb9f3a\"],[0.8888888888888888,\"#fdca26\"],[1.0,\"#f0f921\"]],\"type\":\"heatmapgl\"}],\"heatmap\":[{\"colorbar\":{\"outlinewidth\":0,\"ticks\":\"\"},\"colorscale\":[[0.0,\"#0d0887\"],[0.1111111111111111,\"#46039f\"],[0.2222222222222222,\"#7201a8\"],[0.3333333333333333,\"#9c179e\"],[0.4444444444444444,\"#bd3786\"],[0.5555555555555556,\"#d8576b\"],[0.6666666666666666,\"#ed7953\"],[0.7777777777777778,\"#fb9f3a\"],[0.8888888888888888,\"#fdca26\"],[1.0,\"#f0f921\"]],\"type\":\"heatmap\"}],\"histogram2dcontour\":[{\"colorbar\":{\"outlinewidth\":0,\"ticks\":\"\"},\"colorscale\":[[0.0,\"#0d0887\"],[0.1111111111111111,\"#46039f\"],[0.2222222222222222,\"#7201a8\"],[0.3333333333333333,\"#9c179e\"],[0.4444444444444444,\"#bd3786\"],[0.5555555555555556,\"#d8576b\"],[0.6666666666666666,\"#ed7953\"],[0.7777777777777778,\"#fb9f3a\"],[0.8888888888888888,\"#fdca26\"],[1.0,\"#f0f921\"]],\"type\":\"histogram2dcontour\"}],\"histogram2d\":[{\"colorbar\":{\"outlinewidth\":0,\"ticks\":\"\"},\"colorscale\":[[0.0,\"#0d0887\"],[0.1111111111111111,\"#46039f\"],[0.2222222222222222,\"#7201a8\"],[0.3333333333333333,\"#9c179e\"],[0.4444444444444444,\"#bd3786\"],[0.5555555555555556,\"#d8576b\"],[0.6666666666666666,\"#ed7953\"],[0.7777777777777778,\"#fb9f3a\"],[0.8888888888888888,\"#fdca26\"],[1.0,\"#f0f921\"]],\"type\":\"histogram2d\"}],\"histogram\":[{\"marker\":{\"pattern\":{\"fillmode\":\"overlay\",\"size\":10,\"solidity\":0.2}},\"type\":\"histogram\"}],\"mesh3d\":[{\"colorbar\":{\"outlinewidth\":0,\"ticks\":\"\"},\"type\":\"mesh3d\"}],\"parcoords\":[{\"line\":{\"colorbar\":{\"outlinewidth\":0,\"ticks\":\"\"}},\"type\":\"parcoords\"}],\"pie\":[{\"automargin\":true,\"type\":\"pie\"}],\"scatter3d\":[{\"line\":{\"colorbar\":{\"outlinewidth\":0,\"ticks\":\"\"}},\"marker\":{\"colorbar\":{\"outlinewidth\":0,\"ticks\":\"\"}},\"type\":\"scatter3d\"}],\"scattercarpet\":[{\"marker\":{\"colorbar\":{\"outlinewidth\":0,\"ticks\":\"\"}},\"type\":\"scattercarpet\"}],\"scattergeo\":[{\"marker\":{\"colorbar\":{\"outlinewidth\":0,\"ticks\":\"\"}},\"type\":\"scattergeo\"}],\"scattergl\":[{\"marker\":{\"colorbar\":{\"outlinewidth\":0,\"ticks\":\"\"}},\"type\":\"scattergl\"}],\"scattermapbox\":[{\"marker\":{\"colorbar\":{\"outlinewidth\":0,\"ticks\":\"\"}},\"type\":\"scattermapbox\"}],\"scatterpolargl\":[{\"marker\":{\"colorbar\":{\"outlinewidth\":0,\"ticks\":\"\"}},\"type\":\"scatterpolargl\"}],\"scatterpolar\":[{\"marker\":{\"colorbar\":{\"outlinewidth\":0,\"ticks\":\"\"}},\"type\":\"scatterpolar\"}],\"scatter\":[{\"fillpattern\":{\"fillmode\":\"overlay\",\"size\":10,\"solidity\":0.2},\"type\":\"scatter\"}],\"scatterternary\":[{\"marker\":{\"colorbar\":{\"outlinewidth\":0,\"ticks\":\"\"}},\"type\":\"scatterternary\"}],\"surface\":[{\"colorbar\":{\"outlinewidth\":0,\"ticks\":\"\"},\"colorscale\":[[0.0,\"#0d0887\"],[0.1111111111111111,\"#46039f\"],[0.2222222222222222,\"#7201a8\"],[0.3333333333333333,\"#9c179e\"],[0.4444444444444444,\"#bd3786\"],[0.5555555555555556,\"#d8576b\"],[0.6666666666666666,\"#ed7953\"],[0.7777777777777778,\"#fb9f3a\"],[0.8888888888888888,\"#fdca26\"],[1.0,\"#f0f921\"]],\"type\":\"surface\"}],\"table\":[{\"cells\":{\"fill\":{\"color\":\"#EBF0F8\"},\"line\":{\"color\":\"white\"}},\"header\":{\"fill\":{\"color\":\"#C8D4E3\"},\"line\":{\"color\":\"white\"}},\"type\":\"table\"}]},\"layout\":{\"annotationdefaults\":{\"arrowcolor\":\"#2a3f5f\",\"arrowhead\":0,\"arrowwidth\":1},\"autotypenumbers\":\"strict\",\"coloraxis\":{\"colorbar\":{\"outlinewidth\":0,\"ticks\":\"\"}},\"colorscale\":{\"diverging\":[[0,\"#8e0152\"],[0.1,\"#c51b7d\"],[0.2,\"#de77ae\"],[0.3,\"#f1b6da\"],[0.4,\"#fde0ef\"],[0.5,\"#f7f7f7\"],[0.6,\"#e6f5d0\"],[0.7,\"#b8e186\"],[0.8,\"#7fbc41\"],[0.9,\"#4d9221\"],[1,\"#276419\"]],\"sequential\":[[0.0,\"#0d0887\"],[0.1111111111111111,\"#46039f\"],[0.2222222222222222,\"#7201a8\"],[0.3333333333333333,\"#9c179e\"],[0.4444444444444444,\"#bd3786\"],[0.5555555555555556,\"#d8576b\"],[0.6666666666666666,\"#ed7953\"],[0.7777777777777778,\"#fb9f3a\"],[0.8888888888888888,\"#fdca26\"],[1.0,\"#f0f921\"]],\"sequentialminus\":[[0.0,\"#0d0887\"],[0.1111111111111111,\"#46039f\"],[0.2222222222222222,\"#7201a8\"],[0.3333333333333333,\"#9c179e\"],[0.4444444444444444,\"#bd3786\"],[0.5555555555555556,\"#d8576b\"],[0.6666666666666666,\"#ed7953\"],[0.7777777777777778,\"#fb9f3a\"],[0.8888888888888888,\"#fdca26\"],[1.0,\"#f0f921\"]]},\"colorway\":[\"#636efa\",\"#EF553B\",\"#00cc96\",\"#ab63fa\",\"#FFA15A\",\"#19d3f3\",\"#FF6692\",\"#B6E880\",\"#FF97FF\",\"#FECB52\"],\"font\":{\"color\":\"#2a3f5f\"},\"geo\":{\"bgcolor\":\"white\",\"lakecolor\":\"white\",\"landcolor\":\"white\",\"showlakes\":true,\"showland\":true,\"subunitcolor\":\"#C8D4E3\"},\"hoverlabel\":{\"align\":\"left\"},\"hovermode\":\"closest\",\"mapbox\":{\"style\":\"light\"},\"paper_bgcolor\":\"white\",\"plot_bgcolor\":\"white\",\"polar\":{\"angularaxis\":{\"gridcolor\":\"#EBF0F8\",\"linecolor\":\"#EBF0F8\",\"ticks\":\"\"},\"bgcolor\":\"white\",\"radialaxis\":{\"gridcolor\":\"#EBF0F8\",\"linecolor\":\"#EBF0F8\",\"ticks\":\"\"}},\"scene\":{\"xaxis\":{\"backgroundcolor\":\"white\",\"gridcolor\":\"#DFE8F3\",\"gridwidth\":2,\"linecolor\":\"#EBF0F8\",\"showbackground\":true,\"ticks\":\"\",\"zerolinecolor\":\"#EBF0F8\"},\"yaxis\":{\"backgroundcolor\":\"white\",\"gridcolor\":\"#DFE8F3\",\"gridwidth\":2,\"linecolor\":\"#EBF0F8\",\"showbackground\":true,\"ticks\":\"\",\"zerolinecolor\":\"#EBF0F8\"},\"zaxis\":{\"backgroundcolor\":\"white\",\"gridcolor\":\"#DFE8F3\",\"gridwidth\":2,\"linecolor\":\"#EBF0F8\",\"showbackground\":true,\"ticks\":\"\",\"zerolinecolor\":\"#EBF0F8\"}},\"shapedefaults\":{\"line\":{\"color\":\"#2a3f5f\"}},\"ternary\":{\"aaxis\":{\"gridcolor\":\"#DFE8F3\",\"linecolor\":\"#A2B1C6\",\"ticks\":\"\"},\"baxis\":{\"gridcolor\":\"#DFE8F3\",\"linecolor\":\"#A2B1C6\",\"ticks\":\"\"},\"bgcolor\":\"white\",\"caxis\":{\"gridcolor\":\"#DFE8F3\",\"linecolor\":\"#A2B1C6\",\"ticks\":\"\"}},\"title\":{\"x\":0.05},\"xaxis\":{\"automargin\":true,\"gridcolor\":\"#EBF0F8\",\"linecolor\":\"#EBF0F8\",\"ticks\":\"\",\"title\":{\"standoff\":15},\"zerolinecolor\":\"#EBF0F8\",\"zerolinewidth\":2},\"yaxis\":{\"automargin\":true,\"gridcolor\":\"#EBF0F8\",\"linecolor\":\"#EBF0F8\",\"ticks\":\"\",\"title\":{\"standoff\":15},\"zerolinecolor\":\"#EBF0F8\",\"zerolinewidth\":2}}},\"xaxis\":{\"anchor\":\"y\",\"domain\":[0.0,0.175],\"showgrid\":true},\"yaxis\":{\"anchor\":\"x\",\"domain\":[0.6000000000000001,1.0],\"showgrid\":true},\"xaxis2\":{\"anchor\":\"y2\",\"domain\":[0.275,0.45],\"showgrid\":true},\"yaxis2\":{\"anchor\":\"x2\",\"domain\":[0.6000000000000001,1.0],\"showgrid\":true},\"xaxis3\":{\"anchor\":\"y3\",\"domain\":[0.55,0.7250000000000001],\"showgrid\":true},\"yaxis3\":{\"anchor\":\"x3\",\"domain\":[0.6000000000000001,1.0],\"showgrid\":true},\"xaxis4\":{\"anchor\":\"y4\",\"domain\":[0.825,1.0],\"showgrid\":true},\"yaxis4\":{\"anchor\":\"x4\",\"domain\":[0.6000000000000001,1.0],\"showgrid\":true},\"xaxis5\":{\"anchor\":\"y5\",\"domain\":[0.0,0.175],\"showgrid\":true},\"yaxis5\":{\"anchor\":\"x5\",\"domain\":[0.0,0.4],\"showgrid\":true},\"xaxis6\":{\"anchor\":\"y6\",\"domain\":[0.275,0.45],\"showgrid\":true},\"yaxis6\":{\"anchor\":\"x6\",\"domain\":[0.0,0.4],\"showgrid\":true},\"xaxis7\":{\"anchor\":\"y7\",\"domain\":[0.55,0.7250000000000001],\"showgrid\":true},\"yaxis7\":{\"anchor\":\"x7\",\"domain\":[0.0,0.4],\"showgrid\":true},\"xaxis8\":{\"anchor\":\"y8\",\"domain\":[0.825,1.0],\"showgrid\":true},\"yaxis8\":{\"anchor\":\"x8\",\"domain\":[0.0,0.4],\"showgrid\":true},\"annotations\":[{\"font\":{\"size\":16},\"showarrow\":false,\"text\":\"Topic 0\",\"x\":0.0875,\"xanchor\":\"center\",\"xref\":\"paper\",\"y\":1.0,\"yanchor\":\"bottom\",\"yref\":\"paper\"},{\"font\":{\"size\":16},\"showarrow\":false,\"text\":\"Topic 1\",\"x\":0.36250000000000004,\"xanchor\":\"center\",\"xref\":\"paper\",\"y\":1.0,\"yanchor\":\"bottom\",\"yref\":\"paper\"},{\"font\":{\"size\":16},\"showarrow\":false,\"text\":\"Topic 2\",\"x\":0.6375000000000001,\"xanchor\":\"center\",\"xref\":\"paper\",\"y\":1.0,\"yanchor\":\"bottom\",\"yref\":\"paper\"},{\"font\":{\"size\":16},\"showarrow\":false,\"text\":\"Topic 3\",\"x\":0.9125,\"xanchor\":\"center\",\"xref\":\"paper\",\"y\":1.0,\"yanchor\":\"bottom\",\"yref\":\"paper\"},{\"font\":{\"size\":16},\"showarrow\":false,\"text\":\"Topic 4\",\"x\":0.0875,\"xanchor\":\"center\",\"xref\":\"paper\",\"y\":0.4,\"yanchor\":\"bottom\",\"yref\":\"paper\"}],\"title\":{\"font\":{\"size\":22,\"color\":\"Black\"},\"text\":\"Topic Word Scores\",\"x\":0.5,\"xanchor\":\"center\",\"yanchor\":\"top\"},\"hoverlabel\":{\"font\":{\"size\":16,\"family\":\"Rockwell\"},\"bgcolor\":\"white\"},\"showlegend\":false,\"width\":1000,\"height\":500},                        {\"responsive\": true}                    ).then(function(){\n",
              "                            \n",
              "var gd = document.getElementById('19b330cd-2910-4426-86e4-6f1c804eaea7');\n",
              "var x = new MutationObserver(function (mutations, observer) {{\n",
              "        var display = window.getComputedStyle(gd).display;\n",
              "        if (!display || display === 'none') {{\n",
              "            console.log([gd, 'removed!']);\n",
              "            Plotly.purge(gd);\n",
              "            observer.disconnect();\n",
              "        }}\n",
              "}});\n",
              "\n",
              "// Listen for the removal of the full notebook cells\n",
              "var notebookContainer = gd.closest('#notebook-container');\n",
              "if (notebookContainer) {{\n",
              "    x.observe(notebookContainer, {childList: true});\n",
              "}}\n",
              "\n",
              "// Listen for the clearing of the current output cell\n",
              "var outputEl = gd.closest('.output');\n",
              "if (outputEl) {{\n",
              "    x.observe(outputEl, {childList: true});\n",
              "}}\n",
              "\n",
              "                        })                };                            </script>        </div>\n",
              "</body>\n",
              "</html>"
            ]
          },
          "metadata": {}
        }
      ]
    },
    {
      "cell_type": "markdown",
      "source": [
        "The command generates bar charts that displays the top N topics based on their prominence or frequency. By specifying top_n_topics=5, we are visualizing the five most significant topics identified by the model. This visualization helps to quickly understand which topics are the most prevalent in the dataset, allowing you to see their relative importance and how they compare to each other in terms of the number of documents associated with each topic."
      ],
      "metadata": {
        "id": "uyPxYNCe-_kK"
      }
    },
    {
      "cell_type": "code",
      "source": [
        "# Visualize heatmap\n",
        "topic_model.visualize_heatmap(n_clusters=20, width=1000, height=1000)\n",
        "\n"
      ],
      "metadata": {
        "colab": {
          "base_uri": "https://localhost:8080/",
          "height": 1000
        },
        "id": "UJDcepkNJeaU",
        "outputId": "34e5676c-0284-4bc0-c7ff-7b3c33961b30"
      },
      "execution_count": null,
      "outputs": [
        {
          "output_type": "display_data",
          "data": {
            "text/html": [
              "<html>\n",
              "<head><meta charset=\"utf-8\" /></head>\n",
              "<body>\n",
              "    <div>            <script src=\"https://cdnjs.cloudflare.com/ajax/libs/mathjax/2.7.5/MathJax.js?config=TeX-AMS-MML_SVG\"></script><script type=\"text/javascript\">if (window.MathJax && window.MathJax.Hub && window.MathJax.Hub.Config) {window.MathJax.Hub.Config({SVG: {font: \"STIX-Web\"}});}</script>                <script type=\"text/javascript\">window.PlotlyConfig = {MathJaxConfig: 'local'};</script>\n",
              "        <script charset=\"utf-8\" src=\"https://cdn.plot.ly/plotly-2.35.2.min.js\"></script>                <div id=\"2dbb745e-b3bd-4765-8021-c6739fd4a18e\" class=\"plotly-graph-div\" style=\"height:1000px; width:1000px;\"></div>            <script type=\"text/javascript\">                                    window.PLOTLYENV=window.PLOTLYENV || {};                                    if (document.getElementById(\"2dbb745e-b3bd-4765-8021-c6739fd4a18e\")) {                    Plotly.newPlot(                        \"2dbb745e-b3bd-4765-8021-c6739fd4a18e\",                        [{\"coloraxis\":\"coloraxis\",\"name\":\"0\",\"x\":[\"0_murder_detective_strike\",\"8_shes_becky_bloomwood\",\"17_allie_mother_secrets\",\"19_carson_shack_husband\",\"1_recipes_cookbook_cooking\",\"2_queen_court_kingdom\",\"11_magic_parabatai_queens\",\"3_poems_poetry_collection\",\"6_art_artists_creativity\",\"4_sports_fantasy_football\",\"31_knows_hes_alien\",\"37_rock_show_jared\",\"5_life_happiness_anxiety\",\"10_sleep_people_walker\",\"7_american_lincoln_political\",\"21_war_military_bacevich\",\"9_science_universe_scientific\",\"34_jobs_malcolm_isaacson\",\"12_author_life_new\",\"27_ss_cavalier_shift\",\"13_religion_christianity_re...\",\"30_jesus_christian_bible\",\"14_saga_minecraft_diary\",\"24_crayons_beginner_seuss\",\"15_batman_marvel_superman\",\"18_dracula_clary_ace\",\"16_music_physics_jazz\",\"28_rock_music_duran\",\"20_children_patch_peculiar\",\"35_raven_blue_boys\",\"22_basket_fruits_sohma\",\"23_startup_fundraising_busi...\",\"25_enough_greatly_daring\",\"26_madlen_psychopath_hospital\",\"29_kaling_youre_dating\",\"32_wedding_chinese_brides\",\"38_mr_jane_guernsey\",\"33_greek_iliad_literature\",\"36_harry_potter_hogwarts\"],\"y\":[\"0_murder_detective_strike\",\"8_shes_becky_bloomwood\",\"17_allie_mother_secrets\",\"19_carson_shack_husband\",\"1_recipes_cookbook_cooking\",\"2_queen_court_kingdom\",\"11_magic_parabatai_queens\",\"3_poems_poetry_collection\",\"6_art_artists_creativity\",\"4_sports_fantasy_football\",\"31_knows_hes_alien\",\"37_rock_show_jared\",\"5_life_happiness_anxiety\",\"10_sleep_people_walker\",\"7_american_lincoln_political\",\"21_war_military_bacevich\",\"9_science_universe_scientific\",\"34_jobs_malcolm_isaacson\",\"12_author_life_new\",\"27_ss_cavalier_shift\",\"13_religion_christianity_re...\",\"30_jesus_christian_bible\",\"14_saga_minecraft_diary\",\"24_crayons_beginner_seuss\",\"15_batman_marvel_superman\",\"18_dracula_clary_ace\",\"16_music_physics_jazz\",\"28_rock_music_duran\",\"20_children_patch_peculiar\",\"35_raven_blue_boys\",\"22_basket_fruits_sohma\",\"23_startup_fundraising_busi...\",\"25_enough_greatly_daring\",\"26_madlen_psychopath_hospital\",\"29_kaling_youre_dating\",\"32_wedding_chinese_brides\",\"38_mr_jane_guernsey\",\"33_greek_iliad_literature\",\"36_harry_potter_hogwarts\"],\"z\":[[1.0000001,0.7120042,0.76629966,0.77153575,0.28411567,0.6592263,0.7070848,0.53745,0.51299405,0.64572406,0.61376023,0.5408187,0.5047534,0.492814,0.5133195,0.64707077,0.48599765,0.5322739,0.69411564,0.66498923,0.40721667,0.39514852,0.5935234,0.5214888,0.6176933,0.6408222,0.50255346,0.5265305,0.6968632,0.6407844,0.4191532,0.4026218,0.59896386,0.69605184,0.5965518,0.54319847,0.61762345,0.39982367,0.40584457],[0.7120042,0.9999999,0.76914287,0.766193,0.43450162,0.63420737,0.69235283,0.6015962,0.6302911,0.74342996,0.7748841,0.75157857,0.5429851,0.5343566,0.47492135,0.420146,0.4314264,0.4990099,0.7566627,0.6406925,0.35610586,0.32578528,0.6365341,0.6756109,0.514961,0.48957193,0.5564474,0.5787208,0.705501,0.66810256,0.5884459,0.45590726,0.6863128,0.6581079,0.7263341,0.7327442,0.6246171,0.39245182,0.37950015],[0.76629966,0.76914287,0.99999976,0.808725,0.31853542,0.5935352,0.60461354,0.5844612,0.499351,0.64114845,0.641295,0.5585046,0.54376674,0.48326176,0.49668264,0.51225376,0.45091254,0.5265765,0.72678214,0.5559613,0.43772757,0.37409693,0.59136915,0.5979146,0.5202099,0.5261473,0.49310744,0.46680725,0.7253578,0.6756228,0.43939918,0.33123147,0.6507579,0.71541786,0.60534126,0.6009746,0.64079505,0.36624753,0.39212197],[0.77153575,0.766193,0.808725,0.9999999,0.32343277,0.59076905,0.6136036,0.5926904,0.5298585,0.5917249,0.61650574,0.6144195,0.5669437,0.44960976,0.4574754,0.5345663,0.40385365,0.54376686,0.8222625,0.58785903,0.41821134,0.40751576,0.6451256,0.5492361,0.51933086,0.60328424,0.5357227,0.51534855,0.69039893,0.6298312,0.36208472,0.3481685,0.65057755,0.71120703,0.60856336,0.609525,0.6340063,0.40767562,0.286989],[0.28411567,0.43450162,0.31853542,0.32343277,1.0,0.26753628,0.27707484,0.36923188,0.418787,0.3965867,0.2963586,0.43864137,0.4325438,0.505934,0.38748232,0.24591538,0.31322134,0.24553677,0.4686516,0.4812553,0.22665423,0.2636266,0.26510906,0.444202,0.24006534,0.30192474,0.3697924,0.2903257,0.22648573,0.21631846,0.33482814,0.40428123,0.36148602,0.33033854,0.47944874,0.55046576,0.32675135,0.29053092,0.16938485],[0.6592263,0.63420737,0.5935352,0.59076905,0.26753628,0.99999964,0.8111969,0.6455812,0.5337958,0.6027927,0.5968543,0.49208665,0.5359459,0.45671827,0.5227656,0.5645324,0.5562256,0.51210016,0.5957298,0.66703576,0.45504767,0.5380217,0.57870585,0.5817182,0.5762062,0.6083517,0.541324,0.44498366,0.6955256,0.67667633,0.5701891,0.3963982,0.6251329,0.5623004,0.53088385,0.5811723,0.51222605,0.622344,0.43076882],[0.7070848,0.69235283,0.60461354,0.6136036,0.27707484,0.8111969,1.0,0.5811239,0.53451127,0.6224699,0.6866596,0.6085849,0.55038166,0.4407737,0.38762563,0.50985706,0.49187055,0.42039025,0.5425867,0.6272367,0.44105005,0.47603434,0.64447296,0.6069217,0.649915,0.73284763,0.53819644,0.5463697,0.7563721,0.69957376,0.55309606,0.34625536,0.6135216,0.61920327,0.5791171,0.5002379,0.43837675,0.48420817,0.50539696],[0.53745,0.6015962,0.5844612,0.5926904,0.36923188,0.6455812,0.5811239,1.0000001,0.68479514,0.52834094,0.5277647,0.4721995,0.67198336,0.5223501,0.5735569,0.52811944,0.5344243,0.5244184,0.63016087,0.6523968,0.50532264,0.60462666,0.5213984,0.6666437,0.4660166,0.4907906,0.69391704,0.5239214,0.58828676,0.5723678,0.42346525,0.40091383,0.7197298,0.6143116,0.58353186,0.56354845,0.50812316,0.63456076,0.26075333],[0.51299405,0.6302911,0.499351,0.5298585,0.418787,0.5337958,0.53451127,0.68479514,0.99999994,0.49785686,0.47383082,0.46042866,0.6171136,0.63536483,0.5188832,0.37696546,0.5277859,0.57045627,0.62158096,0.6177923,0.41181925,0.40454328,0.5300806,0.61557186,0.5200559,0.4761243,0.643633,0.45064303,0.5208658,0.48724437,0.4086047,0.5181998,0.64308,0.57453865,0.5250423,0.5546802,0.49416333,0.5600908,0.26434374],[0.64572406,0.74342996,0.64114845,0.5917249,0.3965867,0.6027927,0.6224699,0.52834094,0.49785686,1.0,0.7669941,0.7025706,0.48692527,0.5423695,0.5388068,0.46396878,0.45055068,0.5279753,0.57961005,0.6421989,0.32603222,0.3679505,0.5205079,0.57632005,0.50491875,0.46177113,0.5440669,0.577522,0.5422353,0.5295998,0.5099537,0.4619428,0.61362636,0.52984977,0.6798439,0.5723961,0.47845858,0.43129477,0.36309224],[0.61376023,0.7748841,0.641295,0.61650574,0.2963586,0.5968543,0.6866596,0.5277647,0.47383082,0.7669941,0.9999998,0.76784456,0.45864576,0.411812,0.38994637,0.38514173,0.39082563,0.4512412,0.53654116,0.5750248,0.30908617,0.35491842,0.61549646,0.62345827,0.50306475,0.46428293,0.6124561,0.6560125,0.63103056,0.607399,0.5697057,0.34141204,0.5854282,0.53495145,0.6239146,0.56379855,0.39550096,0.3752483,0.3793034],[0.5408187,0.75157857,0.5585046,0.6144195,0.43864137,0.49208665,0.6085849,0.4721995,0.46042866,0.7025706,0.76784456,0.99999964,0.46000674,0.4582684,0.38269752,0.34672463,0.3274577,0.36134046,0.5691668,0.52197635,0.2558258,0.31513283,0.5062961,0.51478755,0.35820597,0.48141643,0.6368785,0.7199879,0.5127854,0.5213177,0.40045166,0.4051273,0.5353451,0.47550207,0.6441803,0.53788865,0.37533116,0.28554186,0.24091959],[0.5047534,0.5429851,0.54376674,0.5669437,0.4325438,0.5359459,0.55038166,0.67198336,0.6171136,0.48692527,0.45864576,0.46000674,0.9999998,0.8142493,0.56297076,0.48628885,0.6427297,0.54293036,0.60946816,0.58508724,0.6270086,0.6249838,0.43099225,0.502859,0.4027453,0.47569495,0.6175451,0.45819646,0.46963382,0.5261891,0.37470335,0.57717884,0.78322685,0.7298778,0.6851844,0.41059163,0.41316903,0.4606948,0.2832533],[0.492814,0.5343566,0.48326176,0.44960976,0.505934,0.45671827,0.4407737,0.5223501,0.63536483,0.5423695,0.411812,0.4582684,0.8142493,1.0000002,0.63887966,0.47120494,0.6823946,0.65059257,0.53653306,0.6157522,0.5039959,0.4635306,0.370313,0.43989354,0.42247015,0.36827198,0.5449552,0.439587,0.3365656,0.4298736,0.3554176,0.7576935,0.6415867,0.60626525,0.64618766,0.41844994,0.37135214,0.4053792,0.26954538],[0.5133195,0.47492135,0.49668264,0.4574754,0.38748232,0.5227656,0.38762563,0.5735569,0.5188832,0.5388068,0.38994637,0.38269752,0.56297076,0.63887966,0.9999999,0.6436201,0.6027391,0.55500627,0.6240401,0.673494,0.46593916,0.54274863,0.3105523,0.39426726,0.4505658,0.34061044,0.5647267,0.4883516,0.34342802,0.3420502,0.20412755,0.601074,0.5500672,0.4934701,0.48829848,0.47370678,0.41718486,0.48193565,0.13889526],[0.64707077,0.420146,0.51225376,0.5345663,0.24591538,0.5645324,0.50985706,0.52811944,0.37696546,0.46396878,0.38514173,0.34672463,0.48628885,0.47120494,0.6436201,1.0,0.5075864,0.5213103,0.53645074,0.67287904,0.41062108,0.4805682,0.4285584,0.4021274,0.45310712,0.4561609,0.46887922,0.46460587,0.51826835,0.43490636,0.21780121,0.38997662,0.47122374,0.54681003,0.44233385,0.3731987,0.34707624,0.45558077,0.24695745],[0.48599765,0.4314264,0.45091254,0.40385365,0.31322134,0.5562256,0.49187055,0.5344243,0.5277859,0.45055068,0.39082563,0.3274577,0.6427297,0.6823946,0.6027391,0.5075864,0.99999976,0.56273246,0.44920185,0.5626178,0.60248977,0.5255546,0.5221077,0.4739457,0.5098368,0.4162773,0.528947,0.40708166,0.4257453,0.45623422,0.30271435,0.5043289,0.5504348,0.49862766,0.4623617,0.3438144,0.3456459,0.49403083,0.25790057],[0.5322739,0.4990099,0.5265765,0.54376686,0.24553677,0.51210016,0.42039025,0.5244184,0.57045627,0.5279753,0.4512412,0.36134046,0.54293036,0.65059257,0.55500627,0.5213103,0.56273246,1.0000001,0.50831413,0.5375414,0.5136372,0.41208413,0.5141705,0.4429256,0.47205713,0.4251952,0.5372678,0.4274581,0.39943522,0.41121954,0.36840454,0.51099426,0.58336985,0.5344591,0.43119353,0.34686613,0.4671028,0.4465955,0.29715696],[0.69411564,0.7566627,0.72678214,0.8222625,0.4686516,0.5957298,0.5425867,0.63016087,0.62158096,0.57961005,0.53654116,0.5691668,0.60946816,0.53653306,0.6240401,0.53645074,0.44920185,0.50831413,1.0000001,0.71073246,0.41807255,0.48558843,0.5848459,0.5759996,0.5164714,0.5504959,0.5625762,0.4903518,0.5993612,0.5714632,0.34111813,0.46708328,0.6340823,0.71867836,0.6233643,0.71075255,0.6767482,0.50084585,0.23937857],[0.66498923,0.6406925,0.5559613,0.58785903,0.4812553,0.66703576,0.6272367,0.6523968,0.6177923,0.6421989,0.5750248,0.52197635,0.58508724,0.6157522,0.673494,0.67287904,0.5626178,0.5375414,0.71073246,1.0,0.44297507,0.53907675,0.54344,0.6368379,0.54969656,0.5181611,0.6328368,0.61747015,0.5795994,0.50750834,0.38949412,0.593714,0.59439266,0.5942707,0.6397598,0.64491546,0.53136235,0.5720341,0.34722212],[0.40721667,0.35610586,0.43772757,0.41821134,0.22665423,0.45504767,0.44105005,0.50532264,0.41181925,0.32603222,0.30908617,0.2558258,0.6270086,0.5039959,0.46593916,0.41062108,0.60248977,0.5136372,0.41807255,0.44297507,1.0000001,0.7554602,0.36680895,0.3732483,0.37702453,0.38660067,0.4192898,0.33926508,0.35891408,0.31751347,0.22884415,0.33621985,0.5303762,0.5213975,0.43092036,0.23426253,0.3320048,0.4455335,0.18605506],[0.39514852,0.32578528,0.37409693,0.40751576,0.2636266,0.5380217,0.47603434,0.60462666,0.40454328,0.3679505,0.35491842,0.31513283,0.6249838,0.4635306,0.54274863,0.4805682,0.5255546,0.41208413,0.48558843,0.53907675,0.7554602,1.0,0.32488704,0.4034844,0.3536368,0.3876117,0.47922575,0.36571342,0.38502654,0.33320838,0.21311784,0.41167217,0.5554657,0.48689693,0.45279667,0.3051805,0.27915663,0.5484736,0.10454164],[0.5935234,0.6365341,0.59136915,0.6451256,0.26510906,0.57870585,0.64447296,0.5213984,0.5300806,0.5205079,0.61549646,0.5062961,0.43099225,0.370313,0.3105523,0.4285584,0.5221077,0.5141705,0.5848459,0.54344,0.36680895,0.32488704,1.0,0.6696549,0.61615175,0.6075102,0.47924054,0.5214292,0.66171694,0.5954903,0.44677272,0.29466677,0.5041737,0.5078101,0.39716387,0.42884082,0.50268316,0.46720475,0.43158063],[0.5214888,0.6756109,0.5979146,0.5492361,0.444202,0.5817182,0.6069217,0.6666437,0.61557186,0.57632005,0.62345827,0.51478755,0.502859,0.43989354,0.39426726,0.4021274,0.4739457,0.4429256,0.5759996,0.6368379,0.3732483,0.4034844,0.6696549,1.0,0.45034254,0.48578858,0.58345747,0.49715284,0.68428147,0.5814298,0.5354457,0.34903443,0.5736939,0.51295185,0.5126442,0.6004317,0.49745405,0.5093117,0.42824745],[0.6176933,0.514961,0.5202099,0.51933086,0.24006534,0.5762062,0.649915,0.4660166,0.5200559,0.50491875,0.50306475,0.35820597,0.4027453,0.42247015,0.4505658,0.45310712,0.5098368,0.47205713,0.5164714,0.54969656,0.37702453,0.3536368,0.61615175,0.45034254,0.99999994,0.5937618,0.3921175,0.42442277,0.5112256,0.5094526,0.3779282,0.32735795,0.484083,0.45324904,0.38378608,0.35812503,0.4413386,0.4034224,0.31298357],[0.6408222,0.48957193,0.5261473,0.60328424,0.30192474,0.6083517,0.73284763,0.4907906,0.4761243,0.46177113,0.46428293,0.48141643,0.47569495,0.36827198,0.34061044,0.4561609,0.4162773,0.4251952,0.5504959,0.5181611,0.38660067,0.3876117,0.6075102,0.48578858,0.5937618,0.9999999,0.51920736,0.4986187,0.6082058,0.5832729,0.28802127,0.29852152,0.52604926,0.5137711,0.42579937,0.37127584,0.47332445,0.37275043,0.34976587],[0.50255346,0.5564474,0.49310744,0.5357227,0.3697924,0.541324,0.53819644,0.69391704,0.643633,0.5440669,0.6124561,0.6368785,0.6175451,0.5449552,0.5647267,0.46887922,0.528947,0.5372678,0.5625762,0.6328368,0.4192898,0.47922575,0.47924054,0.58345747,0.3921175,0.51920736,0.99999976,0.7529945,0.47574234,0.471161,0.36172628,0.42688033,0.5913683,0.559607,0.5361316,0.5037268,0.40956497,0.46671972,0.21144539],[0.5265305,0.5787208,0.46680725,0.51534855,0.2903257,0.44498366,0.5463697,0.5239214,0.45064303,0.577522,0.6560125,0.7199879,0.45819646,0.439587,0.4883516,0.46460587,0.40708166,0.4274581,0.4903518,0.61747015,0.33926508,0.36571342,0.5214292,0.49715284,0.42442277,0.4986187,0.7529945,1.0000001,0.44020453,0.44899958,0.2687819,0.37544674,0.49714136,0.45418984,0.51973885,0.39381838,0.31600174,0.3027846,0.21871841],[0.6968632,0.705501,0.7253578,0.69039893,0.22648573,0.6955256,0.7563721,0.58828676,0.5208658,0.5422353,0.63103056,0.5127854,0.46963382,0.3365656,0.34342802,0.51826835,0.4257453,0.39943522,0.5993612,0.5795994,0.35891408,0.38502654,0.66171694,0.68428147,0.5112256,0.6082058,0.47574234,0.44020453,1.0000004,0.7298026,0.4813746,0.27403837,0.58485544,0.6182025,0.50671643,0.50992906,0.51591647,0.43222332,0.43153957],[0.6407844,0.66810256,0.6756228,0.6298312,0.21631846,0.67667633,0.69957376,0.5723678,0.48724437,0.5295998,0.607399,0.5213177,0.5261891,0.4298736,0.3420502,0.43490636,0.45623422,0.41121954,0.5714632,0.50750834,0.31751347,0.33320838,0.5954903,0.5814298,0.5094526,0.5832729,0.471161,0.44899958,0.7298026,1.0000001,0.43280655,0.3068439,0.60123944,0.613407,0.48743826,0.4823004,0.48245552,0.40907812,0.4461146],[0.4191532,0.5884459,0.43939918,0.36208472,0.33482814,0.5701891,0.55309606,0.42346525,0.4086047,0.5099537,0.5697057,0.40045166,0.37470335,0.3554176,0.20412755,0.21780121,0.30271435,0.36840454,0.34111813,0.38949412,0.22884415,0.21311784,0.44677272,0.5354457,0.3779282,0.28802127,0.36172628,0.2687819,0.4813746,0.43280655,1.0,0.29055732,0.4266739,0.3545754,0.41992748,0.48847848,0.36042768,0.32592386,0.44610572],[0.4026218,0.45590726,0.33123147,0.3481685,0.40428123,0.3963982,0.34625536,0.40091383,0.5181998,0.4619428,0.34141204,0.4051273,0.57717884,0.7576935,0.601074,0.38997662,0.5043289,0.51099426,0.46708328,0.593714,0.33621985,0.41167217,0.29466677,0.34903443,0.32735795,0.29852152,0.42688033,0.37544674,0.27403837,0.3068439,0.29055732,1.0000001,0.4677609,0.44418693,0.49492484,0.386082,0.26604068,0.3647226,0.15998091],[0.59896386,0.6863128,0.6507579,0.65057755,0.36148602,0.6251329,0.6135216,0.7197298,0.64308,0.61362636,0.5854282,0.5353451,0.78322685,0.6415867,0.5500672,0.47122374,0.5504348,0.58336985,0.6340823,0.59439266,0.5303762,0.5554657,0.5041737,0.5736939,0.484083,0.52604926,0.5913683,0.49714136,0.58485544,0.60123944,0.4266739,0.4677609,1.0000002,0.69304425,0.7013338,0.5027963,0.5421219,0.46833795,0.31716272],[0.69605184,0.6581079,0.71541786,0.71120703,0.33033854,0.5623004,0.61920327,0.6143116,0.57453865,0.52984977,0.53495145,0.47550207,0.7298778,0.60626525,0.4934701,0.54681003,0.49862766,0.5344591,0.71867836,0.5942707,0.5213975,0.48689693,0.5078101,0.51295185,0.45324904,0.5137711,0.559607,0.45418984,0.6182025,0.613407,0.3545754,0.44418693,0.69304425,1.0000001,0.6569413,0.5444995,0.54312325,0.45825493,0.3421514],[0.5965518,0.7263341,0.60534126,0.60856336,0.47944874,0.53088385,0.5791171,0.58353186,0.5250423,0.6798439,0.6239146,0.6441803,0.6851844,0.64618766,0.48829848,0.44233385,0.4623617,0.43119353,0.6233643,0.6397598,0.43092036,0.45279667,0.39716387,0.5126442,0.38378608,0.42579937,0.5361316,0.51973885,0.50671643,0.48743826,0.41992748,0.49492484,0.7013338,0.6569413,1.0000004,0.609448,0.49975234,0.4030113,0.34768826],[0.54319847,0.7327442,0.6009746,0.609525,0.55046576,0.5811723,0.5002379,0.56354845,0.5546802,0.5723961,0.56379855,0.53788865,0.41059163,0.41844994,0.47370678,0.3731987,0.3438144,0.34686613,0.71075255,0.64491546,0.23426253,0.3051805,0.42884082,0.6004317,0.35812503,0.37127584,0.5037268,0.39381838,0.50992906,0.4823004,0.48847848,0.386082,0.5027963,0.5444995,0.609448,1.0000002,0.6203655,0.46420577,0.31050545],[0.61762345,0.6246171,0.64079505,0.6340063,0.32675135,0.51222605,0.43837675,0.50812316,0.49416333,0.47845858,0.39550096,0.37533116,0.41316903,0.37135214,0.41718486,0.34707624,0.3456459,0.4671028,0.6767482,0.53136235,0.3320048,0.27915663,0.50268316,0.49745405,0.4413386,0.47332445,0.40956497,0.31600174,0.51591647,0.48245552,0.36042768,0.26604068,0.5421219,0.54312325,0.49975234,0.6203655,1.0000001,0.36937577,0.3838163],[0.39982367,0.39245182,0.36624753,0.40767562,0.29053092,0.622344,0.48420817,0.63456076,0.5600908,0.43129477,0.3752483,0.28554186,0.4606948,0.4053792,0.48193565,0.45558077,0.49403083,0.4465955,0.50084585,0.5720341,0.4455335,0.5484736,0.46720475,0.5093117,0.4034224,0.37275043,0.46671972,0.3027846,0.43222332,0.40907812,0.32592386,0.3647226,0.46833795,0.45825493,0.4030113,0.46420577,0.36937577,1.0,0.17238393],[0.40584457,0.37950015,0.39212197,0.286989,0.16938485,0.43076882,0.50539696,0.26075333,0.26434374,0.36309224,0.3793034,0.24091959,0.2832533,0.26954538,0.13889526,0.24695745,0.25790057,0.29715696,0.23937857,0.34722212,0.18605506,0.10454164,0.43158063,0.42824745,0.31298357,0.34976587,0.21144539,0.21871841,0.43153957,0.4461146,0.44610572,0.15998091,0.31716272,0.3421514,0.34768826,0.31050545,0.3838163,0.17238393,1.0]],\"type\":\"heatmap\",\"xaxis\":\"x\",\"yaxis\":\"y\",\"hovertemplate\":\"x: %{x}\\u003cbr\\u003ey: %{y}\\u003cbr\\u003eSimilarity Score: %{z}\\u003cextra\\u003e\\u003c\\u002fextra\\u003e\"}],                        {\"template\":{\"data\":{\"histogram2dcontour\":[{\"type\":\"histogram2dcontour\",\"colorbar\":{\"outlinewidth\":0,\"ticks\":\"\"},\"colorscale\":[[0.0,\"#0d0887\"],[0.1111111111111111,\"#46039f\"],[0.2222222222222222,\"#7201a8\"],[0.3333333333333333,\"#9c179e\"],[0.4444444444444444,\"#bd3786\"],[0.5555555555555556,\"#d8576b\"],[0.6666666666666666,\"#ed7953\"],[0.7777777777777778,\"#fb9f3a\"],[0.8888888888888888,\"#fdca26\"],[1.0,\"#f0f921\"]]}],\"choropleth\":[{\"type\":\"choropleth\",\"colorbar\":{\"outlinewidth\":0,\"ticks\":\"\"}}],\"histogram2d\":[{\"type\":\"histogram2d\",\"colorbar\":{\"outlinewidth\":0,\"ticks\":\"\"},\"colorscale\":[[0.0,\"#0d0887\"],[0.1111111111111111,\"#46039f\"],[0.2222222222222222,\"#7201a8\"],[0.3333333333333333,\"#9c179e\"],[0.4444444444444444,\"#bd3786\"],[0.5555555555555556,\"#d8576b\"],[0.6666666666666666,\"#ed7953\"],[0.7777777777777778,\"#fb9f3a\"],[0.8888888888888888,\"#fdca26\"],[1.0,\"#f0f921\"]]}],\"heatmap\":[{\"type\":\"heatmap\",\"colorbar\":{\"outlinewidth\":0,\"ticks\":\"\"},\"colorscale\":[[0.0,\"#0d0887\"],[0.1111111111111111,\"#46039f\"],[0.2222222222222222,\"#7201a8\"],[0.3333333333333333,\"#9c179e\"],[0.4444444444444444,\"#bd3786\"],[0.5555555555555556,\"#d8576b\"],[0.6666666666666666,\"#ed7953\"],[0.7777777777777778,\"#fb9f3a\"],[0.8888888888888888,\"#fdca26\"],[1.0,\"#f0f921\"]]}],\"heatmapgl\":[{\"type\":\"heatmapgl\",\"colorbar\":{\"outlinewidth\":0,\"ticks\":\"\"},\"colorscale\":[[0.0,\"#0d0887\"],[0.1111111111111111,\"#46039f\"],[0.2222222222222222,\"#7201a8\"],[0.3333333333333333,\"#9c179e\"],[0.4444444444444444,\"#bd3786\"],[0.5555555555555556,\"#d8576b\"],[0.6666666666666666,\"#ed7953\"],[0.7777777777777778,\"#fb9f3a\"],[0.8888888888888888,\"#fdca26\"],[1.0,\"#f0f921\"]]}],\"contourcarpet\":[{\"type\":\"contourcarpet\",\"colorbar\":{\"outlinewidth\":0,\"ticks\":\"\"}}],\"contour\":[{\"type\":\"contour\",\"colorbar\":{\"outlinewidth\":0,\"ticks\":\"\"},\"colorscale\":[[0.0,\"#0d0887\"],[0.1111111111111111,\"#46039f\"],[0.2222222222222222,\"#7201a8\"],[0.3333333333333333,\"#9c179e\"],[0.4444444444444444,\"#bd3786\"],[0.5555555555555556,\"#d8576b\"],[0.6666666666666666,\"#ed7953\"],[0.7777777777777778,\"#fb9f3a\"],[0.8888888888888888,\"#fdca26\"],[1.0,\"#f0f921\"]]}],\"surface\":[{\"type\":\"surface\",\"colorbar\":{\"outlinewidth\":0,\"ticks\":\"\"},\"colorscale\":[[0.0,\"#0d0887\"],[0.1111111111111111,\"#46039f\"],[0.2222222222222222,\"#7201a8\"],[0.3333333333333333,\"#9c179e\"],[0.4444444444444444,\"#bd3786\"],[0.5555555555555556,\"#d8576b\"],[0.6666666666666666,\"#ed7953\"],[0.7777777777777778,\"#fb9f3a\"],[0.8888888888888888,\"#fdca26\"],[1.0,\"#f0f921\"]]}],\"mesh3d\":[{\"type\":\"mesh3d\",\"colorbar\":{\"outlinewidth\":0,\"ticks\":\"\"}}],\"scatter\":[{\"fillpattern\":{\"fillmode\":\"overlay\",\"size\":10,\"solidity\":0.2},\"type\":\"scatter\"}],\"parcoords\":[{\"type\":\"parcoords\",\"line\":{\"colorbar\":{\"outlinewidth\":0,\"ticks\":\"\"}}}],\"scatterpolargl\":[{\"type\":\"scatterpolargl\",\"marker\":{\"colorbar\":{\"outlinewidth\":0,\"ticks\":\"\"}}}],\"bar\":[{\"error_x\":{\"color\":\"#2a3f5f\"},\"error_y\":{\"color\":\"#2a3f5f\"},\"marker\":{\"line\":{\"color\":\"#E5ECF6\",\"width\":0.5},\"pattern\":{\"fillmode\":\"overlay\",\"size\":10,\"solidity\":0.2}},\"type\":\"bar\"}],\"scattergeo\":[{\"type\":\"scattergeo\",\"marker\":{\"colorbar\":{\"outlinewidth\":0,\"ticks\":\"\"}}}],\"scatterpolar\":[{\"type\":\"scatterpolar\",\"marker\":{\"colorbar\":{\"outlinewidth\":0,\"ticks\":\"\"}}}],\"histogram\":[{\"marker\":{\"pattern\":{\"fillmode\":\"overlay\",\"size\":10,\"solidity\":0.2}},\"type\":\"histogram\"}],\"scattergl\":[{\"type\":\"scattergl\",\"marker\":{\"colorbar\":{\"outlinewidth\":0,\"ticks\":\"\"}}}],\"scatter3d\":[{\"type\":\"scatter3d\",\"line\":{\"colorbar\":{\"outlinewidth\":0,\"ticks\":\"\"}},\"marker\":{\"colorbar\":{\"outlinewidth\":0,\"ticks\":\"\"}}}],\"scattermapbox\":[{\"type\":\"scattermapbox\",\"marker\":{\"colorbar\":{\"outlinewidth\":0,\"ticks\":\"\"}}}],\"scatterternary\":[{\"type\":\"scatterternary\",\"marker\":{\"colorbar\":{\"outlinewidth\":0,\"ticks\":\"\"}}}],\"scattercarpet\":[{\"type\":\"scattercarpet\",\"marker\":{\"colorbar\":{\"outlinewidth\":0,\"ticks\":\"\"}}}],\"carpet\":[{\"aaxis\":{\"endlinecolor\":\"#2a3f5f\",\"gridcolor\":\"white\",\"linecolor\":\"white\",\"minorgridcolor\":\"white\",\"startlinecolor\":\"#2a3f5f\"},\"baxis\":{\"endlinecolor\":\"#2a3f5f\",\"gridcolor\":\"white\",\"linecolor\":\"white\",\"minorgridcolor\":\"white\",\"startlinecolor\":\"#2a3f5f\"},\"type\":\"carpet\"}],\"table\":[{\"cells\":{\"fill\":{\"color\":\"#EBF0F8\"},\"line\":{\"color\":\"white\"}},\"header\":{\"fill\":{\"color\":\"#C8D4E3\"},\"line\":{\"color\":\"white\"}},\"type\":\"table\"}],\"barpolar\":[{\"marker\":{\"line\":{\"color\":\"#E5ECF6\",\"width\":0.5},\"pattern\":{\"fillmode\":\"overlay\",\"size\":10,\"solidity\":0.2}},\"type\":\"barpolar\"}],\"pie\":[{\"automargin\":true,\"type\":\"pie\"}]},\"layout\":{\"autotypenumbers\":\"strict\",\"colorway\":[\"#636efa\",\"#EF553B\",\"#00cc96\",\"#ab63fa\",\"#FFA15A\",\"#19d3f3\",\"#FF6692\",\"#B6E880\",\"#FF97FF\",\"#FECB52\"],\"font\":{\"color\":\"#2a3f5f\"},\"hovermode\":\"closest\",\"hoverlabel\":{\"align\":\"left\"},\"paper_bgcolor\":\"white\",\"plot_bgcolor\":\"#E5ECF6\",\"polar\":{\"bgcolor\":\"#E5ECF6\",\"angularaxis\":{\"gridcolor\":\"white\",\"linecolor\":\"white\",\"ticks\":\"\"},\"radialaxis\":{\"gridcolor\":\"white\",\"linecolor\":\"white\",\"ticks\":\"\"}},\"ternary\":{\"bgcolor\":\"#E5ECF6\",\"aaxis\":{\"gridcolor\":\"white\",\"linecolor\":\"white\",\"ticks\":\"\"},\"baxis\":{\"gridcolor\":\"white\",\"linecolor\":\"white\",\"ticks\":\"\"},\"caxis\":{\"gridcolor\":\"white\",\"linecolor\":\"white\",\"ticks\":\"\"}},\"coloraxis\":{\"colorbar\":{\"outlinewidth\":0,\"ticks\":\"\"}},\"colorscale\":{\"sequential\":[[0.0,\"#0d0887\"],[0.1111111111111111,\"#46039f\"],[0.2222222222222222,\"#7201a8\"],[0.3333333333333333,\"#9c179e\"],[0.4444444444444444,\"#bd3786\"],[0.5555555555555556,\"#d8576b\"],[0.6666666666666666,\"#ed7953\"],[0.7777777777777778,\"#fb9f3a\"],[0.8888888888888888,\"#fdca26\"],[1.0,\"#f0f921\"]],\"sequentialminus\":[[0.0,\"#0d0887\"],[0.1111111111111111,\"#46039f\"],[0.2222222222222222,\"#7201a8\"],[0.3333333333333333,\"#9c179e\"],[0.4444444444444444,\"#bd3786\"],[0.5555555555555556,\"#d8576b\"],[0.6666666666666666,\"#ed7953\"],[0.7777777777777778,\"#fb9f3a\"],[0.8888888888888888,\"#fdca26\"],[1.0,\"#f0f921\"]],\"diverging\":[[0,\"#8e0152\"],[0.1,\"#c51b7d\"],[0.2,\"#de77ae\"],[0.3,\"#f1b6da\"],[0.4,\"#fde0ef\"],[0.5,\"#f7f7f7\"],[0.6,\"#e6f5d0\"],[0.7,\"#b8e186\"],[0.8,\"#7fbc41\"],[0.9,\"#4d9221\"],[1,\"#276419\"]]},\"xaxis\":{\"gridcolor\":\"white\",\"linecolor\":\"white\",\"ticks\":\"\",\"title\":{\"standoff\":15},\"zerolinecolor\":\"white\",\"automargin\":true,\"zerolinewidth\":2},\"yaxis\":{\"gridcolor\":\"white\",\"linecolor\":\"white\",\"ticks\":\"\",\"title\":{\"standoff\":15},\"zerolinecolor\":\"white\",\"automargin\":true,\"zerolinewidth\":2},\"scene\":{\"xaxis\":{\"backgroundcolor\":\"#E5ECF6\",\"gridcolor\":\"white\",\"linecolor\":\"white\",\"showbackground\":true,\"ticks\":\"\",\"zerolinecolor\":\"white\",\"gridwidth\":2},\"yaxis\":{\"backgroundcolor\":\"#E5ECF6\",\"gridcolor\":\"white\",\"linecolor\":\"white\",\"showbackground\":true,\"ticks\":\"\",\"zerolinecolor\":\"white\",\"gridwidth\":2},\"zaxis\":{\"backgroundcolor\":\"#E5ECF6\",\"gridcolor\":\"white\",\"linecolor\":\"white\",\"showbackground\":true,\"ticks\":\"\",\"zerolinecolor\":\"white\",\"gridwidth\":2}},\"shapedefaults\":{\"line\":{\"color\":\"#2a3f5f\"}},\"annotationdefaults\":{\"arrowcolor\":\"#2a3f5f\",\"arrowhead\":0,\"arrowwidth\":1},\"geo\":{\"bgcolor\":\"white\",\"landcolor\":\"#E5ECF6\",\"subunitcolor\":\"white\",\"showland\":true,\"showlakes\":true,\"lakecolor\":\"white\"},\"title\":{\"x\":0.05},\"mapbox\":{\"style\":\"light\"}}},\"xaxis\":{\"anchor\":\"y\",\"domain\":[0.0,1.0],\"scaleanchor\":\"y\",\"constrain\":\"domain\"},\"yaxis\":{\"anchor\":\"x\",\"domain\":[0.0,1.0],\"autorange\":\"reversed\",\"constrain\":\"domain\"},\"coloraxis\":{\"colorbar\":{\"title\":{\"text\":\"Similarity Score\"}},\"colorscale\":[[0.0,\"rgb(247,252,240)\"],[0.125,\"rgb(224,243,219)\"],[0.25,\"rgb(204,235,197)\"],[0.375,\"rgb(168,221,181)\"],[0.5,\"rgb(123,204,196)\"],[0.625,\"rgb(78,179,211)\"],[0.75,\"rgb(43,140,190)\"],[0.875,\"rgb(8,104,172)\"],[1.0,\"rgb(8,64,129)\"]]},\"margin\":{\"t\":60},\"title\":{\"font\":{\"size\":22,\"color\":\"Black\"},\"text\":\"\\u003cb\\u003eSimilarity Matrix\\u003c\\u002fb\\u003e\",\"y\":0.95,\"x\":0.55,\"xanchor\":\"center\",\"yanchor\":\"top\"},\"hoverlabel\":{\"font\":{\"size\":16,\"family\":\"Rockwell\"},\"bgcolor\":\"white\"},\"width\":1000,\"height\":1000,\"showlegend\":true,\"legend\":{\"title\":{\"text\":\"Trend\"}}},                        {\"responsive\": true}                    ).then(function(){\n",
              "                            \n",
              "var gd = document.getElementById('2dbb745e-b3bd-4765-8021-c6739fd4a18e');\n",
              "var x = new MutationObserver(function (mutations, observer) {{\n",
              "        var display = window.getComputedStyle(gd).display;\n",
              "        if (!display || display === 'none') {{\n",
              "            console.log([gd, 'removed!']);\n",
              "            Plotly.purge(gd);\n",
              "            observer.disconnect();\n",
              "        }}\n",
              "}});\n",
              "\n",
              "// Listen for the removal of the full notebook cells\n",
              "var notebookContainer = gd.closest('#notebook-container');\n",
              "if (notebookContainer) {{\n",
              "    x.observe(notebookContainer, {childList: true});\n",
              "}}\n",
              "\n",
              "// Listen for the clearing of the current output cell\n",
              "var outputEl = gd.closest('.output');\n",
              "if (outputEl) {{\n",
              "    x.observe(outputEl, {childList: true});\n",
              "}}\n",
              "\n",
              "                        })                };                            </script>        </div>\n",
              "</body>\n",
              "</html>"
            ]
          },
          "metadata": {}
        }
      ]
    },
    {
      "cell_type": "markdown",
      "source": [
        "The command creates a heatmap that visualizes the relationships between different topics. Setting n_clusters=20 means we are examining the similarity or distance between up to 20 clusters (topics) in your dataset. The heatmap typically uses color gradients to represent the strength of associations, making it easier to identify which topics are closely related or distinct from one another. This can be particularly useful for exploring the thematic landscape of your corpus."
      ],
      "metadata": {
        "id": "x04kqC-Q_KmU"
      }
    },
    {
      "cell_type": "code",
      "source": [
        "# Visualize term rank\n",
        "topic_model.visualize_term_rank()"
      ],
      "metadata": {
        "colab": {
          "base_uri": "https://localhost:8080/",
          "height": 517
        },
        "id": "f6gBTHUdJg2o",
        "outputId": "156ec430-b19d-459f-ab53-2d258665e552"
      },
      "execution_count": null,
      "outputs": [
        {
          "output_type": "display_data",
          "data": {
            "text/html": [
              "<html>\n",
              "<head><meta charset=\"utf-8\" /></head>\n",
              "<body>\n",
              "    <div>            <script src=\"https://cdnjs.cloudflare.com/ajax/libs/mathjax/2.7.5/MathJax.js?config=TeX-AMS-MML_SVG\"></script><script type=\"text/javascript\">if (window.MathJax && window.MathJax.Hub && window.MathJax.Hub.Config) {window.MathJax.Hub.Config({SVG: {font: \"STIX-Web\"}});}</script>                <script type=\"text/javascript\">window.PlotlyConfig = {MathJaxConfig: 'local'};</script>\n",
              "        <script charset=\"utf-8\" src=\"https://cdn.plot.ly/plotly-2.35.2.min.js\"></script>                <div id=\"5f57ffd2-41ab-4e91-99f3-abf4cfb8a652\" class=\"plotly-graph-div\" style=\"height:500px; width:800px;\"></div>            <script type=\"text/javascript\">                                    window.PLOTLYENV=window.PLOTLYENV || {};                                    if (document.getElementById(\"5f57ffd2-41ab-4e91-99f3-abf4cfb8a652\")) {                    Plotly.newPlot(                        \"5f57ffd2-41ab-4e91-99f3-abf4cfb8a652\",                        [{\"hovertext\":\"\\u003cb\\u003eTopic -1\\u003c\\u002fb\\u003e:one_new_life_love_world_story_two_\",\"line\":{\"color\":\"black\",\"width\":1.5},\"mode\":\"lines+lines\",\"name\":\"\",\"opacity\":0.1,\"x\":[1,2,3,4,5,6,7,8,9,10],\"y\":[0.011111947505467002,0.010715204043480722,0.010070410918687154,0.009791585788697247,0.009213105599617358,0.008907763365598929,0.007734004470301096,0.007088009844777177,0.007036517167853957,0.006917499338990777],\"type\":\"scatter\"},{\"hovertext\":\"\\u003cb\\u003eTopic 0\\u003c\\u002fb\\u003e:murder_detective_strike_crime_case_\",\"line\":{\"color\":\"black\",\"width\":1.5},\"mode\":\"lines+lines\",\"name\":\"\",\"opacity\":0.1,\"x\":[1,2,3,4,5,6,7,8,9,10],\"y\":[0.02456458489581739,0.023485692331880657,0.015927232831712636,0.015029023031795173,0.01418108769318291,0.013669829013642405,0.013420395618217517,0.012802696085097615,0.011797950245713063,0.011733591145595048],\"type\":\"scatter\"},{\"hovertext\":\"\\u003cb\\u003eTopic 1\\u003c\\u002fb\\u003e:recipes_cookbook_cooking_food_ingre\",\"line\":{\"color\":\"black\",\"width\":1.5},\"mode\":\"lines+lines\",\"name\":\"\",\"opacity\":0.1,\"x\":[1,2,3,4,5,6,7,8,9,10],\"y\":[0.059627428305422794,0.032470647639911955,0.031050624231779234,0.029560919049546105,0.02048331943635841,0.019517399635084032,0.019122380304650924,0.018296336303751944,0.017786857558806893,0.017355001324780527],\"type\":\"scatter\"},{\"hovertext\":\"\\u003cb\\u003eTopic 2\\u003c\\u002fb\\u003e:queen_court_kingdom_prince_throne_k\",\"line\":{\"color\":\"black\",\"width\":1.5},\"mode\":\"lines+lines\",\"name\":\"\",\"opacity\":0.1,\"x\":[1,2,3,4,5,6,7,8,9,10],\"y\":[0.02355025615343994,0.01743611072708368,0.016410457154902285,0.016366082817095128,0.01613412065552079,0.015869392212895714,0.01571537613376715,0.015158727350183867,0.01289463077732319,0.01230227942009759],\"type\":\"scatter\"},{\"hovertext\":\"\\u003cb\\u003eTopic 3\\u003c\\u002fb\\u003e:poems_poetry_collection_shakespeare\",\"line\":{\"color\":\"black\",\"width\":1.5},\"mode\":\"lines+lines\",\"name\":\"\",\"opacity\":0.1,\"x\":[1,2,3,4,5,6,7,8,9,10],\"y\":[0.05775778258577442,0.04478595524507813,0.03059723532664593,0.020274857979272993,0.0200673480834012,0.019333697919915127,0.015881136346664097,0.014251985268884295,0.01384475717173763,0.013500718846728167],\"type\":\"scatter\"},{\"hovertext\":\"\\u003cb\\u003eTopic 4\\u003c\\u002fb\\u003e:sports_fantasy_football_hes_one_gam\",\"line\":{\"color\":\"black\",\"width\":1.5},\"mode\":\"lines+lines\",\"name\":\"\",\"opacity\":0.1,\"x\":[1,2,3,4,5,6,7,8,9,10],\"y\":[0.02947015274686729,0.026167447860175486,0.025741395344945586,0.020889720069779294,0.017461316266364085,0.01703287563616548,0.016778303923437515,0.016681405244461784,0.01602608832279872,0.016001189059700643],\"type\":\"scatter\"},{\"hovertext\":\"\\u003cb\\u003eTopic 5\\u003c\\u002fb\\u003e:life_happiness_anxiety_fear_us_spir\",\"line\":{\"color\":\"black\",\"width\":1.5},\"mode\":\"lines+lines\",\"name\":\"\",\"opacity\":0.1,\"x\":[1,2,3,4,5,6,7,8,9,10],\"y\":[0.03201392597726697,0.021575224437070332,0.019378147546228613,0.017883800755162695,0.017485674168153706,0.016507635277888906,0.016032001653591213,0.016027085782173853,0.015801699925245268,0.015767742222158966],\"type\":\"scatter\"},{\"hovertext\":\"\\u003cb\\u003eTopic 6\\u003c\\u002fb\\u003e:art_artists_creativity_book_paintin\",\"line\":{\"color\":\"black\",\"width\":1.5},\"mode\":\"lines+lines\",\"name\":\"\",\"opacity\":0.1,\"x\":[1,2,3,4,5,6,7,8,9,10],\"y\":[0.07946543044435725,0.03806973777960123,0.02670429855853568,0.023128583030284772,0.0196378532357994,0.018564228672359833,0.017832060356071152,0.017611788227399783,0.017521186887215646,0.017465168955884642],\"type\":\"scatter\"},{\"hovertext\":\"\\u003cb\\u003eTopic 7\\u003c\\u002fb\\u003e:american_lincoln_political_jefferso\",\"line\":{\"color\":\"black\",\"width\":1.5},\"mode\":\"lines+lines\",\"name\":\"\",\"opacity\":0.1,\"x\":[1,2,3,4,5,6,7,8,9,10],\"y\":[0.028236014129545513,0.026971358285565163,0.020755603189649297,0.01985410279348511,0.01785172384160901,0.017138538950044285,0.01699774687186366,0.015393022190890518,0.01437832969296952,0.01316192975726962],\"type\":\"scatter\"},{\"hovertext\":\"\\u003cb\\u003eTopic 8\\u003c\\u002fb\\u003e:shes_becky_bloomwood_girl_perfect_i\",\"line\":{\"color\":\"black\",\"width\":1.5},\"mode\":\"lines+lines\",\"name\":\"\",\"opacity\":0.1,\"x\":[1,2,3,4,5,6,7,8,9,10],\"y\":[0.027557948070377543,0.0263266197470846,0.018805213378756458,0.01736816474332171,0.017151576032767474,0.016816206377206187,0.0164545617064119,0.015634390687701005,0.014538176361275126,0.014008946868769332],\"type\":\"scatter\"},{\"hovertext\":\"\\u003cb\\u003eTopic 9\\u003c\\u002fb\\u003e:science_universe_scientific_species\",\"line\":{\"color\":\"black\",\"width\":1.5},\"mode\":\"lines+lines\",\"name\":\"\",\"opacity\":0.1,\"x\":[1,2,3,4,5,6,7,8,9,10],\"y\":[0.036248761749625207,0.03270111540705474,0.024889937419158684,0.023792309365743718,0.019906579667897075,0.01951922819524177,0.018967815562309514,0.017952465808306572,0.017418322396893608,0.01712048756977966],\"type\":\"scatter\"},{\"hovertext\":\"\\u003cb\\u003eTopic 10\\u003c\\u002fb\\u003e:sleep_people_walker_blink_introver\",\"line\":{\"color\":\"black\",\"width\":1.5},\"mode\":\"lines+lines\",\"name\":\"\",\"opacity\":0.1,\"x\":[1,2,3,4,5,6,7,8,9,10],\"y\":[0.03209857791465928,0.026538874694964576,0.020758043856305662,0.017292265772140176,0.016351940205351877,0.016232199026562977,0.015657716401168944,0.015589936412164307,0.015557098263739787,0.015343672535499136],\"type\":\"scatter\"},{\"hovertext\":\"\\u003cb\\u003eTopic 11\\u003c\\u002fb\\u003e:magic_parabatai_queens_vampire_rat\",\"line\":{\"color\":\"black\",\"width\":1.5},\"mode\":\"lines+lines\",\"name\":\"\",\"opacity\":0.1,\"x\":[1,2,3,4,5,6,7,8,9,10],\"y\":[0.03218088484243552,0.03096378146264999,0.029577292645312343,0.029224277961324926,0.02700014010911898,0.024000124541439093,0.022287624286539107,0.022287624286539107,0.021369226172543387,0.021177015610161783],\"type\":\"scatter\"},{\"hovertext\":\"\\u003cb\\u003eTopic 12\\u003c\\u002fb\\u003e:author_life_new_times_camille_love\",\"line\":{\"color\":\"black\",\"width\":1.5},\"mode\":\"lines+lines\",\"name\":\"\",\"opacity\":0.1,\"x\":[1,2,3,4,5,6,7,8,9,10],\"y\":[0.020318284080850173,0.019797370323303552,0.01821349823735879,0.01779599845730734,0.017757566661769447,0.017447435857811604,0.016900851060669894,0.016900851060669894,0.01648532869497292,0.016166103293656597],\"type\":\"scatter\"},{\"hovertext\":\"\\u003cb\\u003eTopic 13\\u003c\\u002fb\\u003e:religion_christianity_religious_go\",\"line\":{\"color\":\"black\",\"width\":1.5},\"mode\":\"lines+lines\",\"name\":\"\",\"opacity\":0.1,\"x\":[1,2,3,4,5,6,7,8,9,10],\"y\":[0.08528294256417655,0.05497159091767719,0.053195738955069016,0.049915920030347234,0.03872010634962882,0.038605177118345144,0.035338879875649626,0.03481457458579303,0.027848378615042264,0.026209491099104313],\"type\":\"scatter\"},{\"hovertext\":\"\\u003cb\\u003eTopic 14\\u003c\\u002fb\\u003e:saga_minecraft_diary_zombie_vaugha\",\"line\":{\"color\":\"black\",\"width\":1.5},\"mode\":\"lines+lines\",\"name\":\"\",\"opacity\":0.1,\"x\":[1,2,3,4,5,6,7,8,9,10],\"y\":[0.11311591560718459,0.09307058099825011,0.06715310236155046,0.04928528689913199,0.03988739185639291,0.0394411868851072,0.0394411868851072,0.03938954909905271,0.038486779141242065,0.038074691489504306],\"type\":\"scatter\"},{\"hovertext\":\"\\u003cb\\u003eTopic 15\\u003c\\u002fb\\u003e:batman_marvel_superman_robin_graph\",\"line\":{\"color\":\"black\",\"width\":1.5},\"mode\":\"lines+lines\",\"name\":\"\",\"opacity\":0.1,\"x\":[1,2,3,4,5,6,7,8,9,10],\"y\":[0.09125617087657624,0.055078857259910866,0.04680907336636197,0.04534246394720143,0.0437114056603669,0.04195911127599379,0.03285222151556745,0.03212518240504796,0.03212518240504796,0.030728226234243174],\"type\":\"scatter\"},{\"hovertext\":\"\\u003cb\\u003eTopic 16\\u003c\\u002fb\\u003e:music_physics_jazz_huberman_record\",\"line\":{\"color\":\"black\",\"width\":1.5},\"mode\":\"lines+lines\",\"name\":\"\",\"opacity\":0.1,\"x\":[1,2,3,4,5,6,7,8,9,10],\"y\":[0.08923736282263724,0.026398660081321614,0.025331826562670655,0.024519032003949903,0.023618884464533016,0.02192568061011868,0.020533840124913327,0.019667014180443355,0.01788856426544473,0.016510264277486735],\"type\":\"scatter\"},{\"hovertext\":\"\\u003cb\\u003eTopic 17\\u003c\\u002fb\\u003e:allie_mother_secrets_emma_klebold_\",\"line\":{\"color\":\"black\",\"width\":1.5},\"mode\":\"lines+lines\",\"name\":\"\",\"opacity\":0.1,\"x\":[1,2,3,4,5,6,7,8,9,10],\"y\":[0.03449405782632497,0.027993942105207965,0.027346917777318482,0.02539629470726965,0.023227100100191155,0.022422364547161854,0.022032613415370227,0.021048012914689704,0.019215683305088365,0.019215683305088365],\"type\":\"scatter\"},{\"hovertext\":\"\\u003cb\\u003eTopic 18\\u003c\\u002fb\\u003e:dracula_clary_ace_mortal_shadowhun\",\"line\":{\"color\":\"black\",\"width\":1.5},\"mode\":\"lines+lines\",\"name\":\"\",\"opacity\":0.1,\"x\":[1,2,3,4,5,6,7,8,9,10],\"y\":[0.06898606545330493,0.06129657464051319,0.05417253416168815,0.05155790118440737,0.0494216084506024,0.04211932526534193,0.03806516831387406,0.03319078681880356,0.03073209719952853,0.029502921616714275],\"type\":\"scatter\"},{\"hovertext\":\"\\u003cb\\u003eTopic 19\\u003c\\u002fb\\u003e:carson_shack_husband_alison_living\",\"line\":{\"color\":\"black\",\"width\":1.5},\"mode\":\"lines+lines\",\"name\":\"\",\"opacity\":0.1,\"x\":[1,2,3,4,5,6,7,8,9,10],\"y\":[0.02988903945335269,0.02988903945335269,0.028659811006291704,0.026255397619143913,0.024442694917145347,0.0235110510511935,0.023152565578752598,0.02307096159457697,0.022506755851735883,0.021349313895251923],\"type\":\"scatter\"},{\"hovertext\":\"\\u003cb\\u003eTopic 20\\u003c\\u002fb\\u003e:children_patch_peculiar_town_aband\",\"line\":{\"color\":\"black\",\"width\":1.5},\"mode\":\"lines+lines\",\"name\":\"\",\"opacity\":0.1,\"x\":[1,2,3,4,5,6,7,8,9,10],\"y\":[0.040584923906566525,0.037313008761388655,0.02970497841084344,0.02934010349589276,0.02873008124996186,0.027708273068777014,0.027708273068777014,0.026461558008770068,0.026461558008770068,0.026461558008770068],\"type\":\"scatter\"},{\"hovertext\":\"\\u003cb\\u003eTopic 21\\u003c\\u002fb\\u003e:war_military_bacevich_shining_midd\",\"line\":{\"color\":\"black\",\"width\":1.5},\"mode\":\"lines+lines\",\"name\":\"\",\"opacity\":0.1,\"x\":[1,2,3,4,5,6,7,8,9,10],\"y\":[0.044521762062248546,0.029008941176346743,0.028159762290479656,0.0260737582556,0.023485081534584666,0.022825787498323556,0.022825787498323556,0.02280966264959953,0.022325800666209025,0.02115686560462227],\"type\":\"scatter\"},{\"hovertext\":\"\\u003cb\\u003eTopic 22\\u003c\\u002fb\\u003e:basket_fruits_sohma_tohru_vol_fami\",\"line\":{\"color\":\"black\",\"width\":1.5},\"mode\":\"lines+lines\",\"name\":\"\",\"opacity\":0.1,\"x\":[1,2,3,4,5,6,7,8,9,10],\"y\":[0.15062938656724636,0.1449098679811719,0.1374980887606056,0.1374980887606056,0.07221161462210796,0.06533016298127854,0.055071336831144624,0.055071336831144624,0.045560287903801414,0.045560287903801414],\"type\":\"scatter\"},{\"hovertext\":\"\\u003cb\\u003eTopic 23\\u003c\\u002fb\\u003e:startup_fundraising_business_entre\",\"line\":{\"color\":\"black\",\"width\":1.5},\"mode\":\"lines+lines\",\"name\":\"\",\"opacity\":0.1,\"x\":[1,2,3,4,5,6,7,8,9,10],\"y\":[0.066635053740013,0.048510253263348166,0.04347369325046716,0.04110447329037125,0.0338288243133466,0.030930421883850583,0.026492514932629514,0.025168601854784655,0.023185103766322608,0.020331632852601957],\"type\":\"scatter\"},{\"hovertext\":\"\\u003cb\\u003eTopic 24\\u003c\\u002fb\\u003e:crayons_beginner_seuss_read_dr_cra\",\"line\":{\"color\":\"black\",\"width\":1.5},\"mode\":\"lines+lines\",\"name\":\"\",\"opacity\":0.1,\"x\":[1,2,3,4,5,6,7,8,9,10],\"y\":[0.0529924608335371,0.044009659985311166,0.044009659985311166,0.04147329378435777,0.04119111939236027,0.03300724498898337,0.03236754286262029,0.028292317811522555,0.02649623041676855,0.02457104402122115],\"type\":\"scatter\"},{\"hovertext\":\"\\u003cb\\u003eTopic 25\\u003c\\u002fb\\u003e:enough_greatly_daring_vulnerabilit\",\"line\":{\"color\":\"black\",\"width\":1.5},\"mode\":\"lines+lines\",\"name\":\"\",\"opacity\":0.1,\"x\":[1,2,3,4,5,6,7,8,9,10],\"y\":[0.05665227895815721,0.04895109638784203,0.03845787685673628,0.03807307496832158,0.03474737812738321,0.03061665059429305,0.02987859354150848,0.027732528192939677,0.025897942830396547,0.024866229531881404],\"type\":\"scatter\"},{\"hovertext\":\"\\u003cb\\u003eTopic 26\\u003c\\u002fb\\u003e:madlen_psychopath_hospital_madness\",\"line\":{\"color\":\"black\",\"width\":1.5},\"mode\":\"lines+lines\",\"name\":\"\",\"opacity\":0.1,\"x\":[1,2,3,4,5,6,7,8,9,10],\"y\":[0.0374516375188383,0.03289860271621574,0.029326562822898156,0.029316214303856298,0.0261758664204517,0.023767098774534635,0.02333095917698984,0.0225611763322064,0.02193240181081049,0.021825549048266515],\"type\":\"scatter\"},{\"hovertext\":\"\\u003cb\\u003eTopic 27\\u003c\\u002fb\\u003e:ss_cavalier_shift_bigend_sinclair_\",\"line\":{\"color\":\"black\",\"width\":1.5},\"mode\":\"lines+lines\",\"name\":\"\",\"opacity\":0.1,\"x\":[1,2,3,4,5,6,7,8,9,10],\"y\":[0.048242397383315726,0.03907993138193486,0.029244753760027425,0.02682065321386194,0.026243855683881444,0.020196229276975116,0.020196229276975116,0.019707515849689817,0.019633365257358187,0.01929695895332629],\"type\":\"scatter\"},{\"hovertext\":\"\\u003cb\\u003eTopic 28\\u003c\\u002fb\\u003e:rock_music_duran_pop_musical_sheff\",\"line\":{\"color\":\"black\",\"width\":1.5},\"mode\":\"lines+lines\",\"name\":\"\",\"opacity\":0.1,\"x\":[1,2,3,4,5,6,7,8,9,10],\"y\":[0.07956183653012298,0.07707047961601218,0.04787625400178964,0.0424729927931266,0.039919424754815594,0.03760768207835915,0.03711803374895479,0.03593653807053311,0.03590719050134223,0.03402615940658099],\"type\":\"scatter\"},{\"hovertext\":\"\\u003cb\\u003eTopic 29\\u003c\\u002fb\\u003e:kaling_youre_dating_hollywood_mind\",\"line\":{\"color\":\"black\",\"width\":1.5},\"mode\":\"lines+lines\",\"name\":\"\",\"opacity\":0.1,\"x\":[1,2,3,4,5,6,7,8,9,10],\"y\":[0.045453275823629714,0.04061423659269901,0.038609389263076846,0.03342927107273436,0.03060665673933342,0.03060665673933342,0.030318866261746874,0.02975365662713044,0.027857725893945296,0.02687016137632374],\"type\":\"scatter\"},{\"hovertext\":\"\\u003cb\\u003eTopic 30\\u003c\\u002fb\\u003e:jesus_christian_bible_mormon_chris\",\"line\":{\"color\":\"black\",\"width\":1.5},\"mode\":\"lines+lines\",\"name\":\"\",\"opacity\":0.1,\"x\":[1,2,3,4,5,6,7,8,9,10],\"y\":[0.05184757213574971,0.04651663150137653,0.04137875229060023,0.037344900748872874,0.03144749491885725,0.030233744675198366,0.028064449534907845,0.027304062690536722,0.02726698742368218,0.026747034429873837],\"type\":\"scatter\"},{\"hovertext\":\"\\u003cb\\u003eTopic 31\\u003c\\u002fb\\u003e:knows_hes_alien_scott_lou_josh_pil\",\"line\":{\"color\":\"black\",\"width\":1.5},\"mode\":\"lines+lines\",\"name\":\"\",\"opacity\":0.1,\"x\":[1,2,3,4,5,6,7,8,9,10],\"y\":[0.05664682402540964,0.050025382272366206,0.04137234717149225,0.0396625978918835,0.036315977924545995,0.03580409109695705,0.03112878389204936,0.030684026315388142,0.030623639522315844,0.029498074008443766],\"type\":\"scatter\"},{\"hovertext\":\"\\u003cb\\u003eTopic 32\\u003c\\u002fb\\u003e:wedding_chinese_brides_seder_dress\",\"line\":{\"color\":\"black\",\"width\":1.5},\"mode\":\"lines+lines\",\"name\":\"\",\"opacity\":0.1,\"x\":[1,2,3,4,5,6,7,8,9,10],\"y\":[0.04414775626856366,0.036380069953734176,0.03549706819659648,0.03549706819659648,0.03545059418914744,0.03450777350124803,0.03031672496144515,0.02936657687712417,0.02936657687712417,0.02936657687712417],\"type\":\"scatter\"},{\"hovertext\":\"\\u003cb\\u003eTopic 33\\u003c\\u002fb\\u003e:greek_iliad_literature_odyssey_fag\",\"line\":{\"color\":\"black\",\"width\":1.5},\"mode\":\"lines+lines\",\"name\":\"\",\"opacity\":0.1,\"x\":[1,2,3,4,5,6,7,8,9,10],\"y\":[0.06998225086699263,0.06505945541499913,0.06364211423969343,0.05248668815024447,0.049115511038295305,0.04363671634572542,0.04314448691435767,0.04314448691435767,0.03698448781525341,0.03595373909529805],\"type\":\"scatter\"},{\"hovertext\":\"\\u003cb\\u003eTopic 34\\u003c\\u002fb\\u003e:jobs_malcolm_isaacson_steve_wrote_\",\"line\":{\"color\":\"black\",\"width\":1.5},\"mode\":\"lines+lines\",\"name\":\"\",\"opacity\":0.1,\"x\":[1,2,3,4,5,6,7,8,9,10],\"y\":[0.08806266828534015,0.08630686530599302,0.06336931006595764,0.05914316404854633,0.053320841749757784,0.05280775838829802,0.05237597868393299,0.04530078778677208,0.043939793142889344,0.04142744742695419],\"type\":\"scatter\"},{\"hovertext\":\"\\u003cb\\u003eTopic 35\\u003c\\u002fb\\u003e:raven_blue_boys_aglionby_gansey_ro\",\"line\":{\"color\":\"black\",\"width\":1.5},\"mode\":\"lines+lines\",\"name\":\"\",\"opacity\":0.1,\"x\":[1,2,3,4,5,6,7,8,9,10],\"y\":[0.11698624496677104,0.09774804562106001,0.05989681031092873,0.04795492326118761,0.04795492326118761,0.04795492326118761,0.04795492326118761,0.04441103806715179,0.04125883770934036,0.03967290855646731],\"type\":\"scatter\"},{\"hovertext\":\"\\u003cb\\u003eTopic 36\\u003c\\u002fb\\u003e:harry_potter_hogwarts_professor_du\",\"line\":{\"color\":\"black\",\"width\":1.5},\"mode\":\"lines+lines\",\"name\":\"\",\"opacity\":0.1,\"x\":[1,2,3,4,5,6,7,8,9,10],\"y\":[0.29827954531438733,0.23431059336929735,0.16506395587816067,0.07095358526804087,0.05970256442571986,0.05803866841160546,0.05663227506766095,0.04939168323026369,0.04939168323026369,0.038634857056617164],\"type\":\"scatter\"},{\"hovertext\":\"\\u003cb\\u003eTopic 37\\u003c\\u002fb\\u003e:rock_show_jared_maddie_like_star_b\",\"line\":{\"color\":\"black\",\"width\":1.5},\"mode\":\"lines+lines\",\"name\":\"\",\"opacity\":0.1,\"x\":[1,2,3,4,5,6,7,8,9,10],\"y\":[0.06791983026546851,0.04656838921391982,0.04621128329133651,0.04621128329133651,0.04307642817766189,0.041907125896601026,0.040633330188517815,0.03932642027213135,0.03461332579777541,0.033437071864969005],\"type\":\"scatter\"},{\"hovertext\":\"\\u003cb\\u003eTopic 38\\u003c\\u002fb\\u003e:mr_jane_guernsey_bennet_knightley_\",\"line\":{\"color\":\"black\",\"width\":1.5},\"mode\":\"lines+lines\",\"name\":\"\",\"opacity\":0.1,\"x\":[1,2,3,4,5,6,7,8,9,10],\"y\":[0.07280314716847144,0.06975087715452269,0.05888188863273233,0.05047496559639685,0.04906824052727694,0.04512959183814365,0.03675325320412937,0.03409375167610134,0.032650865153749035,0.02999351711098791],\"type\":\"scatter\"}],                        {\"template\":{\"data\":{\"barpolar\":[{\"marker\":{\"line\":{\"color\":\"white\",\"width\":0.5},\"pattern\":{\"fillmode\":\"overlay\",\"size\":10,\"solidity\":0.2}},\"type\":\"barpolar\"}],\"bar\":[{\"error_x\":{\"color\":\"#2a3f5f\"},\"error_y\":{\"color\":\"#2a3f5f\"},\"marker\":{\"line\":{\"color\":\"white\",\"width\":0.5},\"pattern\":{\"fillmode\":\"overlay\",\"size\":10,\"solidity\":0.2}},\"type\":\"bar\"}],\"carpet\":[{\"aaxis\":{\"endlinecolor\":\"#2a3f5f\",\"gridcolor\":\"#C8D4E3\",\"linecolor\":\"#C8D4E3\",\"minorgridcolor\":\"#C8D4E3\",\"startlinecolor\":\"#2a3f5f\"},\"baxis\":{\"endlinecolor\":\"#2a3f5f\",\"gridcolor\":\"#C8D4E3\",\"linecolor\":\"#C8D4E3\",\"minorgridcolor\":\"#C8D4E3\",\"startlinecolor\":\"#2a3f5f\"},\"type\":\"carpet\"}],\"choropleth\":[{\"colorbar\":{\"outlinewidth\":0,\"ticks\":\"\"},\"type\":\"choropleth\"}],\"contourcarpet\":[{\"colorbar\":{\"outlinewidth\":0,\"ticks\":\"\"},\"type\":\"contourcarpet\"}],\"contour\":[{\"colorbar\":{\"outlinewidth\":0,\"ticks\":\"\"},\"colorscale\":[[0.0,\"#0d0887\"],[0.1111111111111111,\"#46039f\"],[0.2222222222222222,\"#7201a8\"],[0.3333333333333333,\"#9c179e\"],[0.4444444444444444,\"#bd3786\"],[0.5555555555555556,\"#d8576b\"],[0.6666666666666666,\"#ed7953\"],[0.7777777777777778,\"#fb9f3a\"],[0.8888888888888888,\"#fdca26\"],[1.0,\"#f0f921\"]],\"type\":\"contour\"}],\"heatmapgl\":[{\"colorbar\":{\"outlinewidth\":0,\"ticks\":\"\"},\"colorscale\":[[0.0,\"#0d0887\"],[0.1111111111111111,\"#46039f\"],[0.2222222222222222,\"#7201a8\"],[0.3333333333333333,\"#9c179e\"],[0.4444444444444444,\"#bd3786\"],[0.5555555555555556,\"#d8576b\"],[0.6666666666666666,\"#ed7953\"],[0.7777777777777778,\"#fb9f3a\"],[0.8888888888888888,\"#fdca26\"],[1.0,\"#f0f921\"]],\"type\":\"heatmapgl\"}],\"heatmap\":[{\"colorbar\":{\"outlinewidth\":0,\"ticks\":\"\"},\"colorscale\":[[0.0,\"#0d0887\"],[0.1111111111111111,\"#46039f\"],[0.2222222222222222,\"#7201a8\"],[0.3333333333333333,\"#9c179e\"],[0.4444444444444444,\"#bd3786\"],[0.5555555555555556,\"#d8576b\"],[0.6666666666666666,\"#ed7953\"],[0.7777777777777778,\"#fb9f3a\"],[0.8888888888888888,\"#fdca26\"],[1.0,\"#f0f921\"]],\"type\":\"heatmap\"}],\"histogram2dcontour\":[{\"colorbar\":{\"outlinewidth\":0,\"ticks\":\"\"},\"colorscale\":[[0.0,\"#0d0887\"],[0.1111111111111111,\"#46039f\"],[0.2222222222222222,\"#7201a8\"],[0.3333333333333333,\"#9c179e\"],[0.4444444444444444,\"#bd3786\"],[0.5555555555555556,\"#d8576b\"],[0.6666666666666666,\"#ed7953\"],[0.7777777777777778,\"#fb9f3a\"],[0.8888888888888888,\"#fdca26\"],[1.0,\"#f0f921\"]],\"type\":\"histogram2dcontour\"}],\"histogram2d\":[{\"colorbar\":{\"outlinewidth\":0,\"ticks\":\"\"},\"colorscale\":[[0.0,\"#0d0887\"],[0.1111111111111111,\"#46039f\"],[0.2222222222222222,\"#7201a8\"],[0.3333333333333333,\"#9c179e\"],[0.4444444444444444,\"#bd3786\"],[0.5555555555555556,\"#d8576b\"],[0.6666666666666666,\"#ed7953\"],[0.7777777777777778,\"#fb9f3a\"],[0.8888888888888888,\"#fdca26\"],[1.0,\"#f0f921\"]],\"type\":\"histogram2d\"}],\"histogram\":[{\"marker\":{\"pattern\":{\"fillmode\":\"overlay\",\"size\":10,\"solidity\":0.2}},\"type\":\"histogram\"}],\"mesh3d\":[{\"colorbar\":{\"outlinewidth\":0,\"ticks\":\"\"},\"type\":\"mesh3d\"}],\"parcoords\":[{\"line\":{\"colorbar\":{\"outlinewidth\":0,\"ticks\":\"\"}},\"type\":\"parcoords\"}],\"pie\":[{\"automargin\":true,\"type\":\"pie\"}],\"scatter3d\":[{\"line\":{\"colorbar\":{\"outlinewidth\":0,\"ticks\":\"\"}},\"marker\":{\"colorbar\":{\"outlinewidth\":0,\"ticks\":\"\"}},\"type\":\"scatter3d\"}],\"scattercarpet\":[{\"marker\":{\"colorbar\":{\"outlinewidth\":0,\"ticks\":\"\"}},\"type\":\"scattercarpet\"}],\"scattergeo\":[{\"marker\":{\"colorbar\":{\"outlinewidth\":0,\"ticks\":\"\"}},\"type\":\"scattergeo\"}],\"scattergl\":[{\"marker\":{\"colorbar\":{\"outlinewidth\":0,\"ticks\":\"\"}},\"type\":\"scattergl\"}],\"scattermapbox\":[{\"marker\":{\"colorbar\":{\"outlinewidth\":0,\"ticks\":\"\"}},\"type\":\"scattermapbox\"}],\"scatterpolargl\":[{\"marker\":{\"colorbar\":{\"outlinewidth\":0,\"ticks\":\"\"}},\"type\":\"scatterpolargl\"}],\"scatterpolar\":[{\"marker\":{\"colorbar\":{\"outlinewidth\":0,\"ticks\":\"\"}},\"type\":\"scatterpolar\"}],\"scatter\":[{\"fillpattern\":{\"fillmode\":\"overlay\",\"size\":10,\"solidity\":0.2},\"type\":\"scatter\"}],\"scatterternary\":[{\"marker\":{\"colorbar\":{\"outlinewidth\":0,\"ticks\":\"\"}},\"type\":\"scatterternary\"}],\"surface\":[{\"colorbar\":{\"outlinewidth\":0,\"ticks\":\"\"},\"colorscale\":[[0.0,\"#0d0887\"],[0.1111111111111111,\"#46039f\"],[0.2222222222222222,\"#7201a8\"],[0.3333333333333333,\"#9c179e\"],[0.4444444444444444,\"#bd3786\"],[0.5555555555555556,\"#d8576b\"],[0.6666666666666666,\"#ed7953\"],[0.7777777777777778,\"#fb9f3a\"],[0.8888888888888888,\"#fdca26\"],[1.0,\"#f0f921\"]],\"type\":\"surface\"}],\"table\":[{\"cells\":{\"fill\":{\"color\":\"#EBF0F8\"},\"line\":{\"color\":\"white\"}},\"header\":{\"fill\":{\"color\":\"#C8D4E3\"},\"line\":{\"color\":\"white\"}},\"type\":\"table\"}]},\"layout\":{\"annotationdefaults\":{\"arrowcolor\":\"#2a3f5f\",\"arrowhead\":0,\"arrowwidth\":1},\"autotypenumbers\":\"strict\",\"coloraxis\":{\"colorbar\":{\"outlinewidth\":0,\"ticks\":\"\"}},\"colorscale\":{\"diverging\":[[0,\"#8e0152\"],[0.1,\"#c51b7d\"],[0.2,\"#de77ae\"],[0.3,\"#f1b6da\"],[0.4,\"#fde0ef\"],[0.5,\"#f7f7f7\"],[0.6,\"#e6f5d0\"],[0.7,\"#b8e186\"],[0.8,\"#7fbc41\"],[0.9,\"#4d9221\"],[1,\"#276419\"]],\"sequential\":[[0.0,\"#0d0887\"],[0.1111111111111111,\"#46039f\"],[0.2222222222222222,\"#7201a8\"],[0.3333333333333333,\"#9c179e\"],[0.4444444444444444,\"#bd3786\"],[0.5555555555555556,\"#d8576b\"],[0.6666666666666666,\"#ed7953\"],[0.7777777777777778,\"#fb9f3a\"],[0.8888888888888888,\"#fdca26\"],[1.0,\"#f0f921\"]],\"sequentialminus\":[[0.0,\"#0d0887\"],[0.1111111111111111,\"#46039f\"],[0.2222222222222222,\"#7201a8\"],[0.3333333333333333,\"#9c179e\"],[0.4444444444444444,\"#bd3786\"],[0.5555555555555556,\"#d8576b\"],[0.6666666666666666,\"#ed7953\"],[0.7777777777777778,\"#fb9f3a\"],[0.8888888888888888,\"#fdca26\"],[1.0,\"#f0f921\"]]},\"colorway\":[\"#636efa\",\"#EF553B\",\"#00cc96\",\"#ab63fa\",\"#FFA15A\",\"#19d3f3\",\"#FF6692\",\"#B6E880\",\"#FF97FF\",\"#FECB52\"],\"font\":{\"color\":\"#2a3f5f\"},\"geo\":{\"bgcolor\":\"white\",\"lakecolor\":\"white\",\"landcolor\":\"white\",\"showlakes\":true,\"showland\":true,\"subunitcolor\":\"#C8D4E3\"},\"hoverlabel\":{\"align\":\"left\"},\"hovermode\":\"closest\",\"mapbox\":{\"style\":\"light\"},\"paper_bgcolor\":\"white\",\"plot_bgcolor\":\"white\",\"polar\":{\"angularaxis\":{\"gridcolor\":\"#EBF0F8\",\"linecolor\":\"#EBF0F8\",\"ticks\":\"\"},\"bgcolor\":\"white\",\"radialaxis\":{\"gridcolor\":\"#EBF0F8\",\"linecolor\":\"#EBF0F8\",\"ticks\":\"\"}},\"scene\":{\"xaxis\":{\"backgroundcolor\":\"white\",\"gridcolor\":\"#DFE8F3\",\"gridwidth\":2,\"linecolor\":\"#EBF0F8\",\"showbackground\":true,\"ticks\":\"\",\"zerolinecolor\":\"#EBF0F8\"},\"yaxis\":{\"backgroundcolor\":\"white\",\"gridcolor\":\"#DFE8F3\",\"gridwidth\":2,\"linecolor\":\"#EBF0F8\",\"showbackground\":true,\"ticks\":\"\",\"zerolinecolor\":\"#EBF0F8\"},\"zaxis\":{\"backgroundcolor\":\"white\",\"gridcolor\":\"#DFE8F3\",\"gridwidth\":2,\"linecolor\":\"#EBF0F8\",\"showbackground\":true,\"ticks\":\"\",\"zerolinecolor\":\"#EBF0F8\"}},\"shapedefaults\":{\"line\":{\"color\":\"#2a3f5f\"}},\"ternary\":{\"aaxis\":{\"gridcolor\":\"#DFE8F3\",\"linecolor\":\"#A2B1C6\",\"ticks\":\"\"},\"baxis\":{\"gridcolor\":\"#DFE8F3\",\"linecolor\":\"#A2B1C6\",\"ticks\":\"\"},\"bgcolor\":\"white\",\"caxis\":{\"gridcolor\":\"#DFE8F3\",\"linecolor\":\"#A2B1C6\",\"ticks\":\"\"}},\"title\":{\"x\":0.05},\"xaxis\":{\"automargin\":true,\"gridcolor\":\"#EBF0F8\",\"linecolor\":\"#EBF0F8\",\"ticks\":\"\",\"title\":{\"standoff\":15},\"zerolinecolor\":\"#EBF0F8\",\"zerolinewidth\":2},\"yaxis\":{\"automargin\":true,\"gridcolor\":\"#EBF0F8\",\"linecolor\":\"#EBF0F8\",\"ticks\":\"\",\"title\":{\"standoff\":15},\"zerolinecolor\":\"#EBF0F8\",\"zerolinewidth\":2}}},\"xaxis\":{\"range\":[0,10],\"tick0\":1,\"dtick\":2,\"title\":{\"text\":\"Term Rank\"}},\"title\":{\"font\":{\"size\":22,\"color\":\"Black\"},\"text\":\"\\u003cb\\u003eTerm score decline per Topic\\u003c\\u002fb\\u003e\",\"y\":0.9,\"x\":0.5,\"xanchor\":\"center\",\"yanchor\":\"top\"},\"hoverlabel\":{\"font\":{\"size\":16,\"family\":\"Rockwell\"},\"bgcolor\":\"white\"},\"showlegend\":false,\"width\":800,\"height\":500,\"yaxis\":{\"title\":{\"text\":\"c-TF-IDF score\"}}},                        {\"responsive\": true}                    ).then(function(){\n",
              "                            \n",
              "var gd = document.getElementById('5f57ffd2-41ab-4e91-99f3-abf4cfb8a652');\n",
              "var x = new MutationObserver(function (mutations, observer) {{\n",
              "        var display = window.getComputedStyle(gd).display;\n",
              "        if (!display || display === 'none') {{\n",
              "            console.log([gd, 'removed!']);\n",
              "            Plotly.purge(gd);\n",
              "            observer.disconnect();\n",
              "        }}\n",
              "}});\n",
              "\n",
              "// Listen for the removal of the full notebook cells\n",
              "var notebookContainer = gd.closest('#notebook-container');\n",
              "if (notebookContainer) {{\n",
              "    x.observe(notebookContainer, {childList: true});\n",
              "}}\n",
              "\n",
              "// Listen for the clearing of the current output cell\n",
              "var outputEl = gd.closest('.output');\n",
              "if (outputEl) {{\n",
              "    x.observe(outputEl, {childList: true});\n",
              "}}\n",
              "\n",
              "                        })                };                            </script>        </div>\n",
              "</body>\n",
              "</html>"
            ]
          },
          "metadata": {}
        }
      ]
    },
    {
      "cell_type": "markdown",
      "source": [
        "The command produces a visualization that shows the ranking of terms (words) within each topic. It helps us understand which words are most representative of each topic and how they rank in terms of their significance. This visualization provides insights into the key themes that characterize the topics and can guide further analysis or interpretation of the results."
      ],
      "metadata": {
        "id": "Mq3nT-ti_Sxr"
      }
    },
    {
      "cell_type": "code",
      "source": [],
      "metadata": {
        "id": "eKZHcPjpNEDx"
      },
      "execution_count": null,
      "outputs": []
    },
    {
      "cell_type": "markdown",
      "source": [
        "## Extra Question (5 Points)\n",
        "\n",
        "**Compare the results generated by the four topic modeling algorithms, which one is better? You should explain the reasons in details.**\n",
        "\n",
        "**This question will compensate for any points deducted in this exercise. Maximum marks for the exercise is 40 points.**"
      ],
      "metadata": {
        "id": "d89ODUx3jjJV"
      }
    },
    {
      "cell_type": "code",
      "source": [
        "\n",
        "'''\n",
        "\n",
        "With the results from LDA, LSA, and BERTopic, let's compare the performance of each model based on coherence scores, interpretability, and specificity of topics:\n",
        "\n",
        "1.LDA Results:\n",
        "   - Optimal Topics: 16, with a peak coherence score of 0.4825 for 16 topics.\n",
        "   - Coherence: The scores generally increase as the number of topics grows, but coherence plateaus around 16 topics.\n",
        "   - Topic Interpretability: Topics in LDA are interpretable and cover distinct themes such as \"detective stories,\" \"recipe collections,\" and \"military topics,\"\n",
        "     showing its ability to create well-differentiated topics.\n",
        "   - Strengths: Suitable for medium-sized datasets where coherence and interpretability are important.\n",
        "   - Limitations: LDA topics may lack granularity and do not always capture nuanced or contextual themes.\n",
        "\n",
        "2.LSA Results:\n",
        "   - Optimal Topics: 2, based on dimensional reduction.\n",
        "   - Interpretability: LSA topics are broad, capturing general themes such as \"life\" and \"entrepreneurship.\" These topics tend to be more abstract and less granular.\n",
        "   - Strengths: Effective for datasets where themes are few or the primary focus is broad categorization.\n",
        "   - Limitations: LSA may not perform well with detailed datasets since it lacks the capability to model nuanced topics. The topics produced tend to be more general\n",
        "     and potentially lack diversity.\n",
        "\n",
        "3.BERTopic Results\n",
        "   - Optimal Topics: 40, as identified by the loop run.\n",
        "   - Interpretability: Topics are highly specific, with themes like \"recipes and cooking,\" \"court and royalty,\" \"American political figures,\" and\n",
        "     \"startup fundraising.\" BERTopic's approach provides detailed, context-rich themes that capture nuanced aspects effectively.\n",
        "   - Strengths: Highly interpretable with fine-grained topics, ideal for datasets that cover a variety of niche themes. It also leverages embeddings to capture\n",
        "     semantic similarity, which helps in understanding subtle differences between topics.\n",
        "   - Limitations: Potential over-clustering; the algorithm may produce too many small topics, which could require additional filtering or merging.\n",
        "\n",
        "Conclusion:\n",
        "   - Overall Best Model: BERTopic emerges as the best model in this scenario because of its fine-grained, interpretable topics and ability to capture nuanced\n",
        "     themes using contextual embeddings. This makes it suitable for complex datasets with diverse themes.\n",
        "   - Reasoning: BERTopic's use of embeddings provides a more context-sensitive clustering than LDA or LSA, which rely on simpler statistical methods and can\n",
        "     overlook subtleties. LDA performs well but lacks the depth of BERTopic, while LSA is less suitable due to its tendency to yield broad topics.\n",
        "\n",
        "In summary, BERTopic offers the best balance of coherence, specificity, and interpretability for this dataset.\n",
        "\n",
        "''''"
      ],
      "metadata": {
        "id": "OK34nZtojhmm",
        "colab": {
          "base_uri": "https://localhost:8080/",
          "height": 109
        },
        "outputId": "71e938c9-4f02-4afb-ae3d-b19910593391"
      },
      "execution_count": 1,
      "outputs": [
        {
          "output_type": "error",
          "ename": "SyntaxError",
          "evalue": "unterminated string literal (detected at line 36) (<ipython-input-1-9998b1448331>, line 36)",
          "traceback": [
            "\u001b[0;36m  File \u001b[0;32m\"<ipython-input-1-9998b1448331>\"\u001b[0;36m, line \u001b[0;32m36\u001b[0m\n\u001b[0;31m    ''''\u001b[0m\n\u001b[0m       ^\u001b[0m\n\u001b[0;31mSyntaxError\u001b[0m\u001b[0;31m:\u001b[0m unterminated string literal (detected at line 36)\n"
          ]
        }
      ]
    },
    {
      "cell_type": "markdown",
      "source": [
        "# Mandatory Question"
      ],
      "metadata": {
        "id": "VEs-OoDEhTW4"
      }
    },
    {
      "cell_type": "markdown",
      "source": [
        "**Important: Reflective Feedback on this exercise**\n",
        "\n",
        "Please provide your thoughts and feedback on the exercises you completed in this assignment.\n",
        "\n",
        "Consider the following points in your response:\n",
        "\n",
        "**Learning Experience:** Describe your overall learning experience in working with text data and extracting features using various topic modeling algorithms. Did you understand these algorithms and did the implementations helped in grasping the nuances of feature extraction from text data.\n",
        "\n",
        "**Challenges Encountered:** Were there specific difficulties in completing this exercise?\n",
        "\n",
        "Relevance to Your Field of Study: How does this exercise relate to the field of NLP?\n",
        "\n",
        "**(Your submission will not be graded if this question is left unanswered)**\n",
        "\n"
      ],
      "metadata": {
        "id": "IUKC7suYhVl0"
      }
    },
    {
      "cell_type": "code",
      "source": [
        "# Your answer here (no code for this question, write down your answer as detail as possible for the above questions):\n",
        "\n",
        "'''\n",
        "Please write you answer here:\n",
        "In this exercise, I have learnt implementing various algorithms for topic modeling. I couldn't implement lda2vec as there are some errors related to versions which\n",
        "I couldn't solve in the given span of time. The visualizaions look attractive. For bertopic, at first I took only upto 100 rows of books - the model failed to to the\n",
        "topic modeling suggesting only one topic. But when I increased the size of the corpus, it was effective. I learnt that this requires a large amount of corpus to determine\n",
        "topic modelling.\n",
        "\n",
        "Also, for some commands I have to downgrade the versions of packages - I have to downgrade gensim and scipy to successfully execute the code completely\n",
        "\n",
        "'''"
      ],
      "metadata": {
        "id": "CAq0DZWAhU9m"
      },
      "execution_count": null,
      "outputs": []
    }
  ],
  "metadata": {
    "kernelspec": {
      "display_name": "Python 3 (ipykernel)",
      "language": "python",
      "name": "python3"
    },
    "language_info": {
      "codemirror_mode": {
        "name": "ipython",
        "version": 3
      },
      "file_extension": ".py",
      "mimetype": "text/x-python",
      "name": "python",
      "nbconvert_exporter": "python",
      "pygments_lexer": "ipython3",
      "version": "3.9.12"
    },
    "colab": {
      "provenance": [],
      "collapsed_sections": [
        "dEUjBE6C70nf",
        "7oSK4soH70nf"
      ],
      "include_colab_link": true
    },
    "widgets": {
      "application/vnd.jupyter.widget-state+json": {
        "86ce5ecf130c42c288989be0586c1545": {
          "model_module": "@jupyter-widgets/controls",
          "model_name": "HBoxModel",
          "model_module_version": "1.5.0",
          "state": {
            "_dom_classes": [],
            "_model_module": "@jupyter-widgets/controls",
            "_model_module_version": "1.5.0",
            "_model_name": "HBoxModel",
            "_view_count": null,
            "_view_module": "@jupyter-widgets/controls",
            "_view_module_version": "1.5.0",
            "_view_name": "HBoxView",
            "box_style": "",
            "children": [
              "IPY_MODEL_6eb809efe2a8454484730d99660f3724",
              "IPY_MODEL_36e1421dbe6e4a849da9d06787123f1c",
              "IPY_MODEL_9c517670444d43529b970ece083b3d30"
            ],
            "layout": "IPY_MODEL_b8feb2b11d6f4f2faed82c53c9b5c752"
          }
        },
        "6eb809efe2a8454484730d99660f3724": {
          "model_module": "@jupyter-widgets/controls",
          "model_name": "HTMLModel",
          "model_module_version": "1.5.0",
          "state": {
            "_dom_classes": [],
            "_model_module": "@jupyter-widgets/controls",
            "_model_module_version": "1.5.0",
            "_model_name": "HTMLModel",
            "_view_count": null,
            "_view_module": "@jupyter-widgets/controls",
            "_view_module_version": "1.5.0",
            "_view_name": "HTMLView",
            "description": "",
            "description_tooltip": null,
            "layout": "IPY_MODEL_26663c6f0f8545158f404f88893bf727",
            "placeholder": "​",
            "style": "IPY_MODEL_f75073ffb37b45ccb28e90cffc03b300",
            "value": "Batches: 100%"
          }
        },
        "36e1421dbe6e4a849da9d06787123f1c": {
          "model_module": "@jupyter-widgets/controls",
          "model_name": "FloatProgressModel",
          "model_module_version": "1.5.0",
          "state": {
            "_dom_classes": [],
            "_model_module": "@jupyter-widgets/controls",
            "_model_module_version": "1.5.0",
            "_model_name": "FloatProgressModel",
            "_view_count": null,
            "_view_module": "@jupyter-widgets/controls",
            "_view_module_version": "1.5.0",
            "_view_name": "ProgressView",
            "bar_style": "success",
            "description": "",
            "description_tooltip": null,
            "layout": "IPY_MODEL_d7ab23febb504ac69dff9ad4bf20344e",
            "max": 32,
            "min": 0,
            "orientation": "horizontal",
            "style": "IPY_MODEL_cb43f192088c42bfa4cc307100f182a1",
            "value": 32
          }
        },
        "9c517670444d43529b970ece083b3d30": {
          "model_module": "@jupyter-widgets/controls",
          "model_name": "HTMLModel",
          "model_module_version": "1.5.0",
          "state": {
            "_dom_classes": [],
            "_model_module": "@jupyter-widgets/controls",
            "_model_module_version": "1.5.0",
            "_model_name": "HTMLModel",
            "_view_count": null,
            "_view_module": "@jupyter-widgets/controls",
            "_view_module_version": "1.5.0",
            "_view_name": "HTMLView",
            "description": "",
            "description_tooltip": null,
            "layout": "IPY_MODEL_59499837f2cf4d1db75ba9c59505c017",
            "placeholder": "​",
            "style": "IPY_MODEL_41d2a2ff5064436ba98fb0f53e592708",
            "value": " 32/32 [01:53&lt;00:00,  1.18s/it]"
          }
        },
        "b8feb2b11d6f4f2faed82c53c9b5c752": {
          "model_module": "@jupyter-widgets/base",
          "model_name": "LayoutModel",
          "model_module_version": "1.2.0",
          "state": {
            "_model_module": "@jupyter-widgets/base",
            "_model_module_version": "1.2.0",
            "_model_name": "LayoutModel",
            "_view_count": null,
            "_view_module": "@jupyter-widgets/base",
            "_view_module_version": "1.2.0",
            "_view_name": "LayoutView",
            "align_content": null,
            "align_items": null,
            "align_self": null,
            "border": null,
            "bottom": null,
            "display": null,
            "flex": null,
            "flex_flow": null,
            "grid_area": null,
            "grid_auto_columns": null,
            "grid_auto_flow": null,
            "grid_auto_rows": null,
            "grid_column": null,
            "grid_gap": null,
            "grid_row": null,
            "grid_template_areas": null,
            "grid_template_columns": null,
            "grid_template_rows": null,
            "height": null,
            "justify_content": null,
            "justify_items": null,
            "left": null,
            "margin": null,
            "max_height": null,
            "max_width": null,
            "min_height": null,
            "min_width": null,
            "object_fit": null,
            "object_position": null,
            "order": null,
            "overflow": null,
            "overflow_x": null,
            "overflow_y": null,
            "padding": null,
            "right": null,
            "top": null,
            "visibility": null,
            "width": null
          }
        },
        "26663c6f0f8545158f404f88893bf727": {
          "model_module": "@jupyter-widgets/base",
          "model_name": "LayoutModel",
          "model_module_version": "1.2.0",
          "state": {
            "_model_module": "@jupyter-widgets/base",
            "_model_module_version": "1.2.0",
            "_model_name": "LayoutModel",
            "_view_count": null,
            "_view_module": "@jupyter-widgets/base",
            "_view_module_version": "1.2.0",
            "_view_name": "LayoutView",
            "align_content": null,
            "align_items": null,
            "align_self": null,
            "border": null,
            "bottom": null,
            "display": null,
            "flex": null,
            "flex_flow": null,
            "grid_area": null,
            "grid_auto_columns": null,
            "grid_auto_flow": null,
            "grid_auto_rows": null,
            "grid_column": null,
            "grid_gap": null,
            "grid_row": null,
            "grid_template_areas": null,
            "grid_template_columns": null,
            "grid_template_rows": null,
            "height": null,
            "justify_content": null,
            "justify_items": null,
            "left": null,
            "margin": null,
            "max_height": null,
            "max_width": null,
            "min_height": null,
            "min_width": null,
            "object_fit": null,
            "object_position": null,
            "order": null,
            "overflow": null,
            "overflow_x": null,
            "overflow_y": null,
            "padding": null,
            "right": null,
            "top": null,
            "visibility": null,
            "width": null
          }
        },
        "f75073ffb37b45ccb28e90cffc03b300": {
          "model_module": "@jupyter-widgets/controls",
          "model_name": "DescriptionStyleModel",
          "model_module_version": "1.5.0",
          "state": {
            "_model_module": "@jupyter-widgets/controls",
            "_model_module_version": "1.5.0",
            "_model_name": "DescriptionStyleModel",
            "_view_count": null,
            "_view_module": "@jupyter-widgets/base",
            "_view_module_version": "1.2.0",
            "_view_name": "StyleView",
            "description_width": ""
          }
        },
        "d7ab23febb504ac69dff9ad4bf20344e": {
          "model_module": "@jupyter-widgets/base",
          "model_name": "LayoutModel",
          "model_module_version": "1.2.0",
          "state": {
            "_model_module": "@jupyter-widgets/base",
            "_model_module_version": "1.2.0",
            "_model_name": "LayoutModel",
            "_view_count": null,
            "_view_module": "@jupyter-widgets/base",
            "_view_module_version": "1.2.0",
            "_view_name": "LayoutView",
            "align_content": null,
            "align_items": null,
            "align_self": null,
            "border": null,
            "bottom": null,
            "display": null,
            "flex": null,
            "flex_flow": null,
            "grid_area": null,
            "grid_auto_columns": null,
            "grid_auto_flow": null,
            "grid_auto_rows": null,
            "grid_column": null,
            "grid_gap": null,
            "grid_row": null,
            "grid_template_areas": null,
            "grid_template_columns": null,
            "grid_template_rows": null,
            "height": null,
            "justify_content": null,
            "justify_items": null,
            "left": null,
            "margin": null,
            "max_height": null,
            "max_width": null,
            "min_height": null,
            "min_width": null,
            "object_fit": null,
            "object_position": null,
            "order": null,
            "overflow": null,
            "overflow_x": null,
            "overflow_y": null,
            "padding": null,
            "right": null,
            "top": null,
            "visibility": null,
            "width": null
          }
        },
        "cb43f192088c42bfa4cc307100f182a1": {
          "model_module": "@jupyter-widgets/controls",
          "model_name": "ProgressStyleModel",
          "model_module_version": "1.5.0",
          "state": {
            "_model_module": "@jupyter-widgets/controls",
            "_model_module_version": "1.5.0",
            "_model_name": "ProgressStyleModel",
            "_view_count": null,
            "_view_module": "@jupyter-widgets/base",
            "_view_module_version": "1.2.0",
            "_view_name": "StyleView",
            "bar_color": null,
            "description_width": ""
          }
        },
        "59499837f2cf4d1db75ba9c59505c017": {
          "model_module": "@jupyter-widgets/base",
          "model_name": "LayoutModel",
          "model_module_version": "1.2.0",
          "state": {
            "_model_module": "@jupyter-widgets/base",
            "_model_module_version": "1.2.0",
            "_model_name": "LayoutModel",
            "_view_count": null,
            "_view_module": "@jupyter-widgets/base",
            "_view_module_version": "1.2.0",
            "_view_name": "LayoutView",
            "align_content": null,
            "align_items": null,
            "align_self": null,
            "border": null,
            "bottom": null,
            "display": null,
            "flex": null,
            "flex_flow": null,
            "grid_area": null,
            "grid_auto_columns": null,
            "grid_auto_flow": null,
            "grid_auto_rows": null,
            "grid_column": null,
            "grid_gap": null,
            "grid_row": null,
            "grid_template_areas": null,
            "grid_template_columns": null,
            "grid_template_rows": null,
            "height": null,
            "justify_content": null,
            "justify_items": null,
            "left": null,
            "margin": null,
            "max_height": null,
            "max_width": null,
            "min_height": null,
            "min_width": null,
            "object_fit": null,
            "object_position": null,
            "order": null,
            "overflow": null,
            "overflow_x": null,
            "overflow_y": null,
            "padding": null,
            "right": null,
            "top": null,
            "visibility": null,
            "width": null
          }
        },
        "41d2a2ff5064436ba98fb0f53e592708": {
          "model_module": "@jupyter-widgets/controls",
          "model_name": "DescriptionStyleModel",
          "model_module_version": "1.5.0",
          "state": {
            "_model_module": "@jupyter-widgets/controls",
            "_model_module_version": "1.5.0",
            "_model_name": "DescriptionStyleModel",
            "_view_count": null,
            "_view_module": "@jupyter-widgets/base",
            "_view_module_version": "1.2.0",
            "_view_name": "StyleView",
            "description_width": ""
          }
        }
      }
    }
  },
  "nbformat": 4,
  "nbformat_minor": 0
}