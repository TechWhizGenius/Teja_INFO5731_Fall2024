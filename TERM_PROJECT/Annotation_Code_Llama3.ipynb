{
  "nbformat": 4,
  "nbformat_minor": 0,
  "metadata": {
    "colab": {
      "provenance": [],
      "include_colab_link": true
    },
    "kernelspec": {
      "name": "python3",
      "display_name": "Python 3"
    },
    "language_info": {
      "name": "python"
    }
  },
  "cells": [
    {
      "cell_type": "markdown",
      "metadata": {
        "id": "view-in-github",
        "colab_type": "text"
      },
      "source": [
        "<a href=\"https://colab.research.google.com/github/TechWhizGenius/Teja_INFO5731_Fall2024/blob/main/TERM_PROJECT/Annotation_Code_Llama3.ipynb\" target=\"_parent\"><img src=\"https://colab.research.google.com/assets/colab-badge.svg\" alt=\"Open In Colab\"/></a>"
      ]
    },
    {
      "cell_type": "code",
      "execution_count": null,
      "metadata": {
        "id": "k9-vLZtd9Hum"
      },
      "outputs": [],
      "source": [
        "import pandas as pd\n",
        "import subprocess\n",
        "\n",
        "# Function to check relevance of abstract using Llama3\n",
        "def check_relevance_with_llama3(abstract):\n",
        "    # full prompt to send to Llama3\n",
        "    prompt = f\"\"\"\n",
        "    You are an experienced paper reviewer. Your task is to determine the relevance of academic papers in the context of autonomous driving.\n",
        "    Read it carefully and you need to output '1' if the paper is relevant to autonomous driving or '0' if it is not relevant to autonomous driving.\n",
        "    Your response format should be number 1 or 0.\n",
        "    Abstract: {abstract}\n",
        "    \"\"\"\n",
        "\n",
        "    # Call the Llama3 model using subprocess and get the response\n",
        "    result = subprocess.run(\n",
        "        ['ollama', 'run', 'llama3', prompt],\n",
        "        stdout=subprocess.PIPE, stderr=subprocess.PIPE, text=True\n",
        "    )\n",
        "\n",
        "    return result.stdout\n",
        "\n",
        "df = pd.read_csv('input_dataset.csv')\n",
        "df['Relevance'] = df['Abstract'].apply(check_relevance_with_llama3)\n",
        "df.to_csv('output_dataset.csv', index=False)\n"
      ]
    }
  ]
}